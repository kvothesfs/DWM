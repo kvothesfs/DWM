{
 "cells": [
  {
   "cell_type": "code",
   "execution_count": null,
   "metadata": {},
   "outputs": [],
   "source": [
    "import DWM95_CalculateEntropy\n",
    "def iterateClusters(logFile, epsilon, clusterList, refList, linkIndex):\n",
    "    print('\\n>>Starting DWM90')\n",
    "    print('\\n>>Starting DWM90', file=logFile)\n",
    "    clusterCnt = 0\n",
    "    goodClusterCnt = 0\n",
    "    goodRefsCnt = 0\n",
    "    # cluster is a list to store one cluster\n",
    "    cluster = []\n",
    "    clusterIndexList = []\n",
    "    caboose = ('---','---')\n",
    "    # Add caboose to signal end of list\n",
    "    clusterList.append(caboose)\n",
    "    # Iterate through cluster pairs, but not caboose\n",
    "    for j in range(0,len(clusterList)-1):\n",
    "        currentPair = clusterList[j]\n",
    "        clusterID = currentPair[0]\n",
    "        refID = currentPair[1]\n",
    "        # Extract token string refBody from 3rd position of refList triple\n",
    "        foundItem = list(filter(lambda x:refID in x, refList))\n",
    "        ref = foundItem[0]\n",
    "        clusterIndexList.append(refList.index(ref))\n",
    "        refBody = ref[2]\n",
    "        tokenList = refBody.split()\n",
    "        # Append token string to cluster\n",
    "        cluster.append(tokenList)\n",
    "        nextPair = clusterList[j+1]\n",
    "        currentCID = currentPair[0]\n",
    "        nextCID = nextPair[0]\n",
    "        # Look ahead to see if at end of cluster, if yes, process cluster\n",
    "        if currentCID != nextCID:\n",
    "            clusterCnt +=1\n",
    "            entropy = DWM95_CalculateEntropy.calculateEntropy(epsilon, cluster)\n",
    "            clusterIndexList.sort(reverse=True)\n",
    "            if entropy <= epsilon:\n",
    "                goodClusterCnt +=1\n",
    "                goodRefsCnt +=len(clusterIndexList)\n",
    "                for k in range(0,len(clusterIndexList)):\n",
    "                    indexVal = clusterIndexList[k]\n",
    "                    goodRef = refList[indexVal]\n",
    "                    newTuple = (clusterID, goodRef[1])\n",
    "                    linkIndex.append(newTuple)\n",
    "                    del refList[indexVal]\n",
    "            cluster.clear()\n",
    "            clusterIndexList.clear()\n",
    "    print('Total Clusters Processed =',clusterCnt)\n",
    "    print('Total Clusters Processed =',clusterCnt, file=logFile)\n",
    "    print('Total Good Clusters =',goodClusterCnt,' at epsilon =', epsilon)\n",
    "    print('Total Good Clusters =',goodClusterCnt,' at epsilon =', epsilon, file=logFile)\n",
    "    print('Total References in Good Cluster =', goodRefsCnt)\n",
    "    print('Total References in Good Cluster =', goodRefsCnt, file=logFile)\n",
    "    return"
   ]
  }
 ],
 "metadata": {
  "kernelspec": {
   "display_name": "Python 3",
   "language": "python",
   "name": "python3"
  },
  "language_info": {
   "codemirror_mode": {
    "name": "ipython",
    "version": 3
   },
   "file_extension": ".py",
   "mimetype": "text/x-python",
   "name": "python",
   "nbconvert_exporter": "python",
   "pygments_lexer": "ipython3",
   "version": "3.8.5"
  }
 },
 "nbformat": 4,
 "nbformat_minor": 4
}
