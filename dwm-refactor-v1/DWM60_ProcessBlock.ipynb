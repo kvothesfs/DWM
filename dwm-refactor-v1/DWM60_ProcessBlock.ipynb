{
 "cells": [
  {
   "cell_type": "code",
   "execution_count": 1,
   "metadata": {},
   "outputs": [],
   "source": [
    "import sys\n",
    "from textdistance import Cosine\n",
    "from textdistance import MongeElkan\n",
    "import DWM65_ScoringMatrix\n",
    "def processBlock(comparator, mu, blockCount, block, compareCache):\n",
    "    blockToken = block[0][0]\n",
    "    validComparator = False\n",
    "    if comparator == 'MongeElkan':\n",
    "        Class = MongeElkan()\n",
    "        validComparator = True\n",
    "    if comparator == 'Cosine':\n",
    "        Class = Cosine()\n",
    "        validComparator = True\n",
    "    if comparator == 'ScoringMatrix':\n",
    "        Class = DWM65_ScoringMatrix\n",
    "        DWM65_ScoringMatrix.setMu(mu)\n",
    "        validComparator = True\n",
    "    if not validComparator:\n",
    "        print('**Error: Invalid Comparator Value in Parms File', comparator)\n",
    "        sys.exit()\n",
    "    blockLen = len(block)\n",
    "    for j in range(0, blockLen-1):\n",
    "        jTriple = block[j]\n",
    "        jRecID = jTriple[1]\n",
    "        for k in range(j+1, blockLen):\n",
    "            kTriple = block[k]\n",
    "            kRecID = kTriple[1]\n",
    "            if jRecID > kRecID:\n",
    "                key = kRecID+':'+jRecID\n",
    "            else:\n",
    "                key = jRecID+':'+kRecID\n",
    "            if key not in compareCache:\n",
    "                refJ = jTriple[2]\n",
    "                refJList = refJ.split()\n",
    "                refK = kTriple[2]\n",
    "                refKList = refK.split()\n",
    "                result = Class.normalized_similarity(refJList[:],refKList[:])\n",
    "                #score = pythonMatrix(list1[:], list2[:])\n",
    "                #print('comparing',jTriple[1],' to ', kTriple[1], 'result=', result)\n",
    "                compareCache[key] = result\n",
    "            #else:\n",
    "                #print(key, ' already compared')\n",
    "    return"
   ]
  }
 ],
 "metadata": {
  "kernelspec": {
   "display_name": "Python 3",
   "language": "python",
   "name": "python3"
  },
  "language_info": {
   "codemirror_mode": {
    "name": "ipython",
    "version": 3
   },
   "file_extension": ".py",
   "mimetype": "text/x-python",
   "name": "python",
   "nbconvert_exporter": "python",
   "pygments_lexer": "ipython3",
   "version": "3.8.5"
  }
 },
 "nbformat": 4,
 "nbformat_minor": 4
}
