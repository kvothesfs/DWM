{
 "cells": [
  {
   "cell_type": "code",
   "execution_count": null,
   "metadata": {},
   "outputs": [],
   "source": [
    "from textdistance import DamerauLevenshtein\n",
    "def setMu(value):\n",
    "    global mu\n",
    "    mu = value\n",
    "    return\n",
    "def normalized_similarity(ref1, ref2):\n",
    "    #print(ref1,'***',ref2)\n",
    "    Class = DamerauLevenshtein()\n",
    "    score = 0.0  \n",
    "    if len(ref1)==0 or len(ref2)==0:\n",
    "        return score\n",
    "    stillMore = True\n",
    "    total = 0.0\n",
    "    loops = 0\n",
    "    while stillMore:\n",
    "        len1 = len(ref1)\n",
    "        len2 = len(ref2)\n",
    "        maxVal = 0.0\n",
    "        for j in range(0,len1):\n",
    "            token1 = ref1[j]\n",
    "            for k in range(0,len2):\n",
    "                token2 = ref2[k]\n",
    "                led = Class.normalized_similarity(token1,token2)\n",
    "                if led >= maxVal:\n",
    "                    maxVal = led \n",
    "                    saveJ = j\n",
    "                    saveK = k\n",
    "                if maxVal == 1.00:\n",
    "                    break\n",
    "        #end of nested loops\n",
    "        loops +=1\n",
    "        total = total + maxVal\n",
    "        score = total/loops\n",
    "        global mu\n",
    "        if score < mu:\n",
    "            return score\n",
    "        ref1.pop(saveJ)\n",
    "        ref2.pop(saveK)\n",
    "        if (len(ref1)==0) or (len(ref2)==0):\n",
    "            stillMore = False\n",
    "    #end of while loop\n",
    "    score = total/loops\n",
    "    return score"
   ]
  }
 ],
 "metadata": {
  "kernelspec": {
   "display_name": "Python 3",
   "language": "python",
   "name": "python3"
  },
  "language_info": {
   "codemirror_mode": {
    "name": "ipython",
    "version": 3
   },
   "file_extension": ".py",
   "mimetype": "text/x-python",
   "name": "python",
   "nbconvert_exporter": "python",
   "pygments_lexer": "ipython3",
   "version": "3.8.5"
  }
 },
 "nbformat": 4,
 "nbformat_minor": 4
}
