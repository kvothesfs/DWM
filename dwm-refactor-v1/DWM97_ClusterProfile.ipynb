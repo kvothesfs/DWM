{
 "cells": [
  {
   "cell_type": "code",
   "execution_count": null,
   "metadata": {},
   "outputs": [],
   "source": [
    "def generateProfile(linkIndex):\n",
    "    print('\\n>>Starting DWM97')\n",
    "    profile = {}\n",
    "    caboose = ('X','X')\n",
    "    linkIndex.append(caboose)\n",
    "    clusterSize = 0\n",
    "    for j in range(0,len(linkIndex)-1):\n",
    "        thisPair = linkIndex[j]\n",
    "        thisCID = thisPair[0]\n",
    "        nextPair = linkIndex[j+1]\n",
    "        nextCID = nextPair[0]\n",
    "        clusterSize +=1\n",
    "        if thisCID != nextCID:\n",
    "            if clusterSize not in profile:\n",
    "                profile[clusterSize] = 1\n",
    "            else:\n",
    "                cnt = profile[clusterSize]\n",
    "                cnt +=1\n",
    "                profile[clusterSize] = cnt\n",
    "            clusterSize = 0\n",
    "    return profile"
   ]
  }
 ],
 "metadata": {
  "kernelspec": {
   "display_name": "Python 3",
   "language": "python",
   "name": "python3"
  },
  "language_info": {
   "codemirror_mode": {
    "name": "ipython",
    "version": 3
   },
   "file_extension": ".py",
   "mimetype": "text/x-python",
   "name": "python",
   "nbconvert_exporter": "python",
   "pygments_lexer": "ipython3",
   "version": "3.8.5"
  }
 },
 "nbformat": 4,
 "nbformat_minor": 4
}
