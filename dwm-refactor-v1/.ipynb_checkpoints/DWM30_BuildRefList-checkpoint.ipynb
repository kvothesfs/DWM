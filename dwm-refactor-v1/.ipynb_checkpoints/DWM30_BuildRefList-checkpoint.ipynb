{
 "cells": [
  {
   "cell_type": "code",
   "execution_count": null,
   "metadata": {},
   "outputs": [],
   "source": [
    "def buildRefList(tokenizedFileName):\n",
    "    tokenizedFile = open(tokenizedFileName,'r')\n",
    "    refList = []\n",
    "    line = tokenizedFile.readline()\n",
    "    while line != '':\n",
    "        line = line.strip()\n",
    "        firstBlank = line.find(' ')\n",
    "        refID = line[0:firstBlank]\n",
    "        body = line[firstBlank+1:]\n",
    "        refList.append(('',refID,body))\n",
    "        line = tokenizedFile.readline()\n",
    "    tokenizedFile.close()\n",
    "    return refList"
   ]
  }
 ],
 "metadata": {
  "kernelspec": {
   "display_name": "Python 3",
   "language": "python",
   "name": "python3"
  },
  "language_info": {
   "codemirror_mode": {
    "name": "ipython",
    "version": 3
   },
   "file_extension": ".py",
   "mimetype": "text/x-python",
   "name": "python",
   "nbconvert_exporter": "python",
   "pygments_lexer": "ipython3",
   "version": "3.7.4"
  }
 },
 "nbformat": 4,
 "nbformat_minor": 2
}
