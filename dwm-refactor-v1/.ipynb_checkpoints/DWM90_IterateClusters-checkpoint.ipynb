{
 "cells": [
  {
   "cell_type": "code",
   "execution_count": null,
   "metadata": {},
   "outputs": [],
   "source": [
    "def iterateClusters(clusterList):\n",
    "    clusterCnt = 0\n",
    "    cluster = []\n",
    "    caboose = ('---','---')\n",
    "    clusterList.append(caboose)\n",
    "    for j in range(0,len(clusterList)-1):\n",
    "        currentPair = clusterList[j]\n",
    "        cluster.append(currentPair)\n",
    "        nextPair = clusterList[j+1]\n",
    "        currentCID = currentPair[0]\n",
    "        nextCID = nextPair[0]\n",
    "        if currentCID != nextCID:\n",
    "            clusterCnt +=1\n",
    "            print('Cluster# ',clusterCnt, cluster)\n",
    "            cluster = []\n",
    "    return"
   ]
  }
 ],
 "metadata": {
  "kernelspec": {
   "display_name": "Python 3",
   "language": "python",
   "name": "python3"
  },
  "language_info": {
   "codemirror_mode": {
    "name": "ipython",
    "version": 3
   },
   "file_extension": ".py",
   "mimetype": "text/x-python",
   "name": "python",
   "nbconvert_exporter": "python",
   "pygments_lexer": "ipython3",
   "version": "3.8.5"
  }
 },
 "nbformat": 4,
 "nbformat_minor": 4
}
