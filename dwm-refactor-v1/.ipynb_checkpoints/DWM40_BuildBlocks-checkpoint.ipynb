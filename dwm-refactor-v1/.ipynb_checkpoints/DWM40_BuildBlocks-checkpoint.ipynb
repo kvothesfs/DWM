{
 "cells": [
  {
   "cell_type": "code",
   "execution_count": null,
   "metadata": {},
   "outputs": [],
   "source": [
    "def buildBlocks(refList, parms, tokenFreqDict):\n",
    "    print(\"Starting Build Blocks Function\")\n",
    "    blockList = []\n",
    "    beta = parms['beta']\n",
    "    sigma = parms['sigma']\n",
    "    for triple in refList:\n",
    "        refID = triple[1]\n",
    "        body = triple[2]\n",
    "        tokenList = body.split(' ')\n",
    "        skinnyBody = ''\n",
    "        blockTokenList = []\n",
    "        for token in tokenList:\n",
    "            freq = tokenFreqDict[token]\n",
    "            if freq < sigma:\n",
    "                skinnyBody = skinnyBody + ' ' + token\n",
    "            if freq > 1 and freq < beta:\n",
    "                blockTokenList.append(token)\n",
    "        if len(skinnyBody) > 0 and len(blockTokenList) > 1:\n",
    "            for token in blockTokenList:\n",
    "                blockList.append((token,refID,skinnyBody))\n",
    "    return blockList"
   ]
  }
 ],
 "metadata": {
  "kernelspec": {
   "display_name": "Python 3",
   "language": "python",
   "name": "python3"
  },
  "language_info": {
   "codemirror_mode": {
    "name": "ipython",
    "version": 3
   },
   "file_extension": ".py",
   "mimetype": "text/x-python",
   "name": "python",
   "nbconvert_exporter": "python",
   "pygments_lexer": "ipython3",
   "version": "3.8.5"
  }
 },
 "nbformat": 4,
 "nbformat_minor": 2
}
