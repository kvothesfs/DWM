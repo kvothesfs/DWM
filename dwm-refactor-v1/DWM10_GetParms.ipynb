{
 "cells": [
  {
   "cell_type": "code",
   "execution_count": null,
   "metadata": {},
   "outputs": [],
   "source": [
    "import sys\n",
    "def getParms(parmFileName):\n",
    "    validParmNames = ['inputFileName','delimiter', 'hasHeader', 'tokenizerType', 'removeDuplicateTokens', \\\n",
    "                     'runReplacement', 'minFreqStdToken', 'minLenStdToken', 'maxFreqErrToken', \\\n",
    "                    'mu', 'muIterate', 'beta', 'sigma', 'epsilon', 'epsilonIterate', \\\n",
    "                     'runClusterMetrics', 'createFinalJoin', \\\n",
    "                      'comparator','truthFileName']\n",
    "    parmFile = open(parmFileName,'r')\n",
    "    parms = {}\n",
    "    line = (parmFile.readline()).strip()\n",
    "    while line != '':\n",
    "        if  not line.startswith('#'):\n",
    "            part = line.split('=')\n",
    "            parmName = part[0].strip()\n",
    "            if parmName not in validParmNames:\n",
    "                print('**Error: Invalid Parameter Name in Parm File ',parmName)\n",
    "                sys.exit()\n",
    "            parmValue = part[1].strip()\n",
    "            appended = False\n",
    "            if '.' in parmValue and parmValue[len(parmValue)-1].isdigit():\n",
    "                value = float(parmValue)\n",
    "                parms[parmName]=value\n",
    "                appended = True\n",
    "            if parmValue.isdigit():\n",
    "                value = int(parmValue)\n",
    "                parms[parmName]=value\n",
    "                appended = True\n",
    "            if (parmValue==\"True\"):\n",
    "                value = True\n",
    "                parms[parmName]=value\n",
    "                appended = True\n",
    "            if (parmValue==\"False\"):\n",
    "                value = False\n",
    "                parms[parmName]=value\n",
    "                appended = True\n",
    "            if not appended:\n",
    "                parms[parmName]=parmValue\n",
    "        line = (parmFile.readline()).strip()\n",
    "    return parms"
   ]
  }
 ],
 "metadata": {
  "kernelspec": {
   "display_name": "Python 3",
   "language": "python",
   "name": "python3"
  },
  "language_info": {
   "codemirror_mode": {
    "name": "ipython",
    "version": 3
   },
   "file_extension": ".py",
   "mimetype": "text/x-python",
   "name": "python",
   "nbconvert_exporter": "python",
   "pygments_lexer": "ipython3",
   "version": "3.8.5"
  }
 },
 "nbformat": 4,
 "nbformat_minor": 2
}
