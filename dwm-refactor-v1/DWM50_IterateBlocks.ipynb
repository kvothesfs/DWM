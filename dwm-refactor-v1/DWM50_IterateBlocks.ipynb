{
 "cells": [
  {
   "cell_type": "code",
   "execution_count": 1,
   "metadata": {},
   "outputs": [],
   "source": [
    "import DWM60_ProcessBlock\n",
    "def iterateBlocks(logFile, comparator, mu, blockList):\n",
    "    print('\\n>>Starting DWM50')\n",
    "    print('\\n>>Starting DWM50', file=logFile)\n",
    "    compareCache = {}\n",
    "    block = []\n",
    "    blockCount = 0\n",
    "    blockList.append(('----','RID','BODY'))\n",
    "    for j in range(len(blockList)-1):\n",
    "        block.append(blockList[j])\n",
    "        thisBlockToken = blockList[j][0]\n",
    "        nextBlockToken = blockList[j+1][0]\n",
    "        if thisBlockToken != nextBlockToken:\n",
    "            blockCount +=1\n",
    "            DWM60_ProcessBlock.processBlock(comparator, mu, blockCount, block, compareCache)\n",
    "            block.clear()\n",
    "    print('Total Blocks Processed =',blockCount)\n",
    "    print('Total Blocks Processed =',blockCount, file=logFile)\n",
    "    print('Total Pairs in Compare Cache =', len(compareCache))\n",
    "    print('Total Pairs in Compare Cache =', len(compareCache), file=logFile)\n",
    "    return compareCache"
   ]
  }
 ],
 "metadata": {
  "kernelspec": {
   "display_name": "Python 3",
   "language": "python",
   "name": "python3"
  },
  "language_info": {
   "codemirror_mode": {
    "name": "ipython",
    "version": 3
   },
   "file_extension": ".py",
   "mimetype": "text/x-python",
   "name": "python",
   "nbconvert_exporter": "python",
   "pygments_lexer": "ipython3",
   "version": "3.8.5"
  }
 },
 "nbformat": 4,
 "nbformat_minor": 2
}
