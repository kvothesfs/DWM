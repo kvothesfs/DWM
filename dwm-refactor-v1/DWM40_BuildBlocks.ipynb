{
 "cells": [
  {
   "cell_type": "code",
   "execution_count": null,
   "metadata": {},
   "outputs": [],
   "source": [
    "def buildBlocks(logFile, refList, parms, tokenFreqDict):\n",
    "    print('\\n>>Starting DWM40')\n",
    "    print('\\n>>Starting DWM40', file=logFile)\n",
    "    blockList = []\n",
    "    stopCnt = 0\n",
    "    beta = parms['beta']\n",
    "    print('beta =',beta)\n",
    "    print('beta =',beta, file=logFile)\n",
    "    sigma = parms['sigma']\n",
    "    print('sigma =',sigma)\n",
    "    print('sigma =',sigma, file=logFile)\n",
    "    for triple in refList:\n",
    "        refID = triple[1]\n",
    "        body = triple[2]\n",
    "        tokenList = body.split(' ')\n",
    "        skinnyBody = ''\n",
    "        blockTokenList = []\n",
    "        for token in tokenList:\n",
    "            freq = tokenFreqDict[token]\n",
    "            if freq <= sigma:\n",
    "                skinnyBody = skinnyBody + ' ' + token\n",
    "            else:\n",
    "                stopCnt +=1\n",
    "            if freq > 1 and freq <= beta:\n",
    "                blockTokenList.append(token)\n",
    "        if len(skinnyBody) > 0 and len(blockTokenList) > 0:\n",
    "            for token in blockTokenList:\n",
    "                blockList.append((token,refID,skinnyBody))\n",
    "    print('Stop Words excluded=',stopCnt)\n",
    "    print('Stop Words excluded=',stopCnt, file=logFile)\n",
    "    print('Total Blocking Records Created', len(blockList))\n",
    "    print('Total Blocking Records Created', len(blockList), file=logFile)\n",
    "    return blockList"
   ]
  }
 ],
 "metadata": {
  "kernelspec": {
   "display_name": "Python 3",
   "language": "python",
   "name": "python3"
  },
  "language_info": {
   "codemirror_mode": {
    "name": "ipython",
    "version": 3
   },
   "file_extension": ".py",
   "mimetype": "text/x-python",
   "name": "python",
   "nbconvert_exporter": "python",
   "pygments_lexer": "ipython3",
   "version": "3.8.5"
  }
 },
 "nbformat": 4,
 "nbformat_minor": 2
}
