{
 "cells": [
  {
   "cell_type": "code",
   "execution_count": null,
   "metadata": {},
   "outputs": [],
   "source": [
    "import math\n",
    "def calculateEntropy(epsilon, cluster):\n",
    "    #print('Cluster')\n",
    "    entropy = 0.0\n",
    "    clusterSize = len(cluster)\n",
    "    #print('cluster size =', clusterSize)\n",
    "    for j in range(0, len(cluster)-1):\n",
    "        jList = cluster[j]\n",
    "        #print('j=',j,'jList=', jList)\n",
    "        for token in jList:\n",
    "            cnt = 1\n",
    "            #print('token=', token, 'cnt=', cnt)\n",
    "            for k in range(j+1,len(cluster)):\n",
    "                #print('k=',k)\n",
    "                if token in cluster[k]:\n",
    "                    cnt +=1\n",
    "                    cluster[k].remove(token)\n",
    "                    #print('token found in ',k, cluster[k])\n",
    "            tokenProb = cnt/clusterSize\n",
    "            term = -tokenProb*math.log(tokenProb,2)\n",
    "            entropy +=term\n",
    "            if entropy > epsilon:\n",
    "                #print('quit early')\n",
    "                return entropy\n",
    "            #print('**token=',token,'tokenProb=',tokenProb,' term=', term, 'entropy=', entropy)\n",
    "            cnt = 0\n",
    "    # Finish up for any tokens left in the last reference of the cluster\n",
    "    for token in cluster[clusterSize-1]:\n",
    "        tokenProb = 1.0/clusterSize\n",
    "        term = -tokenProb*math.log(tokenProb,2)\n",
    "        entropy +=term\n",
    "        if entropy > epsilon:\n",
    "            #print('quit early')\n",
    "            return entropy\n",
    "        #print('last row token=', token, 'tokenProb=',tokenProb,' term=', term, 'entropy=', entropy)\n",
    "    return entropy"
   ]
  }
 ],
 "metadata": {
  "kernelspec": {
   "display_name": "Python 3",
   "language": "python",
   "name": "python3"
  },
  "language_info": {
   "codemirror_mode": {
    "name": "ipython",
    "version": 3
   },
   "file_extension": ".py",
   "mimetype": "text/x-python",
   "name": "python",
   "nbconvert_exporter": "python",
   "pygments_lexer": "ipython3",
   "version": "3.8.5"
  }
 },
 "nbformat": 4,
 "nbformat_minor": 4
}
