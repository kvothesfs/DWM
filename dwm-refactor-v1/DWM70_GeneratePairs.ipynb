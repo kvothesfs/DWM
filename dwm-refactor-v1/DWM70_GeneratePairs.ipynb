{
 "cells": [
  {
   "cell_type": "code",
   "execution_count": null,
   "metadata": {},
   "outputs": [],
   "source": [
    "def generatePairs(logFile, mu, compareCache):\n",
    "    print('\\n>>Starting DWM70')\n",
    "    print('\\n>>Starting DWM70', file=logFile)\n",
    "    pairList= []\n",
    "    for key in compareCache:\n",
    "        similarity = compareCache[key]\n",
    "        if similarity >= mu:\n",
    "            part = key.split(':')\n",
    "            refID1 = part[0]\n",
    "            refID2 =part[1]\n",
    "            pairList.append((refID1, refID2))\n",
    "    print('Total Pairs Linked =',len(pairList),' at mu=',mu)\n",
    "    print('Total Pairs Linked =',len(pairList),' at mu=',mu, file=logFile)\n",
    "    return pairList\n",
    "    "
   ]
  }
 ],
 "metadata": {
  "kernelspec": {
   "display_name": "Python 3",
   "language": "python",
   "name": "python3"
  },
  "language_info": {
   "codemirror_mode": {
    "name": "ipython",
    "version": 3
   },
   "file_extension": ".py",
   "mimetype": "text/x-python",
   "name": "python",
   "nbconvert_exporter": "python",
   "pygments_lexer": "ipython3",
   "version": "3.8.5"
  }
 },
 "nbformat": 4,
 "nbformat_minor": 4
}
