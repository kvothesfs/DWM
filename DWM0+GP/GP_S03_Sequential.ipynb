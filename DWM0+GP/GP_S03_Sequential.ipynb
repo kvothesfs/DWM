{
 "cells": [
  {
   "cell_type": "code",
   "execution_count": 1,
   "metadata": {
    "ExecuteTime": {
     "end_time": "2020-09-03T21:59:20.041891Z",
     "start_time": "2020-09-03T21:59:10.621897Z"
    }
   },
   "outputs": [
    {
     "name": "stdout",
     "output_type": "stream",
     "text": [
      "Tokenizing References\n",
      "Total References= 868\n",
      "Total Tokens Found = 11157\n",
      "Total Tokens Output = 10861\n",
      "Dictionary Load = 67077\n",
      "<class 'dict'>\n",
      "Global Replace Cycle\n",
      "Total References= 868\n",
      "Total Tokens= 10861\n",
      "Unique Tokens= 2908\n",
      "Minimum Frequency of Standard Token =  5\n",
      "Minimum Length of Standard Token =  5\n",
      "Maximum Frequency of Error Token =  3\n",
      "References Processed= 868\n",
      "Sorted Token Size = 2908\n",
      "Clean Token Size = 983\n",
      "*Stop Replacements here\n",
      "References Processed =  868\n",
      "Total Replacement Pairs = 7\n",
      "Tokens Read = 10861\n",
      "Tokens Changed =  9\n",
      "References Changed = 9\n"
     ]
    }
   ],
   "source": [
    "import DWM1_Tokenizer\n",
    "import DWM2_Global_Token_Replace_NewDict\n",
    "import DWM3_Entropy_Cluster\n",
    "# Settings for Tokenizer\n",
    "inputSampleName = r'S3'\n",
    "delimiter=','\n",
    "hasHeader = True\n",
    "tokenizerType = 'Splitter'\n",
    "removeDuplicateTokens = True\n",
    "\n",
    "# Setting for global replacement DWM2\n",
    "runReplacement = True\n",
    "minFreqStdToken = 5\n",
    "minLenStdToken = 5 #From 3 to 5 as in paper\n",
    "maxFreqErrToken = 3\n",
    "\n",
    "# Cluster Settings\n",
    "\n",
    "\n",
    "DWM1_Tokenizer.tokenizeCycle(inputSampleName, delimiter, hasHeader, removeDuplicateTokens, tokenizerType)\n",
    "prefixString = inputSampleName +','+tokenizerType+','+str(removeDuplicateTokens)\n",
    "fileToCluster = inputSampleName + '-Tokenized.txt'\n",
    "if runReplacement:\n",
    "    DWM2_Global_Token_Replace_NewDict.globalReplace(inputSampleName, minFreqStdToken, minLenStdToken, maxFreqErrToken)\n",
    "    fileToCluster = inputSampleName + '-TokenReplace.txt'\n",
    "    prefixString = prefixString+','+str(minFreqStdToken)+','+str(minLenStdToken)+','+str(maxFreqErrToken)\n",
    "else:\n",
    "    prefixString = prefixString+',0,0,0'\n",
    "\n",
    "# Cluster fixed settings\n",
    "epsilonIterate = 0.0\n",
    "runClusterMetrics = False\n",
    "runFinalMetrics = True\n",
    "createFinalJoin = False"
   ]
  },
  {
   "cell_type": "code",
   "execution_count": 2,
   "metadata": {},
   "outputs": [],
   "source": [
    "status=\"done\""
   ]
  },
  {
   "cell_type": "code",
   "execution_count": 3,
   "metadata": {},
   "outputs": [
    {
     "name": "stdout",
     "output_type": "stream",
     "text": [
      "done\n"
     ]
    }
   ],
   "source": [
    "print(status)"
   ]
  },
  {
   "cell_type": "code",
   "execution_count": 4,
   "metadata": {
    "ExecuteTime": {
     "end_time": "2020-09-03T15:11:39.765508Z",
     "start_time": "2020-09-03T15:03:19.495876Z"
    },
    "scrolled": false
   },
   "outputs": [],
   "source": [
    "# # Cluster Robot Settings\n",
    "# muStart = 0.60\n",
    "# muEnd = 0.60\n",
    "# muIncr = 0.05\n",
    "# betaStart = 14\n",
    "# betaEnd = 14\n",
    "# betaIncr = 1\n",
    "# sigmaStart = 145\n",
    "# sigmaEnd = 145\n",
    "# sigmaIncr = 1\n",
    "# epsilonStart = 35\n",
    "# epsilonEnd = 35\n",
    "# epsilonIncr = 1\n",
    "# mu = muStart\n",
    "# while mu <= muEnd:\n",
    "#     beta = betaStart\n",
    "#     while beta <= betaEnd:\n",
    "#         sigma = sigmaStart\n",
    "#         while sigma <= sigmaEnd:\n",
    "#             epsilon = epsilonStart\n",
    "#             while epsilon <= epsilonEnd:\n",
    "#                 suffixString =','+str(epsilon)+','+str(epsilonIterate)\n",
    "#                 resultsList = DWM3_Entropy_Cluster.driver(fileToCluster, beta, sigma, mu, muIncr,epsilon,  \\\n",
    "#                                                      epsilonIterate,runClusterMetrics, runFinalMetrics, createFinalJoin, hasHeader)\n",
    "#                 seg0a = ','+str(resultsList[0])+','+str(resultsList[1])+','+str(resultsList[2])+','+str(resultsList[3])\n",
    "#                 seg0b =','+str(resultsList[4])+','+str(resultsList[5])+','+str(resultsList[6])\n",
    "#                 seg1 = ','+str(beta)+','+str(sigma)+','+str(mu)+ ',' +str(muIncr)\n",
    "#                 seg2 = ','+str(resultsList[7])+','+str(resultsList[8])+','+str(resultsList[9])\n",
    "#                 outString = prefixString+seg0a+seg0b+suffixString+seg1+seg2+'\\n'\n",
    "#                 resultsFile = open('RobotResults.txt','a+')\n",
    "#                 resultsFile.write(outString)\n",
    "#                 resultsFile.close()\n",
    "#                 epsilon = epsilon + epsilonIncr\n",
    "#             sigma = sigma + sigmaIncr\n",
    "#         beta = beta + betaIncr\n",
    "#     mu = mu + muIncr\n",
    "\n",
    "\n",
    " "
   ]
  },
  {
   "cell_type": "markdown",
   "metadata": {
    "ExecuteTime": {
     "end_time": "2020-09-03T16:36:26.229783Z",
     "start_time": "2020-09-03T16:36:26.227755Z"
    }
   },
   "source": [
    "## Bayesian Optimization of Hyperparameters"
   ]
  },
  {
   "cell_type": "code",
   "execution_count": 4,
   "metadata": {},
   "outputs": [],
   "source": [
    "import numpy as np"
   ]
  },
  {
   "cell_type": "markdown",
   "metadata": {
    "ExecuteTime": {
     "end_time": "2020-09-03T16:36:47.947518Z",
     "start_time": "2020-09-03T16:36:47.944251Z"
    }
   },
   "source": [
    "Create a function of the parameters that returns the F score"
   ]
  },
  {
   "cell_type": "code",
   "execution_count": 5,
   "metadata": {
    "ExecuteTime": {
     "end_time": "2020-09-03T21:59:42.561300Z",
     "start_time": "2020-09-03T21:59:42.557193Z"
    }
   },
   "outputs": [],
   "source": [
    "def entropy_F1(beta=14,sigma=145,mu=0.6,muIncr=0.05,epsilon=35,epsilonIterate=0):\n",
    "    resultsList = DWM3_Entropy_Cluster.driver(fileToCluster, \n",
    "                                  beta, \n",
    "                                  sigma, \n",
    "                                  mu, \n",
    "                                  muIncr,\n",
    "                                  epsilon,\n",
    "                                  epsilonIterate,\n",
    "                                  runClusterMetrics, \n",
    "                                  runFinalMetrics, \n",
    "                                  createFinalJoin, \n",
    "                                  hasHeader)\n",
    "    return resultsList[9]"
   ]
  },
  {
   "cell_type": "code",
   "execution_count": 6,
   "metadata": {
    "ExecuteTime": {
     "end_time": "2020-09-03T22:06:32.164588Z",
     "start_time": "2020-09-03T21:59:43.696518Z"
    }
   },
   "outputs": [
    {
     "name": "stdout",
     "output_type": "stream",
     "text": [
      "\n",
      ">>>>>>>>>>>>\n",
      "Starting Iteration mu= 0.5\n",
      "Starting Iteration epsilon= 4.0\n",
      "Running NewMatrix Jar!\n",
      " Single-Reference Blocks = 1\n",
      "\n",
      " Multi-Reference Blocks = 1018\n",
      "NewMatrix Iterateblocks Total Time = 0.6870285347104073\n",
      "\n",
      "\n",
      ">>>>>>>>>>>>\n",
      "Starting Iteration mu= 0.6\n",
      "Starting Iteration epsilon= 4.0\n",
      "Running NewMatrix Jar!\n",
      " Single-Reference Blocks = 1\n",
      "\n",
      " Multi-Reference Blocks = 618\n",
      "NewMatrix Iterateblocks Total Time = 0.5603481493890285\n",
      "\n",
      "\n",
      ">>>>>>>>>>>>\n",
      "Starting Iteration mu= 0.7\n",
      "Starting Iteration epsilon= 4.0\n",
      "Running NewMatrix Jar!\n",
      " Single-Reference Blocks = 1\n",
      "\n",
      " Multi-Reference Blocks = 313\n",
      "NewMatrix Iterateblocks Total Time = 0.4134409138932824\n",
      "\n",
      "\n",
      ">>>>>>>>>>>>\n",
      "Starting Iteration mu= 0.7999999999999999\n",
      "Starting Iteration epsilon= 4.0\n",
      "Running NewMatrix Jar!\n",
      " Single-Reference Blocks = 1\n",
      "\n",
      " Multi-Reference Blocks = 162\n",
      "NewMatrix Iterateblocks Total Time = 0.2927958592772484\n",
      "\n",
      "\n",
      ">>>>>>>>>>>>\n",
      "Starting Iteration mu= 0.8999999999999999\n",
      "Starting Iteration epsilon= 4.0\n",
      "Running NewMatrix Jar!\n",
      " Single-Reference Blocks = 1\n",
      "\n",
      " Multi-Reference Blocks = 87\n",
      "NewMatrix Iterateblocks Total Time = 0.2257107961922884\n",
      "\n",
      "Precision = TP / (TP + FP) ......................... = 0.93577982\n",
      "Recall = TP / (TP + FN) ............................ = 0.91891892\n",
      "F-Measure .......................................... = 0.92727273\n"
     ]
    },
    {
     "data": {
      "text/plain": [
       "0.92727273"
      ]
     },
     "execution_count": 6,
     "metadata": {},
     "output_type": "execute_result"
    }
   ],
   "source": [
    "entropy_F1(mu=0.5,muIncr=0.1,beta=9,sigma=95,epsilon=4.0,epsilonIterate=0)"
   ]
  },
  {
   "cell_type": "markdown",
   "metadata": {},
   "source": [
    "Create functions for variable transformation."
   ]
  },
  {
   "cell_type": "code",
   "execution_count": 7,
   "metadata": {
    "ExecuteTime": {
     "end_time": "2020-09-03T22:08:18.856511Z",
     "start_time": "2020-09-03T22:08:18.853611Z"
    }
   },
   "outputs": [],
   "source": [
    "#Softplus to transform real domain into positive\n",
    "def softplus(x):\n",
    "    return np.log(1+np.exp(x))\n",
    "\n",
    "def inv_softplus(x):\n",
    "    return np.log(np.exp(x)-1)"
   ]
  },
  {
   "cell_type": "code",
   "execution_count": 8,
   "metadata": {
    "ExecuteTime": {
     "end_time": "2020-09-03T22:08:27.349548Z",
     "start_time": "2020-09-03T22:08:27.345752Z"
    }
   },
   "outputs": [
    {
     "data": {
      "text/plain": [
       "0.541324854612918"
      ]
     },
     "execution_count": 8,
     "metadata": {},
     "output_type": "execute_result"
    }
   ],
   "source": [
    "inv_softplus(1)"
   ]
  },
  {
   "cell_type": "code",
   "execution_count": 9,
   "metadata": {
    "ExecuteTime": {
     "end_time": "2020-09-03T22:11:24.939913Z",
     "start_time": "2020-09-03T22:11:24.936639Z"
    }
   },
   "outputs": [],
   "source": [
    "#Logit to transform real domain into 0-1\n",
    "def logit(x):    \n",
    "    return np.log(x+1e-54)-np.log(1-x+1e-54)\n",
    "\n",
    "def inv_logit(x):\n",
    "    res=np.exp(x)/(np.exp(x)+1)-2*1e-54\n",
    "    if res<1e-54:\n",
    "        res=0\n",
    "    return res"
   ]
  },
  {
   "cell_type": "markdown",
   "metadata": {},
   "source": [
    "Import BO library:"
   ]
  },
  {
   "cell_type": "code",
   "execution_count": 10,
   "metadata": {
    "ExecuteTime": {
     "end_time": "2020-09-03T22:08:30.622144Z",
     "start_time": "2020-09-03T22:08:30.226842Z"
    }
   },
   "outputs": [],
   "source": [
    "from bayes_opt import BayesianOptimization"
   ]
  },
  {
   "cell_type": "markdown",
   "metadata": {
    "ExecuteTime": {
     "end_time": "2020-09-03T18:14:39.927785Z",
     "start_time": "2020-09-03T18:14:39.924909Z"
    }
   },
   "source": [
    "Create dictionary bounds for the parameters:"
   ]
  },
  {
   "cell_type": "code",
   "execution_count": 11,
   "metadata": {},
   "outputs": [],
   "source": [
    "import os, sys"
   ]
  },
  {
   "cell_type": "code",
   "execution_count": 12,
   "metadata": {},
   "outputs": [],
   "source": [
    "class HiddenPrints:\n",
    "    def __enter__(self):\n",
    "        self._original_stdout = sys.stdout\n",
    "        sys.stdout = open(os.devnull, 'w')\n",
    "\n",
    "    def __exit__(self, exc_type, exc_val, exc_tb):\n",
    "        sys.stdout.close()\n",
    "        sys.stdout = self._original_stdout"
   ]
  },
  {
   "cell_type": "code",
   "execution_count": 13,
   "metadata": {},
   "outputs": [
    {
     "name": "stdout",
     "output_type": "stream",
     "text": [
      "This will be printed as before\n"
     ]
    }
   ],
   "source": [
    "with HiddenPrints():\n",
    "    print(\"This will not be printed\")\n",
    "\n",
    "print(\"This will be printed as before\")"
   ]
  },
  {
   "cell_type": "code",
   "execution_count": 14,
   "metadata": {
    "ExecuteTime": {
     "end_time": "2020-09-03T22:11:53.005154Z",
     "start_time": "2020-09-03T22:11:53.000238Z"
    }
   },
   "outputs": [],
   "source": [
    "#Take parameters in transformed space and return f score in transformed space\n",
    "def entropy_F1_trx(beta_sp,sigma_sp,mu_logit,muIncr_logit,epsilon_sp,epsilonIterate_logit=logit(0)):\n",
    "    beta_pos=int(softplus(beta_sp))\n",
    "    sigma_pos=int(softplus(sigma_sp))\n",
    "    mu_01=inv_logit(mu_logit)\n",
    "    muIncr_01=inv_logit(muIncr_logit)\n",
    "    epsilon_pos=softplus(epsilon_sp)\n",
    "    epsilonIterate_01=inv_logit(epsilonIterate_logit)\n",
    "    \n",
    "    print(\"Mu:%.2f|Mu+:%.2f|Beta:%.2f|Sigma:%.2f|Epsilon:%.2f|EpIter:%.2f\" % (mu_01, muIncr_01, beta_pos, sigma_pos, epsilon_pos, epsilonIterate_01))\n",
    "    \n",
    "    with HiddenPrints():\n",
    "        f1=entropy_F1(beta=beta_pos,\n",
    "                      epsilon=epsilon_pos,\n",
    "                      epsilonIterate=epsilonIterate_01,\n",
    "                      muIncr=muIncr_01,\n",
    "                      sigma=sigma_pos,\n",
    "                      mu=mu_01)\n",
    "    \n",
    "    return logit(f1)"
   ]
  },
  {
   "cell_type": "code",
   "execution_count": 17,
   "metadata": {},
   "outputs": [
    {
     "name": "stdout",
     "output_type": "stream",
     "text": [
      "Mu:0.50|Mu+:0.05|Beta:33.00|Sigma:449.00|Epsilon:31.80|EpIter:0.00\n"
     ]
    },
    {
     "data": {
      "text/plain": [
       "-1.76332880889149"
      ]
     },
     "execution_count": 17,
     "metadata": {},
     "output_type": "execute_result"
    }
   ],
   "source": [
    "entropy_F1_trx(beta_sp=inv_softplus(33),\n",
    "               sigma_sp=inv_softplus(449),\n",
    "               mu_logit=logit(0.5),\n",
    "               muIncr_logit=logit(0.05),\n",
    "               epsilon_sp=inv_softplus(31.8))"
   ]
  },
  {
   "cell_type": "code",
   "execution_count": 15,
   "metadata": {},
   "outputs": [],
   "source": [
    "optimizer=None"
   ]
  },
  {
   "cell_type": "code",
   "execution_count": 16,
   "metadata": {
    "ExecuteTime": {
     "end_time": "2020-09-03T22:11:50.787503Z",
     "start_time": "2020-09-03T22:11:50.784060Z"
    }
   },
   "outputs": [],
   "source": [
    "pbounds = {'beta_sp': (inv_softplus(1), inv_softplus(700)), \n",
    "           'sigma_sp': (inv_softplus(1), inv_softplus(700)),\n",
    "           'mu_logit': (logit(0.5), logit(0.99)),\n",
    "           'muIncr_logit': (logit(0.01), logit(0.2)),\n",
    "           'epsilon_sp': (inv_softplus(1), inv_softplus(700))}#,\n",
    "           #'epsilonIterate_logit': (logit(0), logit(0.25))}"
   ]
  },
  {
   "cell_type": "code",
   "execution_count": 17,
   "metadata": {},
   "outputs": [],
   "source": [
    "from bayes_opt import SequentialDomainReductionTransformer"
   ]
  },
  {
   "cell_type": "code",
   "execution_count": 18,
   "metadata": {},
   "outputs": [],
   "source": [
    "bounds_transformer = SequentialDomainReductionTransformer()"
   ]
  },
  {
   "cell_type": "code",
   "execution_count": 19,
   "metadata": {
    "ExecuteTime": {
     "end_time": "2020-09-03T22:11:56.728829Z",
     "start_time": "2020-09-03T22:11:56.725599Z"
    }
   },
   "outputs": [],
   "source": [
    "optimizer = BayesianOptimization(\n",
    "    f=entropy_F1_trx,\n",
    "    pbounds=pbounds,\n",
    "    random_state=1,\n",
    "    bounds_transformer=bounds_transformer\n",
    ")"
   ]
  },
  {
   "cell_type": "code",
   "execution_count": 20,
   "metadata": {},
   "outputs": [],
   "source": [
    "# optimizer.probe(\n",
    "#     params={\"beta_sp\": inv_softplus(9), \n",
    "#             \"sigma_sp\": inv_softplus(95),\n",
    "#             \"mu_logit\":logit(0.5),\n",
    "#             #'epsilonIterate_logit': logit(0),\n",
    "#             \"muIncr_logit\":logit(0.1),\n",
    "#             \"epsilon_sp\":inv_softplus(4.0)},\n",
    "#     lazy=True,\n",
    "# )"
   ]
  },
  {
   "cell_type": "code",
   "execution_count": 21,
   "metadata": {
    "ExecuteTime": {
     "end_time": "2020-09-03T22:54:10.009085Z",
     "start_time": "2020-09-03T22:11:58.063246Z"
    }
   },
   "outputs": [
    {
     "name": "stdout",
     "output_type": "stream",
     "text": [
      "|   iter    |  target   |  beta_sp  | epsilo... | muIncr... | mu_logit  | sigma_sp  |\n",
      "-------------------------------------------------------------------------------------\n",
      "Mu:0.80|Mu+:0.01|Beta:292.00|Sigma:103.00|Epsilon:504.38|EpIter:0.00\n",
      "| \u001b[0m 1       \u001b[0m | \u001b[0m 1.396   \u001b[0m | \u001b[0m 292.2   \u001b[0m | \u001b[0m 504.4   \u001b[0m | \u001b[0m-4.595   \u001b[0m | \u001b[0m 1.389   \u001b[0m | \u001b[0m 103.2   \u001b[0m |\n",
      "Mu:0.86|Mu+:0.03|Beta:65.00|Sigma:377.00|Epsilon:130.82|EpIter:0.00\n",
      "| \u001b[95m 2       \u001b[0m | \u001b[95m 1.759   \u001b[0m | \u001b[95m 65.13   \u001b[0m | \u001b[95m 130.8   \u001b[0m | \u001b[95m-3.486   \u001b[0m | \u001b[95m 1.823   \u001b[0m | \u001b[95m 377.4   \u001b[0m |\n",
      "Mu:0.98|Mu+:0.02|Beta:293.00|Sigma:19.00|Epsilon:479.82|EpIter:0.00\n",
      "| \u001b[0m 3       \u001b[0m | \u001b[0m 0.9424  \u001b[0m | \u001b[0m 293.8   \u001b[0m | \u001b[0m 479.8   \u001b[0m | \u001b[0m-3.939   \u001b[0m | \u001b[0m 4.035   \u001b[0m | \u001b[0m 19.7    \u001b[0m |\n",
      "Mu:0.66|Mu+:0.06|Beta:469.00|Sigma:139.00|Epsilon:292.43|EpIter:0.00\n",
      "| \u001b[0m 4       \u001b[0m | \u001b[0m-1.438   \u001b[0m | \u001b[0m 469.5   \u001b[0m | \u001b[0m 292.4   \u001b[0m | \u001b[0m-2.802   \u001b[0m | \u001b[0m 0.6451  \u001b[0m | \u001b[0m 139.1   \u001b[0m |\n",
      "Mu:0.96|Mu+:0.03|Beta:560.00|Sigma:613.00|Epsilon:677.80|EpIter:0.00\n",
      "| \u001b[0m 5       \u001b[0m | \u001b[0m 0.5878  \u001b[0m | \u001b[0m 560.6   \u001b[0m | \u001b[0m 677.8   \u001b[0m | \u001b[0m-3.589   \u001b[0m | \u001b[0m 3.181   \u001b[0m | \u001b[0m 613.5   \u001b[0m |\n",
      "Mu:0.69|Mu+:0.01|Beta:626.00|Sigma:614.00|Epsilon:60.03|EpIter:0.00\n",
      "| \u001b[0m 6       \u001b[0m | \u001b[0m-3.513   \u001b[0m | \u001b[0m 626.3   \u001b[0m | \u001b[0m 60.03   \u001b[0m | \u001b[0m-4.47    \u001b[0m | \u001b[0m 0.7804  \u001b[0m | \u001b[0m 614.8   \u001b[0m |\n",
      "Mu:0.92|Mu+:0.18|Beta:69.00|Sigma:484.00|Epsilon:295.09|EpIter:0.00\n",
      "| \u001b[0m 7       \u001b[0m | \u001b[0m 1.077   \u001b[0m | \u001b[0m 69.33   \u001b[0m | \u001b[0m 295.1   \u001b[0m | \u001b[0m-1.521   \u001b[0m | \u001b[0m 2.45    \u001b[0m | \u001b[0m 484.5   \u001b[0m |\n",
      "Mu:0.52|Mu+:0.13|Beta:221.00|Sigma:525.00|Epsilon:480.72|EpIter:0.00\n",
      "| \u001b[0m 8       \u001b[0m | \u001b[0m-7.19    \u001b[0m | \u001b[0m 221.2   \u001b[0m | \u001b[0m 480.7   \u001b[0m | \u001b[0m-1.917   \u001b[0m | \u001b[0m 0.08404 \u001b[0m | \u001b[0m 525.2   \u001b[0m |\n",
      "Mu:0.97|Mu+:0.02|Beta:692.00|Sigma:72.00|Epsilon:523.85|EpIter:0.00\n",
      "| \u001b[0m 9       \u001b[0m | \u001b[0m 0.8313  \u001b[0m | \u001b[0m 692.2   \u001b[0m | \u001b[0m 523.9   \u001b[0m | \u001b[0m-3.695   \u001b[0m | \u001b[0m 3.627   \u001b[0m | \u001b[0m 72.74   \u001b[0m |\n",
      "Mu:0.79|Mu+:0.03|Beta:313.00|Sigma:91.00|Epsilon:636.07|EpIter:0.00\n",
      "| \u001b[0m 10      \u001b[0m | \u001b[0m 0.9904  \u001b[0m | \u001b[0m 313.8   \u001b[0m | \u001b[0m 636.1   \u001b[0m | \u001b[0m-3.653   \u001b[0m | \u001b[0m 1.322   \u001b[0m | \u001b[0m 91.49   \u001b[0m |\n",
      "Mu:0.86|Mu+:0.04|Beta:61.00|Sigma:387.00|Epsilon:134.36|EpIter:0.00\n",
      "| \u001b[95m 11      \u001b[0m | \u001b[95m 1.781   \u001b[0m | \u001b[95m 61.66   \u001b[0m | \u001b[95m 134.4   \u001b[0m | \u001b[95m-3.117   \u001b[0m | \u001b[95m 1.836   \u001b[0m | \u001b[95m 387.2   \u001b[0m |\n",
      "Mu:0.83|Mu+:0.04|Beta:5.00|Sigma:461.00|Epsilon:178.83|EpIter:0.00\n",
      "| \u001b[95m 12      \u001b[0m | \u001b[95m 2.048   \u001b[0m | \u001b[95m 5.226   \u001b[0m | \u001b[95m 178.8   \u001b[0m | \u001b[95m-3.283   \u001b[0m | \u001b[95m 1.569   \u001b[0m | \u001b[95m 461.4   \u001b[0m |\n",
      "Mu:0.78|Mu+:0.04|Beta:7.00|Sigma:464.00|Epsilon:176.75|EpIter:0.00\n",
      "| \u001b[0m 13      \u001b[0m | \u001b[0m 1.585   \u001b[0m | \u001b[0m 7.96    \u001b[0m | \u001b[0m 176.7   \u001b[0m | \u001b[0m-3.105   \u001b[0m | \u001b[0m 1.287   \u001b[0m | \u001b[0m 464.4   \u001b[0m |\n",
      "Mu:0.89|Mu+:0.04|Beta:83.00|Sigma:521.00|Epsilon:122.33|EpIter:0.00\n",
      "| \u001b[0m 14      \u001b[0m | \u001b[0m 1.627   \u001b[0m | \u001b[0m 83.33   \u001b[0m | \u001b[0m 122.3   \u001b[0m | \u001b[0m-3.085   \u001b[0m | \u001b[0m 2.053   \u001b[0m | \u001b[0m 521.8   \u001b[0m |\n",
      "Mu:0.76|Mu+:0.03|Beta:75.00|Sigma:407.00|Epsilon:229.68|EpIter:0.00\n",
      "| \u001b[0m 15      \u001b[0m | \u001b[0m 0.7538  \u001b[0m | \u001b[0m 75.52   \u001b[0m | \u001b[0m 229.7   \u001b[0m | \u001b[0m-3.495   \u001b[0m | \u001b[0m 1.134   \u001b[0m | \u001b[0m 407.0   \u001b[0m |\n",
      "Mu:0.76|Mu+:0.03|Beta:1.00|Sigma:510.00|Epsilon:133.06|EpIter:0.00\n",
      "| \u001b[0m 16      \u001b[0m | \u001b[0m-124.3   \u001b[0m | \u001b[0m 0.5413  \u001b[0m | \u001b[0m 133.1   \u001b[0m | \u001b[0m-3.474   \u001b[0m | \u001b[0m 1.178   \u001b[0m | \u001b[0m 510.3   \u001b[0m |\n",
      "Mu:0.81|Mu+:0.04|Beta:6.00|Sigma:461.00|Epsilon:179.08|EpIter:0.00\n",
      "| \u001b[0m 17      \u001b[0m | \u001b[0m 1.792   \u001b[0m | \u001b[0m 6.671   \u001b[0m | \u001b[0m 179.1   \u001b[0m | \u001b[0m-3.192   \u001b[0m | \u001b[0m 1.444   \u001b[0m | \u001b[0m 461.5   \u001b[0m |\n",
      "Mu:0.80|Mu+:0.04|Beta:7.00|Sigma:460.00|Epsilon:180.26|EpIter:0.00\n",
      "| \u001b[0m 18      \u001b[0m | \u001b[0m 1.687   \u001b[0m | \u001b[0m 7.832   \u001b[0m | \u001b[0m 180.3   \u001b[0m | \u001b[0m-3.128   \u001b[0m | \u001b[0m 1.362   \u001b[0m | \u001b[0m 460.5   \u001b[0m |\n",
      "Mu:0.78|Mu+:0.04|Beta:5.00|Sigma:463.00|Epsilon:182.65|EpIter:0.00\n",
      "| \u001b[95m 19      \u001b[0m | \u001b[95m 2.132   \u001b[0m | \u001b[95m 5.79    \u001b[0m | \u001b[95m 182.6   \u001b[0m | \u001b[95m-3.144   \u001b[0m | \u001b[95m 1.284   \u001b[0m | \u001b[95m 463.3   \u001b[0m |\n",
      "Mu:0.74|Mu+:0.05|Beta:2.00|Sigma:461.00|Epsilon:181.80|EpIter:0.00\n",
      "| \u001b[0m 20      \u001b[0m | \u001b[0m-124.3   \u001b[0m | \u001b[0m 2.207   \u001b[0m | \u001b[0m 181.8   \u001b[0m | \u001b[0m-3.025   \u001b[0m | \u001b[0m 1.041   \u001b[0m | \u001b[0m 461.5   \u001b[0m |\n",
      "Mu:0.80|Mu+:0.04|Beta:8.00|Sigma:463.00|Epsilon:177.43|EpIter:0.00\n",
      "| \u001b[0m 21      \u001b[0m | \u001b[0m 1.772   \u001b[0m | \u001b[0m 8.161   \u001b[0m | \u001b[0m 177.4   \u001b[0m | \u001b[0m-3.127   \u001b[0m | \u001b[0m 1.404   \u001b[0m | \u001b[0m 463.4   \u001b[0m |\n",
      "Mu:0.81|Mu+:0.04|Beta:6.00|Sigma:461.00|Epsilon:179.04|EpIter:0.00\n",
      "| \u001b[0m 22      \u001b[0m | \u001b[0m 1.812   \u001b[0m | \u001b[0m 6.271   \u001b[0m | \u001b[0m 179.0   \u001b[0m | \u001b[0m-3.229   \u001b[0m | \u001b[0m 1.48    \u001b[0m | \u001b[0m 461.4   \u001b[0m |\n",
      "Mu:0.77|Mu+:0.04|Beta:5.00|Sigma:461.00|Epsilon:178.81|EpIter:0.00\n",
      "| \u001b[95m 23      \u001b[0m | \u001b[95m 2.143   \u001b[0m | \u001b[95m 5.744   \u001b[0m | \u001b[95m 178.8   \u001b[0m | \u001b[95m-3.215   \u001b[0m | \u001b[95m 1.189   \u001b[0m | \u001b[95m 461.2   \u001b[0m |\n",
      "Mu:0.77|Mu+:0.04|Beta:6.00|Sigma:461.00|Epsilon:179.11|EpIter:0.00\n",
      "| \u001b[0m 24      \u001b[0m | \u001b[0m 1.812   \u001b[0m | \u001b[0m 6.37    \u001b[0m | \u001b[0m 179.1   \u001b[0m | \u001b[0m-3.154   \u001b[0m | \u001b[0m 1.195   \u001b[0m | \u001b[0m 461.2   \u001b[0m |\n",
      "Mu:0.77|Mu+:0.04|Beta:5.00|Sigma:461.00|Epsilon:179.11|EpIter:0.00\n",
      "| \u001b[0m 25      \u001b[0m | \u001b[0m 2.1     \u001b[0m | \u001b[0m 5.961   \u001b[0m | \u001b[0m 179.1   \u001b[0m | \u001b[0m-3.215   \u001b[0m | \u001b[0m 1.181   \u001b[0m | \u001b[0m 461.7   \u001b[0m |\n",
      "Mu:0.76|Mu+:0.04|Beta:6.00|Sigma:461.00|Epsilon:178.63|EpIter:0.00\n",
      "| \u001b[0m 26      \u001b[0m | \u001b[0m 1.753   \u001b[0m | \u001b[0m 6.354   \u001b[0m | \u001b[0m 178.6   \u001b[0m | \u001b[0m-3.175   \u001b[0m | \u001b[0m 1.152   \u001b[0m | \u001b[0m 461.6   \u001b[0m |\n",
      "Mu:0.78|Mu+:0.04|Beta:6.00|Sigma:461.00|Epsilon:178.17|EpIter:0.00\n",
      "| \u001b[0m 27      \u001b[0m | \u001b[0m 1.802   \u001b[0m | \u001b[0m 6.285   \u001b[0m | \u001b[0m 178.2   \u001b[0m | \u001b[0m-3.244   \u001b[0m | \u001b[0m 1.249   \u001b[0m | \u001b[0m 461.6   \u001b[0m |\n",
      "Mu:0.78|Mu+:0.04|Beta:6.00|Sigma:461.00|Epsilon:178.70|EpIter:0.00\n",
      "| \u001b[0m 28      \u001b[0m | \u001b[0m 1.802   \u001b[0m | \u001b[0m 6.078   \u001b[0m | \u001b[0m 178.7   \u001b[0m | \u001b[0m-3.263   \u001b[0m | \u001b[0m 1.291   \u001b[0m | \u001b[0m 461.5   \u001b[0m |\n",
      "Mu:0.78|Mu+:0.04|Beta:6.00|Sigma:461.00|Epsilon:178.73|EpIter:0.00\n",
      "| \u001b[0m 29      \u001b[0m | \u001b[0m 1.802   \u001b[0m | \u001b[0m 6.167   \u001b[0m | \u001b[0m 178.7   \u001b[0m | \u001b[0m-3.259   \u001b[0m | \u001b[0m 1.281   \u001b[0m | \u001b[0m 461.2   \u001b[0m |\n",
      "Mu:0.78|Mu+:0.04|Beta:6.00|Sigma:461.00|Epsilon:178.77|EpIter:0.00\n",
      "| \u001b[0m 30      \u001b[0m | \u001b[0m 1.802   \u001b[0m | \u001b[0m 6.089   \u001b[0m | \u001b[0m 178.8   \u001b[0m | \u001b[0m-3.254   \u001b[0m | \u001b[0m 1.272   \u001b[0m | \u001b[0m 461.8   \u001b[0m |\n",
      "Mu:0.78|Mu+:0.04|Beta:5.00|Sigma:461.00|Epsilon:178.65|EpIter:0.00\n",
      "| \u001b[0m 31      \u001b[0m | \u001b[0m 2.132   \u001b[0m | \u001b[0m 5.931   \u001b[0m | \u001b[0m 178.7   \u001b[0m | \u001b[0m-3.179   \u001b[0m | \u001b[0m 1.263   \u001b[0m | \u001b[0m 461.6   \u001b[0m |\n",
      "Mu:0.78|Mu+:0.04|Beta:6.00|Sigma:461.00|Epsilon:178.72|EpIter:0.00\n",
      "| \u001b[0m 32      \u001b[0m | \u001b[0m 1.802   \u001b[0m | \u001b[0m 6.167   \u001b[0m | \u001b[0m 178.7   \u001b[0m | \u001b[0m-3.183   \u001b[0m | \u001b[0m 1.256   \u001b[0m | \u001b[0m 461.1   \u001b[0m |\n",
      "Mu:0.78|Mu+:0.04|Beta:6.00|Sigma:461.00|Epsilon:178.88|EpIter:0.00\n",
      "| \u001b[0m 33      \u001b[0m | \u001b[0m 1.802   \u001b[0m | \u001b[0m 6.416   \u001b[0m | \u001b[0m 178.9   \u001b[0m | \u001b[0m-3.244   \u001b[0m | \u001b[0m 1.249   \u001b[0m | \u001b[0m 461.8   \u001b[0m |\n",
      "Mu:0.78|Mu+:0.04|Beta:6.00|Sigma:461.00|Epsilon:179.20|EpIter:0.00\n",
      "| \u001b[0m 34      \u001b[0m | \u001b[0m 1.843   \u001b[0m | \u001b[0m 6.111   \u001b[0m | \u001b[0m 179.2   \u001b[0m | \u001b[0m-3.241   \u001b[0m | \u001b[0m 1.243   \u001b[0m | \u001b[0m 461.4   \u001b[0m |\n",
      "Mu:0.78|Mu+:0.04|Beta:5.00|Sigma:461.00|Epsilon:178.61|EpIter:0.00\n",
      "| \u001b[95m 35      \u001b[0m | \u001b[95m 2.187   \u001b[0m | \u001b[95m 5.823   \u001b[0m | \u001b[95m 178.6   \u001b[0m | \u001b[95m-3.191   \u001b[0m | \u001b[95m 1.238   \u001b[0m | \u001b[95m 461.7   \u001b[0m |\n",
      "Mu:0.78|Mu+:0.04|Beta:5.00|Sigma:461.00|Epsilon:178.49|EpIter:0.00\n",
      "| \u001b[0m 36      \u001b[0m | \u001b[0m 2.132   \u001b[0m | \u001b[0m 5.884   \u001b[0m | \u001b[0m 178.5   \u001b[0m | \u001b[0m-3.172   \u001b[0m | \u001b[0m 1.279   \u001b[0m | \u001b[0m 461.3   \u001b[0m |\n",
      "Mu:0.78|Mu+:0.04|Beta:6.00|Sigma:461.00|Epsilon:178.64|EpIter:0.00\n",
      "| \u001b[0m 37      \u001b[0m | \u001b[0m 1.802   \u001b[0m | \u001b[0m 6.602   \u001b[0m | \u001b[0m 178.6   \u001b[0m | \u001b[0m-3.174   \u001b[0m | \u001b[0m 1.275   \u001b[0m | \u001b[0m 461.3   \u001b[0m |\n",
      "Mu:0.78|Mu+:0.04|Beta:6.00|Sigma:461.00|Epsilon:178.65|EpIter:0.00\n",
      "| \u001b[0m 38      \u001b[0m | \u001b[0m 1.802   \u001b[0m | \u001b[0m 6.092   \u001b[0m | \u001b[0m 178.7   \u001b[0m | \u001b[0m-3.175   \u001b[0m | \u001b[0m 1.271   \u001b[0m | \u001b[0m 461.9   \u001b[0m |\n",
      "Mu:0.78|Mu+:0.04|Beta:5.00|Sigma:461.00|Epsilon:179.03|EpIter:0.00\n"
     ]
    },
    {
     "name": "stdout",
     "output_type": "stream",
     "text": [
      "| \u001b[0m 39      \u001b[0m | \u001b[0m 2.132   \u001b[0m | \u001b[0m 5.854   \u001b[0m | \u001b[0m 179.0   \u001b[0m | \u001b[0m-3.177   \u001b[0m | \u001b[0m 1.268   \u001b[0m | \u001b[0m 461.5   \u001b[0m |\n",
      "Mu:0.78|Mu+:0.04|Beta:5.00|Sigma:461.00|Epsilon:178.37|EpIter:0.00\n",
      "| \u001b[0m 40      \u001b[0m | \u001b[0m 2.132   \u001b[0m | \u001b[0m 5.767   \u001b[0m | \u001b[0m 178.4   \u001b[0m | \u001b[0m-3.179   \u001b[0m | \u001b[0m 1.265   \u001b[0m | \u001b[0m 461.4   \u001b[0m |\n",
      "Mu:0.77|Mu+:0.04|Beta:5.00|Sigma:460.00|Epsilon:178.55|EpIter:0.00\n",
      "| \u001b[0m 41      \u001b[0m | \u001b[0m 2.187   \u001b[0m | \u001b[0m 5.919   \u001b[0m | \u001b[0m 178.6   \u001b[0m | \u001b[0m-3.195   \u001b[0m | \u001b[0m 1.233   \u001b[0m | \u001b[0m 461.0   \u001b[0m |\n",
      "Mu:0.78|Mu+:0.04|Beta:6.00|Sigma:460.00|Epsilon:179.02|EpIter:0.00\n",
      "| \u001b[0m 42      \u001b[0m | \u001b[0m 1.802   \u001b[0m | \u001b[0m 6.083   \u001b[0m | \u001b[0m 179.0   \u001b[0m | \u001b[0m-3.181   \u001b[0m | \u001b[0m 1.26    \u001b[0m | \u001b[0m 460.9   \u001b[0m |\n",
      "Mu:0.77|Mu+:0.04|Beta:6.00|Sigma:461.00|Epsilon:179.33|EpIter:0.00\n",
      "| \u001b[0m 43      \u001b[0m | \u001b[0m 1.812   \u001b[0m | \u001b[0m 6.862   \u001b[0m | \u001b[0m 179.3   \u001b[0m | \u001b[0m-3.201   \u001b[0m | \u001b[0m 1.218   \u001b[0m | \u001b[0m 461.0   \u001b[0m |\n",
      "Mu:0.78|Mu+:0.04|Beta:6.00|Sigma:460.00|Epsilon:178.56|EpIter:0.00\n",
      "| \u001b[0m 44      \u001b[0m | \u001b[0m 1.802   \u001b[0m | \u001b[0m 6.593   \u001b[0m | \u001b[0m 178.6   \u001b[0m | \u001b[0m-3.183   \u001b[0m | \u001b[0m 1.256   \u001b[0m | \u001b[0m 461.0   \u001b[0m |\n",
      "Mu:0.77|Mu+:0.04|Beta:6.00|Sigma:461.00|Epsilon:178.71|EpIter:0.00\n",
      "| \u001b[0m 45      \u001b[0m | \u001b[0m 1.843   \u001b[0m | \u001b[0m 6.994   \u001b[0m | \u001b[0m 178.7   \u001b[0m | \u001b[0m-3.184   \u001b[0m | \u001b[0m 1.222   \u001b[0m | \u001b[0m 461.7   \u001b[0m |\n",
      "Mu:0.77|Mu+:0.04|Beta:6.00|Sigma:461.00|Epsilon:179.54|EpIter:0.00\n",
      "| \u001b[0m 46      \u001b[0m | \u001b[0m 1.843   \u001b[0m | \u001b[0m 6.925   \u001b[0m | \u001b[0m 179.5   \u001b[0m | \u001b[0m-3.185   \u001b[0m | \u001b[0m 1.224   \u001b[0m | \u001b[0m 461.5   \u001b[0m |\n",
      "Mu:0.78|Mu+:0.04|Beta:7.00|Sigma:461.00|Epsilon:179.13|EpIter:0.00\n",
      "| \u001b[0m 47      \u001b[0m | \u001b[0m 1.585   \u001b[0m | \u001b[0m 7.302   \u001b[0m | \u001b[0m 179.1   \u001b[0m | \u001b[0m-3.185   \u001b[0m | \u001b[0m 1.251   \u001b[0m | \u001b[0m 461.0   \u001b[0m |\n",
      "Mu:0.78|Mu+:0.04|Beta:6.00|Sigma:460.00|Epsilon:179.57|EpIter:0.00\n",
      "| \u001b[0m 48      \u001b[0m | \u001b[0m 1.802   \u001b[0m | \u001b[0m 6.678   \u001b[0m | \u001b[0m 179.6   \u001b[0m | \u001b[0m-3.197   \u001b[0m | \u001b[0m 1.25    \u001b[0m | \u001b[0m 460.8   \u001b[0m |\n",
      "Mu:0.78|Mu+:0.04|Beta:6.00|Sigma:462.00|Epsilon:178.35|EpIter:0.00\n",
      "| \u001b[0m 49      \u001b[0m | \u001b[0m 1.802   \u001b[0m | \u001b[0m 6.956   \u001b[0m | \u001b[0m 178.4   \u001b[0m | \u001b[0m-3.186   \u001b[0m | \u001b[0m 1.248   \u001b[0m | \u001b[0m 462.2   \u001b[0m |\n",
      "Mu:0.77|Mu+:0.04|Beta:6.00|Sigma:462.00|Epsilon:179.23|EpIter:0.00\n",
      "| \u001b[0m 50      \u001b[0m | \u001b[0m 1.843   \u001b[0m | \u001b[0m 6.982   \u001b[0m | \u001b[0m 179.2   \u001b[0m | \u001b[0m-3.187   \u001b[0m | \u001b[0m 1.229   \u001b[0m | \u001b[0m 462.1   \u001b[0m |\n",
      "Mu:0.78|Mu+:0.04|Beta:7.00|Sigma:461.00|Epsilon:178.73|EpIter:0.00\n",
      "| \u001b[0m 51      \u001b[0m | \u001b[0m 1.585   \u001b[0m | \u001b[0m 7.404   \u001b[0m | \u001b[0m 178.7   \u001b[0m | \u001b[0m-3.187   \u001b[0m | \u001b[0m 1.246   \u001b[0m | \u001b[0m 461.6   \u001b[0m |\n",
      "Mu:0.78|Mu+:0.04|Beta:7.00|Sigma:462.00|Epsilon:177.95|EpIter:0.00\n",
      "| \u001b[0m 52      \u001b[0m | \u001b[0m 1.585   \u001b[0m | \u001b[0m 7.246   \u001b[0m | \u001b[0m 177.9   \u001b[0m | \u001b[0m-3.188   \u001b[0m | \u001b[0m 1.246   \u001b[0m | \u001b[0m 462.8   \u001b[0m |\n",
      "Mu:0.78|Mu+:0.04|Beta:6.00|Sigma:461.00|Epsilon:177.86|EpIter:0.00\n",
      "| \u001b[0m 53      \u001b[0m | \u001b[0m 1.802   \u001b[0m | \u001b[0m 6.918   \u001b[0m | \u001b[0m 177.9   \u001b[0m | \u001b[0m-3.188   \u001b[0m | \u001b[0m 1.245   \u001b[0m | \u001b[0m 461.7   \u001b[0m |\n",
      "Mu:0.78|Mu+:0.04|Beta:6.00|Sigma:462.00|Epsilon:178.09|EpIter:0.00\n",
      "| \u001b[0m 54      \u001b[0m | \u001b[0m 1.843   \u001b[0m | \u001b[0m 6.3     \u001b[0m | \u001b[0m 178.1   \u001b[0m | \u001b[0m-3.189   \u001b[0m | \u001b[0m 1.244   \u001b[0m | \u001b[0m 462.5   \u001b[0m |\n",
      "Mu:0.78|Mu+:0.04|Beta:6.00|Sigma:462.00|Epsilon:178.85|EpIter:0.00\n",
      "| \u001b[0m 55      \u001b[0m | \u001b[0m 1.843   \u001b[0m | \u001b[0m 6.632   \u001b[0m | \u001b[0m 178.8   \u001b[0m | \u001b[0m-3.189   \u001b[0m | \u001b[0m 1.244   \u001b[0m | \u001b[0m 462.5   \u001b[0m |\n",
      "Mu:0.78|Mu+:0.04|Beta:5.00|Sigma:461.00|Epsilon:177.94|EpIter:0.00\n",
      "| \u001b[0m 56      \u001b[0m | \u001b[0m 2.187   \u001b[0m | \u001b[0m 5.819   \u001b[0m | \u001b[0m 177.9   \u001b[0m | \u001b[0m-3.189   \u001b[0m | \u001b[0m 1.243   \u001b[0m | \u001b[0m 462.0   \u001b[0m |\n",
      "Mu:0.78|Mu+:0.04|Beta:6.00|Sigma:462.00|Epsilon:178.01|EpIter:0.00\n",
      "| \u001b[0m 57      \u001b[0m | \u001b[0m 1.843   \u001b[0m | \u001b[0m 6.53    \u001b[0m | \u001b[0m 178.0   \u001b[0m | \u001b[0m-3.189   \u001b[0m | \u001b[0m 1.242   \u001b[0m | \u001b[0m 462.1   \u001b[0m |\n",
      "Mu:0.78|Mu+:0.04|Beta:5.00|Sigma:462.00|Epsilon:178.39|EpIter:0.00\n",
      "| \u001b[0m 58      \u001b[0m | \u001b[0m 2.187   \u001b[0m | \u001b[0m 5.614   \u001b[0m | \u001b[0m 178.4   \u001b[0m | \u001b[0m-3.19    \u001b[0m | \u001b[0m 1.242   \u001b[0m | \u001b[0m 462.3   \u001b[0m |\n",
      "Mu:0.78|Mu+:0.04|Beta:5.00|Sigma:461.00|Epsilon:178.12|EpIter:0.00\n",
      "| \u001b[0m 59      \u001b[0m | \u001b[0m 2.187   \u001b[0m | \u001b[0m 5.355   \u001b[0m | \u001b[0m 178.1   \u001b[0m | \u001b[0m-3.193   \u001b[0m | \u001b[0m 1.242   \u001b[0m | \u001b[0m 461.5   \u001b[0m |\n",
      "Mu:0.78|Mu+:0.04|Beta:5.00|Sigma:462.00|Epsilon:178.17|EpIter:0.00\n",
      "| \u001b[0m 60      \u001b[0m | \u001b[0m 2.187   \u001b[0m | \u001b[0m 5.393   \u001b[0m | \u001b[0m 178.2   \u001b[0m | \u001b[0m-3.193   \u001b[0m | \u001b[0m 1.241   \u001b[0m | \u001b[0m 462.1   \u001b[0m |\n",
      "=====================================================================================\n"
     ]
    }
   ],
   "source": [
    "optimizer.maximize(\n",
    "    init_points=10,\n",
    "    n_iter=50,\n",
    "    acq=\"ucb\",\n",
    "    kappa=5,\n",
    "    alpha=1\n",
    ")"
   ]
  },
  {
   "cell_type": "code",
   "execution_count": 22,
   "metadata": {},
   "outputs": [
    {
     "data": {
      "text/plain": [
       "{'target': 2.187072219016914,\n",
       " 'params': {'beta_sp': 5.822927472632371,\n",
       "  'epsilon_sp': 178.60761614677568,\n",
       "  'muIncr_logit': -3.1914920667146855,\n",
       "  'mu_logit': 1.237959120694906,\n",
       "  'sigma_sp': 461.6747802029938}}"
      ]
     },
     "execution_count": 22,
     "metadata": {},
     "output_type": "execute_result"
    }
   ],
   "source": [
    "optimizer.max"
   ]
  },
  {
   "cell_type": "code",
   "execution_count": 23,
   "metadata": {
    "ExecuteTime": {
     "end_time": "2020-09-03T22:58:42.653746Z",
     "start_time": "2020-09-03T22:58:42.649916Z"
    }
   },
   "outputs": [
    {
     "data": {
      "text/plain": [
       "0.89908257"
      ]
     },
     "execution_count": 23,
     "metadata": {},
     "output_type": "execute_result"
    }
   ],
   "source": [
    "inv_logit(optimizer.max[\"target\"])"
   ]
  },
  {
   "cell_type": "code",
   "execution_count": 24,
   "metadata": {
    "ExecuteTime": {
     "end_time": "2020-09-03T22:59:56.414823Z",
     "start_time": "2020-09-03T22:59:56.412477Z"
    }
   },
   "outputs": [],
   "source": [
    "params=optimizer.max[\"params\"]"
   ]
  },
  {
   "cell_type": "code",
   "execution_count": 25,
   "metadata": {
    "ExecuteTime": {
     "end_time": "2020-09-03T23:00:39.452694Z",
     "start_time": "2020-09-03T23:00:39.449279Z"
    }
   },
   "outputs": [
    {
     "data": {
      "text/plain": [
       "5.82588203388037"
      ]
     },
     "execution_count": 25,
     "metadata": {},
     "output_type": "execute_result"
    }
   ],
   "source": [
    "softplus(params[\"beta_sp\"])"
   ]
  },
  {
   "cell_type": "code",
   "execution_count": 26,
   "metadata": {
    "ExecuteTime": {
     "end_time": "2020-09-03T23:01:09.671719Z",
     "start_time": "2020-09-03T23:01:09.668333Z"
    }
   },
   "outputs": [
    {
     "data": {
      "text/plain": [
       "461.6747802029938"
      ]
     },
     "execution_count": 26,
     "metadata": {},
     "output_type": "execute_result"
    }
   ],
   "source": [
    "softplus(params[\"sigma_sp\"])"
   ]
  },
  {
   "cell_type": "code",
   "execution_count": 27,
   "metadata": {
    "ExecuteTime": {
     "end_time": "2020-09-04T01:35:00.233453Z",
     "start_time": "2020-09-04T01:35:00.230360Z"
    }
   },
   "outputs": [
    {
     "data": {
      "text/plain": [
       "0.7752085699102462"
      ]
     },
     "execution_count": 27,
     "metadata": {},
     "output_type": "execute_result"
    }
   ],
   "source": [
    "inv_logit(params[\"mu_logit\"])"
   ]
  },
  {
   "cell_type": "code",
   "execution_count": 28,
   "metadata": {
    "ExecuteTime": {
     "end_time": "2020-09-04T01:35:28.881809Z",
     "start_time": "2020-09-04T01:35:28.878641Z"
    }
   },
   "outputs": [
    {
     "data": {
      "text/plain": [
       "0.03948714967111403"
      ]
     },
     "execution_count": 28,
     "metadata": {},
     "output_type": "execute_result"
    }
   ],
   "source": [
    "inv_logit(params[\"muIncr_logit\"])"
   ]
  },
  {
   "cell_type": "code",
   "execution_count": 29,
   "metadata": {
    "ExecuteTime": {
     "end_time": "2020-09-04T01:36:13.729976Z",
     "start_time": "2020-09-04T01:36:13.726798Z"
    }
   },
   "outputs": [
    {
     "data": {
      "text/plain": [
       "178.60761614677568"
      ]
     },
     "execution_count": 29,
     "metadata": {},
     "output_type": "execute_result"
    }
   ],
   "source": [
    "softplus(params[\"epsilon_sp\"])"
   ]
  },
  {
   "cell_type": "code",
   "execution_count": 30,
   "metadata": {},
   "outputs": [
    {
     "name": "stdout",
     "output_type": "stream",
     "text": [
      "\n",
      ">>>>>>>>>>>>\n",
      "Starting Iteration mu= 0.7752\n",
      "Starting Iteration epsilon= 178.607\n",
      "Running NewMatrix Jar!\n",
      " Single-Reference Blocks = 1\n",
      "\n",
      " Multi-Reference Blocks = 834\n",
      "NewMatrix Iterateblocks Total Time = 0.5898919720202684\n",
      "\n",
      "Precision = TP / (TP + FP) ......................... = 0.91588785\n",
      "Recall = TP / (TP + FN) ............................ = 0.88288288\n",
      "F-Measure .......................................... = 0.89908257\n"
     ]
    },
    {
     "data": {
      "text/plain": [
       "0.89908257"
      ]
     },
     "execution_count": 30,
     "metadata": {},
     "output_type": "execute_result"
    }
   ],
   "source": [
    "entropy_F1(mu=0.7752,\n",
    "           muIncr=0.0395,\n",
    "           beta=5,\n",
    "           sigma=461,\n",
    "           epsilon=178.607,\n",
    "           epsilonIterate=0)"
   ]
  }
 ],
 "metadata": {
  "kernelspec": {
   "display_name": "Python 3",
   "language": "python",
   "name": "python3"
  },
  "language_info": {
   "codemirror_mode": {
    "name": "ipython",
    "version": 3
   },
   "file_extension": ".py",
   "mimetype": "text/x-python",
   "name": "python",
   "nbconvert_exporter": "python",
   "pygments_lexer": "ipython3",
   "version": "3.7.4"
  },
  "toc": {
   "base_numbering": 1,
   "nav_menu": {},
   "number_sections": true,
   "sideBar": true,
   "skip_h1_title": false,
   "title_cell": "Table of Contents",
   "title_sidebar": "Contents",
   "toc_cell": false,
   "toc_position": {},
   "toc_section_display": true,
   "toc_window_display": false
  },
  "varInspector": {
   "cols": {
    "lenName": 16,
    "lenType": 16,
    "lenVar": 40
   },
   "kernels_config": {
    "python": {
     "delete_cmd_postfix": "",
     "delete_cmd_prefix": "del ",
     "library": "var_list.py",
     "varRefreshCmd": "print(var_dic_list())"
    },
    "r": {
     "delete_cmd_postfix": ") ",
     "delete_cmd_prefix": "rm(",
     "library": "var_list.r",
     "varRefreshCmd": "cat(var_dic_list()) "
    }
   },
   "types_to_exclude": [
    "module",
    "function",
    "builtin_function_or_method",
    "instance",
    "_Feature"
   ],
   "window_display": false
  }
 },
 "nbformat": 4,
 "nbformat_minor": 2
}
