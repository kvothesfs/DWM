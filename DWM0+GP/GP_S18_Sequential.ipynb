{
 "cells": [
  {
   "cell_type": "code",
   "execution_count": 1,
   "metadata": {
    "ExecuteTime": {
     "end_time": "2020-09-03T21:59:20.041891Z",
     "start_time": "2020-09-03T21:59:10.621897Z"
    }
   },
   "outputs": [
    {
     "name": "stdout",
     "output_type": "stream",
     "text": [
      "Tokenizing References\n",
      "Total References= 10000\n",
      "Total Tokens Found = 130023\n",
      "Total Tokens Output = 127367\n",
      "Dictionary Load = 67077\n",
      "<class 'dict'>\n",
      "Global Replace Cycle\n",
      "Total References= 10000\n",
      "Total Tokens= 127367\n",
      "Unique Tokens= 20063\n",
      "Minimum Frequency of Standard Token =  5\n",
      "Minimum Length of Standard Token =  3\n",
      "Maximum Frequency of Error Token =  3\n",
      "References Processed= 10000\n",
      "Sorted Token Size = 20063\n",
      "Clean Token Size = 9114\n",
      "*Stop Replacements here\n",
      "References Processed =  10000\n",
      "Total Replacement Pairs = 3249\n",
      "Tokens Read = 127367\n",
      "Tokens Changed =  3894\n",
      "References Changed = 3382\n"
     ]
    }
   ],
   "source": [
    "import DWM1_Tokenizer\n",
    "import DWM2_Global_Token_Replace_NewDict\n",
    "import DWM3_Entropy_Cluster\n",
    "# Settings for Tokenizer\n",
    "inputSampleName = r'S18'\n",
    "delimiter=','\n",
    "hasHeader = True\n",
    "tokenizerType = 'Splitter'\n",
    "removeDuplicateTokens = True\n",
    "\n",
    "# Setting for global replacement DWM2\n",
    "runReplacement = True\n",
    "minFreqStdToken = 5\n",
    "minLenStdToken = 3\n",
    "maxFreqErrToken = 3\n",
    "\n",
    "# Cluster Settings\n",
    "\n",
    "\n",
    "DWM1_Tokenizer.tokenizeCycle(inputSampleName, delimiter, hasHeader, removeDuplicateTokens, tokenizerType)\n",
    "prefixString = inputSampleName +','+tokenizerType+','+str(removeDuplicateTokens)\n",
    "fileToCluster = inputSampleName + '-Tokenized.txt'\n",
    "if runReplacement:\n",
    "    DWM2_Global_Token_Replace_NewDict.globalReplace(inputSampleName, minFreqStdToken, minLenStdToken, maxFreqErrToken)\n",
    "    fileToCluster = inputSampleName + '-TokenReplace.txt'\n",
    "    prefixString = prefixString+','+str(minFreqStdToken)+','+str(minLenStdToken)+','+str(maxFreqErrToken)\n",
    "else:\n",
    "    prefixString = prefixString+',0,0,0'\n",
    "\n",
    "# Cluster fixed settings\n",
    "epsilonIterate = 0.0\n",
    "runClusterMetrics = False\n",
    "runFinalMetrics = True\n",
    "createFinalJoin = False"
   ]
  },
  {
   "cell_type": "code",
   "execution_count": 2,
   "metadata": {},
   "outputs": [],
   "source": [
    "status=\"done\""
   ]
  },
  {
   "cell_type": "code",
   "execution_count": 3,
   "metadata": {},
   "outputs": [
    {
     "name": "stdout",
     "output_type": "stream",
     "text": [
      "done\n"
     ]
    }
   ],
   "source": [
    "print(status)"
   ]
  },
  {
   "cell_type": "code",
   "execution_count": 4,
   "metadata": {
    "ExecuteTime": {
     "end_time": "2020-09-03T15:11:39.765508Z",
     "start_time": "2020-09-03T15:03:19.495876Z"
    },
    "scrolled": false
   },
   "outputs": [],
   "source": [
    "# # Cluster Robot Settings\n",
    "# muStart = 0.60\n",
    "# muEnd = 0.60\n",
    "# muIncr = 0.05\n",
    "# betaStart = 14\n",
    "# betaEnd = 14\n",
    "# betaIncr = 1\n",
    "# sigmaStart = 145\n",
    "# sigmaEnd = 145\n",
    "# sigmaIncr = 1\n",
    "# epsilonStart = 35\n",
    "# epsilonEnd = 35\n",
    "# epsilonIncr = 1\n",
    "# mu = muStart\n",
    "# while mu <= muEnd:\n",
    "#     beta = betaStart\n",
    "#     while beta <= betaEnd:\n",
    "#         sigma = sigmaStart\n",
    "#         while sigma <= sigmaEnd:\n",
    "#             epsilon = epsilonStart\n",
    "#             while epsilon <= epsilonEnd:\n",
    "#                 suffixString =','+str(epsilon)+','+str(epsilonIterate)\n",
    "#                 resultsList = DWM3_Entropy_Cluster.driver(fileToCluster, beta, sigma, mu, muIncr,epsilon,  \\\n",
    "#                                                      epsilonIterate,runClusterMetrics, runFinalMetrics, createFinalJoin, hasHeader)\n",
    "#                 seg0a = ','+str(resultsList[0])+','+str(resultsList[1])+','+str(resultsList[2])+','+str(resultsList[3])\n",
    "#                 seg0b =','+str(resultsList[4])+','+str(resultsList[5])+','+str(resultsList[6])\n",
    "#                 seg1 = ','+str(beta)+','+str(sigma)+','+str(mu)+ ',' +str(muIncr)\n",
    "#                 seg2 = ','+str(resultsList[7])+','+str(resultsList[8])+','+str(resultsList[9])\n",
    "#                 outString = prefixString+seg0a+seg0b+suffixString+seg1+seg2+'\\n'\n",
    "#                 resultsFile = open('RobotResults.txt','a+')\n",
    "#                 resultsFile.write(outString)\n",
    "#                 resultsFile.close()\n",
    "#                 epsilon = epsilon + epsilonIncr\n",
    "#             sigma = sigma + sigmaIncr\n",
    "#         beta = beta + betaIncr\n",
    "#     mu = mu + muIncr\n",
    "\n",
    "\n",
    " "
   ]
  },
  {
   "cell_type": "markdown",
   "metadata": {
    "ExecuteTime": {
     "end_time": "2020-09-03T16:36:26.229783Z",
     "start_time": "2020-09-03T16:36:26.227755Z"
    }
   },
   "source": [
    "## Bayesian Optimization of Hyperparameters"
   ]
  },
  {
   "cell_type": "code",
   "execution_count": 5,
   "metadata": {},
   "outputs": [],
   "source": [
    "import numpy as np"
   ]
  },
  {
   "cell_type": "markdown",
   "metadata": {
    "ExecuteTime": {
     "end_time": "2020-09-03T16:36:47.947518Z",
     "start_time": "2020-09-03T16:36:47.944251Z"
    }
   },
   "source": [
    "Create a function of the parameters that returns the F score"
   ]
  },
  {
   "cell_type": "code",
   "execution_count": 6,
   "metadata": {
    "ExecuteTime": {
     "end_time": "2020-09-03T21:59:42.561300Z",
     "start_time": "2020-09-03T21:59:42.557193Z"
    }
   },
   "outputs": [],
   "source": [
    "def entropy_F1(beta=14,sigma=145,mu=0.6,muIncr=0.05,epsilon=35,epsilonIterate=0):\n",
    "    resultsList = DWM3_Entropy_Cluster.driver(fileToCluster, \n",
    "                                  beta, \n",
    "                                  sigma, \n",
    "                                  mu, \n",
    "                                  muIncr,\n",
    "                                  epsilon,\n",
    "                                  epsilonIterate,\n",
    "                                  runClusterMetrics, \n",
    "                                  runFinalMetrics, \n",
    "                                  createFinalJoin, \n",
    "                                  hasHeader)\n",
    "    return resultsList[9]"
   ]
  },
  {
   "cell_type": "code",
   "execution_count": 7,
   "metadata": {
    "ExecuteTime": {
     "end_time": "2020-09-03T22:06:32.164588Z",
     "start_time": "2020-09-03T21:59:43.696518Z"
    }
   },
   "outputs": [
    {
     "name": "stdout",
     "output_type": "stream",
     "text": [
      "\n",
      ">>>>>>>>>>>>\n",
      "Starting Iteration mu= 0.5\n",
      "Starting Iteration epsilon= 31.8\n",
      "Running NewMatrix Jar!\n",
      " Single-Reference Blocks = 1\n",
      "\n",
      " Multi-Reference Blocks = 9984\n",
      "NewMatrix Iterateblocks Total Time = 13.863998964428902\n",
      "\n",
      "\n",
      ">>>>>>>>>>>>\n",
      "Starting Iteration mu= 0.55\n",
      "Starting Iteration epsilon= 31.8\n",
      "Running NewMatrix Jar!\n",
      " Single-Reference Blocks = 1\n",
      "\n",
      " Multi-Reference Blocks = 9353\n",
      "NewMatrix Iterateblocks Total Time = 14.178532030433416\n",
      "\n",
      "\n",
      ">>>>>>>>>>>>\n",
      "Starting Iteration mu= 0.6000000000000001\n",
      "Starting Iteration epsilon= 31.8\n",
      "Running NewMatrix Jar!\n",
      " Single-Reference Blocks = 1\n",
      "\n",
      " Multi-Reference Blocks = 8135\n",
      "NewMatrix Iterateblocks Total Time = 10.957655904814601\n",
      "\n",
      "\n",
      ">>>>>>>>>>>>\n",
      "Starting Iteration mu= 0.6500000000000001\n",
      "Starting Iteration epsilon= 31.8\n",
      "Running NewMatrix Jar!\n",
      " Single-Reference Blocks = 1\n",
      "\n",
      " Multi-Reference Blocks = 5238\n",
      "NewMatrix Iterateblocks Total Time = 6.645976725034416\n",
      "\n",
      "\n",
      ">>>>>>>>>>>>\n",
      "Starting Iteration mu= 0.7000000000000002\n",
      "Starting Iteration epsilon= 31.8\n",
      "Running NewMatrix Jar!\n",
      " Single-Reference Blocks = 1\n",
      "\n",
      " Multi-Reference Blocks = 2510\n",
      "NewMatrix Iterateblocks Total Time = 4.157009333372116\n",
      "\n",
      "\n",
      ">>>>>>>>>>>>\n",
      "Starting Iteration mu= 0.7500000000000002\n",
      "Starting Iteration epsilon= 31.8\n",
      "Running NewMatrix Jar!\n",
      " Single-Reference Blocks = 1\n",
      "\n",
      " Multi-Reference Blocks = 794\n",
      "NewMatrix Iterateblocks Total Time = 1.616951677016914\n",
      "\n",
      "Precision = TP / (TP + FP) ......................... = 0.69951809\n",
      "Recall = TP / (TP + FN) ............................ = 0.75136425\n",
      "F-Measure .......................................... = 0.72451483\n"
     ]
    },
    {
     "data": {
      "text/plain": [
       "0.72451483"
      ]
     },
     "execution_count": 7,
     "metadata": {},
     "output_type": "execute_result"
    }
   ],
   "source": [
    "entropy_F1(mu=0.5,muIncr=0.05,beta=33,sigma=449,epsilon=31.8,epsilonIterate=0)"
   ]
  },
  {
   "cell_type": "markdown",
   "metadata": {},
   "source": [
    "Create functions for variable transformation."
   ]
  },
  {
   "cell_type": "code",
   "execution_count": 8,
   "metadata": {
    "ExecuteTime": {
     "end_time": "2020-09-03T22:08:18.856511Z",
     "start_time": "2020-09-03T22:08:18.853611Z"
    }
   },
   "outputs": [],
   "source": [
    "#Softplus to transform real domain into positive\n",
    "def softplus(x):\n",
    "    return np.log(1+np.exp(x))\n",
    "\n",
    "def inv_softplus(x):\n",
    "    return np.log(np.exp(x)-1)"
   ]
  },
  {
   "cell_type": "code",
   "execution_count": 9,
   "metadata": {
    "ExecuteTime": {
     "end_time": "2020-09-03T22:08:27.349548Z",
     "start_time": "2020-09-03T22:08:27.345752Z"
    }
   },
   "outputs": [
    {
     "data": {
      "text/plain": [
       "0.541324854612918"
      ]
     },
     "execution_count": 9,
     "metadata": {},
     "output_type": "execute_result"
    }
   ],
   "source": [
    "inv_softplus(1)"
   ]
  },
  {
   "cell_type": "code",
   "execution_count": 10,
   "metadata": {
    "ExecuteTime": {
     "end_time": "2020-09-03T22:11:24.939913Z",
     "start_time": "2020-09-03T22:11:24.936639Z"
    }
   },
   "outputs": [],
   "source": [
    "#Logit to transform real domain into 0-1\n",
    "def logit(x):    \n",
    "    return np.log(x+1e-54)-np.log(1-x+1e-54)\n",
    "\n",
    "def inv_logit(x):\n",
    "    res=np.exp(x)/(np.exp(x)+1)-2*1e-54\n",
    "    if res<1e-54:\n",
    "        res=0\n",
    "    return res"
   ]
  },
  {
   "cell_type": "markdown",
   "metadata": {},
   "source": [
    "Import BO library:"
   ]
  },
  {
   "cell_type": "code",
   "execution_count": 11,
   "metadata": {
    "ExecuteTime": {
     "end_time": "2020-09-03T22:08:30.622144Z",
     "start_time": "2020-09-03T22:08:30.226842Z"
    }
   },
   "outputs": [],
   "source": [
    "from bayes_opt import BayesianOptimization"
   ]
  },
  {
   "cell_type": "markdown",
   "metadata": {
    "ExecuteTime": {
     "end_time": "2020-09-03T18:14:39.927785Z",
     "start_time": "2020-09-03T18:14:39.924909Z"
    }
   },
   "source": [
    "Create dictionary bounds for the parameters:"
   ]
  },
  {
   "cell_type": "code",
   "execution_count": 12,
   "metadata": {},
   "outputs": [],
   "source": [
    "import os, sys"
   ]
  },
  {
   "cell_type": "code",
   "execution_count": 13,
   "metadata": {},
   "outputs": [],
   "source": [
    "class HiddenPrints:\n",
    "    def __enter__(self):\n",
    "        self._original_stdout = sys.stdout\n",
    "        sys.stdout = open(os.devnull, 'w')\n",
    "\n",
    "    def __exit__(self, exc_type, exc_val, exc_tb):\n",
    "        sys.stdout.close()\n",
    "        sys.stdout = self._original_stdout"
   ]
  },
  {
   "cell_type": "code",
   "execution_count": 14,
   "metadata": {},
   "outputs": [
    {
     "name": "stdout",
     "output_type": "stream",
     "text": [
      "This will be printed as before\n"
     ]
    }
   ],
   "source": [
    "with HiddenPrints():\n",
    "    print(\"This will not be printed\")\n",
    "\n",
    "print(\"This will be printed as before\")"
   ]
  },
  {
   "cell_type": "code",
   "execution_count": 15,
   "metadata": {
    "ExecuteTime": {
     "end_time": "2020-09-03T22:11:53.005154Z",
     "start_time": "2020-09-03T22:11:53.000238Z"
    }
   },
   "outputs": [],
   "source": [
    "#Take parameters in transformed space and return f score in transformed space\n",
    "def entropy_F1_trx(beta_sp,sigma_sp,mu_logit,muIncr_logit,epsilon_sp,epsilonIterate_logit=logit(0)):\n",
    "    beta_pos=int(softplus(beta_sp))\n",
    "    sigma_pos=int(softplus(sigma_sp))\n",
    "    mu_01=inv_logit(mu_logit)\n",
    "    muIncr_01=inv_logit(muIncr_logit)\n",
    "    epsilon_pos=softplus(epsilon_sp)\n",
    "    epsilonIterate_01=inv_logit(epsilonIterate_logit)\n",
    "    \n",
    "    print(\"Mu:%.2f|Mu+:%.2f|Beta:%.2f|Sigma:%.2f|Epsilon:%.2f|EpIter:%.2f\" % (mu_01, muIncr_01, beta_pos, sigma_pos, epsilon_pos, epsilonIterate_01))\n",
    "    \n",
    "    with HiddenPrints():\n",
    "        f1=entropy_F1(beta=beta_pos,\n",
    "                      epsilon=epsilon_pos,\n",
    "                      epsilonIterate=epsilonIterate_01,\n",
    "                      muIncr=muIncr_01,\n",
    "                      sigma=sigma_pos,\n",
    "                      mu=mu_01)\n",
    "    \n",
    "    return logit(f1)"
   ]
  },
  {
   "cell_type": "code",
   "execution_count": 16,
   "metadata": {},
   "outputs": [
    {
     "name": "stdout",
     "output_type": "stream",
     "text": [
      "Mu:0.50|Mu+:0.05|Beta:33.00|Sigma:449.00|Epsilon:31.80|EpIter:0.00\n"
     ]
    },
    {
     "data": {
      "text/plain": [
       "0.9669684330973831"
      ]
     },
     "execution_count": 16,
     "metadata": {},
     "output_type": "execute_result"
    }
   ],
   "source": [
    "entropy_F1_trx(beta_sp=inv_softplus(33),\n",
    "               sigma_sp=inv_softplus(449),\n",
    "               mu_logit=logit(0.5),\n",
    "               muIncr_logit=logit(0.05),\n",
    "               epsilon_sp=inv_softplus(31.8))"
   ]
  },
  {
   "cell_type": "code",
   "execution_count": 17,
   "metadata": {},
   "outputs": [],
   "source": [
    "optimizer=None"
   ]
  },
  {
   "cell_type": "code",
   "execution_count": 18,
   "metadata": {
    "ExecuteTime": {
     "end_time": "2020-09-03T22:11:50.787503Z",
     "start_time": "2020-09-03T22:11:50.784060Z"
    }
   },
   "outputs": [],
   "source": [
    "pbounds = {'beta_sp': (inv_softplus(1), inv_softplus(700)), \n",
    "           'sigma_sp': (inv_softplus(1), inv_softplus(700)),\n",
    "           'mu_logit': (logit(0.5), logit(0.99)),\n",
    "           'muIncr_logit': (logit(0.01), logit(0.2)),\n",
    "           'epsilon_sp': (inv_softplus(1), inv_softplus(700))}#,\n",
    "           #'epsilonIterate_logit': (logit(0), logit(0.25))}"
   ]
  },
  {
   "cell_type": "code",
   "execution_count": 19,
   "metadata": {},
   "outputs": [],
   "source": [
    "from bayes_opt import SequentialDomainReductionTransformer"
   ]
  },
  {
   "cell_type": "code",
   "execution_count": 20,
   "metadata": {},
   "outputs": [],
   "source": [
    "bounds_transformer = SequentialDomainReductionTransformer()"
   ]
  },
  {
   "cell_type": "code",
   "execution_count": 21,
   "metadata": {
    "ExecuteTime": {
     "end_time": "2020-09-03T22:11:56.728829Z",
     "start_time": "2020-09-03T22:11:56.725599Z"
    }
   },
   "outputs": [],
   "source": [
    "optimizer = BayesianOptimization(\n",
    "    f=entropy_F1_trx,\n",
    "    pbounds=pbounds,\n",
    "    random_state=1,\n",
    "    bounds_transformer=bounds_transformer\n",
    ")"
   ]
  },
  {
   "cell_type": "code",
   "execution_count": 22,
   "metadata": {},
   "outputs": [],
   "source": [
    "optimizer.probe(\n",
    "    params={\"beta_sp\": inv_softplus(33), \n",
    "            \"sigma_sp\": inv_softplus(449),\n",
    "            \"mu_logit\":logit(0.5),\n",
    "            #'epsilonIterate_logit': logit(0),\n",
    "            \"muIncr_logit\":logit(0.05),\n",
    "            \"epsilon_sp\":inv_softplus(31.8)},\n",
    "    lazy=True,\n",
    ")"
   ]
  },
  {
   "cell_type": "code",
   "execution_count": 23,
   "metadata": {
    "ExecuteTime": {
     "end_time": "2020-09-03T22:54:10.009085Z",
     "start_time": "2020-09-03T22:11:58.063246Z"
    }
   },
   "outputs": [
    {
     "name": "stdout",
     "output_type": "stream",
     "text": [
      "|   iter    |  target   |  beta_sp  | epsilo... | muIncr... | mu_logit  | sigma_sp  |\n",
      "-------------------------------------------------------------------------------------\n",
      "Mu:0.50|Mu+:0.05|Beta:33.00|Sigma:449.00|Epsilon:31.80|EpIter:0.00\n",
      "| \u001b[0m 1       \u001b[0m | \u001b[0m 0.967   \u001b[0m | \u001b[0m 33.0    \u001b[0m | \u001b[0m 31.8    \u001b[0m | \u001b[0m-2.944   \u001b[0m | \u001b[0m 0.0     \u001b[0m | \u001b[0m 449.0   \u001b[0m |\n",
      "Mu:0.80|Mu+:0.01|Beta:292.00|Sigma:103.00|Epsilon:504.38|EpIter:0.00\n",
      "| \u001b[0m 2       \u001b[0m | \u001b[0m-0.4701  \u001b[0m | \u001b[0m 292.2   \u001b[0m | \u001b[0m 504.4   \u001b[0m | \u001b[0m-4.595   \u001b[0m | \u001b[0m 1.389   \u001b[0m | \u001b[0m 103.2   \u001b[0m |\n",
      "Mu:0.86|Mu+:0.03|Beta:65.00|Sigma:377.00|Epsilon:130.82|EpIter:0.00\n",
      "| \u001b[0m 3       \u001b[0m | \u001b[0m-0.7706  \u001b[0m | \u001b[0m 65.13   \u001b[0m | \u001b[0m 130.8   \u001b[0m | \u001b[0m-3.486   \u001b[0m | \u001b[0m 1.823   \u001b[0m | \u001b[0m 377.4   \u001b[0m |\n",
      "Mu:0.98|Mu+:0.02|Beta:293.00|Sigma:19.00|Epsilon:479.82|EpIter:0.00\n",
      "| \u001b[0m 4       \u001b[0m | \u001b[0m-1.988   \u001b[0m | \u001b[0m 293.8   \u001b[0m | \u001b[0m 479.8   \u001b[0m | \u001b[0m-3.939   \u001b[0m | \u001b[0m 4.035   \u001b[0m | \u001b[0m 19.7    \u001b[0m |\n",
      "Mu:0.66|Mu+:0.06|Beta:469.00|Sigma:139.00|Epsilon:292.43|EpIter:0.00\n",
      "| \u001b[0m 5       \u001b[0m | \u001b[0m-1.271   \u001b[0m | \u001b[0m 469.5   \u001b[0m | \u001b[0m 292.4   \u001b[0m | \u001b[0m-2.802   \u001b[0m | \u001b[0m 0.6451  \u001b[0m | \u001b[0m 139.1   \u001b[0m |\n",
      "Mu:0.96|Mu+:0.03|Beta:560.00|Sigma:613.00|Epsilon:677.80|EpIter:0.00\n",
      "| \u001b[0m 6       \u001b[0m | \u001b[0m-2.134   \u001b[0m | \u001b[0m 560.6   \u001b[0m | \u001b[0m 677.8   \u001b[0m | \u001b[0m-3.589   \u001b[0m | \u001b[0m 3.181   \u001b[0m | \u001b[0m 613.5   \u001b[0m |\n",
      "Mu:0.69|Mu+:0.01|Beta:626.00|Sigma:614.00|Epsilon:60.03|EpIter:0.00\n",
      "| \u001b[0m 7       \u001b[0m | \u001b[0m 0.2258  \u001b[0m | \u001b[0m 626.3   \u001b[0m | \u001b[0m 60.03   \u001b[0m | \u001b[0m-4.47    \u001b[0m | \u001b[0m 0.7804  \u001b[0m | \u001b[0m 614.8   \u001b[0m |\n",
      "Mu:0.92|Mu+:0.18|Beta:69.00|Sigma:484.00|Epsilon:295.09|EpIter:0.00\n",
      "| \u001b[0m 8       \u001b[0m | \u001b[0m-1.247   \u001b[0m | \u001b[0m 69.33   \u001b[0m | \u001b[0m 295.1   \u001b[0m | \u001b[0m-1.521   \u001b[0m | \u001b[0m 2.45    \u001b[0m | \u001b[0m 484.5   \u001b[0m |\n",
      "Mu:0.52|Mu+:0.13|Beta:221.00|Sigma:525.00|Epsilon:480.72|EpIter:0.00\n",
      "| \u001b[0m 9       \u001b[0m | \u001b[0m-6.022   \u001b[0m | \u001b[0m 221.2   \u001b[0m | \u001b[0m 480.7   \u001b[0m | \u001b[0m-1.917   \u001b[0m | \u001b[0m 0.08404 \u001b[0m | \u001b[0m 525.2   \u001b[0m |\n",
      "Mu:0.97|Mu+:0.02|Beta:692.00|Sigma:72.00|Epsilon:523.85|EpIter:0.00\n",
      "| \u001b[0m 10      \u001b[0m | \u001b[0m-2.301   \u001b[0m | \u001b[0m 692.2   \u001b[0m | \u001b[0m 523.9   \u001b[0m | \u001b[0m-3.695   \u001b[0m | \u001b[0m 3.627   \u001b[0m | \u001b[0m 72.74   \u001b[0m |\n",
      "Mu:0.79|Mu+:0.03|Beta:313.00|Sigma:91.00|Epsilon:636.07|EpIter:0.00\n",
      "| \u001b[0m 11      \u001b[0m | \u001b[0m-0.3258  \u001b[0m | \u001b[0m 313.8   \u001b[0m | \u001b[0m 636.1   \u001b[0m | \u001b[0m-3.653   \u001b[0m | \u001b[0m 1.322   \u001b[0m | \u001b[0m 91.49   \u001b[0m |\n",
      "Mu:0.50|Mu+:0.08|Beta:112.00|Sigma:546.00|Epsilon:1.00|EpIter:0.00\n",
      "| \u001b[0m 12      \u001b[0m | \u001b[0m-5.564   \u001b[0m | \u001b[0m 112.3   \u001b[0m | \u001b[0m 0.5413  \u001b[0m | \u001b[0m-2.492   \u001b[0m | \u001b[0m 0.0     \u001b[0m | \u001b[0m 546.1   \u001b[0m |\n",
      "Mu:0.62|Mu+:0.04|Beta:36.00|Sigma:448.00|Epsilon:30.61|EpIter:0.00\n",
      "| \u001b[0m 13      \u001b[0m | \u001b[0m 0.9502  \u001b[0m | \u001b[0m 36.87   \u001b[0m | \u001b[0m 30.61   \u001b[0m | \u001b[0m-3.137   \u001b[0m | \u001b[0m 0.4704  \u001b[0m | \u001b[0m 448.8   \u001b[0m |\n",
      "Mu:0.62|Mu+:0.04|Beta:39.00|Sigma:430.00|Epsilon:54.06|EpIter:0.00\n",
      "| \u001b[0m 14      \u001b[0m | \u001b[0m 0.4592  \u001b[0m | \u001b[0m 39.81   \u001b[0m | \u001b[0m 54.06   \u001b[0m | \u001b[0m-3.113   \u001b[0m | \u001b[0m 0.4932  \u001b[0m | \u001b[0m 430.3   \u001b[0m |\n",
      "Mu:0.61|Mu+:0.04|Beta:1.00|Sigma:416.00|Epsilon:15.85|EpIter:0.00\n",
      "| \u001b[0m 15      \u001b[0m | \u001b[0m-124.3   \u001b[0m | \u001b[0m 1.115   \u001b[0m | \u001b[0m 15.85   \u001b[0m | \u001b[0m-3.274   \u001b[0m | \u001b[0m 0.4438  \u001b[0m | \u001b[0m 416.3   \u001b[0m |\n",
      "Mu:0.56|Mu+:0.05|Beta:35.00|Sigma:448.00|Epsilon:33.02|EpIter:0.00\n",
      "| \u001b[0m 16      \u001b[0m | \u001b[0m 0.9286  \u001b[0m | \u001b[0m 35.71   \u001b[0m | \u001b[0m 33.02   \u001b[0m | \u001b[0m-3.036   \u001b[0m | \u001b[0m 0.236   \u001b[0m | \u001b[0m 448.2   \u001b[0m |\n",
      "Mu:0.56|Mu+:0.05|Beta:36.00|Sigma:447.00|Epsilon:34.36|EpIter:0.00\n",
      "| \u001b[0m 17      \u001b[0m | \u001b[0m 0.8995  \u001b[0m | \u001b[0m 36.17   \u001b[0m | \u001b[0m 34.36   \u001b[0m | \u001b[0m-3.035   \u001b[0m | \u001b[0m 0.2403  \u001b[0m | \u001b[0m 447.5   \u001b[0m |\n",
      "Mu:0.56|Mu+:0.05|Beta:36.00|Sigma:446.00|Epsilon:35.57|EpIter:0.00\n",
      "| \u001b[0m 18      \u001b[0m | \u001b[0m 0.8626  \u001b[0m | \u001b[0m 36.57   \u001b[0m | \u001b[0m 35.57   \u001b[0m | \u001b[0m-3.04    \u001b[0m | \u001b[0m 0.2576  \u001b[0m | \u001b[0m 446.7   \u001b[0m |\n",
      "Mu:0.57|Mu+:0.04|Beta:36.00|Sigma:445.00|Epsilon:36.51|EpIter:0.00\n",
      "| \u001b[0m 19      \u001b[0m | \u001b[0m 0.8402  \u001b[0m | \u001b[0m 36.99   \u001b[0m | \u001b[0m 36.51   \u001b[0m | \u001b[0m-3.059   \u001b[0m | \u001b[0m 0.2912  \u001b[0m | \u001b[0m 445.7   \u001b[0m |\n",
      "Mu:0.50|Mu+:0.05|Beta:36.00|Sigma:450.00|Epsilon:36.54|EpIter:0.00\n",
      "| \u001b[0m 20      \u001b[0m | \u001b[0m 0.844   \u001b[0m | \u001b[0m 36.96   \u001b[0m | \u001b[0m 36.54   \u001b[0m | \u001b[0m-2.902   \u001b[0m | \u001b[0m 0.01678 \u001b[0m | \u001b[0m 450.4   \u001b[0m |\n",
      "Mu:0.50|Mu+:0.06|Beta:40.00|Sigma:447.00|Epsilon:34.75|EpIter:0.00\n",
      "| \u001b[0m 21      \u001b[0m | \u001b[0m 0.903   \u001b[0m | \u001b[0m 40.65   \u001b[0m | \u001b[0m 34.75   \u001b[0m | \u001b[0m-2.769   \u001b[0m | \u001b[0m 0.0     \u001b[0m | \u001b[0m 447.2   \u001b[0m |\n",
      "Mu:0.55|Mu+:0.05|Beta:37.00|Sigma:444.00|Epsilon:39.97|EpIter:0.00\n",
      "| \u001b[0m 22      \u001b[0m | \u001b[0m 0.7246  \u001b[0m | \u001b[0m 37.68   \u001b[0m | \u001b[0m 39.97   \u001b[0m | \u001b[0m-2.929   \u001b[0m | \u001b[0m 0.2123  \u001b[0m | \u001b[0m 444.5   \u001b[0m |\n",
      "Mu:0.55|Mu+:0.04|Beta:35.00|Sigma:450.00|Epsilon:39.50|EpIter:0.00\n",
      "| \u001b[0m 23      \u001b[0m | \u001b[0m 0.7906  \u001b[0m | \u001b[0m 35.7    \u001b[0m | \u001b[0m 39.5    \u001b[0m | \u001b[0m-3.086   \u001b[0m | \u001b[0m 0.1911  \u001b[0m | \u001b[0m 450.1   \u001b[0m |\n",
      "Mu:0.54|Mu+:0.04|Beta:41.00|Sigma:450.00|Epsilon:36.42|EpIter:0.00\n",
      "| \u001b[0m 24      \u001b[0m | \u001b[0m 0.8549  \u001b[0m | \u001b[0m 41.13   \u001b[0m | \u001b[0m 36.42   \u001b[0m | \u001b[0m-3.072   \u001b[0m | \u001b[0m 0.172   \u001b[0m | \u001b[0m 450.9   \u001b[0m |\n",
      "Mu:0.54|Mu+:0.04|Beta:41.00|Sigma:443.00|Epsilon:40.15|EpIter:0.00\n",
      "| \u001b[0m 25      \u001b[0m | \u001b[0m 0.6857  \u001b[0m | \u001b[0m 41.73   \u001b[0m | \u001b[0m 40.15   \u001b[0m | \u001b[0m-3.059   \u001b[0m | \u001b[0m 0.1548  \u001b[0m | \u001b[0m 443.9   \u001b[0m |\n",
      "Mu:0.50|Mu+:0.06|Beta:36.00|Sigma:445.00|Epsilon:44.01|EpIter:0.00\n",
      "| \u001b[0m 26      \u001b[0m | \u001b[0m 0.5814  \u001b[0m | \u001b[0m 36.79   \u001b[0m | \u001b[0m 44.01   \u001b[0m | \u001b[0m-2.841   \u001b[0m | \u001b[0m 0.0     \u001b[0m | \u001b[0m 445.5   \u001b[0m |\n",
      "Mu:0.53|Mu+:0.05|Beta:41.00|Sigma:450.00|Epsilon:40.97|EpIter:0.00\n",
      "| \u001b[0m 27      \u001b[0m | \u001b[0m 0.6759  \u001b[0m | \u001b[0m 41.46   \u001b[0m | \u001b[0m 40.97   \u001b[0m | \u001b[0m-2.851   \u001b[0m | \u001b[0m 0.1254  \u001b[0m | \u001b[0m 450.7   \u001b[0m |\n",
      "Mu:0.50|Mu+:0.05|Beta:43.00|Sigma:443.00|Epsilon:34.82|EpIter:0.00\n",
      "| \u001b[0m 28      \u001b[0m | \u001b[0m 0.8704  \u001b[0m | \u001b[0m 43.4    \u001b[0m | \u001b[0m 34.82   \u001b[0m | \u001b[0m-3.028   \u001b[0m | \u001b[0m 0.0     \u001b[0m | \u001b[0m 443.9   \u001b[0m |\n",
      "Mu:0.53|Mu+:0.05|Beta:41.00|Sigma:439.00|Epsilon:43.77|EpIter:0.00\n",
      "| \u001b[0m 29      \u001b[0m | \u001b[0m 0.6162  \u001b[0m | \u001b[0m 41.74   \u001b[0m | \u001b[0m 43.77   \u001b[0m | \u001b[0m-3.02    \u001b[0m | \u001b[0m 0.1015  \u001b[0m | \u001b[0m 439.1   \u001b[0m |\n",
      "Mu:0.52|Mu+:0.05|Beta:46.00|Sigma:446.00|Epsilon:41.99|EpIter:0.00\n",
      "| \u001b[0m 30      \u001b[0m | \u001b[0m 0.6019  \u001b[0m | \u001b[0m 46.13   \u001b[0m | \u001b[0m 41.99   \u001b[0m | \u001b[0m-3.012   \u001b[0m | \u001b[0m 0.09138 \u001b[0m | \u001b[0m 446.1   \u001b[0m |\n",
      "Mu:0.50|Mu+:0.05|Beta:44.00|Sigma:451.00|Epsilon:32.15|EpIter:0.00\n",
      "| \u001b[0m 31      \u001b[0m | \u001b[0m 0.9393  \u001b[0m | \u001b[0m 44.39   \u001b[0m | \u001b[0m 32.15   \u001b[0m | \u001b[0m-3.006   \u001b[0m | \u001b[0m 0.0     \u001b[0m | \u001b[0m 451.2   \u001b[0m |\n",
      "Mu:0.50|Mu+:0.05|Beta:38.00|Sigma:456.00|Epsilon:34.61|EpIter:0.00\n",
      "| \u001b[0m 32      \u001b[0m | \u001b[0m 0.9041  \u001b[0m | \u001b[0m 38.8    \u001b[0m | \u001b[0m 34.61   \u001b[0m | \u001b[0m-2.889   \u001b[0m | \u001b[0m 0.0     \u001b[0m | \u001b[0m 456.7   \u001b[0m |\n",
      "Mu:0.50|Mu+:0.05|Beta:38.00|Sigma:455.00|Epsilon:42.00|EpIter:0.00\n",
      "| \u001b[0m 33      \u001b[0m | \u001b[0m 0.6167  \u001b[0m | \u001b[0m 38.26   \u001b[0m | \u001b[0m 42.0    \u001b[0m | \u001b[0m-2.994   \u001b[0m | \u001b[0m 0.0     \u001b[0m | \u001b[0m 455.4   \u001b[0m |\n",
      "Mu:0.50|Mu+:0.05|Beta:41.00|Sigma:454.00|Epsilon:28.64|EpIter:0.00\n",
      "| \u001b[0m 34      \u001b[0m | \u001b[0m 0.897   \u001b[0m | \u001b[0m 41.19   \u001b[0m | \u001b[0m 28.64   \u001b[0m | \u001b[0m-2.9     \u001b[0m | \u001b[0m 0.0     \u001b[0m | \u001b[0m 454.9   \u001b[0m |\n",
      "Mu:0.50|Mu+:0.05|Beta:33.00|Sigma:457.00|Epsilon:33.92|EpIter:0.00\n",
      "| \u001b[0m 35      \u001b[0m | \u001b[0m 0.9106  \u001b[0m | \u001b[0m 33.11   \u001b[0m | \u001b[0m 33.92   \u001b[0m | \u001b[0m-2.904   \u001b[0m | \u001b[0m 0.0     \u001b[0m | \u001b[0m 457.6   \u001b[0m |\n",
      "Mu:0.50|Mu+:0.05|Beta:36.00|Sigma:456.00|Epsilon:27.05|EpIter:0.00\n",
      "| \u001b[0m 36      \u001b[0m | \u001b[0m 0.8304  \u001b[0m | \u001b[0m 36.5    \u001b[0m | \u001b[0m 27.05   \u001b[0m | \u001b[0m-2.908   \u001b[0m | \u001b[0m 0.0     \u001b[0m | \u001b[0m 456.7   \u001b[0m |\n",
      "Mu:0.50|Mu+:0.05|Beta:30.00|Sigma:455.00|Epsilon:38.49|EpIter:0.00\n",
      "| \u001b[0m 37      \u001b[0m | \u001b[0m 0.7597  \u001b[0m | \u001b[0m 30.13   \u001b[0m | \u001b[0m 38.49   \u001b[0m | \u001b[0m-2.912   \u001b[0m | \u001b[0m 0.0     \u001b[0m | \u001b[0m 455.6   \u001b[0m |\n",
      "Mu:0.50|Mu+:0.05|Beta:39.00|Sigma:455.00|Epsilon:35.42|EpIter:0.00\n",
      "| \u001b[0m 38      \u001b[0m | \u001b[0m 0.8432  \u001b[0m | \u001b[0m 39.02   \u001b[0m | \u001b[0m 35.42   \u001b[0m | \u001b[0m-2.974   \u001b[0m | \u001b[0m 0.0     \u001b[0m | \u001b[0m 455.3   \u001b[0m |\n",
      "Mu:0.50|Mu+:0.05|Beta:38.00|Sigma:450.00|Epsilon:26.38|EpIter:0.00\n"
     ]
    },
    {
     "name": "stdout",
     "output_type": "stream",
     "text": [
      "| \u001b[0m 39      \u001b[0m | \u001b[0m 0.8087  \u001b[0m | \u001b[0m 38.42   \u001b[0m | \u001b[0m 26.38   \u001b[0m | \u001b[0m-2.918   \u001b[0m | \u001b[0m 0.0     \u001b[0m | \u001b[0m 450.0   \u001b[0m |\n",
      "Mu:0.50|Mu+:0.05|Beta:30.00|Sigma:454.00|Epsilon:29.76|EpIter:0.00\n",
      "| \u001b[95m 40      \u001b[0m | \u001b[95m 0.9841  \u001b[0m | \u001b[95m 30.43   \u001b[0m | \u001b[95m 29.76   \u001b[0m | \u001b[95m-2.921   \u001b[0m | \u001b[95m 0.0     \u001b[0m | \u001b[95m 454.1   \u001b[0m |\n",
      "Mu:0.51|Mu+:0.05|Beta:32.00|Sigma:458.00|Epsilon:25.47|EpIter:0.00\n",
      "| \u001b[0m 41      \u001b[0m | \u001b[0m 0.7458  \u001b[0m | \u001b[0m 32.31   \u001b[0m | \u001b[0m 25.47   \u001b[0m | \u001b[0m-2.941   \u001b[0m | \u001b[0m 0.02868 \u001b[0m | \u001b[0m 458.4   \u001b[0m |\n",
      "Mu:0.51|Mu+:0.05|Beta:26.00|Sigma:457.00|Epsilon:33.62|EpIter:0.00\n",
      "| \u001b[0m 42      \u001b[0m | \u001b[0m 0.9011  \u001b[0m | \u001b[0m 26.59   \u001b[0m | \u001b[0m 33.62   \u001b[0m | \u001b[0m-2.939   \u001b[0m | \u001b[0m 0.02581 \u001b[0m | \u001b[0m 458.0   \u001b[0m |\n",
      "Mu:0.50|Mu+:0.05|Beta:33.00|Sigma:457.00|Epsilon:33.24|EpIter:0.00\n",
      "| \u001b[0m 43      \u001b[0m | \u001b[0m 0.9427  \u001b[0m | \u001b[0m 33.88   \u001b[0m | \u001b[0m 33.24   \u001b[0m | \u001b[0m-2.904   \u001b[0m | \u001b[0m 0.0     \u001b[0m | \u001b[0m 457.6   \u001b[0m |\n",
      "Mu:0.50|Mu+:0.05|Beta:27.00|Sigma:457.00|Epsilon:26.63|EpIter:0.00\n",
      "| \u001b[0m 44      \u001b[0m | \u001b[0m 0.8221  \u001b[0m | \u001b[0m 27.32   \u001b[0m | \u001b[0m 26.63   \u001b[0m | \u001b[0m-2.906   \u001b[0m | \u001b[0m 0.0     \u001b[0m | \u001b[0m 457.2   \u001b[0m |\n",
      "Mu:0.50|Mu+:0.05|Beta:27.00|Sigma:451.00|Epsilon:32.58|EpIter:0.00\n",
      "| \u001b[0m 45      \u001b[0m | \u001b[0m 0.939   \u001b[0m | \u001b[0m 27.73   \u001b[0m | \u001b[0m 32.58   \u001b[0m | \u001b[0m-2.908   \u001b[0m | \u001b[0m 0.0     \u001b[0m | \u001b[0m 451.4   \u001b[0m |\n",
      "Mu:0.50|Mu+:0.05|Beta:32.00|Sigma:451.00|Epsilon:27.23|EpIter:0.00\n",
      "| \u001b[0m 46      \u001b[0m | \u001b[0m 0.8469  \u001b[0m | \u001b[0m 32.94   \u001b[0m | \u001b[0m 27.23   \u001b[0m | \u001b[0m-2.909   \u001b[0m | \u001b[0m 0.0     \u001b[0m | \u001b[0m 451.7   \u001b[0m |\n",
      "Mu:0.50|Mu+:0.05|Beta:32.00|Sigma:456.00|Epsilon:32.04|EpIter:0.00\n",
      "| \u001b[0m 47      \u001b[0m | \u001b[0m 0.9627  \u001b[0m | \u001b[0m 32.69   \u001b[0m | \u001b[0m 32.04   \u001b[0m | \u001b[0m-2.91    \u001b[0m | \u001b[0m 0.0     \u001b[0m | \u001b[0m 456.4   \u001b[0m |\n",
      "Mu:0.50|Mu+:0.05|Beta:28.00|Sigma:452.00|Epsilon:31.81|EpIter:0.00\n",
      "| \u001b[0m 48      \u001b[0m | \u001b[0m 0.9636  \u001b[0m | \u001b[0m 28.39   \u001b[0m | \u001b[0m 31.81   \u001b[0m | \u001b[0m-2.911   \u001b[0m | \u001b[0m 0.0     \u001b[0m | \u001b[0m 452.0   \u001b[0m |\n",
      "Mu:0.50|Mu+:0.05|Beta:32.00|Sigma:455.00|Epsilon:27.92|EpIter:0.00\n",
      "| \u001b[0m 49      \u001b[0m | \u001b[0m 0.8902  \u001b[0m | \u001b[0m 32.26   \u001b[0m | \u001b[0m 27.92   \u001b[0m | \u001b[0m-2.929   \u001b[0m | \u001b[0m 0.0     \u001b[0m | \u001b[0m 455.9   \u001b[0m |\n",
      "Mu:0.50|Mu+:0.05|Beta:32.00|Sigma:452.00|Epsilon:31.42|EpIter:0.00\n",
      "| \u001b[0m 50      \u001b[0m | \u001b[0m 0.9679  \u001b[0m | \u001b[0m 32.08   \u001b[0m | \u001b[0m 31.42   \u001b[0m | \u001b[0m-2.913   \u001b[0m | \u001b[0m 0.0     \u001b[0m | \u001b[0m 452.4   \u001b[0m |\n",
      "Mu:0.50|Mu+:0.05|Beta:28.00|Sigma:455.00|Epsilon:31.26|EpIter:0.00\n",
      "| \u001b[0m 51      \u001b[0m | \u001b[0m 0.9735  \u001b[0m | \u001b[0m 28.94   \u001b[0m | \u001b[0m 31.26   \u001b[0m | \u001b[0m-2.928   \u001b[0m | \u001b[0m 0.0     \u001b[0m | \u001b[0m 455.6   \u001b[0m |\n",
      "Mu:0.50|Mu+:0.05|Beta:31.00|Sigma:452.00|Epsilon:28.42|EpIter:0.00\n",
      "| \u001b[0m 52      \u001b[0m | \u001b[0m 0.9245  \u001b[0m | \u001b[0m 31.77   \u001b[0m | \u001b[0m 28.42   \u001b[0m | \u001b[0m-2.914   \u001b[0m | \u001b[0m 0.0     \u001b[0m | \u001b[0m 452.7   \u001b[0m |\n",
      "Mu:0.50|Mu+:0.05|Beta:31.00|Sigma:455.00|Epsilon:30.97|EpIter:0.00\n",
      "| \u001b[0m 53      \u001b[0m | \u001b[0m 0.9665  \u001b[0m | \u001b[0m 31.63   \u001b[0m | \u001b[0m 30.97   \u001b[0m | \u001b[0m-2.915   \u001b[0m | \u001b[0m 0.0     \u001b[0m | \u001b[0m 455.3   \u001b[0m |\n",
      "Mu:0.50|Mu+:0.05|Beta:29.00|Sigma:452.00|Epsilon:28.67|EpIter:0.00\n",
      "| \u001b[0m 54      \u001b[0m | \u001b[0m 0.9383  \u001b[0m | \u001b[0m 29.34   \u001b[0m | \u001b[0m 28.67   \u001b[0m | \u001b[0m-2.916   \u001b[0m | \u001b[0m 0.0     \u001b[0m | \u001b[0m 453.0   \u001b[0m |\n",
      "Mu:0.50|Mu+:0.05|Beta:31.00|Sigma:455.00|Epsilon:30.74|EpIter:0.00\n",
      "| \u001b[0m 55      \u001b[0m | \u001b[0m 0.9708  \u001b[0m | \u001b[0m 31.4    \u001b[0m | \u001b[0m 30.74   \u001b[0m | \u001b[0m-2.916   \u001b[0m | \u001b[0m 0.0     \u001b[0m | \u001b[0m 455.1   \u001b[0m |\n",
      "Mu:0.50|Mu+:0.05|Beta:31.00|Sigma:453.00|Epsilon:30.64|EpIter:0.00\n",
      "| \u001b[0m 56      \u001b[0m | \u001b[0m 0.97    \u001b[0m | \u001b[0m 31.31   \u001b[0m | \u001b[0m 30.64   \u001b[0m | \u001b[0m-2.917   \u001b[0m | \u001b[0m 0.0     \u001b[0m | \u001b[0m 453.2   \u001b[0m |\n",
      "Mu:0.50|Mu+:0.05|Beta:29.00|Sigma:454.00|Epsilon:28.97|EpIter:0.00\n",
      "| \u001b[0m 57      \u001b[0m | \u001b[0m 0.9808  \u001b[0m | \u001b[0m 29.64   \u001b[0m | \u001b[0m 28.97   \u001b[0m | \u001b[0m-2.924   \u001b[0m | \u001b[0m 0.0     \u001b[0m | \u001b[0m 454.9   \u001b[0m |\n",
      "Mu:0.50|Mu+:0.05|Beta:31.00|Sigma:454.00|Epsilon:30.48|EpIter:0.00\n",
      "| \u001b[0m 58      \u001b[0m | \u001b[0m 0.9753  \u001b[0m | \u001b[0m 31.14   \u001b[0m | \u001b[0m 30.48   \u001b[0m | \u001b[0m-2.924   \u001b[0m | \u001b[0m 0.0     \u001b[0m | \u001b[0m 454.8   \u001b[0m |\n",
      "Mu:0.50|Mu+:0.05|Beta:31.00|Sigma:453.00|Epsilon:29.12|EpIter:0.00\n",
      "| \u001b[0m 59      \u001b[0m | \u001b[0m 0.961   \u001b[0m | \u001b[0m 31.07   \u001b[0m | \u001b[0m 29.12   \u001b[0m | \u001b[0m-2.918   \u001b[0m | \u001b[0m 0.0     \u001b[0m | \u001b[0m 453.4   \u001b[0m |\n",
      "Mu:0.50|Mu+:0.05|Beta:29.00|Sigma:453.00|Epsilon:29.18|EpIter:0.00\n",
      "| \u001b[95m 60      \u001b[0m | \u001b[95m 0.9951  \u001b[0m | \u001b[95m 29.85   \u001b[0m | \u001b[95m 29.18   \u001b[0m | \u001b[95m-2.923   \u001b[0m | \u001b[95m 0.0     \u001b[0m | \u001b[95m 453.5   \u001b[0m |\n",
      "Mu:0.50|Mu+:0.05|Beta:29.00|Sigma:453.00|Epsilon:28.69|EpIter:0.00\n",
      "| \u001b[0m 61      \u001b[0m | \u001b[0m 0.9365  \u001b[0m | \u001b[0m 29.36   \u001b[0m | \u001b[0m 28.69   \u001b[0m | \u001b[0m-2.926   \u001b[0m | \u001b[0m 0.0     \u001b[0m | \u001b[0m 453.0   \u001b[0m |\n",
      "=====================================================================================\n"
     ]
    }
   ],
   "source": [
    "optimizer.maximize(\n",
    "    init_points=10,\n",
    "    n_iter=50,\n",
    "    acq=\"ucb\",\n",
    "    kappa=5,\n",
    "    alpha=1\n",
    ")"
   ]
  },
  {
   "cell_type": "code",
   "execution_count": 49,
   "metadata": {},
   "outputs": [
    {
     "data": {
      "text/plain": [
       "{'target': 0.995140698789793,\n",
       " 'params': {'beta_sp': 29.851689931200102,\n",
       "  'epsilon_sp': 29.182006867073916,\n",
       "  'muIncr_logit': -2.9234846814510673,\n",
       "  'mu_logit': 0.0,\n",
       "  'sigma_sp': 453.49601863602436}}"
      ]
     },
     "execution_count": 49,
     "metadata": {},
     "output_type": "execute_result"
    }
   ],
   "source": [
    "optimizer.max"
   ]
  },
  {
   "cell_type": "code",
   "execution_count": 50,
   "metadata": {
    "ExecuteTime": {
     "end_time": "2020-09-03T22:58:42.653746Z",
     "start_time": "2020-09-03T22:58:42.649916Z"
    }
   },
   "outputs": [
    {
     "data": {
      "text/plain": [
       "0.73010211"
      ]
     },
     "execution_count": 50,
     "metadata": {},
     "output_type": "execute_result"
    }
   ],
   "source": [
    "inv_logit(optimizer.max[\"target\"])"
   ]
  },
  {
   "cell_type": "code",
   "execution_count": 51,
   "metadata": {
    "ExecuteTime": {
     "end_time": "2020-09-03T22:59:56.414823Z",
     "start_time": "2020-09-03T22:59:56.412477Z"
    }
   },
   "outputs": [],
   "source": [
    "params=optimizer.max[\"params\"]"
   ]
  },
  {
   "cell_type": "code",
   "execution_count": 52,
   "metadata": {
    "ExecuteTime": {
     "end_time": "2020-09-03T23:00:39.452694Z",
     "start_time": "2020-09-03T23:00:39.449279Z"
    }
   },
   "outputs": [
    {
     "data": {
      "text/plain": [
       "29.851689931200212"
      ]
     },
     "execution_count": 52,
     "metadata": {},
     "output_type": "execute_result"
    }
   ],
   "source": [
    "softplus(params[\"beta_sp\"])"
   ]
  },
  {
   "cell_type": "code",
   "execution_count": 53,
   "metadata": {
    "ExecuteTime": {
     "end_time": "2020-09-03T23:01:09.671719Z",
     "start_time": "2020-09-03T23:01:09.668333Z"
    }
   },
   "outputs": [
    {
     "data": {
      "text/plain": [
       "453.49601863602436"
      ]
     },
     "execution_count": 53,
     "metadata": {},
     "output_type": "execute_result"
    }
   ],
   "source": [
    "softplus(params[\"sigma_sp\"])"
   ]
  },
  {
   "cell_type": "code",
   "execution_count": 54,
   "metadata": {
    "ExecuteTime": {
     "end_time": "2020-09-04T01:35:00.233453Z",
     "start_time": "2020-09-04T01:35:00.230360Z"
    }
   },
   "outputs": [
    {
     "data": {
      "text/plain": [
       "0.5"
      ]
     },
     "execution_count": 54,
     "metadata": {},
     "output_type": "execute_result"
    }
   ],
   "source": [
    "inv_logit(params[\"mu_logit\"])"
   ]
  },
  {
   "cell_type": "code",
   "execution_count": 55,
   "metadata": {
    "ExecuteTime": {
     "end_time": "2020-09-04T01:35:28.881809Z",
     "start_time": "2020-09-04T01:35:28.878641Z"
    }
   },
   "outputs": [
    {
     "data": {
      "text/plain": [
       "0.051004766758926935"
      ]
     },
     "execution_count": 55,
     "metadata": {},
     "output_type": "execute_result"
    }
   ],
   "source": [
    "inv_logit(params[\"muIncr_logit\"])"
   ]
  },
  {
   "cell_type": "code",
   "execution_count": 45,
   "metadata": {
    "ExecuteTime": {
     "end_time": "2020-09-04T01:36:46.943597Z",
     "start_time": "2020-09-04T01:36:46.940247Z"
    }
   },
   "outputs": [
    {
     "ename": "KeyError",
     "evalue": "'epsilonIterate_logit'",
     "output_type": "error",
     "traceback": [
      "\u001b[0;31m---------------------------------------------------------------------------\u001b[0m",
      "\u001b[0;31mKeyError\u001b[0m                                  Traceback (most recent call last)",
      "\u001b[0;32m<ipython-input-45-628145548ab6>\u001b[0m in \u001b[0;36m<module>\u001b[0;34m\u001b[0m\n\u001b[0;32m----> 1\u001b[0;31m \u001b[0minv_logit\u001b[0m\u001b[0;34m(\u001b[0m\u001b[0mparams\u001b[0m\u001b[0;34m[\u001b[0m\u001b[0;34m\"epsilonIterate_logit\"\u001b[0m\u001b[0;34m]\u001b[0m\u001b[0;34m)\u001b[0m\u001b[0;34m\u001b[0m\u001b[0;34m\u001b[0m\u001b[0m\n\u001b[0m",
      "\u001b[0;31mKeyError\u001b[0m: 'epsilonIterate_logit'"
     ]
    }
   ],
   "source": [
    "inv_logit(params[\"epsilonIterate_logit\"])"
   ]
  },
  {
   "cell_type": "code",
   "execution_count": 56,
   "metadata": {
    "ExecuteTime": {
     "end_time": "2020-09-04T01:36:13.729976Z",
     "start_time": "2020-09-04T01:36:13.726798Z"
    }
   },
   "outputs": [
    {
     "data": {
      "text/plain": [
       "29.18200686707413"
      ]
     },
     "execution_count": 56,
     "metadata": {},
     "output_type": "execute_result"
    }
   ],
   "source": [
    "softplus(params[\"epsilon_sp\"])"
   ]
  },
  {
   "cell_type": "code",
   "execution_count": 57,
   "metadata": {},
   "outputs": [
    {
     "name": "stdout",
     "output_type": "stream",
     "text": [
      "\n",
      ">>>>>>>>>>>>\n",
      "Starting Iteration mu= 0.5\n",
      "Starting Iteration epsilon= 29.18200686707413\n",
      "Running NewMatrix Jar!\n",
      " Single-Reference Blocks = 1\n",
      "\n",
      " Multi-Reference Blocks = 9900\n",
      "NewMatrix Iterateblocks Total Time = 10.462520653381944\n",
      "\n",
      "\n",
      ">>>>>>>>>>>>\n",
      "Starting Iteration mu= 0.551004766758927\n",
      "Starting Iteration epsilon= 29.18200686707413\n",
      "Running NewMatrix Jar!\n",
      " Single-Reference Blocks = 1\n",
      "\n",
      " Multi-Reference Blocks = 9174\n",
      "NewMatrix Iterateblocks Total Time = 10.022749735973775\n",
      "\n",
      "\n",
      ">>>>>>>>>>>>\n",
      "Starting Iteration mu= 0.6020095335178539\n",
      "Starting Iteration epsilon= 29.18200686707413\n",
      "Running NewMatrix Jar!\n",
      " Single-Reference Blocks = 1\n",
      "\n",
      " Multi-Reference Blocks = 7954\n",
      "NewMatrix Iterateblocks Total Time = 8.64361101295799\n",
      "\n",
      "\n",
      ">>>>>>>>>>>>\n",
      "Starting Iteration mu= 0.6530143002767809\n",
      "Starting Iteration epsilon= 29.18200686707413\n",
      "Running NewMatrix Jar!\n",
      " Single-Reference Blocks = 1\n",
      "\n",
      " Multi-Reference Blocks = 5754\n",
      "NewMatrix Iterateblocks Total Time = 6.570374641567469\n",
      "\n",
      "\n",
      ">>>>>>>>>>>>\n",
      "Starting Iteration mu= 0.7040190670357078\n",
      "Starting Iteration epsilon= 29.18200686707413\n",
      "Running NewMatrix Jar!\n",
      " Single-Reference Blocks = 1\n",
      "\n",
      " Multi-Reference Blocks = 3054\n",
      "NewMatrix Iterateblocks Total Time = 3.852817341685295\n",
      "\n",
      "\n",
      ">>>>>>>>>>>>\n",
      "Starting Iteration mu= 0.7550238337946348\n",
      "Starting Iteration epsilon= 29.18200686707413\n",
      "Running NewMatrix Jar!\n",
      " Single-Reference Blocks = 1\n",
      "\n",
      " Multi-Reference Blocks = 1132\n",
      "NewMatrix Iterateblocks Total Time = 1.6686566360294819\n",
      "\n",
      "Precision = TP / (TP + FP) ......................... = 0.77120100\n",
      "Recall = TP / (TP + FN) ............................ = 0.69316208\n",
      "F-Measure .......................................... = 0.73010211\n"
     ]
    },
    {
     "data": {
      "text/plain": [
       "0.73010211"
      ]
     },
     "execution_count": 57,
     "metadata": {},
     "output_type": "execute_result"
    }
   ],
   "source": [
    "entropy_F1(mu=0.5,\n",
    "           muIncr=0.051004766758926935,\n",
    "           beta=29,\n",
    "           sigma=453,\n",
    "           epsilon=29.18200686707413,\n",
    "           epsilonIterate=0)"
   ]
  }
 ],
 "metadata": {
  "kernelspec": {
   "display_name": "Python 3",
   "language": "python",
   "name": "python3"
  },
  "language_info": {
   "codemirror_mode": {
    "name": "ipython",
    "version": 3
   },
   "file_extension": ".py",
   "mimetype": "text/x-python",
   "name": "python",
   "nbconvert_exporter": "python",
   "pygments_lexer": "ipython3",
   "version": "3.7.4"
  },
  "toc": {
   "base_numbering": 1,
   "nav_menu": {},
   "number_sections": true,
   "sideBar": true,
   "skip_h1_title": false,
   "title_cell": "Table of Contents",
   "title_sidebar": "Contents",
   "toc_cell": false,
   "toc_position": {},
   "toc_section_display": true,
   "toc_window_display": false
  },
  "varInspector": {
   "cols": {
    "lenName": 16,
    "lenType": 16,
    "lenVar": 40
   },
   "kernels_config": {
    "python": {
     "delete_cmd_postfix": "",
     "delete_cmd_prefix": "del ",
     "library": "var_list.py",
     "varRefreshCmd": "print(var_dic_list())"
    },
    "r": {
     "delete_cmd_postfix": ") ",
     "delete_cmd_prefix": "rm(",
     "library": "var_list.r",
     "varRefreshCmd": "cat(var_dic_list()) "
    }
   },
   "types_to_exclude": [
    "module",
    "function",
    "builtin_function_or_method",
    "instance",
    "_Feature"
   ],
   "window_display": false
  }
 },
 "nbformat": 4,
 "nbformat_minor": 2
}
