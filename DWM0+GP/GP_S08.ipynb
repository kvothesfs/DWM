{
 "cells": [
  {
   "cell_type": "code",
   "execution_count": 1,
   "metadata": {
    "ExecuteTime": {
     "end_time": "2020-09-03T21:59:20.041891Z",
     "start_time": "2020-09-03T21:59:10.621897Z"
    }
   },
   "outputs": [
    {
     "name": "stdout",
     "output_type": "stream",
     "text": [
      "Tokenizing References\n",
      "Total References= 1000\n",
      "Total Tokens Found = 13025\n",
      "Total Tokens Output = 12511\n",
      "Dictionary Load = 67077\n",
      "<class 'dict'>\n",
      "Global Replace Cycle\n",
      "Total References= 1000\n",
      "Total Tokens= 12511\n",
      "Unique Tokens= 3978\n",
      "Minimum Frequency of Standard Token =  5\n",
      "Minimum Length of Standard Token =  3\n",
      "Maximum Frequency of Error Token =  3\n",
      "References Processed= 1000\n",
      "Sorted Token Size = 3978\n",
      "Clean Token Size = 1776\n",
      "*Stop Replacements here\n",
      "References Processed =  1000\n",
      "Total Replacement Pairs = 240\n",
      "Tokens Read = 12511\n",
      "Tokens Changed =  256\n",
      "References Changed = 233\n"
     ]
    }
   ],
   "source": [
    "import DWM1_Tokenizer\n",
    "import DWM2_Global_Token_Replace_NewDict\n",
    "import DWM3_Entropy_Cluster\n",
    "# Settings for Tokenizer\n",
    "inputSampleName = r'S8'\n",
    "delimiter=','\n",
    "hasHeader = True\n",
    "tokenizerType = 'Splitter'\n",
    "removeDuplicateTokens = True\n",
    "\n",
    "# Setting for global replacement DWM2\n",
    "runReplacement = True\n",
    "minFreqStdToken = 5\n",
    "minLenStdToken = 3\n",
    "maxFreqErrToken = 3\n",
    "\n",
    "# Cluster Settings\n",
    "\n",
    "\n",
    "DWM1_Tokenizer.tokenizeCycle(inputSampleName, delimiter, hasHeader, removeDuplicateTokens, tokenizerType)\n",
    "prefixString = inputSampleName +','+tokenizerType+','+str(removeDuplicateTokens)\n",
    "fileToCluster = inputSampleName + '-Tokenized.txt'\n",
    "if runReplacement:\n",
    "    DWM2_Global_Token_Replace_NewDict.globalReplace(inputSampleName, minFreqStdToken, minLenStdToken, maxFreqErrToken)\n",
    "    fileToCluster = inputSampleName + '-TokenReplace.txt'\n",
    "    prefixString = prefixString+','+str(minFreqStdToken)+','+str(minLenStdToken)+','+str(maxFreqErrToken)\n",
    "else:\n",
    "    prefixString = prefixString+',0,0,0'\n",
    "\n",
    "# Cluster fixed settings\n",
    "epsilonIterate = 0.0\n",
    "runClusterMetrics = False\n",
    "runFinalMetrics = True\n",
    "createFinalJoin = False"
   ]
  },
  {
   "cell_type": "code",
   "execution_count": 2,
   "metadata": {},
   "outputs": [],
   "source": [
    "status=\"done\""
   ]
  },
  {
   "cell_type": "code",
   "execution_count": 3,
   "metadata": {},
   "outputs": [
    {
     "name": "stdout",
     "output_type": "stream",
     "text": [
      "done\n"
     ]
    }
   ],
   "source": [
    "print(status)"
   ]
  },
  {
   "cell_type": "code",
   "execution_count": 14,
   "metadata": {
    "ExecuteTime": {
     "end_time": "2020-09-03T15:11:39.765508Z",
     "start_time": "2020-09-03T15:03:19.495876Z"
    },
    "scrolled": false
   },
   "outputs": [],
   "source": [
    "# # Cluster Robot Settings\n",
    "# muStart = 0.60\n",
    "# muEnd = 0.60\n",
    "# muIncr = 0.05\n",
    "# betaStart = 14\n",
    "# betaEnd = 14\n",
    "# betaIncr = 1\n",
    "# sigmaStart = 145\n",
    "# sigmaEnd = 145\n",
    "# sigmaIncr = 1\n",
    "# epsilonStart = 35\n",
    "# epsilonEnd = 35\n",
    "# epsilonIncr = 1\n",
    "# mu = muStart\n",
    "# while mu <= muEnd:\n",
    "#     beta = betaStart\n",
    "#     while beta <= betaEnd:\n",
    "#         sigma = sigmaStart\n",
    "#         while sigma <= sigmaEnd:\n",
    "#             epsilon = epsilonStart\n",
    "#             while epsilon <= epsilonEnd:\n",
    "#                 suffixString =','+str(epsilon)+','+str(epsilonIterate)\n",
    "#                 resultsList = DWM3_Entropy_Cluster.driver(fileToCluster, beta, sigma, mu, muIncr,epsilon,  \\\n",
    "#                                                      epsilonIterate,runClusterMetrics, runFinalMetrics, createFinalJoin, hasHeader)\n",
    "#                 seg0a = ','+str(resultsList[0])+','+str(resultsList[1])+','+str(resultsList[2])+','+str(resultsList[3])\n",
    "#                 seg0b =','+str(resultsList[4])+','+str(resultsList[5])+','+str(resultsList[6])\n",
    "#                 seg1 = ','+str(beta)+','+str(sigma)+','+str(mu)+ ',' +str(muIncr)\n",
    "#                 seg2 = ','+str(resultsList[7])+','+str(resultsList[8])+','+str(resultsList[9])\n",
    "#                 outString = prefixString+seg0a+seg0b+suffixString+seg1+seg2+'\\n'\n",
    "#                 resultsFile = open('RobotResults.txt','a+')\n",
    "#                 resultsFile.write(outString)\n",
    "#                 resultsFile.close()\n",
    "#                 epsilon = epsilon + epsilonIncr\n",
    "#             sigma = sigma + sigmaIncr\n",
    "#         beta = beta + betaIncr\n",
    "#     mu = mu + muIncr\n",
    "\n",
    "\n",
    " "
   ]
  },
  {
   "cell_type": "markdown",
   "metadata": {
    "ExecuteTime": {
     "end_time": "2020-09-03T16:36:26.229783Z",
     "start_time": "2020-09-03T16:36:26.227755Z"
    }
   },
   "source": [
    "## Bayesian Optimization of Hyperparameters"
   ]
  },
  {
   "cell_type": "code",
   "execution_count": 4,
   "metadata": {},
   "outputs": [],
   "source": [
    "import numpy as np"
   ]
  },
  {
   "cell_type": "markdown",
   "metadata": {
    "ExecuteTime": {
     "end_time": "2020-09-03T16:36:47.947518Z",
     "start_time": "2020-09-03T16:36:47.944251Z"
    }
   },
   "source": [
    "Create a function of the parameters that returns the F score"
   ]
  },
  {
   "cell_type": "code",
   "execution_count": 5,
   "metadata": {
    "ExecuteTime": {
     "end_time": "2020-09-03T21:59:42.561300Z",
     "start_time": "2020-09-03T21:59:42.557193Z"
    }
   },
   "outputs": [],
   "source": [
    "def entropy_F1(beta=14,sigma=145,mu=0.6,muIncr=0.05,epsilon=35,epsilonIterate=0):\n",
    "    resultsList = DWM3_Entropy_Cluster.driver(fileToCluster, \n",
    "                                  beta, \n",
    "                                  sigma, \n",
    "                                  mu, \n",
    "                                  muIncr,\n",
    "                                  epsilon,\n",
    "                                  epsilonIterate,\n",
    "                                  runClusterMetrics, \n",
    "                                  runFinalMetrics, \n",
    "                                  createFinalJoin, \n",
    "                                  hasHeader)\n",
    "    return resultsList[9]"
   ]
  },
  {
   "cell_type": "code",
   "execution_count": 6,
   "metadata": {
    "ExecuteTime": {
     "end_time": "2020-09-03T22:06:32.164588Z",
     "start_time": "2020-09-03T21:59:43.696518Z"
    }
   },
   "outputs": [
    {
     "name": "stdout",
     "output_type": "stream",
     "text": [
      "\n",
      ">>>>>>>>>>>>\n",
      "Starting Iteration mu= 0.5\n",
      "Starting Iteration epsilon= 31.8\n",
      "Running NewMatrix Jar!\n",
      " Single-Reference Blocks = 1\n",
      "\n",
      " Multi-Reference Blocks = 1762\n",
      "NewMatrix Iterateblocks Total Time = 1.603647418320179\n",
      "\n",
      "\n",
      ">>>>>>>>>>>>\n",
      "Starting Iteration mu= 0.55\n",
      "Starting Iteration epsilon= 31.8\n",
      "Running NewMatrix Jar!\n",
      " Single-Reference Blocks = 1\n",
      "\n",
      " Multi-Reference Blocks = 1124\n",
      "NewMatrix Iterateblocks Total Time = 1.2670829417183995\n",
      "\n",
      "\n",
      ">>>>>>>>>>>>\n",
      "Starting Iteration mu= 0.6000000000000001\n",
      "Starting Iteration epsilon= 31.8\n",
      "Running NewMatrix Jar!\n",
      " Single-Reference Blocks = 1\n",
      "\n",
      " Multi-Reference Blocks = 680\n",
      "NewMatrix Iterateblocks Total Time = 0.9383865687996149\n",
      "\n",
      "\n",
      ">>>>>>>>>>>>\n",
      "Starting Iteration mu= 0.6500000000000001\n",
      "Starting Iteration epsilon= 31.8\n",
      "Running NewMatrix Jar!\n",
      " Single-Reference Blocks = 1\n",
      "\n",
      " Multi-Reference Blocks = 219\n",
      "NewMatrix Iterateblocks Total Time = 0.5466598430648446\n",
      "\n",
      "\n",
      ">>>>>>>>>>>>\n",
      "Starting Iteration mu= 0.7000000000000002\n",
      "Starting Iteration epsilon= 31.8\n",
      "Running NewMatrix Jar!\n",
      " Single-Reference Blocks = 1\n",
      "\n",
      " Multi-Reference Blocks = 60\n",
      "NewMatrix Iterateblocks Total Time = 0.26170671451836824\n",
      "\n",
      "Precision = TP / (TP + FP) ......................... = 0.65651483\n",
      "Recall = TP / (TP + FN) ............................ = 0.88409415\n",
      "F-Measure .......................................... = 0.75349544\n"
     ]
    },
    {
     "data": {
      "text/plain": [
       "0.75349544"
      ]
     },
     "execution_count": 6,
     "metadata": {},
     "output_type": "execute_result"
    }
   ],
   "source": [
    "entropy_F1(mu=0.5,muIncr=0.05,beta=33,sigma=449,epsilon=31.8,epsilonIterate=0)"
   ]
  },
  {
   "cell_type": "markdown",
   "metadata": {},
   "source": [
    "Create functions for variable transformation."
   ]
  },
  {
   "cell_type": "code",
   "execution_count": 10,
   "metadata": {
    "ExecuteTime": {
     "end_time": "2020-09-03T22:08:18.856511Z",
     "start_time": "2020-09-03T22:08:18.853611Z"
    }
   },
   "outputs": [],
   "source": [
    "#Softplus to transform real domain into positive\n",
    "def softplus(x):\n",
    "    return np.log(1+np.exp(x))\n",
    "\n",
    "def inv_softplus(x):\n",
    "    return np.log(np.exp(x)-1)"
   ]
  },
  {
   "cell_type": "code",
   "execution_count": 11,
   "metadata": {
    "ExecuteTime": {
     "end_time": "2020-09-03T22:08:27.349548Z",
     "start_time": "2020-09-03T22:08:27.345752Z"
    }
   },
   "outputs": [
    {
     "data": {
      "text/plain": [
       "0.541324854612918"
      ]
     },
     "execution_count": 11,
     "metadata": {},
     "output_type": "execute_result"
    }
   ],
   "source": [
    "inv_softplus(1)"
   ]
  },
  {
   "cell_type": "code",
   "execution_count": 12,
   "metadata": {
    "ExecuteTime": {
     "end_time": "2020-09-03T22:11:24.939913Z",
     "start_time": "2020-09-03T22:11:24.936639Z"
    }
   },
   "outputs": [],
   "source": [
    "#Logit to transform real domain into 0-1\n",
    "def logit(x):    \n",
    "    return np.log(x+1e-54)-np.log(1-x+1e-54)\n",
    "\n",
    "def inv_logit(x):\n",
    "    res=np.exp(x)/(np.exp(x)+1)-2*1e-54\n",
    "    if res<1e-54:\n",
    "        res=0\n",
    "    return res"
   ]
  },
  {
   "cell_type": "markdown",
   "metadata": {},
   "source": [
    "Import BO library:"
   ]
  },
  {
   "cell_type": "code",
   "execution_count": 13,
   "metadata": {
    "ExecuteTime": {
     "end_time": "2020-09-03T22:08:30.622144Z",
     "start_time": "2020-09-03T22:08:30.226842Z"
    }
   },
   "outputs": [],
   "source": [
    "from bayes_opt import BayesianOptimization"
   ]
  },
  {
   "cell_type": "markdown",
   "metadata": {
    "ExecuteTime": {
     "end_time": "2020-09-03T18:14:39.927785Z",
     "start_time": "2020-09-03T18:14:39.924909Z"
    }
   },
   "source": [
    "Create dictionary bounds for the parameters:"
   ]
  },
  {
   "cell_type": "code",
   "execution_count": 14,
   "metadata": {},
   "outputs": [],
   "source": [
    "import os, sys"
   ]
  },
  {
   "cell_type": "code",
   "execution_count": 15,
   "metadata": {},
   "outputs": [],
   "source": [
    "class HiddenPrints:\n",
    "    def __enter__(self):\n",
    "        self._original_stdout = sys.stdout\n",
    "        sys.stdout = open(os.devnull, 'w')\n",
    "\n",
    "    def __exit__(self, exc_type, exc_val, exc_tb):\n",
    "        sys.stdout.close()\n",
    "        sys.stdout = self._original_stdout"
   ]
  },
  {
   "cell_type": "code",
   "execution_count": 16,
   "metadata": {},
   "outputs": [
    {
     "name": "stdout",
     "output_type": "stream",
     "text": [
      "This will be printed as before\n"
     ]
    }
   ],
   "source": [
    "with HiddenPrints():\n",
    "    print(\"This will not be printed\")\n",
    "\n",
    "print(\"This will be printed as before\")"
   ]
  },
  {
   "cell_type": "code",
   "execution_count": 17,
   "metadata": {
    "ExecuteTime": {
     "end_time": "2020-09-03T22:11:53.005154Z",
     "start_time": "2020-09-03T22:11:53.000238Z"
    }
   },
   "outputs": [],
   "source": [
    "#Take parameters in transformed space and return f score in transformed space\n",
    "def entropy_F1_trx(beta_sp,sigma_sp,mu_logit,muIncr_logit,epsilon_sp,epsilonIterate_logit=logit(0)):\n",
    "    beta_pos=int(softplus(beta_sp))\n",
    "    sigma_pos=int(softplus(sigma_sp))\n",
    "    mu_01=inv_logit(mu_logit)\n",
    "    muIncr_01=inv_logit(muIncr_logit)\n",
    "    epsilon_pos=softplus(epsilon_sp)\n",
    "    epsilonIterate_01=inv_logit(epsilonIterate_logit)\n",
    "    \n",
    "    print(\"Mu:%.2f|Mu+:%.2f|Beta:%.2f|Sigma:%.2f|Epsilon:%.2f|EpIter:%.2f\" % (mu_01, muIncr_01, beta_pos, sigma_pos, epsilon_pos, epsilonIterate_01))\n",
    "    \n",
    "    with HiddenPrints():\n",
    "        f1=entropy_F1(beta=beta_pos,\n",
    "                      epsilon=epsilon_pos,\n",
    "                      epsilonIterate=epsilonIterate_01,\n",
    "                      muIncr=muIncr_01,\n",
    "                      sigma=sigma_pos,\n",
    "                      mu=mu_01)\n",
    "    \n",
    "    return logit(f1)"
   ]
  },
  {
   "cell_type": "code",
   "execution_count": 18,
   "metadata": {},
   "outputs": [
    {
     "name": "stdout",
     "output_type": "stream",
     "text": [
      "Mu:0.50|Mu+:0.05|Beta:33.00|Sigma:449.00|Epsilon:31.80|EpIter:0.00\n"
     ]
    },
    {
     "data": {
      "text/plain": [
       "1.1173424739923359"
      ]
     },
     "execution_count": 18,
     "metadata": {},
     "output_type": "execute_result"
    }
   ],
   "source": [
    "entropy_F1_trx(beta_sp=inv_softplus(33),\n",
    "               sigma_sp=inv_softplus(449),\n",
    "               mu_logit=logit(0.5),\n",
    "               muIncr_logit=logit(0.05),\n",
    "               epsilon_sp=inv_softplus(31.8))"
   ]
  },
  {
   "cell_type": "code",
   "execution_count": 22,
   "metadata": {},
   "outputs": [],
   "source": [
    "optimizer=None"
   ]
  },
  {
   "cell_type": "code",
   "execution_count": 23,
   "metadata": {
    "ExecuteTime": {
     "end_time": "2020-09-03T22:11:50.787503Z",
     "start_time": "2020-09-03T22:11:50.784060Z"
    }
   },
   "outputs": [],
   "source": [
    "pbounds = {'beta_sp': (inv_softplus(1), inv_softplus(700)), \n",
    "           'sigma_sp': (inv_softplus(1), inv_softplus(700)),\n",
    "           'mu_logit': (logit(0.5), logit(0.99)),\n",
    "           'muIncr_logit': (logit(0.01), logit(0.2)),\n",
    "           'epsilon_sp': (inv_softplus(1), inv_softplus(700))}#,\n",
    "           #'epsilonIterate_logit': (logit(0), logit(0.25))}"
   ]
  },
  {
   "cell_type": "code",
   "execution_count": 24,
   "metadata": {
    "ExecuteTime": {
     "end_time": "2020-09-03T22:11:56.728829Z",
     "start_time": "2020-09-03T22:11:56.725599Z"
    }
   },
   "outputs": [],
   "source": [
    "optimizer = BayesianOptimization(\n",
    "    f=entropy_F1_trx,\n",
    "    pbounds=pbounds,\n",
    "    random_state=1,\n",
    ")"
   ]
  },
  {
   "cell_type": "code",
   "execution_count": 25,
   "metadata": {},
   "outputs": [],
   "source": [
    "optimizer.probe(\n",
    "    params={\"beta_sp\": inv_softplus(14), \n",
    "            \"sigma_sp\": inv_softplus(145),\n",
    "            \"mu_logit\":logit(0.6),\n",
    "            #'epsilonIterate_logit': logit(0),\n",
    "            \"muIncr_logit\":logit(0.05),\n",
    "            \"epsilon_sp\":inv_softplus(35)},\n",
    "    lazy=True,\n",
    ")"
   ]
  },
  {
   "cell_type": "code",
   "execution_count": 26,
   "metadata": {
    "ExecuteTime": {
     "end_time": "2020-09-03T22:54:10.009085Z",
     "start_time": "2020-09-03T22:11:58.063246Z"
    }
   },
   "outputs": [
    {
     "name": "stdout",
     "output_type": "stream",
     "text": [
      "|   iter    |  target   |  beta_sp  | epsilo... | muIncr... | mu_logit  | sigma_sp  |\n",
      "-------------------------------------------------------------------------------------\n",
      "Mu:0.60|Mu+:0.05|Beta:14.00|Sigma:145.00|Epsilon:35.00|EpIter:0.00\n",
      "| \u001b[0m 1       \u001b[0m | \u001b[0m 1.622   \u001b[0m | \u001b[0m 14.0    \u001b[0m | \u001b[0m 35.0    \u001b[0m | \u001b[0m-2.944   \u001b[0m | \u001b[0m 0.4055  \u001b[0m | \u001b[0m 145.0   \u001b[0m |\n",
      "Mu:0.80|Mu+:0.01|Beta:292.00|Sigma:103.00|Epsilon:504.38|EpIter:0.00\n",
      "| \u001b[0m 2       \u001b[0m | \u001b[0m-0.7735  \u001b[0m | \u001b[0m 292.2   \u001b[0m | \u001b[0m 504.4   \u001b[0m | \u001b[0m-4.595   \u001b[0m | \u001b[0m 1.389   \u001b[0m | \u001b[0m 103.2   \u001b[0m |\n",
      "Mu:0.86|Mu+:0.03|Beta:65.00|Sigma:377.00|Epsilon:130.82|EpIter:0.00\n",
      "| \u001b[0m 3       \u001b[0m | \u001b[0m-1.313   \u001b[0m | \u001b[0m 65.13   \u001b[0m | \u001b[0m 130.8   \u001b[0m | \u001b[0m-3.486   \u001b[0m | \u001b[0m 1.823   \u001b[0m | \u001b[0m 377.4   \u001b[0m |\n",
      "Mu:0.98|Mu+:0.02|Beta:293.00|Sigma:19.00|Epsilon:479.82|EpIter:0.00\n",
      "| \u001b[0m 4       \u001b[0m | \u001b[0m-3.469   \u001b[0m | \u001b[0m 293.8   \u001b[0m | \u001b[0m 479.8   \u001b[0m | \u001b[0m-3.939   \u001b[0m | \u001b[0m 4.035   \u001b[0m | \u001b[0m 19.7    \u001b[0m |\n",
      "Mu:0.66|Mu+:0.06|Beta:469.00|Sigma:139.00|Epsilon:292.43|EpIter:0.00\n",
      "| \u001b[0m 5       \u001b[0m | \u001b[0m 1.118   \u001b[0m | \u001b[0m 469.5   \u001b[0m | \u001b[0m 292.4   \u001b[0m | \u001b[0m-2.802   \u001b[0m | \u001b[0m 0.6451  \u001b[0m | \u001b[0m 139.1   \u001b[0m |\n",
      "Mu:0.96|Mu+:0.03|Beta:560.00|Sigma:613.00|Epsilon:677.80|EpIter:0.00\n",
      "| \u001b[0m 6       \u001b[0m | \u001b[0m-2.848   \u001b[0m | \u001b[0m 560.6   \u001b[0m | \u001b[0m 677.8   \u001b[0m | \u001b[0m-3.589   \u001b[0m | \u001b[0m 3.181   \u001b[0m | \u001b[0m 613.5   \u001b[0m |\n",
      "Mu:0.69|Mu+:0.01|Beta:626.00|Sigma:614.00|Epsilon:60.03|EpIter:0.00\n",
      "| \u001b[0m 7       \u001b[0m | \u001b[0m 0.8135  \u001b[0m | \u001b[0m 626.3   \u001b[0m | \u001b[0m 60.03   \u001b[0m | \u001b[0m-4.47    \u001b[0m | \u001b[0m 0.7804  \u001b[0m | \u001b[0m 614.8   \u001b[0m |\n",
      "Mu:0.92|Mu+:0.18|Beta:69.00|Sigma:484.00|Epsilon:295.09|EpIter:0.00\n",
      "| \u001b[0m 8       \u001b[0m | \u001b[0m-1.952   \u001b[0m | \u001b[0m 69.33   \u001b[0m | \u001b[0m 295.1   \u001b[0m | \u001b[0m-1.521   \u001b[0m | \u001b[0m 2.45    \u001b[0m | \u001b[0m 484.5   \u001b[0m |\n",
      "Mu:0.52|Mu+:0.13|Beta:221.00|Sigma:525.00|Epsilon:480.72|EpIter:0.00\n",
      "| \u001b[0m 9       \u001b[0m | \u001b[0m-4.201   \u001b[0m | \u001b[0m 221.2   \u001b[0m | \u001b[0m 480.7   \u001b[0m | \u001b[0m-1.917   \u001b[0m | \u001b[0m 0.08404 \u001b[0m | \u001b[0m 525.2   \u001b[0m |\n",
      "Mu:0.97|Mu+:0.02|Beta:692.00|Sigma:72.00|Epsilon:523.85|EpIter:0.00\n",
      "| \u001b[0m 10      \u001b[0m | \u001b[0m-3.08    \u001b[0m | \u001b[0m 692.2   \u001b[0m | \u001b[0m 523.9   \u001b[0m | \u001b[0m-3.695   \u001b[0m | \u001b[0m 3.627   \u001b[0m | \u001b[0m 72.74   \u001b[0m |\n",
      "Mu:0.79|Mu+:0.03|Beta:313.00|Sigma:91.00|Epsilon:636.07|EpIter:0.00\n",
      "| \u001b[0m 11      \u001b[0m | \u001b[0m-0.6888  \u001b[0m | \u001b[0m 313.8   \u001b[0m | \u001b[0m 636.1   \u001b[0m | \u001b[0m-3.653   \u001b[0m | \u001b[0m 1.322   \u001b[0m | \u001b[0m 91.49   \u001b[0m |\n",
      "Mu:0.51|Mu+:0.05|Beta:476.00|Sigma:140.00|Epsilon:286.04|EpIter:0.00\n",
      "| \u001b[0m 12      \u001b[0m | \u001b[0m-4.246   \u001b[0m | \u001b[0m 476.3   \u001b[0m | \u001b[0m 286.0   \u001b[0m | \u001b[0m-3.04    \u001b[0m | \u001b[0m 0.04004 \u001b[0m | \u001b[0m 140.3   \u001b[0m |\n",
      "Mu:0.97|Mu+:0.06|Beta:210.00|Sigma:332.00|Epsilon:321.22|EpIter:0.00\n",
      "| \u001b[0m 13      \u001b[0m | \u001b[0m-2.915   \u001b[0m | \u001b[0m 210.3   \u001b[0m | \u001b[0m 321.2   \u001b[0m | \u001b[0m-2.714   \u001b[0m | \u001b[0m 3.415   \u001b[0m | \u001b[0m 332.2   \u001b[0m |\n",
      "Mu:0.96|Mu+:0.01|Beta:515.00|Sigma:456.00|Epsilon:483.49|EpIter:0.00\n",
      "| \u001b[0m 14      \u001b[0m | \u001b[0m-2.737   \u001b[0m | \u001b[0m 515.5   \u001b[0m | \u001b[0m 483.5   \u001b[0m | \u001b[0m-4.288   \u001b[0m | \u001b[0m 3.1     \u001b[0m | \u001b[0m 456.5   \u001b[0m |\n",
      "Mu:0.94|Mu+:0.13|Beta:272.00|Sigma:153.00|Epsilon:648.07|EpIter:0.00\n",
      "| \u001b[0m 15      \u001b[0m | \u001b[0m-2.153   \u001b[0m | \u001b[0m 272.3   \u001b[0m | \u001b[0m 648.1   \u001b[0m | \u001b[0m-1.872   \u001b[0m | \u001b[0m 2.695   \u001b[0m | \u001b[0m 154.0   \u001b[0m |\n",
      "Mu:0.96|Mu+:0.12|Beta:57.00|Sigma:529.00|Epsilon:595.06|EpIter:0.00\n",
      "| \u001b[0m 16      \u001b[0m | \u001b[0m-2.835   \u001b[0m | \u001b[0m 57.13   \u001b[0m | \u001b[0m 595.1   \u001b[0m | \u001b[0m-2.024   \u001b[0m | \u001b[0m 3.161   \u001b[0m | \u001b[0m 529.3   \u001b[0m |\n",
      "Mu:0.51|Mu+:0.15|Beta:164.00|Sigma:524.00|Epsilon:96.63|EpIter:0.00\n",
      "| \u001b[0m 17      \u001b[0m | \u001b[0m-4.321   \u001b[0m | \u001b[0m 164.1   \u001b[0m | \u001b[0m 96.63   \u001b[0m | \u001b[0m-1.759   \u001b[0m | \u001b[0m 0.02704 \u001b[0m | \u001b[0m 524.4   \u001b[0m |\n",
      "Mu:0.88|Mu+:0.19|Beta:385.00|Sigma:577.00|Epsilon:150.26|EpIter:0.00\n",
      "| \u001b[0m 18      \u001b[0m | \u001b[0m-1.491   \u001b[0m | \u001b[0m 385.6   \u001b[0m | \u001b[0m 150.3   \u001b[0m | \u001b[0m-1.442   \u001b[0m | \u001b[0m 1.959   \u001b[0m | \u001b[0m 577.6   \u001b[0m |\n",
      "Mu:0.95|Mu+:0.02|Beta:463.00|Sigma:285.00|Epsilon:353.24|EpIter:0.00\n",
      "| \u001b[0m 19      \u001b[0m | \u001b[0m-2.347   \u001b[0m | \u001b[0m 463.1   \u001b[0m | \u001b[0m 353.2   \u001b[0m | \u001b[0m-3.757   \u001b[0m | \u001b[0m 2.86    \u001b[0m | \u001b[0m 285.1   \u001b[0m |\n",
      "Mu:0.89|Mu+:0.13|Beta:99.00|Sigma:497.00|Epsilon:187.18|EpIter:0.00\n",
      "| \u001b[0m 20      \u001b[0m | \u001b[0m-1.588   \u001b[0m | \u001b[0m 99.05   \u001b[0m | \u001b[0m 187.2   \u001b[0m | \u001b[0m-1.866   \u001b[0m | \u001b[0m 2.063   \u001b[0m | \u001b[0m 497.5   \u001b[0m |\n",
      "Mu:0.96|Mu+:0.02|Beta:328.00|Sigma:328.00|Epsilon:26.88|EpIter:0.00\n",
      "| \u001b[0m 21      \u001b[0m | \u001b[0m-2.773   \u001b[0m | \u001b[0m 328.5   \u001b[0m | \u001b[0m 26.88   \u001b[0m | \u001b[0m-4.177   \u001b[0m | \u001b[0m 3.243   \u001b[0m | \u001b[0m 328.2   \u001b[0m |\n",
      "Mu:0.65|Mu+:0.01|Beta:269.00|Sigma:43.00|Epsilon:372.86|EpIter:0.00\n",
      "| \u001b[0m 22      \u001b[0m | \u001b[0m 0.957   \u001b[0m | \u001b[0m 269.6   \u001b[0m | \u001b[0m 372.9   \u001b[0m | \u001b[0m-4.497   \u001b[0m | \u001b[0m 0.6141  \u001b[0m | \u001b[0m 43.75   \u001b[0m |\n",
      "Mu:0.99|Mu+:0.04|Beta:188.00|Sigma:220.00|Epsilon:378.53|EpIter:0.00\n",
      "| \u001b[0m 23      \u001b[0m | \u001b[0m-4.018   \u001b[0m | \u001b[0m 188.2   \u001b[0m | \u001b[0m 378.5   \u001b[0m | \u001b[0m-3.139   \u001b[0m | \u001b[0m 4.492   \u001b[0m | \u001b[0m 220.2   \u001b[0m |\n",
      "Mu:0.90|Mu+:0.02|Beta:118.00|Sigma:501.00|Epsilon:525.23|EpIter:0.00\n",
      "| \u001b[0m 24      \u001b[0m | \u001b[0m-1.742   \u001b[0m | \u001b[0m 118.5   \u001b[0m | \u001b[0m 525.2   \u001b[0m | \u001b[0m-3.999   \u001b[0m | \u001b[0m 2.251   \u001b[0m | \u001b[0m 502.0   \u001b[0m |\n",
      "Mu:0.93|Mu+:0.04|Beta:466.00|Sigma:226.00|Epsilon:367.94|EpIter:0.00\n",
      "| \u001b[0m 25      \u001b[0m | \u001b[0m-2.099   \u001b[0m | \u001b[0m 466.2   \u001b[0m | \u001b[0m 367.9   \u001b[0m | \u001b[0m-3.243   \u001b[0m | \u001b[0m 2.629   \u001b[0m | \u001b[0m 226.9   \u001b[0m |\n",
      "Mu:0.98|Mu+:0.15|Beta:371.00|Sigma:511.00|Epsilon:403.91|EpIter:0.00\n",
      "| \u001b[0m 26      \u001b[0m | \u001b[0m-3.707   \u001b[0m | \u001b[0m 371.6   \u001b[0m | \u001b[0m 403.9   \u001b[0m | \u001b[0m-1.765   \u001b[0m | \u001b[0m 3.848   \u001b[0m | \u001b[0m 511.6   \u001b[0m |\n",
      "Mu:0.95|Mu+:0.04|Beta:57.00|Sigma:636.00|Epsilon:186.98|EpIter:0.00\n",
      "| \u001b[0m 27      \u001b[0m | \u001b[0m-2.534   \u001b[0m | \u001b[0m 57.07   \u001b[0m | \u001b[0m 187.0   \u001b[0m | \u001b[0m-3.063   \u001b[0m | \u001b[0m 2.952   \u001b[0m | \u001b[0m 636.0   \u001b[0m |\n",
      "Mu:0.99|Mu+:0.04|Beta:601.00|Sigma:87.00|Epsilon:30.06|EpIter:0.00\n",
      "| \u001b[0m 28      \u001b[0m | \u001b[0m-3.801   \u001b[0m | \u001b[0m 601.5   \u001b[0m | \u001b[0m 30.06   \u001b[0m | \u001b[0m-3.243   \u001b[0m | \u001b[0m 4.38    \u001b[0m | \u001b[0m 87.29   \u001b[0m |\n",
      "Mu:0.56|Mu+:0.08|Beta:103.00|Sigma:202.00|Epsilon:416.68|EpIter:0.00\n",
      "| \u001b[0m 29      \u001b[0m | \u001b[0m-2.148   \u001b[0m | \u001b[0m 103.9   \u001b[0m | \u001b[0m 416.7   \u001b[0m | \u001b[0m-2.44    \u001b[0m | \u001b[0m 0.2411  \u001b[0m | \u001b[0m 202.4   \u001b[0m |\n",
      "Mu:0.56|Mu+:0.01|Beta:114.00|Sigma:262.00|Epsilon:418.83|EpIter:0.00\n",
      "| \u001b[0m 30      \u001b[0m | \u001b[0m-1.838   \u001b[0m | \u001b[0m 114.9   \u001b[0m | \u001b[0m 418.8   \u001b[0m | \u001b[0m-4.443   \u001b[0m | \u001b[0m 0.2604  \u001b[0m | \u001b[0m 262.9   \u001b[0m |\n",
      "Mu:0.99|Mu+:0.01|Beta:389.00|Sigma:216.00|Epsilon:629.60|EpIter:0.00\n",
      "| \u001b[0m 31      \u001b[0m | \u001b[0m-3.903   \u001b[0m | \u001b[0m 389.8   \u001b[0m | \u001b[0m 629.6   \u001b[0m | \u001b[0m-4.561   \u001b[0m | \u001b[0m 4.342   \u001b[0m | \u001b[0m 216.8   \u001b[0m |\n",
      "Mu:0.86|Mu+:0.04|Beta:33.00|Sigma:696.00|Epsilon:170.80|EpIter:0.00\n",
      "| \u001b[0m 32      \u001b[0m | \u001b[0m-1.321   \u001b[0m | \u001b[0m 33.4    \u001b[0m | \u001b[0m 170.8   \u001b[0m | \u001b[0m-3.107   \u001b[0m | \u001b[0m 1.778   \u001b[0m | \u001b[0m 696.4   \u001b[0m |\n",
      "Mu:0.54|Mu+:0.06|Beta:506.00|Sigma:562.00|Epsilon:466.79|EpIter:0.00\n",
      "| \u001b[0m 33      \u001b[0m | \u001b[0m-4.068   \u001b[0m | \u001b[0m 506.7   \u001b[0m | \u001b[0m 466.8   \u001b[0m | \u001b[0m-2.728   \u001b[0m | \u001b[0m 0.1435  \u001b[0m | \u001b[0m 562.9   \u001b[0m |\n",
      "Mu:0.89|Mu+:0.07|Beta:117.00|Sigma:78.00|Epsilon:181.28|EpIter:0.00\n",
      "| \u001b[0m 34      \u001b[0m | \u001b[0m-1.658   \u001b[0m | \u001b[0m 117.1   \u001b[0m | \u001b[0m 181.3   \u001b[0m | \u001b[0m-2.654   \u001b[0m | \u001b[0m 2.116   \u001b[0m | \u001b[0m 78.93   \u001b[0m |\n",
      "Mu:0.96|Mu+:0.10|Beta:121.00|Sigma:684.00|Epsilon:76.24|EpIter:0.00\n",
      "| \u001b[0m 35      \u001b[0m | \u001b[0m-2.861   \u001b[0m | \u001b[0m 121.2   \u001b[0m | \u001b[0m 76.24   \u001b[0m | \u001b[0m-2.184   \u001b[0m | \u001b[0m 3.222   \u001b[0m | \u001b[0m 684.4   \u001b[0m |\n",
      "Mu:0.97|Mu+:0.04|Beta:686.00|Sigma:176.00|Epsilon:510.56|EpIter:0.00\n",
      "| \u001b[0m 36      \u001b[0m | \u001b[0m-3.048   \u001b[0m | \u001b[0m 686.0   \u001b[0m | \u001b[0m 510.6   \u001b[0m | \u001b[0m-3.15    \u001b[0m | \u001b[0m 3.542   \u001b[0m | \u001b[0m 176.5   \u001b[0m |\n",
      "Mu:0.85|Mu+:0.08|Beta:535.00|Sigma:583.00|Epsilon:227.60|EpIter:0.00\n",
      "| \u001b[0m 37      \u001b[0m | \u001b[0m-1.265   \u001b[0m | \u001b[0m 535.7   \u001b[0m | \u001b[0m 227.6   \u001b[0m | \u001b[0m-2.426   \u001b[0m | \u001b[0m 1.703   \u001b[0m | \u001b[0m 583.6   \u001b[0m |\n",
      "Mu:0.67|Mu+:0.09|Beta:384.00|Sigma:86.00|Epsilon:63.92|EpIter:0.00\n",
      "| \u001b[0m 38      \u001b[0m | \u001b[0m 0.8085  \u001b[0m | \u001b[0m 384.8   \u001b[0m | \u001b[0m 63.92   \u001b[0m | \u001b[0m-2.374   \u001b[0m | \u001b[0m 0.709   \u001b[0m | \u001b[0m 86.76   \u001b[0m |\n",
      "Mu:0.73|Mu+:0.11|Beta:595.00|Sigma:165.00|Epsilon:333.91|EpIter:0.00\n"
     ]
    },
    {
     "name": "stdout",
     "output_type": "stream",
     "text": [
      "| \u001b[0m 39      \u001b[0m | \u001b[0m 0.3707  \u001b[0m | \u001b[0m 595.8   \u001b[0m | \u001b[0m 333.9   \u001b[0m | \u001b[0m-2.125   \u001b[0m | \u001b[0m 0.973   \u001b[0m | \u001b[0m 166.0   \u001b[0m |\n",
      "Mu:0.84|Mu+:0.10|Beta:550.00|Sigma:460.00|Epsilon:64.74|EpIter:0.00\n",
      "| \u001b[0m 40      \u001b[0m | \u001b[0m-1.248   \u001b[0m | \u001b[0m 550.8   \u001b[0m | \u001b[0m 64.74   \u001b[0m | \u001b[0m-2.243   \u001b[0m | \u001b[0m 1.663   \u001b[0m | \u001b[0m 460.1   \u001b[0m |\n",
      "Mu:0.59|Mu+:0.01|Beta:646.00|Sigma:543.00|Epsilon:656.38|EpIter:0.00\n",
      "| \u001b[0m 41      \u001b[0m | \u001b[0m-0.06951 \u001b[0m | \u001b[0m 646.0   \u001b[0m | \u001b[0m 656.4   \u001b[0m | \u001b[0m-4.536   \u001b[0m | \u001b[0m 0.359   \u001b[0m | \u001b[0m 543.3   \u001b[0m |\n",
      "Mu:0.84|Mu+:0.01|Beta:688.00|Sigma:670.00|Epsilon:62.09|EpIter:0.00\n",
      "| \u001b[0m 42      \u001b[0m | \u001b[0m-1.245   \u001b[0m | \u001b[0m 688.4   \u001b[0m | \u001b[0m 62.09   \u001b[0m | \u001b[0m-4.417   \u001b[0m | \u001b[0m 1.661   \u001b[0m | \u001b[0m 670.4   \u001b[0m |\n",
      "Mu:0.98|Mu+:0.02|Beta:82.00|Sigma:486.00|Epsilon:602.11|EpIter:0.00\n",
      "| \u001b[0m 43      \u001b[0m | \u001b[0m-3.94    \u001b[0m | \u001b[0m 82.95   \u001b[0m | \u001b[0m 602.1   \u001b[0m | \u001b[0m-3.844   \u001b[0m | \u001b[0m 4.11    \u001b[0m | \u001b[0m 486.3   \u001b[0m |\n",
      "Mu:0.93|Mu+:0.06|Beta:675.00|Sigma:418.00|Epsilon:20.67|EpIter:0.00\n",
      "| \u001b[0m 44      \u001b[0m | \u001b[0m-2.223   \u001b[0m | \u001b[0m 675.7   \u001b[0m | \u001b[0m 20.67   \u001b[0m | \u001b[0m-2.754   \u001b[0m | \u001b[0m 2.658   \u001b[0m | \u001b[0m 418.6   \u001b[0m |\n",
      "Mu:0.64|Mu+:0.01|Beta:586.00|Sigma:448.00|Epsilon:504.40|EpIter:0.00\n",
      "| \u001b[0m 45      \u001b[0m | \u001b[0m 1.193   \u001b[0m | \u001b[0m 586.7   \u001b[0m | \u001b[0m 504.4   \u001b[0m | \u001b[0m-4.559   \u001b[0m | \u001b[0m 0.5787  \u001b[0m | \u001b[0m 448.5   \u001b[0m |\n",
      "Mu:0.68|Mu+:0.10|Beta:25.00|Sigma:68.00|Epsilon:660.77|EpIter:0.00\n",
      "| \u001b[0m 46      \u001b[0m | \u001b[0m 0.643   \u001b[0m | \u001b[0m 25.47   \u001b[0m | \u001b[0m 660.8   \u001b[0m | \u001b[0m-2.231   \u001b[0m | \u001b[0m 0.7482  \u001b[0m | \u001b[0m 68.22   \u001b[0m |\n",
      "Mu:0.98|Mu+:0.19|Beta:361.00|Sigma:262.00|Epsilon:403.65|EpIter:0.00\n",
      "| \u001b[0m 47      \u001b[0m | \u001b[0m-3.357   \u001b[0m | \u001b[0m 361.9   \u001b[0m | \u001b[0m 403.7   \u001b[0m | \u001b[0m-1.436   \u001b[0m | \u001b[0m 3.798   \u001b[0m | \u001b[0m 262.6   \u001b[0m |\n",
      "Mu:0.98|Mu+:0.12|Beta:545.00|Sigma:228.00|Epsilon:370.79|EpIter:0.00\n",
      "| \u001b[0m 48      \u001b[0m | \u001b[0m-3.621   \u001b[0m | \u001b[0m 545.5   \u001b[0m | \u001b[0m 370.8   \u001b[0m | \u001b[0m-1.968   \u001b[0m | \u001b[0m 4.102   \u001b[0m | \u001b[0m 228.6   \u001b[0m |\n",
      "Mu:0.93|Mu+:0.13|Beta:530.00|Sigma:476.00|Epsilon:314.99|EpIter:0.00\n",
      "| \u001b[0m 49      \u001b[0m | \u001b[0m-2.112   \u001b[0m | \u001b[0m 530.4   \u001b[0m | \u001b[0m 315.0   \u001b[0m | \u001b[0m-1.883   \u001b[0m | \u001b[0m 2.598   \u001b[0m | \u001b[0m 476.1   \u001b[0m |\n",
      "Mu:0.66|Mu+:0.09|Beta:327.00|Sigma:339.00|Epsilon:389.23|EpIter:0.00\n",
      "| \u001b[0m 50      \u001b[0m | \u001b[0m 1.03    \u001b[0m | \u001b[0m 327.7   \u001b[0m | \u001b[0m 389.2   \u001b[0m | \u001b[0m-2.367   \u001b[0m | \u001b[0m 0.6581  \u001b[0m | \u001b[0m 339.9   \u001b[0m |\n",
      "Mu:0.91|Mu+:0.07|Beta:114.00|Sigma:566.00|Epsilon:35.63|EpIter:0.00\n",
      "| \u001b[0m 51      \u001b[0m | \u001b[0m-1.801   \u001b[0m | \u001b[0m 114.1   \u001b[0m | \u001b[0m 35.63   \u001b[0m | \u001b[0m-2.549   \u001b[0m | \u001b[0m 2.313   \u001b[0m | \u001b[0m 566.9   \u001b[0m |\n",
      "Mu:0.98|Mu+:0.05|Beta:668.00|Sigma:538.00|Epsilon:537.81|EpIter:0.00\n",
      "| \u001b[0m 52      \u001b[0m | \u001b[0m-3.649   \u001b[0m | \u001b[0m 668.8   \u001b[0m | \u001b[0m 537.8   \u001b[0m | \u001b[0m-2.959   \u001b[0m | \u001b[0m 3.735   \u001b[0m | \u001b[0m 538.2   \u001b[0m |\n",
      "Mu:0.89|Mu+:0.12|Beta:580.00|Sigma:277.00|Epsilon:259.07|EpIter:0.00\n",
      "| \u001b[0m 53      \u001b[0m | \u001b[0m-1.502   \u001b[0m | \u001b[0m 580.2   \u001b[0m | \u001b[0m 259.1   \u001b[0m | \u001b[0m-2.02    \u001b[0m | \u001b[0m 2.059   \u001b[0m | \u001b[0m 277.7   \u001b[0m |\n",
      "Mu:0.87|Mu+:0.01|Beta:688.00|Sigma:92.00|Epsilon:548.74|EpIter:0.00\n",
      "| \u001b[0m 54      \u001b[0m | \u001b[0m-1.454   \u001b[0m | \u001b[0m 688.1   \u001b[0m | \u001b[0m 548.7   \u001b[0m | \u001b[0m-4.283   \u001b[0m | \u001b[0m 1.9     \u001b[0m | \u001b[0m 92.68   \u001b[0m |\n",
      "Mu:0.90|Mu+:0.09|Beta:30.00|Sigma:423.00|Epsilon:39.63|EpIter:0.00\n",
      "| \u001b[0m 55      \u001b[0m | \u001b[0m-1.686   \u001b[0m | \u001b[0m 30.66   \u001b[0m | \u001b[0m 39.63   \u001b[0m | \u001b[0m-2.343   \u001b[0m | \u001b[0m 2.184   \u001b[0m | \u001b[0m 423.5   \u001b[0m |\n",
      "Mu:0.72|Mu+:0.06|Beta:331.00|Sigma:69.00|Epsilon:439.92|EpIter:0.00\n",
      "| \u001b[0m 56      \u001b[0m | \u001b[0m-0.01835 \u001b[0m | \u001b[0m 331.8   \u001b[0m | \u001b[0m 439.9   \u001b[0m | \u001b[0m-2.708   \u001b[0m | \u001b[0m 0.9289  \u001b[0m | \u001b[0m 69.6    \u001b[0m |\n",
      "Mu:0.82|Mu+:0.01|Beta:153.00|Sigma:278.00|Epsilon:201.26|EpIter:0.00\n",
      "| \u001b[0m 57      \u001b[0m | \u001b[0m-0.8608  \u001b[0m | \u001b[0m 153.4   \u001b[0m | \u001b[0m 201.3   \u001b[0m | \u001b[0m-4.564   \u001b[0m | \u001b[0m 1.499   \u001b[0m | \u001b[0m 278.6   \u001b[0m |\n",
      "Mu:0.97|Mu+:0.02|Beta:123.00|Sigma:255.00|Epsilon:117.05|EpIter:0.00\n",
      "| \u001b[0m 58      \u001b[0m | \u001b[0m-3.164   \u001b[0m | \u001b[0m 123.3   \u001b[0m | \u001b[0m 117.0   \u001b[0m | \u001b[0m-4.109   \u001b[0m | \u001b[0m 3.543   \u001b[0m | \u001b[0m 255.6   \u001b[0m |\n",
      "Mu:0.75|Mu+:0.04|Beta:674.00|Sigma:98.00|Epsilon:528.53|EpIter:0.00\n",
      "| \u001b[0m 59      \u001b[0m | \u001b[0m-0.3354  \u001b[0m | \u001b[0m 674.3   \u001b[0m | \u001b[0m 528.5   \u001b[0m | \u001b[0m-3.293   \u001b[0m | \u001b[0m 1.122   \u001b[0m | \u001b[0m 98.33   \u001b[0m |\n",
      "Mu:0.93|Mu+:0.14|Beta:422.00|Sigma:381.00|Epsilon:444.27|EpIter:0.00\n",
      "| \u001b[0m 60      \u001b[0m | \u001b[0m-1.946   \u001b[0m | \u001b[0m 422.9   \u001b[0m | \u001b[0m 444.3   \u001b[0m | \u001b[0m-1.809   \u001b[0m | \u001b[0m 2.519   \u001b[0m | \u001b[0m 381.2   \u001b[0m |\n",
      "Mu:0.92|Mu+:0.04|Beta:648.00|Sigma:183.00|Epsilon:138.66|EpIter:0.00\n",
      "| \u001b[0m 61      \u001b[0m | \u001b[0m-1.843   \u001b[0m | \u001b[0m 648.4   \u001b[0m | \u001b[0m 138.7   \u001b[0m | \u001b[0m-3.108   \u001b[0m | \u001b[0m 2.4     \u001b[0m | \u001b[0m 183.2   \u001b[0m |\n",
      "=====================================================================================\n"
     ]
    }
   ],
   "source": [
    "optimizer.maximize(\n",
    "    init_points=10,\n",
    "    n_iter=50,\n",
    ")"
   ]
  },
  {
   "cell_type": "code",
   "execution_count": 27,
   "metadata": {},
   "outputs": [
    {
     "data": {
      "text/plain": [
       "{'target': 1.6215592703375883,\n",
       " 'params': {'beta_sp': 13.999999168470936,\n",
       "  'epsilon_sp': 35.0,\n",
       "  'muIncr_logit': -2.9444389791664403,\n",
       "  'mu_logit': 0.4054651081081643,\n",
       "  'sigma_sp': 145.0}}"
      ]
     },
     "execution_count": 27,
     "metadata": {},
     "output_type": "execute_result"
    }
   ],
   "source": [
    "optimizer.max"
   ]
  },
  {
   "cell_type": "code",
   "execution_count": 28,
   "metadata": {
    "ExecuteTime": {
     "end_time": "2020-09-03T22:58:42.653746Z",
     "start_time": "2020-09-03T22:58:42.649916Z"
    }
   },
   "outputs": [
    {
     "data": {
      "text/plain": [
       "0.83501006"
      ]
     },
     "execution_count": 28,
     "metadata": {},
     "output_type": "execute_result"
    }
   ],
   "source": [
    "inv_logit(optimizer.max[\"target\"])"
   ]
  },
  {
   "cell_type": "code",
   "execution_count": 29,
   "metadata": {
    "ExecuteTime": {
     "end_time": "2020-09-03T22:59:56.414823Z",
     "start_time": "2020-09-03T22:59:56.412477Z"
    }
   },
   "outputs": [],
   "source": [
    "params=optimizer.max[\"params\"]"
   ]
  },
  {
   "cell_type": "code",
   "execution_count": 30,
   "metadata": {
    "ExecuteTime": {
     "end_time": "2020-09-03T23:00:39.452694Z",
     "start_time": "2020-09-03T23:00:39.449279Z"
    }
   },
   "outputs": [
    {
     "data": {
      "text/plain": [
       "14.0"
      ]
     },
     "execution_count": 30,
     "metadata": {},
     "output_type": "execute_result"
    }
   ],
   "source": [
    "softplus(params[\"beta_sp\"])"
   ]
  },
  {
   "cell_type": "code",
   "execution_count": 31,
   "metadata": {
    "ExecuteTime": {
     "end_time": "2020-09-03T23:01:09.671719Z",
     "start_time": "2020-09-03T23:01:09.668333Z"
    }
   },
   "outputs": [
    {
     "data": {
      "text/plain": [
       "145.0"
      ]
     },
     "execution_count": 31,
     "metadata": {},
     "output_type": "execute_result"
    }
   ],
   "source": [
    "softplus(params[\"sigma_sp\"])"
   ]
  },
  {
   "cell_type": "code",
   "execution_count": 32,
   "metadata": {
    "ExecuteTime": {
     "end_time": "2020-09-04T01:35:00.233453Z",
     "start_time": "2020-09-04T01:35:00.230360Z"
    }
   },
   "outputs": [
    {
     "data": {
      "text/plain": [
       "0.5999999999999999"
      ]
     },
     "execution_count": 32,
     "metadata": {},
     "output_type": "execute_result"
    }
   ],
   "source": [
    "inv_logit(params[\"mu_logit\"])"
   ]
  },
  {
   "cell_type": "code",
   "execution_count": 33,
   "metadata": {
    "ExecuteTime": {
     "end_time": "2020-09-04T01:35:28.881809Z",
     "start_time": "2020-09-04T01:35:28.878641Z"
    }
   },
   "outputs": [
    {
     "data": {
      "text/plain": [
       "0.05000000000000002"
      ]
     },
     "execution_count": 33,
     "metadata": {},
     "output_type": "execute_result"
    }
   ],
   "source": [
    "inv_logit(params[\"muIncr_logit\"])"
   ]
  },
  {
   "cell_type": "code",
   "execution_count": 34,
   "metadata": {
    "ExecuteTime": {
     "end_time": "2020-09-04T01:36:46.943597Z",
     "start_time": "2020-09-04T01:36:46.940247Z"
    }
   },
   "outputs": [
    {
     "ename": "KeyError",
     "evalue": "'epsilonIterate_logit'",
     "output_type": "error",
     "traceback": [
      "\u001b[0;31m---------------------------------------------------------------------------\u001b[0m",
      "\u001b[0;31mKeyError\u001b[0m                                  Traceback (most recent call last)",
      "\u001b[0;32m<ipython-input-34-628145548ab6>\u001b[0m in \u001b[0;36m<module>\u001b[0;34m\u001b[0m\n\u001b[0;32m----> 1\u001b[0;31m \u001b[0minv_logit\u001b[0m\u001b[0;34m(\u001b[0m\u001b[0mparams\u001b[0m\u001b[0;34m[\u001b[0m\u001b[0;34m\"epsilonIterate_logit\"\u001b[0m\u001b[0;34m]\u001b[0m\u001b[0;34m)\u001b[0m\u001b[0;34m\u001b[0m\u001b[0;34m\u001b[0m\u001b[0m\n\u001b[0m",
      "\u001b[0;31mKeyError\u001b[0m: 'epsilonIterate_logit'"
     ]
    }
   ],
   "source": [
    "inv_logit(params[\"epsilonIterate_logit\"])"
   ]
  },
  {
   "cell_type": "code",
   "execution_count": 35,
   "metadata": {
    "ExecuteTime": {
     "end_time": "2020-09-04T01:36:13.729976Z",
     "start_time": "2020-09-04T01:36:13.726798Z"
    }
   },
   "outputs": [
    {
     "data": {
      "text/plain": [
       "35.0"
      ]
     },
     "execution_count": 35,
     "metadata": {},
     "output_type": "execute_result"
    }
   ],
   "source": [
    "softplus(params[\"epsilon_sp\"])"
   ]
  },
  {
   "cell_type": "code",
   "execution_count": 36,
   "metadata": {},
   "outputs": [
    {
     "name": "stdout",
     "output_type": "stream",
     "text": [
      "\n",
      ">>>>>>>>>>>>\n",
      "Starting Iteration mu= 0.6\n",
      "Starting Iteration epsilon= 35\n",
      "Running NewMatrix Jar!\n",
      " Single-Reference Blocks = 1\n",
      "\n",
      " Multi-Reference Blocks = 1715\n",
      "NewMatrix Iterateblocks Total Time = 1.3094799518585205\n",
      "\n",
      "Precision = TP / (TP + FP) ......................... = 0.78797468\n",
      "Recall = TP / (TP + FN) ............................ = 0.88801712\n",
      "F-Measure .......................................... = 0.83501006\n"
     ]
    },
    {
     "data": {
      "text/plain": [
       "0.83501006"
      ]
     },
     "execution_count": 36,
     "metadata": {},
     "output_type": "execute_result"
    }
   ],
   "source": [
    "entropy_F1(mu=0.6,\n",
    "           muIncr=0.05,\n",
    "           beta=14,\n",
    "           sigma=145,\n",
    "           epsilon=35,\n",
    "           epsilonIterate=0)"
   ]
  }
 ],
 "metadata": {
  "kernelspec": {
   "display_name": "Python 3",
   "language": "python",
   "name": "python3"
  },
  "language_info": {
   "codemirror_mode": {
    "name": "ipython",
    "version": 3
   },
   "file_extension": ".py",
   "mimetype": "text/x-python",
   "name": "python",
   "nbconvert_exporter": "python",
   "pygments_lexer": "ipython3",
   "version": "3.7.4"
  },
  "toc": {
   "base_numbering": 1,
   "nav_menu": {},
   "number_sections": true,
   "sideBar": true,
   "skip_h1_title": false,
   "title_cell": "Table of Contents",
   "title_sidebar": "Contents",
   "toc_cell": false,
   "toc_position": {},
   "toc_section_display": true,
   "toc_window_display": false
  },
  "varInspector": {
   "cols": {
    "lenName": 16,
    "lenType": 16,
    "lenVar": 40
   },
   "kernels_config": {
    "python": {
     "delete_cmd_postfix": "",
     "delete_cmd_prefix": "del ",
     "library": "var_list.py",
     "varRefreshCmd": "print(var_dic_list())"
    },
    "r": {
     "delete_cmd_postfix": ") ",
     "delete_cmd_prefix": "rm(",
     "library": "var_list.r",
     "varRefreshCmd": "cat(var_dic_list()) "
    }
   },
   "types_to_exclude": [
    "module",
    "function",
    "builtin_function_or_method",
    "instance",
    "_Feature"
   ],
   "window_display": false
  }
 },
 "nbformat": 4,
 "nbformat_minor": 2
}
