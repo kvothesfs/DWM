{
 "cells": [
  {
   "cell_type": "code",
   "execution_count": 11,
   "metadata": {
    "ExecuteTime": {
     "end_time": "2020-09-03T21:59:20.041891Z",
     "start_time": "2020-09-03T21:59:10.621897Z"
    }
   },
   "outputs": [
    {
     "name": "stdout",
     "output_type": "stream",
     "text": [
      "Tokenizing References\n",
      "Total References= 1912\n",
      "Total Tokens Found = 24340\n",
      "Total Tokens Output = 24287\n",
      "Dictionary Load = 67077\n",
      "<class 'dict'>\n",
      "Global Replace Cycle\n",
      "Total References= 1912\n",
      "Total Tokens= 24287\n",
      "Unique Tokens= 5182\n",
      "Minimum Frequency of Standard Token =  5\n",
      "Minimum Length of Standard Token =  3\n",
      "Maximum Frequency of Error Token =  3\n",
      "References Processed= 1912\n",
      "Sorted Token Size = 5182\n",
      "Clean Token Size = 2394\n",
      "*Stop Replacements here\n",
      "References Processed =  1912\n",
      "Total Replacement Pairs = 113\n",
      "Tokens Read = 24287\n",
      "Tokens Changed =  164\n",
      "References Changed = 156\n"
     ]
    }
   ],
   "source": [
    "import DWM1_Tokenizer\n",
    "import DWM2_Global_Token_Replace_NewDict\n",
    "import DWM3_Entropy_Cluster\n",
    "# Settings for Tokenizer\n",
    "inputSampleName = r'S4'\n",
    "delimiter=','\n",
    "hasHeader = True\n",
    "tokenizerType = 'Splitter'\n",
    "removeDuplicateTokens = True\n",
    "\n",
    "# Setting for global replacement DWM2\n",
    "runReplacement = True\n",
    "minFreqStdToken = 5\n",
    "minLenStdToken = 3\n",
    "maxFreqErrToken = 3\n",
    "\n",
    "# Cluster Settings\n",
    "\n",
    "\n",
    "DWM1_Tokenizer.tokenizeCycle(inputSampleName, delimiter, hasHeader, removeDuplicateTokens, tokenizerType)\n",
    "prefixString = inputSampleName +','+tokenizerType+','+str(removeDuplicateTokens)\n",
    "fileToCluster = inputSampleName + '-Tokenized.txt'\n",
    "if runReplacement:\n",
    "    DWM2_Global_Token_Replace_NewDict.globalReplace(inputSampleName, minFreqStdToken, minLenStdToken, maxFreqErrToken)\n",
    "    fileToCluster = inputSampleName + '-TokenReplace.txt'\n",
    "    prefixString = prefixString+','+str(minFreqStdToken)+','+str(minLenStdToken)+','+str(maxFreqErrToken)\n",
    "else:\n",
    "    prefixString = prefixString+',0,0,0'\n",
    "\n",
    "# Cluster fixed settings\n",
    "epsilonIterate = 0.0\n",
    "runClusterMetrics = False\n",
    "runFinalMetrics = True\n",
    "createFinalJoin = False"
   ]
  },
  {
   "cell_type": "code",
   "execution_count": 12,
   "metadata": {},
   "outputs": [],
   "source": [
    "status=\"done\""
   ]
  },
  {
   "cell_type": "code",
   "execution_count": 13,
   "metadata": {},
   "outputs": [
    {
     "name": "stdout",
     "output_type": "stream",
     "text": [
      "done\n"
     ]
    }
   ],
   "source": [
    "print(status)"
   ]
  },
  {
   "cell_type": "code",
   "execution_count": 14,
   "metadata": {
    "ExecuteTime": {
     "end_time": "2020-09-03T15:11:39.765508Z",
     "start_time": "2020-09-03T15:03:19.495876Z"
    },
    "scrolled": false
   },
   "outputs": [],
   "source": [
    "# # Cluster Robot Settings\n",
    "# muStart = 0.60\n",
    "# muEnd = 0.60\n",
    "# muIncr = 0.05\n",
    "# betaStart = 14\n",
    "# betaEnd = 14\n",
    "# betaIncr = 1\n",
    "# sigmaStart = 145\n",
    "# sigmaEnd = 145\n",
    "# sigmaIncr = 1\n",
    "# epsilonStart = 35\n",
    "# epsilonEnd = 35\n",
    "# epsilonIncr = 1\n",
    "# mu = muStart\n",
    "# while mu <= muEnd:\n",
    "#     beta = betaStart\n",
    "#     while beta <= betaEnd:\n",
    "#         sigma = sigmaStart\n",
    "#         while sigma <= sigmaEnd:\n",
    "#             epsilon = epsilonStart\n",
    "#             while epsilon <= epsilonEnd:\n",
    "#                 suffixString =','+str(epsilon)+','+str(epsilonIterate)\n",
    "#                 resultsList = DWM3_Entropy_Cluster.driver(fileToCluster, beta, sigma, mu, muIncr,epsilon,  \\\n",
    "#                                                      epsilonIterate,runClusterMetrics, runFinalMetrics, createFinalJoin, hasHeader)\n",
    "#                 seg0a = ','+str(resultsList[0])+','+str(resultsList[1])+','+str(resultsList[2])+','+str(resultsList[3])\n",
    "#                 seg0b =','+str(resultsList[4])+','+str(resultsList[5])+','+str(resultsList[6])\n",
    "#                 seg1 = ','+str(beta)+','+str(sigma)+','+str(mu)+ ',' +str(muIncr)\n",
    "#                 seg2 = ','+str(resultsList[7])+','+str(resultsList[8])+','+str(resultsList[9])\n",
    "#                 outString = prefixString+seg0a+seg0b+suffixString+seg1+seg2+'\\n'\n",
    "#                 resultsFile = open('RobotResults.txt','a+')\n",
    "#                 resultsFile.write(outString)\n",
    "#                 resultsFile.close()\n",
    "#                 epsilon = epsilon + epsilonIncr\n",
    "#             sigma = sigma + sigmaIncr\n",
    "#         beta = beta + betaIncr\n",
    "#     mu = mu + muIncr\n",
    "\n",
    "\n",
    " "
   ]
  },
  {
   "cell_type": "markdown",
   "metadata": {
    "ExecuteTime": {
     "end_time": "2020-09-03T16:36:26.229783Z",
     "start_time": "2020-09-03T16:36:26.227755Z"
    }
   },
   "source": [
    "## Bayesian Optimization of Hyperparameters"
   ]
  },
  {
   "cell_type": "code",
   "execution_count": 15,
   "metadata": {},
   "outputs": [],
   "source": [
    "import numpy as np"
   ]
  },
  {
   "cell_type": "markdown",
   "metadata": {
    "ExecuteTime": {
     "end_time": "2020-09-03T16:36:47.947518Z",
     "start_time": "2020-09-03T16:36:47.944251Z"
    }
   },
   "source": [
    "Create a function of the parameters that returns the F score"
   ]
  },
  {
   "cell_type": "code",
   "execution_count": 16,
   "metadata": {
    "ExecuteTime": {
     "end_time": "2020-09-03T21:59:42.561300Z",
     "start_time": "2020-09-03T21:59:42.557193Z"
    }
   },
   "outputs": [],
   "source": [
    "def entropy_F1(beta=14,sigma=145,mu=0.6,muIncr=0.05,epsilon=35,epsilonIterate=0):\n",
    "    resultsList = DWM3_Entropy_Cluster.driver(fileToCluster, \n",
    "                                  beta, \n",
    "                                  sigma, \n",
    "                                  mu, \n",
    "                                  muIncr,\n",
    "                                  epsilon,\n",
    "                                  epsilonIterate,\n",
    "                                  runClusterMetrics, \n",
    "                                  runFinalMetrics, \n",
    "                                  createFinalJoin, \n",
    "                                  hasHeader)\n",
    "    return resultsList[9]"
   ]
  },
  {
   "cell_type": "code",
   "execution_count": 17,
   "metadata": {
    "ExecuteTime": {
     "end_time": "2020-09-03T22:06:32.164588Z",
     "start_time": "2020-09-03T21:59:43.696518Z"
    }
   },
   "outputs": [
    {
     "name": "stdout",
     "output_type": "stream",
     "text": [
      "\n",
      ">>>>>>>>>>>>\n",
      "Starting Iteration mu= 0.5\n",
      "Starting Iteration epsilon= 31.8\n",
      "Running NewMatrix Jar!\n",
      " Single-Reference Blocks = 1\n",
      "\n",
      " Multi-Reference Blocks = 2711\n",
      "NewMatrix Iterateblocks Total Time = 2.42470367718488\n",
      "\n",
      "\n",
      ">>>>>>>>>>>>\n",
      "Starting Iteration mu= 0.55\n",
      "Starting Iteration epsilon= 31.8\n",
      "Running NewMatrix Jar!\n",
      " Single-Reference Blocks = 1\n",
      "\n",
      " Multi-Reference Blocks = 2077\n",
      "NewMatrix Iterateblocks Total Time = 1.8216272424906492\n",
      "\n",
      "\n",
      ">>>>>>>>>>>>\n",
      "Starting Iteration mu= 0.6000000000000001\n",
      "Starting Iteration epsilon= 31.8\n",
      "Running NewMatrix Jar!\n",
      " Single-Reference Blocks = 1\n",
      "\n",
      " Multi-Reference Blocks = 1176\n",
      "NewMatrix Iterateblocks Total Time = 1.1315043196082115\n",
      "\n",
      "\n",
      ">>>>>>>>>>>>\n",
      "Starting Iteration mu= 0.6500000000000001\n",
      "Starting Iteration epsilon= 31.8\n",
      "Running NewMatrix Jar!\n",
      " Single-Reference Blocks = 1\n",
      "\n",
      " Multi-Reference Blocks = 454\n",
      "NewMatrix Iterateblocks Total Time = 0.7782448390498757\n",
      "\n",
      "\n",
      ">>>>>>>>>>>>\n",
      "Starting Iteration mu= 0.7000000000000002\n",
      "Starting Iteration epsilon= 31.8\n",
      "Running NewMatrix Jar!\n",
      " Single-Reference Blocks = 1\n",
      "\n",
      " Multi-Reference Blocks = 143\n",
      "NewMatrix Iterateblocks Total Time = 0.41121781151741743\n",
      "\n",
      "Precision = TP / (TP + FP) ......................... = 0.33577661\n",
      "Recall = TP / (TP + FN) ............................ = 0.97171717\n",
      "F-Measure .......................................... = 0.49909209\n"
     ]
    },
    {
     "data": {
      "text/plain": [
       "0.49909209"
      ]
     },
     "execution_count": 17,
     "metadata": {},
     "output_type": "execute_result"
    }
   ],
   "source": [
    "entropy_F1(mu=0.5,muIncr=0.05,beta=33,sigma=449,epsilon=31.8,epsilonIterate=0)"
   ]
  },
  {
   "cell_type": "markdown",
   "metadata": {},
   "source": [
    "Create functions for variable transformation."
   ]
  },
  {
   "cell_type": "code",
   "execution_count": 18,
   "metadata": {
    "ExecuteTime": {
     "end_time": "2020-09-03T22:08:18.856511Z",
     "start_time": "2020-09-03T22:08:18.853611Z"
    }
   },
   "outputs": [],
   "source": [
    "#Softplus to transform real domain into positive\n",
    "def softplus(x):\n",
    "    return np.log(1+np.exp(x))\n",
    "\n",
    "def inv_softplus(x):\n",
    "    return np.log(np.exp(x)-1)"
   ]
  },
  {
   "cell_type": "code",
   "execution_count": 19,
   "metadata": {
    "ExecuteTime": {
     "end_time": "2020-09-03T22:08:27.349548Z",
     "start_time": "2020-09-03T22:08:27.345752Z"
    }
   },
   "outputs": [
    {
     "data": {
      "text/plain": [
       "0.541324854612918"
      ]
     },
     "execution_count": 19,
     "metadata": {},
     "output_type": "execute_result"
    }
   ],
   "source": [
    "inv_softplus(1)"
   ]
  },
  {
   "cell_type": "code",
   "execution_count": 20,
   "metadata": {
    "ExecuteTime": {
     "end_time": "2020-09-03T22:11:24.939913Z",
     "start_time": "2020-09-03T22:11:24.936639Z"
    }
   },
   "outputs": [],
   "source": [
    "#Logit to transform real domain into 0-1\n",
    "def logit(x):    \n",
    "    return np.log(x+1e-54)-np.log(1-x+1e-54)\n",
    "\n",
    "def inv_logit(x):\n",
    "    res=np.exp(x)/(np.exp(x)+1)-2*1e-54\n",
    "    if res<1e-54:\n",
    "        res=0\n",
    "    return res"
   ]
  },
  {
   "cell_type": "markdown",
   "metadata": {},
   "source": [
    "Import BO library:"
   ]
  },
  {
   "cell_type": "code",
   "execution_count": 21,
   "metadata": {
    "ExecuteTime": {
     "end_time": "2020-09-03T22:08:30.622144Z",
     "start_time": "2020-09-03T22:08:30.226842Z"
    }
   },
   "outputs": [],
   "source": [
    "from bayes_opt import BayesianOptimization"
   ]
  },
  {
   "cell_type": "markdown",
   "metadata": {
    "ExecuteTime": {
     "end_time": "2020-09-03T18:14:39.927785Z",
     "start_time": "2020-09-03T18:14:39.924909Z"
    }
   },
   "source": [
    "Create dictionary bounds for the parameters:"
   ]
  },
  {
   "cell_type": "code",
   "execution_count": 22,
   "metadata": {},
   "outputs": [],
   "source": [
    "import os, sys"
   ]
  },
  {
   "cell_type": "code",
   "execution_count": 23,
   "metadata": {},
   "outputs": [],
   "source": [
    "class HiddenPrints:\n",
    "    def __enter__(self):\n",
    "        self._original_stdout = sys.stdout\n",
    "        sys.stdout = open(os.devnull, 'w')\n",
    "\n",
    "    def __exit__(self, exc_type, exc_val, exc_tb):\n",
    "        sys.stdout.close()\n",
    "        sys.stdout = self._original_stdout"
   ]
  },
  {
   "cell_type": "code",
   "execution_count": 24,
   "metadata": {},
   "outputs": [
    {
     "name": "stdout",
     "output_type": "stream",
     "text": [
      "This will be printed as before\n"
     ]
    }
   ],
   "source": [
    "with HiddenPrints():\n",
    "    print(\"This will not be printed\")\n",
    "\n",
    "print(\"This will be printed as before\")"
   ]
  },
  {
   "cell_type": "code",
   "execution_count": 25,
   "metadata": {
    "ExecuteTime": {
     "end_time": "2020-09-03T22:11:53.005154Z",
     "start_time": "2020-09-03T22:11:53.000238Z"
    }
   },
   "outputs": [],
   "source": [
    "#Take parameters in transformed space and return f score in transformed space\n",
    "def entropy_F1_trx(beta_sp,sigma_sp,mu_logit,muIncr_logit,epsilon_sp,epsilonIterate_logit=logit(0)):\n",
    "    beta_pos=int(softplus(beta_sp))\n",
    "    sigma_pos=int(softplus(sigma_sp))\n",
    "    mu_01=inv_logit(mu_logit)\n",
    "    muIncr_01=inv_logit(muIncr_logit)\n",
    "    epsilon_pos=softplus(epsilon_sp)\n",
    "    epsilonIterate_01=inv_logit(epsilonIterate_logit)\n",
    "    \n",
    "    print(\"Mu:%.2f|Mu+:%.2f|Beta:%.2f|Sigma:%.2f|Epsilon:%.2f|EpIter:%.2f\" % (mu_01, muIncr_01, beta_pos, sigma_pos, epsilon_pos, epsilonIterate_01))\n",
    "    \n",
    "    with HiddenPrints():\n",
    "        f1=entropy_F1(beta=beta_pos,\n",
    "                      epsilon=epsilon_pos,\n",
    "                      epsilonIterate=epsilonIterate_01,\n",
    "                      muIncr=muIncr_01,\n",
    "                      sigma=sigma_pos,\n",
    "                      mu=mu_01)\n",
    "    \n",
    "    return logit(f1)"
   ]
  },
  {
   "cell_type": "code",
   "execution_count": 26,
   "metadata": {},
   "outputs": [
    {
     "name": "stdout",
     "output_type": "stream",
     "text": [
      "Mu:0.50|Mu+:0.05|Beta:33.00|Sigma:449.00|Epsilon:31.80|EpIter:0.00\n"
     ]
    },
    {
     "data": {
      "text/plain": [
       "-0.0036316439914252374"
      ]
     },
     "execution_count": 26,
     "metadata": {},
     "output_type": "execute_result"
    }
   ],
   "source": [
    "entropy_F1_trx(beta_sp=inv_softplus(33),\n",
    "               sigma_sp=inv_softplus(449),\n",
    "               mu_logit=logit(0.5),\n",
    "               muIncr_logit=logit(0.05),\n",
    "               epsilon_sp=inv_softplus(31.8))"
   ]
  },
  {
   "cell_type": "code",
   "execution_count": 35,
   "metadata": {},
   "outputs": [],
   "source": [
    "optimizer=None"
   ]
  },
  {
   "cell_type": "code",
   "execution_count": 36,
   "metadata": {
    "ExecuteTime": {
     "end_time": "2020-09-03T22:11:50.787503Z",
     "start_time": "2020-09-03T22:11:50.784060Z"
    }
   },
   "outputs": [],
   "source": [
    "pbounds = {'beta_sp': (inv_softplus(1), inv_softplus(500)), \n",
    "           'sigma_sp': (inv_softplus(1), inv_softplus(500)),\n",
    "           'mu_logit': (logit(0.5), logit(0.8)),\n",
    "           'muIncr_logit': (logit(0.01), logit(0.2)),\n",
    "           'epsilon_sp': (inv_softplus(1), inv_softplus(500)),\n",
    "           'epsilonIterate_logit': (logit(0), logit(0.25))}"
   ]
  },
  {
   "cell_type": "code",
   "execution_count": 37,
   "metadata": {
    "ExecuteTime": {
     "end_time": "2020-09-03T22:11:56.728829Z",
     "start_time": "2020-09-03T22:11:56.725599Z"
    }
   },
   "outputs": [],
   "source": [
    "optimizer = BayesianOptimization(\n",
    "    f=entropy_F1_trx,\n",
    "    pbounds=pbounds,\n",
    "    random_state=1,\n",
    ")"
   ]
  },
  {
   "cell_type": "code",
   "execution_count": 38,
   "metadata": {},
   "outputs": [],
   "source": [
    "optimizer.probe(\n",
    "    params={\"beta_sp\": inv_softplus(12), \n",
    "            \"sigma_sp\": inv_softplus(22),\n",
    "            \"mu_logit\":logit(0.5),\n",
    "            'epsilonIterate_logit': logit(0),\n",
    "            \"muIncr_logit\":logit(0.1),\n",
    "            \"epsilon_sp\":inv_softplus(3.1)},\n",
    "    lazy=True,\n",
    ")"
   ]
  },
  {
   "cell_type": "code",
   "execution_count": 39,
   "metadata": {
    "ExecuteTime": {
     "end_time": "2020-09-03T22:54:10.009085Z",
     "start_time": "2020-09-03T22:11:58.063246Z"
    }
   },
   "outputs": [
    {
     "name": "stdout",
     "output_type": "stream",
     "text": [
      "|   iter    |  target   |  beta_sp  | epsilo... | epsilo... | muIncr... | mu_logit  | sigma_sp  |\n",
      "-------------------------------------------------------------------------------------------------\n",
      "Mu:0.50|Mu+:0.10|Beta:12.00|Sigma:22.00|Epsilon:3.10|EpIter:0.00\n",
      "| \u001b[0m 1       \u001b[0m | \u001b[0m 2.34    \u001b[0m | \u001b[0m 12.0    \u001b[0m | \u001b[0m-124.3   \u001b[0m | \u001b[0m 3.054   \u001b[0m | \u001b[0m-2.197   \u001b[0m | \u001b[0m 0.0     \u001b[0m | \u001b[0m 22.0    \u001b[0m |\n",
      "Mu:0.55|Mu+:0.03|Beta:208.00|Sigma:46.00|Epsilon:1.04|EpIter:0.00\n",
      "| \u001b[0m 2       \u001b[0m | \u001b[0m 1.007   \u001b[0m | \u001b[0m 208.8   \u001b[0m | \u001b[0m-35.57   \u001b[0m | \u001b[0m 0.5985  \u001b[0m | \u001b[0m-3.625   \u001b[0m | \u001b[0m 0.2034  \u001b[0m | \u001b[0m 46.66   \u001b[0m |\n",
      "Mu:0.64|Mu+:0.05|Beta:93.00|Sigma:342.00|Epsilon:198.71|EpIter:0.00\n",
      "| \u001b[0m 3       \u001b[0m | \u001b[0m 0.7104  \u001b[0m | \u001b[0m 93.57   \u001b[0m | \u001b[0m-81.75   \u001b[0m | \u001b[0m 198.7   \u001b[0m | \u001b[0m-2.866   \u001b[0m | \u001b[0m 0.5811  \u001b[0m | \u001b[0m 342.8   \u001b[0m |\n",
      "Mu:0.64|Mu+:0.08|Beta:102.00|Sigma:279.00|Epsilon:14.22|EpIter:0.00\n",
      "| \u001b[0m 4       \u001b[0m | \u001b[0m 1.126   \u001b[0m | \u001b[0m 102.7   \u001b[0m | \u001b[0m-16.12   \u001b[0m | \u001b[0m 14.22   \u001b[0m | \u001b[0m-2.444   \u001b[0m | \u001b[0m 0.5785  \u001b[0m | \u001b[0m 279.6   \u001b[0m |\n",
      "Mu:0.61|Mu+:0.18|Beta:70.00|Sigma:346.00|Epsilon:400.48|EpIter:0.00\n",
      "| \u001b[0m 5       \u001b[0m | \u001b[0m-0.2025  \u001b[0m | \u001b[0m 70.66   \u001b[0m | \u001b[0m-99.93   \u001b[0m | \u001b[0m 400.5   \u001b[0m | \u001b[0m-1.488   \u001b[0m | \u001b[0m 0.4345  \u001b[0m | \u001b[0m 346.3   \u001b[0m |\n",
      "Mu:0.56|Mu+:0.01|Beta:438.00|Sigma:439.00|Epsilon:43.02|EpIter:0.00\n",
      "| \u001b[0m 6       \u001b[0m | \u001b[0m-1.099   \u001b[0m | \u001b[0m 438.3   \u001b[0m | \u001b[0m-14.09   \u001b[0m | \u001b[0m 43.02   \u001b[0m | \u001b[0m-4.47    \u001b[0m | \u001b[0m 0.2354  \u001b[0m | \u001b[0m 439.1   \u001b[0m |\n",
      "Mu:0.72|Mu+:0.05|Beta:49.00|Sigma:158.00|Epsilon:478.97|EpIter:0.00\n",
      "| \u001b[0m 7       \u001b[0m | \u001b[0m 1.822   \u001b[0m | \u001b[0m 49.66   \u001b[0m | \u001b[0m-72.44   \u001b[0m | \u001b[0m 479.0   \u001b[0m | \u001b[0m-2.884   \u001b[0m | \u001b[0m 0.9591  \u001b[0m | \u001b[0m 158.1   \u001b[0m |\n",
      "Mu:0.80|Mu+:0.10|Beta:343.00|Sigma:374.00|Epsilon:9.68|EpIter:0.00\n",
      "| \u001b[0m 8       \u001b[0m | \u001b[0m 1.897   \u001b[0m | \u001b[0m 343.4   \u001b[0m | \u001b[0m-21.48   \u001b[0m | \u001b[0m 9.676   \u001b[0m | \u001b[0m-2.188   \u001b[0m | \u001b[0m 1.371   \u001b[0m | \u001b[0m 374.2   \u001b[0m |\n",
      "Mu:0.78|Mu+:0.04|Beta:140.00|Sigma:147.00|Epsilon:52.10|EpIter:0.00\n",
      "| \u001b[0m 9       \u001b[0m | \u001b[0m 1.971   \u001b[0m | \u001b[0m 140.6   \u001b[0m | \u001b[0m-27.07   \u001b[0m | \u001b[0m 52.1    \u001b[0m | \u001b[0m-3.158   \u001b[0m | \u001b[0m 1.26    \u001b[0m | \u001b[0m 147.2   \u001b[0m |\n",
      "Mu:0.57|Mu+:0.08|Beta:144.00|Sigma:133.00|Epsilon:10.21|EpIter:0.00\n",
      "| \u001b[0m 10      \u001b[0m | \u001b[0m 1.363   \u001b[0m | \u001b[0m 144.3   \u001b[0m | \u001b[0m-108.3   \u001b[0m | \u001b[0m 10.21   \u001b[0m | \u001b[0m-2.417   \u001b[0m | \u001b[0m 0.2934  \u001b[0m | \u001b[0m 133.2   \u001b[0m |\n",
      "Mu:0.69|Mu+:0.02|Beta:246.00|Sigma:350.00|Epsilon:287.29|EpIter:0.00\n",
      "| \u001b[0m 11      \u001b[0m | \u001b[0m 1.485   \u001b[0m | \u001b[0m 246.1   \u001b[0m | \u001b[0m-117.8   \u001b[0m | \u001b[0m 287.3   \u001b[0m | \u001b[0m-4.124   \u001b[0m | \u001b[0m 0.817   \u001b[0m | \u001b[0m 350.0   \u001b[0m |\n",
      "Mu:0.80|Mu+:0.07|Beta:142.00|Sigma:146.00|Epsilon:48.99|EpIter:0.00\n",
      "| \u001b[0m 12      \u001b[0m | \u001b[0m 1.953   \u001b[0m | \u001b[0m 142.3   \u001b[0m | \u001b[0m-22.1    \u001b[0m | \u001b[0m 48.99   \u001b[0m | \u001b[0m-2.629   \u001b[0m | \u001b[0m 1.359   \u001b[0m | \u001b[0m 146.1   \u001b[0m |\n",
      "Mu:0.71|Mu+:0.06|Beta:35.00|Sigma:67.00|Epsilon:36.44|EpIter:0.00\n",
      "| \u001b[0m 13      \u001b[0m | \u001b[0m 1.578   \u001b[0m | \u001b[0m 35.69   \u001b[0m | \u001b[0m-70.63   \u001b[0m | \u001b[0m 36.44   \u001b[0m | \u001b[0m-2.694   \u001b[0m | \u001b[0m 0.9039  \u001b[0m | \u001b[0m 67.03   \u001b[0m |\n",
      "Mu:0.80|Mu+:0.20|Beta:283.00|Sigma:306.00|Epsilon:1.00|EpIter:0.00\n",
      "| \u001b[0m 14      \u001b[0m | \u001b[0m 0.6325  \u001b[0m | \u001b[0m 283.6   \u001b[0m | \u001b[0m-28.09   \u001b[0m | \u001b[0m 0.5413  \u001b[0m | \u001b[0m-1.386   \u001b[0m | \u001b[0m 1.386   \u001b[0m | \u001b[0m 306.1   \u001b[0m |\n",
      "Mu:0.76|Mu+:0.13|Beta:38.00|Sigma:10.00|Epsilon:61.67|EpIter:0.00\n",
      "| \u001b[0m 15      \u001b[0m | \u001b[0m 1.285   \u001b[0m | \u001b[0m 38.27   \u001b[0m | \u001b[0m-111.4   \u001b[0m | \u001b[0m 61.67   \u001b[0m | \u001b[0m-1.884   \u001b[0m | \u001b[0m 1.156   \u001b[0m | \u001b[0m 10.66   \u001b[0m |\n",
      "Mu:0.80|Mu+:0.20|Beta:95.00|Sigma:126.00|Epsilon:115.54|EpIter:0.25\n",
      "| \u001b[0m 16      \u001b[0m | \u001b[0m 1.953   \u001b[0m | \u001b[0m 95.5    \u001b[0m | \u001b[0m-1.099   \u001b[0m | \u001b[0m 115.5   \u001b[0m | \u001b[0m-1.386   \u001b[0m | \u001b[0m 1.386   \u001b[0m | \u001b[0m 127.0   \u001b[0m |\n",
      "Mu:0.80|Mu+:0.01|Beta:184.00|Sigma:151.00|Epsilon:136.16|EpIter:0.01\n",
      "| \u001b[0m 17      \u001b[0m | \u001b[0m 1.93    \u001b[0m | \u001b[0m 184.5   \u001b[0m | \u001b[0m-4.794   \u001b[0m | \u001b[0m 136.2   \u001b[0m | \u001b[0m-4.595   \u001b[0m | \u001b[0m 1.386   \u001b[0m | \u001b[0m 151.9   \u001b[0m |\n",
      "Mu:0.80|Mu+:0.20|Beta:134.00|Sigma:132.00|Epsilon:170.16|EpIter:0.00\n",
      "| \u001b[0m 18      \u001b[0m | \u001b[0m 1.953   \u001b[0m | \u001b[0m 134.6   \u001b[0m | \u001b[0m-89.81   \u001b[0m | \u001b[0m 170.2   \u001b[0m | \u001b[0m-1.386   \u001b[0m | \u001b[0m 1.386   \u001b[0m | \u001b[0m 132.8   \u001b[0m |\n",
      "Mu:0.58|Mu+:0.01|Beta:137.00|Sigma:90.00|Epsilon:233.50|EpIter:0.25\n",
      "| \u001b[0m 19      \u001b[0m | \u001b[0m-4.38    \u001b[0m | \u001b[0m 137.4   \u001b[0m | \u001b[0m-1.099   \u001b[0m | \u001b[0m 233.5   \u001b[0m | \u001b[0m-4.595   \u001b[0m | \u001b[0m 0.3401  \u001b[0m | \u001b[0m 90.73   \u001b[0m |\n",
      "Mu:0.76|Mu+:0.05|Beta:161.00|Sigma:137.00|Epsilon:101.42|EpIter:0.00\n",
      "| \u001b[0m 20      \u001b[0m | \u001b[0m 2.079   \u001b[0m | \u001b[0m 161.2   \u001b[0m | \u001b[0m-42.79   \u001b[0m | \u001b[0m 101.4   \u001b[0m | \u001b[0m-3.042   \u001b[0m | \u001b[0m 1.162   \u001b[0m | \u001b[0m 137.5   \u001b[0m |\n",
      "Mu:0.80|Mu+:0.20|Beta:119.00|Sigma:174.00|Epsilon:124.39|EpIter:0.00\n",
      "| \u001b[0m 21      \u001b[0m | \u001b[0m 1.935   \u001b[0m | \u001b[0m 119.3   \u001b[0m | \u001b[0m-49.89   \u001b[0m | \u001b[0m 124.4   \u001b[0m | \u001b[0m-1.386   \u001b[0m | \u001b[0m 1.386   \u001b[0m | \u001b[0m 174.7   \u001b[0m |\n",
      "Mu:0.80|Mu+:0.20|Beta:102.00|Sigma:117.00|Epsilon:105.85|EpIter:0.00\n",
      "| \u001b[0m 22      \u001b[0m | \u001b[0m 1.981   \u001b[0m | \u001b[0m 102.2   \u001b[0m | \u001b[0m-81.93   \u001b[0m | \u001b[0m 105.9   \u001b[0m | \u001b[0m-1.386   \u001b[0m | \u001b[0m 1.386   \u001b[0m | \u001b[0m 117.8   \u001b[0m |\n",
      "Mu:0.80|Mu+:0.20|Beta:159.00|Sigma:159.00|Epsilon:122.68|EpIter:0.00\n",
      "| \u001b[0m 23      \u001b[0m | \u001b[0m 1.935   \u001b[0m | \u001b[0m 159.2   \u001b[0m | \u001b[0m-119.1   \u001b[0m | \u001b[0m 122.7   \u001b[0m | \u001b[0m-1.386   \u001b[0m | \u001b[0m 1.386   \u001b[0m | \u001b[0m 159.0   \u001b[0m |\n",
      "Mu:0.80|Mu+:0.20|Beta:177.00|Sigma:202.00|Epsilon:88.70|EpIter:0.25\n",
      "| \u001b[0m 24      \u001b[0m | \u001b[0m 1.929   \u001b[0m | \u001b[0m 177.1   \u001b[0m | \u001b[0m-1.099   \u001b[0m | \u001b[0m 88.7    \u001b[0m | \u001b[0m-1.386   \u001b[0m | \u001b[0m 1.386   \u001b[0m | \u001b[0m 202.1   \u001b[0m |\n",
      "Mu:0.80|Mu+:0.01|Beta:220.00|Sigma:191.00|Epsilon:130.96|EpIter:0.00\n",
      "| \u001b[0m 25      \u001b[0m | \u001b[0m 1.929   \u001b[0m | \u001b[0m 220.0   \u001b[0m | \u001b[0m-63.42   \u001b[0m | \u001b[0m 131.0   \u001b[0m | \u001b[0m-4.595   \u001b[0m | \u001b[0m 1.386   \u001b[0m | \u001b[0m 191.0   \u001b[0m |\n",
      "Mu:0.80|Mu+:0.20|Beta:74.00|Sigma:166.00|Epsilon:155.06|EpIter:0.00\n",
      "| \u001b[0m 26      \u001b[0m | \u001b[0m 1.935   \u001b[0m | \u001b[0m 74.34   \u001b[0m | \u001b[0m-124.3   \u001b[0m | \u001b[0m 155.1   \u001b[0m | \u001b[0m-1.386   \u001b[0m | \u001b[0m 1.386   \u001b[0m | \u001b[0m 166.7   \u001b[0m |\n",
      "Mu:0.80|Mu+:0.20|Beta:45.00|Sigma:161.00|Epsilon:60.03|EpIter:0.25\n",
      "| \u001b[0m 27      \u001b[0m | \u001b[0m 1.935   \u001b[0m | \u001b[0m 45.49   \u001b[0m | \u001b[0m-1.099   \u001b[0m | \u001b[0m 60.03   \u001b[0m | \u001b[0m-1.386   \u001b[0m | \u001b[0m 1.386   \u001b[0m | \u001b[0m 161.4   \u001b[0m |\n",
      "Mu:0.71|Mu+:0.03|Beta:12.00|Sigma:164.00|Epsilon:109.45|EpIter:0.00\n",
      "| \u001b[0m 28      \u001b[0m | \u001b[0m 1.82    \u001b[0m | \u001b[0m 12.59   \u001b[0m | \u001b[0m-68.8    \u001b[0m | \u001b[0m 109.4   \u001b[0m | \u001b[0m-3.446   \u001b[0m | \u001b[0m 0.9086  \u001b[0m | \u001b[0m 165.0   \u001b[0m |\n",
      "Mu:0.50|Mu+:0.20|Beta:1.00|Sigma:1.00|Epsilon:1.00|EpIter:0.00\n",
      "| \u001b[0m 29      \u001b[0m | \u001b[0m-124.3   \u001b[0m | \u001b[0m 0.5413  \u001b[0m | \u001b[0m-48.63   \u001b[0m | \u001b[0m 0.5413  \u001b[0m | \u001b[0m-1.386   \u001b[0m | \u001b[0m 0.0     \u001b[0m | \u001b[0m 0.5413  \u001b[0m |\n",
      "Mu:0.80|Mu+:0.01|Beta:214.00|Sigma:187.00|Epsilon:129.54|EpIter:0.00\n",
      "| \u001b[0m 30      \u001b[0m | \u001b[0m 1.923   \u001b[0m | \u001b[0m 214.4   \u001b[0m | \u001b[0m-58.97   \u001b[0m | \u001b[0m 129.5   \u001b[0m | \u001b[0m-4.433   \u001b[0m | \u001b[0m 1.381   \u001b[0m | \u001b[0m 187.3   \u001b[0m |\n",
      "Mu:0.80|Mu+:0.08|Beta:146.00|Sigma:144.00|Epsilon:58.61|EpIter:0.00\n",
      "| \u001b[0m 31      \u001b[0m | \u001b[0m 1.949   \u001b[0m | \u001b[0m 146.4   \u001b[0m | \u001b[0m-22.99   \u001b[0m | \u001b[0m 58.61   \u001b[0m | \u001b[0m-2.391   \u001b[0m | \u001b[0m 1.377   \u001b[0m | \u001b[0m 145.0   \u001b[0m |\n",
      "Mu:0.78|Mu+:0.05|Beta:154.00|Sigma:143.00|Epsilon:97.07|EpIter:0.00\n",
      "| \u001b[0m 32      \u001b[0m | \u001b[0m 1.999   \u001b[0m | \u001b[0m 154.6   \u001b[0m | \u001b[0m-37.58   \u001b[0m | \u001b[0m 97.07   \u001b[0m | \u001b[0m-2.85    \u001b[0m | \u001b[0m 1.239   \u001b[0m | \u001b[0m 143.7   \u001b[0m |\n",
      "Mu:0.72|Mu+:0.01|Beta:158.00|Sigma:134.00|Epsilon:97.87|EpIter:0.00\n",
      "| \u001b[0m 33      \u001b[0m | \u001b[0m 1.887   \u001b[0m | \u001b[0m 158.4   \u001b[0m | \u001b[0m-25.17   \u001b[0m | \u001b[0m 97.87   \u001b[0m | \u001b[0m-4.469   \u001b[0m | \u001b[0m 0.957   \u001b[0m | \u001b[0m 134.3   \u001b[0m |\n",
      "Mu:0.76|Mu+:0.02|Beta:128.00|Sigma:179.00|Epsilon:126.33|EpIter:0.00\n",
      "| \u001b[0m 34      \u001b[0m | \u001b[0m 1.976   \u001b[0m | \u001b[0m 128.7   \u001b[0m | \u001b[0m-52.88   \u001b[0m | \u001b[0m 126.3   \u001b[0m | \u001b[0m-4.135   \u001b[0m | \u001b[0m 1.132   \u001b[0m | \u001b[0m 179.1   \u001b[0m |\n",
      "Mu:0.80|Mu+:0.01|Beta:211.00|Sigma:187.00|Epsilon:129.87|EpIter:0.00\n",
      "| \u001b[0m 35      \u001b[0m | \u001b[0m 1.923   \u001b[0m | \u001b[0m 211.7   \u001b[0m | \u001b[0m-69.15   \u001b[0m | \u001b[0m 129.9   \u001b[0m | \u001b[0m-4.3     \u001b[0m | \u001b[0m 1.377   \u001b[0m | \u001b[0m 188.0   \u001b[0m |\n",
      "Mu:0.77|Mu+:0.02|Beta:111.00|Sigma:117.00|Epsilon:109.06|EpIter:0.00\n"
     ]
    },
    {
     "name": "stdout",
     "output_type": "stream",
     "text": [
      "| \u001b[0m 36      \u001b[0m | \u001b[0m 2.096   \u001b[0m | \u001b[0m 111.1   \u001b[0m | \u001b[0m-80.81   \u001b[0m | \u001b[0m 109.1   \u001b[0m | \u001b[0m-3.664   \u001b[0m | \u001b[0m 1.229   \u001b[0m | \u001b[0m 117.6   \u001b[0m |\n",
      "Mu:0.80|Mu+:0.20|Beta:107.00|Sigma:128.00|Epsilon:110.69|EpIter:0.00\n",
      "| \u001b[0m 37      \u001b[0m | \u001b[0m 1.953   \u001b[0m | \u001b[0m 107.8   \u001b[0m | \u001b[0m-76.12   \u001b[0m | \u001b[0m 110.7   \u001b[0m | \u001b[0m-1.386   \u001b[0m | \u001b[0m 1.386   \u001b[0m | \u001b[0m 128.1   \u001b[0m |\n",
      "Mu:0.58|Mu+:0.14|Beta:163.00|Sigma:137.00|Epsilon:81.31|EpIter:0.00\n",
      "| \u001b[0m 38      \u001b[0m | \u001b[0m-4.278   \u001b[0m | \u001b[0m 163.3   \u001b[0m | \u001b[0m-33.06   \u001b[0m | \u001b[0m 81.31   \u001b[0m | \u001b[0m-1.835   \u001b[0m | \u001b[0m 0.3048  \u001b[0m | \u001b[0m 137.2   \u001b[0m |\n",
      "Mu:0.69|Mu+:0.01|Beta:162.00|Sigma:127.00|Epsilon:111.09|EpIter:0.00\n",
      "| \u001b[0m 39      \u001b[0m | \u001b[0m 1.423   \u001b[0m | \u001b[0m 162.4   \u001b[0m | \u001b[0m-26.52   \u001b[0m | \u001b[0m 111.1   \u001b[0m | \u001b[0m-4.452   \u001b[0m | \u001b[0m 0.7999  \u001b[0m | \u001b[0m 128.0   \u001b[0m |\n",
      "Mu:0.80|Mu+:0.01|Beta:215.00|Sigma:185.00|Epsilon:136.57|EpIter:0.00\n",
      "| \u001b[0m 40      \u001b[0m | \u001b[0m 1.923   \u001b[0m | \u001b[0m 215.5   \u001b[0m | \u001b[0m-64.65   \u001b[0m | \u001b[0m 136.6   \u001b[0m | \u001b[0m-4.595   \u001b[0m | \u001b[0m 1.386   \u001b[0m | \u001b[0m 185.3   \u001b[0m |\n",
      "Mu:0.73|Mu+:0.03|Beta:115.00|Sigma:182.00|Epsilon:123.51|EpIter:0.00\n",
      "| \u001b[0m 41      \u001b[0m | \u001b[0m 1.847   \u001b[0m | \u001b[0m 115.4   \u001b[0m | \u001b[0m-52.61   \u001b[0m | \u001b[0m 123.5   \u001b[0m | \u001b[0m-3.621   \u001b[0m | \u001b[0m 0.9726  \u001b[0m | \u001b[0m 182.3   \u001b[0m |\n",
      "Mu:0.80|Mu+:0.20|Beta:107.00|Sigma:120.00|Epsilon:104.28|EpIter:0.00\n",
      "| \u001b[0m 42      \u001b[0m | \u001b[0m 1.981   \u001b[0m | \u001b[0m 108.0   \u001b[0m | \u001b[0m-74.0    \u001b[0m | \u001b[0m 104.3   \u001b[0m | \u001b[0m-1.386   \u001b[0m | \u001b[0m 1.386   \u001b[0m | \u001b[0m 120.3   \u001b[0m |\n",
      "Mu:0.70|Mu+:0.01|Beta:168.00|Sigma:148.00|Epsilon:98.98|EpIter:0.00\n",
      "| \u001b[0m 43      \u001b[0m | \u001b[0m 1.563   \u001b[0m | \u001b[0m 168.3   \u001b[0m | \u001b[0m-29.58   \u001b[0m | \u001b[0m 98.98   \u001b[0m | \u001b[0m-4.501   \u001b[0m | \u001b[0m 0.8657  \u001b[0m | \u001b[0m 148.4   \u001b[0m |\n",
      "Mu:0.80|Mu+:0.19|Beta:154.00|Sigma:155.00|Epsilon:126.90|EpIter:0.00\n",
      "| \u001b[0m 44      \u001b[0m | \u001b[0m 1.935   \u001b[0m | \u001b[0m 154.9   \u001b[0m | \u001b[0m-113.1   \u001b[0m | \u001b[0m 126.9   \u001b[0m | \u001b[0m-1.482   \u001b[0m | \u001b[0m 1.38    \u001b[0m | \u001b[0m 155.9   \u001b[0m |\n",
      "Mu:0.60|Mu+:0.09|Beta:157.00|Sigma:157.00|Epsilon:135.27|EpIter:0.00\n",
      "| \u001b[0m 45      \u001b[0m | \u001b[0m-0.4968  \u001b[0m | \u001b[0m 157.5   \u001b[0m | \u001b[0m-117.9   \u001b[0m | \u001b[0m 135.3   \u001b[0m | \u001b[0m-2.255   \u001b[0m | \u001b[0m 0.4166  \u001b[0m | \u001b[0m 157.2   \u001b[0m |\n",
      "Mu:0.80|Mu+:0.19|Beta:50.00|Sigma:158.00|Epsilon:65.91|EpIter:0.10\n",
      "| \u001b[0m 46      \u001b[0m | \u001b[0m 1.932   \u001b[0m | \u001b[0m 50.35   \u001b[0m | \u001b[0m-2.181   \u001b[0m | \u001b[0m 65.91   \u001b[0m | \u001b[0m-1.419   \u001b[0m | \u001b[0m 1.37    \u001b[0m | \u001b[0m 158.1   \u001b[0m |\n",
      "Mu:0.74|Mu+:0.01|Beta:52.00|Sigma:166.00|Epsilon:60.15|EpIter:0.00\n",
      "| \u001b[0m 47      \u001b[0m | \u001b[0m 1.93    \u001b[0m | \u001b[0m 52.94   \u001b[0m | \u001b[0m-6.671   \u001b[0m | \u001b[0m 60.15   \u001b[0m | \u001b[0m-4.305   \u001b[0m | \u001b[0m 1.034   \u001b[0m | \u001b[0m 166.3   \u001b[0m |\n",
      "Mu:0.66|Mu+:0.01|Beta:123.00|Sigma:177.00|Epsilon:118.66|EpIter:0.00\n",
      "| \u001b[0m 48      \u001b[0m | \u001b[0m 1.066   \u001b[0m | \u001b[0m 123.2   \u001b[0m | \u001b[0m-56.37   \u001b[0m | \u001b[0m 118.7   \u001b[0m | \u001b[0m-4.595   \u001b[0m | \u001b[0m 0.6629  \u001b[0m | \u001b[0m 177.3   \u001b[0m |\n",
      "Mu:0.56|Mu+:0.10|Beta:94.00|Sigma:131.00|Epsilon:125.31|EpIter:0.04\n",
      "| \u001b[0m 49      \u001b[0m | \u001b[0m-5.269   \u001b[0m | \u001b[0m 94.68   \u001b[0m | \u001b[0m-3.223   \u001b[0m | \u001b[0m 125.3   \u001b[0m | \u001b[0m-2.176   \u001b[0m | \u001b[0m 0.2359  \u001b[0m | \u001b[0m 131.8   \u001b[0m |\n",
      "Mu:0.55|Mu+:0.05|Beta:120.00|Sigma:187.00|Epsilon:128.39|EpIter:0.00\n",
      "| \u001b[0m 50      \u001b[0m | \u001b[0m-5.572   \u001b[0m | \u001b[0m 120.8   \u001b[0m | \u001b[0m-54.53   \u001b[0m | \u001b[0m 128.4   \u001b[0m | \u001b[0m-2.889   \u001b[0m | \u001b[0m 0.1898  \u001b[0m | \u001b[0m 187.2   \u001b[0m |\n",
      "Mu:0.79|Mu+:0.14|Beta:113.00|Sigma:129.00|Epsilon:117.12|EpIter:0.00\n",
      "| \u001b[0m 51      \u001b[0m | \u001b[0m 1.92    \u001b[0m | \u001b[0m 113.9   \u001b[0m | \u001b[0m-77.32   \u001b[0m | \u001b[0m 117.1   \u001b[0m | \u001b[0m-1.818   \u001b[0m | \u001b[0m 1.303   \u001b[0m | \u001b[0m 129.3   \u001b[0m |\n",
      "Mu:0.75|Mu+:0.01|Beta:126.00|Sigma:179.00|Epsilon:113.43|EpIter:0.00\n",
      "| \u001b[0m 52      \u001b[0m | \u001b[0m 1.968   \u001b[0m | \u001b[0m 126.3   \u001b[0m | \u001b[0m-45.1    \u001b[0m | \u001b[0m 113.4   \u001b[0m | \u001b[0m-4.502   \u001b[0m | \u001b[0m 1.119   \u001b[0m | \u001b[0m 179.8   \u001b[0m |\n",
      "Mu:0.57|Mu+:0.08|Beta:22.00|Sigma:161.00|Epsilon:111.82|EpIter:0.00\n",
      "| \u001b[0m 53      \u001b[0m | \u001b[0m-0.677   \u001b[0m | \u001b[0m 22.22   \u001b[0m | \u001b[0m-64.25   \u001b[0m | \u001b[0m 111.8   \u001b[0m | \u001b[0m-2.388   \u001b[0m | \u001b[0m 0.2815  \u001b[0m | \u001b[0m 161.1   \u001b[0m |\n",
      "Mu:0.78|Mu+:0.01|Beta:147.00|Sigma:153.00|Epsilon:47.68|EpIter:0.00\n",
      "| \u001b[0m 54      \u001b[0m | \u001b[0m 1.983   \u001b[0m | \u001b[0m 147.8   \u001b[0m | \u001b[0m-34.01   \u001b[0m | \u001b[0m 47.68   \u001b[0m | \u001b[0m-4.24    \u001b[0m | \u001b[0m 1.253   \u001b[0m | \u001b[0m 153.4   \u001b[0m |\n",
      "Mu:0.77|Mu+:0.07|Beta:213.00|Sigma:187.00|Epsilon:126.42|EpIter:0.00\n",
      "| \u001b[0m 55      \u001b[0m | \u001b[0m 2.006   \u001b[0m | \u001b[0m 214.0   \u001b[0m | \u001b[0m-70.48   \u001b[0m | \u001b[0m 126.4   \u001b[0m | \u001b[0m-2.593   \u001b[0m | \u001b[0m 1.194   \u001b[0m | \u001b[0m 187.6   \u001b[0m |\n",
      "Mu:0.59|Mu+:0.03|Beta:133.00|Sigma:179.00|Epsilon:119.41|EpIter:0.00\n",
      "| \u001b[0m 56      \u001b[0m | \u001b[0m-2.547   \u001b[0m | \u001b[0m 133.8   \u001b[0m | \u001b[0m-43.8    \u001b[0m | \u001b[0m 119.4   \u001b[0m | \u001b[0m-3.325   \u001b[0m | \u001b[0m 0.3545  \u001b[0m | \u001b[0m 179.6   \u001b[0m |\n",
      "Mu:0.58|Mu+:0.05|Beta:147.00|Sigma:142.00|Epsilon:99.09|EpIter:0.00\n",
      "| \u001b[0m 57      \u001b[0m | \u001b[0m-3.805   \u001b[0m | \u001b[0m 147.9   \u001b[0m | \u001b[0m-27.08   \u001b[0m | \u001b[0m 99.09   \u001b[0m | \u001b[0m-2.873   \u001b[0m | \u001b[0m 0.3205  \u001b[0m | \u001b[0m 142.7   \u001b[0m |\n",
      "Mu:0.58|Mu+:0.01|Beta:92.00|Sigma:278.00|Epsilon:10.74|EpIter:0.00\n",
      "| \u001b[0m 58      \u001b[0m | \u001b[0m 0.9582  \u001b[0m | \u001b[0m 92.67   \u001b[0m | \u001b[0m-13.23   \u001b[0m | \u001b[0m 10.74   \u001b[0m | \u001b[0m-4.558   \u001b[0m | \u001b[0m 0.3045  \u001b[0m | \u001b[0m 278.0   \u001b[0m |\n",
      "Mu:0.55|Mu+:0.10|Beta:169.00|Sigma:144.00|Epsilon:98.66|EpIter:0.00\n",
      "| \u001b[0m 59      \u001b[0m | \u001b[0m-5.618   \u001b[0m | \u001b[0m 169.7   \u001b[0m | \u001b[0m-24.5    \u001b[0m | \u001b[0m 98.66   \u001b[0m | \u001b[0m-2.166   \u001b[0m | \u001b[0m 0.1906  \u001b[0m | \u001b[0m 144.6   \u001b[0m |\n",
      "Mu:0.79|Mu+:0.16|Beta:209.00|Sigma:41.00|Epsilon:6.52|EpIter:0.00\n",
      "| \u001b[0m 60      \u001b[0m | \u001b[0m 2.064   \u001b[0m | \u001b[0m 209.6   \u001b[0m | \u001b[0m-31.28   \u001b[0m | \u001b[0m 6.521   \u001b[0m | \u001b[0m-1.634   \u001b[0m | \u001b[0m 1.351   \u001b[0m | \u001b[0m 41.04   \u001b[0m |\n",
      "Mu:0.71|Mu+:0.09|Beta:159.00|Sigma:135.00|Epsilon:103.80|EpIter:0.00\n",
      "| \u001b[0m 61      \u001b[0m | \u001b[0m 1.741   \u001b[0m | \u001b[0m 159.4   \u001b[0m | \u001b[0m-39.6    \u001b[0m | \u001b[0m 103.8   \u001b[0m | \u001b[0m-2.357   \u001b[0m | \u001b[0m 0.9078  \u001b[0m | \u001b[0m 135.2   \u001b[0m |\n",
      "=================================================================================================\n"
     ]
    }
   ],
   "source": [
    "optimizer.maximize(\n",
    "    init_points=10,\n",
    "    n_iter=50,\n",
    ")"
   ]
  },
  {
   "cell_type": "code",
   "execution_count": 40,
   "metadata": {},
   "outputs": [
    {
     "data": {
      "text/plain": [
       "{'target': 2.3403714494284453,\n",
       " 'params': {'beta_sp': 11.999993855768771,\n",
       "  'epsilonIterate_logit': -124.33959502167846,\n",
       "  'epsilon_sp': 3.053904539340399,\n",
       "  'muIncr_logit': -2.197224577336219,\n",
       "  'mu_logit': 0.0,\n",
       "  'sigma_sp': 21.99999999972105}}"
      ]
     },
     "execution_count": 40,
     "metadata": {},
     "output_type": "execute_result"
    }
   ],
   "source": [
    "optimizer.max"
   ]
  },
  {
   "cell_type": "code",
   "execution_count": 41,
   "metadata": {
    "ExecuteTime": {
     "end_time": "2020-09-03T22:58:42.653746Z",
     "start_time": "2020-09-03T22:58:42.649916Z"
    }
   },
   "outputs": [
    {
     "data": {
      "text/plain": [
       "0.91216585"
      ]
     },
     "execution_count": 41,
     "metadata": {},
     "output_type": "execute_result"
    }
   ],
   "source": [
    "inv_logit(optimizer.max[\"target\"])"
   ]
  },
  {
   "cell_type": "code",
   "execution_count": 42,
   "metadata": {
    "ExecuteTime": {
     "end_time": "2020-09-03T22:59:56.414823Z",
     "start_time": "2020-09-03T22:59:56.412477Z"
    }
   },
   "outputs": [],
   "source": [
    "params=optimizer.max[\"params\"]"
   ]
  },
  {
   "cell_type": "code",
   "execution_count": 43,
   "metadata": {
    "ExecuteTime": {
     "end_time": "2020-09-03T23:00:39.452694Z",
     "start_time": "2020-09-03T23:00:39.449279Z"
    }
   },
   "outputs": [
    {
     "data": {
      "text/plain": [
       "12.0"
      ]
     },
     "execution_count": 43,
     "metadata": {},
     "output_type": "execute_result"
    }
   ],
   "source": [
    "softplus(params[\"beta_sp\"])"
   ]
  },
  {
   "cell_type": "code",
   "execution_count": 44,
   "metadata": {
    "ExecuteTime": {
     "end_time": "2020-09-03T23:01:09.671719Z",
     "start_time": "2020-09-03T23:01:09.668333Z"
    }
   },
   "outputs": [
    {
     "data": {
      "text/plain": [
       "22.0"
      ]
     },
     "execution_count": 44,
     "metadata": {},
     "output_type": "execute_result"
    }
   ],
   "source": [
    "softplus(params[\"sigma_sp\"])"
   ]
  },
  {
   "cell_type": "code",
   "execution_count": 45,
   "metadata": {
    "ExecuteTime": {
     "end_time": "2020-09-04T01:35:00.233453Z",
     "start_time": "2020-09-04T01:35:00.230360Z"
    }
   },
   "outputs": [
    {
     "data": {
      "text/plain": [
       "0.5"
      ]
     },
     "execution_count": 45,
     "metadata": {},
     "output_type": "execute_result"
    }
   ],
   "source": [
    "inv_logit(params[\"mu_logit\"])"
   ]
  },
  {
   "cell_type": "code",
   "execution_count": 46,
   "metadata": {
    "ExecuteTime": {
     "end_time": "2020-09-04T01:35:28.881809Z",
     "start_time": "2020-09-04T01:35:28.878641Z"
    }
   },
   "outputs": [
    {
     "data": {
      "text/plain": [
       "0.10000000000000003"
      ]
     },
     "execution_count": 46,
     "metadata": {},
     "output_type": "execute_result"
    }
   ],
   "source": [
    "inv_logit(params[\"muIncr_logit\"])"
   ]
  },
  {
   "cell_type": "code",
   "execution_count": 47,
   "metadata": {
    "ExecuteTime": {
     "end_time": "2020-09-04T01:36:46.943597Z",
     "start_time": "2020-09-04T01:36:46.940247Z"
    }
   },
   "outputs": [
    {
     "data": {
      "text/plain": [
       "0"
      ]
     },
     "execution_count": 47,
     "metadata": {},
     "output_type": "execute_result"
    }
   ],
   "source": [
    "inv_logit(params[\"epsilonIterate_logit\"])"
   ]
  },
  {
   "cell_type": "code",
   "execution_count": 48,
   "metadata": {
    "ExecuteTime": {
     "end_time": "2020-09-04T01:36:13.729976Z",
     "start_time": "2020-09-04T01:36:13.726798Z"
    }
   },
   "outputs": [
    {
     "data": {
      "text/plain": [
       "3.1"
      ]
     },
     "execution_count": 48,
     "metadata": {},
     "output_type": "execute_result"
    }
   ],
   "source": [
    "softplus(params[\"epsilon_sp\"])"
   ]
  },
  {
   "cell_type": "code",
   "execution_count": 50,
   "metadata": {},
   "outputs": [
    {
     "name": "stdout",
     "output_type": "stream",
     "text": [
      "\n",
      ">>>>>>>>>>>>\n",
      "Starting Iteration mu= 0.5\n",
      "Starting Iteration epsilon= 3.1\n",
      "Running NewMatrix Jar!\n",
      " Single-Reference Blocks = 1\n",
      "\n",
      " Multi-Reference Blocks = 2529\n",
      "NewMatrix Iterateblocks Total Time = 1.3589080031961203\n",
      "\n",
      "\n",
      ">>>>>>>>>>>>\n",
      "Starting Iteration mu= 0.6\n",
      "Starting Iteration epsilon= 3.1\n",
      "Running NewMatrix Jar!\n",
      " Single-Reference Blocks = 1\n",
      "\n",
      " Multi-Reference Blocks = 2030\n",
      "NewMatrix Iterateblocks Total Time = 1.0290703903883696\n",
      "\n",
      "\n",
      ">>>>>>>>>>>>\n",
      "Starting Iteration mu= 0.7\n",
      "Starting Iteration epsilon= 3.1\n",
      "Running NewMatrix Jar!\n",
      " Single-Reference Blocks = 1\n",
      "\n",
      " Multi-Reference Blocks = 1255\n",
      "NewMatrix Iterateblocks Total Time = 0.9258546400815248\n",
      "\n",
      "\n",
      ">>>>>>>>>>>>\n",
      "Starting Iteration mu= 0.7999999999999999\n",
      "Starting Iteration epsilon= 3.1\n",
      "Running NewMatrix Jar!\n",
      " Single-Reference Blocks = 1\n",
      "\n",
      " Multi-Reference Blocks = 538\n",
      "NewMatrix Iterateblocks Total Time = 0.5582271860912442\n",
      "\n",
      "\n",
      ">>>>>>>>>>>>\n",
      "Starting Iteration mu= 0.8999999999999999\n",
      "Starting Iteration epsilon= 3.1\n",
      "Running NewMatrix Jar!\n",
      " Single-Reference Blocks = 1\n",
      "\n",
      " Multi-Reference Blocks = 171\n",
      "NewMatrix Iterateblocks Total Time = 0.2846941826865077\n",
      "\n",
      "\n",
      ">>>>>>>>>>>>\n",
      "Starting Iteration mu= 0.9999999999999999\n",
      "Starting Iteration epsilon= 3.1\n",
      "Running NewMatrix Jar!\n",
      " Single-Reference Blocks = 1\n",
      "\n",
      " Multi-Reference Blocks = 42\n",
      "NewMatrix Iterateblocks Total Time = 0.19822583068162203\n",
      "\n",
      "Precision = TP / (TP + FP) ......................... = 0.99176471\n",
      "Recall = TP / (TP + FN) ............................ = 0.85151515\n",
      "F-Measure .......................................... = 0.91630435\n"
     ]
    },
    {
     "data": {
      "text/plain": [
       "0.91630435"
      ]
     },
     "execution_count": 50,
     "metadata": {},
     "output_type": "execute_result"
    }
   ],
   "source": [
    "entropy_F1(mu=0.5,\n",
    "           muIncr=0.1,\n",
    "           beta=12,\n",
    "           sigma=22,\n",
    "           epsilon=3.1,\n",
    "           epsilonIterate=0)"
   ]
  }
 ],
 "metadata": {
  "kernelspec": {
   "display_name": "Python 3",
   "language": "python",
   "name": "python3"
  },
  "language_info": {
   "codemirror_mode": {
    "name": "ipython",
    "version": 3
   },
   "file_extension": ".py",
   "mimetype": "text/x-python",
   "name": "python",
   "nbconvert_exporter": "python",
   "pygments_lexer": "ipython3",
   "version": "3.7.4"
  },
  "toc": {
   "base_numbering": 1,
   "nav_menu": {},
   "number_sections": true,
   "sideBar": true,
   "skip_h1_title": false,
   "title_cell": "Table of Contents",
   "title_sidebar": "Contents",
   "toc_cell": false,
   "toc_position": {},
   "toc_section_display": true,
   "toc_window_display": false
  },
  "varInspector": {
   "cols": {
    "lenName": 16,
    "lenType": 16,
    "lenVar": 40
   },
   "kernels_config": {
    "python": {
     "delete_cmd_postfix": "",
     "delete_cmd_prefix": "del ",
     "library": "var_list.py",
     "varRefreshCmd": "print(var_dic_list())"
    },
    "r": {
     "delete_cmd_postfix": ") ",
     "delete_cmd_prefix": "rm(",
     "library": "var_list.r",
     "varRefreshCmd": "cat(var_dic_list()) "
    }
   },
   "types_to_exclude": [
    "module",
    "function",
    "builtin_function_or_method",
    "instance",
    "_Feature"
   ],
   "window_display": false
  }
 },
 "nbformat": 4,
 "nbformat_minor": 2
}
