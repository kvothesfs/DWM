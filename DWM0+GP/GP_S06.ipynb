{
 "cells": [
  {
   "cell_type": "code",
   "execution_count": 1,
   "metadata": {
    "ExecuteTime": {
     "end_time": "2020-09-03T21:59:20.041891Z",
     "start_time": "2020-09-03T21:59:10.621897Z"
    }
   },
   "outputs": [
    {
     "name": "stdout",
     "output_type": "stream",
     "text": [
      "Tokenizing References\n",
      "Total References= 19998\n",
      "Total Tokens Found = 292928\n",
      "Total Tokens Output = 292542\n",
      "Dictionary Load = 67077\n",
      "<class 'dict'>\n",
      "Global Replace Cycle\n",
      "Total References= 19998\n",
      "Total Tokens= 292542\n",
      "Unique Tokens= 35953\n",
      "Minimum Frequency of Standard Token =  5\n",
      "Minimum Length of Standard Token =  3\n",
      "Maximum Frequency of Error Token =  3\n",
      "References Processed= 19998\n",
      "Sorted Token Size = 35953\n",
      "Clean Token Size = 14728\n",
      "*Stop Replacements here\n",
      "References Processed =  19998\n",
      "Total Replacement Pairs = 4726\n",
      "Tokens Read = 292542\n",
      "Tokens Changed =  5576\n",
      "References Changed = 4876\n"
     ]
    }
   ],
   "source": [
    "import DWM1_Tokenizer\n",
    "import DWM2_Global_Token_Replace_NewDict\n",
    "import DWM3_Entropy_Cluster\n",
    "# Settings for Tokenizer\n",
    "inputSampleName = r'S6'\n",
    "delimiter=','\n",
    "hasHeader = True\n",
    "tokenizerType = 'Splitter'\n",
    "removeDuplicateTokens = True\n",
    "\n",
    "# Setting for global replacement DWM2\n",
    "runReplacement = True\n",
    "minFreqStdToken = 5\n",
    "minLenStdToken = 3\n",
    "maxFreqErrToken = 3\n",
    "\n",
    "# Cluster Settings\n",
    "\n",
    "\n",
    "DWM1_Tokenizer.tokenizeCycle(inputSampleName, delimiter, hasHeader, removeDuplicateTokens, tokenizerType)\n",
    "prefixString = inputSampleName +','+tokenizerType+','+str(removeDuplicateTokens)\n",
    "fileToCluster = inputSampleName + '-Tokenized.txt'\n",
    "if runReplacement:\n",
    "    DWM2_Global_Token_Replace_NewDict.globalReplace(inputSampleName, minFreqStdToken, minLenStdToken, maxFreqErrToken)\n",
    "    fileToCluster = inputSampleName + '-TokenReplace.txt'\n",
    "    prefixString = prefixString+','+str(minFreqStdToken)+','+str(minLenStdToken)+','+str(maxFreqErrToken)\n",
    "else:\n",
    "    prefixString = prefixString+',0,0,0'\n",
    "\n",
    "# Cluster fixed settings\n",
    "epsilonIterate = 0.0\n",
    "runClusterMetrics = False\n",
    "runFinalMetrics = True\n",
    "createFinalJoin = False"
   ]
  },
  {
   "cell_type": "code",
   "execution_count": 2,
   "metadata": {},
   "outputs": [],
   "source": [
    "status=\"done\""
   ]
  },
  {
   "cell_type": "code",
   "execution_count": 3,
   "metadata": {},
   "outputs": [
    {
     "name": "stdout",
     "output_type": "stream",
     "text": [
      "done\n"
     ]
    }
   ],
   "source": [
    "print(status)"
   ]
  },
  {
   "cell_type": "code",
   "execution_count": 14,
   "metadata": {
    "ExecuteTime": {
     "end_time": "2020-09-03T15:11:39.765508Z",
     "start_time": "2020-09-03T15:03:19.495876Z"
    },
    "scrolled": false
   },
   "outputs": [],
   "source": [
    "# # Cluster Robot Settings\n",
    "# muStart = 0.60\n",
    "# muEnd = 0.60\n",
    "# muIncr = 0.05\n",
    "# betaStart = 14\n",
    "# betaEnd = 14\n",
    "# betaIncr = 1\n",
    "# sigmaStart = 145\n",
    "# sigmaEnd = 145\n",
    "# sigmaIncr = 1\n",
    "# epsilonStart = 35\n",
    "# epsilonEnd = 35\n",
    "# epsilonIncr = 1\n",
    "# mu = muStart\n",
    "# while mu <= muEnd:\n",
    "#     beta = betaStart\n",
    "#     while beta <= betaEnd:\n",
    "#         sigma = sigmaStart\n",
    "#         while sigma <= sigmaEnd:\n",
    "#             epsilon = epsilonStart\n",
    "#             while epsilon <= epsilonEnd:\n",
    "#                 suffixString =','+str(epsilon)+','+str(epsilonIterate)\n",
    "#                 resultsList = DWM3_Entropy_Cluster.driver(fileToCluster, beta, sigma, mu, muIncr,epsilon,  \\\n",
    "#                                                      epsilonIterate,runClusterMetrics, runFinalMetrics, createFinalJoin, hasHeader)\n",
    "#                 seg0a = ','+str(resultsList[0])+','+str(resultsList[1])+','+str(resultsList[2])+','+str(resultsList[3])\n",
    "#                 seg0b =','+str(resultsList[4])+','+str(resultsList[5])+','+str(resultsList[6])\n",
    "#                 seg1 = ','+str(beta)+','+str(sigma)+','+str(mu)+ ',' +str(muIncr)\n",
    "#                 seg2 = ','+str(resultsList[7])+','+str(resultsList[8])+','+str(resultsList[9])\n",
    "#                 outString = prefixString+seg0a+seg0b+suffixString+seg1+seg2+'\\n'\n",
    "#                 resultsFile = open('RobotResults.txt','a+')\n",
    "#                 resultsFile.write(outString)\n",
    "#                 resultsFile.close()\n",
    "#                 epsilon = epsilon + epsilonIncr\n",
    "#             sigma = sigma + sigmaIncr\n",
    "#         beta = beta + betaIncr\n",
    "#     mu = mu + muIncr\n",
    "\n",
    "\n",
    " "
   ]
  },
  {
   "cell_type": "markdown",
   "metadata": {
    "ExecuteTime": {
     "end_time": "2020-09-03T16:36:26.229783Z",
     "start_time": "2020-09-03T16:36:26.227755Z"
    }
   },
   "source": [
    "## Bayesian Optimization of Hyperparameters"
   ]
  },
  {
   "cell_type": "code",
   "execution_count": 5,
   "metadata": {},
   "outputs": [],
   "source": [
    "import numpy as np"
   ]
  },
  {
   "cell_type": "markdown",
   "metadata": {
    "ExecuteTime": {
     "end_time": "2020-09-03T16:36:47.947518Z",
     "start_time": "2020-09-03T16:36:47.944251Z"
    }
   },
   "source": [
    "Create a function of the parameters that returns the F score"
   ]
  },
  {
   "cell_type": "code",
   "execution_count": 6,
   "metadata": {
    "ExecuteTime": {
     "end_time": "2020-09-03T21:59:42.561300Z",
     "start_time": "2020-09-03T21:59:42.557193Z"
    }
   },
   "outputs": [],
   "source": [
    "def entropy_F1(beta=14,sigma=145,mu=0.6,muIncr=0.05,epsilon=35,epsilonIterate=0):\n",
    "    resultsList = DWM3_Entropy_Cluster.driver(fileToCluster, \n",
    "                                  beta, \n",
    "                                  sigma, \n",
    "                                  mu, \n",
    "                                  muIncr,\n",
    "                                  epsilon,\n",
    "                                  epsilonIterate,\n",
    "                                  runClusterMetrics, \n",
    "                                  runFinalMetrics, \n",
    "                                  createFinalJoin, \n",
    "                                  hasHeader)\n",
    "    return resultsList[9]"
   ]
  },
  {
   "cell_type": "code",
   "execution_count": 7,
   "metadata": {
    "ExecuteTime": {
     "end_time": "2020-09-03T22:06:32.164588Z",
     "start_time": "2020-09-03T21:59:43.696518Z"
    }
   },
   "outputs": [
    {
     "name": "stdout",
     "output_type": "stream",
     "text": [
      "\n",
      ">>>>>>>>>>>>\n",
      "Starting Iteration mu= 0.5\n",
      "Starting Iteration epsilon= 31.8\n",
      "Running NewMatrix Jar!\n",
      " Single-Reference Blocks = 1\n",
      "\n",
      " Multi-Reference Blocks = 15739\n",
      "NewMatrix Iterateblocks Total Time = 21.94733450561762\n",
      "\n",
      "\n",
      ">>>>>>>>>>>>\n",
      "Starting Iteration mu= 0.55\n",
      "Starting Iteration epsilon= 31.8\n",
      "Running NewMatrix Jar!\n",
      " Single-Reference Blocks = 1\n",
      "\n",
      " Multi-Reference Blocks = 13751\n",
      "NewMatrix Iterateblocks Total Time = 19.306732788681984\n",
      "\n",
      "\n",
      ">>>>>>>>>>>>\n",
      "Starting Iteration mu= 0.6000000000000001\n",
      "Starting Iteration epsilon= 31.8\n",
      "Running NewMatrix Jar!\n",
      " Single-Reference Blocks = 1\n",
      "\n",
      " Multi-Reference Blocks = 10768\n",
      "NewMatrix Iterateblocks Total Time = 13.027660648338497\n",
      "\n",
      "\n",
      ">>>>>>>>>>>>\n",
      "Starting Iteration mu= 0.6500000000000001\n",
      "Starting Iteration epsilon= 31.8\n",
      "Running NewMatrix Jar!\n",
      " Single-Reference Blocks = 1\n",
      "\n",
      " Multi-Reference Blocks = 6726\n",
      "NewMatrix Iterateblocks Total Time = 10.656971072778106\n",
      "\n",
      "\n",
      ">>>>>>>>>>>>\n",
      "Starting Iteration mu= 0.7000000000000002\n",
      "Starting Iteration epsilon= 31.8\n",
      "Running NewMatrix Jar!\n",
      " Single-Reference Blocks = 1\n",
      "\n",
      " Multi-Reference Blocks = 2674\n",
      "NewMatrix Iterateblocks Total Time = 3.271659981459379\n",
      "\n",
      "\n",
      ">>>>>>>>>>>>\n",
      "Starting Iteration mu= 0.7500000000000002\n",
      "Starting Iteration epsilon= 31.8\n",
      "Running NewMatrix Jar!\n",
      " Single-Reference Blocks = 1\n",
      "\n",
      " Multi-Reference Blocks = 494\n",
      "NewMatrix Iterateblocks Total Time = 0.9262106996029615\n",
      "\n",
      "\n",
      ">>>>>>>>>>>>\n",
      "Starting Iteration mu= 0.8000000000000003\n",
      "Starting Iteration epsilon= 31.8\n",
      "Running NewMatrix Jar!\n",
      " Single-Reference Blocks = 1\n",
      "\n",
      " Multi-Reference Blocks = 193\n",
      "NewMatrix Iterateblocks Total Time = 0.7287034234032035\n",
      "\n",
      "Precision = TP / (TP + FP) ......................... = 0.49016233\n",
      "Recall = TP / (TP + FN) ............................ = 0.96836124\n",
      "F-Measure .......................................... = 0.65086943\n"
     ]
    },
    {
     "data": {
      "text/plain": [
       "0.65086943"
      ]
     },
     "execution_count": 7,
     "metadata": {},
     "output_type": "execute_result"
    }
   ],
   "source": [
    "entropy_F1(mu=0.5,muIncr=0.05,beta=33,sigma=449,epsilon=31.8,epsilonIterate=0)"
   ]
  },
  {
   "cell_type": "markdown",
   "metadata": {},
   "source": [
    "Create functions for variable transformation."
   ]
  },
  {
   "cell_type": "code",
   "execution_count": 8,
   "metadata": {
    "ExecuteTime": {
     "end_time": "2020-09-03T22:08:18.856511Z",
     "start_time": "2020-09-03T22:08:18.853611Z"
    }
   },
   "outputs": [],
   "source": [
    "#Softplus to transform real domain into positive\n",
    "def softplus(x):\n",
    "    return np.log(1+np.exp(x))\n",
    "\n",
    "def inv_softplus(x):\n",
    "    return np.log(np.exp(x)-1)"
   ]
  },
  {
   "cell_type": "code",
   "execution_count": 9,
   "metadata": {
    "ExecuteTime": {
     "end_time": "2020-09-03T22:08:27.349548Z",
     "start_time": "2020-09-03T22:08:27.345752Z"
    }
   },
   "outputs": [
    {
     "data": {
      "text/plain": [
       "0.541324854612918"
      ]
     },
     "execution_count": 9,
     "metadata": {},
     "output_type": "execute_result"
    }
   ],
   "source": [
    "inv_softplus(1)"
   ]
  },
  {
   "cell_type": "code",
   "execution_count": 10,
   "metadata": {
    "ExecuteTime": {
     "end_time": "2020-09-03T22:11:24.939913Z",
     "start_time": "2020-09-03T22:11:24.936639Z"
    }
   },
   "outputs": [],
   "source": [
    "#Logit to transform real domain into 0-1\n",
    "def logit(x):    \n",
    "    return np.log(x+1e-54)-np.log(1-x+1e-54)\n",
    "\n",
    "def inv_logit(x):\n",
    "    res=np.exp(x)/(np.exp(x)+1)-2*1e-54\n",
    "    if res<1e-54:\n",
    "        res=0\n",
    "    return res"
   ]
  },
  {
   "cell_type": "markdown",
   "metadata": {},
   "source": [
    "Import BO library:"
   ]
  },
  {
   "cell_type": "code",
   "execution_count": 11,
   "metadata": {
    "ExecuteTime": {
     "end_time": "2020-09-03T22:08:30.622144Z",
     "start_time": "2020-09-03T22:08:30.226842Z"
    }
   },
   "outputs": [],
   "source": [
    "from bayes_opt import BayesianOptimization"
   ]
  },
  {
   "cell_type": "markdown",
   "metadata": {
    "ExecuteTime": {
     "end_time": "2020-09-03T18:14:39.927785Z",
     "start_time": "2020-09-03T18:14:39.924909Z"
    }
   },
   "source": [
    "Create dictionary bounds for the parameters:"
   ]
  },
  {
   "cell_type": "code",
   "execution_count": 12,
   "metadata": {},
   "outputs": [],
   "source": [
    "import os, sys"
   ]
  },
  {
   "cell_type": "code",
   "execution_count": 13,
   "metadata": {},
   "outputs": [],
   "source": [
    "class HiddenPrints:\n",
    "    def __enter__(self):\n",
    "        self._original_stdout = sys.stdout\n",
    "        sys.stdout = open(os.devnull, 'w')\n",
    "\n",
    "    def __exit__(self, exc_type, exc_val, exc_tb):\n",
    "        sys.stdout.close()\n",
    "        sys.stdout = self._original_stdout"
   ]
  },
  {
   "cell_type": "code",
   "execution_count": 14,
   "metadata": {},
   "outputs": [
    {
     "name": "stdout",
     "output_type": "stream",
     "text": [
      "This will be printed as before\n"
     ]
    }
   ],
   "source": [
    "with HiddenPrints():\n",
    "    print(\"This will not be printed\")\n",
    "\n",
    "print(\"This will be printed as before\")"
   ]
  },
  {
   "cell_type": "code",
   "execution_count": 15,
   "metadata": {
    "ExecuteTime": {
     "end_time": "2020-09-03T22:11:53.005154Z",
     "start_time": "2020-09-03T22:11:53.000238Z"
    }
   },
   "outputs": [],
   "source": [
    "#Take parameters in transformed space and return f score in transformed space\n",
    "def entropy_F1_trx(beta_sp,sigma_sp,mu_logit,muIncr_logit,epsilon_sp,epsilonIterate_logit=logit(0)):\n",
    "    beta_pos=int(softplus(beta_sp))\n",
    "    sigma_pos=int(softplus(sigma_sp))\n",
    "    mu_01=inv_logit(mu_logit)\n",
    "    muIncr_01=inv_logit(muIncr_logit)\n",
    "    epsilon_pos=softplus(epsilon_sp)\n",
    "    epsilonIterate_01=inv_logit(epsilonIterate_logit)\n",
    "    \n",
    "    print(\"Mu:%.2f|Mu+:%.2f|Beta:%.2f|Sigma:%.2f|Epsilon:%.2f|EpIter:%.2f\" % (mu_01, muIncr_01, beta_pos, sigma_pos, epsilon_pos, epsilonIterate_01))\n",
    "    \n",
    "    with HiddenPrints():\n",
    "        f1=entropy_F1(beta=beta_pos,\n",
    "                      epsilon=epsilon_pos,\n",
    "                      epsilonIterate=epsilonIterate_01,\n",
    "                      muIncr=muIncr_01,\n",
    "                      sigma=sigma_pos,\n",
    "                      mu=mu_01)\n",
    "    \n",
    "    return logit(f1)"
   ]
  },
  {
   "cell_type": "code",
   "execution_count": 16,
   "metadata": {},
   "outputs": [
    {
     "name": "stdout",
     "output_type": "stream",
     "text": [
      "Mu:0.50|Mu+:0.05|Beta:33.00|Sigma:449.00|Epsilon:31.80|EpIter:0.00\n"
     ]
    },
    {
     "data": {
      "text/plain": [
       "0.6228630754264552"
      ]
     },
     "execution_count": 16,
     "metadata": {},
     "output_type": "execute_result"
    }
   ],
   "source": [
    "entropy_F1_trx(beta_sp=inv_softplus(33),\n",
    "               sigma_sp=inv_softplus(449),\n",
    "               mu_logit=logit(0.5),\n",
    "               muIncr_logit=logit(0.05),\n",
    "               epsilon_sp=inv_softplus(31.8))"
   ]
  },
  {
   "cell_type": "code",
   "execution_count": 17,
   "metadata": {},
   "outputs": [],
   "source": [
    "optimizer=None"
   ]
  },
  {
   "cell_type": "code",
   "execution_count": 20,
   "metadata": {
    "ExecuteTime": {
     "end_time": "2020-09-03T22:11:50.787503Z",
     "start_time": "2020-09-03T22:11:50.784060Z"
    }
   },
   "outputs": [],
   "source": [
    "pbounds = {'beta_sp': (inv_softplus(1), inv_softplus(500)), \n",
    "           'sigma_sp': (inv_softplus(1), inv_softplus(500)),\n",
    "           'mu_logit': (logit(0.5), logit(0.8)),\n",
    "           'muIncr_logit': (logit(0.01), logit(0.2)),\n",
    "           'epsilon_sp': (inv_softplus(1), inv_softplus(500)),\n",
    "           'epsilonIterate_logit': (logit(0), logit(0.25))}"
   ]
  },
  {
   "cell_type": "code",
   "execution_count": 21,
   "metadata": {
    "ExecuteTime": {
     "end_time": "2020-09-03T22:11:56.728829Z",
     "start_time": "2020-09-03T22:11:56.725599Z"
    }
   },
   "outputs": [],
   "source": [
    "optimizer = BayesianOptimization(\n",
    "    f=entropy_F1_trx,\n",
    "    pbounds=pbounds,\n",
    "    random_state=1,\n",
    ")"
   ]
  },
  {
   "cell_type": "code",
   "execution_count": 22,
   "metadata": {},
   "outputs": [],
   "source": [
    "optimizer.probe(\n",
    "    params={\"beta_sp\": inv_softplus(35), \n",
    "            \"sigma_sp\": inv_softplus(403),\n",
    "            \"mu_logit\":logit(0.5),\n",
    "            'epsilonIterate_logit': logit(0),\n",
    "            \"muIncr_logit\":logit(0.1),\n",
    "            \"epsilon_sp\":inv_softplus(15.1)},\n",
    "    lazy=True,\n",
    ")"
   ]
  },
  {
   "cell_type": "code",
   "execution_count": 23,
   "metadata": {
    "ExecuteTime": {
     "end_time": "2020-09-03T22:54:10.009085Z",
     "start_time": "2020-09-03T22:11:58.063246Z"
    }
   },
   "outputs": [
    {
     "name": "stdout",
     "output_type": "stream",
     "text": [
      "|   iter    |  target   |  beta_sp  | epsilo... | epsilo... | muIncr... | mu_logit  | sigma_sp  |\n",
      "-------------------------------------------------------------------------------------------------\n",
      "Mu:0.50|Mu+:0.10|Beta:35.00|Sigma:403.00|Epsilon:15.10|EpIter:0.00\n",
      "| \u001b[0m 1       \u001b[0m | \u001b[0m 2.217   \u001b[0m | \u001b[0m 35.0    \u001b[0m | \u001b[0m-124.3   \u001b[0m | \u001b[0m 15.1    \u001b[0m | \u001b[0m-2.197   \u001b[0m | \u001b[0m 0.0     \u001b[0m | \u001b[0m 403.0   \u001b[0m |\n",
      "Mu:0.55|Mu+:0.03|Beta:208.00|Sigma:46.00|Epsilon:1.04|EpIter:0.00\n",
      "| \u001b[0m 2       \u001b[0m | \u001b[0m-6.875   \u001b[0m | \u001b[0m 208.8   \u001b[0m | \u001b[0m-35.57   \u001b[0m | \u001b[0m 0.5985  \u001b[0m | \u001b[0m-3.625   \u001b[0m | \u001b[0m 0.2034  \u001b[0m | \u001b[0m 46.66   \u001b[0m |\n",
      "Mu:0.64|Mu+:0.05|Beta:93.00|Sigma:342.00|Epsilon:198.71|EpIter:0.00\n",
      "| \u001b[0m 3       \u001b[0m | \u001b[0m-6.56    \u001b[0m | \u001b[0m 93.57   \u001b[0m | \u001b[0m-81.75   \u001b[0m | \u001b[0m 198.7   \u001b[0m | \u001b[0m-2.866   \u001b[0m | \u001b[0m 0.5811  \u001b[0m | \u001b[0m 342.8   \u001b[0m |\n",
      "Mu:0.64|Mu+:0.08|Beta:102.00|Sigma:279.00|Epsilon:14.22|EpIter:0.00\n",
      "| \u001b[0m 4       \u001b[0m | \u001b[0m 2.129   \u001b[0m | \u001b[0m 102.7   \u001b[0m | \u001b[0m-16.12   \u001b[0m | \u001b[0m 14.22   \u001b[0m | \u001b[0m-2.444   \u001b[0m | \u001b[0m 0.5785  \u001b[0m | \u001b[0m 279.6   \u001b[0m |\n",
      "Mu:0.61|Mu+:0.18|Beta:70.00|Sigma:346.00|Epsilon:400.48|EpIter:0.00\n",
      "| \u001b[0m 5       \u001b[0m | \u001b[0m-6.874   \u001b[0m | \u001b[0m 70.66   \u001b[0m | \u001b[0m-99.93   \u001b[0m | \u001b[0m 400.5   \u001b[0m | \u001b[0m-1.488   \u001b[0m | \u001b[0m 0.4345  \u001b[0m | \u001b[0m 346.3   \u001b[0m |\n",
      "Mu:0.56|Mu+:0.01|Beta:438.00|Sigma:439.00|Epsilon:43.02|EpIter:0.00\n",
      "| \u001b[0m 6       \u001b[0m | \u001b[0m 0.2135  \u001b[0m | \u001b[0m 438.3   \u001b[0m | \u001b[0m-14.09   \u001b[0m | \u001b[0m 43.02   \u001b[0m | \u001b[0m-4.47    \u001b[0m | \u001b[0m 0.2354  \u001b[0m | \u001b[0m 439.1   \u001b[0m |\n",
      "Mu:0.72|Mu+:0.05|Beta:49.00|Sigma:158.00|Epsilon:478.97|EpIter:0.00\n",
      "| \u001b[0m 7       \u001b[0m | \u001b[0m 0.2262  \u001b[0m | \u001b[0m 49.66   \u001b[0m | \u001b[0m-72.44   \u001b[0m | \u001b[0m 479.0   \u001b[0m | \u001b[0m-2.884   \u001b[0m | \u001b[0m 0.9591  \u001b[0m | \u001b[0m 158.1   \u001b[0m |\n",
      "Mu:0.80|Mu+:0.10|Beta:343.00|Sigma:374.00|Epsilon:9.68|EpIter:0.00\n",
      "| \u001b[0m 8       \u001b[0m | \u001b[0m 0.7386  \u001b[0m | \u001b[0m 343.4   \u001b[0m | \u001b[0m-21.48   \u001b[0m | \u001b[0m 9.676   \u001b[0m | \u001b[0m-2.188   \u001b[0m | \u001b[0m 1.371   \u001b[0m | \u001b[0m 374.2   \u001b[0m |\n",
      "Mu:0.78|Mu+:0.04|Beta:140.00|Sigma:147.00|Epsilon:52.10|EpIter:0.00\n",
      "| \u001b[0m 9       \u001b[0m | \u001b[0m 0.2413  \u001b[0m | \u001b[0m 140.6   \u001b[0m | \u001b[0m-27.07   \u001b[0m | \u001b[0m 52.1    \u001b[0m | \u001b[0m-3.158   \u001b[0m | \u001b[0m 1.26    \u001b[0m | \u001b[0m 147.2   \u001b[0m |\n",
      "Mu:0.57|Mu+:0.08|Beta:144.00|Sigma:133.00|Epsilon:10.21|EpIter:0.00\n",
      "| \u001b[0m 10      \u001b[0m | \u001b[0m 1.136   \u001b[0m | \u001b[0m 144.3   \u001b[0m | \u001b[0m-108.3   \u001b[0m | \u001b[0m 10.21   \u001b[0m | \u001b[0m-2.417   \u001b[0m | \u001b[0m 0.2934  \u001b[0m | \u001b[0m 133.2   \u001b[0m |\n",
      "Mu:0.69|Mu+:0.02|Beta:246.00|Sigma:350.00|Epsilon:287.29|EpIter:0.00\n",
      "| \u001b[0m 11      \u001b[0m | \u001b[0m-5.96    \u001b[0m | \u001b[0m 246.1   \u001b[0m | \u001b[0m-117.8   \u001b[0m | \u001b[0m 287.3   \u001b[0m | \u001b[0m-4.124   \u001b[0m | \u001b[0m 0.817   \u001b[0m | \u001b[0m 350.0   \u001b[0m |\n",
      "Mu:0.80|Mu+:0.07|Beta:142.00|Sigma:146.00|Epsilon:48.99|EpIter:0.00\n",
      "| \u001b[0m 12      \u001b[0m | \u001b[0m 0.4577  \u001b[0m | \u001b[0m 142.3   \u001b[0m | \u001b[0m-22.1    \u001b[0m | \u001b[0m 48.99   \u001b[0m | \u001b[0m-2.629   \u001b[0m | \u001b[0m 1.359   \u001b[0m | \u001b[0m 146.1   \u001b[0m |\n",
      "Mu:0.51|Mu+:0.11|Beta:52.00|Sigma:405.00|Epsilon:19.89|EpIter:0.00\n",
      "| \u001b[0m 13      \u001b[0m | \u001b[0m 1.756   \u001b[0m | \u001b[0m 52.46   \u001b[0m | \u001b[0m-124.3   \u001b[0m | \u001b[0m 19.89   \u001b[0m | \u001b[0m-2.14    \u001b[0m | \u001b[0m 0.03984 \u001b[0m | \u001b[0m 405.4   \u001b[0m |\n",
      "Mu:0.51|Mu+:0.10|Beta:38.00|Sigma:386.00|Epsilon:9.83|EpIter:0.00\n",
      "| \u001b[0m 14      \u001b[0m | \u001b[0m 1.192   \u001b[0m | \u001b[0m 38.11   \u001b[0m | \u001b[0m-110.4   \u001b[0m | \u001b[0m 9.833   \u001b[0m | \u001b[0m-2.234   \u001b[0m | \u001b[0m 0.05682 \u001b[0m | \u001b[0m 386.6   \u001b[0m |\n",
      "Mu:0.64|Mu+:0.13|Beta:36.00|Sigma:419.00|Epsilon:1.23|EpIter:0.00\n",
      "| \u001b[0m 15      \u001b[0m | \u001b[0m-7.568   \u001b[0m | \u001b[0m 36.61   \u001b[0m | \u001b[0m-124.3   \u001b[0m | \u001b[0m 0.8795  \u001b[0m | \u001b[0m-1.861   \u001b[0m | \u001b[0m 0.58    \u001b[0m | \u001b[0m 419.3   \u001b[0m |\n",
      "Mu:0.52|Mu+:0.02|Beta:352.00|Sigma:378.00|Epsilon:9.20|EpIter:0.00\n",
      "| \u001b[0m 16      \u001b[0m | \u001b[0m 1.091   \u001b[0m | \u001b[0m 352.9   \u001b[0m | \u001b[0m-34.93   \u001b[0m | \u001b[0m 9.201   \u001b[0m | \u001b[0m-3.887   \u001b[0m | \u001b[0m 0.06427 \u001b[0m | \u001b[0m 378.5   \u001b[0m |\n",
      "Mu:0.60|Mu+:0.01|Beta:350.00|Sigma:380.00|Epsilon:9.85|EpIter:0.00\n",
      "| \u001b[0m 17      \u001b[0m | \u001b[0m 1.466   \u001b[0m | \u001b[0m 350.9   \u001b[0m | \u001b[0m-39.08   \u001b[0m | \u001b[0m 9.848   \u001b[0m | \u001b[0m-4.317   \u001b[0m | \u001b[0m 0.4248  \u001b[0m | \u001b[0m 380.8   \u001b[0m |\n",
      "Mu:0.80|Mu+:0.02|Beta:345.00|Sigma:380.00|Epsilon:13.02|EpIter:0.00\n",
      "| \u001b[0m 18      \u001b[0m | \u001b[0m 1.767   \u001b[0m | \u001b[0m 345.2   \u001b[0m | \u001b[0m-27.02   \u001b[0m | \u001b[0m 13.02   \u001b[0m | \u001b[0m-4.018   \u001b[0m | \u001b[0m 1.383   \u001b[0m | \u001b[0m 380.4   \u001b[0m |\n",
      "Mu:0.77|Mu+:0.04|Beta:46.00|Sigma:408.00|Epsilon:32.78|EpIter:0.00\n",
      "| \u001b[0m 19      \u001b[0m | \u001b[0m 1.744   \u001b[0m | \u001b[0m 46.8    \u001b[0m | \u001b[0m-117.2   \u001b[0m | \u001b[0m 32.78   \u001b[0m | \u001b[0m-3.251   \u001b[0m | \u001b[0m 1.228   \u001b[0m | \u001b[0m 408.6   \u001b[0m |\n",
      "Mu:0.66|Mu+:0.05|Beta:132.00|Sigma:144.00|Epsilon:19.04|EpIter:0.00\n",
      "| \u001b[0m 20      \u001b[0m | \u001b[0m 1.674   \u001b[0m | \u001b[0m 132.8   \u001b[0m | \u001b[0m-115.2   \u001b[0m | \u001b[0m 19.04   \u001b[0m | \u001b[0m-2.899   \u001b[0m | \u001b[0m 0.6619  \u001b[0m | \u001b[0m 144.1   \u001b[0m |\n",
      "Mu:0.59|Mu+:0.15|Beta:344.00|Sigma:380.00|Epsilon:15.86|EpIter:0.00\n",
      "| \u001b[0m 21      \u001b[0m | \u001b[0m 1.624   \u001b[0m | \u001b[0m 344.4   \u001b[0m | \u001b[0m-44.9    \u001b[0m | \u001b[0m 15.86   \u001b[0m | \u001b[0m-1.698   \u001b[0m | \u001b[0m 0.3477  \u001b[0m | \u001b[0m 380.1   \u001b[0m |\n",
      "Mu:0.57|Mu+:0.02|Beta:103.00|Sigma:278.00|Epsilon:22.06|EpIter:0.00\n",
      "| \u001b[0m 22      \u001b[0m | \u001b[0m 1.322   \u001b[0m | \u001b[0m 103.6   \u001b[0m | \u001b[0m-10.8    \u001b[0m | \u001b[0m 22.06   \u001b[0m | \u001b[0m-4.081   \u001b[0m | \u001b[0m 0.2664  \u001b[0m | \u001b[0m 278.9   \u001b[0m |\n",
      "Mu:0.80|Mu+:0.13|Beta:99.00|Sigma:272.00|Epsilon:9.55|EpIter:0.00\n",
      "| \u001b[0m 23      \u001b[0m | \u001b[0m 0.6387  \u001b[0m | \u001b[0m 99.98   \u001b[0m | \u001b[0m-15.36   \u001b[0m | \u001b[0m 9.549   \u001b[0m | \u001b[0m-1.918   \u001b[0m | \u001b[0m 1.383   \u001b[0m | \u001b[0m 272.6   \u001b[0m |\n",
      "Mu:0.77|Mu+:0.02|Beta:137.00|Sigma:151.00|Epsilon:10.28|EpIter:0.00\n",
      "| \u001b[0m 24      \u001b[0m | \u001b[0m 1.377   \u001b[0m | \u001b[0m 137.2   \u001b[0m | \u001b[0m-102.6   \u001b[0m | \u001b[0m 10.28   \u001b[0m | \u001b[0m-3.77    \u001b[0m | \u001b[0m 1.186   \u001b[0m | \u001b[0m 151.5   \u001b[0m |\n",
      "Mu:0.77|Mu+:0.05|Beta:116.00|Sigma:281.00|Epsilon:10.50|EpIter:0.00\n",
      "| \u001b[0m 25      \u001b[0m | \u001b[0m 1.438   \u001b[0m | \u001b[0m 116.9   \u001b[0m | \u001b[0m-13.31   \u001b[0m | \u001b[0m 10.5    \u001b[0m | \u001b[0m-3.008   \u001b[0m | \u001b[0m 1.208   \u001b[0m | \u001b[0m 281.2   \u001b[0m |\n",
      "Mu:0.71|Mu+:0.12|Beta:103.00|Sigma:290.00|Epsilon:10.64|EpIter:0.05\n",
      "| \u001b[0m 26      \u001b[0m | \u001b[0m 1.311   \u001b[0m | \u001b[0m 103.3   \u001b[0m | \u001b[0m-2.896   \u001b[0m | \u001b[0m 10.64   \u001b[0m | \u001b[0m-2.029   \u001b[0m | \u001b[0m 0.9033  \u001b[0m | \u001b[0m 290.4   \u001b[0m |\n",
      "Mu:0.51|Mu+:0.04|Beta:353.00|Sigma:381.00|Epsilon:5.02|EpIter:0.00\n",
      "| \u001b[0m 27      \u001b[0m | \u001b[0m-1.34    \u001b[0m | \u001b[0m 353.8   \u001b[0m | \u001b[0m-51.48   \u001b[0m | \u001b[0m 5.009   \u001b[0m | \u001b[0m-3.277   \u001b[0m | \u001b[0m 0.05889 \u001b[0m | \u001b[0m 381.6   \u001b[0m |\n",
      "Mu:0.62|Mu+:0.05|Beta:110.00|Sigma:285.00|Epsilon:26.47|EpIter:0.24\n",
      "| \u001b[0m 28      \u001b[0m | \u001b[0m 1.177   \u001b[0m | \u001b[0m 111.0   \u001b[0m | \u001b[0m-1.159   \u001b[0m | \u001b[0m 26.47   \u001b[0m | \u001b[0m-2.958   \u001b[0m | \u001b[0m 0.486   \u001b[0m | \u001b[0m 285.6   \u001b[0m |\n",
      "Mu:0.74|Mu+:0.05|Beta:147.00|Sigma:142.00|Epsilon:15.14|EpIter:0.00\n",
      "| \u001b[0m 29      \u001b[0m | \u001b[0m 1.831   \u001b[0m | \u001b[0m 147.5   \u001b[0m | \u001b[0m-103.4   \u001b[0m | \u001b[0m 15.14   \u001b[0m | \u001b[0m-2.99    \u001b[0m | \u001b[0m 1.027   \u001b[0m | \u001b[0m 142.5   \u001b[0m |\n",
      "Mu:0.73|Mu+:0.03|Beta:129.00|Sigma:149.00|Epsilon:26.64|EpIter:0.00\n",
      "| \u001b[0m 30      \u001b[0m | \u001b[0m 1.257   \u001b[0m | \u001b[0m 129.4   \u001b[0m | \u001b[0m-109.5   \u001b[0m | \u001b[0m 26.64   \u001b[0m | \u001b[0m-3.614   \u001b[0m | \u001b[0m 1.004   \u001b[0m | \u001b[0m 149.2   \u001b[0m |\n",
      "Mu:0.73|Mu+:0.01|Beta:149.00|Sigma:148.00|Epsilon:11.71|EpIter:0.00\n",
      "| \u001b[0m 31      \u001b[0m | \u001b[0m 2.023   \u001b[0m | \u001b[0m 149.5   \u001b[0m | \u001b[0m-112.1   \u001b[0m | \u001b[0m 11.71   \u001b[0m | \u001b[0m-4.291   \u001b[0m | \u001b[0m 0.9741  \u001b[0m | \u001b[0m 148.2   \u001b[0m |\n",
      "Mu:0.59|Mu+:0.02|Beta:149.00|Sigma:143.00|Epsilon:26.14|EpIter:0.00\n",
      "| \u001b[0m 32      \u001b[0m | \u001b[0m 1.033   \u001b[0m | \u001b[0m 149.4   \u001b[0m | \u001b[0m-115.1   \u001b[0m | \u001b[0m 26.14   \u001b[0m | \u001b[0m-4.046   \u001b[0m | \u001b[0m 0.3674  \u001b[0m | \u001b[0m 143.8   \u001b[0m |\n",
      "Mu:0.62|Mu+:0.01|Beta:349.00|Sigma:383.00|Epsilon:19.09|EpIter:0.00\n",
      "| \u001b[0m 33      \u001b[0m | \u001b[0m 1.668   \u001b[0m | \u001b[0m 349.6   \u001b[0m | \u001b[0m-37.51   \u001b[0m | \u001b[0m 19.09   \u001b[0m | \u001b[0m-4.265   \u001b[0m | \u001b[0m 0.4846  \u001b[0m | \u001b[0m 383.5   \u001b[0m |\n",
      "Mu:0.76|Mu+:0.12|Beta:135.00|Sigma:139.00|Epsilon:7.84|EpIter:0.00\n",
      "| \u001b[0m 34      \u001b[0m | \u001b[0m-0.308   \u001b[0m | \u001b[0m 135.6   \u001b[0m | \u001b[0m-109.3   \u001b[0m | \u001b[0m 7.838   \u001b[0m | \u001b[0m-1.974   \u001b[0m | \u001b[0m 1.153   \u001b[0m | \u001b[0m 139.4   \u001b[0m |\n",
      "Mu:0.67|Mu+:0.02|Beta:331.00|Sigma:387.00|Epsilon:16.50|EpIter:0.00\n",
      "| \u001b[0m 35      \u001b[0m | \u001b[0m 2.054   \u001b[0m | \u001b[0m 331.7   \u001b[0m | \u001b[0m-30.1    \u001b[0m | \u001b[0m 16.5    \u001b[0m | \u001b[0m-3.744   \u001b[0m | \u001b[0m 0.7034  \u001b[0m | \u001b[0m 388.0   \u001b[0m |\n",
      "Mu:0.72|Mu+:0.19|Beta:335.00|Sigma:382.00|Epsilon:24.47|EpIter:0.00\n"
     ]
    },
    {
     "name": "stdout",
     "output_type": "stream",
     "text": [
      "| \u001b[0m 36      \u001b[0m | \u001b[0m 1.285   \u001b[0m | \u001b[0m 335.7   \u001b[0m | \u001b[0m-49.27   \u001b[0m | \u001b[0m 24.47   \u001b[0m | \u001b[0m-1.476   \u001b[0m | \u001b[0m 0.9198  \u001b[0m | \u001b[0m 382.5   \u001b[0m |\n",
      "Mu:0.69|Mu+:0.04|Beta:30.00|Sigma:400.00|Epsilon:13.21|EpIter:0.00\n",
      "| \u001b[95m 37      \u001b[0m | \u001b[95m 2.464   \u001b[0m | \u001b[95m 30.35   \u001b[0m | \u001b[95m-112.7   \u001b[0m | \u001b[95m 13.21   \u001b[0m | \u001b[95m-3.135   \u001b[0m | \u001b[95m 0.8129  \u001b[0m | \u001b[95m 400.7   \u001b[0m |\n",
      "Mu:0.59|Mu+:0.06|Beta:145.00|Sigma:160.00|Epsilon:10.10|EpIter:0.00\n",
      "| \u001b[0m 38      \u001b[0m | \u001b[0m 1.287   \u001b[0m | \u001b[0m 145.1   \u001b[0m | \u001b[0m-102.6   \u001b[0m | \u001b[0m 10.1    \u001b[0m | \u001b[0m-2.802   \u001b[0m | \u001b[0m 0.3643  \u001b[0m | \u001b[0m 160.1   \u001b[0m |\n",
      "Mu:0.61|Mu+:0.02|Beta:323.00|Sigma:395.00|Epsilon:25.21|EpIter:0.00\n",
      "| \u001b[0m 39      \u001b[0m | \u001b[0m 1.186   \u001b[0m | \u001b[0m 323.9   \u001b[0m | \u001b[0m-30.38   \u001b[0m | \u001b[0m 25.21   \u001b[0m | \u001b[0m-3.945   \u001b[0m | \u001b[0m 0.4679  \u001b[0m | \u001b[0m 395.0   \u001b[0m |\n",
      "Mu:0.58|Mu+:0.02|Beta:44.00|Sigma:405.00|Epsilon:27.45|EpIter:0.00\n",
      "| \u001b[0m 40      \u001b[0m | \u001b[0m 0.8149  \u001b[0m | \u001b[0m 44.0    \u001b[0m | \u001b[0m-110.1   \u001b[0m | \u001b[0m 27.45   \u001b[0m | \u001b[0m-3.679   \u001b[0m | \u001b[0m 0.3129  \u001b[0m | \u001b[0m 405.0   \u001b[0m |\n",
      "Mu:0.78|Mu+:0.03|Beta:331.00|Sigma:378.00|Epsilon:17.30|EpIter:0.00\n",
      "| \u001b[0m 41      \u001b[0m | \u001b[0m 1.787   \u001b[0m | \u001b[0m 332.0   \u001b[0m | \u001b[0m-37.31   \u001b[0m | \u001b[0m 17.3    \u001b[0m | \u001b[0m-3.65    \u001b[0m | \u001b[0m 1.294   \u001b[0m | \u001b[0m 378.4   \u001b[0m |\n",
      "Mu:0.55|Mu+:0.20|Beta:106.00|Sigma:288.00|Epsilon:15.05|EpIter:0.00\n",
      "| \u001b[0m 42      \u001b[0m | \u001b[0m 1.385   \u001b[0m | \u001b[0m 106.6   \u001b[0m | \u001b[0m-16.85   \u001b[0m | \u001b[0m 15.05   \u001b[0m | \u001b[0m-1.386   \u001b[0m | \u001b[0m 0.2131  \u001b[0m | \u001b[0m 288.4   \u001b[0m |\n",
      "Mu:0.80|Mu+:0.07|Beta:335.00|Sigma:391.00|Epsilon:20.49|EpIter:0.00\n",
      "| \u001b[0m 43      \u001b[0m | \u001b[0m 1.562   \u001b[0m | \u001b[0m 335.0   \u001b[0m | \u001b[0m-24.48   \u001b[0m | \u001b[0m 20.49   \u001b[0m | \u001b[0m-2.621   \u001b[0m | \u001b[0m 1.38    \u001b[0m | \u001b[0m 391.3   \u001b[0m |\n",
      "Mu:0.53|Mu+:0.02|Beta:24.00|Sigma:403.00|Epsilon:27.98|EpIter:0.00\n",
      "| \u001b[0m 44      \u001b[0m | \u001b[0m 0.6784  \u001b[0m | \u001b[0m 24.99   \u001b[0m | \u001b[0m-107.9   \u001b[0m | \u001b[0m 27.98   \u001b[0m | \u001b[0m-3.797   \u001b[0m | \u001b[0m 0.1116  \u001b[0m | \u001b[0m 403.9   \u001b[0m |\n",
      "Mu:0.64|Mu+:0.03|Beta:152.00|Sigma:148.00|Epsilon:18.67|EpIter:0.00\n",
      "| \u001b[0m 45      \u001b[0m | \u001b[0m 1.691   \u001b[0m | \u001b[0m 152.0   \u001b[0m | \u001b[0m-110.6   \u001b[0m | \u001b[0m 18.67   \u001b[0m | \u001b[0m-3.399   \u001b[0m | \u001b[0m 0.5834  \u001b[0m | \u001b[0m 148.1   \u001b[0m |\n",
      "Mu:0.62|Mu+:0.04|Beta:163.00|Sigma:135.00|Epsilon:8.78|EpIter:0.00\n",
      "| \u001b[0m 46      \u001b[0m | \u001b[0m 0.2027  \u001b[0m | \u001b[0m 163.8   \u001b[0m | \u001b[0m-105.8   \u001b[0m | \u001b[0m 8.776   \u001b[0m | \u001b[0m-3.251   \u001b[0m | \u001b[0m 0.4762  \u001b[0m | \u001b[0m 135.4   \u001b[0m |\n",
      "Mu:0.50|Mu+:0.04|Beta:335.00|Sigma:379.00|Epsilon:13.96|EpIter:0.00\n",
      "| \u001b[0m 47      \u001b[0m | \u001b[0m 2.24    \u001b[0m | \u001b[0m 335.7   \u001b[0m | \u001b[0m-25.53   \u001b[0m | \u001b[0m 13.96   \u001b[0m | \u001b[0m-3.286   \u001b[0m | \u001b[0m 0.01663 \u001b[0m | \u001b[0m 379.2   \u001b[0m |\n",
      "Mu:0.50|Mu+:0.01|Beta:141.00|Sigma:152.00|Epsilon:18.16|EpIter:0.00\n",
      "| \u001b[0m 48      \u001b[0m | \u001b[0m 1.658   \u001b[0m | \u001b[0m 141.2   \u001b[0m | \u001b[0m-112.1   \u001b[0m | \u001b[0m 18.16   \u001b[0m | \u001b[0m-4.595   \u001b[0m | \u001b[0m 0.0     \u001b[0m | \u001b[0m 152.9   \u001b[0m |\n",
      "Mu:0.74|Mu+:0.04|Beta:22.00|Sigma:393.00|Epsilon:27.18|EpIter:0.00\n",
      "| \u001b[0m 49      \u001b[0m | \u001b[0m 1.879   \u001b[0m | \u001b[0m 22.66   \u001b[0m | \u001b[0m-121.9   \u001b[0m | \u001b[0m 27.18   \u001b[0m | \u001b[0m-3.163   \u001b[0m | \u001b[0m 1.038   \u001b[0m | \u001b[0m 393.2   \u001b[0m |\n",
      "Mu:0.70|Mu+:0.02|Beta:347.00|Sigma:388.00|Epsilon:27.43|EpIter:0.00\n",
      "| \u001b[0m 50      \u001b[0m | \u001b[0m 1.129   \u001b[0m | \u001b[0m 347.0   \u001b[0m | \u001b[0m-33.06   \u001b[0m | \u001b[0m 27.43   \u001b[0m | \u001b[0m-3.984   \u001b[0m | \u001b[0m 0.8393  \u001b[0m | \u001b[0m 388.2   \u001b[0m |\n",
      "Mu:0.72|Mu+:0.04|Beta:32.00|Sigma:372.00|Epsilon:31.82|EpIter:0.00\n",
      "| \u001b[0m 51      \u001b[0m | \u001b[0m 1.716   \u001b[0m | \u001b[0m 32.49   \u001b[0m | \u001b[0m-118.1   \u001b[0m | \u001b[0m 31.82   \u001b[0m | \u001b[0m-3.226   \u001b[0m | \u001b[0m 0.9668  \u001b[0m | \u001b[0m 372.0   \u001b[0m |\n",
      "Mu:0.69|Mu+:0.17|Beta:24.00|Sigma:366.00|Epsilon:21.77|EpIter:0.00\n",
      "| \u001b[0m 52      \u001b[0m | \u001b[0m 1.841   \u001b[0m | \u001b[0m 24.07   \u001b[0m | \u001b[0m-117.3   \u001b[0m | \u001b[0m 21.77   \u001b[0m | \u001b[0m-1.614   \u001b[0m | \u001b[0m 0.7856  \u001b[0m | \u001b[0m 366.8   \u001b[0m |\n",
      "Mu:0.61|Mu+:0.15|Beta:322.00|Sigma:387.00|Epsilon:29.36|EpIter:0.00\n",
      "| \u001b[0m 53      \u001b[0m | \u001b[0m 1.236   \u001b[0m | \u001b[0m 322.9   \u001b[0m | \u001b[0m-19.48   \u001b[0m | \u001b[0m 29.36   \u001b[0m | \u001b[0m-1.748   \u001b[0m | \u001b[0m 0.4361  \u001b[0m | \u001b[0m 387.4   \u001b[0m |\n",
      "Mu:0.63|Mu+:0.12|Beta:323.00|Sigma:370.00|Epsilon:20.76|EpIter:0.00\n",
      "| \u001b[0m 54      \u001b[0m | \u001b[0m 1.626   \u001b[0m | \u001b[0m 323.4   \u001b[0m | \u001b[0m-17.73   \u001b[0m | \u001b[0m 20.76   \u001b[0m | \u001b[0m-1.982   \u001b[0m | \u001b[0m 0.551   \u001b[0m | \u001b[0m 370.9   \u001b[0m |\n",
      "Mu:0.65|Mu+:0.04|Beta:330.00|Sigma:379.00|Epsilon:15.90|EpIter:0.00\n",
      "| \u001b[0m 55      \u001b[0m | \u001b[0m 2.102   \u001b[0m | \u001b[0m 330.1   \u001b[0m | \u001b[0m-14.55   \u001b[0m | \u001b[0m 15.9    \u001b[0m | \u001b[0m-3.203   \u001b[0m | \u001b[0m 0.6026  \u001b[0m | \u001b[0m 379.6   \u001b[0m |\n",
      "Mu:0.57|Mu+:0.17|Beta:24.00|Sigma:391.00|Epsilon:13.78|EpIter:0.00\n",
      "| \u001b[0m 56      \u001b[0m | \u001b[0m 2.145   \u001b[0m | \u001b[0m 24.12   \u001b[0m | \u001b[0m-116.7   \u001b[0m | \u001b[0m 13.78   \u001b[0m | \u001b[0m-1.614   \u001b[0m | \u001b[0m 0.2765  \u001b[0m | \u001b[0m 392.0   \u001b[0m |\n",
      "Mu:0.74|Mu+:0.09|Beta:325.00|Sigma:381.00|Epsilon:9.54|EpIter:0.00\n",
      "| \u001b[0m 57      \u001b[0m | \u001b[0m 0.8876  \u001b[0m | \u001b[0m 325.8   \u001b[0m | \u001b[0m-15.01   \u001b[0m | \u001b[0m 9.539   \u001b[0m | \u001b[0m-2.367   \u001b[0m | \u001b[0m 1.022   \u001b[0m | \u001b[0m 381.5   \u001b[0m |\n",
      "Mu:0.68|Mu+:0.04|Beta:25.00|Sigma:377.00|Epsilon:29.36|EpIter:0.00\n",
      "| \u001b[0m 58      \u001b[0m | \u001b[0m 1.554   \u001b[0m | \u001b[0m 25.26   \u001b[0m | \u001b[0m-116.3   \u001b[0m | \u001b[0m 29.36   \u001b[0m | \u001b[0m-3.101   \u001b[0m | \u001b[0m 0.7726  \u001b[0m | \u001b[0m 377.3   \u001b[0m |\n",
      "Mu:0.56|Mu+:0.01|Beta:25.00|Sigma:391.00|Epsilon:22.21|EpIter:0.00\n",
      "| \u001b[0m 59      \u001b[0m | \u001b[0m 1.156   \u001b[0m | \u001b[0m 25.44   \u001b[0m | \u001b[0m-115.2   \u001b[0m | \u001b[0m 22.21   \u001b[0m | \u001b[0m-4.224   \u001b[0m | \u001b[0m 0.245   \u001b[0m | \u001b[0m 391.3   \u001b[0m |\n",
      "Mu:0.55|Mu+:0.01|Beta:38.00|Sigma:409.00|Epsilon:32.52|EpIter:0.00\n",
      "| \u001b[0m 60      \u001b[0m | \u001b[0m 0.3238  \u001b[0m | \u001b[0m 38.95   \u001b[0m | \u001b[0m-123.3   \u001b[0m | \u001b[0m 32.52   \u001b[0m | \u001b[0m-4.374   \u001b[0m | \u001b[0m 0.1807  \u001b[0m | \u001b[0m 409.5   \u001b[0m |\n",
      "Mu:0.54|Mu+:0.16|Beta:144.00|Sigma:146.00|Epsilon:24.79|EpIter:0.00\n",
      "| \u001b[0m 61      \u001b[0m | \u001b[0m 1.093   \u001b[0m | \u001b[0m 144.1   \u001b[0m | \u001b[0m-105.0   \u001b[0m | \u001b[0m 24.79   \u001b[0m | \u001b[0m-1.65    \u001b[0m | \u001b[0m 0.1574  \u001b[0m | \u001b[0m 146.7   \u001b[0m |\n",
      "=================================================================================================\n"
     ]
    }
   ],
   "source": [
    "optimizer.maximize(\n",
    "    init_points=10,\n",
    "    n_iter=50,\n",
    ")"
   ]
  },
  {
   "cell_type": "code",
   "execution_count": 24,
   "metadata": {},
   "outputs": [
    {
     "data": {
      "text/plain": [
       "{'target': 2.4638532758561262,\n",
       " 'params': {'beta_sp': 30.351417232503938,\n",
       "  'epsilonIterate_logit': -112.66257648129948,\n",
       "  'epsilon_sp': 13.206277525958182,\n",
       "  'muIncr_logit': -3.134940502447735,\n",
       "  'mu_logit': 0.812883876513182,\n",
       "  'sigma_sp': 400.7046516565571}}"
      ]
     },
     "execution_count": 24,
     "metadata": {},
     "output_type": "execute_result"
    }
   ],
   "source": [
    "optimizer.max"
   ]
  },
  {
   "cell_type": "code",
   "execution_count": 25,
   "metadata": {
    "ExecuteTime": {
     "end_time": "2020-09-03T22:58:42.653746Z",
     "start_time": "2020-09-03T22:58:42.649916Z"
    }
   },
   "outputs": [
    {
     "data": {
      "text/plain": [
       "0.92156863"
      ]
     },
     "execution_count": 25,
     "metadata": {},
     "output_type": "execute_result"
    }
   ],
   "source": [
    "inv_logit(optimizer.max[\"target\"])"
   ]
  },
  {
   "cell_type": "code",
   "execution_count": 26,
   "metadata": {
    "ExecuteTime": {
     "end_time": "2020-09-03T22:59:56.414823Z",
     "start_time": "2020-09-03T22:59:56.412477Z"
    }
   },
   "outputs": [],
   "source": [
    "params=optimizer.max[\"params\"]"
   ]
  },
  {
   "cell_type": "code",
   "execution_count": 27,
   "metadata": {
    "ExecuteTime": {
     "end_time": "2020-09-03T23:00:39.452694Z",
     "start_time": "2020-09-03T23:00:39.449279Z"
    }
   },
   "outputs": [
    {
     "data": {
      "text/plain": [
       "30.351417232504005"
      ]
     },
     "execution_count": 27,
     "metadata": {},
     "output_type": "execute_result"
    }
   ],
   "source": [
    "softplus(params[\"beta_sp\"])"
   ]
  },
  {
   "cell_type": "code",
   "execution_count": 28,
   "metadata": {
    "ExecuteTime": {
     "end_time": "2020-09-03T23:01:09.671719Z",
     "start_time": "2020-09-03T23:01:09.668333Z"
    }
   },
   "outputs": [
    {
     "data": {
      "text/plain": [
       "400.7046516565571"
      ]
     },
     "execution_count": 28,
     "metadata": {},
     "output_type": "execute_result"
    }
   ],
   "source": [
    "softplus(params[\"sigma_sp\"])"
   ]
  },
  {
   "cell_type": "code",
   "execution_count": 29,
   "metadata": {
    "ExecuteTime": {
     "end_time": "2020-09-04T01:35:00.233453Z",
     "start_time": "2020-09-04T01:35:00.230360Z"
    }
   },
   "outputs": [
    {
     "data": {
      "text/plain": [
       "0.6927237002031744"
      ]
     },
     "execution_count": 29,
     "metadata": {},
     "output_type": "execute_result"
    }
   ],
   "source": [
    "inv_logit(params[\"mu_logit\"])"
   ]
  },
  {
   "cell_type": "code",
   "execution_count": 30,
   "metadata": {
    "ExecuteTime": {
     "end_time": "2020-09-04T01:35:28.881809Z",
     "start_time": "2020-09-04T01:35:28.878641Z"
    }
   },
   "outputs": [
    {
     "data": {
      "text/plain": [
       "0.04168878236567342"
      ]
     },
     "execution_count": 30,
     "metadata": {},
     "output_type": "execute_result"
    }
   ],
   "source": [
    "inv_logit(params[\"muIncr_logit\"])"
   ]
  },
  {
   "cell_type": "code",
   "execution_count": 31,
   "metadata": {
    "ExecuteTime": {
     "end_time": "2020-09-04T01:36:46.943597Z",
     "start_time": "2020-09-04T01:36:46.940247Z"
    }
   },
   "outputs": [
    {
     "data": {
      "text/plain": [
       "1.1783039829753149e-49"
      ]
     },
     "execution_count": 31,
     "metadata": {},
     "output_type": "execute_result"
    }
   ],
   "source": [
    "inv_logit(params[\"epsilonIterate_logit\"])"
   ]
  },
  {
   "cell_type": "code",
   "execution_count": 32,
   "metadata": {
    "ExecuteTime": {
     "end_time": "2020-09-04T01:36:13.729976Z",
     "start_time": "2020-09-04T01:36:13.726798Z"
    }
   },
   "outputs": [
    {
     "data": {
      "text/plain": [
       "13.20627936497688"
      ]
     },
     "execution_count": 32,
     "metadata": {},
     "output_type": "execute_result"
    }
   ],
   "source": [
    "softplus(params[\"epsilon_sp\"])"
   ]
  },
  {
   "cell_type": "code",
   "execution_count": 33,
   "metadata": {},
   "outputs": [
    {
     "name": "stdout",
     "output_type": "stream",
     "text": [
      "\n",
      ">>>>>>>>>>>>\n",
      "Starting Iteration mu= 0.6927\n",
      "Starting Iteration epsilon= 13.206\n",
      "Running NewMatrix Jar!\n",
      " Single-Reference Blocks = 1\n",
      "\n",
      " Multi-Reference Blocks = 15658\n",
      "NewMatrix Iterateblocks Total Time = 21.513736179098487\n",
      "\n",
      "\n",
      ">>>>>>>>>>>>\n",
      "Starting Iteration mu= 0.7343999999999999\n",
      "Starting Iteration epsilon= 13.206\n",
      "Running NewMatrix Jar!\n",
      " Single-Reference Blocks = 1\n",
      "\n",
      " Multi-Reference Blocks = 4284\n",
      "NewMatrix Iterateblocks Total Time = 4.924954152666032\n",
      "\n",
      "\n",
      ">>>>>>>>>>>>\n",
      "Starting Iteration mu= 0.7760999999999999\n",
      "Starting Iteration epsilon= 13.206\n",
      "Running NewMatrix Jar!\n",
      " Single-Reference Blocks = 1\n",
      "\n",
      " Multi-Reference Blocks = 2703\n",
      "NewMatrix Iterateblocks Total Time = 3.236268292181194\n",
      "\n",
      "\n",
      ">>>>>>>>>>>>\n",
      "Starting Iteration mu= 0.8177999999999999\n",
      "Starting Iteration epsilon= 13.206\n",
      "Running NewMatrix Jar!\n",
      " Single-Reference Blocks = 1\n",
      "\n",
      " Multi-Reference Blocks = 2074\n",
      "NewMatrix Iterateblocks Total Time = 2.34780861902982\n",
      "\n",
      "\n",
      ">>>>>>>>>>>>\n",
      "Starting Iteration mu= 0.8594999999999998\n",
      "Starting Iteration epsilon= 13.206\n",
      "Running NewMatrix Jar!\n",
      " Single-Reference Blocks = 1\n",
      "\n",
      " Multi-Reference Blocks = 1290\n",
      "NewMatrix Iterateblocks Total Time = 1.6980362441390753\n",
      "\n",
      "\n",
      ">>>>>>>>>>>>\n",
      "Starting Iteration mu= 0.9011999999999998\n",
      "Starting Iteration epsilon= 13.206\n",
      "Running NewMatrix Jar!\n",
      " Single-Reference Blocks = 1\n",
      "\n",
      " Multi-Reference Blocks = 817\n",
      "NewMatrix Iterateblocks Total Time = 1.1413710610941052\n",
      "\n",
      "\n",
      ">>>>>>>>>>>>\n",
      "Starting Iteration mu= 0.9428999999999997\n",
      "Starting Iteration epsilon= 13.206\n",
      "Running NewMatrix Jar!\n",
      " Single-Reference Blocks = 1\n",
      "\n",
      " Multi-Reference Blocks = 201\n",
      "NewMatrix Iterateblocks Total Time = 0.6030139327049255\n",
      "\n",
      "\n",
      ">>>>>>>>>>>>\n",
      "Starting Iteration mu= 0.9845999999999997\n",
      "Starting Iteration epsilon= 13.206\n",
      "Running NewMatrix Jar!\n",
      " Single-Reference Blocks = 1\n",
      "\n",
      " Multi-Reference Blocks = 24\n",
      "NewMatrix Iterateblocks Total Time = 0.19381713960319757\n",
      "\n",
      "Precision = TP / (TP + FP) ......................... = 0.95994404\n",
      "Recall = TP / (TP + FN) ............................ = 0.88614352\n",
      "F-Measure .......................................... = 0.92156863\n"
     ]
    },
    {
     "data": {
      "text/plain": [
       "0.92156863"
      ]
     },
     "execution_count": 33,
     "metadata": {},
     "output_type": "execute_result"
    }
   ],
   "source": [
    "entropy_F1(mu=0.6927,\n",
    "           muIncr=0.0417,\n",
    "           beta=30,\n",
    "           sigma=400,\n",
    "           epsilon=13.206,\n",
    "           epsilonIterate=0)"
   ]
  }
 ],
 "metadata": {
  "kernelspec": {
   "display_name": "Python 3",
   "language": "python",
   "name": "python3"
  },
  "language_info": {
   "codemirror_mode": {
    "name": "ipython",
    "version": 3
   },
   "file_extension": ".py",
   "mimetype": "text/x-python",
   "name": "python",
   "nbconvert_exporter": "python",
   "pygments_lexer": "ipython3",
   "version": "3.7.4"
  },
  "toc": {
   "base_numbering": 1,
   "nav_menu": {},
   "number_sections": true,
   "sideBar": true,
   "skip_h1_title": false,
   "title_cell": "Table of Contents",
   "title_sidebar": "Contents",
   "toc_cell": false,
   "toc_position": {},
   "toc_section_display": true,
   "toc_window_display": false
  },
  "varInspector": {
   "cols": {
    "lenName": 16,
    "lenType": 16,
    "lenVar": 40
   },
   "kernels_config": {
    "python": {
     "delete_cmd_postfix": "",
     "delete_cmd_prefix": "del ",
     "library": "var_list.py",
     "varRefreshCmd": "print(var_dic_list())"
    },
    "r": {
     "delete_cmd_postfix": ") ",
     "delete_cmd_prefix": "rm(",
     "library": "var_list.r",
     "varRefreshCmd": "cat(var_dic_list()) "
    }
   },
   "types_to_exclude": [
    "module",
    "function",
    "builtin_function_or_method",
    "instance",
    "_Feature"
   ],
   "window_display": false
  }
 },
 "nbformat": 4,
 "nbformat_minor": 2
}
