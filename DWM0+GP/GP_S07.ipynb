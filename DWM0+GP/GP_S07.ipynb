{
 "cells": [
  {
   "cell_type": "code",
   "execution_count": 1,
   "metadata": {
    "ExecuteTime": {
     "end_time": "2020-09-03T21:59:20.041891Z",
     "start_time": "2020-09-03T21:59:10.621897Z"
    }
   },
   "outputs": [
    {
     "name": "stdout",
     "output_type": "stream",
     "text": [
      "Tokenizing References\n",
      "Total References= 2912\n",
      "Total Tokens Found = 35362\n",
      "Total Tokens Output = 35295\n",
      "Dictionary Load = 67077\n",
      "<class 'dict'>\n",
      "Global Replace Cycle\n",
      "Total References= 2912\n",
      "Total Tokens= 35295\n",
      "Unique Tokens= 7254\n",
      "Minimum Frequency of Standard Token =  5\n",
      "Minimum Length of Standard Token =  3\n",
      "Maximum Frequency of Error Token =  3\n",
      "References Processed= 2912\n",
      "Sorted Token Size = 7254\n",
      "Clean Token Size = 3422\n",
      "*Stop Replacements here\n",
      "References Processed =  2912\n",
      "Total Replacement Pairs = 186\n",
      "Tokens Read = 35295\n",
      "Tokens Changed =  268\n",
      "References Changed = 252\n"
     ]
    }
   ],
   "source": [
    "import DWM1_Tokenizer\n",
    "import DWM2_Global_Token_Replace_NewDict\n",
    "import DWM3_Entropy_Cluster\n",
    "# Settings for Tokenizer\n",
    "inputSampleName = r'S7'\n",
    "delimiter=','\n",
    "hasHeader = True\n",
    "tokenizerType = 'Splitter'\n",
    "removeDuplicateTokens = True\n",
    "\n",
    "# Setting for global replacement DWM2\n",
    "runReplacement = True\n",
    "minFreqStdToken = 5\n",
    "minLenStdToken = 3\n",
    "maxFreqErrToken = 3\n",
    "\n",
    "# Cluster Settings\n",
    "\n",
    "\n",
    "DWM1_Tokenizer.tokenizeCycle(inputSampleName, delimiter, hasHeader, removeDuplicateTokens, tokenizerType)\n",
    "prefixString = inputSampleName +','+tokenizerType+','+str(removeDuplicateTokens)\n",
    "fileToCluster = inputSampleName + '-Tokenized.txt'\n",
    "if runReplacement:\n",
    "    DWM2_Global_Token_Replace_NewDict.globalReplace(inputSampleName, minFreqStdToken, minLenStdToken, maxFreqErrToken)\n",
    "    fileToCluster = inputSampleName + '-TokenReplace.txt'\n",
    "    prefixString = prefixString+','+str(minFreqStdToken)+','+str(minLenStdToken)+','+str(maxFreqErrToken)\n",
    "else:\n",
    "    prefixString = prefixString+',0,0,0'\n",
    "\n",
    "# Cluster fixed settings\n",
    "epsilonIterate = 0.0\n",
    "runClusterMetrics = False\n",
    "runFinalMetrics = True\n",
    "createFinalJoin = False"
   ]
  },
  {
   "cell_type": "code",
   "execution_count": 2,
   "metadata": {},
   "outputs": [],
   "source": [
    "status=\"done\""
   ]
  },
  {
   "cell_type": "code",
   "execution_count": 3,
   "metadata": {},
   "outputs": [
    {
     "name": "stdout",
     "output_type": "stream",
     "text": [
      "done\n"
     ]
    }
   ],
   "source": [
    "print(status)"
   ]
  },
  {
   "cell_type": "code",
   "execution_count": 14,
   "metadata": {
    "ExecuteTime": {
     "end_time": "2020-09-03T15:11:39.765508Z",
     "start_time": "2020-09-03T15:03:19.495876Z"
    },
    "scrolled": false
   },
   "outputs": [],
   "source": [
    "# # Cluster Robot Settings\n",
    "# muStart = 0.60\n",
    "# muEnd = 0.60\n",
    "# muIncr = 0.05\n",
    "# betaStart = 14\n",
    "# betaEnd = 14\n",
    "# betaIncr = 1\n",
    "# sigmaStart = 145\n",
    "# sigmaEnd = 145\n",
    "# sigmaIncr = 1\n",
    "# epsilonStart = 35\n",
    "# epsilonEnd = 35\n",
    "# epsilonIncr = 1\n",
    "# mu = muStart\n",
    "# while mu <= muEnd:\n",
    "#     beta = betaStart\n",
    "#     while beta <= betaEnd:\n",
    "#         sigma = sigmaStart\n",
    "#         while sigma <= sigmaEnd:\n",
    "#             epsilon = epsilonStart\n",
    "#             while epsilon <= epsilonEnd:\n",
    "#                 suffixString =','+str(epsilon)+','+str(epsilonIterate)\n",
    "#                 resultsList = DWM3_Entropy_Cluster.driver(fileToCluster, beta, sigma, mu, muIncr,epsilon,  \\\n",
    "#                                                      epsilonIterate,runClusterMetrics, runFinalMetrics, createFinalJoin, hasHeader)\n",
    "#                 seg0a = ','+str(resultsList[0])+','+str(resultsList[1])+','+str(resultsList[2])+','+str(resultsList[3])\n",
    "#                 seg0b =','+str(resultsList[4])+','+str(resultsList[5])+','+str(resultsList[6])\n",
    "#                 seg1 = ','+str(beta)+','+str(sigma)+','+str(mu)+ ',' +str(muIncr)\n",
    "#                 seg2 = ','+str(resultsList[7])+','+str(resultsList[8])+','+str(resultsList[9])\n",
    "#                 outString = prefixString+seg0a+seg0b+suffixString+seg1+seg2+'\\n'\n",
    "#                 resultsFile = open('RobotResults.txt','a+')\n",
    "#                 resultsFile.write(outString)\n",
    "#                 resultsFile.close()\n",
    "#                 epsilon = epsilon + epsilonIncr\n",
    "#             sigma = sigma + sigmaIncr\n",
    "#         beta = beta + betaIncr\n",
    "#     mu = mu + muIncr\n",
    "\n",
    "\n",
    " "
   ]
  },
  {
   "cell_type": "markdown",
   "metadata": {
    "ExecuteTime": {
     "end_time": "2020-09-03T16:36:26.229783Z",
     "start_time": "2020-09-03T16:36:26.227755Z"
    }
   },
   "source": [
    "## Bayesian Optimization of Hyperparameters"
   ]
  },
  {
   "cell_type": "code",
   "execution_count": 4,
   "metadata": {},
   "outputs": [],
   "source": [
    "import numpy as np"
   ]
  },
  {
   "cell_type": "markdown",
   "metadata": {
    "ExecuteTime": {
     "end_time": "2020-09-03T16:36:47.947518Z",
     "start_time": "2020-09-03T16:36:47.944251Z"
    }
   },
   "source": [
    "Create a function of the parameters that returns the F score"
   ]
  },
  {
   "cell_type": "code",
   "execution_count": 5,
   "metadata": {
    "ExecuteTime": {
     "end_time": "2020-09-03T21:59:42.561300Z",
     "start_time": "2020-09-03T21:59:42.557193Z"
    }
   },
   "outputs": [],
   "source": [
    "def entropy_F1(beta=14,sigma=145,mu=0.6,muIncr=0.05,epsilon=35,epsilonIterate=0):\n",
    "    resultsList = DWM3_Entropy_Cluster.driver(fileToCluster, \n",
    "                                  beta, \n",
    "                                  sigma, \n",
    "                                  mu, \n",
    "                                  muIncr,\n",
    "                                  epsilon,\n",
    "                                  epsilonIterate,\n",
    "                                  runClusterMetrics, \n",
    "                                  runFinalMetrics, \n",
    "                                  createFinalJoin, \n",
    "                                  hasHeader)\n",
    "    return resultsList[9]"
   ]
  },
  {
   "cell_type": "code",
   "execution_count": 6,
   "metadata": {
    "ExecuteTime": {
     "end_time": "2020-09-03T22:06:32.164588Z",
     "start_time": "2020-09-03T21:59:43.696518Z"
    }
   },
   "outputs": [
    {
     "name": "stdout",
     "output_type": "stream",
     "text": [
      "\n",
      ">>>>>>>>>>>>\n",
      "Starting Iteration mu= 0.5\n",
      "Starting Iteration epsilon= 31.8\n",
      "Running NewMatrix Jar!\n",
      " Single-Reference Blocks = 1\n",
      "\n",
      " Multi-Reference Blocks = 3660\n",
      "NewMatrix Iterateblocks Total Time = 2.5997740095481277\n",
      "\n",
      "\n",
      ">>>>>>>>>>>>\n",
      "Starting Iteration mu= 0.55\n",
      "Starting Iteration epsilon= 31.8\n",
      "Running NewMatrix Jar!\n",
      " Single-Reference Blocks = 1\n",
      "\n",
      " Multi-Reference Blocks = 2746\n",
      "NewMatrix Iterateblocks Total Time = 2.1355690099298954\n",
      "\n",
      "\n",
      ">>>>>>>>>>>>\n",
      "Starting Iteration mu= 0.6000000000000001\n",
      "Starting Iteration epsilon= 31.8\n",
      "Running NewMatrix Jar!\n",
      " Single-Reference Blocks = 1\n",
      "\n",
      " Multi-Reference Blocks = 1718\n",
      "NewMatrix Iterateblocks Total Time = 1.8506264770403504\n",
      "\n",
      "\n",
      ">>>>>>>>>>>>\n",
      "Starting Iteration mu= 0.6500000000000001\n",
      "Starting Iteration epsilon= 31.8\n",
      "Running NewMatrix Jar!\n",
      " Single-Reference Blocks = 1\n",
      "\n",
      " Multi-Reference Blocks = 551\n",
      "NewMatrix Iterateblocks Total Time = 0.9212935985997319\n",
      "\n",
      "Precision = TP / (TP + FP) ......................... = 0.27917889\n",
      "Recall = TP / (TP + FN) ............................ = 0.97275204\n",
      "F-Measure .......................................... = 0.43384475\n"
     ]
    },
    {
     "data": {
      "text/plain": [
       "0.43384475"
      ]
     },
     "execution_count": 6,
     "metadata": {},
     "output_type": "execute_result"
    }
   ],
   "source": [
    "entropy_F1(mu=0.5,muIncr=0.05,beta=33,sigma=449,epsilon=31.8,epsilonIterate=0)"
   ]
  },
  {
   "cell_type": "markdown",
   "metadata": {},
   "source": [
    "Create functions for variable transformation."
   ]
  },
  {
   "cell_type": "code",
   "execution_count": 7,
   "metadata": {
    "ExecuteTime": {
     "end_time": "2020-09-03T22:08:18.856511Z",
     "start_time": "2020-09-03T22:08:18.853611Z"
    }
   },
   "outputs": [],
   "source": [
    "#Softplus to transform real domain into positive\n",
    "def softplus(x):\n",
    "    return np.log(1+np.exp(x))\n",
    "\n",
    "def inv_softplus(x):\n",
    "    return np.log(np.exp(x)-1)"
   ]
  },
  {
   "cell_type": "code",
   "execution_count": 8,
   "metadata": {
    "ExecuteTime": {
     "end_time": "2020-09-03T22:08:27.349548Z",
     "start_time": "2020-09-03T22:08:27.345752Z"
    }
   },
   "outputs": [
    {
     "data": {
      "text/plain": [
       "0.541324854612918"
      ]
     },
     "execution_count": 8,
     "metadata": {},
     "output_type": "execute_result"
    }
   ],
   "source": [
    "inv_softplus(1)"
   ]
  },
  {
   "cell_type": "code",
   "execution_count": 9,
   "metadata": {
    "ExecuteTime": {
     "end_time": "2020-09-03T22:11:24.939913Z",
     "start_time": "2020-09-03T22:11:24.936639Z"
    }
   },
   "outputs": [],
   "source": [
    "#Logit to transform real domain into 0-1\n",
    "def logit(x):    \n",
    "    return np.log(x+1e-54)-np.log(1-x+1e-54)\n",
    "\n",
    "def inv_logit(x):\n",
    "    res=np.exp(x)/(np.exp(x)+1)-2*1e-54\n",
    "    if res<1e-54:\n",
    "        res=0\n",
    "    return res"
   ]
  },
  {
   "cell_type": "markdown",
   "metadata": {},
   "source": [
    "Import BO library:"
   ]
  },
  {
   "cell_type": "code",
   "execution_count": 10,
   "metadata": {
    "ExecuteTime": {
     "end_time": "2020-09-03T22:08:30.622144Z",
     "start_time": "2020-09-03T22:08:30.226842Z"
    }
   },
   "outputs": [],
   "source": [
    "from bayes_opt import BayesianOptimization"
   ]
  },
  {
   "cell_type": "markdown",
   "metadata": {
    "ExecuteTime": {
     "end_time": "2020-09-03T18:14:39.927785Z",
     "start_time": "2020-09-03T18:14:39.924909Z"
    }
   },
   "source": [
    "Create dictionary bounds for the parameters:"
   ]
  },
  {
   "cell_type": "code",
   "execution_count": 11,
   "metadata": {},
   "outputs": [],
   "source": [
    "import os, sys"
   ]
  },
  {
   "cell_type": "code",
   "execution_count": 12,
   "metadata": {},
   "outputs": [],
   "source": [
    "class HiddenPrints:\n",
    "    def __enter__(self):\n",
    "        self._original_stdout = sys.stdout\n",
    "        sys.stdout = open(os.devnull, 'w')\n",
    "\n",
    "    def __exit__(self, exc_type, exc_val, exc_tb):\n",
    "        sys.stdout.close()\n",
    "        sys.stdout = self._original_stdout"
   ]
  },
  {
   "cell_type": "code",
   "execution_count": 13,
   "metadata": {},
   "outputs": [
    {
     "name": "stdout",
     "output_type": "stream",
     "text": [
      "This will be printed as before\n"
     ]
    }
   ],
   "source": [
    "with HiddenPrints():\n",
    "    print(\"This will not be printed\")\n",
    "\n",
    "print(\"This will be printed as before\")"
   ]
  },
  {
   "cell_type": "code",
   "execution_count": 14,
   "metadata": {
    "ExecuteTime": {
     "end_time": "2020-09-03T22:11:53.005154Z",
     "start_time": "2020-09-03T22:11:53.000238Z"
    }
   },
   "outputs": [],
   "source": [
    "#Take parameters in transformed space and return f score in transformed space\n",
    "def entropy_F1_trx(beta_sp,sigma_sp,mu_logit,muIncr_logit,epsilon_sp,epsilonIterate_logit=logit(0)):\n",
    "    beta_pos=int(softplus(beta_sp))\n",
    "    sigma_pos=int(softplus(sigma_sp))\n",
    "    mu_01=inv_logit(mu_logit)\n",
    "    muIncr_01=inv_logit(muIncr_logit)\n",
    "    epsilon_pos=softplus(epsilon_sp)\n",
    "    epsilonIterate_01=inv_logit(epsilonIterate_logit)\n",
    "    \n",
    "    print(\"Mu:%.2f|Mu+:%.2f|Beta:%.2f|Sigma:%.2f|Epsilon:%.2f|EpIter:%.2f\" % (mu_01, muIncr_01, beta_pos, sigma_pos, epsilon_pos, epsilonIterate_01))\n",
    "    \n",
    "    with HiddenPrints():\n",
    "        f1=entropy_F1(beta=beta_pos,\n",
    "                      epsilon=epsilon_pos,\n",
    "                      epsilonIterate=epsilonIterate_01,\n",
    "                      muIncr=muIncr_01,\n",
    "                      sigma=sigma_pos,\n",
    "                      mu=mu_01)\n",
    "    \n",
    "    return logit(f1)"
   ]
  },
  {
   "cell_type": "code",
   "execution_count": 15,
   "metadata": {},
   "outputs": [
    {
     "name": "stdout",
     "output_type": "stream",
     "text": [
      "Mu:0.50|Mu+:0.05|Beta:33.00|Sigma:449.00|Epsilon:31.80|EpIter:0.00\n"
     ]
    },
    {
     "data": {
      "text/plain": [
       "-0.2661815826681464"
      ]
     },
     "execution_count": 15,
     "metadata": {},
     "output_type": "execute_result"
    }
   ],
   "source": [
    "entropy_F1_trx(beta_sp=inv_softplus(33),\n",
    "               sigma_sp=inv_softplus(449),\n",
    "               mu_logit=logit(0.5),\n",
    "               muIncr_logit=logit(0.05),\n",
    "               epsilon_sp=inv_softplus(31.8))"
   ]
  },
  {
   "cell_type": "code",
   "execution_count": 48,
   "metadata": {},
   "outputs": [],
   "source": [
    "optimizer=None"
   ]
  },
  {
   "cell_type": "code",
   "execution_count": 49,
   "metadata": {
    "ExecuteTime": {
     "end_time": "2020-09-03T22:11:50.787503Z",
     "start_time": "2020-09-03T22:11:50.784060Z"
    }
   },
   "outputs": [],
   "source": [
    "pbounds = {'beta_sp': (inv_softplus(1), inv_softplus(700)), \n",
    "           'sigma_sp': (inv_softplus(1), inv_softplus(700)),\n",
    "           'mu_logit': (logit(0.5), logit(0.99)),\n",
    "           'muIncr_logit': (logit(0.01), logit(0.2)),\n",
    "           'epsilon_sp': (inv_softplus(1), inv_softplus(700))}#,\n",
    "           #'epsilonIterate_logit': (logit(0), logit(0.25))}"
   ]
  },
  {
   "cell_type": "code",
   "execution_count": 50,
   "metadata": {
    "ExecuteTime": {
     "end_time": "2020-09-03T22:11:56.728829Z",
     "start_time": "2020-09-03T22:11:56.725599Z"
    }
   },
   "outputs": [],
   "source": [
    "optimizer = BayesianOptimization(\n",
    "    f=entropy_F1_trx,\n",
    "    pbounds=pbounds,\n",
    "    random_state=1,\n",
    ")"
   ]
  },
  {
   "cell_type": "code",
   "execution_count": 51,
   "metadata": {},
   "outputs": [],
   "source": [
    "optimizer.probe(\n",
    "    params={\"beta_sp\": inv_softplus(14), \n",
    "            \"sigma_sp\": inv_softplus(24),\n",
    "            \"mu_logit\":logit(0.5),\n",
    "            #'epsilonIterate_logit': logit(0),\n",
    "            \"muIncr_logit\":logit(0.1),\n",
    "            \"epsilon_sp\":inv_softplus(3.0)},\n",
    "    lazy=True,\n",
    ")"
   ]
  },
  {
   "cell_type": "code",
   "execution_count": 52,
   "metadata": {
    "ExecuteTime": {
     "end_time": "2020-09-03T22:54:10.009085Z",
     "start_time": "2020-09-03T22:11:58.063246Z"
    }
   },
   "outputs": [
    {
     "name": "stdout",
     "output_type": "stream",
     "text": [
      "|   iter    |  target   |  beta_sp  | epsilo... | muIncr... | mu_logit  | sigma_sp  |\n",
      "-------------------------------------------------------------------------------------\n",
      "Mu:0.50|Mu+:0.10|Beta:14.00|Sigma:24.00|Epsilon:3.00|EpIter:0.00\n",
      "| \u001b[0m 1       \u001b[0m | \u001b[0m 2.229   \u001b[0m | \u001b[0m 14.0    \u001b[0m | \u001b[0m 2.949   \u001b[0m | \u001b[0m-2.197   \u001b[0m | \u001b[0m 0.0     \u001b[0m | \u001b[0m 24.0    \u001b[0m |\n",
      "Mu:0.80|Mu+:0.01|Beta:292.00|Sigma:103.00|Epsilon:504.38|EpIter:0.00\n",
      "| \u001b[0m 2       \u001b[0m | \u001b[0m 1.885   \u001b[0m | \u001b[0m 292.2   \u001b[0m | \u001b[0m 504.4   \u001b[0m | \u001b[0m-4.595   \u001b[0m | \u001b[0m 1.389   \u001b[0m | \u001b[0m 103.2   \u001b[0m |\n",
      "Mu:0.86|Mu+:0.03|Beta:65.00|Sigma:377.00|Epsilon:130.82|EpIter:0.00\n",
      "| \u001b[0m 3       \u001b[0m | \u001b[0m 1.671   \u001b[0m | \u001b[0m 65.13   \u001b[0m | \u001b[0m 130.8   \u001b[0m | \u001b[0m-3.486   \u001b[0m | \u001b[0m 1.823   \u001b[0m | \u001b[0m 377.4   \u001b[0m |\n",
      "Mu:0.98|Mu+:0.02|Beta:293.00|Sigma:19.00|Epsilon:479.82|EpIter:0.00\n",
      "| \u001b[0m 4       \u001b[0m | \u001b[0m 0.8445  \u001b[0m | \u001b[0m 293.8   \u001b[0m | \u001b[0m 479.8   \u001b[0m | \u001b[0m-3.939   \u001b[0m | \u001b[0m 4.035   \u001b[0m | \u001b[0m 19.7    \u001b[0m |\n",
      "Mu:0.66|Mu+:0.06|Beta:469.00|Sigma:139.00|Epsilon:292.43|EpIter:0.00\n",
      "| \u001b[0m 5       \u001b[0m | \u001b[0m-0.7744  \u001b[0m | \u001b[0m 469.5   \u001b[0m | \u001b[0m 292.4   \u001b[0m | \u001b[0m-2.802   \u001b[0m | \u001b[0m 0.6451  \u001b[0m | \u001b[0m 139.1   \u001b[0m |\n",
      "Mu:0.96|Mu+:0.03|Beta:560.00|Sigma:613.00|Epsilon:677.80|EpIter:0.00\n",
      "| \u001b[0m 6       \u001b[0m | \u001b[0m 1.294   \u001b[0m | \u001b[0m 560.6   \u001b[0m | \u001b[0m 677.8   \u001b[0m | \u001b[0m-3.589   \u001b[0m | \u001b[0m 3.181   \u001b[0m | \u001b[0m 613.5   \u001b[0m |\n",
      "Mu:0.69|Mu+:0.01|Beta:626.00|Sigma:614.00|Epsilon:60.03|EpIter:0.00\n",
      "| \u001b[0m 7       \u001b[0m | \u001b[0m-0.6395  \u001b[0m | \u001b[0m 626.3   \u001b[0m | \u001b[0m 60.03   \u001b[0m | \u001b[0m-4.47    \u001b[0m | \u001b[0m 0.7804  \u001b[0m | \u001b[0m 614.8   \u001b[0m |\n",
      "Mu:0.92|Mu+:0.18|Beta:69.00|Sigma:484.00|Epsilon:295.09|EpIter:0.00\n",
      "| \u001b[0m 8       \u001b[0m | \u001b[0m 1.403   \u001b[0m | \u001b[0m 69.33   \u001b[0m | \u001b[0m 295.1   \u001b[0m | \u001b[0m-1.521   \u001b[0m | \u001b[0m 2.45    \u001b[0m | \u001b[0m 484.5   \u001b[0m |\n",
      "Mu:0.52|Mu+:0.13|Beta:221.00|Sigma:525.00|Epsilon:480.72|EpIter:0.00\n",
      "| \u001b[0m 9       \u001b[0m | \u001b[0m-6.946   \u001b[0m | \u001b[0m 221.2   \u001b[0m | \u001b[0m 480.7   \u001b[0m | \u001b[0m-1.917   \u001b[0m | \u001b[0m 0.08404 \u001b[0m | \u001b[0m 525.2   \u001b[0m |\n",
      "Mu:0.97|Mu+:0.02|Beta:692.00|Sigma:72.00|Epsilon:523.85|EpIter:0.00\n",
      "| \u001b[0m 10      \u001b[0m | \u001b[0m 0.8737  \u001b[0m | \u001b[0m 692.2   \u001b[0m | \u001b[0m 523.9   \u001b[0m | \u001b[0m-3.695   \u001b[0m | \u001b[0m 3.627   \u001b[0m | \u001b[0m 72.74   \u001b[0m |\n",
      "Mu:0.79|Mu+:0.03|Beta:313.00|Sigma:91.00|Epsilon:636.07|EpIter:0.00\n",
      "| \u001b[0m 11      \u001b[0m | \u001b[0m 1.891   \u001b[0m | \u001b[0m 313.8   \u001b[0m | \u001b[0m 636.1   \u001b[0m | \u001b[0m-3.653   \u001b[0m | \u001b[0m 1.322   \u001b[0m | \u001b[0m 91.49   \u001b[0m |\n",
      "Mu:0.91|Mu+:0.16|Beta:59.00|Sigma:371.00|Epsilon:125.93|EpIter:0.00\n",
      "| \u001b[0m 12      \u001b[0m | \u001b[0m 1.411   \u001b[0m | \u001b[0m 59.12   \u001b[0m | \u001b[0m 125.9   \u001b[0m | \u001b[0m-1.628   \u001b[0m | \u001b[0m 2.293   \u001b[0m | \u001b[0m 371.4   \u001b[0m |\n",
      "Mu:0.87|Mu+:0.06|Beta:275.00|Sigma:109.00|Epsilon:575.85|EpIter:0.00\n",
      "| \u001b[0m 13      \u001b[0m | \u001b[0m 1.561   \u001b[0m | \u001b[0m 275.7   \u001b[0m | \u001b[0m 575.8   \u001b[0m | \u001b[0m-2.684   \u001b[0m | \u001b[0m 1.909   \u001b[0m | \u001b[0m 109.3   \u001b[0m |\n",
      "Mu:0.99|Mu+:0.03|Beta:326.00|Sigma:94.00|Epsilon:638.89|EpIter:0.00\n",
      "| \u001b[0m 14      \u001b[0m | \u001b[0m 0.6333  \u001b[0m | \u001b[0m 326.9   \u001b[0m | \u001b[0m 638.9   \u001b[0m | \u001b[0m-3.636   \u001b[0m | \u001b[0m 4.341   \u001b[0m | \u001b[0m 94.3    \u001b[0m |\n",
      "Mu:0.50|Mu+:0.03|Beta:297.00|Sigma:89.00|Epsilon:629.30|EpIter:0.00\n",
      "| \u001b[0m 15      \u001b[0m | \u001b[0m-7.057   \u001b[0m | \u001b[0m 297.8   \u001b[0m | \u001b[0m 629.3   \u001b[0m | \u001b[0m-3.609   \u001b[0m | \u001b[0m 0.0     \u001b[0m | \u001b[0m 89.68   \u001b[0m |\n",
      "Mu:0.95|Mu+:0.12|Beta:72.00|Sigma:485.00|Epsilon:289.38|EpIter:0.00\n",
      "| \u001b[0m 16      \u001b[0m | \u001b[0m 1.308   \u001b[0m | \u001b[0m 72.36   \u001b[0m | \u001b[0m 289.4   \u001b[0m | \u001b[0m-1.983   \u001b[0m | \u001b[0m 3.029   \u001b[0m | \u001b[0m 485.8   \u001b[0m |\n",
      "Mu:0.94|Mu+:0.12|Beta:295.00|Sigma:98.00|Epsilon:500.75|EpIter:0.00\n",
      "| \u001b[0m 17      \u001b[0m | \u001b[0m 1.322   \u001b[0m | \u001b[0m 295.6   \u001b[0m | \u001b[0m 500.8   \u001b[0m | \u001b[0m-1.992   \u001b[0m | \u001b[0m 2.72    \u001b[0m | \u001b[0m 98.62   \u001b[0m |\n",
      "Mu:0.98|Mu+:0.01|Beta:65.00|Sigma:378.00|Epsilon:119.38|EpIter:0.00\n",
      "| \u001b[0m 18      \u001b[0m | \u001b[0m 0.6687  \u001b[0m | \u001b[0m 65.13   \u001b[0m | \u001b[0m 119.4   \u001b[0m | \u001b[0m-4.536   \u001b[0m | \u001b[0m 4.169   \u001b[0m | \u001b[0m 378.1   \u001b[0m |\n",
      "Mu:0.87|Mu+:0.18|Beta:80.00|Sigma:485.00|Epsilon:306.01|EpIter:0.00\n",
      "| \u001b[0m 19      \u001b[0m | \u001b[0m 1.632   \u001b[0m | \u001b[0m 80.97   \u001b[0m | \u001b[0m 306.0   \u001b[0m | \u001b[0m-1.519   \u001b[0m | \u001b[0m 1.928   \u001b[0m | \u001b[0m 485.3   \u001b[0m |\n",
      "Mu:0.98|Mu+:0.11|Beta:18.00|Sigma:27.00|Epsilon:7.35|EpIter:0.00\n",
      "| \u001b[0m 20      \u001b[0m | \u001b[0m 0.8431  \u001b[0m | \u001b[0m 18.89   \u001b[0m | \u001b[0m 7.352   \u001b[0m | \u001b[0m-2.064   \u001b[0m | \u001b[0m 3.773   \u001b[0m | \u001b[0m 27.39   \u001b[0m |\n",
      "Mu:0.96|Mu+:0.02|Beta:58.00|Sigma:487.00|Epsilon:289.98|EpIter:0.00\n",
      "| \u001b[0m 21      \u001b[0m | \u001b[0m 1.273   \u001b[0m | \u001b[0m 58.87   \u001b[0m | \u001b[0m 290.0   \u001b[0m | \u001b[0m-4.094   \u001b[0m | \u001b[0m 3.257   \u001b[0m | \u001b[0m 487.8   \u001b[0m |\n",
      "Mu:0.91|Mu+:0.15|Beta:313.00|Sigma:97.00|Epsilon:631.24|EpIter:0.00\n",
      "| \u001b[0m 22      \u001b[0m | \u001b[0m 1.39    \u001b[0m | \u001b[0m 314.0   \u001b[0m | \u001b[0m 631.2   \u001b[0m | \u001b[0m-1.744   \u001b[0m | \u001b[0m 2.276   \u001b[0m | \u001b[0m 97.35   \u001b[0m |\n",
      "Mu:0.89|Mu+:0.05|Beta:318.00|Sigma:91.00|Epsilon:634.83|EpIter:0.00\n",
      "| \u001b[0m 23      \u001b[0m | \u001b[0m 1.448   \u001b[0m | \u001b[0m 318.8   \u001b[0m | \u001b[0m 634.8   \u001b[0m | \u001b[0m-2.929   \u001b[0m | \u001b[0m 2.109   \u001b[0m | \u001b[0m 91.22   \u001b[0m |\n",
      "Mu:0.75|Mu+:0.14|Beta:291.00|Sigma:111.00|Epsilon:496.14|EpIter:0.00\n",
      "| \u001b[0m 24      \u001b[0m | \u001b[0m 1.858   \u001b[0m | \u001b[0m 291.2   \u001b[0m | \u001b[0m 496.1   \u001b[0m | \u001b[0m-1.792   \u001b[0m | \u001b[0m 1.086   \u001b[0m | \u001b[0m 111.2   \u001b[0m |\n",
      "Mu:0.99|Mu+:0.16|Beta:68.00|Sigma:493.00|Epsilon:294.61|EpIter:0.00\n",
      "| \u001b[0m 25      \u001b[0m | \u001b[0m 0.5856  \u001b[0m | \u001b[0m 68.76   \u001b[0m | \u001b[0m 294.6   \u001b[0m | \u001b[0m-1.68    \u001b[0m | \u001b[0m 4.582   \u001b[0m | \u001b[0m 493.9   \u001b[0m |\n",
      "Mu:0.94|Mu+:0.06|Beta:9.00|Sigma:20.00|Epsilon:2.09|EpIter:0.00\n",
      "| \u001b[0m 26      \u001b[0m | \u001b[0m 1.326   \u001b[0m | \u001b[0m 9.972   \u001b[0m | \u001b[0m 1.961   \u001b[0m | \u001b[0m-2.712   \u001b[0m | \u001b[0m 2.823   \u001b[0m | \u001b[0m 20.33   \u001b[0m |\n",
      "Mu:0.97|Mu+:0.20|Beta:74.00|Sigma:371.00|Epsilon:135.28|EpIter:0.00\n",
      "| \u001b[0m 27      \u001b[0m | \u001b[0m 1.04    \u001b[0m | \u001b[0m 74.33   \u001b[0m | \u001b[0m 135.3   \u001b[0m | \u001b[0m-1.409   \u001b[0m | \u001b[0m 3.569   \u001b[0m | \u001b[0m 371.9   \u001b[0m |\n",
      "Mu:0.91|Mu+:0.02|Beta:278.00|Sigma:104.00|Epsilon:585.21|EpIter:0.00\n",
      "| \u001b[0m 28      \u001b[0m | \u001b[0m 1.388   \u001b[0m | \u001b[0m 278.5   \u001b[0m | \u001b[0m 585.2   \u001b[0m | \u001b[0m-3.94    \u001b[0m | \u001b[0m 2.315   \u001b[0m | \u001b[0m 104.6   \u001b[0m |\n",
      "Mu:0.97|Mu+:0.01|Beta:52.00|Sigma:365.00|Epsilon:125.56|EpIter:0.00\n",
      "| \u001b[0m 29      \u001b[0m | \u001b[0m 1.105   \u001b[0m | \u001b[0m 52.55   \u001b[0m | \u001b[0m 125.6   \u001b[0m | \u001b[0m-4.187   \u001b[0m | \u001b[0m 3.462   \u001b[0m | \u001b[0m 365.4   \u001b[0m |\n",
      "Mu:0.77|Mu+:0.02|Beta:282.00|Sigma:103.00|Epsilon:501.11|EpIter:0.00\n",
      "| \u001b[0m 30      \u001b[0m | \u001b[0m 1.933   \u001b[0m | \u001b[0m 282.5   \u001b[0m | \u001b[0m 501.1   \u001b[0m | \u001b[0m-3.863   \u001b[0m | \u001b[0m 1.195   \u001b[0m | \u001b[0m 103.2   \u001b[0m |\n",
      "Mu:0.96|Mu+:0.05|Beta:285.00|Sigma:119.00|Epsilon:503.20|EpIter:0.00\n",
      "| \u001b[0m 31      \u001b[0m | \u001b[0m 1.187   \u001b[0m | \u001b[0m 285.3   \u001b[0m | \u001b[0m 503.2   \u001b[0m | \u001b[0m-2.917   \u001b[0m | \u001b[0m 3.08    \u001b[0m | \u001b[0m 119.7   \u001b[0m |\n",
      "Mu:0.94|Mu+:0.02|Beta:272.00|Sigma:101.00|Epsilon:492.49|EpIter:0.00\n",
      "| \u001b[0m 32      \u001b[0m | \u001b[0m 1.325   \u001b[0m | \u001b[0m 272.9   \u001b[0m | \u001b[0m 492.5   \u001b[0m | \u001b[0m-3.935   \u001b[0m | \u001b[0m 2.737   \u001b[0m | \u001b[0m 101.4   \u001b[0m |\n",
      "Mu:0.82|Mu+:0.01|Beta:7.00|Sigma:34.00|Epsilon:8.98|EpIter:0.00\n",
      "| \u001b[0m 33      \u001b[0m | \u001b[0m 1.818   \u001b[0m | \u001b[0m 7.144   \u001b[0m | \u001b[0m 8.979   \u001b[0m | \u001b[0m-4.317   \u001b[0m | \u001b[0m 1.491   \u001b[0m | \u001b[0m 34.79   \u001b[0m |\n",
      "Mu:0.64|Mu+:0.01|Beta:284.00|Sigma:110.00|Epsilon:509.59|EpIter:0.00\n",
      "| \u001b[0m 34      \u001b[0m | \u001b[0m-1.923   \u001b[0m | \u001b[0m 284.2   \u001b[0m | \u001b[0m 509.6   \u001b[0m | \u001b[0m-4.579   \u001b[0m | \u001b[0m 0.5891  \u001b[0m | \u001b[0m 110.4   \u001b[0m |\n",
      "Mu:0.96|Mu+:0.03|Beta:290.00|Sigma:110.00|Epsilon:483.75|EpIter:0.00\n",
      "| \u001b[0m 35      \u001b[0m | \u001b[0m 1.193   \u001b[0m | \u001b[0m 290.3   \u001b[0m | \u001b[0m 483.7   \u001b[0m | \u001b[0m-3.561   \u001b[0m | \u001b[0m 3.108   \u001b[0m | \u001b[0m 110.4   \u001b[0m |\n",
      "Mu:0.95|Mu+:0.02|Beta:13.00|Sigma:40.00|Epsilon:12.02|EpIter:0.00\n",
      "| \u001b[0m 36      \u001b[0m | \u001b[0m 1.418   \u001b[0m | \u001b[0m 13.78   \u001b[0m | \u001b[0m 12.02   \u001b[0m | \u001b[0m-4.149   \u001b[0m | \u001b[0m 2.853   \u001b[0m | \u001b[0m 40.81   \u001b[0m |\n",
      "Mu:0.99|Mu+:0.19|Beta:280.00|Sigma:111.00|Epsilon:498.92|EpIter:0.00\n",
      "| \u001b[0m 37      \u001b[0m | \u001b[0m 0.6225  \u001b[0m | \u001b[0m 280.5   \u001b[0m | \u001b[0m 498.9   \u001b[0m | \u001b[0m-1.456   \u001b[0m | \u001b[0m 4.424   \u001b[0m | \u001b[0m 111.6   \u001b[0m |\n",
      "Mu:0.87|Mu+:0.03|Beta:6.00|Sigma:27.00|Epsilon:16.62|EpIter:0.00\n",
      "| \u001b[0m 38      \u001b[0m | \u001b[0m 1.71    \u001b[0m | \u001b[0m 6.057   \u001b[0m | \u001b[0m 16.62   \u001b[0m | \u001b[0m-3.549   \u001b[0m | \u001b[0m 1.937   \u001b[0m | \u001b[0m 27.81   \u001b[0m |\n",
      "Mu:0.98|Mu+:0.08|Beta:270.00|Sigma:110.00|Epsilon:571.28|EpIter:0.00\n"
     ]
    },
    {
     "name": "stdout",
     "output_type": "stream",
     "text": [
      "| \u001b[0m 39      \u001b[0m | \u001b[0m 0.8427  \u001b[0m | \u001b[0m 270.0   \u001b[0m | \u001b[0m 571.3   \u001b[0m | \u001b[0m-2.48    \u001b[0m | \u001b[0m 3.696   \u001b[0m | \u001b[0m 110.4   \u001b[0m |\n",
      "Mu:0.70|Mu+:0.03|Beta:282.00|Sigma:108.00|Epsilon:478.41|EpIter:0.00\n",
      "| \u001b[0m 40      \u001b[0m | \u001b[0m 0.9707  \u001b[0m | \u001b[0m 282.8   \u001b[0m | \u001b[0m 478.4   \u001b[0m | \u001b[0m-3.563   \u001b[0m | \u001b[0m 0.8478  \u001b[0m | \u001b[0m 108.2   \u001b[0m |\n",
      "Mu:0.62|Mu+:0.08|Beta:284.00|Sigma:96.00|Epsilon:574.98|EpIter:0.00\n",
      "| \u001b[0m 41      \u001b[0m | \u001b[0m-4.916   \u001b[0m | \u001b[0m 284.8   \u001b[0m | \u001b[0m 575.0   \u001b[0m | \u001b[0m-2.415   \u001b[0m | \u001b[0m 0.4691  \u001b[0m | \u001b[0m 96.84   \u001b[0m |\n",
      "Mu:0.95|Mu+:0.01|Beta:282.00|Sigma:104.00|Epsilon:489.00|EpIter:0.00\n",
      "| \u001b[0m 42      \u001b[0m | \u001b[0m 1.23    \u001b[0m | \u001b[0m 282.8   \u001b[0m | \u001b[0m 489.0   \u001b[0m | \u001b[0m-4.458   \u001b[0m | \u001b[0m 3.018   \u001b[0m | \u001b[0m 104.4   \u001b[0m |\n",
      "Mu:0.89|Mu+:0.01|Beta:13.00|Sigma:26.00|Epsilon:14.44|EpIter:0.00\n",
      "| \u001b[0m 43      \u001b[0m | \u001b[0m 1.771   \u001b[0m | \u001b[0m 13.7    \u001b[0m | \u001b[0m 14.44   \u001b[0m | \u001b[0m-4.494   \u001b[0m | \u001b[0m 2.06    \u001b[0m | \u001b[0m 26.3    \u001b[0m |\n",
      "Mu:0.97|Mu+:0.02|Beta:299.00|Sigma:108.00|Epsilon:500.34|EpIter:0.00\n",
      "| \u001b[0m 44      \u001b[0m | \u001b[0m 1.042   \u001b[0m | \u001b[0m 299.9   \u001b[0m | \u001b[0m 500.3   \u001b[0m | \u001b[0m-3.816   \u001b[0m | \u001b[0m 3.353   \u001b[0m | \u001b[0m 108.5   \u001b[0m |\n",
      "Mu:0.73|Mu+:0.02|Beta:264.00|Sigma:102.00|Epsilon:579.35|EpIter:0.00\n",
      "| \u001b[0m 45      \u001b[0m | \u001b[0m 1.505   \u001b[0m | \u001b[0m 264.3   \u001b[0m | \u001b[0m 579.4   \u001b[0m | \u001b[0m-4.096   \u001b[0m | \u001b[0m 0.9724  \u001b[0m | \u001b[0m 102.9   \u001b[0m |\n",
      "Mu:0.83|Mu+:0.01|Beta:60.00|Sigma:479.00|Epsilon:294.42|EpIter:0.00\n",
      "| \u001b[0m 46      \u001b[0m | \u001b[0m 1.833   \u001b[0m | \u001b[0m 60.09   \u001b[0m | \u001b[0m 294.4   \u001b[0m | \u001b[0m-4.424   \u001b[0m | \u001b[0m 1.568   \u001b[0m | \u001b[0m 479.8   \u001b[0m |\n",
      "Mu:0.54|Mu+:0.03|Beta:298.00|Sigma:112.00|Epsilon:494.02|EpIter:0.00\n",
      "| \u001b[0m 47      \u001b[0m | \u001b[0m-6.721   \u001b[0m | \u001b[0m 298.1   \u001b[0m | \u001b[0m 494.0   \u001b[0m | \u001b[0m-3.501   \u001b[0m | \u001b[0m 0.1774  \u001b[0m | \u001b[0m 112.8   \u001b[0m |\n",
      "Mu:0.84|Mu+:0.03|Beta:67.00|Sigma:377.00|Epsilon:130.71|EpIter:0.00\n",
      "| \u001b[0m 48      \u001b[0m | \u001b[0m 1.742   \u001b[0m | \u001b[0m 67.04   \u001b[0m | \u001b[0m 130.7   \u001b[0m | \u001b[0m-3.552   \u001b[0m | \u001b[0m 1.691   \u001b[0m | \u001b[0m 377.6   \u001b[0m |\n",
      "Mu:0.92|Mu+:0.02|Beta:16.00|Sigma:24.00|Epsilon:11.79|EpIter:0.00\n",
      "| \u001b[0m 49      \u001b[0m | \u001b[0m 1.622   \u001b[0m | \u001b[0m 16.51   \u001b[0m | \u001b[0m 11.79   \u001b[0m | \u001b[0m-3.667   \u001b[0m | \u001b[0m 2.473   \u001b[0m | \u001b[0m 24.81   \u001b[0m |\n",
      "Mu:0.97|Mu+:0.09|Beta:298.00|Sigma:100.00|Epsilon:500.56|EpIter:0.00\n",
      "| \u001b[0m 50      \u001b[0m | \u001b[0m 1.042   \u001b[0m | \u001b[0m 298.5   \u001b[0m | \u001b[0m 500.6   \u001b[0m | \u001b[0m-2.274   \u001b[0m | \u001b[0m 3.364   \u001b[0m | \u001b[0m 100.8   \u001b[0m |\n",
      "Mu:0.68|Mu+:0.03|Beta:60.00|Sigma:489.00|Epsilon:288.22|EpIter:0.00\n",
      "| \u001b[0m 51      \u001b[0m | \u001b[0m 1.105   \u001b[0m | \u001b[0m 60.45   \u001b[0m | \u001b[0m 288.2   \u001b[0m | \u001b[0m-3.574   \u001b[0m | \u001b[0m 0.7451  \u001b[0m | \u001b[0m 489.9   \u001b[0m |\n",
      "Mu:0.70|Mu+:0.10|Beta:275.00|Sigma:98.00|Epsilon:491.15|EpIter:0.00\n",
      "| \u001b[0m 52      \u001b[0m | \u001b[0m 0.9446  \u001b[0m | \u001b[0m 275.8   \u001b[0m | \u001b[0m 491.1   \u001b[0m | \u001b[0m-2.209   \u001b[0m | \u001b[0m 0.8605  \u001b[0m | \u001b[0m 98.93   \u001b[0m |\n",
      "Mu:0.71|Mu+:0.01|Beta:311.00|Sigma:87.00|Epsilon:644.24|EpIter:0.00\n",
      "| \u001b[0m 53      \u001b[0m | \u001b[0m 1.184   \u001b[0m | \u001b[0m 311.8   \u001b[0m | \u001b[0m 644.2   \u001b[0m | \u001b[0m-4.465   \u001b[0m | \u001b[0m 0.913   \u001b[0m | \u001b[0m 87.52   \u001b[0m |\n",
      "Mu:0.89|Mu+:0.04|Beta:8.00|Sigma:29.00|Epsilon:9.06|EpIter:0.00\n",
      "| \u001b[0m 54      \u001b[0m | \u001b[0m 1.749   \u001b[0m | \u001b[0m 8.847   \u001b[0m | \u001b[0m 9.061   \u001b[0m | \u001b[0m-3.19    \u001b[0m | \u001b[0m 2.043   \u001b[0m | \u001b[0m 29.52   \u001b[0m |\n",
      "Mu:0.83|Mu+:0.01|Beta:13.00|Sigma:52.00|Epsilon:12.02|EpIter:0.00\n",
      "| \u001b[0m 55      \u001b[0m | \u001b[0m 1.823   \u001b[0m | \u001b[0m 13.41   \u001b[0m | \u001b[0m 12.02   \u001b[0m | \u001b[0m-4.569   \u001b[0m | \u001b[0m 1.617   \u001b[0m | \u001b[0m 52.74   \u001b[0m |\n",
      "Mu:0.91|Mu+:0.15|Beta:10.00|Sigma:27.00|Epsilon:19.52|EpIter:0.00\n",
      "| \u001b[0m 56      \u001b[0m | \u001b[0m 1.661   \u001b[0m | \u001b[0m 10.15   \u001b[0m | \u001b[0m 19.52   \u001b[0m | \u001b[0m-1.756   \u001b[0m | \u001b[0m 2.257   \u001b[0m | \u001b[0m 27.2    \u001b[0m |\n",
      "Mu:0.93|Mu+:0.04|Beta:13.00|Sigma:52.00|Epsilon:4.51|EpIter:0.00\n",
      "| \u001b[0m 57      \u001b[0m | \u001b[0m 1.488   \u001b[0m | \u001b[0m 13.77   \u001b[0m | \u001b[0m 4.497   \u001b[0m | \u001b[0m-3.187   \u001b[0m | \u001b[0m 2.57    \u001b[0m | \u001b[0m 52.98   \u001b[0m |\n",
      "Mu:0.89|Mu+:0.02|Beta:274.00|Sigma:107.00|Epsilon:486.77|EpIter:0.00\n",
      "| \u001b[0m 58      \u001b[0m | \u001b[0m 1.451   \u001b[0m | \u001b[0m 274.2   \u001b[0m | \u001b[0m 486.8   \u001b[0m | \u001b[0m-3.89    \u001b[0m | \u001b[0m 2.102   \u001b[0m | \u001b[0m 107.3   \u001b[0m |\n",
      "Mu:0.98|Mu+:0.02|Beta:81.00|Sigma:476.00|Epsilon:303.30|EpIter:0.00\n",
      "| \u001b[0m 59      \u001b[0m | \u001b[0m 0.9484  \u001b[0m | \u001b[0m 81.14   \u001b[0m | \u001b[0m 303.3   \u001b[0m | \u001b[0m-3.801   \u001b[0m | \u001b[0m 3.785   \u001b[0m | \u001b[0m 476.8   \u001b[0m |\n",
      "Mu:0.92|Mu+:0.08|Beta:10.00|Sigma:24.00|Epsilon:6.30|EpIter:0.00\n",
      "| \u001b[0m 60      \u001b[0m | \u001b[0m 1.638   \u001b[0m | \u001b[0m 10.01   \u001b[0m | \u001b[0m 6.298   \u001b[0m | \u001b[0m-2.443   \u001b[0m | \u001b[0m 2.41    \u001b[0m | \u001b[0m 24.81   \u001b[0m |\n",
      "Mu:0.90|Mu+:0.01|Beta:268.00|Sigma:115.00|Epsilon:489.06|EpIter:0.00\n",
      "| \u001b[0m 61      \u001b[0m | \u001b[0m 1.387   \u001b[0m | \u001b[0m 268.1   \u001b[0m | \u001b[0m 489.1   \u001b[0m | \u001b[0m-4.214   \u001b[0m | \u001b[0m 2.229   \u001b[0m | \u001b[0m 115.7   \u001b[0m |\n",
      "=====================================================================================\n"
     ]
    }
   ],
   "source": [
    "optimizer.maximize(\n",
    "    init_points=10,\n",
    "    n_iter=50,\n",
    ")"
   ]
  },
  {
   "cell_type": "code",
   "execution_count": 53,
   "metadata": {},
   "outputs": [
    {
     "data": {
      "text/plain": [
       "{'target': 2.2287101631971957,\n",
       " 'params': {'beta_sp': 13.999999168470936,\n",
       "  'epsilon_sp': 2.9489308190572983,\n",
       "  'muIncr_logit': -2.197224577336219,\n",
       "  'mu_logit': 0.0,\n",
       "  'sigma_sp': 23.99999999996225}}"
      ]
     },
     "execution_count": 53,
     "metadata": {},
     "output_type": "execute_result"
    }
   ],
   "source": [
    "optimizer.max"
   ]
  },
  {
   "cell_type": "code",
   "execution_count": 54,
   "metadata": {
    "ExecuteTime": {
     "end_time": "2020-09-03T22:58:42.653746Z",
     "start_time": "2020-09-03T22:58:42.649916Z"
    }
   },
   "outputs": [
    {
     "data": {
      "text/plain": [
       "0.90279823"
      ]
     },
     "execution_count": 54,
     "metadata": {},
     "output_type": "execute_result"
    }
   ],
   "source": [
    "inv_logit(optimizer.max[\"target\"])"
   ]
  },
  {
   "cell_type": "code",
   "execution_count": 55,
   "metadata": {
    "ExecuteTime": {
     "end_time": "2020-09-03T22:59:56.414823Z",
     "start_time": "2020-09-03T22:59:56.412477Z"
    }
   },
   "outputs": [],
   "source": [
    "params=optimizer.max[\"params\"]"
   ]
  },
  {
   "cell_type": "code",
   "execution_count": 56,
   "metadata": {
    "ExecuteTime": {
     "end_time": "2020-09-03T23:00:39.452694Z",
     "start_time": "2020-09-03T23:00:39.449279Z"
    }
   },
   "outputs": [
    {
     "data": {
      "text/plain": [
       "14.0"
      ]
     },
     "execution_count": 56,
     "metadata": {},
     "output_type": "execute_result"
    }
   ],
   "source": [
    "softplus(params[\"beta_sp\"])"
   ]
  },
  {
   "cell_type": "code",
   "execution_count": 57,
   "metadata": {
    "ExecuteTime": {
     "end_time": "2020-09-03T23:01:09.671719Z",
     "start_time": "2020-09-03T23:01:09.668333Z"
    }
   },
   "outputs": [
    {
     "data": {
      "text/plain": [
       "24.0"
      ]
     },
     "execution_count": 57,
     "metadata": {},
     "output_type": "execute_result"
    }
   ],
   "source": [
    "softplus(params[\"sigma_sp\"])"
   ]
  },
  {
   "cell_type": "code",
   "execution_count": 58,
   "metadata": {
    "ExecuteTime": {
     "end_time": "2020-09-04T01:35:00.233453Z",
     "start_time": "2020-09-04T01:35:00.230360Z"
    }
   },
   "outputs": [
    {
     "data": {
      "text/plain": [
       "0.5"
      ]
     },
     "execution_count": 58,
     "metadata": {},
     "output_type": "execute_result"
    }
   ],
   "source": [
    "inv_logit(params[\"mu_logit\"])"
   ]
  },
  {
   "cell_type": "code",
   "execution_count": 59,
   "metadata": {
    "ExecuteTime": {
     "end_time": "2020-09-04T01:35:28.881809Z",
     "start_time": "2020-09-04T01:35:28.878641Z"
    }
   },
   "outputs": [
    {
     "data": {
      "text/plain": [
       "0.10000000000000003"
      ]
     },
     "execution_count": 59,
     "metadata": {},
     "output_type": "execute_result"
    }
   ],
   "source": [
    "inv_logit(params[\"muIncr_logit\"])"
   ]
  },
  {
   "cell_type": "code",
   "execution_count": 60,
   "metadata": {
    "ExecuteTime": {
     "end_time": "2020-09-04T01:36:46.943597Z",
     "start_time": "2020-09-04T01:36:46.940247Z"
    }
   },
   "outputs": [
    {
     "ename": "KeyError",
     "evalue": "'epsilonIterate_logit'",
     "output_type": "error",
     "traceback": [
      "\u001b[0;31m---------------------------------------------------------------------------\u001b[0m",
      "\u001b[0;31mKeyError\u001b[0m                                  Traceback (most recent call last)",
      "\u001b[0;32m<ipython-input-60-628145548ab6>\u001b[0m in \u001b[0;36m<module>\u001b[0;34m\u001b[0m\n\u001b[0;32m----> 1\u001b[0;31m \u001b[0minv_logit\u001b[0m\u001b[0;34m(\u001b[0m\u001b[0mparams\u001b[0m\u001b[0;34m[\u001b[0m\u001b[0;34m\"epsilonIterate_logit\"\u001b[0m\u001b[0;34m]\u001b[0m\u001b[0;34m)\u001b[0m\u001b[0;34m\u001b[0m\u001b[0;34m\u001b[0m\u001b[0m\n\u001b[0m",
      "\u001b[0;31mKeyError\u001b[0m: 'epsilonIterate_logit'"
     ]
    }
   ],
   "source": [
    "inv_logit(params[\"epsilonIterate_logit\"])"
   ]
  },
  {
   "cell_type": "code",
   "execution_count": 61,
   "metadata": {
    "ExecuteTime": {
     "end_time": "2020-09-04T01:36:13.729976Z",
     "start_time": "2020-09-04T01:36:13.726798Z"
    }
   },
   "outputs": [
    {
     "data": {
      "text/plain": [
       "3.0"
      ]
     },
     "execution_count": 61,
     "metadata": {},
     "output_type": "execute_result"
    }
   ],
   "source": [
    "softplus(params[\"epsilon_sp\"])"
   ]
  },
  {
   "cell_type": "code",
   "execution_count": 62,
   "metadata": {},
   "outputs": [
    {
     "name": "stdout",
     "output_type": "stream",
     "text": [
      "\n",
      ">>>>>>>>>>>>\n",
      "Starting Iteration mu= 0.5\n",
      "Starting Iteration epsilon= 3.0\n",
      "Running NewMatrix Jar!\n",
      " Single-Reference Blocks = 1\n",
      "\n",
      " Multi-Reference Blocks = 3482\n",
      "NewMatrix Iterateblocks Total Time = 1.592468279413879\n",
      "\n",
      "\n",
      ">>>>>>>>>>>>\n",
      "Starting Iteration mu= 0.6\n",
      "Starting Iteration epsilon= 3.0\n",
      "Running NewMatrix Jar!\n",
      " Single-Reference Blocks = 1\n",
      "\n",
      " Multi-Reference Blocks = 2843\n",
      "NewMatrix Iterateblocks Total Time = 1.4765032278373837\n",
      "\n",
      "\n",
      ">>>>>>>>>>>>\n",
      "Starting Iteration mu= 0.7\n",
      "Starting Iteration epsilon= 3.0\n",
      "Running NewMatrix Jar!\n",
      " Single-Reference Blocks = 1\n",
      "\n",
      " Multi-Reference Blocks = 1930\n",
      "NewMatrix Iterateblocks Total Time = 1.2834587404504418\n",
      "\n",
      "\n",
      ">>>>>>>>>>>>\n",
      "Starting Iteration mu= 0.7999999999999999\n",
      "Starting Iteration epsilon= 3.0\n",
      "Running NewMatrix Jar!\n",
      " Single-Reference Blocks = 1\n",
      "\n",
      " Multi-Reference Blocks = 870\n",
      "NewMatrix Iterateblocks Total Time = 0.7057199785485864\n",
      "\n",
      "\n",
      ">>>>>>>>>>>>\n",
      "Starting Iteration mu= 0.8999999999999999\n",
      "Starting Iteration epsilon= 3.0\n",
      "Running NewMatrix Jar!\n",
      " Single-Reference Blocks = 1\n",
      "\n",
      " Multi-Reference Blocks = 276\n",
      "NewMatrix Iterateblocks Total Time = 0.37798583786934614\n",
      "\n",
      "\n",
      ">>>>>>>>>>>>\n",
      "Starting Iteration mu= 0.9999999999999999\n",
      "Starting Iteration epsilon= 3.0\n",
      "Running NewMatrix Jar!\n",
      " Single-Reference Blocks = 1\n",
      "\n",
      " Multi-Reference Blocks = 47\n",
      "NewMatrix Iterateblocks Total Time = 0.20842438656836748\n",
      "\n",
      "Precision = TP / (TP + FP) ......................... = 0.98247012\n",
      "Recall = TP / (TP + FN) ............................ = 0.83991826\n",
      "F-Measure .......................................... = 0.90561880\n"
     ]
    },
    {
     "data": {
      "text/plain": [
       "0.9056188"
      ]
     },
     "execution_count": 62,
     "metadata": {},
     "output_type": "execute_result"
    }
   ],
   "source": [
    "entropy_F1(mu=0.5,\n",
    "           muIncr=0.1,\n",
    "           beta=14,\n",
    "           sigma=24,\n",
    "           epsilon=3.0,\n",
    "           epsilonIterate=0)"
   ]
  }
 ],
 "metadata": {
  "kernelspec": {
   "display_name": "Python 3",
   "language": "python",
   "name": "python3"
  },
  "language_info": {
   "codemirror_mode": {
    "name": "ipython",
    "version": 3
   },
   "file_extension": ".py",
   "mimetype": "text/x-python",
   "name": "python",
   "nbconvert_exporter": "python",
   "pygments_lexer": "ipython3",
   "version": "3.7.4"
  },
  "toc": {
   "base_numbering": 1,
   "nav_menu": {},
   "number_sections": true,
   "sideBar": true,
   "skip_h1_title": false,
   "title_cell": "Table of Contents",
   "title_sidebar": "Contents",
   "toc_cell": false,
   "toc_position": {},
   "toc_section_display": true,
   "toc_window_display": false
  },
  "varInspector": {
   "cols": {
    "lenName": 16,
    "lenType": 16,
    "lenVar": 40
   },
   "kernels_config": {
    "python": {
     "delete_cmd_postfix": "",
     "delete_cmd_prefix": "del ",
     "library": "var_list.py",
     "varRefreshCmd": "print(var_dic_list())"
    },
    "r": {
     "delete_cmd_postfix": ") ",
     "delete_cmd_prefix": "rm(",
     "library": "var_list.r",
     "varRefreshCmd": "cat(var_dic_list()) "
    }
   },
   "types_to_exclude": [
    "module",
    "function",
    "builtin_function_or_method",
    "instance",
    "_Feature"
   ],
   "window_display": false
  }
 },
 "nbformat": 4,
 "nbformat_minor": 2
}
