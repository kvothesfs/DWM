{
 "cells": [
  {
   "cell_type": "code",
   "execution_count": 1,
   "metadata": {
    "ExecuteTime": {
     "end_time": "2020-09-03T21:59:20.041891Z",
     "start_time": "2020-09-03T21:59:10.621897Z"
    }
   },
   "outputs": [
    {
     "name": "stdout",
     "output_type": "stream",
     "text": [
      "Tokenizing References\n",
      "Total References= 1912\n",
      "Total Tokens Found = 24340\n",
      "Total Tokens Output = 24287\n",
      "Dictionary Load = 67077\n",
      "<class 'dict'>\n",
      "Global Replace Cycle\n",
      "Total References= 1912\n",
      "Total Tokens= 24287\n",
      "Unique Tokens= 5182\n",
      "Minimum Frequency of Standard Token =  5\n",
      "Minimum Length of Standard Token =  5\n",
      "Maximum Frequency of Error Token =  3\n",
      "References Processed= 1912\n",
      "Sorted Token Size = 5182\n",
      "Clean Token Size = 2074\n",
      "*Stop Replacements here\n",
      "References Processed =  1912\n",
      "Total Replacement Pairs = 84\n",
      "Tokens Read = 24287\n",
      "Tokens Changed =  124\n",
      "References Changed = 119\n"
     ]
    }
   ],
   "source": [
    "import DWM1_Tokenizer\n",
    "import DWM2_Global_Token_Replace_NewDict\n",
    "import DWM3_Entropy_Cluster\n",
    "# Settings for Tokenizer\n",
    "inputSampleName = r'S4'\n",
    "delimiter=','\n",
    "hasHeader = True\n",
    "tokenizerType = 'Splitter'\n",
    "removeDuplicateTokens = True\n",
    "\n",
    "# Setting for global replacement DWM2\n",
    "runReplacement = True\n",
    "minFreqStdToken = 5\n",
    "minLenStdToken = 5 #From 3 to 5 as in paper\n",
    "maxFreqErrToken = 3\n",
    "\n",
    "# Cluster Settings\n",
    "\n",
    "\n",
    "DWM1_Tokenizer.tokenizeCycle(inputSampleName, delimiter, hasHeader, removeDuplicateTokens, tokenizerType)\n",
    "prefixString = inputSampleName +','+tokenizerType+','+str(removeDuplicateTokens)\n",
    "fileToCluster = inputSampleName + '-Tokenized.txt'\n",
    "if runReplacement:\n",
    "    DWM2_Global_Token_Replace_NewDict.globalReplace(inputSampleName, minFreqStdToken, minLenStdToken, maxFreqErrToken)\n",
    "    fileToCluster = inputSampleName + '-TokenReplace.txt'\n",
    "    prefixString = prefixString+','+str(minFreqStdToken)+','+str(minLenStdToken)+','+str(maxFreqErrToken)\n",
    "else:\n",
    "    prefixString = prefixString+',0,0,0'\n",
    "\n",
    "# Cluster fixed settings\n",
    "epsilonIterate = 0.0\n",
    "runClusterMetrics = False\n",
    "runFinalMetrics = True\n",
    "createFinalJoin = False"
   ]
  },
  {
   "cell_type": "code",
   "execution_count": 2,
   "metadata": {},
   "outputs": [],
   "source": [
    "status=\"done\""
   ]
  },
  {
   "cell_type": "code",
   "execution_count": 3,
   "metadata": {},
   "outputs": [
    {
     "name": "stdout",
     "output_type": "stream",
     "text": [
      "done\n"
     ]
    }
   ],
   "source": [
    "print(status)"
   ]
  },
  {
   "cell_type": "code",
   "execution_count": 4,
   "metadata": {
    "ExecuteTime": {
     "end_time": "2020-09-03T15:11:39.765508Z",
     "start_time": "2020-09-03T15:03:19.495876Z"
    },
    "scrolled": false
   },
   "outputs": [],
   "source": [
    "# # Cluster Robot Settings\n",
    "# muStart = 0.60\n",
    "# muEnd = 0.60\n",
    "# muIncr = 0.05\n",
    "# betaStart = 14\n",
    "# betaEnd = 14\n",
    "# betaIncr = 1\n",
    "# sigmaStart = 145\n",
    "# sigmaEnd = 145\n",
    "# sigmaIncr = 1\n",
    "# epsilonStart = 35\n",
    "# epsilonEnd = 35\n",
    "# epsilonIncr = 1\n",
    "# mu = muStart\n",
    "# while mu <= muEnd:\n",
    "#     beta = betaStart\n",
    "#     while beta <= betaEnd:\n",
    "#         sigma = sigmaStart\n",
    "#         while sigma <= sigmaEnd:\n",
    "#             epsilon = epsilonStart\n",
    "#             while epsilon <= epsilonEnd:\n",
    "#                 suffixString =','+str(epsilon)+','+str(epsilonIterate)\n",
    "#                 resultsList = DWM3_Entropy_Cluster.driver(fileToCluster, beta, sigma, mu, muIncr,epsilon,  \\\n",
    "#                                                      epsilonIterate,runClusterMetrics, runFinalMetrics, createFinalJoin, hasHeader)\n",
    "#                 seg0a = ','+str(resultsList[0])+','+str(resultsList[1])+','+str(resultsList[2])+','+str(resultsList[3])\n",
    "#                 seg0b =','+str(resultsList[4])+','+str(resultsList[5])+','+str(resultsList[6])\n",
    "#                 seg1 = ','+str(beta)+','+str(sigma)+','+str(mu)+ ',' +str(muIncr)\n",
    "#                 seg2 = ','+str(resultsList[7])+','+str(resultsList[8])+','+str(resultsList[9])\n",
    "#                 outString = prefixString+seg0a+seg0b+suffixString+seg1+seg2+'\\n'\n",
    "#                 resultsFile = open('RobotResults.txt','a+')\n",
    "#                 resultsFile.write(outString)\n",
    "#                 resultsFile.close()\n",
    "#                 epsilon = epsilon + epsilonIncr\n",
    "#             sigma = sigma + sigmaIncr\n",
    "#         beta = beta + betaIncr\n",
    "#     mu = mu + muIncr\n",
    "\n",
    "\n",
    " "
   ]
  },
  {
   "cell_type": "markdown",
   "metadata": {
    "ExecuteTime": {
     "end_time": "2020-09-03T16:36:26.229783Z",
     "start_time": "2020-09-03T16:36:26.227755Z"
    }
   },
   "source": [
    "## Bayesian Optimization of Hyperparameters"
   ]
  },
  {
   "cell_type": "code",
   "execution_count": 5,
   "metadata": {},
   "outputs": [],
   "source": [
    "import numpy as np"
   ]
  },
  {
   "cell_type": "markdown",
   "metadata": {
    "ExecuteTime": {
     "end_time": "2020-09-03T16:36:47.947518Z",
     "start_time": "2020-09-03T16:36:47.944251Z"
    }
   },
   "source": [
    "Create a function of the parameters that returns the F score"
   ]
  },
  {
   "cell_type": "code",
   "execution_count": 6,
   "metadata": {
    "ExecuteTime": {
     "end_time": "2020-09-03T21:59:42.561300Z",
     "start_time": "2020-09-03T21:59:42.557193Z"
    }
   },
   "outputs": [],
   "source": [
    "def entropy_F1(beta=14,sigma=145,mu=0.6,muIncr=0.05,epsilon=35,epsilonIterate=0):\n",
    "    resultsList = DWM3_Entropy_Cluster.driver(fileToCluster, \n",
    "                                  beta, \n",
    "                                  sigma, \n",
    "                                  mu, \n",
    "                                  muIncr,\n",
    "                                  epsilon,\n",
    "                                  epsilonIterate,\n",
    "                                  runClusterMetrics, \n",
    "                                  runFinalMetrics, \n",
    "                                  createFinalJoin, \n",
    "                                  hasHeader)\n",
    "    return resultsList[9]"
   ]
  },
  {
   "cell_type": "code",
   "execution_count": 7,
   "metadata": {
    "ExecuteTime": {
     "end_time": "2020-09-03T22:06:32.164588Z",
     "start_time": "2020-09-03T21:59:43.696518Z"
    }
   },
   "outputs": [
    {
     "name": "stdout",
     "output_type": "stream",
     "text": [
      "\n",
      ">>>>>>>>>>>>\n",
      "Starting Iteration mu= 0.5\n",
      "Starting Iteration epsilon= 3.1\n",
      "Running NewMatrix Jar!\n",
      " Single-Reference Blocks = 1\n",
      "\n",
      " Multi-Reference Blocks = 2540\n",
      "NewMatrix Iterateblocks Total Time = 1.2841967353597283\n",
      "\n",
      "\n",
      ">>>>>>>>>>>>\n",
      "Starting Iteration mu= 0.6\n",
      "Starting Iteration epsilon= 3.1\n",
      "Running NewMatrix Jar!\n",
      " Single-Reference Blocks = 1\n",
      "\n",
      " Multi-Reference Blocks = 2036\n",
      "NewMatrix Iterateblocks Total Time = 1.2220444260165095\n",
      "\n",
      "\n",
      ">>>>>>>>>>>>\n",
      "Starting Iteration mu= 0.7\n",
      "Starting Iteration epsilon= 3.1\n",
      "Running NewMatrix Jar!\n",
      " Single-Reference Blocks = 1\n",
      "\n",
      " Multi-Reference Blocks = 1269\n",
      "NewMatrix Iterateblocks Total Time = 1.006474869325757\n",
      "\n",
      "\n",
      ">>>>>>>>>>>>\n",
      "Starting Iteration mu= 0.7999999999999999\n",
      "Starting Iteration epsilon= 3.1\n",
      "Running NewMatrix Jar!\n",
      " Single-Reference Blocks = 1\n",
      "\n",
      " Multi-Reference Blocks = 550\n",
      "NewMatrix Iterateblocks Total Time = 0.5491659669205546\n",
      "\n",
      "\n",
      ">>>>>>>>>>>>\n",
      "Starting Iteration mu= 0.8999999999999999\n",
      "Starting Iteration epsilon= 3.1\n",
      "Running NewMatrix Jar!\n",
      " Single-Reference Blocks = 1\n",
      "\n",
      " Multi-Reference Blocks = 169\n",
      "NewMatrix Iterateblocks Total Time = 0.2783295810222626\n",
      "\n",
      "\n",
      ">>>>>>>>>>>>\n",
      "Starting Iteration mu= 0.9999999999999999\n",
      "Starting Iteration epsilon= 3.1\n",
      "Running NewMatrix Jar!\n",
      " Single-Reference Blocks = 1\n",
      "\n",
      " Multi-Reference Blocks = 42\n",
      "NewMatrix Iterateblocks Total Time = 0.20056233927607536\n",
      "\n",
      "Precision = TP / (TP + FP) ......................... = 0.99177438\n",
      "Recall = TP / (TP + FN) ............................ = 0.85252525\n",
      "F-Measure .......................................... = 0.91689299\n"
     ]
    },
    {
     "data": {
      "text/plain": [
       "0.91689299"
      ]
     },
     "execution_count": 7,
     "metadata": {},
     "output_type": "execute_result"
    }
   ],
   "source": [
    "entropy_F1(mu=0.5,muIncr=0.1,beta=12,sigma=22,epsilon=3.1,epsilonIterate=0)"
   ]
  },
  {
   "cell_type": "markdown",
   "metadata": {},
   "source": [
    "Create functions for variable transformation."
   ]
  },
  {
   "cell_type": "code",
   "execution_count": 8,
   "metadata": {
    "ExecuteTime": {
     "end_time": "2020-09-03T22:08:18.856511Z",
     "start_time": "2020-09-03T22:08:18.853611Z"
    }
   },
   "outputs": [],
   "source": [
    "#Softplus to transform real domain into positive\n",
    "def softplus(x):\n",
    "    return np.log(1+np.exp(x))\n",
    "\n",
    "def inv_softplus(x):\n",
    "    return np.log(np.exp(x)-1)"
   ]
  },
  {
   "cell_type": "code",
   "execution_count": 9,
   "metadata": {
    "ExecuteTime": {
     "end_time": "2020-09-03T22:08:27.349548Z",
     "start_time": "2020-09-03T22:08:27.345752Z"
    }
   },
   "outputs": [
    {
     "data": {
      "text/plain": [
       "0.541324854612918"
      ]
     },
     "execution_count": 9,
     "metadata": {},
     "output_type": "execute_result"
    }
   ],
   "source": [
    "inv_softplus(1)"
   ]
  },
  {
   "cell_type": "code",
   "execution_count": 10,
   "metadata": {
    "ExecuteTime": {
     "end_time": "2020-09-03T22:11:24.939913Z",
     "start_time": "2020-09-03T22:11:24.936639Z"
    }
   },
   "outputs": [],
   "source": [
    "#Logit to transform real domain into 0-1\n",
    "def logit(x):    \n",
    "    return np.log(x+1e-54)-np.log(1-x+1e-54)\n",
    "\n",
    "def inv_logit(x):\n",
    "    res=np.exp(x)/(np.exp(x)+1)-2*1e-54\n",
    "    if res<1e-54:\n",
    "        res=0\n",
    "    return res"
   ]
  },
  {
   "cell_type": "markdown",
   "metadata": {},
   "source": [
    "Import BO library:"
   ]
  },
  {
   "cell_type": "code",
   "execution_count": 11,
   "metadata": {
    "ExecuteTime": {
     "end_time": "2020-09-03T22:08:30.622144Z",
     "start_time": "2020-09-03T22:08:30.226842Z"
    }
   },
   "outputs": [],
   "source": [
    "from bayes_opt import BayesianOptimization"
   ]
  },
  {
   "cell_type": "markdown",
   "metadata": {
    "ExecuteTime": {
     "end_time": "2020-09-03T18:14:39.927785Z",
     "start_time": "2020-09-03T18:14:39.924909Z"
    }
   },
   "source": [
    "Create dictionary bounds for the parameters:"
   ]
  },
  {
   "cell_type": "code",
   "execution_count": 12,
   "metadata": {},
   "outputs": [],
   "source": [
    "import os, sys"
   ]
  },
  {
   "cell_type": "code",
   "execution_count": 14,
   "metadata": {},
   "outputs": [],
   "source": [
    "class HiddenPrints:\n",
    "    def __enter__(self):\n",
    "        self._original_stdout = sys.stdout\n",
    "        sys.stdout = open(os.devnull, 'w')\n",
    "\n",
    "    def __exit__(self, exc_type, exc_val, exc_tb):\n",
    "        sys.stdout.close()\n",
    "        sys.stdout = self._original_stdout"
   ]
  },
  {
   "cell_type": "code",
   "execution_count": 15,
   "metadata": {},
   "outputs": [
    {
     "name": "stdout",
     "output_type": "stream",
     "text": [
      "This will be printed as before\n"
     ]
    }
   ],
   "source": [
    "with HiddenPrints():\n",
    "    print(\"This will not be printed\")\n",
    "\n",
    "print(\"This will be printed as before\")"
   ]
  },
  {
   "cell_type": "code",
   "execution_count": 16,
   "metadata": {
    "ExecuteTime": {
     "end_time": "2020-09-03T22:11:53.005154Z",
     "start_time": "2020-09-03T22:11:53.000238Z"
    }
   },
   "outputs": [],
   "source": [
    "#Take parameters in transformed space and return f score in transformed space\n",
    "def entropy_F1_trx(beta_sp,sigma_sp,mu_logit,muIncr_logit,epsilon_sp,epsilonIterate_logit=logit(0)):\n",
    "    beta_pos=int(softplus(beta_sp))\n",
    "    sigma_pos=int(softplus(sigma_sp))\n",
    "    mu_01=inv_logit(mu_logit)\n",
    "    muIncr_01=inv_logit(muIncr_logit)\n",
    "    epsilon_pos=softplus(epsilon_sp)\n",
    "    epsilonIterate_01=inv_logit(epsilonIterate_logit)\n",
    "    \n",
    "    print(\"Mu:%.2f|Mu+:%.2f|Beta:%.2f|Sigma:%.2f|Epsilon:%.2f|EpIter:%.2f\" % (mu_01, muIncr_01, beta_pos, sigma_pos, epsilon_pos, epsilonIterate_01))\n",
    "    \n",
    "    with HiddenPrints():\n",
    "        f1=entropy_F1(beta=beta_pos,\n",
    "                      epsilon=epsilon_pos,\n",
    "                      epsilonIterate=epsilonIterate_01,\n",
    "                      muIncr=muIncr_01,\n",
    "                      sigma=sigma_pos,\n",
    "                      mu=mu_01)\n",
    "    \n",
    "    return logit(f1)"
   ]
  },
  {
   "cell_type": "code",
   "execution_count": 17,
   "metadata": {},
   "outputs": [
    {
     "name": "stdout",
     "output_type": "stream",
     "text": [
      "Mu:0.50|Mu+:0.05|Beta:33.00|Sigma:449.00|Epsilon:31.80|EpIter:0.00\n"
     ]
    },
    {
     "data": {
      "text/plain": [
       "-0.006734025447260872"
      ]
     },
     "execution_count": 17,
     "metadata": {},
     "output_type": "execute_result"
    }
   ],
   "source": [
    "entropy_F1_trx(beta_sp=inv_softplus(33),\n",
    "               sigma_sp=inv_softplus(449),\n",
    "               mu_logit=logit(0.5),\n",
    "               muIncr_logit=logit(0.05),\n",
    "               epsilon_sp=inv_softplus(31.8))"
   ]
  },
  {
   "cell_type": "code",
   "execution_count": 18,
   "metadata": {},
   "outputs": [],
   "source": [
    "optimizer=None"
   ]
  },
  {
   "cell_type": "code",
   "execution_count": 19,
   "metadata": {
    "ExecuteTime": {
     "end_time": "2020-09-03T22:11:50.787503Z",
     "start_time": "2020-09-03T22:11:50.784060Z"
    }
   },
   "outputs": [],
   "source": [
    "pbounds = {'beta_sp': (inv_softplus(1), inv_softplus(700)), \n",
    "           'sigma_sp': (inv_softplus(1), inv_softplus(700)),\n",
    "           'mu_logit': (logit(0.5), logit(0.99)),\n",
    "           'muIncr_logit': (logit(0.01), logit(0.2)),\n",
    "           'epsilon_sp': (inv_softplus(1), inv_softplus(700))}#,\n",
    "           #'epsilonIterate_logit': (logit(0), logit(0.25))}"
   ]
  },
  {
   "cell_type": "code",
   "execution_count": 20,
   "metadata": {},
   "outputs": [],
   "source": [
    "from bayes_opt import SequentialDomainReductionTransformer"
   ]
  },
  {
   "cell_type": "code",
   "execution_count": 21,
   "metadata": {},
   "outputs": [],
   "source": [
    "bounds_transformer = SequentialDomainReductionTransformer()"
   ]
  },
  {
   "cell_type": "code",
   "execution_count": 22,
   "metadata": {
    "ExecuteTime": {
     "end_time": "2020-09-03T22:11:56.728829Z",
     "start_time": "2020-09-03T22:11:56.725599Z"
    }
   },
   "outputs": [],
   "source": [
    "optimizer = BayesianOptimization(\n",
    "    f=entropy_F1_trx,\n",
    "    pbounds=pbounds,\n",
    "    random_state=1,\n",
    "    bounds_transformer=bounds_transformer\n",
    ")"
   ]
  },
  {
   "cell_type": "code",
   "execution_count": 23,
   "metadata": {},
   "outputs": [],
   "source": [
    "# optimizer.probe(\n",
    "#     params={\"beta_sp\": inv_softplus(12), \n",
    "#             \"sigma_sp\": inv_softplus(22),\n",
    "#             \"mu_logit\":logit(0.5),\n",
    "#             #'epsilonIterate_logit': logit(0),\n",
    "#             \"muIncr_logit\":logit(0.1),\n",
    "#             \"epsilon_sp\":inv_softplus(3.1)},\n",
    "#     lazy=True,\n",
    "# )"
   ]
  },
  {
   "cell_type": "code",
   "execution_count": 24,
   "metadata": {
    "ExecuteTime": {
     "end_time": "2020-09-03T22:54:10.009085Z",
     "start_time": "2020-09-03T22:11:58.063246Z"
    }
   },
   "outputs": [
    {
     "name": "stdout",
     "output_type": "stream",
     "text": [
      "|   iter    |  target   |  beta_sp  | epsilo... | muIncr... | mu_logit  | sigma_sp  |\n",
      "-------------------------------------------------------------------------------------\n",
      "Mu:0.80|Mu+:0.01|Beta:292.00|Sigma:103.00|Epsilon:504.38|EpIter:0.00\n",
      "| \u001b[0m 1       \u001b[0m | \u001b[0m 1.999   \u001b[0m | \u001b[0m 292.2   \u001b[0m | \u001b[0m 504.4   \u001b[0m | \u001b[0m-4.595   \u001b[0m | \u001b[0m 1.389   \u001b[0m | \u001b[0m 103.2   \u001b[0m |\n",
      "Mu:0.86|Mu+:0.03|Beta:65.00|Sigma:377.00|Epsilon:130.82|EpIter:0.00\n",
      "| \u001b[0m 2       \u001b[0m | \u001b[0m 1.817   \u001b[0m | \u001b[0m 65.13   \u001b[0m | \u001b[0m 130.8   \u001b[0m | \u001b[0m-3.486   \u001b[0m | \u001b[0m 1.823   \u001b[0m | \u001b[0m 377.4   \u001b[0m |\n",
      "Mu:0.98|Mu+:0.02|Beta:293.00|Sigma:19.00|Epsilon:479.82|EpIter:0.00\n",
      "| \u001b[0m 3       \u001b[0m | \u001b[0m 0.8538  \u001b[0m | \u001b[0m 293.8   \u001b[0m | \u001b[0m 479.8   \u001b[0m | \u001b[0m-3.939   \u001b[0m | \u001b[0m 4.035   \u001b[0m | \u001b[0m 19.7    \u001b[0m |\n",
      "Mu:0.66|Mu+:0.06|Beta:469.00|Sigma:139.00|Epsilon:292.43|EpIter:0.00\n",
      "| \u001b[0m 4       \u001b[0m | \u001b[0m 0.8812  \u001b[0m | \u001b[0m 469.5   \u001b[0m | \u001b[0m 292.4   \u001b[0m | \u001b[0m-2.802   \u001b[0m | \u001b[0m 0.6451  \u001b[0m | \u001b[0m 139.1   \u001b[0m |\n",
      "Mu:0.96|Mu+:0.03|Beta:560.00|Sigma:613.00|Epsilon:677.80|EpIter:0.00\n",
      "| \u001b[0m 5       \u001b[0m | \u001b[0m 1.385   \u001b[0m | \u001b[0m 560.6   \u001b[0m | \u001b[0m 677.8   \u001b[0m | \u001b[0m-3.589   \u001b[0m | \u001b[0m 3.181   \u001b[0m | \u001b[0m 613.5   \u001b[0m |\n",
      "Mu:0.69|Mu+:0.01|Beta:626.00|Sigma:614.00|Epsilon:60.03|EpIter:0.00\n",
      "| \u001b[0m 6       \u001b[0m | \u001b[0m-0.727   \u001b[0m | \u001b[0m 626.3   \u001b[0m | \u001b[0m 60.03   \u001b[0m | \u001b[0m-4.47    \u001b[0m | \u001b[0m 0.7804  \u001b[0m | \u001b[0m 614.8   \u001b[0m |\n",
      "Mu:0.92|Mu+:0.18|Beta:69.00|Sigma:484.00|Epsilon:295.09|EpIter:0.00\n",
      "| \u001b[0m 7       \u001b[0m | \u001b[0m 1.484   \u001b[0m | \u001b[0m 69.33   \u001b[0m | \u001b[0m 295.1   \u001b[0m | \u001b[0m-1.521   \u001b[0m | \u001b[0m 2.45    \u001b[0m | \u001b[0m 484.5   \u001b[0m |\n",
      "Mu:0.52|Mu+:0.13|Beta:221.00|Sigma:525.00|Epsilon:480.72|EpIter:0.00\n",
      "| \u001b[0m 8       \u001b[0m | \u001b[0m-6.319   \u001b[0m | \u001b[0m 221.2   \u001b[0m | \u001b[0m 480.7   \u001b[0m | \u001b[0m-1.917   \u001b[0m | \u001b[0m 0.08404 \u001b[0m | \u001b[0m 525.2   \u001b[0m |\n",
      "Mu:0.97|Mu+:0.02|Beta:692.00|Sigma:72.00|Epsilon:523.85|EpIter:0.00\n",
      "| \u001b[0m 9       \u001b[0m | \u001b[0m 0.8825  \u001b[0m | \u001b[0m 692.2   \u001b[0m | \u001b[0m 523.9   \u001b[0m | \u001b[0m-3.695   \u001b[0m | \u001b[0m 3.627   \u001b[0m | \u001b[0m 72.74   \u001b[0m |\n",
      "Mu:0.79|Mu+:0.03|Beta:313.00|Sigma:91.00|Epsilon:636.07|EpIter:0.00\n",
      "| \u001b[95m 10      \u001b[0m | \u001b[95m 2.05    \u001b[0m | \u001b[95m 313.8   \u001b[0m | \u001b[95m 636.1   \u001b[0m | \u001b[95m-3.653   \u001b[0m | \u001b[95m 1.322   \u001b[0m | \u001b[95m 91.49   \u001b[0m |\n",
      "Mu:0.65|Mu+:0.02|Beta:414.00|Sigma:142.00|Epsilon:560.00|EpIter:0.00\n",
      "| \u001b[0m 11      \u001b[0m | \u001b[0m 0.8212  \u001b[0m | \u001b[0m 414.9   \u001b[0m | \u001b[0m 560.0   \u001b[0m | \u001b[0m-4.078   \u001b[0m | \u001b[0m 0.6223  \u001b[0m | \u001b[0m 142.5   \u001b[0m |\n",
      "Mu:0.88|Mu+:0.02|Beta:217.00|Sigma:169.00|Epsilon:601.67|EpIter:0.00\n",
      "| \u001b[0m 12      \u001b[0m | \u001b[0m 1.651   \u001b[0m | \u001b[0m 217.0   \u001b[0m | \u001b[0m 601.7   \u001b[0m | \u001b[0m-4.036   \u001b[0m | \u001b[0m 1.952   \u001b[0m | \u001b[0m 170.0   \u001b[0m |\n",
      "Mu:0.78|Mu+:0.02|Beta:311.00|Sigma:95.00|Epsilon:634.50|EpIter:0.00\n",
      "| \u001b[95m 13      \u001b[0m | \u001b[95m 2.124   \u001b[0m | \u001b[95m 311.0   \u001b[0m | \u001b[95m 634.5   \u001b[0m | \u001b[95m-3.868   \u001b[0m | \u001b[95m 1.237   \u001b[0m | \u001b[95m 95.32   \u001b[0m |\n",
      "Mu:0.68|Mu+:0.03|Beta:232.00|Sigma:19.00|Epsilon:700.00|EpIter:0.00\n",
      "| \u001b[0m 14      \u001b[0m | \u001b[0m 0.7417  \u001b[0m | \u001b[0m 232.8   \u001b[0m | \u001b[0m 700.0   \u001b[0m | \u001b[0m-3.568   \u001b[0m | \u001b[0m 0.7312  \u001b[0m | \u001b[0m 19.42   \u001b[0m |\n",
      "Mu:0.84|Mu+:0.02|Beta:381.00|Sigma:163.00|Epsilon:700.00|EpIter:0.00\n",
      "| \u001b[0m 15      \u001b[0m | \u001b[0m 1.857   \u001b[0m | \u001b[0m 381.5   \u001b[0m | \u001b[0m 700.0   \u001b[0m | \u001b[0m-4.137   \u001b[0m | \u001b[0m 1.693   \u001b[0m | \u001b[0m 163.6   \u001b[0m |\n",
      "Mu:0.84|Mu+:0.02|Beta:374.00|Sigma:33.00|Epsilon:693.59|EpIter:0.00\n",
      "| \u001b[0m 16      \u001b[0m | \u001b[0m 1.927   \u001b[0m | \u001b[0m 374.4   \u001b[0m | \u001b[0m 693.6   \u001b[0m | \u001b[0m-4.11    \u001b[0m | \u001b[0m 1.647   \u001b[0m | \u001b[0m 33.84   \u001b[0m |\n",
      "Mu:0.70|Mu+:0.02|Beta:253.00|Sigma:150.00|Epsilon:687.68|EpIter:0.00\n",
      "| \u001b[0m 17      \u001b[0m | \u001b[0m 1.574   \u001b[0m | \u001b[0m 254.0   \u001b[0m | \u001b[0m 687.7   \u001b[0m | \u001b[0m-4.086   \u001b[0m | \u001b[0m 0.8684  \u001b[0m | \u001b[0m 150.7   \u001b[0m |\n",
      "Mu:0.71|Mu+:0.02|Beta:362.00|Sigma:45.00|Epsilon:586.64|EpIter:0.00\n",
      "| \u001b[0m 18      \u001b[0m | \u001b[0m 1.588   \u001b[0m | \u001b[0m 362.4   \u001b[0m | \u001b[0m 586.6   \u001b[0m | \u001b[0m-3.671   \u001b[0m | \u001b[0m 0.9053  \u001b[0m | \u001b[0m 45.52   \u001b[0m |\n",
      "Mu:0.72|Mu+:0.02|Beta:264.00|Sigma:50.00|Epsilon:591.42|EpIter:0.00\n",
      "| \u001b[0m 19      \u001b[0m | \u001b[0m 1.626   \u001b[0m | \u001b[0m 264.8   \u001b[0m | \u001b[0m 591.4   \u001b[0m | \u001b[0m-4.044   \u001b[0m | \u001b[0m 0.9385  \u001b[0m | \u001b[0m 50.5    \u001b[0m |\n",
      "Mu:0.72|Mu+:0.02|Beta:352.00|Sigma:135.00|Epsilon:673.27|EpIter:0.00\n",
      "| \u001b[0m 20      \u001b[0m | \u001b[0m 1.914   \u001b[0m | \u001b[0m 352.6   \u001b[0m | \u001b[0m 673.3   \u001b[0m | \u001b[0m-3.709   \u001b[0m | \u001b[0m 0.9684  \u001b[0m | \u001b[0m 135.7   \u001b[0m |\n",
      "Mu:0.73|Mu+:0.02|Beta:273.00|Sigma:131.00|Epsilon:599.61|EpIter:0.00\n",
      "| \u001b[0m 21      \u001b[0m | \u001b[0m 1.948   \u001b[0m | \u001b[0m 273.6   \u001b[0m | \u001b[0m 599.6   \u001b[0m | \u001b[0m-3.724   \u001b[0m | \u001b[0m 0.9953  \u001b[0m | \u001b[0m 131.6   \u001b[0m |\n",
      "Mu:0.73|Mu+:0.02|Beta:344.00|Sigma:62.00|Epsilon:665.90|EpIter:0.00\n",
      "| \u001b[0m 22      \u001b[0m | \u001b[0m 1.888   \u001b[0m | \u001b[0m 344.7   \u001b[0m | \u001b[0m 665.9   \u001b[0m | \u001b[0m-3.996   \u001b[0m | \u001b[0m 1.019   \u001b[0m | \u001b[0m 62.65   \u001b[0m |\n",
      "Mu:0.81|Mu+:0.02|Beta:341.00|Sigma:124.00|Epsilon:606.24|EpIter:0.00\n",
      "| \u001b[0m 23      \u001b[0m | \u001b[0m 1.952   \u001b[0m | \u001b[0m 341.4   \u001b[0m | \u001b[0m 606.2   \u001b[0m | \u001b[0m-3.984   \u001b[0m | \u001b[0m 1.433   \u001b[0m | \u001b[0m 124.7   \u001b[0m |\n",
      "Mu:0.80|Mu+:0.02|Beta:283.00|Sigma:121.00|Epsilon:659.94|EpIter:0.00\n",
      "| \u001b[0m 24      \u001b[0m | \u001b[0m 1.931   \u001b[0m | \u001b[0m 283.8   \u001b[0m | \u001b[0m 659.9   \u001b[0m | \u001b[0m-3.972   \u001b[0m | \u001b[0m 1.414   \u001b[0m | \u001b[0m 121.8   \u001b[0m |\n",
      "Mu:0.80|Mu+:0.02|Beta:286.00|Sigma:71.00|Epsilon:657.39|EpIter:0.00\n",
      "| \u001b[0m 25      \u001b[0m | \u001b[0m 1.974   \u001b[0m | \u001b[0m 286.5   \u001b[0m | \u001b[0m 657.4   \u001b[0m | \u001b[0m-3.962   \u001b[0m | \u001b[0m 1.396   \u001b[0m | \u001b[0m 71.5    \u001b[0m |\n",
      "Mu:0.75|Mu+:0.02|Beta:333.00|Sigma:116.00|Epsilon:613.90|EpIter:0.00\n",
      "| \u001b[0m 26      \u001b[0m | \u001b[0m 2.067   \u001b[0m | \u001b[0m 333.2   \u001b[0m | \u001b[0m 613.9   \u001b[0m | \u001b[0m-3.783   \u001b[0m | \u001b[0m 1.094   \u001b[0m | \u001b[0m 116.8   \u001b[0m |\n",
      "Mu:0.80|Mu+:0.02|Beta:291.00|Sigma:76.00|Epsilon:615.96|EpIter:0.00\n",
      "| \u001b[0m 27      \u001b[0m | \u001b[0m 2.028   \u001b[0m | \u001b[0m 291.2   \u001b[0m | \u001b[0m 616.0   \u001b[0m | \u001b[0m-3.792   \u001b[0m | \u001b[0m 1.366   \u001b[0m | \u001b[0m 76.03   \u001b[0m |\n",
      "Mu:0.79|Mu+:0.02|Beta:328.00|Sigma:112.00|Epsilon:651.19|EpIter:0.00\n",
      "| \u001b[0m 28      \u001b[0m | \u001b[0m 1.999   \u001b[0m | \u001b[0m 329.0   \u001b[0m | \u001b[0m 651.2   \u001b[0m | \u001b[0m-3.936   \u001b[0m | \u001b[0m 1.353   \u001b[0m | \u001b[0m 112.7   \u001b[0m |\n",
      "Mu:0.79|Mu+:0.02|Beta:327.00|Sigma:79.00|Epsilon:649.52|EpIter:0.00\n",
      "| \u001b[0m 29      \u001b[0m | \u001b[0m 2.02    \u001b[0m | \u001b[0m 327.2   \u001b[0m | \u001b[0m 649.5   \u001b[0m | \u001b[0m-3.929   \u001b[0m | \u001b[0m 1.342   \u001b[0m | \u001b[0m 79.69   \u001b[0m |\n",
      "Mu:0.76|Mu+:0.02|Beta:296.00|Sigma:109.00|Epsilon:620.98|EpIter:0.00\n",
      "| \u001b[0m 30      \u001b[0m | \u001b[0m 2.113   \u001b[0m | \u001b[0m 296.5   \u001b[0m | \u001b[0m 621.0   \u001b[0m | \u001b[0m-3.812   \u001b[0m | \u001b[0m 1.144   \u001b[0m | \u001b[0m 109.4   \u001b[0m |\n",
      "Mu:0.76|Mu+:0.02|Beta:297.00|Sigma:82.00|Epsilon:646.67|EpIter:0.00\n",
      "| \u001b[95m 31      \u001b[0m | \u001b[95m 2.157   \u001b[0m | \u001b[95m 298.0   \u001b[0m | \u001b[95m 646.7   \u001b[0m | \u001b[95m-3.851   \u001b[0m | \u001b[95m 1.153   \u001b[0m | \u001b[95m 82.66   \u001b[0m |\n",
      "Mu:0.75|Mu+:0.02|Beta:286.00|Sigma:71.00|Epsilon:657.01|EpIter:0.00\n",
      "| \u001b[0m 32      \u001b[0m | \u001b[0m 2.006   \u001b[0m | \u001b[0m 286.9   \u001b[0m | \u001b[0m 657.0   \u001b[0m | \u001b[0m-3.895   \u001b[0m | \u001b[0m 1.081   \u001b[0m | \u001b[0m 71.9    \u001b[0m |\n",
      "Mu:0.75|Mu+:0.02|Beta:288.00|Sigma:72.00|Epsilon:655.97|EpIter:0.00\n",
      "| \u001b[0m 33      \u001b[0m | \u001b[0m 2.011   \u001b[0m | \u001b[0m 288.0   \u001b[0m | \u001b[0m 656.0   \u001b[0m | \u001b[0m-3.811   \u001b[0m | \u001b[0m 1.088   \u001b[0m | \u001b[0m 72.98   \u001b[0m |\n",
      "Mu:0.75|Mu+:0.02|Beta:289.00|Sigma:73.00|Epsilon:655.04|EpIter:0.00\n",
      "| \u001b[0m 34      \u001b[0m | \u001b[0m 2.018   \u001b[0m | \u001b[0m 289.0   \u001b[0m | \u001b[0m 655.0   \u001b[0m | \u001b[0m-3.886   \u001b[0m | \u001b[0m 1.095   \u001b[0m | \u001b[0m 73.95   \u001b[0m |\n",
      "Mu:0.75|Mu+:0.02|Beta:289.00|Sigma:74.00|Epsilon:654.20|EpIter:0.00\n",
      "| \u001b[0m 35      \u001b[0m | \u001b[0m 2.104   \u001b[0m | \u001b[0m 289.9   \u001b[0m | \u001b[0m 654.2   \u001b[0m | \u001b[0m-3.818   \u001b[0m | \u001b[0m 1.101   \u001b[0m | \u001b[0m 74.82   \u001b[0m |\n",
      "Mu:0.75|Mu+:0.02|Beta:290.00|Sigma:75.00|Epsilon:653.45|EpIter:0.00\n",
      "| \u001b[0m 36      \u001b[0m | \u001b[0m 2.136   \u001b[0m | \u001b[0m 290.7   \u001b[0m | \u001b[0m 653.5   \u001b[0m | \u001b[0m-3.88    \u001b[0m | \u001b[0m 1.106   \u001b[0m | \u001b[0m 75.6    \u001b[0m |\n",
      "Mu:0.77|Mu+:0.02|Beta:291.00|Sigma:76.00|Epsilon:652.77|EpIter:0.00\n",
      "| \u001b[0m 37      \u001b[0m | \u001b[0m 2.079   \u001b[0m | \u001b[0m 291.4   \u001b[0m | \u001b[0m 652.8   \u001b[0m | \u001b[0m-3.877   \u001b[0m | \u001b[0m 1.195   \u001b[0m | \u001b[0m 76.31   \u001b[0m |\n",
      "Mu:0.75|Mu+:0.02|Beta:292.00|Sigma:76.00|Epsilon:652.16|EpIter:0.00\n",
      "| \u001b[0m 38      \u001b[0m | \u001b[0m 2.13    \u001b[0m | \u001b[0m 292.1   \u001b[0m | \u001b[0m 652.2   \u001b[0m | \u001b[0m-3.827   \u001b[0m | \u001b[0m 1.115   \u001b[0m | \u001b[0m 76.95   \u001b[0m |\n",
      "Mu:0.75|Mu+:0.02|Beta:292.00|Sigma:77.00|Epsilon:651.61|EpIter:0.00\n"
     ]
    },
    {
     "name": "stdout",
     "output_type": "stream",
     "text": [
      "| \u001b[95m 39      \u001b[0m | \u001b[95m 2.159   \u001b[0m | \u001b[95m 292.7   \u001b[0m | \u001b[95m 651.6   \u001b[0m | \u001b[95m-3.872   \u001b[0m | \u001b[95m 1.119   \u001b[0m | \u001b[95m 77.52   \u001b[0m |\n",
      "Mu:0.75|Mu+:0.02|Beta:288.00|Sigma:73.00|Epsilon:655.82|EpIter:0.00\n",
      "| \u001b[0m 40      \u001b[0m | \u001b[0m 2.011   \u001b[0m | \u001b[0m 288.2   \u001b[0m | \u001b[0m 655.8   \u001b[0m | \u001b[0m-3.89    \u001b[0m | \u001b[0m 1.089   \u001b[0m | \u001b[0m 73.14   \u001b[0m |\n",
      "Mu:0.75|Mu+:0.02|Beta:288.00|Sigma:73.00|Epsilon:655.40|EpIter:0.00\n",
      "| \u001b[0m 41      \u001b[0m | \u001b[0m 2.024   \u001b[0m | \u001b[0m 288.6   \u001b[0m | \u001b[0m 655.4   \u001b[0m | \u001b[0m-3.888   \u001b[0m | \u001b[0m 1.092   \u001b[0m | \u001b[0m 73.58   \u001b[0m |\n",
      "Mu:0.75|Mu+:0.02|Beta:289.00|Sigma:73.00|Epsilon:655.02|EpIter:0.00\n",
      "| \u001b[0m 42      \u001b[0m | \u001b[0m 2.018   \u001b[0m | \u001b[0m 289.0   \u001b[0m | \u001b[0m 655.0   \u001b[0m | \u001b[0m-3.886   \u001b[0m | \u001b[0m 1.095   \u001b[0m | \u001b[0m 73.97   \u001b[0m |\n",
      "Mu:0.75|Mu+:0.02|Beta:289.00|Sigma:74.00|Epsilon:654.68|EpIter:0.00\n",
      "| \u001b[0m 43      \u001b[0m | \u001b[0m 2.018   \u001b[0m | \u001b[0m 289.4   \u001b[0m | \u001b[0m 654.7   \u001b[0m | \u001b[0m-3.885   \u001b[0m | \u001b[0m 1.097   \u001b[0m | \u001b[0m 74.33   \u001b[0m |\n",
      "Mu:0.75|Mu+:0.02|Beta:289.00|Sigma:74.00|Epsilon:654.37|EpIter:0.00\n",
      "| \u001b[0m 44      \u001b[0m | \u001b[0m 2.104   \u001b[0m | \u001b[0m 289.7   \u001b[0m | \u001b[0m 654.4   \u001b[0m | \u001b[0m-3.883   \u001b[0m | \u001b[0m 1.099   \u001b[0m | \u001b[0m 74.65   \u001b[0m |\n",
      "Mu:0.75|Mu+:0.02|Beta:290.00|Sigma:74.00|Epsilon:654.09|EpIter:0.00\n",
      "| \u001b[0m 45      \u001b[0m | \u001b[0m 2.142   \u001b[0m | \u001b[0m 290.0   \u001b[0m | \u001b[0m 654.1   \u001b[0m | \u001b[0m-3.882   \u001b[0m | \u001b[0m 1.101   \u001b[0m | \u001b[0m 74.93   \u001b[0m |\n",
      "Mu:0.75|Mu+:0.02|Beta:290.00|Sigma:75.00|Epsilon:653.85|EpIter:0.00\n",
      "| \u001b[0m 46      \u001b[0m | \u001b[0m 2.136   \u001b[0m | \u001b[0m 290.3   \u001b[0m | \u001b[0m 653.8   \u001b[0m | \u001b[0m-3.881   \u001b[0m | \u001b[0m 1.103   \u001b[0m | \u001b[0m 75.19   \u001b[0m |\n",
      "Mu:0.75|Mu+:0.02|Beta:290.00|Sigma:75.00|Epsilon:653.62|EpIter:0.00\n",
      "| \u001b[0m 47      \u001b[0m | \u001b[0m 2.136   \u001b[0m | \u001b[0m 290.5   \u001b[0m | \u001b[0m 653.6   \u001b[0m | \u001b[0m-3.88    \u001b[0m | \u001b[0m 1.105   \u001b[0m | \u001b[0m 75.43   \u001b[0m |\n",
      "Mu:0.75|Mu+:0.02|Beta:290.00|Sigma:75.00|Epsilon:653.42|EpIter:0.00\n",
      "| \u001b[0m 48      \u001b[0m | \u001b[0m 2.136   \u001b[0m | \u001b[0m 290.8   \u001b[0m | \u001b[0m 653.4   \u001b[0m | \u001b[0m-3.879   \u001b[0m | \u001b[0m 1.106   \u001b[0m | \u001b[0m 75.63   \u001b[0m |\n",
      "Mu:0.75|Mu+:0.02|Beta:290.00|Sigma:75.00|Epsilon:653.24|EpIter:0.00\n",
      "| \u001b[0m 49      \u001b[0m | \u001b[0m 2.136   \u001b[0m | \u001b[0m 290.9   \u001b[0m | \u001b[0m 653.2   \u001b[0m | \u001b[0m-3.879   \u001b[0m | \u001b[0m 1.107   \u001b[0m | \u001b[0m 75.82   \u001b[0m |\n",
      "Mu:0.75|Mu+:0.02|Beta:291.00|Sigma:75.00|Epsilon:653.08|EpIter:0.00\n",
      "| \u001b[0m 50      \u001b[0m | \u001b[0m 2.136   \u001b[0m | \u001b[0m 291.1   \u001b[0m | \u001b[0m 653.1   \u001b[0m | \u001b[0m-3.878   \u001b[0m | \u001b[0m 1.108   \u001b[0m | \u001b[0m 75.99   \u001b[0m |\n",
      "Mu:0.75|Mu+:0.02|Beta:291.00|Sigma:76.00|Epsilon:652.93|EpIter:0.00\n",
      "| \u001b[0m 51      \u001b[0m | \u001b[0m 2.13    \u001b[0m | \u001b[0m 291.3   \u001b[0m | \u001b[0m 652.9   \u001b[0m | \u001b[0m-3.877   \u001b[0m | \u001b[0m 1.109   \u001b[0m | \u001b[0m 76.15   \u001b[0m |\n",
      "Mu:0.75|Mu+:0.02|Beta:291.00|Sigma:76.00|Epsilon:652.80|EpIter:0.00\n",
      "| \u001b[0m 52      \u001b[0m | \u001b[0m 2.13    \u001b[0m | \u001b[0m 291.4   \u001b[0m | \u001b[0m 652.8   \u001b[0m | \u001b[0m-3.877   \u001b[0m | \u001b[0m 1.11    \u001b[0m | \u001b[0m 76.28   \u001b[0m |\n",
      "Mu:0.75|Mu+:0.02|Beta:291.00|Sigma:76.00|Epsilon:652.68|EpIter:0.00\n",
      "| \u001b[0m 53      \u001b[0m | \u001b[0m 2.13    \u001b[0m | \u001b[0m 291.5   \u001b[0m | \u001b[0m 652.7   \u001b[0m | \u001b[0m-3.876   \u001b[0m | \u001b[0m 1.111   \u001b[0m | \u001b[0m 76.41   \u001b[0m |\n",
      "Mu:0.75|Mu+:0.02|Beta:291.00|Sigma:76.00|Epsilon:652.57|EpIter:0.00\n",
      "| \u001b[0m 54      \u001b[0m | \u001b[0m 2.13    \u001b[0m | \u001b[0m 291.7   \u001b[0m | \u001b[0m 652.6   \u001b[0m | \u001b[0m-3.876   \u001b[0m | \u001b[0m 1.112   \u001b[0m | \u001b[0m 76.52   \u001b[0m |\n",
      "Mu:0.75|Mu+:0.02|Beta:291.00|Sigma:76.00|Epsilon:652.48|EpIter:0.00\n",
      "| \u001b[0m 55      \u001b[0m | \u001b[0m 2.13    \u001b[0m | \u001b[0m 291.8   \u001b[0m | \u001b[0m 652.5   \u001b[0m | \u001b[0m-3.875   \u001b[0m | \u001b[0m 1.113   \u001b[0m | \u001b[0m 76.62   \u001b[0m |\n",
      "Mu:0.75|Mu+:0.02|Beta:291.00|Sigma:76.00|Epsilon:652.39|EpIter:0.00\n",
      "| \u001b[0m 56      \u001b[0m | \u001b[0m 2.13    \u001b[0m | \u001b[0m 291.9   \u001b[0m | \u001b[0m 652.4   \u001b[0m | \u001b[0m-3.875   \u001b[0m | \u001b[0m 1.113   \u001b[0m | \u001b[0m 76.71   \u001b[0m |\n",
      "Mu:0.75|Mu+:0.02|Beta:291.00|Sigma:76.00|Epsilon:652.31|EpIter:0.00\n",
      "| \u001b[0m 57      \u001b[0m | \u001b[0m 2.13    \u001b[0m | \u001b[0m 291.9   \u001b[0m | \u001b[0m 652.3   \u001b[0m | \u001b[0m-3.875   \u001b[0m | \u001b[0m 1.114   \u001b[0m | \u001b[0m 76.79   \u001b[0m |\n",
      "Mu:0.75|Mu+:0.02|Beta:292.00|Sigma:76.00|Epsilon:652.24|EpIter:0.00\n",
      "| \u001b[0m 58      \u001b[0m | \u001b[0m 2.13    \u001b[0m | \u001b[0m 292.0   \u001b[0m | \u001b[0m 652.2   \u001b[0m | \u001b[0m-3.874   \u001b[0m | \u001b[0m 1.114   \u001b[0m | \u001b[0m 76.86   \u001b[0m |\n",
      "Mu:0.75|Mu+:0.02|Beta:292.00|Sigma:76.00|Epsilon:652.18|EpIter:0.00\n",
      "| \u001b[0m 59      \u001b[0m | \u001b[0m 2.13    \u001b[0m | \u001b[0m 292.1   \u001b[0m | \u001b[0m 652.2   \u001b[0m | \u001b[0m-3.874   \u001b[0m | \u001b[0m 1.115   \u001b[0m | \u001b[0m 76.93   \u001b[0m |\n",
      "Mu:0.75|Mu+:0.02|Beta:292.00|Sigma:76.00|Epsilon:652.12|EpIter:0.00\n",
      "| \u001b[0m 60      \u001b[0m | \u001b[0m 2.13    \u001b[0m | \u001b[0m 292.1   \u001b[0m | \u001b[0m 652.1   \u001b[0m | \u001b[0m-3.874   \u001b[0m | \u001b[0m 1.115   \u001b[0m | \u001b[0m 76.99   \u001b[0m |\n",
      "=====================================================================================\n"
     ]
    }
   ],
   "source": [
    "optimizer.maximize(\n",
    "    init_points=10,\n",
    "    n_iter=50,\n",
    "    acq=\"ucb\",\n",
    "    kappa=5,\n",
    "    alpha=1\n",
    ")"
   ]
  },
  {
   "cell_type": "code",
   "execution_count": 30,
   "metadata": {},
   "outputs": [
    {
     "data": {
      "text/plain": [
       "{'target': 2.4044099936553947,\n",
       " 'params': {'beta_sp': 9.676141279526462,\n",
       "  'epsilon_sp': 3.1317412419740163,\n",
       "  'muIncr_logit': -1.9657544206806183,\n",
       "  'mu_logit': 0.3031309777971007,\n",
       "  'sigma_sp': 23.599895501271515}}"
      ]
     },
     "execution_count": 30,
     "metadata": {},
     "output_type": "execute_result"
    }
   ],
   "source": [
    "optimizer.max"
   ]
  },
  {
   "cell_type": "code",
   "execution_count": 31,
   "metadata": {
    "ExecuteTime": {
     "end_time": "2020-09-03T22:58:42.653746Z",
     "start_time": "2020-09-03T22:58:42.649916Z"
    }
   },
   "outputs": [
    {
     "data": {
      "text/plain": [
       "0.91716297"
      ]
     },
     "execution_count": 31,
     "metadata": {},
     "output_type": "execute_result"
    }
   ],
   "source": [
    "inv_logit(optimizer.max[\"target\"])"
   ]
  },
  {
   "cell_type": "code",
   "execution_count": 32,
   "metadata": {
    "ExecuteTime": {
     "end_time": "2020-09-03T22:59:56.414823Z",
     "start_time": "2020-09-03T22:59:56.412477Z"
    }
   },
   "outputs": [],
   "source": [
    "params=optimizer.max[\"params\"]"
   ]
  },
  {
   "cell_type": "code",
   "execution_count": 33,
   "metadata": {
    "ExecuteTime": {
     "end_time": "2020-09-03T23:00:39.452694Z",
     "start_time": "2020-09-03T23:00:39.449279Z"
    }
   },
   "outputs": [
    {
     "data": {
      "text/plain": [
       "9.676204040779778"
      ]
     },
     "execution_count": 33,
     "metadata": {},
     "output_type": "execute_result"
    }
   ],
   "source": [
    "softplus(params[\"beta_sp\"])"
   ]
  },
  {
   "cell_type": "code",
   "execution_count": 34,
   "metadata": {
    "ExecuteTime": {
     "end_time": "2020-09-03T23:01:09.671719Z",
     "start_time": "2020-09-03T23:01:09.668333Z"
    }
   },
   "outputs": [
    {
     "data": {
      "text/plain": [
       "23.59989550132784"
      ]
     },
     "execution_count": 34,
     "metadata": {},
     "output_type": "execute_result"
    }
   ],
   "source": [
    "softplus(params[\"sigma_sp\"])"
   ]
  },
  {
   "cell_type": "code",
   "execution_count": 35,
   "metadata": {
    "ExecuteTime": {
     "end_time": "2020-09-04T01:35:00.233453Z",
     "start_time": "2020-09-04T01:35:00.230360Z"
    }
   },
   "outputs": [
    {
     "data": {
      "text/plain": [
       "0.5752077313781824"
      ]
     },
     "execution_count": 35,
     "metadata": {},
     "output_type": "execute_result"
    }
   ],
   "source": [
    "inv_logit(params[\"mu_logit\"])"
   ]
  },
  {
   "cell_type": "code",
   "execution_count": 36,
   "metadata": {
    "ExecuteTime": {
     "end_time": "2020-09-04T01:35:28.881809Z",
     "start_time": "2020-09-04T01:35:28.878641Z"
    }
   },
   "outputs": [
    {
     "data": {
      "text/plain": [
       "0.12284563541222843"
      ]
     },
     "execution_count": 36,
     "metadata": {},
     "output_type": "execute_result"
    }
   ],
   "source": [
    "inv_logit(params[\"muIncr_logit\"])"
   ]
  },
  {
   "cell_type": "code",
   "execution_count": 37,
   "metadata": {
    "ExecuteTime": {
     "end_time": "2020-09-04T01:36:13.729976Z",
     "start_time": "2020-09-04T01:36:13.726798Z"
    }
   },
   "outputs": [
    {
     "data": {
      "text/plain": [
       "3.174457511837547"
      ]
     },
     "execution_count": 37,
     "metadata": {},
     "output_type": "execute_result"
    }
   ],
   "source": [
    "softplus(params[\"epsilon_sp\"])"
   ]
  },
  {
   "cell_type": "code",
   "execution_count": 39,
   "metadata": {},
   "outputs": [
    {
     "name": "stdout",
     "output_type": "stream",
     "text": [
      "\n",
      ">>>>>>>>>>>>\n",
      "Starting Iteration mu= 0.575\n",
      "Starting Iteration epsilon= 3.17\n",
      "Running NewMatrix Jar!\n",
      " Single-Reference Blocks = 1\n",
      "\n",
      " Multi-Reference Blocks = 2439\n",
      "NewMatrix Iterateblocks Total Time = 1.2227091901004314\n",
      "\n",
      "\n",
      ">>>>>>>>>>>>\n",
      "Starting Iteration mu= 0.698\n",
      "Starting Iteration epsilon= 3.17\n",
      "Running NewMatrix Jar!\n",
      " Single-Reference Blocks = 1\n",
      "\n",
      " Multi-Reference Blocks = 1274\n",
      "NewMatrix Iterateblocks Total Time = 0.8452738588675857\n",
      "\n",
      "\n",
      ">>>>>>>>>>>>\n",
      "Starting Iteration mu= 0.821\n",
      "Starting Iteration epsilon= 3.17\n",
      "Running NewMatrix Jar!\n",
      " Single-Reference Blocks = 1\n",
      "\n",
      " Multi-Reference Blocks = 461\n",
      "NewMatrix Iterateblocks Total Time = 0.4730558041483164\n",
      "\n",
      "\n",
      ">>>>>>>>>>>>\n",
      "Starting Iteration mu= 0.944\n",
      "Starting Iteration epsilon= 3.17\n",
      "Running NewMatrix Jar!\n",
      " Single-Reference Blocks = 1\n",
      "\n",
      " Multi-Reference Blocks = 100\n",
      "NewMatrix Iterateblocks Total Time = 0.2266410579904914\n",
      "\n",
      "Precision = TP / (TP + FP) ......................... = 0.98833139\n",
      "Recall = TP / (TP + FN) ............................ = 0.85555556\n",
      "F-Measure .......................................... = 0.91716297\n"
     ]
    },
    {
     "data": {
      "text/plain": [
       "0.91716297"
      ]
     },
     "execution_count": 39,
     "metadata": {},
     "output_type": "execute_result"
    }
   ],
   "source": [
    "entropy_F1(mu=0.575,\n",
    "           muIncr=0.123,\n",
    "           beta=9,\n",
    "           sigma=23,\n",
    "           epsilon=3.17,\n",
    "           epsilonIterate=0)"
   ]
  }
 ],
 "metadata": {
  "kernelspec": {
   "display_name": "Python 3",
   "language": "python",
   "name": "python3"
  },
  "language_info": {
   "codemirror_mode": {
    "name": "ipython",
    "version": 3
   },
   "file_extension": ".py",
   "mimetype": "text/x-python",
   "name": "python",
   "nbconvert_exporter": "python",
   "pygments_lexer": "ipython3",
   "version": "3.7.4"
  },
  "toc": {
   "base_numbering": 1,
   "nav_menu": {},
   "number_sections": true,
   "sideBar": true,
   "skip_h1_title": false,
   "title_cell": "Table of Contents",
   "title_sidebar": "Contents",
   "toc_cell": false,
   "toc_position": {},
   "toc_section_display": true,
   "toc_window_display": false
  },
  "varInspector": {
   "cols": {
    "lenName": 16,
    "lenType": 16,
    "lenVar": 40
   },
   "kernels_config": {
    "python": {
     "delete_cmd_postfix": "",
     "delete_cmd_prefix": "del ",
     "library": "var_list.py",
     "varRefreshCmd": "print(var_dic_list())"
    },
    "r": {
     "delete_cmd_postfix": ") ",
     "delete_cmd_prefix": "rm(",
     "library": "var_list.r",
     "varRefreshCmd": "cat(var_dic_list()) "
    }
   },
   "types_to_exclude": [
    "module",
    "function",
    "builtin_function_or_method",
    "instance",
    "_Feature"
   ],
   "window_display": false
  }
 },
 "nbformat": 4,
 "nbformat_minor": 2
}
