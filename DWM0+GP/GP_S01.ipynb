{
 "cells": [
  {
   "cell_type": "code",
   "execution_count": 1,
   "metadata": {
    "ExecuteTime": {
     "end_time": "2020-09-03T21:59:20.041891Z",
     "start_time": "2020-09-03T21:59:10.621897Z"
    }
   },
   "outputs": [
    {
     "name": "stdout",
     "output_type": "stream",
     "text": [
      "Tokenizing References\n",
      "Total References= 50\n",
      "Total Tokens Found = 626\n",
      "Total Tokens Output = 626\n",
      "Dictionary Load = 67077\n",
      "<class 'dict'>\n",
      "Global Replace Cycle\n",
      "Total References= 50\n",
      "Total Tokens= 626\n",
      "Unique Tokens= 252\n",
      "Minimum Frequency of Standard Token =  5\n",
      "Minimum Length of Standard Token =  3\n",
      "Maximum Frequency of Error Token =  3\n",
      "References Processed= 50\n",
      "Sorted Token Size = 252\n",
      "Clean Token Size = 109\n",
      "*Stop Replacements here\n",
      "References Processed =  50\n",
      "Total Replacement Pairs = 1\n",
      "Tokens Read = 626\n",
      "Tokens Changed =  3\n",
      "References Changed = 3\n"
     ]
    }
   ],
   "source": [
    "import DWM1_Tokenizer\n",
    "import DWM2_Global_Token_Replace_NewDict\n",
    "import DWM3_Entropy_Cluster\n",
    "# Settings for Tokenizer\n",
    "inputSampleName = r'S1'\n",
    "delimiter=','\n",
    "hasHeader = True\n",
    "tokenizerType = 'Splitter'\n",
    "removeDuplicateTokens = True\n",
    "\n",
    "# Setting for global replacement DWM2\n",
    "runReplacement = True\n",
    "minFreqStdToken = 5\n",
    "minLenStdToken = 3\n",
    "maxFreqErrToken = 3\n",
    "\n",
    "# Cluster Settings\n",
    "\n",
    "\n",
    "DWM1_Tokenizer.tokenizeCycle(inputSampleName, delimiter, hasHeader, removeDuplicateTokens, tokenizerType)\n",
    "prefixString = inputSampleName +','+tokenizerType+','+str(removeDuplicateTokens)\n",
    "fileToCluster = inputSampleName + '-Tokenized.txt'\n",
    "if runReplacement:\n",
    "    DWM2_Global_Token_Replace_NewDict.globalReplace(inputSampleName, minFreqStdToken, minLenStdToken, maxFreqErrToken)\n",
    "    fileToCluster = inputSampleName + '-TokenReplace.txt'\n",
    "    prefixString = prefixString+','+str(minFreqStdToken)+','+str(minLenStdToken)+','+str(maxFreqErrToken)\n",
    "else:\n",
    "    prefixString = prefixString+',0,0,0'\n",
    "\n",
    "# Cluster fixed settings\n",
    "epsilonIterate = 0.0\n",
    "runClusterMetrics = False\n",
    "runFinalMetrics = True\n",
    "createFinalJoin = False"
   ]
  },
  {
   "cell_type": "code",
   "execution_count": 2,
   "metadata": {},
   "outputs": [],
   "source": [
    "status=\"done\""
   ]
  },
  {
   "cell_type": "code",
   "execution_count": 3,
   "metadata": {},
   "outputs": [
    {
     "name": "stdout",
     "output_type": "stream",
     "text": [
      "done\n"
     ]
    }
   ],
   "source": [
    "print(status)"
   ]
  },
  {
   "cell_type": "code",
   "execution_count": null,
   "metadata": {
    "ExecuteTime": {
     "end_time": "2020-09-03T15:11:39.765508Z",
     "start_time": "2020-09-03T15:03:19.495876Z"
    },
    "scrolled": false
   },
   "outputs": [],
   "source": [
    "# # Cluster Robot Settings\n",
    "# muStart = 0.60\n",
    "# muEnd = 0.60\n",
    "# muIncr = 0.05\n",
    "# betaStart = 14\n",
    "# betaEnd = 14\n",
    "# betaIncr = 1\n",
    "# sigmaStart = 145\n",
    "# sigmaEnd = 145\n",
    "# sigmaIncr = 1\n",
    "# epsilonStart = 35\n",
    "# epsilonEnd = 35\n",
    "# epsilonIncr = 1\n",
    "# mu = muStart\n",
    "# while mu <= muEnd:\n",
    "#     beta = betaStart\n",
    "#     while beta <= betaEnd:\n",
    "#         sigma = sigmaStart\n",
    "#         while sigma <= sigmaEnd:\n",
    "#             epsilon = epsilonStart\n",
    "#             while epsilon <= epsilonEnd:\n",
    "#                 suffixString =','+str(epsilon)+','+str(epsilonIterate)\n",
    "#                 resultsList = DWM3_Entropy_Cluster.driver(fileToCluster, beta, sigma, mu, muIncr,epsilon,  \\\n",
    "#                                                      epsilonIterate,runClusterMetrics, runFinalMetrics, createFinalJoin, hasHeader)\n",
    "#                 seg0a = ','+str(resultsList[0])+','+str(resultsList[1])+','+str(resultsList[2])+','+str(resultsList[3])\n",
    "#                 seg0b =','+str(resultsList[4])+','+str(resultsList[5])+','+str(resultsList[6])\n",
    "#                 seg1 = ','+str(beta)+','+str(sigma)+','+str(mu)+ ',' +str(muIncr)\n",
    "#                 seg2 = ','+str(resultsList[7])+','+str(resultsList[8])+','+str(resultsList[9])\n",
    "#                 outString = prefixString+seg0a+seg0b+suffixString+seg1+seg2+'\\n'\n",
    "#                 resultsFile = open('RobotResults.txt','a+')\n",
    "#                 resultsFile.write(outString)\n",
    "#                 resultsFile.close()\n",
    "#                 epsilon = epsilon + epsilonIncr\n",
    "#             sigma = sigma + sigmaIncr\n",
    "#         beta = beta + betaIncr\n",
    "#     mu = mu + muIncr\n",
    "\n",
    "\n",
    " "
   ]
  },
  {
   "cell_type": "markdown",
   "metadata": {
    "ExecuteTime": {
     "end_time": "2020-09-03T16:36:26.229783Z",
     "start_time": "2020-09-03T16:36:26.227755Z"
    }
   },
   "source": [
    "## Bayesian Optimization of Hyperparameters"
   ]
  },
  {
   "cell_type": "code",
   "execution_count": 4,
   "metadata": {},
   "outputs": [],
   "source": [
    "import numpy as np"
   ]
  },
  {
   "cell_type": "markdown",
   "metadata": {
    "ExecuteTime": {
     "end_time": "2020-09-03T16:36:47.947518Z",
     "start_time": "2020-09-03T16:36:47.944251Z"
    }
   },
   "source": [
    "Create a function of the parameters that returns the F score"
   ]
  },
  {
   "cell_type": "code",
   "execution_count": 5,
   "metadata": {
    "ExecuteTime": {
     "end_time": "2020-09-03T21:59:42.561300Z",
     "start_time": "2020-09-03T21:59:42.557193Z"
    }
   },
   "outputs": [],
   "source": [
    "def entropy_F1(beta=14,sigma=145,mu=0.6,muIncr=0.05,epsilon=35,epsilonIterate=0):\n",
    "    resultsList = DWM3_Entropy_Cluster.driver(fileToCluster, \n",
    "                                  beta, \n",
    "                                  sigma, \n",
    "                                  mu, \n",
    "                                  muIncr,\n",
    "                                  epsilon,\n",
    "                                  epsilonIterate,\n",
    "                                  runClusterMetrics, \n",
    "                                  runFinalMetrics, \n",
    "                                  createFinalJoin, \n",
    "                                  hasHeader)\n",
    "    return resultsList[9]"
   ]
  },
  {
   "cell_type": "code",
   "execution_count": 6,
   "metadata": {
    "ExecuteTime": {
     "end_time": "2020-09-03T22:06:32.164588Z",
     "start_time": "2020-09-03T21:59:43.696518Z"
    }
   },
   "outputs": [
    {
     "name": "stdout",
     "output_type": "stream",
     "text": [
      "\n",
      ">>>>>>>>>>>>\n",
      "Starting Iteration mu= 0.5\n",
      "Starting Iteration epsilon= 31.8\n",
      "Running NewMatrix Jar!\n",
      " Single-Reference Blocks = 1\n",
      "\n",
      " Multi-Reference Blocks = 119\n",
      "NewMatrix Iterateblocks Total Time = 0.37953212670981884\n",
      "\n",
      "\n",
      ">>>>>>>>>>>>\n",
      "Starting Iteration mu= 0.55\n",
      "Starting Iteration epsilon= 31.8\n",
      "Running NewMatrix Jar!\n",
      " Single-Reference Blocks = 1\n",
      "\n",
      " Multi-Reference Blocks = 71\n",
      "NewMatrix Iterateblocks Total Time = 0.3649738784879446\n",
      "\n",
      "Precision = TP / (TP + FP) ......................... = 0.18620690\n",
      "Recall = TP / (TP + FN) ............................ = 1.00000000\n",
      "F-Measure .......................................... = 0.31395349\n"
     ]
    },
    {
     "data": {
      "text/plain": [
       "0.31395349"
      ]
     },
     "execution_count": 6,
     "metadata": {},
     "output_type": "execute_result"
    }
   ],
   "source": [
    "entropy_F1(mu=0.5,muIncr=0.05,beta=33,sigma=449,epsilon=31.8,epsilonIterate=0)"
   ]
  },
  {
   "cell_type": "markdown",
   "metadata": {},
   "source": [
    "Create functions for variable transformation."
   ]
  },
  {
   "cell_type": "code",
   "execution_count": 7,
   "metadata": {
    "ExecuteTime": {
     "end_time": "2020-09-03T22:08:18.856511Z",
     "start_time": "2020-09-03T22:08:18.853611Z"
    }
   },
   "outputs": [],
   "source": [
    "#Softplus to transform real domain into positive\n",
    "def softplus(x):\n",
    "    return np.log(1+np.exp(x))\n",
    "\n",
    "def inv_softplus(x):\n",
    "    return np.log(np.exp(x)-1)"
   ]
  },
  {
   "cell_type": "code",
   "execution_count": 8,
   "metadata": {
    "ExecuteTime": {
     "end_time": "2020-09-03T22:08:27.349548Z",
     "start_time": "2020-09-03T22:08:27.345752Z"
    }
   },
   "outputs": [
    {
     "data": {
      "text/plain": [
       "0.541324854612918"
      ]
     },
     "execution_count": 8,
     "metadata": {},
     "output_type": "execute_result"
    }
   ],
   "source": [
    "inv_softplus(1)"
   ]
  },
  {
   "cell_type": "code",
   "execution_count": 14,
   "metadata": {
    "ExecuteTime": {
     "end_time": "2020-09-03T22:11:24.939913Z",
     "start_time": "2020-09-03T22:11:24.936639Z"
    }
   },
   "outputs": [],
   "source": [
    "#Logit to transform real domain into 0-1\n",
    "def logit(x):    \n",
    "    return np.log(x+1e-54)-np.log(1-x+1e-54)\n",
    "\n",
    "def inv_logit(x):\n",
    "    res=np.exp(x)/(np.exp(x)+1)-2*1e-54\n",
    "    if res<1e-54:\n",
    "        res=0\n",
    "    return res"
   ]
  },
  {
   "cell_type": "markdown",
   "metadata": {},
   "source": [
    "Import BO library:"
   ]
  },
  {
   "cell_type": "code",
   "execution_count": 15,
   "metadata": {
    "ExecuteTime": {
     "end_time": "2020-09-03T22:08:30.622144Z",
     "start_time": "2020-09-03T22:08:30.226842Z"
    }
   },
   "outputs": [],
   "source": [
    "from bayes_opt import BayesianOptimization"
   ]
  },
  {
   "cell_type": "markdown",
   "metadata": {
    "ExecuteTime": {
     "end_time": "2020-09-03T18:14:39.927785Z",
     "start_time": "2020-09-03T18:14:39.924909Z"
    }
   },
   "source": [
    "Create dictionary bounds for the parameters:"
   ]
  },
  {
   "cell_type": "code",
   "execution_count": 9,
   "metadata": {},
   "outputs": [],
   "source": [
    "import os, sys"
   ]
  },
  {
   "cell_type": "code",
   "execution_count": 10,
   "metadata": {},
   "outputs": [],
   "source": [
    "class HiddenPrints:\n",
    "    def __enter__(self):\n",
    "        self._original_stdout = sys.stdout\n",
    "        sys.stdout = open(os.devnull, 'w')\n",
    "\n",
    "    def __exit__(self, exc_type, exc_val, exc_tb):\n",
    "        sys.stdout.close()\n",
    "        sys.stdout = self._original_stdout"
   ]
  },
  {
   "cell_type": "code",
   "execution_count": 16,
   "metadata": {},
   "outputs": [
    {
     "name": "stdout",
     "output_type": "stream",
     "text": [
      "This will be printed as before\n"
     ]
    }
   ],
   "source": [
    "with HiddenPrints():\n",
    "    print(\"This will not be printed\")\n",
    "\n",
    "print(\"This will be printed as before\")"
   ]
  },
  {
   "cell_type": "code",
   "execution_count": 17,
   "metadata": {
    "ExecuteTime": {
     "end_time": "2020-09-03T22:11:53.005154Z",
     "start_time": "2020-09-03T22:11:53.000238Z"
    }
   },
   "outputs": [],
   "source": [
    "#Take parameters in transformed space and return f score in transformed space\n",
    "def entropy_F1_trx(beta_sp,sigma_sp,mu_logit,muIncr_logit,epsilon_sp,epsilonIterate_logit=logit(0)):\n",
    "    beta_pos=int(softplus(beta_sp))\n",
    "    sigma_pos=int(softplus(sigma_sp))\n",
    "    mu_01=inv_logit(mu_logit)\n",
    "    muIncr_01=inv_logit(muIncr_logit)\n",
    "    epsilon_pos=softplus(epsilon_sp)\n",
    "    epsilonIterate_01=inv_logit(epsilonIterate_logit)\n",
    "    \n",
    "    print(\"Mu:%.2f|Mu+:%.2f|Beta:%.2f|Sigma:%.2f|Epsilon:%.2f|EpIter:%.2f\" % (mu_01, muIncr_01, beta_pos, sigma_pos, epsilon_pos, epsilonIterate_01))\n",
    "    \n",
    "    with HiddenPrints():\n",
    "        f1=entropy_F1(beta=beta_pos,\n",
    "                      epsilon=epsilon_pos,\n",
    "                      epsilonIterate=epsilonIterate_01,\n",
    "                      muIncr=muIncr_01,\n",
    "                      sigma=sigma_pos,\n",
    "                      mu=mu_01)\n",
    "    \n",
    "    return logit(f1)"
   ]
  },
  {
   "cell_type": "code",
   "execution_count": 18,
   "metadata": {},
   "outputs": [
    {
     "name": "stdout",
     "output_type": "stream",
     "text": [
      "Mu:0.50|Mu+:0.05|Beta:33.00|Sigma:449.00|Epsilon:31.80|EpIter:0.00\n"
     ]
    },
    {
     "data": {
      "text/plain": [
       "-0.7817005703433237"
      ]
     },
     "execution_count": 18,
     "metadata": {},
     "output_type": "execute_result"
    }
   ],
   "source": [
    "entropy_F1_trx(beta_sp=inv_softplus(33),\n",
    "               sigma_sp=inv_softplus(449),\n",
    "               mu_logit=logit(0.5),\n",
    "               muIncr_logit=logit(0.05),\n",
    "               epsilon_sp=inv_softplus(31.8))"
   ]
  },
  {
   "cell_type": "code",
   "execution_count": 19,
   "metadata": {},
   "outputs": [],
   "source": [
    "optimizer=None"
   ]
  },
  {
   "cell_type": "code",
   "execution_count": 20,
   "metadata": {
    "ExecuteTime": {
     "end_time": "2020-09-03T22:11:50.787503Z",
     "start_time": "2020-09-03T22:11:50.784060Z"
    }
   },
   "outputs": [],
   "source": [
    "pbounds = {'beta_sp': (inv_softplus(4), inv_softplus(50)), \n",
    "           'sigma_sp': (inv_softplus(4), inv_softplus(50)),\n",
    "           'mu_logit': (logit(0.5), logit(0.8)),\n",
    "           'muIncr_logit': (logit(0.01), logit(0.1)),\n",
    "           'epsilon_sp': (inv_softplus(4), inv_softplus(50)),\n",
    "           'epsilonIterate_logit': (logit(0), logit(0.25))}"
   ]
  },
  {
   "cell_type": "code",
   "execution_count": 21,
   "metadata": {
    "ExecuteTime": {
     "end_time": "2020-09-03T22:11:56.728829Z",
     "start_time": "2020-09-03T22:11:56.725599Z"
    }
   },
   "outputs": [],
   "source": [
    "optimizer = BayesianOptimization(\n",
    "    f=entropy_F1_trx,\n",
    "    pbounds=pbounds,\n",
    "    random_state=1,\n",
    ")"
   ]
  },
  {
   "cell_type": "code",
   "execution_count": 22,
   "metadata": {},
   "outputs": [
    {
     "name": "stdout",
     "output_type": "stream",
     "text": [
      "Mu:0.50|Mu+:0.10|Beta:6.00|Sigma:7.00|Epsilon:4.90|EpIter:0.00\n"
     ]
    }
   ],
   "source": [
    "optimizer.probe(\n",
    "    params={\"beta_sp\": inv_softplus(6), \n",
    "            \"sigma_sp\": inv_softplus(7),\n",
    "            \"mu_logit\":logit(0.5),\n",
    "            'epsilonIterate_logit': logit(0),\n",
    "            \"muIncr_logit\":logit(0.1),\n",
    "            \"epsilon_sp\":inv_softplus(4.9)},\n",
    "    lazy=False,\n",
    ")"
   ]
  },
  {
   "cell_type": "code",
   "execution_count": 23,
   "metadata": {
    "ExecuteTime": {
     "end_time": "2020-09-03T22:54:10.009085Z",
     "start_time": "2020-09-03T22:11:58.063246Z"
    }
   },
   "outputs": [
    {
     "name": "stdout",
     "output_type": "stream",
     "text": [
      "|   iter    |  target   |  beta_sp  | epsilo... | epsilo... | muIncr... | mu_logit  | sigma_sp  |\n",
      "-------------------------------------------------------------------------------------------------\n",
      "Mu:0.55|Mu+:0.02|Beta:23.00|Sigma:8.00|Epsilon:4.01|EpIter:0.00\n",
      "| \u001b[0m 1       \u001b[0m | \u001b[0m 3.951   \u001b[0m | \u001b[0m 23.17   \u001b[0m | \u001b[0m-35.57   \u001b[0m | \u001b[0m 3.987   \u001b[0m | \u001b[0m-3.87    \u001b[0m | \u001b[0m 0.2034  \u001b[0m | \u001b[0m 8.231   \u001b[0m |\n",
      "Mu:0.64|Mu+:0.04|Beta:12.00|Sigma:35.00|Epsilon:22.24|EpIter:0.00\n",
      "| \u001b[0m 2       \u001b[0m | \u001b[0m 3.951   \u001b[0m | \u001b[0m 12.55   \u001b[0m | \u001b[0m-81.75   \u001b[0m | \u001b[0m 22.24   \u001b[0m | \u001b[0m-3.303   \u001b[0m | \u001b[0m 0.5811  \u001b[0m | \u001b[0m 35.51   \u001b[0m |\n",
      "Mu:0.64|Mu+:0.05|Beta:13.00|Sigma:29.00|Epsilon:5.25|EpIter:0.00\n",
      "| \u001b[0m 3       \u001b[0m | \u001b[0m 3.951   \u001b[0m | \u001b[0m 13.39   \u001b[0m | \u001b[0m-16.12   \u001b[0m | \u001b[0m 5.242   \u001b[0m | \u001b[0m-2.987   \u001b[0m | \u001b[0m 0.5785  \u001b[0m | \u001b[0m 29.69   \u001b[0m |\n",
      "Mu:0.61|Mu+:0.09|Beta:10.00|Sigma:35.00|Epsilon:40.83|EpIter:0.00\n",
      "| \u001b[95m 4       \u001b[0m | \u001b[95m 124.3   \u001b[0m | \u001b[95m 10.44   \u001b[0m | \u001b[95m-99.93   \u001b[0m | \u001b[95m 40.83   \u001b[0m | \u001b[95m-2.273   \u001b[0m | \u001b[95m 0.4345  \u001b[0m | \u001b[95m 35.84   \u001b[0m |\n",
      "Mu:0.56|Mu+:0.01|Beta:44.00|Sigma:44.00|Epsilon:7.90|EpIter:0.00\n",
      "| \u001b[0m 5       \u001b[0m | \u001b[0m 124.3   \u001b[0m | \u001b[0m 44.31   \u001b[0m | \u001b[0m-14.09   \u001b[0m | \u001b[0m 7.895   \u001b[0m | \u001b[0m-4.501   \u001b[0m | \u001b[0m 0.2354  \u001b[0m | \u001b[0m 44.39   \u001b[0m |\n",
      "Mu:0.72|Mu+:0.04|Beta:8.00|Sigma:18.00|Epsilon:48.06|EpIter:0.00\n",
      "| \u001b[0m 6       \u001b[0m | \u001b[0m 3.951   \u001b[0m | \u001b[0m 8.507   \u001b[0m | \u001b[0m-72.44   \u001b[0m | \u001b[0m 48.06   \u001b[0m | \u001b[0m-3.317   \u001b[0m | \u001b[0m 0.9591  \u001b[0m | \u001b[0m 18.5    \u001b[0m |\n",
      "Mu:0.80|Mu+:0.06|Beta:35.00|Sigma:38.00|Epsilon:4.83|EpIter:0.00\n",
      "| \u001b[0m 7       \u001b[0m | \u001b[0m 3.951   \u001b[0m | \u001b[0m 35.57   \u001b[0m | \u001b[0m-21.48   \u001b[0m | \u001b[0m 4.823   \u001b[0m | \u001b[0m-2.796   \u001b[0m | \u001b[0m 1.371   \u001b[0m | \u001b[0m 38.41   \u001b[0m |\n",
      "Mu:0.78|Mu+:0.03|Beta:16.00|Sigma:17.00|Epsilon:8.73|EpIter:0.00\n",
      "| \u001b[0m 8       \u001b[0m | \u001b[0m 3.951   \u001b[0m | \u001b[0m 16.89   \u001b[0m | \u001b[0m-27.07   \u001b[0m | \u001b[0m 8.732   \u001b[0m | \u001b[0m-3.521   \u001b[0m | \u001b[0m 1.26    \u001b[0m | \u001b[0m 17.49   \u001b[0m |\n",
      "Mu:0.57|Mu+:0.05|Beta:17.00|Sigma:16.00|Epsilon:4.88|EpIter:0.00\n",
      "| \u001b[0m 9       \u001b[0m | \u001b[0m 3.951   \u001b[0m | \u001b[0m 17.22   \u001b[0m | \u001b[0m-108.3   \u001b[0m | \u001b[0m 4.873   \u001b[0m | \u001b[0m-2.967   \u001b[0m | \u001b[0m 0.2934  \u001b[0m | \u001b[0m 16.2    \u001b[0m |\n",
      "Mu:0.69|Mu+:0.01|Beta:26.00|Sigma:36.00|Epsilon:30.40|EpIter:0.00\n",
      "| \u001b[0m 10      \u001b[0m | \u001b[0m 3.951   \u001b[0m | \u001b[0m 26.6    \u001b[0m | \u001b[0m-117.8   \u001b[0m | \u001b[0m 30.4    \u001b[0m | \u001b[0m-4.243   \u001b[0m | \u001b[0m 0.817   \u001b[0m | \u001b[0m 36.18   \u001b[0m |\n",
      "Mu:0.55|Mu+:0.04|Beta:29.00|Sigma:33.00|Epsilon:26.02|EpIter:0.00\n",
      "| \u001b[0m 11      \u001b[0m | \u001b[0m 3.296   \u001b[0m | \u001b[0m 29.82   \u001b[0m | \u001b[0m-78.08   \u001b[0m | \u001b[0m 26.02   \u001b[0m | \u001b[0m-3.249   \u001b[0m | \u001b[0m 0.191   \u001b[0m | \u001b[0m 33.64   \u001b[0m |\n",
      "Mu:0.56|Mu+:0.03|Beta:31.00|Sigma:17.00|Epsilon:34.49|EpIter:0.00\n",
      "| \u001b[0m 12      \u001b[0m | \u001b[0m 1.35    \u001b[0m | \u001b[0m 31.49   \u001b[0m | \u001b[0m-85.1    \u001b[0m | \u001b[0m 34.49   \u001b[0m | \u001b[0m-3.52    \u001b[0m | \u001b[0m 0.2387  \u001b[0m | \u001b[0m 17.92   \u001b[0m |\n",
      "Mu:0.58|Mu+:0.07|Beta:45.00|Sigma:12.00|Epsilon:6.70|EpIter:0.00\n",
      "| \u001b[0m 13      \u001b[0m | \u001b[0m 3.951   \u001b[0m | \u001b[0m 45.27   \u001b[0m | \u001b[0m-59.07   \u001b[0m | \u001b[0m 6.696   \u001b[0m | \u001b[0m-2.587   \u001b[0m | \u001b[0m 0.3145  \u001b[0m | \u001b[0m 12.5    \u001b[0m |\n",
      "Mu:0.71|Mu+:0.07|Beta:22.00|Sigma:22.00|Epsilon:37.57|EpIter:0.00\n",
      "| \u001b[0m 14      \u001b[0m | \u001b[0m 3.951   \u001b[0m | \u001b[0m 22.83   \u001b[0m | \u001b[0m-109.3   \u001b[0m | \u001b[0m 37.57   \u001b[0m | \u001b[0m-2.514   \u001b[0m | \u001b[0m 0.919   \u001b[0m | \u001b[0m 22.16   \u001b[0m |\n",
      "Mu:0.50|Mu+:0.09|Beta:46.00|Sigma:24.00|Epsilon:49.39|EpIter:0.00\n",
      "| \u001b[0m 15      \u001b[0m | \u001b[0m 0.8535  \u001b[0m | \u001b[0m 46.17   \u001b[0m | \u001b[0m-112.7   \u001b[0m | \u001b[0m 49.39   \u001b[0m | \u001b[0m-2.324   \u001b[0m | \u001b[0m 0.01848 \u001b[0m | \u001b[0m 24.88   \u001b[0m |\n",
      "Mu:0.75|Mu+:0.05|Beta:35.00|Sigma:5.00|Epsilon:19.13|EpIter:0.00\n",
      "| \u001b[0m 16      \u001b[0m | \u001b[0m 3.951   \u001b[0m | \u001b[0m 35.92   \u001b[0m | \u001b[0m-53.65   \u001b[0m | \u001b[0m 19.13   \u001b[0m | \u001b[0m-2.893   \u001b[0m | \u001b[0m 1.105   \u001b[0m | \u001b[0m 5.379   \u001b[0m |\n",
      "Mu:0.75|Mu+:0.02|Beta:13.00|Sigma:36.00|Epsilon:11.31|EpIter:0.00\n",
      "| \u001b[0m 17      \u001b[0m | \u001b[0m 3.951   \u001b[0m | \u001b[0m 13.27   \u001b[0m | \u001b[0m-88.14   \u001b[0m | \u001b[0m 11.31   \u001b[0m | \u001b[0m-3.923   \u001b[0m | \u001b[0m 1.125   \u001b[0m | \u001b[0m 36.49   \u001b[0m |\n",
      "Mu:0.74|Mu+:0.04|Beta:4.00|Sigma:47.00|Epsilon:27.56|EpIter:0.00\n",
      "| \u001b[0m 18      \u001b[0m | \u001b[0m 3.951   \u001b[0m | \u001b[0m 4.194   \u001b[0m | \u001b[0m-23.16   \u001b[0m | \u001b[0m 27.56   \u001b[0m | \u001b[0m-3.308   \u001b[0m | \u001b[0m 1.024   \u001b[0m | \u001b[0m 47.48   \u001b[0m |\n",
      "Mu:0.76|Mu+:0.02|Beta:5.00|Sigma:23.00|Epsilon:43.72|EpIter:0.00\n",
      "| \u001b[0m 19      \u001b[0m | \u001b[0m 3.951   \u001b[0m | \u001b[0m 5.55    \u001b[0m | \u001b[0m-35.79   \u001b[0m | \u001b[0m 43.72   \u001b[0m | \u001b[0m-3.875   \u001b[0m | \u001b[0m 1.174   \u001b[0m | \u001b[0m 23.4    \u001b[0m |\n",
      "Mu:0.74|Mu+:0.02|Beta:45.00|Sigma:14.00|Epsilon:29.73|EpIter:0.00\n",
      "| \u001b[0m 20      \u001b[0m | \u001b[0m 3.951   \u001b[0m | \u001b[0m 45.31   \u001b[0m | \u001b[0m-113.7   \u001b[0m | \u001b[0m 29.73   \u001b[0m | \u001b[0m-3.984   \u001b[0m | \u001b[0m 1.047   \u001b[0m | \u001b[0m 14.92   \u001b[0m |\n",
      "Mu:0.61|Mu+:0.02|Beta:49.00|Sigma:30.00|Epsilon:18.83|EpIter:0.00\n",
      "| \u001b[0m 21      \u001b[0m | \u001b[0m 124.3   \u001b[0m | \u001b[0m 49.49   \u001b[0m | \u001b[0m-32.41   \u001b[0m | \u001b[0m 18.83   \u001b[0m | \u001b[0m-3.698   \u001b[0m | \u001b[0m 0.4521  \u001b[0m | \u001b[0m 30.71   \u001b[0m |\n",
      "Mu:0.74|Mu+:0.04|Beta:38.00|Sigma:48.00|Epsilon:14.72|EpIter:0.00\n",
      "| \u001b[0m 22      \u001b[0m | \u001b[0m 3.951   \u001b[0m | \u001b[0m 38.88   \u001b[0m | \u001b[0m-99.23   \u001b[0m | \u001b[0m 14.72   \u001b[0m | \u001b[0m-3.192   \u001b[0m | \u001b[0m 1.063   \u001b[0m | \u001b[0m 48.43   \u001b[0m |\n",
      "Mu:0.75|Mu+:0.07|Beta:44.00|Sigma:37.00|Epsilon:21.86|EpIter:0.11\n",
      "| \u001b[0m 23      \u001b[0m | \u001b[0m 3.951   \u001b[0m | \u001b[0m 44.2    \u001b[0m | \u001b[0m-2.056   \u001b[0m | \u001b[0m 21.86   \u001b[0m | \u001b[0m-2.526   \u001b[0m | \u001b[0m 1.097   \u001b[0m | \u001b[0m 37.34   \u001b[0m |\n",
      "Mu:0.67|Mu+:0.03|Beta:49.00|Sigma:30.00|Epsilon:16.01|EpIter:0.00\n",
      "| \u001b[0m 24      \u001b[0m | \u001b[0m 3.951   \u001b[0m | \u001b[0m 49.79   \u001b[0m | \u001b[0m-33.4    \u001b[0m | \u001b[0m 16.01   \u001b[0m | \u001b[0m-3.472   \u001b[0m | \u001b[0m 0.7143  \u001b[0m | \u001b[0m 30.3    \u001b[0m |\n",
      "Mu:0.65|Mu+:0.06|Beta:29.00|Sigma:34.00|Epsilon:37.34|EpIter:0.00\n",
      "| \u001b[0m 25      \u001b[0m | \u001b[0m 3.951   \u001b[0m | \u001b[0m 29.76   \u001b[0m | \u001b[0m-51.68   \u001b[0m | \u001b[0m 37.34   \u001b[0m | \u001b[0m-2.776   \u001b[0m | \u001b[0m 0.6054  \u001b[0m | \u001b[0m 34.37   \u001b[0m |\n",
      "Mu:0.60|Mu+:0.05|Beta:7.00|Sigma:32.00|Epsilon:35.78|EpIter:0.00\n",
      "| \u001b[0m 26      \u001b[0m | \u001b[0m 124.3   \u001b[0m | \u001b[0m 7.497   \u001b[0m | \u001b[0m-41.71   \u001b[0m | \u001b[0m 35.78   \u001b[0m | \u001b[0m-2.951   \u001b[0m | \u001b[0m 0.388   \u001b[0m | \u001b[0m 32.38   \u001b[0m |\n",
      "Mu:0.53|Mu+:0.07|Beta:42.00|Sigma:38.00|Epsilon:5.79|EpIter:0.00\n",
      "| \u001b[0m 27      \u001b[0m | \u001b[0m 3.951   \u001b[0m | \u001b[0m 42.25   \u001b[0m | \u001b[0m-123.4   \u001b[0m | \u001b[0m 5.785   \u001b[0m | \u001b[0m-2.658   \u001b[0m | \u001b[0m 0.1253  \u001b[0m | \u001b[0m 38.79   \u001b[0m |\n",
      "Mu:0.60|Mu+:0.01|Beta:8.00|Sigma:9.00|Epsilon:25.28|EpIter:0.13\n",
      "| \u001b[0m 28      \u001b[0m | \u001b[0m 124.3   \u001b[0m | \u001b[0m 8.24    \u001b[0m | \u001b[0m-1.878   \u001b[0m | \u001b[0m 25.28   \u001b[0m | \u001b[0m-4.261   \u001b[0m | \u001b[0m 0.4099  \u001b[0m | \u001b[0m 9.343   \u001b[0m |\n",
      "Mu:0.61|Mu+:0.01|Beta:11.00|Sigma:33.00|Epsilon:46.03|EpIter:0.00\n",
      "| \u001b[0m 29      \u001b[0m | \u001b[0m 124.3   \u001b[0m | \u001b[0m 11.16   \u001b[0m | \u001b[0m-116.2   \u001b[0m | \u001b[0m 46.03   \u001b[0m | \u001b[0m-4.36    \u001b[0m | \u001b[0m 0.4321  \u001b[0m | \u001b[0m 33.46   \u001b[0m |\n",
      "Mu:0.77|Mu+:0.10|Beta:22.00|Sigma:15.00|Epsilon:43.40|EpIter:0.00\n",
      "| \u001b[0m 30      \u001b[0m | \u001b[0m 3.951   \u001b[0m | \u001b[0m 22.65   \u001b[0m | \u001b[0m-33.99   \u001b[0m | \u001b[0m 43.4    \u001b[0m | \u001b[0m-2.219   \u001b[0m | \u001b[0m 1.185   \u001b[0m | \u001b[0m 15.47   \u001b[0m |\n",
      "=================================================================================================\n"
     ]
    }
   ],
   "source": [
    "optimizer.maximize(\n",
    "    init_points=10,\n",
    "    n_iter=20,\n",
    ")"
   ]
  },
  {
   "cell_type": "code",
   "execution_count": 24,
   "metadata": {},
   "outputs": [
    {
     "data": {
      "text/plain": [
       "{'target': 124.33959502167846,\n",
       " 'params': {'beta_sp': 10.441908843843319,\n",
       "  'epsilonIterate_logit': -99.92537282598528,\n",
       "  'epsilon_sp': 40.83056683339417,\n",
       "  'muIncr_logit': -2.2733299948847447,\n",
       "  'mu_logit': 0.4344981708207944,\n",
       "  'sigma_sp': 35.84115276686087}}"
      ]
     },
     "execution_count": 24,
     "metadata": {},
     "output_type": "execute_result"
    }
   ],
   "source": [
    "optimizer.max"
   ]
  },
  {
   "cell_type": "code",
   "execution_count": 25,
   "metadata": {
    "ExecuteTime": {
     "end_time": "2020-09-03T22:58:42.653746Z",
     "start_time": "2020-09-03T22:58:42.649916Z"
    }
   },
   "outputs": [
    {
     "data": {
      "text/plain": [
       "1.0"
      ]
     },
     "execution_count": 25,
     "metadata": {},
     "output_type": "execute_result"
    }
   ],
   "source": [
    "inv_logit(optimizer.max[\"target\"])"
   ]
  },
  {
   "cell_type": "code",
   "execution_count": 26,
   "metadata": {
    "ExecuteTime": {
     "end_time": "2020-09-03T22:59:56.414823Z",
     "start_time": "2020-09-03T22:59:56.412477Z"
    }
   },
   "outputs": [],
   "source": [
    "params=optimizer.max[\"params\"]"
   ]
  },
  {
   "cell_type": "code",
   "execution_count": 27,
   "metadata": {
    "ExecuteTime": {
     "end_time": "2020-09-03T23:00:39.452694Z",
     "start_time": "2020-09-03T23:00:39.449279Z"
    }
   },
   "outputs": [
    {
     "data": {
      "text/plain": [
       "10.441938026865925"
      ]
     },
     "execution_count": 27,
     "metadata": {},
     "output_type": "execute_result"
    }
   ],
   "source": [
    "softplus(params[\"beta_sp\"])"
   ]
  },
  {
   "cell_type": "code",
   "execution_count": 28,
   "metadata": {
    "ExecuteTime": {
     "end_time": "2020-09-03T23:01:09.671719Z",
     "start_time": "2020-09-03T23:01:09.668333Z"
    }
   },
   "outputs": [
    {
     "data": {
      "text/plain": [
       "35.84115276686087"
      ]
     },
     "execution_count": 28,
     "metadata": {},
     "output_type": "execute_result"
    }
   ],
   "source": [
    "softplus(params[\"sigma_sp\"])"
   ]
  },
  {
   "cell_type": "code",
   "execution_count": 29,
   "metadata": {
    "ExecuteTime": {
     "end_time": "2020-09-04T01:35:00.233453Z",
     "start_time": "2020-09-04T01:35:00.230360Z"
    }
   },
   "outputs": [
    {
     "data": {
      "text/plain": [
       "0.6069472769858874"
      ]
     },
     "execution_count": 29,
     "metadata": {},
     "output_type": "execute_result"
    }
   ],
   "source": [
    "inv_logit(params[\"mu_logit\"])"
   ]
  },
  {
   "cell_type": "code",
   "execution_count": 30,
   "metadata": {
    "ExecuteTime": {
     "end_time": "2020-09-04T01:35:28.881809Z",
     "start_time": "2020-09-04T01:35:28.878641Z"
    }
   },
   "outputs": [
    {
     "data": {
      "text/plain": [
       "0.09335597742343671"
      ]
     },
     "execution_count": 30,
     "metadata": {},
     "output_type": "execute_result"
    }
   ],
   "source": [
    "inv_logit(params[\"muIncr_logit\"])"
   ]
  },
  {
   "cell_type": "code",
   "execution_count": 31,
   "metadata": {
    "ExecuteTime": {
     "end_time": "2020-09-04T01:36:46.943597Z",
     "start_time": "2020-09-04T01:36:46.940247Z"
    }
   },
   "outputs": [
    {
     "data": {
      "text/plain": [
       "4.0083162513727074e-44"
      ]
     },
     "execution_count": 31,
     "metadata": {},
     "output_type": "execute_result"
    }
   ],
   "source": [
    "inv_logit(params[\"epsilonIterate_logit\"])"
   ]
  },
  {
   "cell_type": "code",
   "execution_count": 32,
   "metadata": {
    "ExecuteTime": {
     "end_time": "2020-09-04T01:36:13.729976Z",
     "start_time": "2020-09-04T01:36:13.726798Z"
    }
   },
   "outputs": [
    {
     "data": {
      "text/plain": [
       "40.83056683339417"
      ]
     },
     "execution_count": 32,
     "metadata": {},
     "output_type": "execute_result"
    }
   ],
   "source": [
    "softplus(params[\"epsilon_sp\"])"
   ]
  },
  {
   "cell_type": "code",
   "execution_count": 42,
   "metadata": {},
   "outputs": [
    {
     "name": "stdout",
     "output_type": "stream",
     "text": [
      "\n",
      ">>>>>>>>>>>>\n",
      "Starting Iteration mu= 0.606\n",
      "Starting Iteration epsilon= 40.83\n",
      "Running NewMatrix Jar!\n",
      " Single-Reference Blocks = 1\n",
      "\n",
      " Multi-Reference Blocks = 114\n",
      "NewMatrix Iterateblocks Total Time = 0.25424656458199024\n",
      "\n",
      "Precision = TP / (TP + FP) ......................... = 1.00000000\n",
      "Recall = TP / (TP + FN) ............................ = 1.00000000\n",
      "F-Measure .......................................... = 1.00000000\n"
     ]
    },
    {
     "data": {
      "text/plain": [
       "1.0"
      ]
     },
     "execution_count": 42,
     "metadata": {},
     "output_type": "execute_result"
    }
   ],
   "source": [
    "entropy_F1(mu=0.606,\n",
    "           muIncr=0.0933,\n",
    "           beta=10,\n",
    "           sigma=35,\n",
    "           epsilon=40.83,\n",
    "           epsilonIterate=0)"
   ]
  }
 ],
 "metadata": {
  "kernelspec": {
   "display_name": "Python 3",
   "language": "python",
   "name": "python3"
  },
  "language_info": {
   "codemirror_mode": {
    "name": "ipython",
    "version": 3
   },
   "file_extension": ".py",
   "mimetype": "text/x-python",
   "name": "python",
   "nbconvert_exporter": "python",
   "pygments_lexer": "ipython3",
   "version": "3.7.4"
  },
  "toc": {
   "base_numbering": 1,
   "nav_menu": {},
   "number_sections": true,
   "sideBar": true,
   "skip_h1_title": false,
   "title_cell": "Table of Contents",
   "title_sidebar": "Contents",
   "toc_cell": false,
   "toc_position": {},
   "toc_section_display": true,
   "toc_window_display": false
  },
  "varInspector": {
   "cols": {
    "lenName": 16,
    "lenType": 16,
    "lenVar": 40
   },
   "kernels_config": {
    "python": {
     "delete_cmd_postfix": "",
     "delete_cmd_prefix": "del ",
     "library": "var_list.py",
     "varRefreshCmd": "print(var_dic_list())"
    },
    "r": {
     "delete_cmd_postfix": ") ",
     "delete_cmd_prefix": "rm(",
     "library": "var_list.r",
     "varRefreshCmd": "cat(var_dic_list()) "
    }
   },
   "types_to_exclude": [
    "module",
    "function",
    "builtin_function_or_method",
    "instance",
    "_Feature"
   ],
   "window_display": false
  }
 },
 "nbformat": 4,
 "nbformat_minor": 2
}
