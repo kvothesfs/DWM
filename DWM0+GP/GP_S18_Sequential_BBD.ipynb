{
 "cells": [
  {
   "cell_type": "code",
   "execution_count": 1,
   "metadata": {
    "ExecuteTime": {
     "end_time": "2020-09-03T21:59:20.041891Z",
     "start_time": "2020-09-03T21:59:10.621897Z"
    }
   },
   "outputs": [
    {
     "name": "stdout",
     "output_type": "stream",
     "text": [
      "Tokenizing References\n",
      "Total References= 10000\n",
      "Total Tokens Found = 130023\n",
      "Total Tokens Output = 127367\n",
      "Dictionary Load = 67077\n",
      "<class 'dict'>\n",
      "Global Replace Cycle\n",
      "Total References= 10000\n",
      "Total Tokens= 127367\n",
      "Unique Tokens= 20063\n",
      "Minimum Frequency of Standard Token =  5\n",
      "Minimum Length of Standard Token =  5\n",
      "Maximum Frequency of Error Token =  3\n",
      "References Processed= 10000\n",
      "Sorted Token Size = 20063\n",
      "Clean Token Size = 7551\n",
      "*Stop Replacements here\n",
      "References Processed =  10000\n",
      "Total Replacement Pairs = 2321\n",
      "Tokens Read = 127367\n",
      "Tokens Changed =  2717\n",
      "References Changed = 2470\n"
     ]
    }
   ],
   "source": [
    "import DWM1_Tokenizer\n",
    "import DWM2_Global_Token_Replace_NewDict\n",
    "import DWM3_Entropy_Cluster\n",
    "# Settings for Tokenizer\n",
    "inputSampleName = r'S18'\n",
    "delimiter=','\n",
    "hasHeader = True\n",
    "tokenizerType = 'Splitter'\n",
    "removeDuplicateTokens = True\n",
    "\n",
    "# Setting for global replacement DWM2\n",
    "runReplacement = True\n",
    "minFreqStdToken = 5\n",
    "minLenStdToken = 5 #From 3 to 5 as in paper\n",
    "maxFreqErrToken = 3\n",
    "\n",
    "# Cluster Settings\n",
    "\n",
    "\n",
    "DWM1_Tokenizer.tokenizeCycle(inputSampleName, delimiter, hasHeader, removeDuplicateTokens, tokenizerType)\n",
    "prefixString = inputSampleName +','+tokenizerType+','+str(removeDuplicateTokens)\n",
    "fileToCluster = inputSampleName + '-Tokenized.txt'\n",
    "if runReplacement:\n",
    "    DWM2_Global_Token_Replace_NewDict.globalReplace(inputSampleName, minFreqStdToken, minLenStdToken, maxFreqErrToken)\n",
    "    fileToCluster = inputSampleName + '-TokenReplace.txt'\n",
    "    prefixString = prefixString+','+str(minFreqStdToken)+','+str(minLenStdToken)+','+str(maxFreqErrToken)\n",
    "else:\n",
    "    prefixString = prefixString+',0,0,0'\n",
    "\n",
    "# Cluster fixed settings\n",
    "epsilonIterate = 0.0\n",
    "runClusterMetrics = False\n",
    "runFinalMetrics = True\n",
    "createFinalJoin = False"
   ]
  },
  {
   "cell_type": "code",
   "execution_count": 2,
   "metadata": {},
   "outputs": [],
   "source": [
    "status=\"done\""
   ]
  },
  {
   "cell_type": "code",
   "execution_count": 3,
   "metadata": {},
   "outputs": [
    {
     "name": "stdout",
     "output_type": "stream",
     "text": [
      "done\n"
     ]
    }
   ],
   "source": [
    "print(status)"
   ]
  },
  {
   "cell_type": "code",
   "execution_count": 4,
   "metadata": {
    "ExecuteTime": {
     "end_time": "2020-09-03T15:11:39.765508Z",
     "start_time": "2020-09-03T15:03:19.495876Z"
    },
    "scrolled": false
   },
   "outputs": [],
   "source": [
    "# # Cluster Robot Settings\n",
    "# muStart = 0.60\n",
    "# muEnd = 0.60\n",
    "# muIncr = 0.05\n",
    "# betaStart = 14\n",
    "# betaEnd = 14\n",
    "# betaIncr = 1\n",
    "# sigmaStart = 145\n",
    "# sigmaEnd = 145\n",
    "# sigmaIncr = 1\n",
    "# epsilonStart = 35\n",
    "# epsilonEnd = 35\n",
    "# epsilonIncr = 1\n",
    "# mu = muStart\n",
    "# while mu <= muEnd:\n",
    "#     beta = betaStart\n",
    "#     while beta <= betaEnd:\n",
    "#         sigma = sigmaStart\n",
    "#         while sigma <= sigmaEnd:\n",
    "#             epsilon = epsilonStart\n",
    "#             while epsilon <= epsilonEnd:\n",
    "#                 suffixString =','+str(epsilon)+','+str(epsilonIterate)\n",
    "#                 resultsList = DWM3_Entropy_Cluster.driver(fileToCluster, beta, sigma, mu, muIncr,epsilon,  \\\n",
    "#                                                      epsilonIterate,runClusterMetrics, runFinalMetrics, createFinalJoin, hasHeader)\n",
    "#                 seg0a = ','+str(resultsList[0])+','+str(resultsList[1])+','+str(resultsList[2])+','+str(resultsList[3])\n",
    "#                 seg0b =','+str(resultsList[4])+','+str(resultsList[5])+','+str(resultsList[6])\n",
    "#                 seg1 = ','+str(beta)+','+str(sigma)+','+str(mu)+ ',' +str(muIncr)\n",
    "#                 seg2 = ','+str(resultsList[7])+','+str(resultsList[8])+','+str(resultsList[9])\n",
    "#                 outString = prefixString+seg0a+seg0b+suffixString+seg1+seg2+'\\n'\n",
    "#                 resultsFile = open('RobotResults.txt','a+')\n",
    "#                 resultsFile.write(outString)\n",
    "#                 resultsFile.close()\n",
    "#                 epsilon = epsilon + epsilonIncr\n",
    "#             sigma = sigma + sigmaIncr\n",
    "#         beta = beta + betaIncr\n",
    "#     mu = mu + muIncr\n",
    "\n",
    "\n",
    " "
   ]
  },
  {
   "cell_type": "markdown",
   "metadata": {
    "ExecuteTime": {
     "end_time": "2020-09-03T16:36:26.229783Z",
     "start_time": "2020-09-03T16:36:26.227755Z"
    }
   },
   "source": [
    "## Bayesian Optimization of Hyperparameters"
   ]
  },
  {
   "cell_type": "code",
   "execution_count": 5,
   "metadata": {},
   "outputs": [],
   "source": [
    "import numpy as np"
   ]
  },
  {
   "cell_type": "markdown",
   "metadata": {
    "ExecuteTime": {
     "end_time": "2020-09-03T16:36:47.947518Z",
     "start_time": "2020-09-03T16:36:47.944251Z"
    }
   },
   "source": [
    "Create a function of the parameters that returns the F score"
   ]
  },
  {
   "cell_type": "code",
   "execution_count": 6,
   "metadata": {
    "ExecuteTime": {
     "end_time": "2020-09-03T21:59:42.561300Z",
     "start_time": "2020-09-03T21:59:42.557193Z"
    }
   },
   "outputs": [],
   "source": [
    "def entropy_F1(beta=14,sigma=145,mu=0.6,muIncr=0.05,epsilon=35,epsilonIterate=0):\n",
    "    resultsList = DWM3_Entropy_Cluster.driver(fileToCluster, \n",
    "                                  beta, \n",
    "                                  sigma, \n",
    "                                  mu, \n",
    "                                  muIncr,\n",
    "                                  epsilon,\n",
    "                                  epsilonIterate,\n",
    "                                  runClusterMetrics, \n",
    "                                  runFinalMetrics, \n",
    "                                  createFinalJoin, \n",
    "                                  hasHeader)\n",
    "    return resultsList[9]"
   ]
  },
  {
   "cell_type": "code",
   "execution_count": 7,
   "metadata": {
    "ExecuteTime": {
     "end_time": "2020-09-03T22:06:32.164588Z",
     "start_time": "2020-09-03T21:59:43.696518Z"
    }
   },
   "outputs": [
    {
     "name": "stdout",
     "output_type": "stream",
     "text": [
      "\n",
      ">>>>>>>>>>>>\n",
      "Starting Iteration mu= 0.5\n",
      "Starting Iteration epsilon= 31.8\n",
      "Running NewMatrix Jar!\n",
      " Single-Reference Blocks = 1\n",
      "\n",
      " Multi-Reference Blocks = 10202\n",
      "NewMatrix Iterateblocks Total Time = 11.025781663134694\n",
      "\n",
      "\n",
      ">>>>>>>>>>>>\n",
      "Starting Iteration mu= 0.55\n",
      "Starting Iteration epsilon= 31.8\n",
      "Running NewMatrix Jar!\n",
      " Single-Reference Blocks = 1\n",
      "\n",
      " Multi-Reference Blocks = 9561\n",
      "NewMatrix Iterateblocks Total Time = 11.452074885368347\n",
      "\n",
      "\n",
      ">>>>>>>>>>>>\n",
      "Starting Iteration mu= 0.6000000000000001\n",
      "Starting Iteration epsilon= 31.8\n",
      "Running NewMatrix Jar!\n",
      " Single-Reference Blocks = 1\n",
      "\n",
      " Multi-Reference Blocks = 8200\n",
      "NewMatrix Iterateblocks Total Time = 9.04804590344429\n",
      "\n",
      "\n",
      ">>>>>>>>>>>>\n",
      "Starting Iteration mu= 0.6500000000000001\n",
      "Starting Iteration epsilon= 31.8\n",
      "Running NewMatrix Jar!\n",
      " Single-Reference Blocks = 1\n",
      "\n",
      " Multi-Reference Blocks = 5203\n",
      "NewMatrix Iterateblocks Total Time = 5.531879342161119\n",
      "\n",
      "\n",
      ">>>>>>>>>>>>\n",
      "Starting Iteration mu= 0.7000000000000002\n",
      "Starting Iteration epsilon= 31.8\n",
      "Running NewMatrix Jar!\n",
      " Single-Reference Blocks = 1\n",
      "\n",
      " Multi-Reference Blocks = 2539\n",
      "NewMatrix Iterateblocks Total Time = 3.195155942812562\n",
      "\n",
      "\n",
      ">>>>>>>>>>>>\n",
      "Starting Iteration mu= 0.7500000000000002\n",
      "Starting Iteration epsilon= 31.8\n",
      "Running NewMatrix Jar!\n",
      " Single-Reference Blocks = 1\n",
      "\n",
      " Multi-Reference Blocks = 802\n",
      "NewMatrix Iterateblocks Total Time = 1.2787093296647072\n",
      "\n",
      "Precision = TP / (TP + FP) ......................... = 0.70034616\n",
      "Recall = TP / (TP + FN) ............................ = 0.75261006\n",
      "F-Measure .......................................... = 0.72553812\n"
     ]
    },
    {
     "data": {
      "text/plain": [
       "0.72553812"
      ]
     },
     "execution_count": 7,
     "metadata": {},
     "output_type": "execute_result"
    }
   ],
   "source": [
    "entropy_F1(mu=0.5,muIncr=0.05,beta=33,sigma=449,epsilon=31.8,epsilonIterate=0)"
   ]
  },
  {
   "cell_type": "markdown",
   "metadata": {},
   "source": [
    "Create functions for variable transformation."
   ]
  },
  {
   "cell_type": "code",
   "execution_count": 8,
   "metadata": {
    "ExecuteTime": {
     "end_time": "2020-09-03T22:08:18.856511Z",
     "start_time": "2020-09-03T22:08:18.853611Z"
    }
   },
   "outputs": [],
   "source": [
    "#Softplus to transform real domain into positive\n",
    "def softplus(x):\n",
    "    return np.log(1+np.exp(x))\n",
    "\n",
    "def inv_softplus(x):\n",
    "    return np.log(np.exp(x)-1)"
   ]
  },
  {
   "cell_type": "code",
   "execution_count": 9,
   "metadata": {
    "ExecuteTime": {
     "end_time": "2020-09-03T22:08:27.349548Z",
     "start_time": "2020-09-03T22:08:27.345752Z"
    }
   },
   "outputs": [
    {
     "data": {
      "text/plain": [
       "0.541324854612918"
      ]
     },
     "execution_count": 9,
     "metadata": {},
     "output_type": "execute_result"
    }
   ],
   "source": [
    "inv_softplus(1)"
   ]
  },
  {
   "cell_type": "code",
   "execution_count": 10,
   "metadata": {
    "ExecuteTime": {
     "end_time": "2020-09-03T22:11:24.939913Z",
     "start_time": "2020-09-03T22:11:24.936639Z"
    }
   },
   "outputs": [],
   "source": [
    "#Logit to transform real domain into 0-1\n",
    "def logit(x):    \n",
    "    return np.log(x+1e-54)-np.log(1-x+1e-54)\n",
    "\n",
    "def inv_logit(x):\n",
    "    res=np.exp(x)/(np.exp(x)+1)-2*1e-54\n",
    "    if res<1e-54:\n",
    "        res=0\n",
    "    return res"
   ]
  },
  {
   "cell_type": "markdown",
   "metadata": {},
   "source": [
    "Import BO library:"
   ]
  },
  {
   "cell_type": "code",
   "execution_count": 11,
   "metadata": {
    "ExecuteTime": {
     "end_time": "2020-09-03T22:08:30.622144Z",
     "start_time": "2020-09-03T22:08:30.226842Z"
    }
   },
   "outputs": [],
   "source": [
    "from bayes_opt import BayesianOptimization"
   ]
  },
  {
   "cell_type": "markdown",
   "metadata": {
    "ExecuteTime": {
     "end_time": "2020-09-03T18:14:39.927785Z",
     "start_time": "2020-09-03T18:14:39.924909Z"
    }
   },
   "source": [
    "Create dictionary bounds for the parameters:"
   ]
  },
  {
   "cell_type": "code",
   "execution_count": 12,
   "metadata": {},
   "outputs": [],
   "source": [
    "import os, sys"
   ]
  },
  {
   "cell_type": "code",
   "execution_count": 14,
   "metadata": {},
   "outputs": [],
   "source": [
    "class HiddenPrints:\n",
    "    def __enter__(self):\n",
    "        self._original_stdout = sys.stdout\n",
    "        sys.stdout = open(os.devnull, 'w')\n",
    "\n",
    "    def __exit__(self, exc_type, exc_val, exc_tb):\n",
    "        sys.stdout.close()\n",
    "        sys.stdout = self._original_stdout"
   ]
  },
  {
   "cell_type": "code",
   "execution_count": 15,
   "metadata": {},
   "outputs": [
    {
     "name": "stdout",
     "output_type": "stream",
     "text": [
      "This will be printed as before\n"
     ]
    }
   ],
   "source": [
    "with HiddenPrints():\n",
    "    print(\"This will not be printed\")\n",
    "\n",
    "print(\"This will be printed as before\")"
   ]
  },
  {
   "cell_type": "code",
   "execution_count": 16,
   "metadata": {
    "ExecuteTime": {
     "end_time": "2020-09-03T22:11:53.005154Z",
     "start_time": "2020-09-03T22:11:53.000238Z"
    }
   },
   "outputs": [],
   "source": [
    "#Take parameters in transformed space and return f score in transformed space\n",
    "def entropy_F1_trx(beta_sp,sigma_sp,mu_logit,muIncr_logit,epsilon_sp,epsilonIterate_logit=logit(0)):\n",
    "    beta_pos=int(softplus(beta_sp))\n",
    "    sigma_pos=int(softplus(sigma_sp))\n",
    "    mu_01=inv_logit(mu_logit)\n",
    "    muIncr_01=inv_logit(muIncr_logit)\n",
    "    epsilon_pos=softplus(epsilon_sp)\n",
    "    epsilonIterate_01=inv_logit(epsilonIterate_logit)\n",
    "    \n",
    "    print(\"Mu:%.2f|Mu+:%.2f|Beta:%.2f|Sigma:%.2f|Epsilon:%.2f|EpIter:%.2f\" % (mu_01, muIncr_01, beta_pos, sigma_pos, epsilon_pos, epsilonIterate_01))\n",
    "    \n",
    "    with HiddenPrints():\n",
    "        f1=entropy_F1(beta=beta_pos,\n",
    "                      epsilon=epsilon_pos,\n",
    "                      epsilonIterate=epsilonIterate_01,\n",
    "                      muIncr=muIncr_01,\n",
    "                      sigma=sigma_pos,\n",
    "                      mu=mu_01)\n",
    "    \n",
    "    return logit(f1)"
   ]
  },
  {
   "cell_type": "code",
   "execution_count": 16,
   "metadata": {},
   "outputs": [
    {
     "name": "stdout",
     "output_type": "stream",
     "text": [
      "Mu:0.50|Mu+:0.05|Beta:33.00|Sigma:449.00|Epsilon:31.80|EpIter:0.00\n"
     ]
    },
    {
     "data": {
      "text/plain": [
       "0.9669684330973831"
      ]
     },
     "execution_count": 16,
     "metadata": {},
     "output_type": "execute_result"
    }
   ],
   "source": [
    "entropy_F1_trx(beta_sp=inv_softplus(33),\n",
    "               sigma_sp=inv_softplus(449),\n",
    "               mu_logit=logit(0.5),\n",
    "               muIncr_logit=logit(0.05),\n",
    "               epsilon_sp=inv_softplus(31.8))"
   ]
  },
  {
   "cell_type": "markdown",
   "metadata": {},
   "source": [
    "Bounds for experiment"
   ]
  },
  {
   "cell_type": "code",
   "execution_count": 94,
   "metadata": {},
   "outputs": [],
   "source": [
    "beta_levels=(1,350,700)\n",
    "sigma_levels=(1,350,700)\n",
    "mu_levels=(0.5,0.75,0.99)\n",
    "muIncr_levels=(0.01,0.1,0.2)\n",
    "epsilon_levels=(1,350,700)"
   ]
  },
  {
   "cell_type": "code",
   "execution_count": 137,
   "metadata": {},
   "outputs": [],
   "source": [
    "optimizer=None"
   ]
  },
  {
   "cell_type": "code",
   "execution_count": 138,
   "metadata": {
    "ExecuteTime": {
     "end_time": "2020-09-03T22:11:50.787503Z",
     "start_time": "2020-09-03T22:11:50.784060Z"
    }
   },
   "outputs": [],
   "source": [
    "pbounds = {'beta_sp': (inv_softplus(beta_levels[0]), inv_softplus(beta_levels[2])), \n",
    "           'sigma_sp': (inv_softplus(sigma_levels[0]), inv_softplus(sigma_levels[2])),\n",
    "           'mu_logit': (logit(mu_levels[0]), logit(mu_levels[2])),\n",
    "           'muIncr_logit': (logit(muIncr_levels[0]), logit(muIncr_levels[2])),\n",
    "           'epsilon_sp': (inv_softplus(epsilon_levels[0]), inv_softplus(epsilon_levels[2]))}#,\n",
    "           #'epsilonIterate_logit': (logit(0), logit(0.25))}"
   ]
  },
  {
   "cell_type": "code",
   "execution_count": 139,
   "metadata": {},
   "outputs": [],
   "source": [
    "from bayes_opt import SequentialDomainReductionTransformer"
   ]
  },
  {
   "cell_type": "code",
   "execution_count": 140,
   "metadata": {},
   "outputs": [],
   "source": [
    "bounds_transformer = SequentialDomainReductionTransformer()"
   ]
  },
  {
   "cell_type": "code",
   "execution_count": 141,
   "metadata": {
    "ExecuteTime": {
     "end_time": "2020-09-03T22:11:56.728829Z",
     "start_time": "2020-09-03T22:11:56.725599Z"
    }
   },
   "outputs": [],
   "source": [
    "optimizer = BayesianOptimization(\n",
    "    f=entropy_F1_trx,\n",
    "    pbounds=pbounds,\n",
    "    random_state=1#,\n",
    "    #bounds_transformer=bounds_transformer\n",
    ")"
   ]
  },
  {
   "cell_type": "code",
   "execution_count": 142,
   "metadata": {},
   "outputs": [],
   "source": [
    "import pyDOE2"
   ]
  },
  {
   "cell_type": "code",
   "execution_count": 143,
   "metadata": {},
   "outputs": [],
   "source": [
    "levels = [3, 3, 3, 3, 3]"
   ]
  },
  {
   "cell_type": "code",
   "execution_count": 144,
   "metadata": {},
   "outputs": [],
   "source": [
    "gsd_design=pyDOE2.gsd(levels=levels,reduction=5)"
   ]
  },
  {
   "cell_type": "code",
   "execution_count": 145,
   "metadata": {},
   "outputs": [],
   "source": [
    "for exp in gsd_design:\n",
    "    optimizer.probe(\n",
    "        params={\"beta_sp\": inv_softplus(beta_levels[exp[0]]), \n",
    "                \"sigma_sp\": inv_softplus(sigma_levels[exp[1]]),\n",
    "                \"mu_logit\":logit(mu_levels[exp[2]]),\n",
    "                #'epsilonIterate_logit': logit(0),\n",
    "                \"muIncr_logit\":logit(muIncr_levels[exp[3]]),\n",
    "                \"epsilon_sp\":inv_softplus(epsilon_levels[exp[4]])},\n",
    "        lazy=True,\n",
    "    )"
   ]
  },
  {
   "cell_type": "code",
   "execution_count": 146,
   "metadata": {
    "ExecuteTime": {
     "end_time": "2020-09-03T22:54:10.009085Z",
     "start_time": "2020-09-03T22:11:58.063246Z"
    }
   },
   "outputs": [
    {
     "name": "stdout",
     "output_type": "stream",
     "text": [
      "|   iter    |  target   |  beta_sp  | epsilo... | muIncr... | mu_logit  | sigma_sp  |\n",
      "-------------------------------------------------------------------------------------\n",
      "Mu:0.50|Mu+:0.01|Beta:1.00|Sigma:1.00|Epsilon:1.00|EpIter:0.00\n",
      "| \u001b[0m 1       \u001b[0m | \u001b[0m-124.3   \u001b[0m | \u001b[0m 0.5413  \u001b[0m | \u001b[0m 0.5413  \u001b[0m | \u001b[0m-4.595   \u001b[0m | \u001b[0m 0.0     \u001b[0m | \u001b[0m 0.5413  \u001b[0m |\n",
      "Mu:0.50|Mu+:0.10|Beta:1.00|Sigma:1.00|Epsilon:350.00|EpIter:0.00\n",
      "| \u001b[0m 2       \u001b[0m | \u001b[0m-124.3   \u001b[0m | \u001b[0m 0.5413  \u001b[0m | \u001b[0m 350.0   \u001b[0m | \u001b[0m-2.197   \u001b[0m | \u001b[0m 0.0     \u001b[0m | \u001b[0m 0.5413  \u001b[0m |\n",
      "Mu:0.50|Mu+:0.20|Beta:1.00|Sigma:1.00|Epsilon:700.00|EpIter:0.00\n",
      "| \u001b[0m 3       \u001b[0m | \u001b[0m-124.3   \u001b[0m | \u001b[0m 0.5413  \u001b[0m | \u001b[0m 700.0   \u001b[0m | \u001b[0m-1.386   \u001b[0m | \u001b[0m 0.0     \u001b[0m | \u001b[0m 0.5413  \u001b[0m |\n",
      "Mu:0.75|Mu+:0.01|Beta:1.00|Sigma:1.00|Epsilon:350.00|EpIter:0.00\n",
      "| \u001b[0m 4       \u001b[0m | \u001b[0m-124.3   \u001b[0m | \u001b[0m 0.5413  \u001b[0m | \u001b[0m 350.0   \u001b[0m | \u001b[0m-4.595   \u001b[0m | \u001b[0m 1.099   \u001b[0m | \u001b[0m 0.5413  \u001b[0m |\n",
      "Mu:0.75|Mu+:0.10|Beta:1.00|Sigma:1.00|Epsilon:700.00|EpIter:0.00\n",
      "| \u001b[0m 5       \u001b[0m | \u001b[0m-124.3   \u001b[0m | \u001b[0m 0.5413  \u001b[0m | \u001b[0m 700.0   \u001b[0m | \u001b[0m-2.197   \u001b[0m | \u001b[0m 1.099   \u001b[0m | \u001b[0m 0.5413  \u001b[0m |\n",
      "Mu:0.99|Mu+:0.01|Beta:1.00|Sigma:1.00|Epsilon:700.00|EpIter:0.00\n",
      "| \u001b[0m 6       \u001b[0m | \u001b[0m-124.3   \u001b[0m | \u001b[0m 0.5413  \u001b[0m | \u001b[0m 700.0   \u001b[0m | \u001b[0m-4.595   \u001b[0m | \u001b[0m 4.595   \u001b[0m | \u001b[0m 0.5413  \u001b[0m |\n",
      "Mu:0.50|Mu+:0.01|Beta:1.00|Sigma:350.00|Epsilon:350.00|EpIter:0.00\n",
      "| \u001b[0m 7       \u001b[0m | \u001b[0m-124.3   \u001b[0m | \u001b[0m 0.5413  \u001b[0m | \u001b[0m 350.0   \u001b[0m | \u001b[0m-4.595   \u001b[0m | \u001b[0m 0.0     \u001b[0m | \u001b[0m 350.0   \u001b[0m |\n",
      "Mu:0.50|Mu+:0.10|Beta:1.00|Sigma:350.00|Epsilon:700.00|EpIter:0.00\n",
      "| \u001b[0m 8       \u001b[0m | \u001b[0m-124.3   \u001b[0m | \u001b[0m 0.5413  \u001b[0m | \u001b[0m 700.0   \u001b[0m | \u001b[0m-2.197   \u001b[0m | \u001b[0m 0.0     \u001b[0m | \u001b[0m 350.0   \u001b[0m |\n",
      "Mu:0.75|Mu+:0.01|Beta:1.00|Sigma:350.00|Epsilon:700.00|EpIter:0.00\n",
      "| \u001b[0m 9       \u001b[0m | \u001b[0m-124.3   \u001b[0m | \u001b[0m 0.5413  \u001b[0m | \u001b[0m 700.0   \u001b[0m | \u001b[0m-4.595   \u001b[0m | \u001b[0m 1.099   \u001b[0m | \u001b[0m 350.0   \u001b[0m |\n",
      "Mu:0.99|Mu+:0.20|Beta:1.00|Sigma:350.00|Epsilon:1.00|EpIter:0.00\n",
      "| \u001b[0m 10      \u001b[0m | \u001b[0m-124.3   \u001b[0m | \u001b[0m 0.5413  \u001b[0m | \u001b[0m 0.5413  \u001b[0m | \u001b[0m-1.386   \u001b[0m | \u001b[0m 4.595   \u001b[0m | \u001b[0m 350.0   \u001b[0m |\n",
      "Mu:0.50|Mu+:0.01|Beta:1.00|Sigma:700.00|Epsilon:700.00|EpIter:0.00\n",
      "| \u001b[0m 11      \u001b[0m | \u001b[0m-124.3   \u001b[0m | \u001b[0m 0.5413  \u001b[0m | \u001b[0m 700.0   \u001b[0m | \u001b[0m-4.595   \u001b[0m | \u001b[0m 0.0     \u001b[0m | \u001b[0m 700.0   \u001b[0m |\n",
      "Mu:0.75|Mu+:0.20|Beta:1.00|Sigma:700.00|Epsilon:1.00|EpIter:0.00\n",
      "| \u001b[0m 12      \u001b[0m | \u001b[0m-124.3   \u001b[0m | \u001b[0m 0.5413  \u001b[0m | \u001b[0m 0.5413  \u001b[0m | \u001b[0m-1.386   \u001b[0m | \u001b[0m 1.099   \u001b[0m | \u001b[0m 700.0   \u001b[0m |\n",
      "Mu:0.99|Mu+:0.10|Beta:1.00|Sigma:700.00|Epsilon:1.00|EpIter:0.00\n",
      "| \u001b[0m 13      \u001b[0m | \u001b[0m-124.3   \u001b[0m | \u001b[0m 0.5413  \u001b[0m | \u001b[0m 0.5413  \u001b[0m | \u001b[0m-2.197   \u001b[0m | \u001b[0m 4.595   \u001b[0m | \u001b[0m 700.0   \u001b[0m |\n",
      "Mu:0.99|Mu+:0.20|Beta:1.00|Sigma:700.00|Epsilon:350.00|EpIter:0.00\n",
      "| \u001b[0m 14      \u001b[0m | \u001b[0m-124.3   \u001b[0m | \u001b[0m 0.5413  \u001b[0m | \u001b[0m 350.0   \u001b[0m | \u001b[0m-1.386   \u001b[0m | \u001b[0m 4.595   \u001b[0m | \u001b[0m 700.0   \u001b[0m |\n",
      "Mu:0.50|Mu+:0.01|Beta:350.00|Sigma:1.00|Epsilon:350.00|EpIter:0.00\n",
      "| \u001b[0m 15      \u001b[0m | \u001b[0m-124.3   \u001b[0m | \u001b[0m 350.0   \u001b[0m | \u001b[0m 350.0   \u001b[0m | \u001b[0m-4.595   \u001b[0m | \u001b[0m 0.0     \u001b[0m | \u001b[0m 0.5413  \u001b[0m |\n",
      "Mu:0.50|Mu+:0.10|Beta:350.00|Sigma:1.00|Epsilon:700.00|EpIter:0.00\n",
      "| \u001b[0m 16      \u001b[0m | \u001b[0m-124.3   \u001b[0m | \u001b[0m 350.0   \u001b[0m | \u001b[0m 700.0   \u001b[0m | \u001b[0m-2.197   \u001b[0m | \u001b[0m 0.0     \u001b[0m | \u001b[0m 0.5413  \u001b[0m |\n",
      "Mu:0.75|Mu+:0.01|Beta:350.00|Sigma:1.00|Epsilon:700.00|EpIter:0.00\n",
      "| \u001b[0m 17      \u001b[0m | \u001b[0m-124.3   \u001b[0m | \u001b[0m 350.0   \u001b[0m | \u001b[0m 700.0   \u001b[0m | \u001b[0m-4.595   \u001b[0m | \u001b[0m 1.099   \u001b[0m | \u001b[0m 0.5413  \u001b[0m |\n",
      "Mu:0.99|Mu+:0.20|Beta:350.00|Sigma:1.00|Epsilon:1.00|EpIter:0.00\n",
      "| \u001b[0m 18      \u001b[0m | \u001b[0m-124.3   \u001b[0m | \u001b[0m 350.0   \u001b[0m | \u001b[0m 0.5413  \u001b[0m | \u001b[0m-1.386   \u001b[0m | \u001b[0m 4.595   \u001b[0m | \u001b[0m 0.5413  \u001b[0m |\n",
      "Mu:0.50|Mu+:0.01|Beta:350.00|Sigma:350.00|Epsilon:700.00|EpIter:0.00\n",
      "| \u001b[95m 19      \u001b[0m | \u001b[95m-6.069   \u001b[0m | \u001b[95m 350.0   \u001b[0m | \u001b[95m 700.0   \u001b[0m | \u001b[95m-4.595   \u001b[0m | \u001b[95m 0.0     \u001b[0m | \u001b[95m 350.0   \u001b[0m |\n",
      "Mu:0.75|Mu+:0.20|Beta:350.00|Sigma:350.00|Epsilon:1.00|EpIter:0.00\n",
      "| \u001b[95m 20      \u001b[0m | \u001b[95m-5.713   \u001b[0m | \u001b[95m 350.0   \u001b[0m | \u001b[95m 0.5413  \u001b[0m | \u001b[95m-1.386   \u001b[0m | \u001b[95m 1.099   \u001b[0m | \u001b[95m 350.0   \u001b[0m |\n",
      "Mu:0.99|Mu+:0.10|Beta:350.00|Sigma:350.00|Epsilon:1.00|EpIter:0.00\n",
      "| \u001b[95m 21      \u001b[0m | \u001b[95m-5.067   \u001b[0m | \u001b[95m 350.0   \u001b[0m | \u001b[95m 0.5413  \u001b[0m | \u001b[95m-2.197   \u001b[0m | \u001b[95m 4.595   \u001b[0m | \u001b[95m 350.0   \u001b[0m |\n",
      "Mu:0.99|Mu+:0.20|Beta:350.00|Sigma:350.00|Epsilon:350.00|EpIter:0.00\n",
      "| \u001b[95m 22      \u001b[0m | \u001b[95m-3.427   \u001b[0m | \u001b[95m 350.0   \u001b[0m | \u001b[95m 350.0   \u001b[0m | \u001b[95m-1.386   \u001b[0m | \u001b[95m 4.595   \u001b[0m | \u001b[95m 350.0   \u001b[0m |\n",
      "Mu:0.50|Mu+:0.20|Beta:350.00|Sigma:700.00|Epsilon:1.00|EpIter:0.00\n",
      "| \u001b[0m 23      \u001b[0m | \u001b[0m-6.823   \u001b[0m | \u001b[0m 350.0   \u001b[0m | \u001b[0m 0.5413  \u001b[0m | \u001b[0m-1.386   \u001b[0m | \u001b[0m 0.0     \u001b[0m | \u001b[0m 700.0   \u001b[0m |\n",
      "Mu:0.75|Mu+:0.10|Beta:350.00|Sigma:700.00|Epsilon:1.00|EpIter:0.00\n",
      "| \u001b[0m 24      \u001b[0m | \u001b[0m-6.067   \u001b[0m | \u001b[0m 350.0   \u001b[0m | \u001b[0m 0.5413  \u001b[0m | \u001b[0m-2.197   \u001b[0m | \u001b[0m 1.099   \u001b[0m | \u001b[0m 700.0   \u001b[0m |\n",
      "Mu:0.75|Mu+:0.20|Beta:350.00|Sigma:700.00|Epsilon:350.00|EpIter:0.00\n",
      "| \u001b[95m 25      \u001b[0m | \u001b[95m 0.156   \u001b[0m | \u001b[95m 350.0   \u001b[0m | \u001b[95m 350.0   \u001b[0m | \u001b[95m-1.386   \u001b[0m | \u001b[95m 1.099   \u001b[0m | \u001b[95m 700.0   \u001b[0m |\n",
      "Mu:0.99|Mu+:0.01|Beta:350.00|Sigma:700.00|Epsilon:1.00|EpIter:0.00\n",
      "| \u001b[0m 26      \u001b[0m | \u001b[0m-5.161   \u001b[0m | \u001b[0m 350.0   \u001b[0m | \u001b[0m 0.5413  \u001b[0m | \u001b[0m-4.595   \u001b[0m | \u001b[0m 4.595   \u001b[0m | \u001b[0m 700.0   \u001b[0m |\n",
      "Mu:0.99|Mu+:0.10|Beta:350.00|Sigma:700.00|Epsilon:350.00|EpIter:0.00\n",
      "| \u001b[0m 27      \u001b[0m | \u001b[0m-3.51    \u001b[0m | \u001b[0m 350.0   \u001b[0m | \u001b[0m 350.0   \u001b[0m | \u001b[0m-2.197   \u001b[0m | \u001b[0m 4.595   \u001b[0m | \u001b[0m 700.0   \u001b[0m |\n",
      "Mu:0.99|Mu+:0.20|Beta:350.00|Sigma:700.00|Epsilon:700.00|EpIter:0.00\n",
      "| \u001b[0m 28      \u001b[0m | \u001b[0m-3.51    \u001b[0m | \u001b[0m 350.0   \u001b[0m | \u001b[0m 700.0   \u001b[0m | \u001b[0m-1.386   \u001b[0m | \u001b[0m 4.595   \u001b[0m | \u001b[0m 700.0   \u001b[0m |\n",
      "Mu:0.50|Mu+:0.01|Beta:700.00|Sigma:1.00|Epsilon:700.00|EpIter:0.00\n",
      "| \u001b[0m 29      \u001b[0m | \u001b[0m-124.3   \u001b[0m | \u001b[0m 700.0   \u001b[0m | \u001b[0m 700.0   \u001b[0m | \u001b[0m-4.595   \u001b[0m | \u001b[0m 0.0     \u001b[0m | \u001b[0m 0.5413  \u001b[0m |\n",
      "Mu:0.75|Mu+:0.20|Beta:700.00|Sigma:1.00|Epsilon:1.00|EpIter:0.00\n",
      "| \u001b[0m 30      \u001b[0m | \u001b[0m-124.3   \u001b[0m | \u001b[0m 700.0   \u001b[0m | \u001b[0m 0.5413  \u001b[0m | \u001b[0m-1.386   \u001b[0m | \u001b[0m 1.099   \u001b[0m | \u001b[0m 0.5413  \u001b[0m |\n",
      "Mu:0.99|Mu+:0.10|Beta:700.00|Sigma:1.00|Epsilon:1.00|EpIter:0.00\n",
      "| \u001b[0m 31      \u001b[0m | \u001b[0m-124.3   \u001b[0m | \u001b[0m 700.0   \u001b[0m | \u001b[0m 0.5413  \u001b[0m | \u001b[0m-2.197   \u001b[0m | \u001b[0m 4.595   \u001b[0m | \u001b[0m 0.5413  \u001b[0m |\n",
      "Mu:0.99|Mu+:0.20|Beta:700.00|Sigma:1.00|Epsilon:350.00|EpIter:0.00\n",
      "| \u001b[0m 32      \u001b[0m | \u001b[0m-124.3   \u001b[0m | \u001b[0m 700.0   \u001b[0m | \u001b[0m 350.0   \u001b[0m | \u001b[0m-1.386   \u001b[0m | \u001b[0m 4.595   \u001b[0m | \u001b[0m 0.5413  \u001b[0m |\n",
      "Mu:0.50|Mu+:0.20|Beta:700.00|Sigma:350.00|Epsilon:1.00|EpIter:0.00\n",
      "| \u001b[0m 33      \u001b[0m | \u001b[0m-6.856   \u001b[0m | \u001b[0m 700.0   \u001b[0m | \u001b[0m 0.5413  \u001b[0m | \u001b[0m-1.386   \u001b[0m | \u001b[0m 0.0     \u001b[0m | \u001b[0m 350.0   \u001b[0m |\n",
      "Mu:0.75|Mu+:0.10|Beta:700.00|Sigma:350.00|Epsilon:1.00|EpIter:0.00\n",
      "| \u001b[0m 34      \u001b[0m | \u001b[0m-5.734   \u001b[0m | \u001b[0m 700.0   \u001b[0m | \u001b[0m 0.5413  \u001b[0m | \u001b[0m-2.197   \u001b[0m | \u001b[0m 1.099   \u001b[0m | \u001b[0m 350.0   \u001b[0m |\n",
      "Mu:0.75|Mu+:0.20|Beta:700.00|Sigma:350.00|Epsilon:350.00|EpIter:0.00\n",
      "| \u001b[0m 35      \u001b[0m | \u001b[0m 0.01048 \u001b[0m | \u001b[0m 700.0   \u001b[0m | \u001b[0m 350.0   \u001b[0m | \u001b[0m-1.386   \u001b[0m | \u001b[0m 1.099   \u001b[0m | \u001b[0m 350.0   \u001b[0m |\n",
      "Mu:0.99|Mu+:0.01|Beta:700.00|Sigma:350.00|Epsilon:1.00|EpIter:0.00\n",
      "| \u001b[0m 36      \u001b[0m | \u001b[0m-5.067   \u001b[0m | \u001b[0m 700.0   \u001b[0m | \u001b[0m 0.5413  \u001b[0m | \u001b[0m-4.595   \u001b[0m | \u001b[0m 4.595   \u001b[0m | \u001b[0m 350.0   \u001b[0m |\n",
      "Mu:0.99|Mu+:0.10|Beta:700.00|Sigma:350.00|Epsilon:350.00|EpIter:0.00\n",
      "| \u001b[0m 37      \u001b[0m | \u001b[0m-3.427   \u001b[0m | \u001b[0m 700.0   \u001b[0m | \u001b[0m 350.0   \u001b[0m | \u001b[0m-2.197   \u001b[0m | \u001b[0m 4.595   \u001b[0m | \u001b[0m 350.0   \u001b[0m |\n",
      "Mu:0.99|Mu+:0.20|Beta:700.00|Sigma:350.00|Epsilon:700.00|EpIter:0.00\n",
      "| \u001b[0m 38      \u001b[0m | \u001b[0m-3.427   \u001b[0m | \u001b[0m 700.0   \u001b[0m | \u001b[0m 700.0   \u001b[0m | \u001b[0m-1.386   \u001b[0m | \u001b[0m 4.595   \u001b[0m | \u001b[0m 350.0   \u001b[0m |\n",
      "Mu:0.50|Mu+:0.10|Beta:700.00|Sigma:700.00|Epsilon:1.00|EpIter:0.00\n"
     ]
    },
    {
     "name": "stdout",
     "output_type": "stream",
     "text": [
      "| \u001b[0m 39      \u001b[0m | \u001b[0m-6.76    \u001b[0m | \u001b[0m 700.0   \u001b[0m | \u001b[0m 0.5413  \u001b[0m | \u001b[0m-2.197   \u001b[0m | \u001b[0m 0.0     \u001b[0m | \u001b[0m 700.0   \u001b[0m |\n",
      "Mu:0.50|Mu+:0.20|Beta:700.00|Sigma:700.00|Epsilon:350.00|EpIter:0.00\n",
      "| \u001b[0m 40      \u001b[0m | \u001b[0m-6.074   \u001b[0m | \u001b[0m 700.0   \u001b[0m | \u001b[0m 350.0   \u001b[0m | \u001b[0m-1.386   \u001b[0m | \u001b[0m 0.0     \u001b[0m | \u001b[0m 700.0   \u001b[0m |\n",
      "Mu:0.75|Mu+:0.01|Beta:700.00|Sigma:700.00|Epsilon:1.00|EpIter:0.00\n",
      "| \u001b[0m 41      \u001b[0m | \u001b[0m-4.781   \u001b[0m | \u001b[0m 700.0   \u001b[0m | \u001b[0m 0.5413  \u001b[0m | \u001b[0m-4.595   \u001b[0m | \u001b[0m 1.099   \u001b[0m | \u001b[0m 700.0   \u001b[0m |\n",
      "Mu:0.75|Mu+:0.10|Beta:700.00|Sigma:700.00|Epsilon:350.00|EpIter:0.00\n",
      "| \u001b[0m 42      \u001b[0m | \u001b[0m 0.156   \u001b[0m | \u001b[0m 700.0   \u001b[0m | \u001b[0m 350.0   \u001b[0m | \u001b[0m-2.197   \u001b[0m | \u001b[0m 1.099   \u001b[0m | \u001b[0m 700.0   \u001b[0m |\n",
      "Mu:0.75|Mu+:0.20|Beta:700.00|Sigma:700.00|Epsilon:700.00|EpIter:0.00\n",
      "| \u001b[0m 43      \u001b[0m | \u001b[0m 0.156   \u001b[0m | \u001b[0m 700.0   \u001b[0m | \u001b[0m 700.0   \u001b[0m | \u001b[0m-1.386   \u001b[0m | \u001b[0m 1.099   \u001b[0m | \u001b[0m 700.0   \u001b[0m |\n",
      "Mu:0.99|Mu+:0.01|Beta:700.00|Sigma:700.00|Epsilon:350.00|EpIter:0.00\n",
      "| \u001b[0m 44      \u001b[0m | \u001b[0m-3.51    \u001b[0m | \u001b[0m 700.0   \u001b[0m | \u001b[0m 350.0   \u001b[0m | \u001b[0m-4.595   \u001b[0m | \u001b[0m 4.595   \u001b[0m | \u001b[0m 700.0   \u001b[0m |\n",
      "Mu:0.99|Mu+:0.10|Beta:700.00|Sigma:700.00|Epsilon:700.00|EpIter:0.00\n",
      "| \u001b[0m 45      \u001b[0m | \u001b[0m-3.51    \u001b[0m | \u001b[0m 700.0   \u001b[0m | \u001b[0m 700.0   \u001b[0m | \u001b[0m-2.197   \u001b[0m | \u001b[0m 4.595   \u001b[0m | \u001b[0m 700.0   \u001b[0m |\n",
      "Mu:0.93|Mu+:0.02|Beta:348.00|Sigma:697.00|Epsilon:363.57|EpIter:0.00\n",
      "| \u001b[0m 46      \u001b[0m | \u001b[0m-1.471   \u001b[0m | \u001b[0m 348.3   \u001b[0m | \u001b[0m 363.6   \u001b[0m | \u001b[0m-4.034   \u001b[0m | \u001b[0m 2.623   \u001b[0m | \u001b[0m 697.7   \u001b[0m |\n",
      "Mu:0.91|Mu+:0.01|Beta:349.00|Sigma:698.00|Epsilon:2.25|EpIter:0.00\n",
      "| \u001b[0m 47      \u001b[0m | \u001b[0m-3.749   \u001b[0m | \u001b[0m 349.2   \u001b[0m | \u001b[0m 2.137   \u001b[0m | \u001b[0m-4.487   \u001b[0m | \u001b[0m 2.376   \u001b[0m | \u001b[0m 698.9   \u001b[0m |\n",
      "Mu:0.89|Mu+:0.17|Beta:341.00|Sigma:692.00|Epsilon:350.59|EpIter:0.00\n",
      "| \u001b[0m 48      \u001b[0m | \u001b[0m-0.9648  \u001b[0m | \u001b[0m 341.8   \u001b[0m | \u001b[0m 350.6   \u001b[0m | \u001b[0m-1.561   \u001b[0m | \u001b[0m 2.07    \u001b[0m | \u001b[0m 693.0   \u001b[0m |\n",
      "Mu:0.92|Mu+:0.02|Beta:693.00|Sigma:344.00|Epsilon:349.14|EpIter:0.00\n",
      "| \u001b[0m 49      \u001b[0m | \u001b[0m-1.287   \u001b[0m | \u001b[0m 693.5   \u001b[0m | \u001b[0m 349.1   \u001b[0m | \u001b[0m-4.14    \u001b[0m | \u001b[0m 2.482   \u001b[0m | \u001b[0m 344.7   \u001b[0m |\n",
      "Mu:0.95|Mu+:0.13|Beta:696.00|Sigma:335.00|Epsilon:343.75|EpIter:0.00\n",
      "| \u001b[0m 50      \u001b[0m | \u001b[0m-1.73    \u001b[0m | \u001b[0m 696.1   \u001b[0m | \u001b[0m 343.8   \u001b[0m | \u001b[0m-1.895   \u001b[0m | \u001b[0m 2.856   \u001b[0m | \u001b[0m 335.5   \u001b[0m |\n",
      "Mu:0.84|Mu+:0.10|Beta:346.00|Sigma:696.00|Epsilon:354.33|EpIter:0.00\n",
      "| \u001b[0m 51      \u001b[0m | \u001b[0m-0.6927  \u001b[0m | \u001b[0m 346.7   \u001b[0m | \u001b[0m 354.3   \u001b[0m | \u001b[0m-2.194   \u001b[0m | \u001b[0m 1.644   \u001b[0m | \u001b[0m 696.9   \u001b[0m |\n",
      "Mu:0.56|Mu+:0.06|Beta:356.00|Sigma:348.00|Epsilon:362.69|EpIter:0.00\n",
      "| \u001b[0m 52      \u001b[0m | \u001b[0m-5.941   \u001b[0m | \u001b[0m 356.5   \u001b[0m | \u001b[0m 362.7   \u001b[0m | \u001b[0m-2.702   \u001b[0m | \u001b[0m 0.2351  \u001b[0m | \u001b[0m 348.7   \u001b[0m |\n",
      "Mu:0.53|Mu+:0.07|Beta:691.00|Sigma:352.00|Epsilon:346.81|EpIter:0.00\n",
      "| \u001b[0m 53      \u001b[0m | \u001b[0m-6.019   \u001b[0m | \u001b[0m 691.7   \u001b[0m | \u001b[0m 346.8   \u001b[0m | \u001b[0m-2.596   \u001b[0m | \u001b[0m 0.1236  \u001b[0m | \u001b[0m 352.3   \u001b[0m |\n",
      "Mu:0.96|Mu+:0.14|Beta:352.00|Sigma:349.00|Epsilon:354.30|EpIter:0.00\n",
      "| \u001b[0m 54      \u001b[0m | \u001b[0m-2.121   \u001b[0m | \u001b[0m 352.2   \u001b[0m | \u001b[0m 354.3   \u001b[0m | \u001b[0m-1.832   \u001b[0m | \u001b[0m 3.118   \u001b[0m | \u001b[0m 349.6   \u001b[0m |\n",
      "Mu:0.96|Mu+:0.14|Beta:350.00|Sigma:350.00|Epsilon:1.00|EpIter:0.00\n",
      "| \u001b[0m 55      \u001b[0m | \u001b[0m-5.365   \u001b[0m | \u001b[0m 350.0   \u001b[0m | \u001b[0m 0.5413  \u001b[0m | \u001b[0m-1.853   \u001b[0m | \u001b[0m 3.111   \u001b[0m | \u001b[0m 350.0   \u001b[0m |\n",
      "Mu:0.96|Mu+:0.02|Beta:362.00|Sigma:344.00|Epsilon:362.67|EpIter:0.00\n",
      "| \u001b[0m 56      \u001b[0m | \u001b[0m-2.059   \u001b[0m | \u001b[0m 362.8   \u001b[0m | \u001b[0m 362.7   \u001b[0m | \u001b[0m-4.074   \u001b[0m | \u001b[0m 3.094   \u001b[0m | \u001b[0m 344.1   \u001b[0m |\n",
      "Mu:0.60|Mu+:0.11|Beta:694.00|Sigma:358.00|Epsilon:348.32|EpIter:0.00\n",
      "| \u001b[0m 57      \u001b[0m | \u001b[0m-5.333   \u001b[0m | \u001b[0m 694.4   \u001b[0m | \u001b[0m 348.3   \u001b[0m | \u001b[0m-2.106   \u001b[0m | \u001b[0m 0.3927  \u001b[0m | \u001b[0m 358.2   \u001b[0m |\n",
      "Mu:0.95|Mu+:0.11|Beta:699.00|Sigma:699.00|Epsilon:690.07|EpIter:0.00\n",
      "| \u001b[0m 58      \u001b[0m | \u001b[0m-1.794   \u001b[0m | \u001b[0m 699.3   \u001b[0m | \u001b[0m 690.1   \u001b[0m | \u001b[0m-2.127   \u001b[0m | \u001b[0m 2.895   \u001b[0m | \u001b[0m 699.5   \u001b[0m |\n",
      "Mu:0.98|Mu+:0.14|Beta:699.00|Sigma:346.00|Epsilon:695.17|EpIter:0.00\n",
      "| \u001b[0m 59      \u001b[0m | \u001b[0m-3.02    \u001b[0m | \u001b[0m 699.9   \u001b[0m | \u001b[0m 695.2   \u001b[0m | \u001b[0m-1.831   \u001b[0m | \u001b[0m 4.015   \u001b[0m | \u001b[0m 346.0   \u001b[0m |\n",
      "Mu:0.87|Mu+:0.14|Beta:688.00|Sigma:342.00|Epsilon:338.99|EpIter:0.00\n",
      "| \u001b[0m 60      \u001b[0m | \u001b[0m-0.811   \u001b[0m | \u001b[0m 689.0   \u001b[0m | \u001b[0m 339.0   \u001b[0m | \u001b[0m-1.832   \u001b[0m | \u001b[0m 1.866   \u001b[0m | \u001b[0m 342.7   \u001b[0m |\n",
      "Mu:0.92|Mu+:0.02|Beta:692.00|Sigma:346.00|Epsilon:348.26|EpIter:0.00\n",
      "| \u001b[0m 61      \u001b[0m | \u001b[0m-1.284   \u001b[0m | \u001b[0m 692.3   \u001b[0m | \u001b[0m 348.3   \u001b[0m | \u001b[0m-3.892   \u001b[0m | \u001b[0m 2.474   \u001b[0m | \u001b[0m 346.2   \u001b[0m |\n",
      "Mu:0.93|Mu+:0.16|Beta:349.00|Sigma:349.00|Epsilon:689.23|EpIter:0.00\n",
      "| \u001b[0m 62      \u001b[0m | \u001b[0m-1.412   \u001b[0m | \u001b[0m 349.2   \u001b[0m | \u001b[0m 689.2   \u001b[0m | \u001b[0m-1.648   \u001b[0m | \u001b[0m 2.609   \u001b[0m | \u001b[0m 349.7   \u001b[0m |\n",
      "Mu:0.76|Mu+:0.20|Beta:346.00|Sigma:697.00|Epsilon:350.03|EpIter:0.00\n",
      "| \u001b[0m 63      \u001b[0m | \u001b[0m-0.03399 \u001b[0m | \u001b[0m 346.9   \u001b[0m | \u001b[0m 350.0   \u001b[0m | \u001b[0m-1.386   \u001b[0m | \u001b[0m 1.178   \u001b[0m | \u001b[0m 697.3   \u001b[0m |\n",
      "Mu:0.85|Mu+:0.07|Beta:349.00|Sigma:349.00|Epsilon:692.83|EpIter:0.00\n",
      "| \u001b[0m 64      \u001b[0m | \u001b[0m-0.7373  \u001b[0m | \u001b[0m 349.5   \u001b[0m | \u001b[0m 692.8   \u001b[0m | \u001b[0m-2.632   \u001b[0m | \u001b[0m 1.737   \u001b[0m | \u001b[0m 349.8   \u001b[0m |\n",
      "Mu:0.76|Mu+:0.01|Beta:690.00|Sigma:343.00|Epsilon:346.25|EpIter:0.00\n",
      "| \u001b[0m 65      \u001b[0m | \u001b[0m-0.07162 \u001b[0m | \u001b[0m 690.2   \u001b[0m | \u001b[0m 346.3   \u001b[0m | \u001b[0m-4.555   \u001b[0m | \u001b[0m 1.143   \u001b[0m | \u001b[0m 343.7   \u001b[0m |\n",
      "Mu:0.98|Mu+:0.02|Beta:350.00|Sigma:358.00|Epsilon:692.90|EpIter:0.00\n",
      "| \u001b[0m 66      \u001b[0m | \u001b[0m-3.146   \u001b[0m | \u001b[0m 350.1   \u001b[0m | \u001b[0m 692.9   \u001b[0m | \u001b[0m-4.11    \u001b[0m | \u001b[0m 4.183   \u001b[0m | \u001b[0m 358.2   \u001b[0m |\n",
      "Mu:0.53|Mu+:0.01|Beta:339.00|Sigma:698.00|Epsilon:366.24|EpIter:0.00\n",
      "| \u001b[0m 67      \u001b[0m | \u001b[0m-6.037   \u001b[0m | \u001b[0m 339.3   \u001b[0m | \u001b[0m 366.2   \u001b[0m | \u001b[0m-4.486   \u001b[0m | \u001b[0m 0.1105  \u001b[0m | \u001b[0m 698.6   \u001b[0m |\n",
      "Mu:0.97|Mu+:0.11|Beta:342.00|Sigma:695.00|Epsilon:3.81|EpIter:0.00\n",
      "| \u001b[0m 68      \u001b[0m | \u001b[0m-3.444   \u001b[0m | \u001b[0m 342.2   \u001b[0m | \u001b[0m 3.786   \u001b[0m | \u001b[0m-2.089   \u001b[0m | \u001b[0m 3.634   \u001b[0m | \u001b[0m 695.8   \u001b[0m |\n",
      "Mu:0.76|Mu+:0.03|Beta:342.00|Sigma:350.00|Epsilon:690.12|EpIter:0.00\n",
      "| \u001b[0m 69      \u001b[0m | \u001b[0m-0.105   \u001b[0m | \u001b[0m 342.3   \u001b[0m | \u001b[0m 690.1   \u001b[0m | \u001b[0m-3.407   \u001b[0m | \u001b[0m 1.16    \u001b[0m | \u001b[0m 350.3   \u001b[0m |\n",
      "Mu:0.78|Mu+:0.02|Beta:346.00|Sigma:347.00|Epsilon:687.33|EpIter:0.00\n",
      "| \u001b[0m 70      \u001b[0m | \u001b[0m-0.2514  \u001b[0m | \u001b[0m 346.3   \u001b[0m | \u001b[0m 687.3   \u001b[0m | \u001b[0m-3.964   \u001b[0m | \u001b[0m 1.251   \u001b[0m | \u001b[0m 347.4   \u001b[0m |\n",
      "Mu:0.77|Mu+:0.07|Beta:349.00|Sigma:355.00|Epsilon:688.44|EpIter:0.00\n",
      "| \u001b[0m 71      \u001b[0m | \u001b[0m-0.1393  \u001b[0m | \u001b[0m 349.7   \u001b[0m | \u001b[0m 688.4   \u001b[0m | \u001b[0m-2.594   \u001b[0m | \u001b[0m 1.184   \u001b[0m | \u001b[0m 356.0   \u001b[0m |\n",
      "Mu:0.98|Mu+:0.05|Beta:692.00|Sigma:350.00|Epsilon:691.96|EpIter:0.00\n",
      "| \u001b[0m 72      \u001b[0m | \u001b[0m-2.778   \u001b[0m | \u001b[0m 692.7   \u001b[0m | \u001b[0m 692.0   \u001b[0m | \u001b[0m-2.919   \u001b[0m | \u001b[0m 3.701   \u001b[0m | \u001b[0m 350.3   \u001b[0m |\n",
      "Mu:0.97|Mu+:0.03|Beta:700.00|Sigma:350.00|Epsilon:1.00|EpIter:0.00\n",
      "| \u001b[0m 73      \u001b[0m | \u001b[0m-4.936   \u001b[0m | \u001b[0m 700.0   \u001b[0m | \u001b[0m 0.5413  \u001b[0m | \u001b[0m-3.355   \u001b[0m | \u001b[0m 3.641   \u001b[0m | \u001b[0m 350.0   \u001b[0m |\n",
      "Mu:0.97|Mu+:0.04|Beta:340.00|Sigma:691.00|Epsilon:351.69|EpIter:0.00\n",
      "| \u001b[0m 74      \u001b[0m | \u001b[0m-2.746   \u001b[0m | \u001b[0m 340.6   \u001b[0m | \u001b[0m 351.7   \u001b[0m | \u001b[0m-3.221   \u001b[0m | \u001b[0m 3.597   \u001b[0m | \u001b[0m 691.8   \u001b[0m |\n",
      "Mu:0.94|Mu+:0.04|Beta:697.00|Sigma:354.00|Epsilon:696.38|EpIter:0.00\n",
      "| \u001b[0m 75      \u001b[0m | \u001b[0m-1.635   \u001b[0m | \u001b[0m 697.1   \u001b[0m | \u001b[0m 696.4   \u001b[0m | \u001b[0m-3.203   \u001b[0m | \u001b[0m 2.801   \u001b[0m | \u001b[0m 354.1   \u001b[0m |\n",
      "Mu:0.88|Mu+:0.03|Beta:360.00|Sigma:340.00|Epsilon:356.67|EpIter:0.00\n",
      "| \u001b[0m 76      \u001b[0m | \u001b[0m-0.8791  \u001b[0m | \u001b[0m 360.3   \u001b[0m | \u001b[0m 356.7   \u001b[0m | \u001b[0m-3.379   \u001b[0m | \u001b[0m 1.98    \u001b[0m | \u001b[0m 340.7   \u001b[0m |\n",
      "Mu:0.73|Mu+:0.01|Beta:355.00|Sigma:355.00|Epsilon:694.50|EpIter:0.00\n",
      "| \u001b[95m 77      \u001b[0m | \u001b[95m 0.2376  \u001b[0m | \u001b[95m 355.4   \u001b[0m | \u001b[95m 694.5   \u001b[0m | \u001b[95m-4.59    \u001b[0m | \u001b[95m 0.9774  \u001b[0m | \u001b[95m 355.5   \u001b[0m |\n",
      "Mu:0.96|Mu+:0.01|Beta:343.00|Sigma:353.00|Epsilon:696.38|EpIter:0.00\n"
     ]
    },
    {
     "name": "stdout",
     "output_type": "stream",
     "text": [
      "| \u001b[0m 78      \u001b[0m | \u001b[0m-2.121   \u001b[0m | \u001b[0m 343.7   \u001b[0m | \u001b[0m 696.4   \u001b[0m | \u001b[0m-4.428   \u001b[0m | \u001b[0m 3.118   \u001b[0m | \u001b[0m 353.6   \u001b[0m |\n",
      "Mu:0.97|Mu+:0.17|Beta:344.00|Sigma:341.00|Epsilon:685.49|EpIter:0.00\n",
      "| \u001b[0m 79      \u001b[0m | \u001b[0m-2.4     \u001b[0m | \u001b[0m 345.0   \u001b[0m | \u001b[0m 685.5   \u001b[0m | \u001b[0m-1.556   \u001b[0m | \u001b[0m 3.317   \u001b[0m | \u001b[0m 341.1   \u001b[0m |\n",
      "Mu:0.86|Mu+:0.10|Beta:693.00|Sigma:341.00|Epsilon:343.45|EpIter:0.00\n",
      "| \u001b[0m 80      \u001b[0m | \u001b[0m-0.7721  \u001b[0m | \u001b[0m 693.4   \u001b[0m | \u001b[0m 343.4   \u001b[0m | \u001b[0m-2.179   \u001b[0m | \u001b[0m 1.797   \u001b[0m | \u001b[0m 341.9   \u001b[0m |\n",
      "Mu:0.93|Mu+:0.17|Beta:332.00|Sigma:350.00|Epsilon:690.68|EpIter:0.00\n",
      "| \u001b[0m 81      \u001b[0m | \u001b[0m-1.369   \u001b[0m | \u001b[0m 332.8   \u001b[0m | \u001b[0m 690.7   \u001b[0m | \u001b[0m-1.573   \u001b[0m | \u001b[0m 2.562   \u001b[0m | \u001b[0m 350.5   \u001b[0m |\n",
      "Mu:0.65|Mu+:0.12|Beta:697.00|Sigma:350.00|Epsilon:349.38|EpIter:0.00\n",
      "| \u001b[0m 82      \u001b[0m | \u001b[0m-0.7736  \u001b[0m | \u001b[0m 698.0   \u001b[0m | \u001b[0m 349.4   \u001b[0m | \u001b[0m-2.028   \u001b[0m | \u001b[0m 0.6214  \u001b[0m | \u001b[0m 350.4   \u001b[0m |\n",
      "Mu:0.91|Mu+:0.03|Beta:351.00|Sigma:347.00|Epsilon:693.03|EpIter:0.00\n",
      "| \u001b[0m 83      \u001b[0m | \u001b[0m-1.162   \u001b[0m | \u001b[0m 351.7   \u001b[0m | \u001b[0m 693.0   \u001b[0m | \u001b[0m-3.465   \u001b[0m | \u001b[0m 2.362   \u001b[0m | \u001b[0m 347.9   \u001b[0m |\n",
      "Mu:0.94|Mu+:0.04|Beta:359.00|Sigma:344.00|Epsilon:358.18|EpIter:0.00\n",
      "| \u001b[0m 84      \u001b[0m | \u001b[0m-1.625   \u001b[0m | \u001b[0m 359.0   \u001b[0m | \u001b[0m 358.2   \u001b[0m | \u001b[0m-3.226   \u001b[0m | \u001b[0m 2.792   \u001b[0m | \u001b[0m 344.3   \u001b[0m |\n",
      "Mu:0.98|Mu+:0.02|Beta:341.00|Sigma:687.00|Epsilon:348.64|EpIter:0.00\n",
      "| \u001b[0m 85      \u001b[0m | \u001b[0m-3.025   \u001b[0m | \u001b[0m 341.8   \u001b[0m | \u001b[0m 348.6   \u001b[0m | \u001b[0m-4.128   \u001b[0m | \u001b[0m 3.892   \u001b[0m | \u001b[0m 687.3   \u001b[0m |\n",
      "Mu:0.92|Mu+:0.08|Beta:337.00|Sigma:685.00|Epsilon:346.55|EpIter:0.00\n",
      "| \u001b[0m 86      \u001b[0m | \u001b[0m-1.243   \u001b[0m | \u001b[0m 337.8   \u001b[0m | \u001b[0m 346.6   \u001b[0m | \u001b[0m-2.469   \u001b[0m | \u001b[0m 2.401   \u001b[0m | \u001b[0m 685.7   \u001b[0m |\n",
      "Mu:0.69|Mu+:0.20|Beta:699.00|Sigma:348.00|Epsilon:349.86|EpIter:0.00\n",
      "| \u001b[0m 87      \u001b[0m | \u001b[0m 0.2049  \u001b[0m | \u001b[0m 699.7   \u001b[0m | \u001b[0m 349.9   \u001b[0m | \u001b[0m-1.386   \u001b[0m | \u001b[0m 0.7989  \u001b[0m | \u001b[0m 348.8   \u001b[0m |\n",
      "Mu:0.71|Mu+:0.08|Beta:690.00|Sigma:347.00|Epsilon:345.14|EpIter:0.00\n",
      "| \u001b[95m 88      \u001b[0m | \u001b[95m 0.3513  \u001b[0m | \u001b[95m 690.3   \u001b[0m | \u001b[95m 345.1   \u001b[0m | \u001b[95m-2.406   \u001b[0m | \u001b[95m 0.8747  \u001b[0m | \u001b[95m 347.8   \u001b[0m |\n",
      "Mu:0.95|Mu+:0.05|Beta:352.00|Sigma:354.00|Epsilon:1.63|EpIter:0.00\n",
      "| \u001b[0m 89      \u001b[0m | \u001b[0m-4.512   \u001b[0m | \u001b[0m 352.1   \u001b[0m | \u001b[0m 1.412   \u001b[0m | \u001b[0m-3.054   \u001b[0m | \u001b[0m 2.866   \u001b[0m | \u001b[0m 354.4   \u001b[0m |\n",
      "Mu:0.64|Mu+:0.02|Beta:349.00|Sigma:696.00|Epsilon:355.66|EpIter:0.00\n",
      "| \u001b[0m 90      \u001b[0m | \u001b[0m-1.414   \u001b[0m | \u001b[0m 349.4   \u001b[0m | \u001b[0m 355.7   \u001b[0m | \u001b[0m-3.741   \u001b[0m | \u001b[0m 0.5909  \u001b[0m | \u001b[0m 696.7   \u001b[0m |\n",
      "Mu:0.88|Mu+:0.05|Beta:692.00|Sigma:348.00|Epsilon:360.10|EpIter:0.00\n",
      "| \u001b[0m 91      \u001b[0m | \u001b[0m-0.8818  \u001b[0m | \u001b[0m 693.0   \u001b[0m | \u001b[0m 360.1   \u001b[0m | \u001b[0m-2.906   \u001b[0m | \u001b[0m 1.994   \u001b[0m | \u001b[0m 348.5   \u001b[0m |\n",
      "Mu:0.70|Mu+:0.01|Beta:352.00|Sigma:353.00|Epsilon:692.11|EpIter:0.00\n",
      "| \u001b[95m 92      \u001b[0m | \u001b[95m 0.3649  \u001b[0m | \u001b[95m 352.2   \u001b[0m | \u001b[95m 692.1   \u001b[0m | \u001b[95m-4.595   \u001b[0m | \u001b[95m 0.8695  \u001b[0m | \u001b[95m 353.9   \u001b[0m |\n",
      "Mu:0.63|Mu+:0.03|Beta:358.00|Sigma:349.00|Epsilon:346.70|EpIter:0.00\n",
      "| \u001b[0m 93      \u001b[0m | \u001b[0m-2.943   \u001b[0m | \u001b[0m 358.7   \u001b[0m | \u001b[0m 346.7   \u001b[0m | \u001b[0m-3.475   \u001b[0m | \u001b[0m 0.5175  \u001b[0m | \u001b[0m 349.7   \u001b[0m |\n",
      "Mu:0.84|Mu+:0.01|Beta:326.00|Sigma:354.00|Epsilon:699.03|EpIter:0.00\n",
      "| \u001b[0m 94      \u001b[0m | \u001b[0m-0.6774  \u001b[0m | \u001b[0m 327.0   \u001b[0m | \u001b[0m 699.0   \u001b[0m | \u001b[0m-4.525   \u001b[0m | \u001b[0m 1.658   \u001b[0m | \u001b[0m 354.4   \u001b[0m |\n",
      "Mu:0.66|Mu+:0.06|Beta:691.00|Sigma:345.00|Epsilon:697.43|EpIter:0.00\n",
      "| \u001b[0m 95      \u001b[0m | \u001b[0m-0.6479  \u001b[0m | \u001b[0m 691.1   \u001b[0m | \u001b[0m 697.4   \u001b[0m | \u001b[0m-2.72    \u001b[0m | \u001b[0m 0.6418  \u001b[0m | \u001b[0m 345.3   \u001b[0m |\n",
      "Mu:0.90|Mu+:0.18|Beta:341.00|Sigma:358.00|Epsilon:698.76|EpIter:0.00\n",
      "| \u001b[0m 96      \u001b[0m | \u001b[0m-0.9907  \u001b[0m | \u001b[0m 341.9   \u001b[0m | \u001b[0m 698.8   \u001b[0m | \u001b[0m-1.507   \u001b[0m | \u001b[0m 2.149   \u001b[0m | \u001b[0m 358.4   \u001b[0m |\n",
      "Mu:0.77|Mu+:0.02|Beta:361.00|Sigma:342.00|Epsilon:357.93|EpIter:0.00\n",
      "| \u001b[0m 97      \u001b[0m | \u001b[0m-0.1389  \u001b[0m | \u001b[0m 361.6   \u001b[0m | \u001b[0m 357.9   \u001b[0m | \u001b[0m-3.76    \u001b[0m | \u001b[0m 1.183   \u001b[0m | \u001b[0m 342.6   \u001b[0m |\n",
      "Mu:0.96|Mu+:0.01|Beta:355.00|Sigma:340.00|Epsilon:352.75|EpIter:0.00\n",
      "| \u001b[0m 98      \u001b[0m | \u001b[0m-2.221   \u001b[0m | \u001b[0m 355.2   \u001b[0m | \u001b[0m 352.7   \u001b[0m | \u001b[0m-4.566   \u001b[0m | \u001b[0m 3.185   \u001b[0m | \u001b[0m 340.2   \u001b[0m |\n",
      "Mu:0.97|Mu+:0.01|Beta:347.00|Sigma:690.00|Epsilon:350.73|EpIter:0.00\n",
      "| \u001b[0m 99      \u001b[0m | \u001b[0m-2.691   \u001b[0m | \u001b[0m 347.7   \u001b[0m | \u001b[0m 350.7   \u001b[0m | \u001b[0m-4.516   \u001b[0m | \u001b[0m 3.542   \u001b[0m | \u001b[0m 690.4   \u001b[0m |\n",
      "Mu:0.75|Mu+:0.12|Beta:353.00|Sigma:346.00|Epsilon:692.98|EpIter:0.00\n",
      "| \u001b[0m 100     \u001b[0m | \u001b[0m 0.01761 \u001b[0m | \u001b[0m 353.6   \u001b[0m | \u001b[0m 693.0   \u001b[0m | \u001b[0m-2.014   \u001b[0m | \u001b[0m 1.096   \u001b[0m | \u001b[0m 346.9   \u001b[0m |\n",
      "=====================================================================================\n"
     ]
    }
   ],
   "source": [
    "optimizer.maximize(\n",
    "    init_points=0,\n",
    "    n_iter=100-gsd_design.shape[0],\n",
    "    acq=\"ucb\",\n",
    "    kappa=2\n",
    ")"
   ]
  },
  {
   "cell_type": "code",
   "execution_count": 135,
   "metadata": {},
   "outputs": [
    {
     "data": {
      "text/plain": [
       "{'target': 0.4309728831511782,\n",
       " 'params': {'beta_sp': 350.04984627254953,\n",
       "  'epsilon_sp': 32.81832802950333,\n",
       "  'muIncr_logit': -1.9270464035913897,\n",
       "  'mu_logit': 0.9596395754580471,\n",
       "  'sigma_sp': 699.3973744268105}}"
      ]
     },
     "execution_count": 135,
     "metadata": {},
     "output_type": "execute_result"
    }
   ],
   "source": [
    "optimizer.max"
   ]
  },
  {
   "cell_type": "code",
   "execution_count": 136,
   "metadata": {
    "ExecuteTime": {
     "end_time": "2020-09-03T22:58:42.653746Z",
     "start_time": "2020-09-03T22:58:42.649916Z"
    }
   },
   "outputs": [
    {
     "data": {
      "text/plain": [
       "0.60610596"
      ]
     },
     "execution_count": 136,
     "metadata": {},
     "output_type": "execute_result"
    }
   ],
   "source": [
    "inv_logit(optimizer.max[\"target\"])"
   ]
  },
  {
   "cell_type": "code",
   "execution_count": 51,
   "metadata": {
    "ExecuteTime": {
     "end_time": "2020-09-03T22:59:56.414823Z",
     "start_time": "2020-09-03T22:59:56.412477Z"
    }
   },
   "outputs": [],
   "source": [
    "params=optimizer.max[\"params\"]"
   ]
  },
  {
   "cell_type": "code",
   "execution_count": 52,
   "metadata": {
    "ExecuteTime": {
     "end_time": "2020-09-03T23:00:39.452694Z",
     "start_time": "2020-09-03T23:00:39.449279Z"
    }
   },
   "outputs": [
    {
     "data": {
      "text/plain": [
       "29.851689931200212"
      ]
     },
     "execution_count": 52,
     "metadata": {},
     "output_type": "execute_result"
    }
   ],
   "source": [
    "softplus(params[\"beta_sp\"])"
   ]
  },
  {
   "cell_type": "code",
   "execution_count": 53,
   "metadata": {
    "ExecuteTime": {
     "end_time": "2020-09-03T23:01:09.671719Z",
     "start_time": "2020-09-03T23:01:09.668333Z"
    }
   },
   "outputs": [
    {
     "data": {
      "text/plain": [
       "453.49601863602436"
      ]
     },
     "execution_count": 53,
     "metadata": {},
     "output_type": "execute_result"
    }
   ],
   "source": [
    "softplus(params[\"sigma_sp\"])"
   ]
  },
  {
   "cell_type": "code",
   "execution_count": 54,
   "metadata": {
    "ExecuteTime": {
     "end_time": "2020-09-04T01:35:00.233453Z",
     "start_time": "2020-09-04T01:35:00.230360Z"
    }
   },
   "outputs": [
    {
     "data": {
      "text/plain": [
       "0.5"
      ]
     },
     "execution_count": 54,
     "metadata": {},
     "output_type": "execute_result"
    }
   ],
   "source": [
    "inv_logit(params[\"mu_logit\"])"
   ]
  },
  {
   "cell_type": "code",
   "execution_count": 55,
   "metadata": {
    "ExecuteTime": {
     "end_time": "2020-09-04T01:35:28.881809Z",
     "start_time": "2020-09-04T01:35:28.878641Z"
    }
   },
   "outputs": [
    {
     "data": {
      "text/plain": [
       "0.051004766758926935"
      ]
     },
     "execution_count": 55,
     "metadata": {},
     "output_type": "execute_result"
    }
   ],
   "source": [
    "inv_logit(params[\"muIncr_logit\"])"
   ]
  },
  {
   "cell_type": "code",
   "execution_count": 45,
   "metadata": {
    "ExecuteTime": {
     "end_time": "2020-09-04T01:36:46.943597Z",
     "start_time": "2020-09-04T01:36:46.940247Z"
    }
   },
   "outputs": [
    {
     "ename": "KeyError",
     "evalue": "'epsilonIterate_logit'",
     "output_type": "error",
     "traceback": [
      "\u001b[0;31m---------------------------------------------------------------------------\u001b[0m",
      "\u001b[0;31mKeyError\u001b[0m                                  Traceback (most recent call last)",
      "\u001b[0;32m<ipython-input-45-628145548ab6>\u001b[0m in \u001b[0;36m<module>\u001b[0;34m\u001b[0m\n\u001b[0;32m----> 1\u001b[0;31m \u001b[0minv_logit\u001b[0m\u001b[0;34m(\u001b[0m\u001b[0mparams\u001b[0m\u001b[0;34m[\u001b[0m\u001b[0;34m\"epsilonIterate_logit\"\u001b[0m\u001b[0;34m]\u001b[0m\u001b[0;34m)\u001b[0m\u001b[0;34m\u001b[0m\u001b[0;34m\u001b[0m\u001b[0m\n\u001b[0m",
      "\u001b[0;31mKeyError\u001b[0m: 'epsilonIterate_logit'"
     ]
    }
   ],
   "source": [
    "inv_logit(params[\"epsilonIterate_logit\"])"
   ]
  },
  {
   "cell_type": "code",
   "execution_count": 56,
   "metadata": {
    "ExecuteTime": {
     "end_time": "2020-09-04T01:36:13.729976Z",
     "start_time": "2020-09-04T01:36:13.726798Z"
    }
   },
   "outputs": [
    {
     "data": {
      "text/plain": [
       "29.18200686707413"
      ]
     },
     "execution_count": 56,
     "metadata": {},
     "output_type": "execute_result"
    }
   ],
   "source": [
    "softplus(params[\"epsilon_sp\"])"
   ]
  },
  {
   "cell_type": "code",
   "execution_count": 57,
   "metadata": {},
   "outputs": [
    {
     "name": "stdout",
     "output_type": "stream",
     "text": [
      "\n",
      ">>>>>>>>>>>>\n",
      "Starting Iteration mu= 0.5\n",
      "Starting Iteration epsilon= 29.18200686707413\n",
      "Running NewMatrix Jar!\n",
      " Single-Reference Blocks = 1\n",
      "\n",
      " Multi-Reference Blocks = 9900\n",
      "NewMatrix Iterateblocks Total Time = 10.462520653381944\n",
      "\n",
      "\n",
      ">>>>>>>>>>>>\n",
      "Starting Iteration mu= 0.551004766758927\n",
      "Starting Iteration epsilon= 29.18200686707413\n",
      "Running NewMatrix Jar!\n",
      " Single-Reference Blocks = 1\n",
      "\n",
      " Multi-Reference Blocks = 9174\n",
      "NewMatrix Iterateblocks Total Time = 10.022749735973775\n",
      "\n",
      "\n",
      ">>>>>>>>>>>>\n",
      "Starting Iteration mu= 0.6020095335178539\n",
      "Starting Iteration epsilon= 29.18200686707413\n",
      "Running NewMatrix Jar!\n",
      " Single-Reference Blocks = 1\n",
      "\n",
      " Multi-Reference Blocks = 7954\n",
      "NewMatrix Iterateblocks Total Time = 8.64361101295799\n",
      "\n",
      "\n",
      ">>>>>>>>>>>>\n",
      "Starting Iteration mu= 0.6530143002767809\n",
      "Starting Iteration epsilon= 29.18200686707413\n",
      "Running NewMatrix Jar!\n",
      " Single-Reference Blocks = 1\n",
      "\n",
      " Multi-Reference Blocks = 5754\n",
      "NewMatrix Iterateblocks Total Time = 6.570374641567469\n",
      "\n",
      "\n",
      ">>>>>>>>>>>>\n",
      "Starting Iteration mu= 0.7040190670357078\n",
      "Starting Iteration epsilon= 29.18200686707413\n",
      "Running NewMatrix Jar!\n",
      " Single-Reference Blocks = 1\n",
      "\n",
      " Multi-Reference Blocks = 3054\n",
      "NewMatrix Iterateblocks Total Time = 3.852817341685295\n",
      "\n",
      "\n",
      ">>>>>>>>>>>>\n",
      "Starting Iteration mu= 0.7550238337946348\n",
      "Starting Iteration epsilon= 29.18200686707413\n",
      "Running NewMatrix Jar!\n",
      " Single-Reference Blocks = 1\n",
      "\n",
      " Multi-Reference Blocks = 1132\n",
      "NewMatrix Iterateblocks Total Time = 1.6686566360294819\n",
      "\n",
      "Precision = TP / (TP + FP) ......................... = 0.77120100\n",
      "Recall = TP / (TP + FN) ............................ = 0.69316208\n",
      "F-Measure .......................................... = 0.73010211\n"
     ]
    },
    {
     "data": {
      "text/plain": [
       "0.73010211"
      ]
     },
     "execution_count": 57,
     "metadata": {},
     "output_type": "execute_result"
    }
   ],
   "source": [
    "entropy_F1(mu=0.5,\n",
    "           muIncr=0.051004766758926935,\n",
    "           beta=29,\n",
    "           sigma=453,\n",
    "           epsilon=29.18200686707413,\n",
    "           epsilonIterate=0)"
   ]
  }
 ],
 "metadata": {
  "kernelspec": {
   "display_name": "Python 3",
   "language": "python",
   "name": "python3"
  },
  "language_info": {
   "codemirror_mode": {
    "name": "ipython",
    "version": 3
   },
   "file_extension": ".py",
   "mimetype": "text/x-python",
   "name": "python",
   "nbconvert_exporter": "python",
   "pygments_lexer": "ipython3",
   "version": "3.7.4"
  },
  "toc": {
   "base_numbering": 1,
   "nav_menu": {},
   "number_sections": true,
   "sideBar": true,
   "skip_h1_title": false,
   "title_cell": "Table of Contents",
   "title_sidebar": "Contents",
   "toc_cell": false,
   "toc_position": {},
   "toc_section_display": true,
   "toc_window_display": false
  },
  "varInspector": {
   "cols": {
    "lenName": 16,
    "lenType": 16,
    "lenVar": 40
   },
   "kernels_config": {
    "python": {
     "delete_cmd_postfix": "",
     "delete_cmd_prefix": "del ",
     "library": "var_list.py",
     "varRefreshCmd": "print(var_dic_list())"
    },
    "r": {
     "delete_cmd_postfix": ") ",
     "delete_cmd_prefix": "rm(",
     "library": "var_list.r",
     "varRefreshCmd": "cat(var_dic_list()) "
    }
   },
   "types_to_exclude": [
    "module",
    "function",
    "builtin_function_or_method",
    "instance",
    "_Feature"
   ],
   "window_display": false
  }
 },
 "nbformat": 4,
 "nbformat_minor": 2
}
