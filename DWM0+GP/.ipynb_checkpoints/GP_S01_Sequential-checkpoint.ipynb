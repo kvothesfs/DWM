{
 "cells": [
  {
   "cell_type": "code",
   "execution_count": 23,
   "metadata": {
    "ExecuteTime": {
     "end_time": "2020-09-03T21:59:20.041891Z",
     "start_time": "2020-09-03T21:59:10.621897Z"
    }
   },
   "outputs": [
    {
     "name": "stdout",
     "output_type": "stream",
     "text": [
      "Tokenizing References\n",
      "Total References= 100\n",
      "Total Tokens Found = 1247\n",
      "Total Tokens Output = 1247\n",
      "Dictionary Load = 67077\n",
      "<class 'dict'>\n",
      "Global Replace Cycle\n",
      "Total References= 100\n",
      "Total Tokens= 1247\n",
      "Unique Tokens= 464\n",
      "Minimum Frequency of Standard Token =  5\n",
      "Minimum Length of Standard Token =  5\n",
      "Maximum Frequency of Error Token =  3\n",
      "References Processed= 100\n",
      "Sorted Token Size = 464\n",
      "Clean Token Size = 166\n",
      "*Stop Replacements here\n",
      "References Processed =  100\n",
      "Total Replacement Pairs = 3\n",
      "Tokens Read = 1247\n",
      "Tokens Changed =  8\n",
      "References Changed = 8\n"
     ]
    }
   ],
   "source": [
    "import DWM1_Tokenizer\n",
    "import DWM2_Global_Token_Replace_NewDict\n",
    "import DWM3_Entropy_Cluster\n",
    "# Settings for Tokenizer\n",
    "inputSampleName = r'S2'\n",
    "delimiter=','\n",
    "hasHeader = True\n",
    "tokenizerType = 'Splitter'\n",
    "removeDuplicateTokens = True\n",
    "\n",
    "# Setting for global replacement DWM2\n",
    "runReplacement = True\n",
    "minFreqStdToken = 5\n",
    "minLenStdToken = 5 #CHange from 3 to 5 as in paper\n",
    "maxFreqErrToken = 3\n",
    "\n",
    "# Cluster Settings\n",
    "\n",
    "\n",
    "DWM1_Tokenizer.tokenizeCycle(inputSampleName, delimiter, hasHeader, removeDuplicateTokens, tokenizerType)\n",
    "prefixString = inputSampleName +','+tokenizerType+','+str(removeDuplicateTokens)\n",
    "fileToCluster = inputSampleName + '-Tokenized.txt'\n",
    "if runReplacement:\n",
    "    DWM2_Global_Token_Replace_NewDict.globalReplace(inputSampleName, minFreqStdToken, minLenStdToken, maxFreqErrToken)\n",
    "    fileToCluster = inputSampleName + '-TokenReplace.txt'\n",
    "    prefixString = prefixString+','+str(minFreqStdToken)+','+str(minLenStdToken)+','+str(maxFreqErrToken)\n",
    "else:\n",
    "    prefixString = prefixString+',0,0,0'\n",
    "\n",
    "# Cluster fixed settings\n",
    "epsilonIterate = 0.0\n",
    "runClusterMetrics = False\n",
    "runFinalMetrics = True\n",
    "createFinalJoin = False"
   ]
  },
  {
   "cell_type": "code",
   "execution_count": 24,
   "metadata": {},
   "outputs": [],
   "source": [
    "status=\"done\""
   ]
  },
  {
   "cell_type": "code",
   "execution_count": 25,
   "metadata": {},
   "outputs": [
    {
     "name": "stdout",
     "output_type": "stream",
     "text": [
      "done\n"
     ]
    }
   ],
   "source": [
    "print(status)"
   ]
  },
  {
   "cell_type": "code",
   "execution_count": 26,
   "metadata": {
    "ExecuteTime": {
     "end_time": "2020-09-03T15:11:39.765508Z",
     "start_time": "2020-09-03T15:03:19.495876Z"
    },
    "scrolled": false
   },
   "outputs": [],
   "source": [
    "# # Cluster Robot Settings\n",
    "# muStart = 0.60\n",
    "# muEnd = 0.60\n",
    "# muIncr = 0.05\n",
    "# betaStart = 14\n",
    "# betaEnd = 14\n",
    "# betaIncr = 1\n",
    "# sigmaStart = 145\n",
    "# sigmaEnd = 145\n",
    "# sigmaIncr = 1\n",
    "# epsilonStart = 35\n",
    "# epsilonEnd = 35\n",
    "# epsilonIncr = 1\n",
    "# mu = muStart\n",
    "# while mu <= muEnd:\n",
    "#     beta = betaStart\n",
    "#     while beta <= betaEnd:\n",
    "#         sigma = sigmaStart\n",
    "#         while sigma <= sigmaEnd:\n",
    "#             epsilon = epsilonStart\n",
    "#             while epsilon <= epsilonEnd:\n",
    "#                 suffixString =','+str(epsilon)+','+str(epsilonIterate)\n",
    "#                 resultsList = DWM3_Entropy_Cluster.driver(fileToCluster, beta, sigma, mu, muIncr,epsilon,  \\\n",
    "#                                                      epsilonIterate,runClusterMetrics, runFinalMetrics, createFinalJoin, hasHeader)\n",
    "#                 seg0a = ','+str(resultsList[0])+','+str(resultsList[1])+','+str(resultsList[2])+','+str(resultsList[3])\n",
    "#                 seg0b =','+str(resultsList[4])+','+str(resultsList[5])+','+str(resultsList[6])\n",
    "#                 seg1 = ','+str(beta)+','+str(sigma)+','+str(mu)+ ',' +str(muIncr)\n",
    "#                 seg2 = ','+str(resultsList[7])+','+str(resultsList[8])+','+str(resultsList[9])\n",
    "#                 outString = prefixString+seg0a+seg0b+suffixString+seg1+seg2+'\\n'\n",
    "#                 resultsFile = open('RobotResults.txt','a+')\n",
    "#                 resultsFile.write(outString)\n",
    "#                 resultsFile.close()\n",
    "#                 epsilon = epsilon + epsilonIncr\n",
    "#             sigma = sigma + sigmaIncr\n",
    "#         beta = beta + betaIncr\n",
    "#     mu = mu + muIncr\n",
    "\n",
    "\n",
    " "
   ]
  },
  {
   "cell_type": "markdown",
   "metadata": {
    "ExecuteTime": {
     "end_time": "2020-09-03T16:36:26.229783Z",
     "start_time": "2020-09-03T16:36:26.227755Z"
    }
   },
   "source": [
    "## Bayesian Optimization of Hyperparameters"
   ]
  },
  {
   "cell_type": "code",
   "execution_count": 27,
   "metadata": {},
   "outputs": [],
   "source": [
    "import numpy as np"
   ]
  },
  {
   "cell_type": "markdown",
   "metadata": {
    "ExecuteTime": {
     "end_time": "2020-09-03T16:36:47.947518Z",
     "start_time": "2020-09-03T16:36:47.944251Z"
    }
   },
   "source": [
    "Create a function of the parameters that returns the F score"
   ]
  },
  {
   "cell_type": "code",
   "execution_count": 28,
   "metadata": {
    "ExecuteTime": {
     "end_time": "2020-09-03T21:59:42.561300Z",
     "start_time": "2020-09-03T21:59:42.557193Z"
    }
   },
   "outputs": [],
   "source": [
    "def entropy_F1(beta=14,sigma=145,mu=0.6,muIncr=0.05,epsilon=35,epsilonIterate=0):\n",
    "    resultsList = DWM3_Entropy_Cluster.driver(fileToCluster, \n",
    "                                  beta, \n",
    "                                  sigma, \n",
    "                                  mu, \n",
    "                                  muIncr,\n",
    "                                  epsilon,\n",
    "                                  epsilonIterate,\n",
    "                                  runClusterMetrics, \n",
    "                                  runFinalMetrics, \n",
    "                                  createFinalJoin, \n",
    "                                  hasHeader)\n",
    "    return resultsList[9]"
   ]
  },
  {
   "cell_type": "code",
   "execution_count": 29,
   "metadata": {
    "ExecuteTime": {
     "end_time": "2020-09-03T22:06:32.164588Z",
     "start_time": "2020-09-03T21:59:43.696518Z"
    }
   },
   "outputs": [
    {
     "name": "stdout",
     "output_type": "stream",
     "text": [
      "\n",
      ">>>>>>>>>>>>\n",
      "Starting Iteration mu= 0.5\n",
      "Starting Iteration epsilon= 4.7\n",
      "Running NewMatrix Jar!\n",
      " Single-Reference Blocks = 1\n",
      "\n",
      " Multi-Reference Blocks = 205\n",
      "NewMatrix Iterateblocks Total Time = 0.2938821520656347\n",
      "\n",
      "\n",
      ">>>>>>>>>>>>\n",
      "Starting Iteration mu= 0.6\n",
      "Starting Iteration epsilon= 4.7\n",
      "Running NewMatrix Jar!\n",
      " Single-Reference Blocks = 1\n",
      "\n",
      " Multi-Reference Blocks = 75\n",
      "NewMatrix Iterateblocks Total Time = 0.1988878734409809\n",
      "\n",
      "\n",
      ">>>>>>>>>>>>\n",
      "Starting Iteration mu= 0.7\n",
      "Starting Iteration epsilon= 4.7\n",
      "Running NewMatrix Jar!\n",
      " Single-Reference Blocks = 1\n",
      "\n",
      " Multi-Reference Blocks = 33\n",
      "NewMatrix Iterateblocks Total Time = 0.15063156094402075\n",
      "\n",
      "\n",
      ">>>>>>>>>>>>\n",
      "Starting Iteration mu= 0.7999999999999999\n",
      "Starting Iteration epsilon= 4.7\n",
      "Running NewMatrix Jar!\n",
      " Single-Reference Blocks = 1\n",
      "\n",
      " Multi-Reference Blocks = 14\n",
      "NewMatrix Iterateblocks Total Time = 0.13816524855792522\n",
      "\n",
      "Precision = TP / (TP + FP) ......................... = 0.87500000\n",
      "Recall = TP / (TP + FN) ............................ = 0.87500000\n",
      "F-Measure .......................................... = 0.87500000\n"
     ]
    },
    {
     "data": {
      "text/plain": [
       "0.875"
      ]
     },
     "execution_count": 29,
     "metadata": {},
     "output_type": "execute_result"
    }
   ],
   "source": [
    "entropy_F1(mu=0.5,muIncr=0.1,beta=6,sigma=7,epsilon=4.7,epsilonIterate=0)"
   ]
  },
  {
   "cell_type": "markdown",
   "metadata": {},
   "source": [
    "Create functions for variable transformation."
   ]
  },
  {
   "cell_type": "code",
   "execution_count": 30,
   "metadata": {
    "ExecuteTime": {
     "end_time": "2020-09-03T22:08:18.856511Z",
     "start_time": "2020-09-03T22:08:18.853611Z"
    }
   },
   "outputs": [],
   "source": [
    "#Softplus to transform real domain into positive\n",
    "def softplus(x):\n",
    "    return np.log(1+np.exp(x))\n",
    "\n",
    "def inv_softplus(x):\n",
    "    return np.log(np.exp(x)-1)"
   ]
  },
  {
   "cell_type": "code",
   "execution_count": 31,
   "metadata": {
    "ExecuteTime": {
     "end_time": "2020-09-03T22:08:27.349548Z",
     "start_time": "2020-09-03T22:08:27.345752Z"
    }
   },
   "outputs": [
    {
     "data": {
      "text/plain": [
       "0.541324854612918"
      ]
     },
     "execution_count": 31,
     "metadata": {},
     "output_type": "execute_result"
    }
   ],
   "source": [
    "inv_softplus(1)"
   ]
  },
  {
   "cell_type": "code",
   "execution_count": 32,
   "metadata": {
    "ExecuteTime": {
     "end_time": "2020-09-03T22:11:24.939913Z",
     "start_time": "2020-09-03T22:11:24.936639Z"
    }
   },
   "outputs": [],
   "source": [
    "#Logit to transform real domain into 0-1\n",
    "def logit(x):    \n",
    "    return np.log(x+1e-54)-np.log(1-x+1e-54)\n",
    "\n",
    "def inv_logit(x):\n",
    "    res=np.exp(x)/(np.exp(x)+1)-2*1e-54\n",
    "    if res<1e-54:\n",
    "        res=0\n",
    "    return res"
   ]
  },
  {
   "cell_type": "markdown",
   "metadata": {},
   "source": [
    "Import BO library:"
   ]
  },
  {
   "cell_type": "code",
   "execution_count": 33,
   "metadata": {
    "ExecuteTime": {
     "end_time": "2020-09-03T22:08:30.622144Z",
     "start_time": "2020-09-03T22:08:30.226842Z"
    }
   },
   "outputs": [],
   "source": [
    "from bayes_opt import BayesianOptimization"
   ]
  },
  {
   "cell_type": "markdown",
   "metadata": {
    "ExecuteTime": {
     "end_time": "2020-09-03T18:14:39.927785Z",
     "start_time": "2020-09-03T18:14:39.924909Z"
    }
   },
   "source": [
    "Create dictionary bounds for the parameters:"
   ]
  },
  {
   "cell_type": "code",
   "execution_count": 34,
   "metadata": {},
   "outputs": [],
   "source": [
    "import os, sys"
   ]
  },
  {
   "cell_type": "code",
   "execution_count": 35,
   "metadata": {},
   "outputs": [],
   "source": [
    "class HiddenPrints:\n",
    "    def __enter__(self):\n",
    "        self._original_stdout = sys.stdout\n",
    "        sys.stdout = open(os.devnull, 'w')\n",
    "\n",
    "    def __exit__(self, exc_type, exc_val, exc_tb):\n",
    "        sys.stdout.close()\n",
    "        sys.stdout = self._original_stdout"
   ]
  },
  {
   "cell_type": "code",
   "execution_count": 36,
   "metadata": {},
   "outputs": [
    {
     "name": "stdout",
     "output_type": "stream",
     "text": [
      "This will be printed as before\n"
     ]
    }
   ],
   "source": [
    "with HiddenPrints():\n",
    "    print(\"This will not be printed\")\n",
    "\n",
    "print(\"This will be printed as before\")"
   ]
  },
  {
   "cell_type": "code",
   "execution_count": 37,
   "metadata": {
    "ExecuteTime": {
     "end_time": "2020-09-03T22:11:53.005154Z",
     "start_time": "2020-09-03T22:11:53.000238Z"
    }
   },
   "outputs": [],
   "source": [
    "#Take parameters in transformed space and return f score in transformed space\n",
    "def entropy_F1_trx(beta_sp,sigma_sp,mu_logit,muIncr_logit,epsilon_sp,epsilonIterate_logit=logit(0)):\n",
    "    beta_pos=int(softplus(beta_sp))\n",
    "    sigma_pos=int(softplus(sigma_sp))\n",
    "    mu_01=inv_logit(mu_logit)\n",
    "    muIncr_01=inv_logit(muIncr_logit)\n",
    "    epsilon_pos=softplus(epsilon_sp)\n",
    "    epsilonIterate_01=inv_logit(epsilonIterate_logit)\n",
    "    \n",
    "    print(\"Mu:%.2f|Mu+:%.2f|Beta:%.2f|Sigma:%.2f|Epsilon:%.2f|EpIter:%.2f\" % (mu_01, muIncr_01, beta_pos, sigma_pos, epsilon_pos, epsilonIterate_01))\n",
    "    \n",
    "    with HiddenPrints():\n",
    "        f1=entropy_F1(beta=beta_pos,\n",
    "                      epsilon=epsilon_pos,\n",
    "                      epsilonIterate=epsilonIterate_01,\n",
    "                      muIncr=muIncr_01,\n",
    "                      sigma=sigma_pos,\n",
    "                      mu=mu_01)\n",
    "    \n",
    "    return logit(f1)"
   ]
  },
  {
   "cell_type": "code",
   "execution_count": 38,
   "metadata": {},
   "outputs": [
    {
     "name": "stdout",
     "output_type": "stream",
     "text": [
      "Mu:0.50|Mu+:0.05|Beta:33.00|Sigma:449.00|Epsilon:31.80|EpIter:0.00\n"
     ]
    },
    {
     "data": {
      "text/plain": [
       "-0.7586617742112225"
      ]
     },
     "execution_count": 38,
     "metadata": {},
     "output_type": "execute_result"
    }
   ],
   "source": [
    "entropy_F1_trx(beta_sp=inv_softplus(33),\n",
    "               sigma_sp=inv_softplus(449),\n",
    "               mu_logit=logit(0.5),\n",
    "               muIncr_logit=logit(0.05),\n",
    "               epsilon_sp=inv_softplus(31.8))"
   ]
  },
  {
   "cell_type": "code",
   "execution_count": 39,
   "metadata": {},
   "outputs": [],
   "source": [
    "optimizer=None"
   ]
  },
  {
   "cell_type": "code",
   "execution_count": 40,
   "metadata": {
    "ExecuteTime": {
     "end_time": "2020-09-03T22:11:50.787503Z",
     "start_time": "2020-09-03T22:11:50.784060Z"
    }
   },
   "outputs": [],
   "source": [
    "pbounds = {'beta_sp': (inv_softplus(1), inv_softplus(700)), \n",
    "           'sigma_sp': (inv_softplus(1), inv_softplus(700)),\n",
    "           'mu_logit': (logit(0.5), logit(0.99)),\n",
    "           'muIncr_logit': (logit(0.01), logit(0.2)),\n",
    "           'epsilon_sp': (inv_softplus(1), inv_softplus(700))}#,\n",
    "           #'epsilonIterate_logit': (logit(0), logit(0.25))}"
   ]
  },
  {
   "cell_type": "code",
   "execution_count": 41,
   "metadata": {},
   "outputs": [],
   "source": [
    "from bayes_opt import SequentialDomainReductionTransformer"
   ]
  },
  {
   "cell_type": "code",
   "execution_count": 42,
   "metadata": {},
   "outputs": [],
   "source": [
    "bounds_transformer = SequentialDomainReductionTransformer()"
   ]
  },
  {
   "cell_type": "code",
   "execution_count": 43,
   "metadata": {
    "ExecuteTime": {
     "end_time": "2020-09-03T22:11:56.728829Z",
     "start_time": "2020-09-03T22:11:56.725599Z"
    }
   },
   "outputs": [],
   "source": [
    "optimizer = BayesianOptimization(\n",
    "    f=entropy_F1_trx,\n",
    "    pbounds=pbounds,\n",
    "    random_state=1,\n",
    "    bounds_transformer=bounds_transformer\n",
    ")"
   ]
  },
  {
   "cell_type": "code",
   "execution_count": 44,
   "metadata": {},
   "outputs": [],
   "source": [
    "# optimizer.probe(\n",
    "#     params={\"beta_sp\": inv_softplus(6), \n",
    "#             \"sigma_sp\": inv_softplus(7),\n",
    "#             \"mu_logit\":logit(0.5),\n",
    "#             #'epsilonIterate_logit': logit(0),\n",
    "#             \"muIncr_logit\":logit(0.1),\n",
    "#             \"epsilon_sp\":inv_softplus(4.7)},\n",
    "#     lazy=True,\n",
    "# )"
   ]
  },
  {
   "cell_type": "code",
   "execution_count": 45,
   "metadata": {
    "ExecuteTime": {
     "end_time": "2020-09-03T22:54:10.009085Z",
     "start_time": "2020-09-03T22:11:58.063246Z"
    }
   },
   "outputs": [
    {
     "name": "stdout",
     "output_type": "stream",
     "text": [
      "|   iter    |  target   |  beta_sp  | epsilo... | muIncr... | mu_logit  | sigma_sp  |\n",
      "-------------------------------------------------------------------------------------\n",
      "Mu:0.80|Mu+:0.01|Beta:292.00|Sigma:103.00|Epsilon:504.38|EpIter:0.00\n",
      "| \u001b[0m 1       \u001b[0m | \u001b[0m 1.743   \u001b[0m | \u001b[0m 292.2   \u001b[0m | \u001b[0m 504.4   \u001b[0m | \u001b[0m-4.595   \u001b[0m | \u001b[0m 1.389   \u001b[0m | \u001b[0m 103.2   \u001b[0m |\n",
      "Mu:0.86|Mu+:0.03|Beta:65.00|Sigma:377.00|Epsilon:130.82|EpIter:0.00\n",
      "| \u001b[95m 2       \u001b[0m | \u001b[95m 1.792   \u001b[0m | \u001b[95m 65.13   \u001b[0m | \u001b[95m 130.8   \u001b[0m | \u001b[95m-3.486   \u001b[0m | \u001b[95m 1.823   \u001b[0m | \u001b[95m 377.4   \u001b[0m |\n",
      "Mu:0.98|Mu+:0.02|Beta:293.00|Sigma:19.00|Epsilon:479.82|EpIter:0.00\n",
      "| \u001b[0m 3       \u001b[0m | \u001b[0m 0.4418  \u001b[0m | \u001b[0m 293.8   \u001b[0m | \u001b[0m 479.8   \u001b[0m | \u001b[0m-3.939   \u001b[0m | \u001b[0m 4.035   \u001b[0m | \u001b[0m 19.7    \u001b[0m |\n",
      "Mu:0.66|Mu+:0.06|Beta:469.00|Sigma:139.00|Epsilon:292.43|EpIter:0.00\n",
      "| \u001b[0m 4       \u001b[0m | \u001b[0m 1.689   \u001b[0m | \u001b[0m 469.5   \u001b[0m | \u001b[0m 292.4   \u001b[0m | \u001b[0m-2.802   \u001b[0m | \u001b[0m 0.6451  \u001b[0m | \u001b[0m 139.1   \u001b[0m |\n",
      "Mu:0.96|Mu+:0.03|Beta:560.00|Sigma:613.00|Epsilon:677.80|EpIter:0.00\n",
      "| \u001b[0m 5       \u001b[0m | \u001b[0m 1.447   \u001b[0m | \u001b[0m 560.6   \u001b[0m | \u001b[0m 677.8   \u001b[0m | \u001b[0m-3.589   \u001b[0m | \u001b[0m 3.181   \u001b[0m | \u001b[0m 613.5   \u001b[0m |\n",
      "Mu:0.69|Mu+:0.01|Beta:626.00|Sigma:614.00|Epsilon:60.03|EpIter:0.00\n",
      "| \u001b[0m 6       \u001b[0m | \u001b[0m 1.727   \u001b[0m | \u001b[0m 626.3   \u001b[0m | \u001b[0m 60.03   \u001b[0m | \u001b[0m-4.47    \u001b[0m | \u001b[0m 0.7804  \u001b[0m | \u001b[0m 614.8   \u001b[0m |\n",
      "Mu:0.92|Mu+:0.18|Beta:69.00|Sigma:484.00|Epsilon:295.09|EpIter:0.00\n",
      "| \u001b[0m 7       \u001b[0m | \u001b[0m 1.739   \u001b[0m | \u001b[0m 69.33   \u001b[0m | \u001b[0m 295.1   \u001b[0m | \u001b[0m-1.521   \u001b[0m | \u001b[0m 2.45    \u001b[0m | \u001b[0m 484.5   \u001b[0m |\n",
      "Mu:0.52|Mu+:0.13|Beta:221.00|Sigma:525.00|Epsilon:480.72|EpIter:0.00\n",
      "| \u001b[0m 8       \u001b[0m | \u001b[0m-3.035   \u001b[0m | \u001b[0m 221.2   \u001b[0m | \u001b[0m 480.7   \u001b[0m | \u001b[0m-1.917   \u001b[0m | \u001b[0m 0.08404 \u001b[0m | \u001b[0m 525.2   \u001b[0m |\n",
      "Mu:0.97|Mu+:0.02|Beta:692.00|Sigma:72.00|Epsilon:523.85|EpIter:0.00\n",
      "| \u001b[0m 9       \u001b[0m | \u001b[0m 1.269   \u001b[0m | \u001b[0m 692.2   \u001b[0m | \u001b[0m 523.9   \u001b[0m | \u001b[0m-3.695   \u001b[0m | \u001b[0m 3.627   \u001b[0m | \u001b[0m 72.74   \u001b[0m |\n",
      "Mu:0.79|Mu+:0.03|Beta:313.00|Sigma:91.00|Epsilon:636.07|EpIter:0.00\n",
      "| \u001b[0m 10      \u001b[0m | \u001b[0m 1.743   \u001b[0m | \u001b[0m 313.8   \u001b[0m | \u001b[0m 636.1   \u001b[0m | \u001b[0m-3.653   \u001b[0m | \u001b[0m 1.322   \u001b[0m | \u001b[0m 91.49   \u001b[0m |\n",
      "Mu:0.82|Mu+:0.03|Beta:63.00|Sigma:377.00|Epsilon:127.72|EpIter:0.00\n",
      "| \u001b[0m 11      \u001b[0m | \u001b[0m 1.792   \u001b[0m | \u001b[0m 63.1    \u001b[0m | \u001b[0m 127.7   \u001b[0m | \u001b[0m-3.4     \u001b[0m | \u001b[0m 1.529   \u001b[0m | \u001b[0m 377.9   \u001b[0m |\n",
      "Mu:0.86|Mu+:0.03|Beta:52.00|Sigma:426.00|Epsilon:154.21|EpIter:0.00\n",
      "| \u001b[0m 12      \u001b[0m | \u001b[0m 1.792   \u001b[0m | \u001b[0m 52.1    \u001b[0m | \u001b[0m 154.2   \u001b[0m | \u001b[0m-3.513   \u001b[0m | \u001b[0m 1.854   \u001b[0m | \u001b[0m 426.8   \u001b[0m |\n",
      "Mu:0.92|Mu+:0.02|Beta:153.00|Sigma:309.00|Epsilon:194.87|EpIter:0.00\n",
      "| \u001b[0m 13      \u001b[0m | \u001b[0m 1.739   \u001b[0m | \u001b[0m 153.7   \u001b[0m | \u001b[0m 194.9   \u001b[0m | \u001b[0m-3.791   \u001b[0m | \u001b[0m 2.378   \u001b[0m | \u001b[0m 310.0   \u001b[0m |\n",
      "Mu:0.79|Mu+:0.04|Beta:144.00|Sigma:438.00|Epsilon:73.18|EpIter:0.00\n",
      "| \u001b[0m 14      \u001b[0m | \u001b[0m 1.743   \u001b[0m | \u001b[0m 144.9   \u001b[0m | \u001b[0m 73.18   \u001b[0m | \u001b[0m-3.212   \u001b[0m | \u001b[0m 1.324   \u001b[0m | \u001b[0m 438.1   \u001b[0m |\n",
      "Mu:0.90|Mu+:0.03|Beta:1.00|Sigma:325.00|Epsilon:82.38|EpIter:0.00\n",
      "| \u001b[0m 15      \u001b[0m | \u001b[0m-124.3   \u001b[0m | \u001b[0m 1.696   \u001b[0m | \u001b[0m 82.38   \u001b[0m | \u001b[0m-3.38    \u001b[0m | \u001b[0m 2.188   \u001b[0m | \u001b[0m 325.3   \u001b[0m |\n",
      "Mu:0.84|Mu+:0.03|Beta:63.00|Sigma:384.00|Epsilon:132.79|EpIter:0.00\n",
      "| \u001b[0m 16      \u001b[0m | \u001b[0m 1.792   \u001b[0m | \u001b[0m 63.64   \u001b[0m | \u001b[0m 132.8   \u001b[0m | \u001b[0m-3.448   \u001b[0m | \u001b[0m 1.674   \u001b[0m | \u001b[0m 384.3   \u001b[0m |\n",
      "Mu:0.84|Mu+:0.03|Beta:62.00|Sigma:389.00|Epsilon:135.38|EpIter:0.00\n",
      "| \u001b[0m 17      \u001b[0m | \u001b[0m 1.792   \u001b[0m | \u001b[0m 62.77   \u001b[0m | \u001b[0m 135.4   \u001b[0m | \u001b[0m-3.456   \u001b[0m | \u001b[0m 1.694   \u001b[0m | \u001b[0m 389.2   \u001b[0m |\n",
      "Mu:0.85|Mu+:0.03|Beta:61.00|Sigma:394.00|Epsilon:138.04|EpIter:0.00\n",
      "| \u001b[0m 18      \u001b[0m | \u001b[0m 1.792   \u001b[0m | \u001b[0m 61.41   \u001b[0m | \u001b[0m 138.0   \u001b[0m | \u001b[0m-3.466   \u001b[0m | \u001b[0m 1.724   \u001b[0m | \u001b[0m 394.4   \u001b[0m |\n",
      "Mu:0.82|Mu+:0.03|Beta:70.00|Sigma:392.00|Epsilon:135.54|EpIter:0.00\n",
      "| \u001b[0m 19      \u001b[0m | \u001b[0m 1.649   \u001b[0m | \u001b[0m 70.34   \u001b[0m | \u001b[0m 135.5   \u001b[0m | \u001b[0m-3.404   \u001b[0m | \u001b[0m 1.528   \u001b[0m | \u001b[0m 392.6   \u001b[0m |\n",
      "Mu:0.85|Mu+:0.03|Beta:58.00|Sigma:402.00|Epsilon:142.30|EpIter:0.00\n",
      "| \u001b[0m 20      \u001b[0m | \u001b[0m 1.792   \u001b[0m | \u001b[0m 58.9    \u001b[0m | \u001b[0m 142.3   \u001b[0m | \u001b[0m-3.481   \u001b[0m | \u001b[0m 1.76    \u001b[0m | \u001b[0m 402.5   \u001b[0m |\n",
      "Mu:0.84|Mu+:0.03|Beta:63.00|Sigma:389.00|Epsilon:147.63|EpIter:0.00\n",
      "| \u001b[0m 21      \u001b[0m | \u001b[0m 1.792   \u001b[0m | \u001b[0m 63.27   \u001b[0m | \u001b[0m 147.6   \u001b[0m | \u001b[0m-3.552   \u001b[0m | \u001b[0m 1.629   \u001b[0m | \u001b[0m 389.4   \u001b[0m |\n",
      "Mu:0.88|Mu+:0.03|Beta:68.00|Sigma:403.00|Epsilon:145.57|EpIter:0.00\n",
      "| \u001b[95m 22      \u001b[0m | \u001b[95m 1.959   \u001b[0m | \u001b[95m 68.24   \u001b[0m | \u001b[95m 145.6   \u001b[0m | \u001b[95m-3.604   \u001b[0m | \u001b[95m 2.038   \u001b[0m | \u001b[95m 403.6   \u001b[0m |\n",
      "Mu:0.90|Mu+:0.02|Beta:61.00|Sigma:405.00|Epsilon:132.01|EpIter:0.00\n",
      "| \u001b[0m 23      \u001b[0m | \u001b[0m 1.846   \u001b[0m | \u001b[0m 61.92   \u001b[0m | \u001b[0m 132.0   \u001b[0m | \u001b[0m-3.705   \u001b[0m | \u001b[0m 2.221   \u001b[0m | \u001b[0m 405.7   \u001b[0m |\n",
      "Mu:0.90|Mu+:0.02|Beta:51.00|Sigma:402.00|Epsilon:147.01|EpIter:0.00\n",
      "| \u001b[0m 24      \u001b[0m | \u001b[0m 1.846   \u001b[0m | \u001b[0m 51.27   \u001b[0m | \u001b[0m 147.0   \u001b[0m | \u001b[0m-3.695   \u001b[0m | \u001b[0m 2.203   \u001b[0m | \u001b[0m 402.7   \u001b[0m |\n",
      "Mu:0.87|Mu+:0.03|Beta:63.00|Sigma:408.00|Epsilon:153.94|EpIter:0.00\n",
      "| \u001b[0m 25      \u001b[0m | \u001b[0m 1.792   \u001b[0m | \u001b[0m 63.61   \u001b[0m | \u001b[0m 153.9   \u001b[0m | \u001b[0m-3.523   \u001b[0m | \u001b[0m 1.89    \u001b[0m | \u001b[0m 408.3   \u001b[0m |\n",
      "Mu:0.87|Mu+:0.03|Beta:63.00|Sigma:416.00|Epsilon:139.50|EpIter:0.00\n",
      "| \u001b[0m 26      \u001b[0m | \u001b[0m 1.792   \u001b[0m | \u001b[0m 63.25   \u001b[0m | \u001b[0m 139.5   \u001b[0m | \u001b[0m-3.531   \u001b[0m | \u001b[0m 1.905   \u001b[0m | \u001b[0m 416.6   \u001b[0m |\n",
      "Mu:0.90|Mu+:0.02|Beta:78.00|Sigma:400.00|Epsilon:138.95|EpIter:0.00\n",
      "| \u001b[0m 27      \u001b[0m | \u001b[0m 1.846   \u001b[0m | \u001b[0m 78.56   \u001b[0m | \u001b[0m 139.0   \u001b[0m | \u001b[0m-3.67    \u001b[0m | \u001b[0m 2.158   \u001b[0m | \u001b[0m 400.1   \u001b[0m |\n",
      "Mu:0.90|Mu+:0.02|Beta:74.00|Sigma:390.00|Epsilon:151.44|EpIter:0.00\n",
      "| \u001b[0m 28      \u001b[0m | \u001b[0m 1.846   \u001b[0m | \u001b[0m 74.66   \u001b[0m | \u001b[0m 151.4   \u001b[0m | \u001b[0m-3.664   \u001b[0m | \u001b[0m 2.146   \u001b[0m | \u001b[0m 390.4   \u001b[0m |\n",
      "Mu:0.87|Mu+:0.03|Beta:75.00|Sigma:414.00|Epsilon:149.96|EpIter:0.00\n",
      "| \u001b[0m 29      \u001b[0m | \u001b[0m 1.959   \u001b[0m | \u001b[0m 75.91   \u001b[0m | \u001b[0m 150.0   \u001b[0m | \u001b[0m-3.658   \u001b[0m | \u001b[0m 1.941   \u001b[0m | \u001b[0m 414.8   \u001b[0m |\n",
      "Mu:0.88|Mu+:0.03|Beta:77.00|Sigma:411.00|Epsilon:135.24|EpIter:0.00\n",
      "| \u001b[0m 30      \u001b[0m | \u001b[0m 1.959   \u001b[0m | \u001b[0m 77.73   \u001b[0m | \u001b[0m 135.2   \u001b[0m | \u001b[0m-3.556   \u001b[0m | \u001b[0m 1.951   \u001b[0m | \u001b[0m 411.8   \u001b[0m |\n",
      "Mu:0.89|Mu+:0.03|Beta:81.00|Sigma:393.00|Epsilon:136.27|EpIter:0.00\n",
      "| \u001b[0m 31      \u001b[0m | \u001b[0m 1.959   \u001b[0m | \u001b[0m 81.48   \u001b[0m | \u001b[0m 136.3   \u001b[0m | \u001b[0m-3.648   \u001b[0m | \u001b[0m 2.117   \u001b[0m | \u001b[0m 394.0   \u001b[0m |\n",
      "Mu:0.88|Mu+:0.03|Beta:80.00|Sigma:402.00|Epsilon:153.93|EpIter:0.00\n",
      "| \u001b[0m 32      \u001b[0m | \u001b[0m 1.959   \u001b[0m | \u001b[0m 80.15   \u001b[0m | \u001b[0m 153.9   \u001b[0m | \u001b[0m-3.566   \u001b[0m | \u001b[0m 1.967   \u001b[0m | \u001b[0m 402.5   \u001b[0m |\n",
      "Mu:0.89|Mu+:0.03|Beta:62.00|Sigma:395.00|Epsilon:153.10|EpIter:0.00\n",
      "| \u001b[0m 33      \u001b[0m | \u001b[0m 1.959   \u001b[0m | \u001b[0m 62.19   \u001b[0m | \u001b[0m 153.1   \u001b[0m | \u001b[0m-3.639   \u001b[0m | \u001b[0m 2.102   \u001b[0m | \u001b[0m 395.8   \u001b[0m |\n",
      "Mu:0.89|Mu+:0.03|Beta:68.00|Sigma:410.00|Epsilon:152.34|EpIter:0.00\n",
      "| \u001b[0m 34      \u001b[0m | \u001b[0m 1.959   \u001b[0m | \u001b[0m 68.92   \u001b[0m | \u001b[0m 152.3   \u001b[0m | \u001b[0m-3.636   \u001b[0m | \u001b[0m 2.095   \u001b[0m | \u001b[0m 410.5   \u001b[0m |\n",
      "Mu:0.89|Mu+:0.03|Beta:76.00|Sigma:409.00|Epsilon:139.47|EpIter:0.00\n",
      "| \u001b[0m 35      \u001b[0m | \u001b[0m 1.959   \u001b[0m | \u001b[0m 76.93   \u001b[0m | \u001b[0m 139.5   \u001b[0m | \u001b[0m-3.633   \u001b[0m | \u001b[0m 2.09    \u001b[0m | \u001b[0m 409.8   \u001b[0m |\n",
      "Mu:0.89|Mu+:0.03|Beta:76.00|Sigma:397.00|Epsilon:151.06|EpIter:0.00\n",
      "| \u001b[0m 36      \u001b[0m | \u001b[0m 1.959   \u001b[0m | \u001b[0m 76.06   \u001b[0m | \u001b[0m 151.1   \u001b[0m | \u001b[0m-3.579   \u001b[0m | \u001b[0m 2.085   \u001b[0m | \u001b[0m 397.9   \u001b[0m |\n",
      "Mu:0.89|Mu+:0.03|Beta:61.00|Sigma:408.00|Epsilon:140.63|EpIter:0.00\n",
      "| \u001b[0m 37      \u001b[0m | \u001b[0m 1.959   \u001b[0m | \u001b[0m 61.21   \u001b[0m | \u001b[0m 140.6   \u001b[0m | \u001b[0m-3.627   \u001b[0m | \u001b[0m 2.08    \u001b[0m | \u001b[0m 408.6   \u001b[0m |\n",
      "Mu:0.89|Mu+:0.03|Beta:74.00|Sigma:398.00|Epsilon:141.12|EpIter:0.00\n",
      "| \u001b[0m 38      \u001b[0m | \u001b[0m 1.959   \u001b[0m | \u001b[0m 74.57   \u001b[0m | \u001b[0m 141.1   \u001b[0m | \u001b[0m-3.625   \u001b[0m | \u001b[0m 2.076   \u001b[0m | \u001b[0m 399.0   \u001b[0m |\n",
      "Mu:0.89|Mu+:0.03|Beta:62.00|Sigma:407.00|Epsilon:149.57|EpIter:0.00\n"
     ]
    },
    {
     "name": "stdout",
     "output_type": "stream",
     "text": [
      "| \u001b[0m 39      \u001b[0m | \u001b[0m 1.959   \u001b[0m | \u001b[0m 62.55   \u001b[0m | \u001b[0m 149.6   \u001b[0m | \u001b[0m-3.623   \u001b[0m | \u001b[0m 2.072   \u001b[0m | \u001b[0m 407.7   \u001b[0m |\n",
      "Mu:0.88|Mu+:0.03|Beta:73.00|Sigma:407.00|Epsilon:149.17|EpIter:0.00\n",
      "| \u001b[0m 40      \u001b[0m | \u001b[0m 1.959   \u001b[0m | \u001b[0m 73.37   \u001b[0m | \u001b[0m 149.2   \u001b[0m | \u001b[0m-3.588   \u001b[0m | \u001b[0m 2.008   \u001b[0m | \u001b[0m 407.3   \u001b[0m |\n",
      "Mu:0.89|Mu+:0.03|Beta:63.00|Sigma:400.00|Epsilon:148.81|EpIter:0.00\n",
      "| \u001b[0m 41      \u001b[0m | \u001b[0m 1.959   \u001b[0m | \u001b[0m 63.63   \u001b[0m | \u001b[0m 148.8   \u001b[0m | \u001b[0m-3.62    \u001b[0m | \u001b[0m 2.066   \u001b[0m | \u001b[0m 400.2   \u001b[0m |\n",
      "Mu:0.89|Mu+:0.03|Beta:72.00|Sigma:400.00|Epsilon:142.65|EpIter:0.00\n",
      "| \u001b[0m 42      \u001b[0m | \u001b[0m 1.959   \u001b[0m | \u001b[0m 72.4    \u001b[0m | \u001b[0m 142.6   \u001b[0m | \u001b[0m-3.618   \u001b[0m | \u001b[0m 2.063   \u001b[0m | \u001b[0m 400.6   \u001b[0m |\n",
      "Mu:0.89|Mu+:0.03|Beta:64.00|Sigma:406.00|Epsilon:142.94|EpIter:0.00\n",
      "| \u001b[0m 43      \u001b[0m | \u001b[0m 1.959   \u001b[0m | \u001b[0m 64.5    \u001b[0m | \u001b[0m 142.9   \u001b[0m | \u001b[0m-3.617   \u001b[0m | \u001b[0m 2.06    \u001b[0m | \u001b[0m 406.3   \u001b[0m |\n",
      "Mu:0.89|Mu+:0.03|Beta:71.00|Sigma:405.00|Epsilon:143.20|EpIter:0.00\n",
      "| \u001b[0m 44      \u001b[0m | \u001b[0m 1.959   \u001b[0m | \u001b[0m 71.61   \u001b[0m | \u001b[0m 143.2   \u001b[0m | \u001b[0m-3.615   \u001b[0m | \u001b[0m 2.058   \u001b[0m | \u001b[0m 406.0   \u001b[0m |\n",
      "Mu:0.89|Mu+:0.03|Beta:65.00|Sigma:401.00|Epsilon:147.69|EpIter:0.00\n",
      "| \u001b[0m 45      \u001b[0m | \u001b[0m 1.959   \u001b[0m | \u001b[0m 65.21   \u001b[0m | \u001b[0m 147.7   \u001b[0m | \u001b[0m-3.614   \u001b[0m | \u001b[0m 2.056   \u001b[0m | \u001b[0m 401.4   \u001b[0m |\n",
      "Mu:0.89|Mu+:0.03|Beta:70.00|Sigma:401.00|Epsilon:143.65|EpIter:0.00\n",
      "| \u001b[0m 46      \u001b[0m | \u001b[0m 1.959   \u001b[0m | \u001b[0m 70.97   \u001b[0m | \u001b[0m 143.7   \u001b[0m | \u001b[0m-3.613   \u001b[0m | \u001b[0m 2.054   \u001b[0m | \u001b[0m 401.6   \u001b[0m |\n",
      "Mu:0.89|Mu+:0.03|Beta:70.00|Sigma:401.00|Epsilon:147.29|EpIter:0.00\n",
      "| \u001b[0m 47      \u001b[0m | \u001b[0m 1.959   \u001b[0m | \u001b[0m 70.69   \u001b[0m | \u001b[0m 147.3   \u001b[0m | \u001b[0m-3.596   \u001b[0m | \u001b[0m 2.053   \u001b[0m | \u001b[0m 401.8   \u001b[0m |\n",
      "Mu:0.89|Mu+:0.03|Beta:66.00|Sigma:405.00|Epsilon:144.02|EpIter:0.00\n",
      "| \u001b[0m 48      \u001b[0m | \u001b[0m 1.959   \u001b[0m | \u001b[0m 66.04   \u001b[0m | \u001b[0m 144.0   \u001b[0m | \u001b[0m-3.612   \u001b[0m | \u001b[0m 2.051   \u001b[0m | \u001b[0m 405.1   \u001b[0m |\n",
      "Mu:0.89|Mu+:0.03|Beta:66.00|Sigma:402.00|Epsilon:144.17|EpIter:0.00\n",
      "| \u001b[0m 49      \u001b[0m | \u001b[0m 1.959   \u001b[0m | \u001b[0m 66.26   \u001b[0m | \u001b[0m 144.2   \u001b[0m | \u001b[0m-3.611   \u001b[0m | \u001b[0m 2.05    \u001b[0m | \u001b[0m 402.1   \u001b[0m |\n",
      "Mu:0.88|Mu+:0.03|Beta:70.00|Sigma:404.00|Epsilon:146.82|EpIter:0.00\n",
      "| \u001b[0m 50      \u001b[0m | \u001b[0m 1.959   \u001b[0m | \u001b[0m 70.03   \u001b[0m | \u001b[0m 146.8   \u001b[0m | \u001b[0m-3.599   \u001b[0m | \u001b[0m 2.028   \u001b[0m | \u001b[0m 404.8   \u001b[0m |\n",
      "Mu:0.88|Mu+:0.03|Beta:69.00|Sigma:404.00|Epsilon:144.46|EpIter:0.00\n",
      "| \u001b[0m 51      \u001b[0m | \u001b[0m 1.959   \u001b[0m | \u001b[0m 69.83   \u001b[0m | \u001b[0m 144.5   \u001b[0m | \u001b[0m-3.603   \u001b[0m | \u001b[0m 2.04    \u001b[0m | \u001b[0m 404.7   \u001b[0m |\n",
      "Mu:0.89|Mu+:0.03|Beta:66.00|Sigma:402.00|Epsilon:146.58|EpIter:0.00\n",
      "| \u001b[0m 52      \u001b[0m | \u001b[0m 1.959   \u001b[0m | \u001b[0m 66.79   \u001b[0m | \u001b[0m 146.6   \u001b[0m | \u001b[0m-3.609   \u001b[0m | \u001b[0m 2.047   \u001b[0m | \u001b[0m 402.5   \u001b[0m |\n",
      "Mu:0.89|Mu+:0.03|Beta:69.00|Sigma:402.00|Epsilon:146.48|EpIter:0.00\n",
      "| \u001b[0m 53      \u001b[0m | \u001b[0m 1.959   \u001b[0m | \u001b[0m 69.55   \u001b[0m | \u001b[0m 146.5   \u001b[0m | \u001b[0m-3.609   \u001b[0m | \u001b[0m 2.046   \u001b[0m | \u001b[0m 402.6   \u001b[0m |\n",
      "Mu:0.89|Mu+:0.03|Beta:67.00|Sigma:404.00|Epsilon:144.74|EpIter:0.00\n",
      "| \u001b[0m 54      \u001b[0m | \u001b[0m 1.959   \u001b[0m | \u001b[0m 67.07   \u001b[0m | \u001b[0m 144.7   \u001b[0m | \u001b[0m-3.608   \u001b[0m | \u001b[0m 2.045   \u001b[0m | \u001b[0m 404.4   \u001b[0m |\n",
      "Mu:0.89|Mu+:0.03|Beta:69.00|Sigma:402.00|Epsilon:146.31|EpIter:0.00\n",
      "| \u001b[0m 55      \u001b[0m | \u001b[0m 1.959   \u001b[0m | \u001b[0m 69.3    \u001b[0m | \u001b[0m 146.3   \u001b[0m | \u001b[0m-3.601   \u001b[0m | \u001b[0m 2.044   \u001b[0m | \u001b[0m 402.8   \u001b[0m |\n",
      "Mu:0.89|Mu+:0.03|Beta:67.00|Sigma:404.00|Epsilon:144.90|EpIter:0.00\n",
      "| \u001b[0m 56      \u001b[0m | \u001b[0m 1.959   \u001b[0m | \u001b[0m 67.29   \u001b[0m | \u001b[0m 144.9   \u001b[0m | \u001b[0m-3.608   \u001b[0m | \u001b[0m 2.044   \u001b[0m | \u001b[0m 404.2   \u001b[0m |\n",
      "Mu:0.89|Mu+:0.03|Beta:67.00|Sigma:402.00|Epsilon:144.97|EpIter:0.00\n",
      "| \u001b[0m 57      \u001b[0m | \u001b[0m 1.959   \u001b[0m | \u001b[0m 67.39   \u001b[0m | \u001b[0m 145.0   \u001b[0m | \u001b[0m-3.607   \u001b[0m | \u001b[0m 2.043   \u001b[0m | \u001b[0m 402.9   \u001b[0m |\n",
      "Mu:0.89|Mu+:0.03|Beta:69.00|Sigma:404.00|Epsilon:145.03|EpIter:0.00\n",
      "| \u001b[0m 58      \u001b[0m | \u001b[0m 1.959   \u001b[0m | \u001b[0m 69.01   \u001b[0m | \u001b[0m 145.0   \u001b[0m | \u001b[0m-3.602   \u001b[0m | \u001b[0m 2.043   \u001b[0m | \u001b[0m 404.1   \u001b[0m |\n",
      "Mu:0.89|Mu+:0.03|Beta:68.00|Sigma:403.00|Epsilon:146.05|EpIter:0.00\n",
      "| \u001b[0m 59      \u001b[0m | \u001b[0m 1.959   \u001b[0m | \u001b[0m 68.93   \u001b[0m | \u001b[0m 146.1   \u001b[0m | \u001b[0m-3.607   \u001b[0m | \u001b[0m 2.042   \u001b[0m | \u001b[0m 403.1   \u001b[0m |\n",
      "Mu:0.89|Mu+:0.03|Beta:67.00|Sigma:404.00|Epsilon:145.13|EpIter:0.00\n",
      "| \u001b[0m 60      \u001b[0m | \u001b[0m 1.959   \u001b[0m | \u001b[0m 67.62   \u001b[0m | \u001b[0m 145.1   \u001b[0m | \u001b[0m-3.607   \u001b[0m | \u001b[0m 2.042   \u001b[0m | \u001b[0m 404.0   \u001b[0m |\n",
      "=====================================================================================\n"
     ]
    }
   ],
   "source": [
    "optimizer.maximize(\n",
    "    init_points=10,\n",
    "    n_iter=50,\n",
    "    acq=\"ucb\",\n",
    "    kappa=5,\n",
    "    alpha=1\n",
    ")"
   ]
  },
  {
   "cell_type": "code",
   "execution_count": 46,
   "metadata": {},
   "outputs": [
    {
     "data": {
      "text/plain": [
       "{'target': 1.9588135134366762,\n",
       " 'params': {'beta_sp': 68.2423484528834,\n",
       "  'epsilon_sp': 145.56699708347966,\n",
       "  'muIncr_logit': -3.604465057328993,\n",
       "  'mu_logit': 2.0381497294623347,\n",
       "  'sigma_sp': 403.55440834120367}}"
      ]
     },
     "execution_count": 46,
     "metadata": {},
     "output_type": "execute_result"
    }
   ],
   "source": [
    "optimizer.max"
   ]
  },
  {
   "cell_type": "code",
   "execution_count": 47,
   "metadata": {
    "ExecuteTime": {
     "end_time": "2020-09-03T22:58:42.653746Z",
     "start_time": "2020-09-03T22:58:42.649916Z"
    }
   },
   "outputs": [
    {
     "data": {
      "text/plain": [
       "0.87640449"
      ]
     },
     "execution_count": 47,
     "metadata": {},
     "output_type": "execute_result"
    }
   ],
   "source": [
    "inv_logit(optimizer.max[\"target\"])"
   ]
  },
  {
   "cell_type": "code",
   "execution_count": 48,
   "metadata": {
    "ExecuteTime": {
     "end_time": "2020-09-03T22:59:56.414823Z",
     "start_time": "2020-09-03T22:59:56.412477Z"
    }
   },
   "outputs": [],
   "source": [
    "params=optimizer.max[\"params\"]"
   ]
  },
  {
   "cell_type": "code",
   "execution_count": 49,
   "metadata": {
    "ExecuteTime": {
     "end_time": "2020-09-03T23:00:39.452694Z",
     "start_time": "2020-09-03T23:00:39.449279Z"
    }
   },
   "outputs": [
    {
     "data": {
      "text/plain": [
       "68.2423484528834"
      ]
     },
     "execution_count": 49,
     "metadata": {},
     "output_type": "execute_result"
    }
   ],
   "source": [
    "softplus(params[\"beta_sp\"])"
   ]
  },
  {
   "cell_type": "code",
   "execution_count": 50,
   "metadata": {
    "ExecuteTime": {
     "end_time": "2020-09-03T23:01:09.671719Z",
     "start_time": "2020-09-03T23:01:09.668333Z"
    }
   },
   "outputs": [
    {
     "data": {
      "text/plain": [
       "403.55440834120367"
      ]
     },
     "execution_count": 50,
     "metadata": {},
     "output_type": "execute_result"
    }
   ],
   "source": [
    "softplus(params[\"sigma_sp\"])"
   ]
  },
  {
   "cell_type": "code",
   "execution_count": 51,
   "metadata": {
    "ExecuteTime": {
     "end_time": "2020-09-04T01:35:00.233453Z",
     "start_time": "2020-09-04T01:35:00.230360Z"
    }
   },
   "outputs": [
    {
     "data": {
      "text/plain": [
       "0.8847447273744214"
      ]
     },
     "execution_count": 51,
     "metadata": {},
     "output_type": "execute_result"
    }
   ],
   "source": [
    "inv_logit(params[\"mu_logit\"])"
   ]
  },
  {
   "cell_type": "code",
   "execution_count": 52,
   "metadata": {
    "ExecuteTime": {
     "end_time": "2020-09-04T01:35:28.881809Z",
     "start_time": "2020-09-04T01:35:28.878641Z"
    }
   },
   "outputs": [
    {
     "data": {
      "text/plain": [
       "0.026481639082321012"
      ]
     },
     "execution_count": 52,
     "metadata": {},
     "output_type": "execute_result"
    }
   ],
   "source": [
    "inv_logit(params[\"muIncr_logit\"])"
   ]
  },
  {
   "cell_type": "code",
   "execution_count": 53,
   "metadata": {
    "ExecuteTime": {
     "end_time": "2020-09-04T01:36:13.729976Z",
     "start_time": "2020-09-04T01:36:13.726798Z"
    }
   },
   "outputs": [
    {
     "data": {
      "text/plain": [
       "145.56699708347966"
      ]
     },
     "execution_count": 53,
     "metadata": {},
     "output_type": "execute_result"
    }
   ],
   "source": [
    "softplus(params[\"epsilon_sp\"])"
   ]
  },
  {
   "cell_type": "code",
   "execution_count": 54,
   "metadata": {},
   "outputs": [
    {
     "name": "stdout",
     "output_type": "stream",
     "text": [
      "\n",
      ">>>>>>>>>>>>\n",
      "Starting Iteration mu= 0.885\n",
      "Starting Iteration epsilon= 145.57\n",
      "Running NewMatrix Jar!\n",
      " Single-Reference Blocks = 1\n",
      "\n",
      " Multi-Reference Blocks = 228\n",
      "NewMatrix Iterateblocks Total Time = 0.6792284930124879\n",
      "\n",
      "Precision = TP / (TP + FP) ......................... = 0.95121951\n",
      "Recall = TP / (TP + FN) ............................ = 0.81250000\n",
      "F-Measure .......................................... = 0.87640449\n"
     ]
    },
    {
     "data": {
      "text/plain": [
       "0.87640449"
      ]
     },
     "execution_count": 54,
     "metadata": {},
     "output_type": "execute_result"
    }
   ],
   "source": [
    "entropy_F1(mu=0.885,\n",
    "           muIncr=0.0265,\n",
    "           beta=68,\n",
    "           sigma=403,\n",
    "           epsilon=145.57,\n",
    "           epsilonIterate=0)"
   ]
  }
 ],
 "metadata": {
  "kernelspec": {
   "display_name": "Python 3",
   "language": "python",
   "name": "python3"
  },
  "language_info": {
   "codemirror_mode": {
    "name": "ipython",
    "version": 3
   },
   "file_extension": ".py",
   "mimetype": "text/x-python",
   "name": "python",
   "nbconvert_exporter": "python",
   "pygments_lexer": "ipython3",
   "version": "3.7.4"
  },
  "toc": {
   "base_numbering": 1,
   "nav_menu": {},
   "number_sections": true,
   "sideBar": true,
   "skip_h1_title": false,
   "title_cell": "Table of Contents",
   "title_sidebar": "Contents",
   "toc_cell": false,
   "toc_position": {},
   "toc_section_display": true,
   "toc_window_display": false
  },
  "varInspector": {
   "cols": {
    "lenName": 16,
    "lenType": 16,
    "lenVar": 40
   },
   "kernels_config": {
    "python": {
     "delete_cmd_postfix": "",
     "delete_cmd_prefix": "del ",
     "library": "var_list.py",
     "varRefreshCmd": "print(var_dic_list())"
    },
    "r": {
     "delete_cmd_postfix": ") ",
     "delete_cmd_prefix": "rm(",
     "library": "var_list.r",
     "varRefreshCmd": "cat(var_dic_list()) "
    }
   },
   "types_to_exclude": [
    "module",
    "function",
    "builtin_function_or_method",
    "instance",
    "_Feature"
   ],
   "window_display": false
  }
 },
 "nbformat": 4,
 "nbformat_minor": 2
}
