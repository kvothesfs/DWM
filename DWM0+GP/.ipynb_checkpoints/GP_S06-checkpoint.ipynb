{
 "cells": [
  {
   "cell_type": "code",
   "execution_count": 1,
   "metadata": {
    "ExecuteTime": {
     "end_time": "2020-09-03T21:59:20.041891Z",
     "start_time": "2020-09-03T21:59:10.621897Z"
    }
   },
   "outputs": [
    {
     "name": "stdout",
     "output_type": "stream",
     "text": [
      "Tokenizing References\n",
      "Total References= 3004\n",
      "Total Tokens Found = 38106\n",
      "Total Tokens Output = 38026\n",
      "Dictionary Load = 67077\n",
      "<class 'dict'>\n",
      "Global Replace Cycle\n",
      "Total References= 3004\n",
      "Total Tokens= 38026\n",
      "Unique Tokens= 7190\n",
      "Minimum Frequency of Standard Token =  5\n",
      "Minimum Length of Standard Token =  3\n",
      "Maximum Frequency of Error Token =  3\n",
      "References Processed= 3004\n",
      "Sorted Token Size = 7190\n",
      "Clean Token Size = 3295\n",
      "*Stop Replacements here\n",
      "References Processed =  3004\n",
      "Total Replacement Pairs = 195\n",
      "Tokens Read = 38026\n",
      "Tokens Changed =  285\n",
      "References Changed = 275\n"
     ]
    }
   ],
   "source": [
    "import DWM1_Tokenizer\n",
    "import DWM2_Global_Token_Replace_NewDict\n",
    "import DWM3_Entropy_Cluster\n",
    "# Settings for Tokenizer\n",
    "inputSampleName = r'S5'\n",
    "delimiter=','\n",
    "hasHeader = True\n",
    "tokenizerType = 'Splitter'\n",
    "removeDuplicateTokens = True\n",
    "\n",
    "# Setting for global replacement DWM2\n",
    "runReplacement = True\n",
    "minFreqStdToken = 5\n",
    "minLenStdToken = 3\n",
    "maxFreqErrToken = 3\n",
    "\n",
    "# Cluster Settings\n",
    "\n",
    "\n",
    "DWM1_Tokenizer.tokenizeCycle(inputSampleName, delimiter, hasHeader, removeDuplicateTokens, tokenizerType)\n",
    "prefixString = inputSampleName +','+tokenizerType+','+str(removeDuplicateTokens)\n",
    "fileToCluster = inputSampleName + '-Tokenized.txt'\n",
    "if runReplacement:\n",
    "    DWM2_Global_Token_Replace_NewDict.globalReplace(inputSampleName, minFreqStdToken, minLenStdToken, maxFreqErrToken)\n",
    "    fileToCluster = inputSampleName + '-TokenReplace.txt'\n",
    "    prefixString = prefixString+','+str(minFreqStdToken)+','+str(minLenStdToken)+','+str(maxFreqErrToken)\n",
    "else:\n",
    "    prefixString = prefixString+',0,0,0'\n",
    "\n",
    "# Cluster fixed settings\n",
    "epsilonIterate = 0.0\n",
    "runClusterMetrics = False\n",
    "runFinalMetrics = True\n",
    "createFinalJoin = False"
   ]
  },
  {
   "cell_type": "code",
   "execution_count": 2,
   "metadata": {},
   "outputs": [],
   "source": [
    "status=\"done\""
   ]
  },
  {
   "cell_type": "code",
   "execution_count": 3,
   "metadata": {},
   "outputs": [
    {
     "name": "stdout",
     "output_type": "stream",
     "text": [
      "done\n"
     ]
    }
   ],
   "source": [
    "print(status)"
   ]
  },
  {
   "cell_type": "code",
   "execution_count": 14,
   "metadata": {
    "ExecuteTime": {
     "end_time": "2020-09-03T15:11:39.765508Z",
     "start_time": "2020-09-03T15:03:19.495876Z"
    },
    "scrolled": false
   },
   "outputs": [],
   "source": [
    "# # Cluster Robot Settings\n",
    "# muStart = 0.60\n",
    "# muEnd = 0.60\n",
    "# muIncr = 0.05\n",
    "# betaStart = 14\n",
    "# betaEnd = 14\n",
    "# betaIncr = 1\n",
    "# sigmaStart = 145\n",
    "# sigmaEnd = 145\n",
    "# sigmaIncr = 1\n",
    "# epsilonStart = 35\n",
    "# epsilonEnd = 35\n",
    "# epsilonIncr = 1\n",
    "# mu = muStart\n",
    "# while mu <= muEnd:\n",
    "#     beta = betaStart\n",
    "#     while beta <= betaEnd:\n",
    "#         sigma = sigmaStart\n",
    "#         while sigma <= sigmaEnd:\n",
    "#             epsilon = epsilonStart\n",
    "#             while epsilon <= epsilonEnd:\n",
    "#                 suffixString =','+str(epsilon)+','+str(epsilonIterate)\n",
    "#                 resultsList = DWM3_Entropy_Cluster.driver(fileToCluster, beta, sigma, mu, muIncr,epsilon,  \\\n",
    "#                                                      epsilonIterate,runClusterMetrics, runFinalMetrics, createFinalJoin, hasHeader)\n",
    "#                 seg0a = ','+str(resultsList[0])+','+str(resultsList[1])+','+str(resultsList[2])+','+str(resultsList[3])\n",
    "#                 seg0b =','+str(resultsList[4])+','+str(resultsList[5])+','+str(resultsList[6])\n",
    "#                 seg1 = ','+str(beta)+','+str(sigma)+','+str(mu)+ ',' +str(muIncr)\n",
    "#                 seg2 = ','+str(resultsList[7])+','+str(resultsList[8])+','+str(resultsList[9])\n",
    "#                 outString = prefixString+seg0a+seg0b+suffixString+seg1+seg2+'\\n'\n",
    "#                 resultsFile = open('RobotResults.txt','a+')\n",
    "#                 resultsFile.write(outString)\n",
    "#                 resultsFile.close()\n",
    "#                 epsilon = epsilon + epsilonIncr\n",
    "#             sigma = sigma + sigmaIncr\n",
    "#         beta = beta + betaIncr\n",
    "#     mu = mu + muIncr\n",
    "\n",
    "\n",
    " "
   ]
  },
  {
   "cell_type": "markdown",
   "metadata": {
    "ExecuteTime": {
     "end_time": "2020-09-03T16:36:26.229783Z",
     "start_time": "2020-09-03T16:36:26.227755Z"
    }
   },
   "source": [
    "## Bayesian Optimization of Hyperparameters"
   ]
  },
  {
   "cell_type": "code",
   "execution_count": 4,
   "metadata": {},
   "outputs": [],
   "source": [
    "import numpy as np"
   ]
  },
  {
   "cell_type": "markdown",
   "metadata": {
    "ExecuteTime": {
     "end_time": "2020-09-03T16:36:47.947518Z",
     "start_time": "2020-09-03T16:36:47.944251Z"
    }
   },
   "source": [
    "Create a function of the parameters that returns the F score"
   ]
  },
  {
   "cell_type": "code",
   "execution_count": 5,
   "metadata": {
    "ExecuteTime": {
     "end_time": "2020-09-03T21:59:42.561300Z",
     "start_time": "2020-09-03T21:59:42.557193Z"
    }
   },
   "outputs": [],
   "source": [
    "def entropy_F1(beta=14,sigma=145,mu=0.6,muIncr=0.05,epsilon=35,epsilonIterate=0):\n",
    "    resultsList = DWM3_Entropy_Cluster.driver(fileToCluster, \n",
    "                                  beta, \n",
    "                                  sigma, \n",
    "                                  mu, \n",
    "                                  muIncr,\n",
    "                                  epsilon,\n",
    "                                  epsilonIterate,\n",
    "                                  runClusterMetrics, \n",
    "                                  runFinalMetrics, \n",
    "                                  createFinalJoin, \n",
    "                                  hasHeader)\n",
    "    return resultsList[9]"
   ]
  },
  {
   "cell_type": "code",
   "execution_count": 6,
   "metadata": {
    "ExecuteTime": {
     "end_time": "2020-09-03T22:06:32.164588Z",
     "start_time": "2020-09-03T21:59:43.696518Z"
    }
   },
   "outputs": [
    {
     "name": "stdout",
     "output_type": "stream",
     "text": [
      "\n",
      ">>>>>>>>>>>>\n",
      "Starting Iteration mu= 0.5\n",
      "Starting Iteration epsilon= 31.8\n",
      "Running NewMatrix Jar!\n",
      " Single-Reference Blocks = 1\n",
      "\n",
      " Multi-Reference Blocks = 3768\n",
      "NewMatrix Iterateblocks Total Time = 3.153330858796835\n",
      "\n",
      "\n",
      ">>>>>>>>>>>>\n",
      "Starting Iteration mu= 0.55\n",
      "Starting Iteration epsilon= 31.8\n",
      "Running NewMatrix Jar!\n",
      " Single-Reference Blocks = 1\n",
      "\n",
      " Multi-Reference Blocks = 2984\n",
      "NewMatrix Iterateblocks Total Time = 2.8810239555314183\n",
      "\n",
      "\n",
      ">>>>>>>>>>>>\n",
      "Starting Iteration mu= 0.6000000000000001\n",
      "Starting Iteration epsilon= 31.8\n",
      "Running NewMatrix Jar!\n",
      " Single-Reference Blocks = 1\n",
      "\n",
      " Multi-Reference Blocks = 2052\n",
      "NewMatrix Iterateblocks Total Time = 2.0386493848636746\n",
      "\n",
      "\n",
      ">>>>>>>>>>>>\n",
      "Starting Iteration mu= 0.6500000000000001\n",
      "Starting Iteration epsilon= 31.8\n",
      "Running NewMatrix Jar!\n",
      " Single-Reference Blocks = 1\n",
      "\n",
      " Multi-Reference Blocks = 716\n",
      "NewMatrix Iterateblocks Total Time = 1.151626250706613\n",
      "\n",
      "\n",
      ">>>>>>>>>>>>\n",
      "Starting Iteration mu= 0.7000000000000002\n",
      "Starting Iteration epsilon= 31.8\n",
      "Running NewMatrix Jar!\n",
      " Single-Reference Blocks = 1\n",
      "\n",
      " Multi-Reference Blocks = 191\n",
      "NewMatrix Iterateblocks Total Time = 0.5175687475129962\n",
      "\n",
      "Precision = TP / (TP + FP) ......................... = 0.28384615\n",
      "Recall = TP / (TP + FN) ............................ = 0.96723460\n",
      "F-Measure .......................................... = 0.43889384\n"
     ]
    },
    {
     "data": {
      "text/plain": [
       "0.43889384"
      ]
     },
     "execution_count": 6,
     "metadata": {},
     "output_type": "execute_result"
    }
   ],
   "source": [
    "entropy_F1(mu=0.5,muIncr=0.05,beta=33,sigma=449,epsilon=31.8,epsilonIterate=0)"
   ]
  },
  {
   "cell_type": "markdown",
   "metadata": {},
   "source": [
    "Create functions for variable transformation."
   ]
  },
  {
   "cell_type": "code",
   "execution_count": 7,
   "metadata": {
    "ExecuteTime": {
     "end_time": "2020-09-03T22:08:18.856511Z",
     "start_time": "2020-09-03T22:08:18.853611Z"
    }
   },
   "outputs": [],
   "source": [
    "#Softplus to transform real domain into positive\n",
    "def softplus(x):\n",
    "    return np.log(1+np.exp(x))\n",
    "\n",
    "def inv_softplus(x):\n",
    "    return np.log(np.exp(x)-1)"
   ]
  },
  {
   "cell_type": "code",
   "execution_count": 8,
   "metadata": {
    "ExecuteTime": {
     "end_time": "2020-09-03T22:08:27.349548Z",
     "start_time": "2020-09-03T22:08:27.345752Z"
    }
   },
   "outputs": [
    {
     "data": {
      "text/plain": [
       "0.541324854612918"
      ]
     },
     "execution_count": 8,
     "metadata": {},
     "output_type": "execute_result"
    }
   ],
   "source": [
    "inv_softplus(1)"
   ]
  },
  {
   "cell_type": "code",
   "execution_count": 9,
   "metadata": {
    "ExecuteTime": {
     "end_time": "2020-09-03T22:11:24.939913Z",
     "start_time": "2020-09-03T22:11:24.936639Z"
    }
   },
   "outputs": [],
   "source": [
    "#Logit to transform real domain into 0-1\n",
    "def logit(x):    \n",
    "    return np.log(x+1e-54)-np.log(1-x+1e-54)\n",
    "\n",
    "def inv_logit(x):\n",
    "    res=np.exp(x)/(np.exp(x)+1)-2*1e-54\n",
    "    if res<1e-54:\n",
    "        res=0\n",
    "    return res"
   ]
  },
  {
   "cell_type": "markdown",
   "metadata": {},
   "source": [
    "Import BO library:"
   ]
  },
  {
   "cell_type": "code",
   "execution_count": 10,
   "metadata": {
    "ExecuteTime": {
     "end_time": "2020-09-03T22:08:30.622144Z",
     "start_time": "2020-09-03T22:08:30.226842Z"
    }
   },
   "outputs": [],
   "source": [
    "from bayes_opt import BayesianOptimization"
   ]
  },
  {
   "cell_type": "markdown",
   "metadata": {
    "ExecuteTime": {
     "end_time": "2020-09-03T18:14:39.927785Z",
     "start_time": "2020-09-03T18:14:39.924909Z"
    }
   },
   "source": [
    "Create dictionary bounds for the parameters:"
   ]
  },
  {
   "cell_type": "code",
   "execution_count": 11,
   "metadata": {},
   "outputs": [],
   "source": [
    "import os, sys"
   ]
  },
  {
   "cell_type": "code",
   "execution_count": 12,
   "metadata": {},
   "outputs": [],
   "source": [
    "class HiddenPrints:\n",
    "    def __enter__(self):\n",
    "        self._original_stdout = sys.stdout\n",
    "        sys.stdout = open(os.devnull, 'w')\n",
    "\n",
    "    def __exit__(self, exc_type, exc_val, exc_tb):\n",
    "        sys.stdout.close()\n",
    "        sys.stdout = self._original_stdout"
   ]
  },
  {
   "cell_type": "code",
   "execution_count": 13,
   "metadata": {},
   "outputs": [
    {
     "name": "stdout",
     "output_type": "stream",
     "text": [
      "This will be printed as before\n"
     ]
    }
   ],
   "source": [
    "with HiddenPrints():\n",
    "    print(\"This will not be printed\")\n",
    "\n",
    "print(\"This will be printed as before\")"
   ]
  },
  {
   "cell_type": "code",
   "execution_count": 14,
   "metadata": {
    "ExecuteTime": {
     "end_time": "2020-09-03T22:11:53.005154Z",
     "start_time": "2020-09-03T22:11:53.000238Z"
    }
   },
   "outputs": [],
   "source": [
    "#Take parameters in transformed space and return f score in transformed space\n",
    "def entropy_F1_trx(beta_sp,sigma_sp,mu_logit,muIncr_logit,epsilon_sp,epsilonIterate_logit=logit(0)):\n",
    "    beta_pos=int(softplus(beta_sp))\n",
    "    sigma_pos=int(softplus(sigma_sp))\n",
    "    mu_01=inv_logit(mu_logit)\n",
    "    muIncr_01=inv_logit(muIncr_logit)\n",
    "    epsilon_pos=softplus(epsilon_sp)\n",
    "    epsilonIterate_01=inv_logit(epsilonIterate_logit)\n",
    "    \n",
    "    print(\"Mu:%.2f|Mu+:%.2f|Beta:%.2f|Sigma:%.2f|Epsilon:%.2f|EpIter:%.2f\" % (mu_01, muIncr_01, beta_pos, sigma_pos, epsilon_pos, epsilonIterate_01))\n",
    "    \n",
    "    with HiddenPrints():\n",
    "        f1=entropy_F1(beta=beta_pos,\n",
    "                      epsilon=epsilon_pos,\n",
    "                      epsilonIterate=epsilonIterate_01,\n",
    "                      muIncr=muIncr_01,\n",
    "                      sigma=sigma_pos,\n",
    "                      mu=mu_01)\n",
    "    \n",
    "    return logit(f1)"
   ]
  },
  {
   "cell_type": "code",
   "execution_count": 15,
   "metadata": {},
   "outputs": [
    {
     "name": "stdout",
     "output_type": "stream",
     "text": [
      "Mu:0.50|Mu+:0.05|Beta:33.00|Sigma:449.00|Epsilon:31.80|EpIter:0.00\n"
     ]
    },
    {
     "data": {
      "text/plain": [
       "-0.2456525596239042"
      ]
     },
     "execution_count": 15,
     "metadata": {},
     "output_type": "execute_result"
    }
   ],
   "source": [
    "entropy_F1_trx(beta_sp=inv_softplus(33),\n",
    "               sigma_sp=inv_softplus(449),\n",
    "               mu_logit=logit(0.5),\n",
    "               muIncr_logit=logit(0.05),\n",
    "               epsilon_sp=inv_softplus(31.8))"
   ]
  },
  {
   "cell_type": "code",
   "execution_count": 33,
   "metadata": {},
   "outputs": [],
   "source": [
    "optimizer=None"
   ]
  },
  {
   "cell_type": "code",
   "execution_count": 34,
   "metadata": {
    "ExecuteTime": {
     "end_time": "2020-09-03T22:11:50.787503Z",
     "start_time": "2020-09-03T22:11:50.784060Z"
    }
   },
   "outputs": [],
   "source": [
    "pbounds = {'beta_sp': (inv_softplus(1), inv_softplus(500)), \n",
    "           'sigma_sp': (inv_softplus(1), inv_softplus(500)),\n",
    "           'mu_logit': (logit(0.5), logit(0.8)),\n",
    "           'muIncr_logit': (logit(0.01), logit(0.2)),\n",
    "           'epsilon_sp': (inv_softplus(1), inv_softplus(500)),\n",
    "           'epsilonIterate_logit': (logit(0), logit(0.25))}"
   ]
  },
  {
   "cell_type": "code",
   "execution_count": 35,
   "metadata": {
    "ExecuteTime": {
     "end_time": "2020-09-03T22:11:56.728829Z",
     "start_time": "2020-09-03T22:11:56.725599Z"
    }
   },
   "outputs": [],
   "source": [
    "optimizer = BayesianOptimization(\n",
    "    f=entropy_F1_trx,\n",
    "    pbounds=pbounds,\n",
    "    random_state=1,\n",
    ")"
   ]
  },
  {
   "cell_type": "code",
   "execution_count": 36,
   "metadata": {},
   "outputs": [],
   "source": [
    "optimizer.probe(\n",
    "    params={\"beta_sp\": inv_softplus(12), \n",
    "            \"sigma_sp\": inv_softplus(53),\n",
    "            \"mu_logit\":logit(0.5),\n",
    "            'epsilonIterate_logit': logit(0),\n",
    "            \"muIncr_logit\":logit(0.1),\n",
    "            \"epsilon_sp\":inv_softplus(3.0)},\n",
    "    lazy=True,\n",
    ")"
   ]
  },
  {
   "cell_type": "code",
   "execution_count": null,
   "metadata": {
    "ExecuteTime": {
     "end_time": "2020-09-03T22:54:10.009085Z",
     "start_time": "2020-09-03T22:11:58.063246Z"
    }
   },
   "outputs": [],
   "source": [
    "optimizer.maximize(\n",
    "    init_points=10,\n",
    "    n_iter=50,\n",
    ")"
   ]
  },
  {
   "cell_type": "code",
   "execution_count": 21,
   "metadata": {},
   "outputs": [
    {
     "data": {
      "text/plain": [
       "{'target': 2.3655792613929743,\n",
       " 'params': {'beta_sp': 11.999993855768771,\n",
       "  'epsilonIterate_logit': -124.33959502167846,\n",
       "  'epsilon_sp': 2.9489308190572983,\n",
       "  'muIncr_logit': -2.197224577336219,\n",
       "  'mu_logit': 0.0,\n",
       "  'sigma_sp': 53.0}}"
      ]
     },
     "execution_count": 21,
     "metadata": {},
     "output_type": "execute_result"
    }
   ],
   "source": [
    "optimizer.max"
   ]
  },
  {
   "cell_type": "code",
   "execution_count": 23,
   "metadata": {
    "ExecuteTime": {
     "end_time": "2020-09-03T22:58:42.653746Z",
     "start_time": "2020-09-03T22:58:42.649916Z"
    }
   },
   "outputs": [
    {
     "data": {
      "text/plain": [
       "0.91416461"
      ]
     },
     "execution_count": 23,
     "metadata": {},
     "output_type": "execute_result"
    }
   ],
   "source": [
    "inv_logit(optimizer.max[\"target\"])"
   ]
  },
  {
   "cell_type": "code",
   "execution_count": 24,
   "metadata": {
    "ExecuteTime": {
     "end_time": "2020-09-03T22:59:56.414823Z",
     "start_time": "2020-09-03T22:59:56.412477Z"
    }
   },
   "outputs": [],
   "source": [
    "params=optimizer.max[\"params\"]"
   ]
  },
  {
   "cell_type": "code",
   "execution_count": 25,
   "metadata": {
    "ExecuteTime": {
     "end_time": "2020-09-03T23:00:39.452694Z",
     "start_time": "2020-09-03T23:00:39.449279Z"
    }
   },
   "outputs": [
    {
     "data": {
      "text/plain": [
       "12.0"
      ]
     },
     "execution_count": 25,
     "metadata": {},
     "output_type": "execute_result"
    }
   ],
   "source": [
    "softplus(params[\"beta_sp\"])"
   ]
  },
  {
   "cell_type": "code",
   "execution_count": 26,
   "metadata": {
    "ExecuteTime": {
     "end_time": "2020-09-03T23:01:09.671719Z",
     "start_time": "2020-09-03T23:01:09.668333Z"
    }
   },
   "outputs": [
    {
     "data": {
      "text/plain": [
       "53.0"
      ]
     },
     "execution_count": 26,
     "metadata": {},
     "output_type": "execute_result"
    }
   ],
   "source": [
    "softplus(params[\"sigma_sp\"])"
   ]
  },
  {
   "cell_type": "code",
   "execution_count": 27,
   "metadata": {
    "ExecuteTime": {
     "end_time": "2020-09-04T01:35:00.233453Z",
     "start_time": "2020-09-04T01:35:00.230360Z"
    }
   },
   "outputs": [
    {
     "data": {
      "text/plain": [
       "0.5"
      ]
     },
     "execution_count": 27,
     "metadata": {},
     "output_type": "execute_result"
    }
   ],
   "source": [
    "inv_logit(params[\"mu_logit\"])"
   ]
  },
  {
   "cell_type": "code",
   "execution_count": 28,
   "metadata": {
    "ExecuteTime": {
     "end_time": "2020-09-04T01:35:28.881809Z",
     "start_time": "2020-09-04T01:35:28.878641Z"
    }
   },
   "outputs": [
    {
     "data": {
      "text/plain": [
       "0.10000000000000003"
      ]
     },
     "execution_count": 28,
     "metadata": {},
     "output_type": "execute_result"
    }
   ],
   "source": [
    "inv_logit(params[\"muIncr_logit\"])"
   ]
  },
  {
   "cell_type": "code",
   "execution_count": 29,
   "metadata": {
    "ExecuteTime": {
     "end_time": "2020-09-04T01:36:46.943597Z",
     "start_time": "2020-09-04T01:36:46.940247Z"
    }
   },
   "outputs": [
    {
     "data": {
      "text/plain": [
       "0"
      ]
     },
     "execution_count": 29,
     "metadata": {},
     "output_type": "execute_result"
    }
   ],
   "source": [
    "inv_logit(params[\"epsilonIterate_logit\"])"
   ]
  },
  {
   "cell_type": "code",
   "execution_count": 30,
   "metadata": {
    "ExecuteTime": {
     "end_time": "2020-09-04T01:36:13.729976Z",
     "start_time": "2020-09-04T01:36:13.726798Z"
    }
   },
   "outputs": [
    {
     "data": {
      "text/plain": [
       "3.0"
      ]
     },
     "execution_count": 30,
     "metadata": {},
     "output_type": "execute_result"
    }
   ],
   "source": [
    "softplus(params[\"epsilon_sp\"])"
   ]
  },
  {
   "cell_type": "code",
   "execution_count": 32,
   "metadata": {},
   "outputs": [
    {
     "name": "stdout",
     "output_type": "stream",
     "text": [
      "\n",
      ">>>>>>>>>>>>\n",
      "Starting Iteration mu= 0.5\n",
      "Starting Iteration epsilon= 3.0\n",
      "Running NewMatrix Jar!\n",
      " Single-Reference Blocks = 1\n",
      "\n",
      " Multi-Reference Blocks = 3548\n",
      "NewMatrix Iterateblocks Total Time = 1.7055081706494093\n",
      "\n",
      "\n",
      ">>>>>>>>>>>>\n",
      "Starting Iteration mu= 0.6\n",
      "Starting Iteration epsilon= 3.0\n",
      "Running NewMatrix Jar!\n",
      " Single-Reference Blocks = 1\n",
      "\n",
      " Multi-Reference Blocks = 2640\n",
      "NewMatrix Iterateblocks Total Time = 1.5265610162168741\n",
      "\n",
      "\n",
      ">>>>>>>>>>>>\n",
      "Starting Iteration mu= 0.7\n",
      "Starting Iteration epsilon= 3.0\n",
      "Running NewMatrix Jar!\n",
      " Single-Reference Blocks = 1\n",
      "\n",
      " Multi-Reference Blocks = 1629\n",
      "NewMatrix Iterateblocks Total Time = 1.047264652326703\n",
      "\n",
      "\n",
      ">>>>>>>>>>>>\n",
      "Starting Iteration mu= 0.7999999999999999\n",
      "Starting Iteration epsilon= 3.0\n",
      "Running NewMatrix Jar!\n",
      " Single-Reference Blocks = 1\n",
      "\n",
      " Multi-Reference Blocks = 835\n",
      "NewMatrix Iterateblocks Total Time = 0.7526283441111445\n",
      "\n",
      "\n",
      ">>>>>>>>>>>>\n",
      "Starting Iteration mu= 0.8999999999999999\n",
      "Starting Iteration epsilon= 3.0\n",
      "Running NewMatrix Jar!\n",
      " Single-Reference Blocks = 1\n",
      "\n",
      " Multi-Reference Blocks = 319\n",
      "NewMatrix Iterateblocks Total Time = 0.4269434744492173\n",
      "\n",
      "\n",
      ">>>>>>>>>>>>\n",
      "Starting Iteration mu= 0.9999999999999999\n",
      "Starting Iteration epsilon= 3.0\n",
      "Running NewMatrix Jar!\n",
      " Single-Reference Blocks = 1\n",
      "\n",
      " Multi-Reference Blocks = 83\n",
      "NewMatrix Iterateblocks Total Time = 0.25462551414966583\n",
      "\n",
      "Precision = TP / (TP + FP) ......................... = 0.99164134\n",
      "Recall = TP / (TP + FN) ............................ = 0.85517693\n",
      "F-Measure .......................................... = 0.91836735\n"
     ]
    },
    {
     "data": {
      "text/plain": [
       "0.91836735"
      ]
     },
     "execution_count": 32,
     "metadata": {},
     "output_type": "execute_result"
    }
   ],
   "source": [
    "entropy_F1(mu=0.5,\n",
    "           muIncr=0.1,\n",
    "           beta=12,\n",
    "           sigma=53,\n",
    "           epsilon=3.0,\n",
    "           epsilonIterate=0)"
   ]
  }
 ],
 "metadata": {
  "kernelspec": {
   "display_name": "Python 3",
   "language": "python",
   "name": "python3"
  },
  "language_info": {
   "codemirror_mode": {
    "name": "ipython",
    "version": 3
   },
   "file_extension": ".py",
   "mimetype": "text/x-python",
   "name": "python",
   "nbconvert_exporter": "python",
   "pygments_lexer": "ipython3",
   "version": "3.7.4"
  },
  "toc": {
   "base_numbering": 1,
   "nav_menu": {},
   "number_sections": true,
   "sideBar": true,
   "skip_h1_title": false,
   "title_cell": "Table of Contents",
   "title_sidebar": "Contents",
   "toc_cell": false,
   "toc_position": {},
   "toc_section_display": true,
   "toc_window_display": false
  },
  "varInspector": {
   "cols": {
    "lenName": 16,
    "lenType": 16,
    "lenVar": 40
   },
   "kernels_config": {
    "python": {
     "delete_cmd_postfix": "",
     "delete_cmd_prefix": "del ",
     "library": "var_list.py",
     "varRefreshCmd": "print(var_dic_list())"
    },
    "r": {
     "delete_cmd_postfix": ") ",
     "delete_cmd_prefix": "rm(",
     "library": "var_list.r",
     "varRefreshCmd": "cat(var_dic_list()) "
    }
   },
   "types_to_exclude": [
    "module",
    "function",
    "builtin_function_or_method",
    "instance",
    "_Feature"
   ],
   "window_display": false
  }
 },
 "nbformat": 4,
 "nbformat_minor": 2
}
