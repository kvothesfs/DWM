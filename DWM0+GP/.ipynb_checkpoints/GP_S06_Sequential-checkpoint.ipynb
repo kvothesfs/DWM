{
 "cells": [
  {
   "cell_type": "code",
   "execution_count": 1,
   "metadata": {
    "ExecuteTime": {
     "end_time": "2020-09-03T21:59:20.041891Z",
     "start_time": "2020-09-03T21:59:10.621897Z"
    }
   },
   "outputs": [
    {
     "name": "stdout",
     "output_type": "stream",
     "text": [
      "Tokenizing References\n",
      "Total References= 3004\n",
      "Total Tokens Found = 38106\n",
      "Total Tokens Output = 38026\n",
      "Dictionary Load = 67077\n",
      "<class 'dict'>\n",
      "Global Replace Cycle\n",
      "Total References= 3004\n",
      "Total Tokens= 38026\n",
      "Unique Tokens= 7190\n",
      "Minimum Frequency of Standard Token =  5\n",
      "Minimum Length of Standard Token =  3\n",
      "Maximum Frequency of Error Token =  3\n",
      "References Processed= 3004\n",
      "Sorted Token Size = 7190\n",
      "Clean Token Size = 3295\n",
      "*Stop Replacements here\n",
      "References Processed =  3004\n",
      "Total Replacement Pairs = 195\n",
      "Tokens Read = 38026\n",
      "Tokens Changed =  285\n",
      "References Changed = 275\n"
     ]
    }
   ],
   "source": [
    "import DWM1_Tokenizer\n",
    "import DWM2_Global_Token_Replace_NewDict\n",
    "import DWM3_Entropy_Cluster\n",
    "# Settings for Tokenizer\n",
    "inputSampleName = r'S5'\n",
    "delimiter=','\n",
    "hasHeader = True\n",
    "tokenizerType = 'Splitter'\n",
    "removeDuplicateTokens = True\n",
    "\n",
    "# Setting for global replacement DWM2\n",
    "runReplacement = True\n",
    "minFreqStdToken = 5\n",
    "minLenStdToken = 3\n",
    "maxFreqErrToken = 3\n",
    "\n",
    "# Cluster Settings\n",
    "\n",
    "\n",
    "DWM1_Tokenizer.tokenizeCycle(inputSampleName, delimiter, hasHeader, removeDuplicateTokens, tokenizerType)\n",
    "prefixString = inputSampleName +','+tokenizerType+','+str(removeDuplicateTokens)\n",
    "fileToCluster = inputSampleName + '-Tokenized.txt'\n",
    "if runReplacement:\n",
    "    DWM2_Global_Token_Replace_NewDict.globalReplace(inputSampleName, minFreqStdToken, minLenStdToken, maxFreqErrToken)\n",
    "    fileToCluster = inputSampleName + '-TokenReplace.txt'\n",
    "    prefixString = prefixString+','+str(minFreqStdToken)+','+str(minLenStdToken)+','+str(maxFreqErrToken)\n",
    "else:\n",
    "    prefixString = prefixString+',0,0,0'\n",
    "\n",
    "# Cluster fixed settings\n",
    "epsilonIterate = 0.0\n",
    "runClusterMetrics = False\n",
    "runFinalMetrics = True\n",
    "createFinalJoin = False"
   ]
  },
  {
   "cell_type": "code",
   "execution_count": 2,
   "metadata": {},
   "outputs": [],
   "source": [
    "status=\"done\""
   ]
  },
  {
   "cell_type": "code",
   "execution_count": 3,
   "metadata": {},
   "outputs": [
    {
     "name": "stdout",
     "output_type": "stream",
     "text": [
      "done\n"
     ]
    }
   ],
   "source": [
    "print(status)"
   ]
  },
  {
   "cell_type": "code",
   "execution_count": 4,
   "metadata": {
    "ExecuteTime": {
     "end_time": "2020-09-03T15:11:39.765508Z",
     "start_time": "2020-09-03T15:03:19.495876Z"
    },
    "scrolled": false
   },
   "outputs": [],
   "source": [
    "# # Cluster Robot Settings\n",
    "# muStart = 0.60\n",
    "# muEnd = 0.60\n",
    "# muIncr = 0.05\n",
    "# betaStart = 14\n",
    "# betaEnd = 14\n",
    "# betaIncr = 1\n",
    "# sigmaStart = 145\n",
    "# sigmaEnd = 145\n",
    "# sigmaIncr = 1\n",
    "# epsilonStart = 35\n",
    "# epsilonEnd = 35\n",
    "# epsilonIncr = 1\n",
    "# mu = muStart\n",
    "# while mu <= muEnd:\n",
    "#     beta = betaStart\n",
    "#     while beta <= betaEnd:\n",
    "#         sigma = sigmaStart\n",
    "#         while sigma <= sigmaEnd:\n",
    "#             epsilon = epsilonStart\n",
    "#             while epsilon <= epsilonEnd:\n",
    "#                 suffixString =','+str(epsilon)+','+str(epsilonIterate)\n",
    "#                 resultsList = DWM3_Entropy_Cluster.driver(fileToCluster, beta, sigma, mu, muIncr,epsilon,  \\\n",
    "#                                                      epsilonIterate,runClusterMetrics, runFinalMetrics, createFinalJoin, hasHeader)\n",
    "#                 seg0a = ','+str(resultsList[0])+','+str(resultsList[1])+','+str(resultsList[2])+','+str(resultsList[3])\n",
    "#                 seg0b =','+str(resultsList[4])+','+str(resultsList[5])+','+str(resultsList[6])\n",
    "#                 seg1 = ','+str(beta)+','+str(sigma)+','+str(mu)+ ',' +str(muIncr)\n",
    "#                 seg2 = ','+str(resultsList[7])+','+str(resultsList[8])+','+str(resultsList[9])\n",
    "#                 outString = prefixString+seg0a+seg0b+suffixString+seg1+seg2+'\\n'\n",
    "#                 resultsFile = open('RobotResults.txt','a+')\n",
    "#                 resultsFile.write(outString)\n",
    "#                 resultsFile.close()\n",
    "#                 epsilon = epsilon + epsilonIncr\n",
    "#             sigma = sigma + sigmaIncr\n",
    "#         beta = beta + betaIncr\n",
    "#     mu = mu + muIncr\n",
    "\n",
    "\n",
    " "
   ]
  },
  {
   "cell_type": "markdown",
   "metadata": {
    "ExecuteTime": {
     "end_time": "2020-09-03T16:36:26.229783Z",
     "start_time": "2020-09-03T16:36:26.227755Z"
    }
   },
   "source": [
    "## Bayesian Optimization of Hyperparameters"
   ]
  },
  {
   "cell_type": "code",
   "execution_count": 5,
   "metadata": {},
   "outputs": [],
   "source": [
    "import numpy as np"
   ]
  },
  {
   "cell_type": "markdown",
   "metadata": {
    "ExecuteTime": {
     "end_time": "2020-09-03T16:36:47.947518Z",
     "start_time": "2020-09-03T16:36:47.944251Z"
    }
   },
   "source": [
    "Create a function of the parameters that returns the F score"
   ]
  },
  {
   "cell_type": "code",
   "execution_count": 6,
   "metadata": {
    "ExecuteTime": {
     "end_time": "2020-09-03T21:59:42.561300Z",
     "start_time": "2020-09-03T21:59:42.557193Z"
    }
   },
   "outputs": [],
   "source": [
    "def entropy_F1(beta=14,sigma=145,mu=0.6,muIncr=0.05,epsilon=35,epsilonIterate=0):\n",
    "    resultsList = DWM3_Entropy_Cluster.driver(fileToCluster, \n",
    "                                  beta, \n",
    "                                  sigma, \n",
    "                                  mu, \n",
    "                                  muIncr,\n",
    "                                  epsilon,\n",
    "                                  epsilonIterate,\n",
    "                                  runClusterMetrics, \n",
    "                                  runFinalMetrics, \n",
    "                                  createFinalJoin, \n",
    "                                  hasHeader)\n",
    "    return resultsList[9]"
   ]
  },
  {
   "cell_type": "code",
   "execution_count": 7,
   "metadata": {
    "ExecuteTime": {
     "end_time": "2020-09-03T22:06:32.164588Z",
     "start_time": "2020-09-03T21:59:43.696518Z"
    }
   },
   "outputs": [
    {
     "name": "stdout",
     "output_type": "stream",
     "text": [
      "\n",
      ">>>>>>>>>>>>\n",
      "Starting Iteration mu= 0.5\n",
      "Starting Iteration epsilon= 3.1\n",
      "Running NewMatrix Jar!\n",
      " Single-Reference Blocks = 1\n",
      "\n",
      " Multi-Reference Blocks = 2529\n",
      "NewMatrix Iterateblocks Total Time = 1.3898577271029353\n",
      "\n",
      "\n",
      ">>>>>>>>>>>>\n",
      "Starting Iteration mu= 0.6\n",
      "Starting Iteration epsilon= 3.1\n",
      "Running NewMatrix Jar!\n",
      " Single-Reference Blocks = 1\n",
      "\n",
      " Multi-Reference Blocks = 2030\n",
      "NewMatrix Iterateblocks Total Time = 1.1111084138974547\n",
      "\n",
      "\n",
      ">>>>>>>>>>>>\n",
      "Starting Iteration mu= 0.7\n",
      "Starting Iteration epsilon= 3.1\n",
      "Running NewMatrix Jar!\n",
      " Single-Reference Blocks = 1\n",
      "\n",
      " Multi-Reference Blocks = 1255\n",
      "NewMatrix Iterateblocks Total Time = 0.8943820223212242\n",
      "\n",
      "\n",
      ">>>>>>>>>>>>\n",
      "Starting Iteration mu= 0.7999999999999999\n",
      "Starting Iteration epsilon= 3.1\n",
      "Running NewMatrix Jar!\n",
      " Single-Reference Blocks = 1\n",
      "\n",
      " Multi-Reference Blocks = 538\n",
      "NewMatrix Iterateblocks Total Time = 0.5419053649529815\n",
      "\n",
      "\n",
      ">>>>>>>>>>>>\n",
      "Starting Iteration mu= 0.8999999999999999\n",
      "Starting Iteration epsilon= 3.1\n",
      "Running NewMatrix Jar!\n",
      " Single-Reference Blocks = 1\n",
      "\n",
      " Multi-Reference Blocks = 171\n",
      "NewMatrix Iterateblocks Total Time = 0.29609377309679985\n",
      "\n",
      "\n",
      ">>>>>>>>>>>>\n",
      "Starting Iteration mu= 0.9999999999999999\n",
      "Starting Iteration epsilon= 3.1\n",
      "Running NewMatrix Jar!\n",
      " Single-Reference Blocks = 1\n",
      "\n",
      " Multi-Reference Blocks = 42\n",
      "NewMatrix Iterateblocks Total Time = 0.20286011788994074\n",
      "\n",
      "Precision = TP / (TP + FP) ......................... = 0.99176471\n",
      "Recall = TP / (TP + FN) ............................ = 0.85151515\n",
      "F-Measure .......................................... = 0.91630435\n"
     ]
    },
    {
     "data": {
      "text/plain": [
       "0.91630435"
      ]
     },
     "execution_count": 7,
     "metadata": {},
     "output_type": "execute_result"
    }
   ],
   "source": [
    "entropy_F1(mu=0.5,muIncr=0.1,beta=12,sigma=53,epsilon=3.0,epsilonIterate=0)"
   ]
  },
  {
   "cell_type": "markdown",
   "metadata": {},
   "source": [
    "Create functions for variable transformation."
   ]
  },
  {
   "cell_type": "code",
   "execution_count": 7,
   "metadata": {
    "ExecuteTime": {
     "end_time": "2020-09-03T22:08:18.856511Z",
     "start_time": "2020-09-03T22:08:18.853611Z"
    }
   },
   "outputs": [],
   "source": [
    "#Softplus to transform real domain into positive\n",
    "def softplus(x):\n",
    "    return np.log(1+np.exp(x))\n",
    "\n",
    "def inv_softplus(x):\n",
    "    return np.log(np.exp(x)-1)"
   ]
  },
  {
   "cell_type": "code",
   "execution_count": 11,
   "metadata": {
    "ExecuteTime": {
     "end_time": "2020-09-03T22:08:27.349548Z",
     "start_time": "2020-09-03T22:08:27.345752Z"
    }
   },
   "outputs": [
    {
     "data": {
      "text/plain": [
       "0.541324854612918"
      ]
     },
     "execution_count": 11,
     "metadata": {},
     "output_type": "execute_result"
    }
   ],
   "source": [
    "inv_softplus(1)"
   ]
  },
  {
   "cell_type": "code",
   "execution_count": 10,
   "metadata": {
    "ExecuteTime": {
     "end_time": "2020-09-03T22:11:24.939913Z",
     "start_time": "2020-09-03T22:11:24.936639Z"
    }
   },
   "outputs": [],
   "source": [
    "#Logit to transform real domain into 0-1\n",
    "def logit(x):    \n",
    "    return np.log(x+1e-54)-np.log(1-x+1e-54)\n",
    "\n",
    "def inv_logit(x):\n",
    "    res=np.exp(x)/(np.exp(x)+1)-2*1e-54\n",
    "    if res<1e-54:\n",
    "        res=0\n",
    "    return res"
   ]
  },
  {
   "cell_type": "markdown",
   "metadata": {},
   "source": [
    "Import BO library:"
   ]
  },
  {
   "cell_type": "code",
   "execution_count": 12,
   "metadata": {
    "ExecuteTime": {
     "end_time": "2020-09-03T22:08:30.622144Z",
     "start_time": "2020-09-03T22:08:30.226842Z"
    }
   },
   "outputs": [],
   "source": [
    "from bayes_opt import BayesianOptimization"
   ]
  },
  {
   "cell_type": "markdown",
   "metadata": {
    "ExecuteTime": {
     "end_time": "2020-09-03T18:14:39.927785Z",
     "start_time": "2020-09-03T18:14:39.924909Z"
    }
   },
   "source": [
    "Create dictionary bounds for the parameters:"
   ]
  },
  {
   "cell_type": "code",
   "execution_count": 13,
   "metadata": {},
   "outputs": [],
   "source": [
    "import os, sys"
   ]
  },
  {
   "cell_type": "code",
   "execution_count": 14,
   "metadata": {},
   "outputs": [],
   "source": [
    "class HiddenPrints:\n",
    "    def __enter__(self):\n",
    "        self._original_stdout = sys.stdout\n",
    "        sys.stdout = open(os.devnull, 'w')\n",
    "\n",
    "    def __exit__(self, exc_type, exc_val, exc_tb):\n",
    "        sys.stdout.close()\n",
    "        sys.stdout = self._original_stdout"
   ]
  },
  {
   "cell_type": "code",
   "execution_count": 15,
   "metadata": {},
   "outputs": [
    {
     "name": "stdout",
     "output_type": "stream",
     "text": [
      "This will be printed as before\n"
     ]
    }
   ],
   "source": [
    "with HiddenPrints():\n",
    "    print(\"This will not be printed\")\n",
    "\n",
    "print(\"This will be printed as before\")"
   ]
  },
  {
   "cell_type": "code",
   "execution_count": 16,
   "metadata": {
    "ExecuteTime": {
     "end_time": "2020-09-03T22:11:53.005154Z",
     "start_time": "2020-09-03T22:11:53.000238Z"
    }
   },
   "outputs": [],
   "source": [
    "#Take parameters in transformed space and return f score in transformed space\n",
    "def entropy_F1_trx(beta_sp,sigma_sp,mu_logit,muIncr_logit,epsilon_sp,epsilonIterate_logit=logit(0)):\n",
    "    beta_pos=int(softplus(beta_sp))\n",
    "    sigma_pos=int(softplus(sigma_sp))\n",
    "    mu_01=inv_logit(mu_logit)\n",
    "    muIncr_01=inv_logit(muIncr_logit)\n",
    "    epsilon_pos=softplus(epsilon_sp)\n",
    "    epsilonIterate_01=inv_logit(epsilonIterate_logit)\n",
    "    \n",
    "    print(\"Mu:%.2f|Mu+:%.2f|Beta:%.2f|Sigma:%.2f|Epsilon:%.2f|EpIter:%.2f\" % (mu_01, muIncr_01, beta_pos, sigma_pos, epsilon_pos, epsilonIterate_01))\n",
    "    \n",
    "    with HiddenPrints():\n",
    "        f1=entropy_F1(beta=beta_pos,\n",
    "                      epsilon=epsilon_pos,\n",
    "                      epsilonIterate=epsilonIterate_01,\n",
    "                      muIncr=muIncr_01,\n",
    "                      sigma=sigma_pos,\n",
    "                      mu=mu_01)\n",
    "    \n",
    "    return logit(f1)"
   ]
  },
  {
   "cell_type": "code",
   "execution_count": 17,
   "metadata": {},
   "outputs": [
    {
     "name": "stdout",
     "output_type": "stream",
     "text": [
      "Mu:0.50|Mu+:0.05|Beta:33.00|Sigma:449.00|Epsilon:31.80|EpIter:0.00\n"
     ]
    },
    {
     "data": {
      "text/plain": [
       "-0.2456525596239042"
      ]
     },
     "execution_count": 17,
     "metadata": {},
     "output_type": "execute_result"
    }
   ],
   "source": [
    "entropy_F1_trx(beta_sp=inv_softplus(33),\n",
    "               sigma_sp=inv_softplus(449),\n",
    "               mu_logit=logit(0.5),\n",
    "               muIncr_logit=logit(0.05),\n",
    "               epsilon_sp=inv_softplus(31.8))"
   ]
  },
  {
   "cell_type": "code",
   "execution_count": 18,
   "metadata": {},
   "outputs": [],
   "source": [
    "optimizer=None"
   ]
  },
  {
   "cell_type": "code",
   "execution_count": 19,
   "metadata": {
    "ExecuteTime": {
     "end_time": "2020-09-03T22:11:50.787503Z",
     "start_time": "2020-09-03T22:11:50.784060Z"
    }
   },
   "outputs": [],
   "source": [
    "pbounds = {'beta_sp': (inv_softplus(1), inv_softplus(700)), \n",
    "           'sigma_sp': (inv_softplus(1), inv_softplus(700)),\n",
    "           'mu_logit': (logit(0.5), logit(0.99)),\n",
    "           'muIncr_logit': (logit(0.01), logit(0.2)),\n",
    "           'epsilon_sp': (inv_softplus(1), inv_softplus(700))}#,\n",
    "           #'epsilonIterate_logit': (logit(0), logit(0.25))}"
   ]
  },
  {
   "cell_type": "code",
   "execution_count": 20,
   "metadata": {},
   "outputs": [],
   "source": [
    "from bayes_opt import SequentialDomainReductionTransformer"
   ]
  },
  {
   "cell_type": "code",
   "execution_count": 21,
   "metadata": {},
   "outputs": [],
   "source": [
    "bounds_transformer = SequentialDomainReductionTransformer()"
   ]
  },
  {
   "cell_type": "code",
   "execution_count": 22,
   "metadata": {
    "ExecuteTime": {
     "end_time": "2020-09-03T22:11:56.728829Z",
     "start_time": "2020-09-03T22:11:56.725599Z"
    }
   },
   "outputs": [],
   "source": [
    "optimizer = BayesianOptimization(\n",
    "    f=entropy_F1_trx,\n",
    "    pbounds=pbounds,\n",
    "    random_state=1,\n",
    "    bounds_transformer=bounds_transformer\n",
    ")"
   ]
  },
  {
   "cell_type": "code",
   "execution_count": 23,
   "metadata": {},
   "outputs": [],
   "source": [
    "optimizer.probe(\n",
    "    params={\"beta_sp\": inv_softplus(12), \n",
    "            \"sigma_sp\": inv_softplus(53),\n",
    "            \"mu_logit\":logit(0.5),\n",
    "            #'epsilonIterate_logit': logit(0),\n",
    "            \"muIncr_logit\":logit(0.1),\n",
    "            \"epsilon_sp\":inv_softplus(3.0)},\n",
    "    lazy=True,\n",
    ")"
   ]
  },
  {
   "cell_type": "code",
   "execution_count": 24,
   "metadata": {
    "ExecuteTime": {
     "end_time": "2020-09-03T22:54:10.009085Z",
     "start_time": "2020-09-03T22:11:58.063246Z"
    }
   },
   "outputs": [
    {
     "name": "stdout",
     "output_type": "stream",
     "text": [
      "|   iter    |  target   |  beta_sp  | epsilo... | muIncr... | mu_logit  | sigma_sp  |\n",
      "-------------------------------------------------------------------------------------\n",
      "Mu:0.50|Mu+:0.10|Beta:12.00|Sigma:53.00|Epsilon:3.00|EpIter:0.00\n",
      "| \u001b[0m 1       \u001b[0m | \u001b[0m 2.366   \u001b[0m | \u001b[0m 12.0    \u001b[0m | \u001b[0m 2.949   \u001b[0m | \u001b[0m-2.197   \u001b[0m | \u001b[0m 0.0     \u001b[0m | \u001b[0m 53.0    \u001b[0m |\n",
      "Mu:0.80|Mu+:0.01|Beta:292.00|Sigma:103.00|Epsilon:504.38|EpIter:0.00\n",
      "| \u001b[0m 2       \u001b[0m | \u001b[0m 1.886   \u001b[0m | \u001b[0m 292.2   \u001b[0m | \u001b[0m 504.4   \u001b[0m | \u001b[0m-4.595   \u001b[0m | \u001b[0m 1.389   \u001b[0m | \u001b[0m 103.2   \u001b[0m |\n",
      "Mu:0.86|Mu+:0.03|Beta:65.00|Sigma:377.00|Epsilon:130.82|EpIter:0.00\n",
      "| \u001b[0m 3       \u001b[0m | \u001b[0m 1.709   \u001b[0m | \u001b[0m 65.13   \u001b[0m | \u001b[0m 130.8   \u001b[0m | \u001b[0m-3.486   \u001b[0m | \u001b[0m 1.823   \u001b[0m | \u001b[0m 377.4   \u001b[0m |\n",
      "Mu:0.98|Mu+:0.02|Beta:293.00|Sigma:19.00|Epsilon:479.82|EpIter:0.00\n",
      "| \u001b[0m 4       \u001b[0m | \u001b[0m 0.8042  \u001b[0m | \u001b[0m 293.8   \u001b[0m | \u001b[0m 479.8   \u001b[0m | \u001b[0m-3.939   \u001b[0m | \u001b[0m 4.035   \u001b[0m | \u001b[0m 19.7    \u001b[0m |\n",
      "Mu:0.66|Mu+:0.06|Beta:469.00|Sigma:139.00|Epsilon:292.43|EpIter:0.00\n",
      "| \u001b[0m 5       \u001b[0m | \u001b[0m-1.715   \u001b[0m | \u001b[0m 469.5   \u001b[0m | \u001b[0m 292.4   \u001b[0m | \u001b[0m-2.802   \u001b[0m | \u001b[0m 0.6451  \u001b[0m | \u001b[0m 139.1   \u001b[0m |\n",
      "Mu:0.96|Mu+:0.03|Beta:560.00|Sigma:613.00|Epsilon:677.80|EpIter:0.00\n",
      "| \u001b[0m 6       \u001b[0m | \u001b[0m 1.339   \u001b[0m | \u001b[0m 560.6   \u001b[0m | \u001b[0m 677.8   \u001b[0m | \u001b[0m-3.589   \u001b[0m | \u001b[0m 3.181   \u001b[0m | \u001b[0m 613.5   \u001b[0m |\n",
      "Mu:0.69|Mu+:0.01|Beta:626.00|Sigma:614.00|Epsilon:60.03|EpIter:0.00\n",
      "| \u001b[0m 7       \u001b[0m | \u001b[0m-1.437   \u001b[0m | \u001b[0m 626.3   \u001b[0m | \u001b[0m 60.03   \u001b[0m | \u001b[0m-4.47    \u001b[0m | \u001b[0m 0.7804  \u001b[0m | \u001b[0m 614.8   \u001b[0m |\n",
      "Mu:0.92|Mu+:0.18|Beta:69.00|Sigma:484.00|Epsilon:295.09|EpIter:0.00\n",
      "| \u001b[0m 8       \u001b[0m | \u001b[0m 1.419   \u001b[0m | \u001b[0m 69.33   \u001b[0m | \u001b[0m 295.1   \u001b[0m | \u001b[0m-1.521   \u001b[0m | \u001b[0m 2.45    \u001b[0m | \u001b[0m 484.5   \u001b[0m |\n",
      "Mu:0.52|Mu+:0.13|Beta:221.00|Sigma:525.00|Epsilon:480.72|EpIter:0.00\n",
      "| \u001b[0m 9       \u001b[0m | \u001b[0m-7.017   \u001b[0m | \u001b[0m 221.2   \u001b[0m | \u001b[0m 480.7   \u001b[0m | \u001b[0m-1.917   \u001b[0m | \u001b[0m 0.08404 \u001b[0m | \u001b[0m 525.2   \u001b[0m |\n",
      "Mu:0.97|Mu+:0.02|Beta:692.00|Sigma:72.00|Epsilon:523.85|EpIter:0.00\n",
      "| \u001b[0m 10      \u001b[0m | \u001b[0m 0.9005  \u001b[0m | \u001b[0m 692.2   \u001b[0m | \u001b[0m 523.9   \u001b[0m | \u001b[0m-3.695   \u001b[0m | \u001b[0m 3.627   \u001b[0m | \u001b[0m 72.74   \u001b[0m |\n",
      "Mu:0.79|Mu+:0.03|Beta:313.00|Sigma:91.00|Epsilon:636.07|EpIter:0.00\n",
      "| \u001b[0m 11      \u001b[0m | \u001b[0m 1.933   \u001b[0m | \u001b[0m 313.8   \u001b[0m | \u001b[0m 636.1   \u001b[0m | \u001b[0m-3.653   \u001b[0m | \u001b[0m 1.322   \u001b[0m | \u001b[0m 91.49   \u001b[0m |\n",
      "Mu:0.56|Mu+:0.07|Beta:4.00|Sigma:56.00|Epsilon:2.63|EpIter:0.00\n",
      "| \u001b[0m 12      \u001b[0m | \u001b[0m 1.288   \u001b[0m | \u001b[0m 4.019   \u001b[0m | \u001b[0m 2.556   \u001b[0m | \u001b[0m-2.57    \u001b[0m | \u001b[0m 0.2241  \u001b[0m | \u001b[0m 56.3    \u001b[0m |\n",
      "Mu:0.50|Mu+:0.14|Beta:77.00|Sigma:137.00|Epsilon:75.52|EpIter:0.00\n",
      "| \u001b[0m 13      \u001b[0m | \u001b[0m-2.373   \u001b[0m | \u001b[0m 77.61   \u001b[0m | \u001b[0m 75.52   \u001b[0m | \u001b[0m-1.802   \u001b[0m | \u001b[0m 0.0     \u001b[0m | \u001b[0m 137.2   \u001b[0m |\n",
      "Mu:0.51|Mu+:0.09|Beta:2.00|Sigma:58.00|Epsilon:2.73|EpIter:0.00\n",
      "| \u001b[0m 14      \u001b[0m | \u001b[0m-124.3   \u001b[0m | \u001b[0m 2.889   \u001b[0m | \u001b[0m 2.659   \u001b[0m | \u001b[0m-2.267   \u001b[0m | \u001b[0m 0.03906 \u001b[0m | \u001b[0m 58.5    \u001b[0m |\n",
      "Mu:0.56|Mu+:0.12|Beta:31.00|Sigma:27.00|Epsilon:65.34|EpIter:0.00\n",
      "| \u001b[0m 15      \u001b[0m | \u001b[0m-0.1669  \u001b[0m | \u001b[0m 31.3    \u001b[0m | \u001b[0m 65.34   \u001b[0m | \u001b[0m-1.974   \u001b[0m | \u001b[0m 0.2603  \u001b[0m | \u001b[0m 27.02   \u001b[0m |\n",
      "Mu:0.57|Mu+:0.12|Beta:6.00|Sigma:86.00|Epsilon:54.29|EpIter:0.00\n",
      "| \u001b[0m 16      \u001b[0m | \u001b[0m 1.329   \u001b[0m | \u001b[0m 6.398   \u001b[0m | \u001b[0m 54.29   \u001b[0m | \u001b[0m-2.024   \u001b[0m | \u001b[0m 0.2748  \u001b[0m | \u001b[0m 86.62   \u001b[0m |\n",
      "Mu:0.50|Mu+:0.12|Beta:16.00|Sigma:81.00|Epsilon:8.39|EpIter:0.00\n",
      "| \u001b[0m 17      \u001b[0m | \u001b[0m 1.564   \u001b[0m | \u001b[0m 16.05   \u001b[0m | \u001b[0m 8.394   \u001b[0m | \u001b[0m-1.998   \u001b[0m | \u001b[0m 0.002115\u001b[0m | \u001b[0m 81.22   \u001b[0m |\n",
      "Mu:0.53|Mu+:0.12|Beta:34.00|Sigma:85.00|Epsilon:11.60|EpIter:0.00\n",
      "| \u001b[0m 18      \u001b[0m | \u001b[0m 1.329   \u001b[0m | \u001b[0m 34.02   \u001b[0m | \u001b[0m 11.6    \u001b[0m | \u001b[0m-1.972   \u001b[0m | \u001b[0m 0.138   \u001b[0m | \u001b[0m 85.33   \u001b[0m |\n",
      "Mu:0.55|Mu+:0.09|Beta:37.00|Sigma:44.00|Epsilon:24.12|EpIter:0.00\n",
      "| \u001b[0m 19      \u001b[0m | \u001b[0m 0.4277  \u001b[0m | \u001b[0m 37.5    \u001b[0m | \u001b[0m 24.12   \u001b[0m | \u001b[0m-2.298   \u001b[0m | \u001b[0m 0.1812  \u001b[0m | \u001b[0m 44.66   \u001b[0m |\n",
      "Mu:0.53|Mu+:0.11|Beta:7.00|Sigma:69.00|Epsilon:11.83|EpIter:0.00\n",
      "| \u001b[0m 20      \u001b[0m | \u001b[0m 1.305   \u001b[0m | \u001b[0m 7.786   \u001b[0m | \u001b[0m 11.83   \u001b[0m | \u001b[0m-2.065   \u001b[0m | \u001b[0m 0.1177  \u001b[0m | \u001b[0m 69.96   \u001b[0m |\n",
      "Mu:0.54|Mu+:0.09|Beta:22.00|Sigma:50.00|Epsilon:2.11|EpIter:0.00\n",
      "| \u001b[0m 21      \u001b[0m | \u001b[0m 2.004   \u001b[0m | \u001b[0m 22.79   \u001b[0m | \u001b[0m 1.985   \u001b[0m | \u001b[0m-2.323   \u001b[0m | \u001b[0m 0.1665  \u001b[0m | \u001b[0m 50.71   \u001b[0m |\n",
      "Mu:0.51|Mu+:0.09|Beta:17.00|Sigma:24.00|Epsilon:19.03|EpIter:0.00\n",
      "| \u001b[0m 22      \u001b[0m | \u001b[0m 0.5562  \u001b[0m | \u001b[0m 17.4    \u001b[0m | \u001b[0m 19.03   \u001b[0m | \u001b[0m-2.341   \u001b[0m | \u001b[0m 0.02837 \u001b[0m | \u001b[0m 24.4    \u001b[0m |\n",
      "Mu:0.55|Mu+:0.10|Beta:11.00|Sigma:42.00|Epsilon:17.57|EpIter:0.00\n",
      "| \u001b[0m 23      \u001b[0m | \u001b[0m 0.7823  \u001b[0m | \u001b[0m 11.43   \u001b[0m | \u001b[0m 17.57   \u001b[0m | \u001b[0m-2.21    \u001b[0m | \u001b[0m 0.1868  \u001b[0m | \u001b[0m 42.07   \u001b[0m |\n",
      "Mu:0.52|Mu+:0.09|Beta:6.00|Sigma:64.00|Epsilon:21.99|EpIter:0.00\n",
      "| \u001b[0m 24      \u001b[0m | \u001b[0m 1.009   \u001b[0m | \u001b[0m 6.898   \u001b[0m | \u001b[0m 21.99   \u001b[0m | \u001b[0m-2.275   \u001b[0m | \u001b[0m 0.08425 \u001b[0m | \u001b[0m 64.46   \u001b[0m |\n",
      "Mu:0.52|Mu+:0.10|Beta:23.00|Sigma:44.00|Epsilon:14.19|EpIter:0.00\n",
      "| \u001b[0m 25      \u001b[0m | \u001b[0m 1.109   \u001b[0m | \u001b[0m 23.89   \u001b[0m | \u001b[0m 14.19   \u001b[0m | \u001b[0m-2.215   \u001b[0m | \u001b[0m 0.08854 \u001b[0m | \u001b[0m 44.61   \u001b[0m |\n",
      "Mu:0.53|Mu+:0.11|Beta:17.00|Sigma:62.00|Epsilon:14.16|EpIter:0.00\n",
      "| \u001b[0m 26      \u001b[0m | \u001b[0m 1.006   \u001b[0m | \u001b[0m 17.89   \u001b[0m | \u001b[0m 14.16   \u001b[0m | \u001b[0m-2.12    \u001b[0m | \u001b[0m 0.1166  \u001b[0m | \u001b[0m 62.88   \u001b[0m |\n",
      "Mu:0.52|Mu+:0.10|Beta:3.00|Sigma:68.00|Epsilon:6.27|EpIter:0.00\n",
      "| \u001b[0m 27      \u001b[0m | \u001b[0m-0.03774 \u001b[0m | \u001b[0m 3.013   \u001b[0m | \u001b[0m 6.272   \u001b[0m | \u001b[0m-2.201   \u001b[0m | \u001b[0m 0.08053 \u001b[0m | \u001b[0m 68.74   \u001b[0m |\n",
      "Mu:0.53|Mu+:0.10|Beta:25.00|Sigma:39.00|Epsilon:1.59|EpIter:0.00\n",
      "| \u001b[0m 28      \u001b[0m | \u001b[0m 1.339   \u001b[0m | \u001b[0m 25.17   \u001b[0m | \u001b[0m 1.368   \u001b[0m | \u001b[0m-2.21    \u001b[0m | \u001b[0m 0.1075  \u001b[0m | \u001b[0m 39.96   \u001b[0m |\n",
      "Mu:0.50|Mu+:0.10|Beta:4.00|Sigma:46.00|Epsilon:11.17|EpIter:0.00\n",
      "| \u001b[0m 29      \u001b[0m | \u001b[0m 1.289   \u001b[0m | \u001b[0m 4.522   \u001b[0m | \u001b[0m 11.17   \u001b[0m | \u001b[0m-2.172   \u001b[0m | \u001b[0m 0.005327\u001b[0m | \u001b[0m 46.4    \u001b[0m |\n",
      "Mu:0.50|Mu+:0.09|Beta:4.00|Sigma:49.00|Epsilon:10.30|EpIter:0.00\n",
      "| \u001b[0m 30      \u001b[0m | \u001b[0m 1.355   \u001b[0m | \u001b[0m 4.695   \u001b[0m | \u001b[0m 10.3    \u001b[0m | \u001b[0m-2.257   \u001b[0m | \u001b[0m 0.005179\u001b[0m | \u001b[0m 49.49   \u001b[0m |\n",
      "Mu:0.52|Mu+:0.09|Beta:13.00|Sigma:48.00|Epsilon:13.97|EpIter:0.00\n",
      "| \u001b[0m 31      \u001b[0m | \u001b[0m 1.065   \u001b[0m | \u001b[0m 13.9    \u001b[0m | \u001b[0m 13.97   \u001b[0m | \u001b[0m-2.255   \u001b[0m | \u001b[0m 0.07771 \u001b[0m | \u001b[0m 48.18   \u001b[0m |\n",
      "Mu:0.51|Mu+:0.10|Beta:1.00|Sigma:64.00|Epsilon:3.89|EpIter:0.00\n",
      "| \u001b[0m 32      \u001b[0m | \u001b[0m-124.3   \u001b[0m | \u001b[0m 1.769   \u001b[0m | \u001b[0m 3.871   \u001b[0m | \u001b[0m-2.201   \u001b[0m | \u001b[0m 0.02864 \u001b[0m | \u001b[0m 64.26   \u001b[0m |\n",
      "Mu:0.50|Mu+:0.10|Beta:16.00|Sigma:59.00|Epsilon:8.91|EpIter:0.00\n",
      "| \u001b[0m 33      \u001b[0m | \u001b[0m 1.599   \u001b[0m | \u001b[0m 16.55   \u001b[0m | \u001b[0m 8.909   \u001b[0m | \u001b[0m-2.189   \u001b[0m | \u001b[0m 0.00208 \u001b[0m | \u001b[0m 59.23   \u001b[0m |\n",
      "Mu:0.51|Mu+:0.10|Beta:5.00|Sigma:45.00|Epsilon:3.55|EpIter:0.00\n",
      "| \u001b[0m 34      \u001b[0m | \u001b[0m 1.945   \u001b[0m | \u001b[0m 5.901   \u001b[0m | \u001b[0m 3.523   \u001b[0m | \u001b[0m-2.188   \u001b[0m | \u001b[0m 0.0276  \u001b[0m | \u001b[0m 45.85   \u001b[0m |\n",
      "Mu:0.51|Mu+:0.10|Beta:6.00|Sigma:60.00|Epsilon:1.86|EpIter:0.00\n",
      "| \u001b[0m 35      \u001b[0m | \u001b[0m 1.509   \u001b[0m | \u001b[0m 6.609   \u001b[0m | \u001b[0m 1.691   \u001b[0m | \u001b[0m-2.178   \u001b[0m | \u001b[0m 0.03783 \u001b[0m | \u001b[0m 60.93   \u001b[0m |\n",
      "Mu:0.51|Mu+:0.10|Beta:19.00|Sigma:49.00|Epsilon:7.69|EpIter:0.00\n",
      "| \u001b[0m 36      \u001b[0m | \u001b[0m 1.693   \u001b[0m | \u001b[0m 19.11   \u001b[0m | \u001b[0m 7.69    \u001b[0m | \u001b[0m-2.201   \u001b[0m | \u001b[0m 0.03743 \u001b[0m | \u001b[0m 49.29   \u001b[0m |\n",
      "Mu:0.50|Mu+:0.10|Beta:15.00|Sigma:57.00|Epsilon:3.51|EpIter:0.00\n",
      "| \u001b[0m 37      \u001b[0m | \u001b[0m 2.357   \u001b[0m | \u001b[0m 15.54   \u001b[0m | \u001b[0m 3.484   \u001b[0m | \u001b[0m-2.186   \u001b[0m | \u001b[0m 0.0162  \u001b[0m | \u001b[0m 57.48   \u001b[0m |\n",
      "Mu:0.50|Mu+:0.10|Beta:12.00|Sigma:48.00|Epsilon:1.54|EpIter:0.00\n",
      "| \u001b[0m 38      \u001b[0m | \u001b[0m 1.255   \u001b[0m | \u001b[0m 12.59   \u001b[0m | \u001b[0m 1.302   \u001b[0m | \u001b[0m-2.186   \u001b[0m | \u001b[0m 0.006069\u001b[0m | \u001b[0m 48.44   \u001b[0m |\n",
      "Mu:0.50|Mu+:0.10|Beta:15.00|Sigma:50.00|Epsilon:4.27|EpIter:0.00\n",
      "| \u001b[0m 39      \u001b[0m | \u001b[0m 2.191   \u001b[0m | \u001b[0m 15.79   \u001b[0m | \u001b[0m 4.258   \u001b[0m | \u001b[0m-2.183   \u001b[0m | \u001b[0m 0.007496\u001b[0m | \u001b[0m 50.13   \u001b[0m |\n",
      "Mu:0.50|Mu+:0.10|Beta:14.00|Sigma:54.00|Epsilon:1.47|EpIter:0.00\n"
     ]
    },
    {
     "name": "stdout",
     "output_type": "stream",
     "text": [
      "| \u001b[0m 40      \u001b[0m | \u001b[0m 1.13    \u001b[0m | \u001b[0m 14.79   \u001b[0m | \u001b[0m 1.208   \u001b[0m | \u001b[0m-2.187   \u001b[0m | \u001b[0m 0.01153 \u001b[0m | \u001b[0m 54.54   \u001b[0m |\n",
      "Mu:0.50|Mu+:0.10|Beta:15.00|Sigma:55.00|Epsilon:6.89|EpIter:0.00\n",
      "| \u001b[0m 41      \u001b[0m | \u001b[0m 1.669   \u001b[0m | \u001b[0m 15.7    \u001b[0m | \u001b[0m 6.894   \u001b[0m | \u001b[0m-2.217   \u001b[0m | \u001b[0m 0.002241\u001b[0m | \u001b[0m 55.43   \u001b[0m |\n",
      "Mu:0.50|Mu+:0.10|Beta:15.00|Sigma:56.00|Epsilon:1.39|EpIter:0.00\n",
      "| \u001b[0m 42      \u001b[0m | \u001b[0m 1.18    \u001b[0m | \u001b[0m 15.81   \u001b[0m | \u001b[0m 1.099   \u001b[0m | \u001b[0m-2.214   \u001b[0m | \u001b[0m 0.009331\u001b[0m | \u001b[0m 56.63   \u001b[0m |\n",
      "Mu:0.51|Mu+:0.10|Beta:9.00|Sigma:54.00|Epsilon:5.66|EpIter:0.00\n",
      "| \u001b[0m 43      \u001b[0m | \u001b[0m 1.783   \u001b[0m | \u001b[0m 9.292   \u001b[0m | \u001b[0m 5.654   \u001b[0m | \u001b[0m-2.206   \u001b[0m | \u001b[0m 0.02078 \u001b[0m | \u001b[0m 54.39   \u001b[0m |\n",
      "Mu:0.50|Mu+:0.10|Beta:14.00|Sigma:53.00|Epsilon:1.10|EpIter:0.00\n",
      "| \u001b[0m 44      \u001b[0m | \u001b[0m 0.8719  \u001b[0m | \u001b[0m 14.97   \u001b[0m | \u001b[0m 0.7022  \u001b[0m | \u001b[0m-2.195   \u001b[0m | \u001b[0m 0.01209 \u001b[0m | \u001b[0m 53.63   \u001b[0m |\n",
      "Mu:0.50|Mu+:0.10|Beta:13.00|Sigma:53.00|Epsilon:4.35|EpIter:0.00\n",
      "| \u001b[0m 45      \u001b[0m | \u001b[0m 2.2     \u001b[0m | \u001b[0m 13.94   \u001b[0m | \u001b[0m 4.34    \u001b[0m | \u001b[0m-2.21    \u001b[0m | \u001b[0m 0.002369\u001b[0m | \u001b[0m 53.81   \u001b[0m |\n",
      "Mu:0.50|Mu+:0.10|Beta:11.00|Sigma:52.00|Epsilon:3.07|EpIter:0.00\n",
      "| \u001b[95m 46      \u001b[0m | \u001b[95m 2.366   \u001b[0m | \u001b[95m 11.99   \u001b[0m | \u001b[95m 3.024   \u001b[0m | \u001b[95m-2.189   \u001b[0m | \u001b[95m 0.008241\u001b[0m | \u001b[95m 52.95   \u001b[0m |\n",
      "Mu:0.50|Mu+:0.10|Beta:12.00|Sigma:53.00|Epsilon:3.12|EpIter:0.00\n",
      "| \u001b[95m 47      \u001b[0m | \u001b[95m 2.385   \u001b[0m | \u001b[95m 12.16   \u001b[0m | \u001b[95m 3.079   \u001b[0m | \u001b[95m-2.196   \u001b[0m | \u001b[95m 0.002149\u001b[0m | \u001b[95m 53.06   \u001b[0m |\n",
      "Mu:0.50|Mu+:0.10|Beta:12.00|Sigma:52.00|Epsilon:2.99|EpIter:0.00\n",
      "| \u001b[0m 48      \u001b[0m | \u001b[0m 2.251   \u001b[0m | \u001b[0m 12.24   \u001b[0m | \u001b[0m 2.942   \u001b[0m | \u001b[0m-2.188   \u001b[0m | \u001b[0m 0.01478 \u001b[0m | \u001b[0m 52.86   \u001b[0m |\n",
      "Mu:0.50|Mu+:0.10|Beta:12.00|Sigma:52.00|Epsilon:3.28|EpIter:0.00\n",
      "| \u001b[95m 49      \u001b[0m | \u001b[95m 2.409   \u001b[0m | \u001b[95m 12.12   \u001b[0m | \u001b[95m 3.241   \u001b[0m | \u001b[95m-2.204   \u001b[0m | \u001b[95m 0.0     \u001b[0m | \u001b[95m 52.83   \u001b[0m |\n",
      "Mu:0.50|Mu+:0.10|Beta:12.00|Sigma:53.00|Epsilon:3.25|EpIter:0.00\n",
      "| \u001b[0m 50      \u001b[0m | \u001b[0m 2.407   \u001b[0m | \u001b[0m 12.32   \u001b[0m | \u001b[0m 3.211   \u001b[0m | \u001b[0m-2.21    \u001b[0m | \u001b[0m 0.01012 \u001b[0m | \u001b[0m 53.09   \u001b[0m |\n",
      "Mu:0.50|Mu+:0.10|Beta:11.00|Sigma:53.00|Epsilon:3.35|EpIter:0.00\n",
      "| \u001b[0m 51      \u001b[0m | \u001b[0m 2.37    \u001b[0m | \u001b[0m 12.0    \u001b[0m | \u001b[0m 3.314   \u001b[0m | \u001b[0m-2.198   \u001b[0m | \u001b[0m 0.009112\u001b[0m | \u001b[0m 53.13   \u001b[0m |\n",
      "Mu:0.50|Mu+:0.10|Beta:12.00|Sigma:53.00|Epsilon:3.07|EpIter:0.00\n",
      "| \u001b[95m 52      \u001b[0m | \u001b[95m 2.418   \u001b[0m | \u001b[95m 12.19   \u001b[0m | \u001b[95m 3.023   \u001b[0m | \u001b[95m-2.209   \u001b[0m | \u001b[95m 0.008201\u001b[0m | \u001b[95m 53.31   \u001b[0m |\n",
      "Mu:0.50|Mu+:0.10|Beta:12.00|Sigma:53.00|Epsilon:3.30|EpIter:0.00\n",
      "| \u001b[0m 53      \u001b[0m | \u001b[0m 2.401   \u001b[0m | \u001b[0m 12.46   \u001b[0m | \u001b[0m 3.258   \u001b[0m | \u001b[0m-2.204   \u001b[0m | \u001b[0m 0.00123 \u001b[0m | \u001b[0m 53.04   \u001b[0m |\n",
      "Mu:0.50|Mu+:0.10|Beta:12.00|Sigma:53.00|Epsilon:2.94|EpIter:0.00\n",
      "| \u001b[0m 54      \u001b[0m | \u001b[0m 2.297   \u001b[0m | \u001b[0m 12.44   \u001b[0m | \u001b[0m 2.885   \u001b[0m | \u001b[0m-2.213   \u001b[0m | \u001b[0m 0.001927\u001b[0m | \u001b[0m 53.13   \u001b[0m |\n",
      "Mu:0.50|Mu+:0.10|Beta:12.00|Sigma:53.00|Epsilon:3.37|EpIter:0.00\n",
      "| \u001b[0m 55      \u001b[0m | \u001b[0m 2.399   \u001b[0m | \u001b[0m 12.3    \u001b[0m | \u001b[0m 3.34    \u001b[0m | \u001b[0m-2.205   \u001b[0m | \u001b[0m 0.002555\u001b[0m | \u001b[0m 53.35   \u001b[0m |\n",
      "Mu:0.50|Mu+:0.10|Beta:12.00|Sigma:52.00|Epsilon:3.53|EpIter:0.00\n",
      "| \u001b[0m 56      \u001b[0m | \u001b[0m 2.377   \u001b[0m | \u001b[0m 12.31   \u001b[0m | \u001b[0m 3.501   \u001b[0m | \u001b[0m-2.212   \u001b[0m | \u001b[0m 0.01328 \u001b[0m | \u001b[0m 52.95   \u001b[0m |\n",
      "Mu:0.50|Mu+:0.10|Beta:12.00|Sigma:53.00|Epsilon:3.30|EpIter:0.00\n",
      "| \u001b[0m 57      \u001b[0m | \u001b[0m 2.414   \u001b[0m | \u001b[0m 12.66   \u001b[0m | \u001b[0m 3.267   \u001b[0m | \u001b[0m-2.206   \u001b[0m | \u001b[0m 0.01277 \u001b[0m | \u001b[0m 53.23   \u001b[0m |\n",
      "Mu:0.50|Mu+:0.10|Beta:12.00|Sigma:52.00|Epsilon:3.21|EpIter:0.00\n",
      "| \u001b[0m 58      \u001b[0m | \u001b[0m 2.407   \u001b[0m | \u001b[0m 12.56   \u001b[0m | \u001b[0m 3.171   \u001b[0m | \u001b[0m-2.211   \u001b[0m | \u001b[0m 0.01232 \u001b[0m | \u001b[0m 52.76   \u001b[0m |\n",
      "Mu:0.50|Mu+:0.10|Beta:12.00|Sigma:53.00|Epsilon:3.65|EpIter:0.00\n",
      "| \u001b[0m 59      \u001b[0m | \u001b[0m 2.377   \u001b[0m | \u001b[0m 12.59   \u001b[0m | \u001b[0m 3.623   \u001b[0m | \u001b[0m-2.207   \u001b[0m | \u001b[0m 0.004496\u001b[0m | \u001b[0m 53.17   \u001b[0m |\n",
      "Mu:0.50|Mu+:0.10|Beta:12.00|Sigma:53.00|Epsilon:3.19|EpIter:0.00\n",
      "| \u001b[0m 60      \u001b[0m | \u001b[0m 2.417   \u001b[0m | \u001b[0m 12.56   \u001b[0m | \u001b[0m 3.152   \u001b[0m | \u001b[0m-2.207   \u001b[0m | \u001b[0m 0.01153 \u001b[0m | \u001b[0m 53.5    \u001b[0m |\n",
      "Mu:0.50|Mu+:0.10|Beta:12.00|Sigma:53.00|Epsilon:3.57|EpIter:0.00\n",
      "| \u001b[0m 61      \u001b[0m | \u001b[0m 2.37    \u001b[0m | \u001b[0m 12.18   \u001b[0m | \u001b[0m 3.545   \u001b[0m | \u001b[0m-2.211   \u001b[0m | \u001b[0m 0.0112  \u001b[0m | \u001b[0m 53.42   \u001b[0m |\n",
      "=====================================================================================\n"
     ]
    }
   ],
   "source": [
    "optimizer.maximize(\n",
    "    init_points=10,\n",
    "    n_iter=50,\n",
    "    acq=\"ucb\",\n",
    "    kappa=5,\n",
    "    alpha=1\n",
    ")"
   ]
  },
  {
   "cell_type": "code",
   "execution_count": 25,
   "metadata": {},
   "outputs": [
    {
     "data": {
      "text/plain": [
       "{'target': 2.417598492457574,\n",
       " 'params': {'beta_sp': 12.192125260585259,\n",
       "  'epsilon_sp': 3.022850143663496,\n",
       "  'muIncr_logit': -2.208857472535911,\n",
       "  'mu_logit': 0.00820089400823578,\n",
       "  'sigma_sp': 53.308993723707246}}"
      ]
     },
     "execution_count": 25,
     "metadata": {},
     "output_type": "execute_result"
    }
   ],
   "source": [
    "optimizer.max"
   ]
  },
  {
   "cell_type": "code",
   "execution_count": 27,
   "metadata": {
    "ExecuteTime": {
     "end_time": "2020-09-03T22:58:42.653746Z",
     "start_time": "2020-09-03T22:58:42.649916Z"
    }
   },
   "outputs": [
    {
     "data": {
      "text/plain": [
       "0.91815947"
      ]
     },
     "execution_count": 27,
     "metadata": {},
     "output_type": "execute_result"
    }
   ],
   "source": [
    "inv_logit(optimizer.max[\"target\"])"
   ]
  },
  {
   "cell_type": "code",
   "execution_count": 28,
   "metadata": {
    "ExecuteTime": {
     "end_time": "2020-09-03T22:59:56.414823Z",
     "start_time": "2020-09-03T22:59:56.412477Z"
    }
   },
   "outputs": [],
   "source": [
    "params=optimizer.max[\"params\"]"
   ]
  },
  {
   "cell_type": "code",
   "execution_count": 29,
   "metadata": {
    "ExecuteTime": {
     "end_time": "2020-09-03T23:00:39.452694Z",
     "start_time": "2020-09-03T23:00:39.449279Z"
    }
   },
   "outputs": [
    {
     "data": {
      "text/plain": [
       "12.192130330797923"
      ]
     },
     "execution_count": 29,
     "metadata": {},
     "output_type": "execute_result"
    }
   ],
   "source": [
    "softplus(params[\"beta_sp\"])"
   ]
  },
  {
   "cell_type": "code",
   "execution_count": 30,
   "metadata": {
    "ExecuteTime": {
     "end_time": "2020-09-03T23:01:09.671719Z",
     "start_time": "2020-09-03T23:01:09.668333Z"
    }
   },
   "outputs": [
    {
     "data": {
      "text/plain": [
       "53.308993723707246"
      ]
     },
     "execution_count": 30,
     "metadata": {},
     "output_type": "execute_result"
    }
   ],
   "source": [
    "softplus(params[\"sigma_sp\"])"
   ]
  },
  {
   "cell_type": "code",
   "execution_count": 31,
   "metadata": {
    "ExecuteTime": {
     "end_time": "2020-09-04T01:35:00.233453Z",
     "start_time": "2020-09-04T01:35:00.230360Z"
    }
   },
   "outputs": [
    {
     "data": {
      "text/plain": [
       "0.5020502120115454"
      ]
     },
     "execution_count": 31,
     "metadata": {},
     "output_type": "execute_result"
    }
   ],
   "source": [
    "inv_logit(params[\"mu_logit\"])"
   ]
  },
  {
   "cell_type": "code",
   "execution_count": 32,
   "metadata": {
    "ExecuteTime": {
     "end_time": "2020-09-04T01:35:28.881809Z",
     "start_time": "2020-09-04T01:35:28.878641Z"
    }
   },
   "outputs": [
    {
     "data": {
      "text/plain": [
       "0.09895790023870633"
      ]
     },
     "execution_count": 32,
     "metadata": {},
     "output_type": "execute_result"
    }
   ],
   "source": [
    "inv_logit(params[\"muIncr_logit\"])"
   ]
  },
  {
   "cell_type": "code",
   "execution_count": 33,
   "metadata": {
    "ExecuteTime": {
     "end_time": "2020-09-04T01:36:13.729976Z",
     "start_time": "2020-09-04T01:36:13.726798Z"
    }
   },
   "outputs": [
    {
     "data": {
      "text/plain": [
       "3.070365520307405"
      ]
     },
     "execution_count": 33,
     "metadata": {},
     "output_type": "execute_result"
    }
   ],
   "source": [
    "softplus(params[\"epsilon_sp\"])"
   ]
  },
  {
   "cell_type": "code",
   "execution_count": 34,
   "metadata": {},
   "outputs": [
    {
     "name": "stdout",
     "output_type": "stream",
     "text": [
      "\n",
      ">>>>>>>>>>>>\n",
      "Starting Iteration mu= 0.502\n",
      "Starting Iteration epsilon= 3.07\n",
      "Running NewMatrix Jar!\n",
      " Single-Reference Blocks = 1\n",
      "\n",
      " Multi-Reference Blocks = 3548\n",
      "NewMatrix Iterateblocks Total Time = 1.5806242153048515\n",
      "\n",
      "\n",
      ">>>>>>>>>>>>\n",
      "Starting Iteration mu= 0.6009\n",
      "Starting Iteration epsilon= 3.07\n",
      "Running NewMatrix Jar!\n",
      " Single-Reference Blocks = 1\n",
      "\n",
      " Multi-Reference Blocks = 2613\n",
      "NewMatrix Iterateblocks Total Time = 1.501188911497593\n",
      "\n",
      "\n",
      ">>>>>>>>>>>>\n",
      "Starting Iteration mu= 0.6998\n",
      "Starting Iteration epsilon= 3.07\n",
      "Running NewMatrix Jar!\n",
      " Single-Reference Blocks = 1\n",
      "\n",
      " Multi-Reference Blocks = 1613\n",
      "NewMatrix Iterateblocks Total Time = 1.051655380986631\n",
      "\n",
      "\n",
      ">>>>>>>>>>>>\n",
      "Starting Iteration mu= 0.7987\n",
      "Starting Iteration epsilon= 3.07\n",
      "Running NewMatrix Jar!\n",
      " Single-Reference Blocks = 1\n",
      "\n",
      " Multi-Reference Blocks = 809\n",
      "NewMatrix Iterateblocks Total Time = 0.7950020087882876\n",
      "\n",
      "\n",
      ">>>>>>>>>>>>\n",
      "Starting Iteration mu= 0.8976\n",
      "Starting Iteration epsilon= 3.07\n",
      "Running NewMatrix Jar!\n",
      " Single-Reference Blocks = 1\n",
      "\n",
      " Multi-Reference Blocks = 299\n",
      "NewMatrix Iterateblocks Total Time = 0.4199888575822115\n",
      "\n",
      "\n",
      ">>>>>>>>>>>>\n",
      "Starting Iteration mu= 0.9964999999999999\n",
      "Starting Iteration epsilon= 3.07\n",
      "Running NewMatrix Jar!\n",
      " Single-Reference Blocks = 1\n",
      "\n",
      " Multi-Reference Blocks = 94\n",
      "NewMatrix Iterateblocks Total Time = 0.2805893635377288\n",
      "\n",
      "Precision = TP / (TP + FP) ......................... = 0.98940197\n",
      "Recall = TP / (TP + FN) ............................ = 0.85648755\n",
      "F-Measure .......................................... = 0.91815947\n"
     ]
    },
    {
     "data": {
      "text/plain": [
       "0.91815947"
      ]
     },
     "execution_count": 34,
     "metadata": {},
     "output_type": "execute_result"
    }
   ],
   "source": [
    "entropy_F1(mu=0.502,\n",
    "           muIncr=0.0989,\n",
    "           beta=12,\n",
    "           sigma=53,\n",
    "           epsilon=3.07,\n",
    "           epsilonIterate=0)"
   ]
  }
 ],
 "metadata": {
  "kernelspec": {
   "display_name": "Python 3",
   "language": "python",
   "name": "python3"
  },
  "language_info": {
   "codemirror_mode": {
    "name": "ipython",
    "version": 3
   },
   "file_extension": ".py",
   "mimetype": "text/x-python",
   "name": "python",
   "nbconvert_exporter": "python",
   "pygments_lexer": "ipython3",
   "version": "3.7.4"
  },
  "toc": {
   "base_numbering": 1,
   "nav_menu": {},
   "number_sections": true,
   "sideBar": true,
   "skip_h1_title": false,
   "title_cell": "Table of Contents",
   "title_sidebar": "Contents",
   "toc_cell": false,
   "toc_position": {},
   "toc_section_display": true,
   "toc_window_display": false
  },
  "varInspector": {
   "cols": {
    "lenName": 16,
    "lenType": 16,
    "lenVar": 40
   },
   "kernels_config": {
    "python": {
     "delete_cmd_postfix": "",
     "delete_cmd_prefix": "del ",
     "library": "var_list.py",
     "varRefreshCmd": "print(var_dic_list())"
    },
    "r": {
     "delete_cmd_postfix": ") ",
     "delete_cmd_prefix": "rm(",
     "library": "var_list.r",
     "varRefreshCmd": "cat(var_dic_list()) "
    }
   },
   "types_to_exclude": [
    "module",
    "function",
    "builtin_function_or_method",
    "instance",
    "_Feature"
   ],
   "window_display": false
  }
 },
 "nbformat": 4,
 "nbformat_minor": 2
}
