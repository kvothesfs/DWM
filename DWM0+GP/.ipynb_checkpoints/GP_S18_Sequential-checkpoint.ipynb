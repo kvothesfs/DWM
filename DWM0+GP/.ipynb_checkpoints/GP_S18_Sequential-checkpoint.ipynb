{
 "cells": [
  {
   "cell_type": "code",
   "execution_count": 1,
   "metadata": {
    "ExecuteTime": {
     "end_time": "2020-09-03T21:59:20.041891Z",
     "start_time": "2020-09-03T21:59:10.621897Z"
    }
   },
   "outputs": [
    {
     "name": "stdout",
     "output_type": "stream",
     "text": [
      "Tokenizing References\n",
      "Total References= 10000\n",
      "Total Tokens Found = 130023\n",
      "Total Tokens Output = 127367\n",
      "Dictionary Load = 67077\n",
      "<class 'dict'>\n",
      "Global Replace Cycle\n",
      "Total References= 10000\n",
      "Total Tokens= 127367\n",
      "Unique Tokens= 20063\n",
      "Minimum Frequency of Standard Token =  5\n",
      "Minimum Length of Standard Token =  3\n",
      "Maximum Frequency of Error Token =  3\n",
      "References Processed= 10000\n",
      "Sorted Token Size = 20063\n",
      "Clean Token Size = 9114\n",
      "*Stop Replacements here\n",
      "References Processed =  10000\n",
      "Total Replacement Pairs = 3249\n",
      "Tokens Read = 127367\n",
      "Tokens Changed =  3894\n",
      "References Changed = 3382\n"
     ]
    }
   ],
   "source": [
    "import DWM1_Tokenizer\n",
    "import DWM2_Global_Token_Replace_NewDict\n",
    "import DWM3_Entropy_Cluster\n",
    "# Settings for Tokenizer\n",
    "inputSampleName = r'S18'\n",
    "delimiter=','\n",
    "hasHeader = True\n",
    "tokenizerType = 'Splitter'\n",
    "removeDuplicateTokens = True\n",
    "\n",
    "# Setting for global replacement DWM2\n",
    "runReplacement = True\n",
    "minFreqStdToken = 5\n",
    "minLenStdToken = 3\n",
    "maxFreqErrToken = 3\n",
    "\n",
    "# Cluster Settings\n",
    "\n",
    "\n",
    "DWM1_Tokenizer.tokenizeCycle(inputSampleName, delimiter, hasHeader, removeDuplicateTokens, tokenizerType)\n",
    "prefixString = inputSampleName +','+tokenizerType+','+str(removeDuplicateTokens)\n",
    "fileToCluster = inputSampleName + '-Tokenized.txt'\n",
    "if runReplacement:\n",
    "    DWM2_Global_Token_Replace_NewDict.globalReplace(inputSampleName, minFreqStdToken, minLenStdToken, maxFreqErrToken)\n",
    "    fileToCluster = inputSampleName + '-TokenReplace.txt'\n",
    "    prefixString = prefixString+','+str(minFreqStdToken)+','+str(minLenStdToken)+','+str(maxFreqErrToken)\n",
    "else:\n",
    "    prefixString = prefixString+',0,0,0'\n",
    "\n",
    "# Cluster fixed settings\n",
    "epsilonIterate = 0.0\n",
    "runClusterMetrics = False\n",
    "runFinalMetrics = True\n",
    "createFinalJoin = False"
   ]
  },
  {
   "cell_type": "code",
   "execution_count": 3,
   "metadata": {},
   "outputs": [],
   "source": [
    "status=\"done\""
   ]
  },
  {
   "cell_type": "code",
   "execution_count": 4,
   "metadata": {},
   "outputs": [
    {
     "name": "stdout",
     "output_type": "stream",
     "text": [
      "done\n"
     ]
    }
   ],
   "source": [
    "print(status)"
   ]
  },
  {
   "cell_type": "code",
   "execution_count": 14,
   "metadata": {
    "ExecuteTime": {
     "end_time": "2020-09-03T15:11:39.765508Z",
     "start_time": "2020-09-03T15:03:19.495876Z"
    },
    "scrolled": false
   },
   "outputs": [],
   "source": [
    "# # Cluster Robot Settings\n",
    "# muStart = 0.60\n",
    "# muEnd = 0.60\n",
    "# muIncr = 0.05\n",
    "# betaStart = 14\n",
    "# betaEnd = 14\n",
    "# betaIncr = 1\n",
    "# sigmaStart = 145\n",
    "# sigmaEnd = 145\n",
    "# sigmaIncr = 1\n",
    "# epsilonStart = 35\n",
    "# epsilonEnd = 35\n",
    "# epsilonIncr = 1\n",
    "# mu = muStart\n",
    "# while mu <= muEnd:\n",
    "#     beta = betaStart\n",
    "#     while beta <= betaEnd:\n",
    "#         sigma = sigmaStart\n",
    "#         while sigma <= sigmaEnd:\n",
    "#             epsilon = epsilonStart\n",
    "#             while epsilon <= epsilonEnd:\n",
    "#                 suffixString =','+str(epsilon)+','+str(epsilonIterate)\n",
    "#                 resultsList = DWM3_Entropy_Cluster.driver(fileToCluster, beta, sigma, mu, muIncr,epsilon,  \\\n",
    "#                                                      epsilonIterate,runClusterMetrics, runFinalMetrics, createFinalJoin, hasHeader)\n",
    "#                 seg0a = ','+str(resultsList[0])+','+str(resultsList[1])+','+str(resultsList[2])+','+str(resultsList[3])\n",
    "#                 seg0b =','+str(resultsList[4])+','+str(resultsList[5])+','+str(resultsList[6])\n",
    "#                 seg1 = ','+str(beta)+','+str(sigma)+','+str(mu)+ ',' +str(muIncr)\n",
    "#                 seg2 = ','+str(resultsList[7])+','+str(resultsList[8])+','+str(resultsList[9])\n",
    "#                 outString = prefixString+seg0a+seg0b+suffixString+seg1+seg2+'\\n'\n",
    "#                 resultsFile = open('RobotResults.txt','a+')\n",
    "#                 resultsFile.write(outString)\n",
    "#                 resultsFile.close()\n",
    "#                 epsilon = epsilon + epsilonIncr\n",
    "#             sigma = sigma + sigmaIncr\n",
    "#         beta = beta + betaIncr\n",
    "#     mu = mu + muIncr\n",
    "\n",
    "\n",
    " "
   ]
  },
  {
   "cell_type": "markdown",
   "metadata": {
    "ExecuteTime": {
     "end_time": "2020-09-03T16:36:26.229783Z",
     "start_time": "2020-09-03T16:36:26.227755Z"
    }
   },
   "source": [
    "## Bayesian Optimization of Hyperparameters"
   ]
  },
  {
   "cell_type": "code",
   "execution_count": 5,
   "metadata": {},
   "outputs": [],
   "source": [
    "import numpy as np"
   ]
  },
  {
   "cell_type": "markdown",
   "metadata": {
    "ExecuteTime": {
     "end_time": "2020-09-03T16:36:47.947518Z",
     "start_time": "2020-09-03T16:36:47.944251Z"
    }
   },
   "source": [
    "Create a function of the parameters that returns the F score"
   ]
  },
  {
   "cell_type": "code",
   "execution_count": 6,
   "metadata": {
    "ExecuteTime": {
     "end_time": "2020-09-03T21:59:42.561300Z",
     "start_time": "2020-09-03T21:59:42.557193Z"
    }
   },
   "outputs": [],
   "source": [
    "def entropy_F1(beta=14,sigma=145,mu=0.6,muIncr=0.05,epsilon=35,epsilonIterate=0):\n",
    "    resultsList = DWM3_Entropy_Cluster.driver(fileToCluster, \n",
    "                                  beta, \n",
    "                                  sigma, \n",
    "                                  mu, \n",
    "                                  muIncr,\n",
    "                                  epsilon,\n",
    "                                  epsilonIterate,\n",
    "                                  runClusterMetrics, \n",
    "                                  runFinalMetrics, \n",
    "                                  createFinalJoin, \n",
    "                                  hasHeader)\n",
    "    return resultsList[9]"
   ]
  },
  {
   "cell_type": "code",
   "execution_count": 7,
   "metadata": {
    "ExecuteTime": {
     "end_time": "2020-09-03T22:06:32.164588Z",
     "start_time": "2020-09-03T21:59:43.696518Z"
    }
   },
   "outputs": [
    {
     "name": "stdout",
     "output_type": "stream",
     "text": [
      "\n",
      ">>>>>>>>>>>>\n",
      "Starting Iteration mu= 0.5\n",
      "Starting Iteration epsilon= 31.8\n",
      "Running NewMatrix Jar!\n",
      " Single-Reference Blocks = 1\n",
      "\n",
      " Multi-Reference Blocks = 9984\n",
      "NewMatrix Iterateblocks Total Time = 11.742695693857968\n",
      "\n",
      "\n",
      ">>>>>>>>>>>>\n",
      "Starting Iteration mu= 0.55\n",
      "Starting Iteration epsilon= 31.8\n",
      "Running NewMatrix Jar!\n",
      " Single-Reference Blocks = 1\n",
      "\n",
      " Multi-Reference Blocks = 9353\n",
      "NewMatrix Iterateblocks Total Time = 11.901141026057303\n",
      "\n",
      "\n",
      ">>>>>>>>>>>>\n",
      "Starting Iteration mu= 0.6000000000000001\n",
      "Starting Iteration epsilon= 31.8\n",
      "Running NewMatrix Jar!\n",
      " Single-Reference Blocks = 1\n",
      "\n",
      " Multi-Reference Blocks = 8135\n",
      "NewMatrix Iterateblocks Total Time = 9.3284813715145\n",
      "\n",
      "\n",
      ">>>>>>>>>>>>\n",
      "Starting Iteration mu= 0.6500000000000001\n",
      "Starting Iteration epsilon= 31.8\n",
      "Running NewMatrix Jar!\n",
      " Single-Reference Blocks = 1\n",
      "\n",
      " Multi-Reference Blocks = 5238\n",
      "NewMatrix Iterateblocks Total Time = 5.954884103499353\n",
      "\n",
      "\n",
      ">>>>>>>>>>>>\n",
      "Starting Iteration mu= 0.7000000000000002\n",
      "Starting Iteration epsilon= 31.8\n",
      "Running NewMatrix Jar!\n",
      " Single-Reference Blocks = 1\n",
      "\n",
      " Multi-Reference Blocks = 2510\n",
      "NewMatrix Iterateblocks Total Time = 3.3565556295216084\n",
      "\n",
      "\n",
      ">>>>>>>>>>>>\n",
      "Starting Iteration mu= 0.7500000000000002\n",
      "Starting Iteration epsilon= 31.8\n",
      "Running NewMatrix Jar!\n",
      " Single-Reference Blocks = 1\n",
      "\n",
      " Multi-Reference Blocks = 794\n",
      "NewMatrix Iterateblocks Total Time = 1.6015455927699804\n",
      "\n",
      "Precision = TP / (TP + FP) ......................... = 0.69951809\n",
      "Recall = TP / (TP + FN) ............................ = 0.75136425\n",
      "F-Measure .......................................... = 0.72451483\n"
     ]
    },
    {
     "data": {
      "text/plain": [
       "0.72451483"
      ]
     },
     "execution_count": 7,
     "metadata": {},
     "output_type": "execute_result"
    }
   ],
   "source": [
    "entropy_F1(mu=0.5,muIncr=0.05,beta=33,sigma=449,epsilon=31.8,epsilonIterate=0)"
   ]
  },
  {
   "cell_type": "markdown",
   "metadata": {},
   "source": [
    "Create functions for variable transformation."
   ]
  },
  {
   "cell_type": "code",
   "execution_count": 8,
   "metadata": {
    "ExecuteTime": {
     "end_time": "2020-09-03T22:08:18.856511Z",
     "start_time": "2020-09-03T22:08:18.853611Z"
    }
   },
   "outputs": [],
   "source": [
    "#Softplus to transform real domain into positive\n",
    "def softplus(x):\n",
    "    return np.log(1+np.exp(x))\n",
    "\n",
    "def inv_softplus(x):\n",
    "    return np.log(np.exp(x)-1)"
   ]
  },
  {
   "cell_type": "code",
   "execution_count": 9,
   "metadata": {
    "ExecuteTime": {
     "end_time": "2020-09-03T22:08:27.349548Z",
     "start_time": "2020-09-03T22:08:27.345752Z"
    }
   },
   "outputs": [
    {
     "data": {
      "text/plain": [
       "0.541324854612918"
      ]
     },
     "execution_count": 9,
     "metadata": {},
     "output_type": "execute_result"
    }
   ],
   "source": [
    "inv_softplus(1)"
   ]
  },
  {
   "cell_type": "code",
   "execution_count": 10,
   "metadata": {
    "ExecuteTime": {
     "end_time": "2020-09-03T22:11:24.939913Z",
     "start_time": "2020-09-03T22:11:24.936639Z"
    }
   },
   "outputs": [],
   "source": [
    "#Logit to transform real domain into 0-1\n",
    "def logit(x):    \n",
    "    return np.log(x+1e-54)-np.log(1-x+1e-54)\n",
    "\n",
    "def inv_logit(x):\n",
    "    res=np.exp(x)/(np.exp(x)+1)-2*1e-54\n",
    "    if res<1e-54:\n",
    "        res=0\n",
    "    return res"
   ]
  },
  {
   "cell_type": "markdown",
   "metadata": {},
   "source": [
    "Import BO library:"
   ]
  },
  {
   "cell_type": "code",
   "execution_count": 11,
   "metadata": {
    "ExecuteTime": {
     "end_time": "2020-09-03T22:08:30.622144Z",
     "start_time": "2020-09-03T22:08:30.226842Z"
    }
   },
   "outputs": [],
   "source": [
    "from bayes_opt import BayesianOptimization"
   ]
  },
  {
   "cell_type": "markdown",
   "metadata": {
    "ExecuteTime": {
     "end_time": "2020-09-03T18:14:39.927785Z",
     "start_time": "2020-09-03T18:14:39.924909Z"
    }
   },
   "source": [
    "Create dictionary bounds for the parameters:"
   ]
  },
  {
   "cell_type": "code",
   "execution_count": 12,
   "metadata": {},
   "outputs": [],
   "source": [
    "import os, sys"
   ]
  },
  {
   "cell_type": "code",
   "execution_count": 13,
   "metadata": {},
   "outputs": [],
   "source": [
    "class HiddenPrints:\n",
    "    def __enter__(self):\n",
    "        self._original_stdout = sys.stdout\n",
    "        sys.stdout = open(os.devnull, 'w')\n",
    "\n",
    "    def __exit__(self, exc_type, exc_val, exc_tb):\n",
    "        sys.stdout.close()\n",
    "        sys.stdout = self._original_stdout"
   ]
  },
  {
   "cell_type": "code",
   "execution_count": 14,
   "metadata": {},
   "outputs": [
    {
     "name": "stdout",
     "output_type": "stream",
     "text": [
      "This will be printed as before\n"
     ]
    }
   ],
   "source": [
    "with HiddenPrints():\n",
    "    print(\"This will not be printed\")\n",
    "\n",
    "print(\"This will be printed as before\")"
   ]
  },
  {
   "cell_type": "code",
   "execution_count": 15,
   "metadata": {
    "ExecuteTime": {
     "end_time": "2020-09-03T22:11:53.005154Z",
     "start_time": "2020-09-03T22:11:53.000238Z"
    }
   },
   "outputs": [],
   "source": [
    "#Take parameters in transformed space and return f score in transformed space\n",
    "def entropy_F1_trx(beta_sp,sigma_sp,mu_logit,muIncr_logit,epsilon_sp,epsilonIterate_logit=logit(0)):\n",
    "    beta_pos=int(softplus(beta_sp))\n",
    "    sigma_pos=int(softplus(sigma_sp))\n",
    "    mu_01=inv_logit(mu_logit)\n",
    "    muIncr_01=inv_logit(muIncr_logit)\n",
    "    epsilon_pos=softplus(epsilon_sp)\n",
    "    epsilonIterate_01=inv_logit(epsilonIterate_logit)\n",
    "    \n",
    "    print(\"Mu:%.2f|Mu+:%.2f|Beta:%.2f|Sigma:%.2f|Epsilon:%.2f|EpIter:%.2f\" % (mu_01, muIncr_01, beta_pos, sigma_pos, epsilon_pos, epsilonIterate_01))\n",
    "    \n",
    "    with HiddenPrints():\n",
    "        f1=entropy_F1(beta=beta_pos,\n",
    "                      epsilon=epsilon_pos,\n",
    "                      epsilonIterate=epsilonIterate_01,\n",
    "                      muIncr=muIncr_01,\n",
    "                      sigma=sigma_pos,\n",
    "                      mu=mu_01)\n",
    "    \n",
    "    return logit(f1)"
   ]
  },
  {
   "cell_type": "code",
   "execution_count": 16,
   "metadata": {},
   "outputs": [
    {
     "name": "stdout",
     "output_type": "stream",
     "text": [
      "Mu:0.50|Mu+:0.05|Beta:33.00|Sigma:449.00|Epsilon:31.80|EpIter:0.00\n"
     ]
    },
    {
     "data": {
      "text/plain": [
       "0.9669684330973831"
      ]
     },
     "execution_count": 16,
     "metadata": {},
     "output_type": "execute_result"
    }
   ],
   "source": [
    "entropy_F1_trx(beta_sp=inv_softplus(33),\n",
    "               sigma_sp=inv_softplus(449),\n",
    "               mu_logit=logit(0.5),\n",
    "               muIncr_logit=logit(0.05),\n",
    "               epsilon_sp=inv_softplus(31.8))"
   ]
  },
  {
   "cell_type": "code",
   "execution_count": 17,
   "metadata": {},
   "outputs": [],
   "source": [
    "optimizer=None"
   ]
  },
  {
   "cell_type": "code",
   "execution_count": 18,
   "metadata": {
    "ExecuteTime": {
     "end_time": "2020-09-03T22:11:50.787503Z",
     "start_time": "2020-09-03T22:11:50.784060Z"
    }
   },
   "outputs": [],
   "source": [
    "pbounds = {'beta_sp': (inv_softplus(1), inv_softplus(700)), \n",
    "           'sigma_sp': (inv_softplus(1), inv_softplus(700)),\n",
    "           'mu_logit': (logit(0.5), logit(0.99)),\n",
    "           'muIncr_logit': (logit(0.01), logit(0.2)),\n",
    "           'epsilon_sp': (inv_softplus(1), inv_softplus(700))}#,\n",
    "           #'epsilonIterate_logit': (logit(0), logit(0.25))}"
   ]
  },
  {
   "cell_type": "code",
   "execution_count": 19,
   "metadata": {
    "ExecuteTime": {
     "end_time": "2020-09-03T22:11:56.728829Z",
     "start_time": "2020-09-03T22:11:56.725599Z"
    }
   },
   "outputs": [],
   "source": [
    "optimizer = BayesianOptimization(\n",
    "    f=entropy_F1_trx,\n",
    "    pbounds=pbounds,\n",
    "    random_state=1,\n",
    ")"
   ]
  },
  {
   "cell_type": "code",
   "execution_count": 20,
   "metadata": {},
   "outputs": [],
   "source": [
    "optimizer.probe(\n",
    "    params={\"beta_sp\": inv_softplus(33), \n",
    "            \"sigma_sp\": inv_softplus(449),\n",
    "            \"mu_logit\":logit(0.5),\n",
    "            #'epsilonIterate_logit': logit(0),\n",
    "            \"muIncr_logit\":logit(0.05),\n",
    "            \"epsilon_sp\":inv_softplus(31.8)},\n",
    "    lazy=True,\n",
    ")"
   ]
  },
  {
   "cell_type": "code",
   "execution_count": 21,
   "metadata": {
    "ExecuteTime": {
     "end_time": "2020-09-03T22:54:10.009085Z",
     "start_time": "2020-09-03T22:11:58.063246Z"
    }
   },
   "outputs": [
    {
     "name": "stdout",
     "output_type": "stream",
     "text": [
      "|   iter    |  target   |  beta_sp  | epsilo... | muIncr... | mu_logit  | sigma_sp  |\n",
      "-------------------------------------------------------------------------------------\n",
      "Mu:0.50|Mu+:0.05|Beta:33.00|Sigma:449.00|Epsilon:31.80|EpIter:0.00\n",
      "| \u001b[0m 1       \u001b[0m | \u001b[0m 0.967   \u001b[0m | \u001b[0m 33.0    \u001b[0m | \u001b[0m 31.8    \u001b[0m | \u001b[0m-2.944   \u001b[0m | \u001b[0m 0.0     \u001b[0m | \u001b[0m 449.0   \u001b[0m |\n",
      "Mu:0.80|Mu+:0.01|Beta:292.00|Sigma:103.00|Epsilon:504.38|EpIter:0.00\n",
      "| \u001b[0m 2       \u001b[0m | \u001b[0m-0.4701  \u001b[0m | \u001b[0m 292.2   \u001b[0m | \u001b[0m 504.4   \u001b[0m | \u001b[0m-4.595   \u001b[0m | \u001b[0m 1.389   \u001b[0m | \u001b[0m 103.2   \u001b[0m |\n",
      "Mu:0.86|Mu+:0.03|Beta:65.00|Sigma:377.00|Epsilon:130.82|EpIter:0.00\n",
      "| \u001b[0m 3       \u001b[0m | \u001b[0m-0.7706  \u001b[0m | \u001b[0m 65.13   \u001b[0m | \u001b[0m 130.8   \u001b[0m | \u001b[0m-3.486   \u001b[0m | \u001b[0m 1.823   \u001b[0m | \u001b[0m 377.4   \u001b[0m |\n",
      "Mu:0.98|Mu+:0.02|Beta:293.00|Sigma:19.00|Epsilon:479.82|EpIter:0.00\n",
      "| \u001b[0m 4       \u001b[0m | \u001b[0m-1.988   \u001b[0m | \u001b[0m 293.8   \u001b[0m | \u001b[0m 479.8   \u001b[0m | \u001b[0m-3.939   \u001b[0m | \u001b[0m 4.035   \u001b[0m | \u001b[0m 19.7    \u001b[0m |\n",
      "Mu:0.66|Mu+:0.06|Beta:469.00|Sigma:139.00|Epsilon:292.43|EpIter:0.00\n",
      "| \u001b[0m 5       \u001b[0m | \u001b[0m-1.271   \u001b[0m | \u001b[0m 469.5   \u001b[0m | \u001b[0m 292.4   \u001b[0m | \u001b[0m-2.802   \u001b[0m | \u001b[0m 0.6451  \u001b[0m | \u001b[0m 139.1   \u001b[0m |\n",
      "Mu:0.96|Mu+:0.03|Beta:560.00|Sigma:613.00|Epsilon:677.80|EpIter:0.00\n",
      "| \u001b[0m 6       \u001b[0m | \u001b[0m-2.134   \u001b[0m | \u001b[0m 560.6   \u001b[0m | \u001b[0m 677.8   \u001b[0m | \u001b[0m-3.589   \u001b[0m | \u001b[0m 3.181   \u001b[0m | \u001b[0m 613.5   \u001b[0m |\n",
      "Mu:0.69|Mu+:0.01|Beta:626.00|Sigma:614.00|Epsilon:60.03|EpIter:0.00\n",
      "| \u001b[0m 7       \u001b[0m | \u001b[0m 0.2258  \u001b[0m | \u001b[0m 626.3   \u001b[0m | \u001b[0m 60.03   \u001b[0m | \u001b[0m-4.47    \u001b[0m | \u001b[0m 0.7804  \u001b[0m | \u001b[0m 614.8   \u001b[0m |\n",
      "Mu:0.92|Mu+:0.18|Beta:69.00|Sigma:484.00|Epsilon:295.09|EpIter:0.00\n",
      "| \u001b[0m 8       \u001b[0m | \u001b[0m-1.247   \u001b[0m | \u001b[0m 69.33   \u001b[0m | \u001b[0m 295.1   \u001b[0m | \u001b[0m-1.521   \u001b[0m | \u001b[0m 2.45    \u001b[0m | \u001b[0m 484.5   \u001b[0m |\n",
      "Mu:0.52|Mu+:0.13|Beta:221.00|Sigma:525.00|Epsilon:480.72|EpIter:0.00\n",
      "| \u001b[0m 9       \u001b[0m | \u001b[0m-6.022   \u001b[0m | \u001b[0m 221.2   \u001b[0m | \u001b[0m 480.7   \u001b[0m | \u001b[0m-1.917   \u001b[0m | \u001b[0m 0.08404 \u001b[0m | \u001b[0m 525.2   \u001b[0m |\n",
      "Mu:0.97|Mu+:0.02|Beta:692.00|Sigma:72.00|Epsilon:523.85|EpIter:0.00\n",
      "| \u001b[0m 10      \u001b[0m | \u001b[0m-2.301   \u001b[0m | \u001b[0m 692.2   \u001b[0m | \u001b[0m 523.9   \u001b[0m | \u001b[0m-3.695   \u001b[0m | \u001b[0m 3.627   \u001b[0m | \u001b[0m 72.74   \u001b[0m |\n",
      "Mu:0.79|Mu+:0.03|Beta:313.00|Sigma:91.00|Epsilon:636.07|EpIter:0.00\n",
      "| \u001b[0m 11      \u001b[0m | \u001b[0m-0.3258  \u001b[0m | \u001b[0m 313.8   \u001b[0m | \u001b[0m 636.1   \u001b[0m | \u001b[0m-3.653   \u001b[0m | \u001b[0m 1.322   \u001b[0m | \u001b[0m 91.49   \u001b[0m |\n",
      "Mu:0.50|Mu+:0.05|Beta:33.00|Sigma:448.00|Epsilon:32.82|EpIter:0.00\n",
      "| \u001b[0m 12      \u001b[0m | \u001b[0m 0.9492  \u001b[0m | \u001b[0m 33.07   \u001b[0m | \u001b[0m 32.82   \u001b[0m | \u001b[0m-2.942   \u001b[0m | \u001b[0m 0.01951 \u001b[0m | \u001b[0m 448.7   \u001b[0m |\n",
      "Mu:0.50|Mu+:0.05|Beta:32.00|Sigma:450.00|Epsilon:30.55|EpIter:0.00\n",
      "| \u001b[95m 13      \u001b[0m | \u001b[95m 0.9705  \u001b[0m | \u001b[95m 32.42   \u001b[0m | \u001b[95m 30.55   \u001b[0m | \u001b[95m-2.933   \u001b[0m | \u001b[95m 0.0     \u001b[0m | \u001b[95m 450.1   \u001b[0m |\n",
      "Mu:0.56|Mu+:0.06|Beta:47.00|Sigma:458.00|Epsilon:14.86|EpIter:0.00\n",
      "| \u001b[0m 14      \u001b[0m | \u001b[0m-0.3935  \u001b[0m | \u001b[0m 47.8    \u001b[0m | \u001b[0m 14.86   \u001b[0m | \u001b[0m-2.756   \u001b[0m | \u001b[0m 0.2321  \u001b[0m | \u001b[0m 458.8   \u001b[0m |\n",
      "Mu:0.50|Mu+:0.05|Beta:31.00|Sigma:448.00|Epsilon:32.64|EpIter:0.00\n",
      "| \u001b[0m 15      \u001b[0m | \u001b[0m 0.9355  \u001b[0m | \u001b[0m 32.0    \u001b[0m | \u001b[0m 32.64   \u001b[0m | \u001b[0m-2.95    \u001b[0m | \u001b[0m 0.0     \u001b[0m | \u001b[0m 448.7   \u001b[0m |\n",
      "Mu:0.50|Mu+:0.05|Beta:31.00|Sigma:448.00|Epsilon:32.68|EpIter:0.00\n",
      "| \u001b[0m 16      \u001b[0m | \u001b[0m 0.9359  \u001b[0m | \u001b[0m 31.95   \u001b[0m | \u001b[0m 32.68   \u001b[0m | \u001b[0m-2.95    \u001b[0m | \u001b[0m 0.0     \u001b[0m | \u001b[0m 448.7   \u001b[0m |\n",
      "Mu:0.76|Mu+:0.01|Beta:34.00|Sigma:461.00|Epsilon:31.00|EpIter:0.00\n",
      "| \u001b[0m 17      \u001b[0m | \u001b[0m-0.1031  \u001b[0m | \u001b[0m 34.81   \u001b[0m | \u001b[0m 31.0    \u001b[0m | \u001b[0m-4.437   \u001b[0m | \u001b[0m 1.127   \u001b[0m | \u001b[0m 461.5   \u001b[0m |\n",
      "Mu:0.88|Mu+:0.06|Beta:8.00|Sigma:446.00|Epsilon:26.47|EpIter:0.00\n",
      "| \u001b[0m 18      \u001b[0m | \u001b[0m-1.122   \u001b[0m | \u001b[0m 8.473   \u001b[0m | \u001b[0m 26.47   \u001b[0m | \u001b[0m-2.801   \u001b[0m | \u001b[0m 1.948   \u001b[0m | \u001b[0m 446.3   \u001b[0m |\n",
      "Mu:0.93|Mu+:0.02|Beta:16.00|Sigma:442.00|Epsilon:37.17|EpIter:0.00\n",
      "| \u001b[0m 19      \u001b[0m | \u001b[0m-1.418   \u001b[0m | \u001b[0m 16.12   \u001b[0m | \u001b[0m 37.17   \u001b[0m | \u001b[0m-3.939   \u001b[0m | \u001b[0m 2.629   \u001b[0m | \u001b[0m 442.8   \u001b[0m |\n",
      "Mu:0.98|Mu+:0.01|Beta:26.00|Sigma:460.00|Epsilon:9.99|EpIter:0.00\n",
      "| \u001b[0m 20      \u001b[0m | \u001b[0m-2.842   \u001b[0m | \u001b[0m 26.21   \u001b[0m | \u001b[0m 9.991   \u001b[0m | \u001b[0m-4.575   \u001b[0m | \u001b[0m 3.913   \u001b[0m | \u001b[0m 460.5   \u001b[0m |\n",
      "Mu:0.64|Mu+:0.10|Beta:279.00|Sigma:99.00|Epsilon:508.35|EpIter:0.00\n",
      "| \u001b[0m 21      \u001b[0m | \u001b[0m-3.8     \u001b[0m | \u001b[0m 279.3   \u001b[0m | \u001b[0m 508.4   \u001b[0m | \u001b[0m-2.227   \u001b[0m | \u001b[0m 0.5748  \u001b[0m | \u001b[0m 99.54   \u001b[0m |\n",
      "Mu:0.91|Mu+:0.15|Beta:313.00|Sigma:97.00|Epsilon:631.24|EpIter:0.00\n",
      "| \u001b[0m 22      \u001b[0m | \u001b[0m-0.9816  \u001b[0m | \u001b[0m 314.0   \u001b[0m | \u001b[0m 631.2   \u001b[0m | \u001b[0m-1.744   \u001b[0m | \u001b[0m 2.276   \u001b[0m | \u001b[0m 97.35   \u001b[0m |\n",
      "Mu:0.89|Mu+:0.05|Beta:318.00|Sigma:91.00|Epsilon:634.83|EpIter:0.00\n",
      "| \u001b[0m 23      \u001b[0m | \u001b[0m-0.8615  \u001b[0m | \u001b[0m 318.8   \u001b[0m | \u001b[0m 634.8   \u001b[0m | \u001b[0m-2.929   \u001b[0m | \u001b[0m 2.109   \u001b[0m | \u001b[0m 91.22   \u001b[0m |\n",
      "Mu:0.71|Mu+:0.13|Beta:38.00|Sigma:453.00|Epsilon:27.51|EpIter:0.00\n",
      "| \u001b[0m 24      \u001b[0m | \u001b[0m 0.193   \u001b[0m | \u001b[0m 38.59   \u001b[0m | \u001b[0m 27.51   \u001b[0m | \u001b[0m-1.905   \u001b[0m | \u001b[0m 0.8997  \u001b[0m | \u001b[0m 453.5   \u001b[0m |\n",
      "Mu:0.98|Mu+:0.06|Beta:628.00|Sigma:620.00|Epsilon:66.20|EpIter:0.00\n",
      "| \u001b[0m 25      \u001b[0m | \u001b[0m-2.971   \u001b[0m | \u001b[0m 629.0   \u001b[0m | \u001b[0m 66.2    \u001b[0m | \u001b[0m-2.74    \u001b[0m | \u001b[0m 4.069   \u001b[0m | \u001b[0m 620.5   \u001b[0m |\n",
      "Mu:0.97|Mu+:0.10|Beta:31.00|Sigma:458.00|Epsilon:41.23|EpIter:0.00\n",
      "| \u001b[0m 26      \u001b[0m | \u001b[0m-2.64    \u001b[0m | \u001b[0m 31.89   \u001b[0m | \u001b[0m 41.23   \u001b[0m | \u001b[0m-2.149   \u001b[0m | \u001b[0m 3.619   \u001b[0m | \u001b[0m 458.2   \u001b[0m |\n",
      "Mu:0.95|Mu+:0.02|Beta:37.00|Sigma:458.00|Epsilon:26.03|EpIter:0.00\n",
      "| \u001b[0m 27      \u001b[0m | \u001b[0m-1.862   \u001b[0m | \u001b[0m 37.93   \u001b[0m | \u001b[0m 26.03   \u001b[0m | \u001b[0m-3.96    \u001b[0m | \u001b[0m 2.97    \u001b[0m | \u001b[0m 458.2   \u001b[0m |\n",
      "Mu:0.62|Mu+:0.02|Beta:298.00|Sigma:117.00|Epsilon:515.75|EpIter:0.00\n",
      "| \u001b[0m 28      \u001b[0m | \u001b[0m-4.54    \u001b[0m | \u001b[0m 298.8   \u001b[0m | \u001b[0m 515.8   \u001b[0m | \u001b[0m-3.933   \u001b[0m | \u001b[0m 0.4989  \u001b[0m | \u001b[0m 117.1   \u001b[0m |\n",
      "Mu:0.85|Mu+:0.04|Beta:328.00|Sigma:92.00|Epsilon:642.14|EpIter:0.00\n",
      "| \u001b[0m 29      \u001b[0m | \u001b[0m-0.6814  \u001b[0m | \u001b[0m 328.4   \u001b[0m | \u001b[0m 642.1   \u001b[0m | \u001b[0m-3.211   \u001b[0m | \u001b[0m 1.716   \u001b[0m | \u001b[0m 92.23   \u001b[0m |\n",
      "Mu:0.66|Mu+:0.09|Beta:33.00|Sigma:447.00|Epsilon:30.91|EpIter:0.00\n",
      "| \u001b[0m 30      \u001b[0m | \u001b[0m 0.7678  \u001b[0m | \u001b[0m 33.87   \u001b[0m | \u001b[0m 30.91   \u001b[0m | \u001b[0m-2.363   \u001b[0m | \u001b[0m 0.6563  \u001b[0m | \u001b[0m 447.2   \u001b[0m |\n",
      "Mu:0.97|Mu+:0.02|Beta:35.00|Sigma:468.00|Epsilon:25.03|EpIter:0.00\n",
      "| \u001b[0m 31      \u001b[0m | \u001b[0m-2.346   \u001b[0m | \u001b[0m 35.01   \u001b[0m | \u001b[0m 25.03   \u001b[0m | \u001b[0m-4.111   \u001b[0m | \u001b[0m 3.317   \u001b[0m | \u001b[0m 468.2   \u001b[0m |\n",
      "Mu:0.75|Mu+:0.07|Beta:333.00|Sigma:94.00|Epsilon:632.19|EpIter:0.00\n",
      "| \u001b[0m 32      \u001b[0m | \u001b[0m 0.0621  \u001b[0m | \u001b[0m 333.5   \u001b[0m | \u001b[0m 632.2   \u001b[0m | \u001b[0m-2.552   \u001b[0m | \u001b[0m 1.105   \u001b[0m | \u001b[0m 94.97   \u001b[0m |\n",
      "Mu:0.75|Mu+:0.01|Beta:31.00|Sigma:455.00|Epsilon:31.28|EpIter:0.00\n",
      "| \u001b[0m 33      \u001b[0m | \u001b[0m-0.09589 \u001b[0m | \u001b[0m 31.46   \u001b[0m | \u001b[0m 31.28   \u001b[0m | \u001b[0m-4.376   \u001b[0m | \u001b[0m 1.124   \u001b[0m | \u001b[0m 455.9   \u001b[0m |\n",
      "Mu:0.80|Mu+:0.06|Beta:20.00|Sigma:446.00|Epsilon:23.58|EpIter:0.00\n",
      "| \u001b[0m 34      \u001b[0m | \u001b[0m-0.5571  \u001b[0m | \u001b[0m 20.95   \u001b[0m | \u001b[0m 23.58   \u001b[0m | \u001b[0m-2.835   \u001b[0m | \u001b[0m 1.406   \u001b[0m | \u001b[0m 446.2   \u001b[0m |\n",
      "Mu:0.80|Mu+:0.13|Beta:327.00|Sigma:94.00|Epsilon:641.93|EpIter:0.00\n",
      "| \u001b[0m 35      \u001b[0m | \u001b[0m-0.476   \u001b[0m | \u001b[0m 327.2   \u001b[0m | \u001b[0m 641.9   \u001b[0m | \u001b[0m-1.926   \u001b[0m | \u001b[0m 1.411   \u001b[0m | \u001b[0m 94.67   \u001b[0m |\n",
      "Mu:0.51|Mu+:0.02|Beta:621.00|Sigma:615.00|Epsilon:46.72|EpIter:0.00\n",
      "| \u001b[0m 36      \u001b[0m | \u001b[0m 0.5646  \u001b[0m | \u001b[0m 621.3   \u001b[0m | \u001b[0m 46.72   \u001b[0m | \u001b[0m-3.963   \u001b[0m | \u001b[0m 0.03256 \u001b[0m | \u001b[0m 615.1   \u001b[0m |\n",
      "Mu:0.94|Mu+:0.02|Beta:607.00|Sigma:606.00|Epsilon:46.11|EpIter:0.00\n",
      "| \u001b[0m 37      \u001b[0m | \u001b[0m-1.489   \u001b[0m | \u001b[0m 607.9   \u001b[0m | \u001b[0m 46.11   \u001b[0m | \u001b[0m-4.093   \u001b[0m | \u001b[0m 2.684   \u001b[0m | \u001b[0m 606.4   \u001b[0m |\n",
      "Mu:0.78|Mu+:0.07|Beta:39.00|Sigma:447.00|Epsilon:14.74|EpIter:0.00\n",
      "| \u001b[0m 38      \u001b[0m | \u001b[0m-0.5859  \u001b[0m | \u001b[0m 39.85   \u001b[0m | \u001b[0m 14.74   \u001b[0m | \u001b[0m-2.544   \u001b[0m | \u001b[0m 1.268   \u001b[0m | \u001b[0m 447.4   \u001b[0m |\n",
      "Mu:0.96|Mu+:0.02|Beta:617.00|Sigma:626.00|Epsilon:45.79|EpIter:0.00\n"
     ]
    },
    {
     "name": "stdout",
     "output_type": "stream",
     "text": [
      "| \u001b[0m 39      \u001b[0m | \u001b[0m-2.202   \u001b[0m | \u001b[0m 617.0   \u001b[0m | \u001b[0m 45.79   \u001b[0m | \u001b[0m-3.888   \u001b[0m | \u001b[0m 3.239   \u001b[0m | \u001b[0m 626.0   \u001b[0m |\n",
      "Mu:0.85|Mu+:0.08|Beta:334.00|Sigma:89.00|Epsilon:639.36|EpIter:0.00\n",
      "| \u001b[0m 40      \u001b[0m | \u001b[0m-0.6821  \u001b[0m | \u001b[0m 334.0   \u001b[0m | \u001b[0m 639.4   \u001b[0m | \u001b[0m-2.473   \u001b[0m | \u001b[0m 1.72    \u001b[0m | \u001b[0m 89.85   \u001b[0m |\n",
      "Mu:0.96|Mu+:0.02|Beta:35.00|Sigma:454.00|Epsilon:19.68|EpIter:0.00\n",
      "| \u001b[0m 41      \u001b[0m | \u001b[0m-2.289   \u001b[0m | \u001b[0m 35.59   \u001b[0m | \u001b[0m 19.68   \u001b[0m | \u001b[0m-4.119   \u001b[0m | \u001b[0m 3.295   \u001b[0m | \u001b[0m 454.9   \u001b[0m |\n",
      "Mu:0.96|Mu+:0.02|Beta:620.00|Sigma:613.00|Epsilon:51.11|EpIter:0.00\n",
      "| \u001b[0m 42      \u001b[0m | \u001b[0m-2.071   \u001b[0m | \u001b[0m 620.6   \u001b[0m | \u001b[0m 51.11   \u001b[0m | \u001b[0m-3.91    \u001b[0m | \u001b[0m 3.129   \u001b[0m | \u001b[0m 614.0   \u001b[0m |\n",
      "Mu:0.96|Mu+:0.05|Beta:337.00|Sigma:99.00|Epsilon:634.97|EpIter:0.00\n",
      "| \u001b[0m 43      \u001b[0m | \u001b[0m-1.911   \u001b[0m | \u001b[0m 338.0   \u001b[0m | \u001b[0m 635.0   \u001b[0m | \u001b[0m-2.952   \u001b[0m | \u001b[0m 3.151   \u001b[0m | \u001b[0m 99.32   \u001b[0m |\n",
      "Mu:0.53|Mu+:0.07|Beta:632.00|Sigma:603.00|Epsilon:62.99|EpIter:0.00\n",
      "| \u001b[0m 44      \u001b[0m | \u001b[0m 0.2409  \u001b[0m | \u001b[0m 632.1   \u001b[0m | \u001b[0m 62.99   \u001b[0m | \u001b[0m-2.617   \u001b[0m | \u001b[0m 0.1129  \u001b[0m | \u001b[0m 603.2   \u001b[0m |\n",
      "Mu:0.93|Mu+:0.15|Beta:330.00|Sigma:86.00|Epsilon:633.96|EpIter:0.00\n",
      "| \u001b[0m 45      \u001b[0m | \u001b[0m-1.279   \u001b[0m | \u001b[0m 330.1   \u001b[0m | \u001b[0m 634.0   \u001b[0m | \u001b[0m-1.698   \u001b[0m | \u001b[0m 2.653   \u001b[0m | \u001b[0m 86.9    \u001b[0m |\n",
      "Mu:0.99|Mu+:0.02|Beta:17.00|Sigma:460.00|Epsilon:27.76|EpIter:0.00\n",
      "| \u001b[0m 46      \u001b[0m | \u001b[0m-3.245   \u001b[0m | \u001b[0m 17.28   \u001b[0m | \u001b[0m 27.76   \u001b[0m | \u001b[0m-3.829   \u001b[0m | \u001b[0m 4.477   \u001b[0m | \u001b[0m 460.3   \u001b[0m |\n",
      "Mu:0.94|Mu+:0.04|Beta:324.00|Sigma:91.00|Epsilon:638.65|EpIter:0.00\n",
      "| \u001b[0m 47      \u001b[0m | \u001b[0m-1.335   \u001b[0m | \u001b[0m 324.8   \u001b[0m | \u001b[0m 638.6   \u001b[0m | \u001b[0m-3.212   \u001b[0m | \u001b[0m 2.696   \u001b[0m | \u001b[0m 91.99   \u001b[0m |\n",
      "Mu:0.79|Mu+:0.13|Beta:40.00|Sigma:448.00|Epsilon:26.49|EpIter:0.00\n",
      "| \u001b[0m 48      \u001b[0m | \u001b[0m-0.4355  \u001b[0m | \u001b[0m 40.92   \u001b[0m | \u001b[0m 26.49   \u001b[0m | \u001b[0m-1.862   \u001b[0m | \u001b[0m 1.312   \u001b[0m | \u001b[0m 449.0   \u001b[0m |\n",
      "Mu:0.99|Mu+:0.06|Beta:36.00|Sigma:451.00|Epsilon:34.59|EpIter:0.00\n",
      "| \u001b[0m 49      \u001b[0m | \u001b[0m-3.177   \u001b[0m | \u001b[0m 36.5    \u001b[0m | \u001b[0m 34.59   \u001b[0m | \u001b[0m-2.829   \u001b[0m | \u001b[0m 4.386   \u001b[0m | \u001b[0m 451.5   \u001b[0m |\n",
      "Mu:0.70|Mu+:0.02|Beta:622.00|Sigma:609.00|Epsilon:61.51|EpIter:0.00\n",
      "| \u001b[0m 50      \u001b[0m | \u001b[0m 0.4492  \u001b[0m | \u001b[0m 622.9   \u001b[0m | \u001b[0m 61.51   \u001b[0m | \u001b[0m-4.028   \u001b[0m | \u001b[0m 0.8687  \u001b[0m | \u001b[0m 609.3   \u001b[0m |\n",
      "Mu:0.84|Mu+:0.08|Beta:29.00|Sigma:445.00|Epsilon:21.44|EpIter:0.00\n",
      "| \u001b[0m 51      \u001b[0m | \u001b[0m-0.6763  \u001b[0m | \u001b[0m 29.99   \u001b[0m | \u001b[0m 21.44   \u001b[0m | \u001b[0m-2.401   \u001b[0m | \u001b[0m 1.626   \u001b[0m | \u001b[0m 445.6   \u001b[0m |\n",
      "Mu:0.98|Mu+:0.03|Beta:328.00|Sigma:92.00|Epsilon:631.54|EpIter:0.00\n",
      "| \u001b[0m 52      \u001b[0m | \u001b[0m-2.616   \u001b[0m | \u001b[0m 328.2   \u001b[0m | \u001b[0m 631.5   \u001b[0m | \u001b[0m-3.432   \u001b[0m | \u001b[0m 3.97    \u001b[0m | \u001b[0m 92.79   \u001b[0m |\n",
      "Mu:0.88|Mu+:0.13|Beta:618.00|Sigma:610.00|Epsilon:62.20|EpIter:0.00\n",
      "| \u001b[0m 53      \u001b[0m | \u001b[0m-0.9154  \u001b[0m | \u001b[0m 618.2   \u001b[0m | \u001b[0m 62.2    \u001b[0m | \u001b[0m-1.931   \u001b[0m | \u001b[0m 2.005   \u001b[0m | \u001b[0m 610.1   \u001b[0m |\n",
      "Mu:0.84|Mu+:0.04|Beta:323.00|Sigma:86.00|Epsilon:643.26|EpIter:0.00\n",
      "| \u001b[0m 54      \u001b[0m | \u001b[0m-0.6497  \u001b[0m | \u001b[0m 323.5   \u001b[0m | \u001b[0m 643.3   \u001b[0m | \u001b[0m-3.232   \u001b[0m | \u001b[0m 1.661   \u001b[0m | \u001b[0m 86.24   \u001b[0m |\n",
      "Mu:0.96|Mu+:0.07|Beta:628.00|Sigma:596.00|Epsilon:62.22|EpIter:0.00\n",
      "| \u001b[0m 55      \u001b[0m | \u001b[0m-2.167   \u001b[0m | \u001b[0m 628.1   \u001b[0m | \u001b[0m 62.22   \u001b[0m | \u001b[0m-2.609   \u001b[0m | \u001b[0m 3.189   \u001b[0m | \u001b[0m 596.1   \u001b[0m |\n",
      "Mu:0.78|Mu+:0.05|Beta:628.00|Sigma:617.00|Epsilon:56.75|EpIter:0.00\n",
      "| \u001b[0m 56      \u001b[0m | \u001b[0m-0.1503  \u001b[0m | \u001b[0m 628.4   \u001b[0m | \u001b[0m 56.75   \u001b[0m | \u001b[0m-2.906   \u001b[0m | \u001b[0m 1.242   \u001b[0m | \u001b[0m 617.2   \u001b[0m |\n",
      "Mu:0.81|Mu+:0.08|Beta:46.00|Sigma:455.00|Epsilon:15.13|EpIter:0.00\n",
      "| \u001b[0m 57      \u001b[0m | \u001b[0m-0.6265  \u001b[0m | \u001b[0m 46.92   \u001b[0m | \u001b[0m 15.13   \u001b[0m | \u001b[0m-2.41    \u001b[0m | \u001b[0m 1.448   \u001b[0m | \u001b[0m 455.1   \u001b[0m |\n",
      "Mu:0.91|Mu+:0.01|Beta:47.00|Sigma:445.00|Epsilon:24.58|EpIter:0.00\n",
      "| \u001b[0m 58      \u001b[0m | \u001b[0m-1.094   \u001b[0m | \u001b[0m 47.92   \u001b[0m | \u001b[0m 24.58   \u001b[0m | \u001b[0m-4.199   \u001b[0m | \u001b[0m 2.295   \u001b[0m | \u001b[0m 446.0   \u001b[0m |\n",
      "Mu:0.80|Mu+:0.07|Beta:631.00|Sigma:610.00|Epsilon:49.15|EpIter:0.00\n",
      "| \u001b[0m 59      \u001b[0m | \u001b[0m-0.43    \u001b[0m | \u001b[0m 631.2   \u001b[0m | \u001b[0m 49.15   \u001b[0m | \u001b[0m-2.622   \u001b[0m | \u001b[0m 1.364   \u001b[0m | \u001b[0m 610.5   \u001b[0m |\n",
      "Mu:0.70|Mu+:0.02|Beta:639.00|Sigma:609.00|Epsilon:46.42|EpIter:0.00\n",
      "| \u001b[0m 60      \u001b[0m | \u001b[0m 0.5073  \u001b[0m | \u001b[0m 639.5   \u001b[0m | \u001b[0m 46.42   \u001b[0m | \u001b[0m-3.724   \u001b[0m | \u001b[0m 0.8632  \u001b[0m | \u001b[0m 609.3   \u001b[0m |\n",
      "Mu:0.96|Mu+:0.02|Beta:616.00|Sigma:614.00|Epsilon:63.61|EpIter:0.00\n",
      "| \u001b[0m 61      \u001b[0m | \u001b[0m-2.272   \u001b[0m | \u001b[0m 616.3   \u001b[0m | \u001b[0m 63.61   \u001b[0m | \u001b[0m-3.831   \u001b[0m | \u001b[0m 3.288   \u001b[0m | \u001b[0m 614.8   \u001b[0m |\n",
      "=====================================================================================\n"
     ]
    }
   ],
   "source": [
    "optimizer.maximize(\n",
    "    init_points=10,\n",
    "    n_iter=50,\n",
    "    acq=\"ucb\",\n",
    "    kappa=0.1,\n",
    "    alpha=1\n",
    ")"
   ]
  },
  {
   "cell_type": "code",
   "execution_count": 24,
   "metadata": {},
   "outputs": [
    {
     "data": {
      "text/plain": [
       "{'target': 0.9704767300378412,\n",
       " 'params': {'beta_sp': 32.41584877444168,\n",
       "  'epsilon_sp': 30.54959002848959,\n",
       "  'muIncr_logit': -2.933495503890507,\n",
       "  'mu_logit': 0.0,\n",
       "  'sigma_sp': 450.07131288871295}}"
      ]
     },
     "execution_count": 24,
     "metadata": {},
     "output_type": "execute_result"
    }
   ],
   "source": [
    "optimizer.max"
   ]
  },
  {
   "cell_type": "code",
   "execution_count": 25,
   "metadata": {
    "ExecuteTime": {
     "end_time": "2020-09-03T22:58:42.653746Z",
     "start_time": "2020-09-03T22:58:42.649916Z"
    }
   },
   "outputs": [
    {
     "data": {
      "text/plain": [
       "0.72521451"
      ]
     },
     "execution_count": 25,
     "metadata": {},
     "output_type": "execute_result"
    }
   ],
   "source": [
    "inv_logit(optimizer.max[\"target\"])"
   ]
  },
  {
   "cell_type": "code",
   "execution_count": 26,
   "metadata": {
    "ExecuteTime": {
     "end_time": "2020-09-03T22:59:56.414823Z",
     "start_time": "2020-09-03T22:59:56.412477Z"
    }
   },
   "outputs": [],
   "source": [
    "params=optimizer.max[\"params\"]"
   ]
  },
  {
   "cell_type": "code",
   "execution_count": null,
   "metadata": {},
   "outputs": [],
   "source": []
  },
  {
   "cell_type": "code",
   "execution_count": 72,
   "metadata": {
    "ExecuteTime": {
     "end_time": "2020-09-03T23:00:39.452694Z",
     "start_time": "2020-09-03T23:00:39.449279Z"
    }
   },
   "outputs": [
    {
     "data": {
      "text/plain": [
       "15.0"
      ]
     },
     "execution_count": 72,
     "metadata": {},
     "output_type": "execute_result"
    }
   ],
   "source": [
    "softplus(params[\"beta_sp\"])"
   ]
  },
  {
   "cell_type": "code",
   "execution_count": 73,
   "metadata": {
    "ExecuteTime": {
     "end_time": "2020-09-03T23:01:09.671719Z",
     "start_time": "2020-09-03T23:01:09.668333Z"
    }
   },
   "outputs": [
    {
     "data": {
      "text/plain": [
       "135.0"
      ]
     },
     "execution_count": 73,
     "metadata": {},
     "output_type": "execute_result"
    }
   ],
   "source": [
    "softplus(params[\"sigma_sp\"])"
   ]
  },
  {
   "cell_type": "code",
   "execution_count": 74,
   "metadata": {
    "ExecuteTime": {
     "end_time": "2020-09-04T01:35:00.233453Z",
     "start_time": "2020-09-04T01:35:00.230360Z"
    }
   },
   "outputs": [
    {
     "data": {
      "text/plain": [
       "0.5"
      ]
     },
     "execution_count": 74,
     "metadata": {},
     "output_type": "execute_result"
    }
   ],
   "source": [
    "inv_logit(params[\"mu_logit\"])"
   ]
  },
  {
   "cell_type": "code",
   "execution_count": 75,
   "metadata": {
    "ExecuteTime": {
     "end_time": "2020-09-04T01:35:28.881809Z",
     "start_time": "2020-09-04T01:35:28.878641Z"
    }
   },
   "outputs": [
    {
     "data": {
      "text/plain": [
       "0.05000000000000002"
      ]
     },
     "execution_count": 75,
     "metadata": {},
     "output_type": "execute_result"
    }
   ],
   "source": [
    "inv_logit(params[\"muIncr_logit\"])"
   ]
  },
  {
   "cell_type": "code",
   "execution_count": 76,
   "metadata": {
    "ExecuteTime": {
     "end_time": "2020-09-04T01:36:46.943597Z",
     "start_time": "2020-09-04T01:36:46.940247Z"
    }
   },
   "outputs": [
    {
     "ename": "KeyError",
     "evalue": "'epsilonIterate_logit'",
     "output_type": "error",
     "traceback": [
      "\u001b[0;31m---------------------------------------------------------------------------\u001b[0m",
      "\u001b[0;31mKeyError\u001b[0m                                  Traceback (most recent call last)",
      "\u001b[0;32m<ipython-input-76-628145548ab6>\u001b[0m in \u001b[0;36m<module>\u001b[0;34m\u001b[0m\n\u001b[0;32m----> 1\u001b[0;31m \u001b[0minv_logit\u001b[0m\u001b[0;34m(\u001b[0m\u001b[0mparams\u001b[0m\u001b[0;34m[\u001b[0m\u001b[0;34m\"epsilonIterate_logit\"\u001b[0m\u001b[0;34m]\u001b[0m\u001b[0;34m)\u001b[0m\u001b[0;34m\u001b[0m\u001b[0;34m\u001b[0m\u001b[0m\n\u001b[0m",
      "\u001b[0;31mKeyError\u001b[0m: 'epsilonIterate_logit'"
     ]
    }
   ],
   "source": [
    "inv_logit(params[\"epsilonIterate_logit\"])"
   ]
  },
  {
   "cell_type": "code",
   "execution_count": 77,
   "metadata": {
    "ExecuteTime": {
     "end_time": "2020-09-04T01:36:13.729976Z",
     "start_time": "2020-09-04T01:36:13.726798Z"
    }
   },
   "outputs": [
    {
     "data": {
      "text/plain": [
       "28.0"
      ]
     },
     "execution_count": 77,
     "metadata": {},
     "output_type": "execute_result"
    }
   ],
   "source": [
    "softplus(params[\"epsilon_sp\"])"
   ]
  },
  {
   "cell_type": "code",
   "execution_count": 36,
   "metadata": {},
   "outputs": [
    {
     "name": "stdout",
     "output_type": "stream",
     "text": [
      "\n",
      ">>>>>>>>>>>>\n",
      "Starting Iteration mu= 0.6\n",
      "Starting Iteration epsilon= 35\n",
      "Running NewMatrix Jar!\n",
      " Single-Reference Blocks = 1\n",
      "\n",
      " Multi-Reference Blocks = 1715\n",
      "NewMatrix Iterateblocks Total Time = 1.3094799518585205\n",
      "\n",
      "Precision = TP / (TP + FP) ......................... = 0.78797468\n",
      "Recall = TP / (TP + FN) ............................ = 0.88801712\n",
      "F-Measure .......................................... = 0.83501006\n"
     ]
    },
    {
     "data": {
      "text/plain": [
       "0.83501006"
      ]
     },
     "execution_count": 36,
     "metadata": {},
     "output_type": "execute_result"
    }
   ],
   "source": [
    "entropy_F1(mu=0.6,\n",
    "           muIncr=0.05,\n",
    "           beta=14,\n",
    "           sigma=145,\n",
    "           epsilon=35,\n",
    "           epsilonIterate=0)"
   ]
  }
 ],
 "metadata": {
  "kernelspec": {
   "display_name": "Python 3",
   "language": "python",
   "name": "python3"
  },
  "language_info": {
   "codemirror_mode": {
    "name": "ipython",
    "version": 3
   },
   "file_extension": ".py",
   "mimetype": "text/x-python",
   "name": "python",
   "nbconvert_exporter": "python",
   "pygments_lexer": "ipython3",
   "version": "3.7.4"
  },
  "toc": {
   "base_numbering": 1,
   "nav_menu": {},
   "number_sections": true,
   "sideBar": true,
   "skip_h1_title": false,
   "title_cell": "Table of Contents",
   "title_sidebar": "Contents",
   "toc_cell": false,
   "toc_position": {},
   "toc_section_display": true,
   "toc_window_display": false
  },
  "varInspector": {
   "cols": {
    "lenName": 16,
    "lenType": 16,
    "lenVar": 40
   },
   "kernels_config": {
    "python": {
     "delete_cmd_postfix": "",
     "delete_cmd_prefix": "del ",
     "library": "var_list.py",
     "varRefreshCmd": "print(var_dic_list())"
    },
    "r": {
     "delete_cmd_postfix": ") ",
     "delete_cmd_prefix": "rm(",
     "library": "var_list.r",
     "varRefreshCmd": "cat(var_dic_list()) "
    }
   },
   "types_to_exclude": [
    "module",
    "function",
    "builtin_function_or_method",
    "instance",
    "_Feature"
   ],
   "window_display": false
  }
 },
 "nbformat": 4,
 "nbformat_minor": 2
}
