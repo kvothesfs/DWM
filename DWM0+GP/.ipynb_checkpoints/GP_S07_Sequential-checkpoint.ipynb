{
 "cells": [
  {
   "cell_type": "code",
   "execution_count": 1,
   "metadata": {
    "ExecuteTime": {
     "end_time": "2020-09-03T21:59:20.041891Z",
     "start_time": "2020-09-03T21:59:10.621897Z"
    }
   },
   "outputs": [
    {
     "name": "stdout",
     "output_type": "stream",
     "text": [
      "Tokenizing References\n",
      "Total References= 19998\n",
      "Total Tokens Found = 292928\n",
      "Total Tokens Output = 292542\n",
      "Dictionary Load = 67077\n",
      "<class 'dict'>\n",
      "Global Replace Cycle\n",
      "Total References= 19998\n",
      "Total Tokens= 292542\n",
      "Unique Tokens= 35953\n",
      "Minimum Frequency of Standard Token =  5\n",
      "Minimum Length of Standard Token =  3\n",
      "Maximum Frequency of Error Token =  3\n",
      "References Processed= 19998\n",
      "Sorted Token Size = 35953\n",
      "Clean Token Size = 14728\n",
      "*Stop Replacements here\n",
      "References Processed =  19998\n",
      "Total Replacement Pairs = 4726\n",
      "Tokens Read = 292542\n",
      "Tokens Changed =  5576\n",
      "References Changed = 4876\n"
     ]
    }
   ],
   "source": [
    "import DWM1_Tokenizer\n",
    "import DWM2_Global_Token_Replace_NewDict\n",
    "import DWM3_Entropy_Cluster\n",
    "# Settings for Tokenizer\n",
    "inputSampleName = r'S6'\n",
    "delimiter=','\n",
    "hasHeader = True\n",
    "tokenizerType = 'Splitter'\n",
    "removeDuplicateTokens = True\n",
    "\n",
    "# Setting for global replacement DWM2\n",
    "runReplacement = True\n",
    "minFreqStdToken = 5\n",
    "minLenStdToken = 3\n",
    "maxFreqErrToken = 3\n",
    "\n",
    "# Cluster Settings\n",
    "\n",
    "\n",
    "DWM1_Tokenizer.tokenizeCycle(inputSampleName, delimiter, hasHeader, removeDuplicateTokens, tokenizerType)\n",
    "prefixString = inputSampleName +','+tokenizerType+','+str(removeDuplicateTokens)\n",
    "fileToCluster = inputSampleName + '-Tokenized.txt'\n",
    "if runReplacement:\n",
    "    DWM2_Global_Token_Replace_NewDict.globalReplace(inputSampleName, minFreqStdToken, minLenStdToken, maxFreqErrToken)\n",
    "    fileToCluster = inputSampleName + '-TokenReplace.txt'\n",
    "    prefixString = prefixString+','+str(minFreqStdToken)+','+str(minLenStdToken)+','+str(maxFreqErrToken)\n",
    "else:\n",
    "    prefixString = prefixString+',0,0,0'\n",
    "\n",
    "# Cluster fixed settings\n",
    "epsilonIterate = 0.0\n",
    "runClusterMetrics = False\n",
    "runFinalMetrics = True\n",
    "createFinalJoin = False"
   ]
  },
  {
   "cell_type": "code",
   "execution_count": 2,
   "metadata": {},
   "outputs": [],
   "source": [
    "status=\"done\""
   ]
  },
  {
   "cell_type": "code",
   "execution_count": 3,
   "metadata": {},
   "outputs": [
    {
     "name": "stdout",
     "output_type": "stream",
     "text": [
      "done\n"
     ]
    }
   ],
   "source": [
    "print(status)"
   ]
  },
  {
   "cell_type": "code",
   "execution_count": 4,
   "metadata": {
    "ExecuteTime": {
     "end_time": "2020-09-03T15:11:39.765508Z",
     "start_time": "2020-09-03T15:03:19.495876Z"
    },
    "scrolled": false
   },
   "outputs": [],
   "source": [
    "# # Cluster Robot Settings\n",
    "# muStart = 0.60\n",
    "# muEnd = 0.60\n",
    "# muIncr = 0.05\n",
    "# betaStart = 14\n",
    "# betaEnd = 14\n",
    "# betaIncr = 1\n",
    "# sigmaStart = 145\n",
    "# sigmaEnd = 145\n",
    "# sigmaIncr = 1\n",
    "# epsilonStart = 35\n",
    "# epsilonEnd = 35\n",
    "# epsilonIncr = 1\n",
    "# mu = muStart\n",
    "# while mu <= muEnd:\n",
    "#     beta = betaStart\n",
    "#     while beta <= betaEnd:\n",
    "#         sigma = sigmaStart\n",
    "#         while sigma <= sigmaEnd:\n",
    "#             epsilon = epsilonStart\n",
    "#             while epsilon <= epsilonEnd:\n",
    "#                 suffixString =','+str(epsilon)+','+str(epsilonIterate)\n",
    "#                 resultsList = DWM3_Entropy_Cluster.driver(fileToCluster, beta, sigma, mu, muIncr,epsilon,  \\\n",
    "#                                                      epsilonIterate,runClusterMetrics, runFinalMetrics, createFinalJoin, hasHeader)\n",
    "#                 seg0a = ','+str(resultsList[0])+','+str(resultsList[1])+','+str(resultsList[2])+','+str(resultsList[3])\n",
    "#                 seg0b =','+str(resultsList[4])+','+str(resultsList[5])+','+str(resultsList[6])\n",
    "#                 seg1 = ','+str(beta)+','+str(sigma)+','+str(mu)+ ',' +str(muIncr)\n",
    "#                 seg2 = ','+str(resultsList[7])+','+str(resultsList[8])+','+str(resultsList[9])\n",
    "#                 outString = prefixString+seg0a+seg0b+suffixString+seg1+seg2+'\\n'\n",
    "#                 resultsFile = open('RobotResults.txt','a+')\n",
    "#                 resultsFile.write(outString)\n",
    "#                 resultsFile.close()\n",
    "#                 epsilon = epsilon + epsilonIncr\n",
    "#             sigma = sigma + sigmaIncr\n",
    "#         beta = beta + betaIncr\n",
    "#     mu = mu + muIncr\n",
    "\n",
    "\n",
    " "
   ]
  },
  {
   "cell_type": "markdown",
   "metadata": {
    "ExecuteTime": {
     "end_time": "2020-09-03T16:36:26.229783Z",
     "start_time": "2020-09-03T16:36:26.227755Z"
    }
   },
   "source": [
    "## Bayesian Optimization of Hyperparameters"
   ]
  },
  {
   "cell_type": "code",
   "execution_count": 3,
   "metadata": {},
   "outputs": [],
   "source": [
    "import numpy as np"
   ]
  },
  {
   "cell_type": "markdown",
   "metadata": {
    "ExecuteTime": {
     "end_time": "2020-09-03T16:36:47.947518Z",
     "start_time": "2020-09-03T16:36:47.944251Z"
    }
   },
   "source": [
    "Create a function of the parameters that returns the F score"
   ]
  },
  {
   "cell_type": "code",
   "execution_count": 2,
   "metadata": {
    "ExecuteTime": {
     "end_time": "2020-09-03T21:59:42.561300Z",
     "start_time": "2020-09-03T21:59:42.557193Z"
    }
   },
   "outputs": [],
   "source": [
    "def entropy_F1(beta=14,sigma=145,mu=0.6,muIncr=0.05,epsilon=35,epsilonIterate=0):\n",
    "    resultsList = DWM3_Entropy_Cluster.driver(fileToCluster, \n",
    "                                  beta, \n",
    "                                  sigma, \n",
    "                                  mu, \n",
    "                                  muIncr,\n",
    "                                  epsilon,\n",
    "                                  epsilonIterate,\n",
    "                                  runClusterMetrics, \n",
    "                                  runFinalMetrics, \n",
    "                                  createFinalJoin, \n",
    "                                  hasHeader)\n",
    "    return resultsList[9]"
   ]
  },
  {
   "cell_type": "code",
   "execution_count": 5,
   "metadata": {
    "ExecuteTime": {
     "end_time": "2020-09-03T22:06:32.164588Z",
     "start_time": "2020-09-03T21:59:43.696518Z"
    }
   },
   "outputs": [
    {
     "name": "stdout",
     "output_type": "stream",
     "text": [
      "\n",
      ">>>>>>>>>>>>\n",
      "Starting Iteration mu= 0.5\n",
      "Starting Iteration epsilon= 15.1\n",
      "Running NewMatrix Jar!\n",
      " Single-Reference Blocks = 1\n",
      "\n",
      " Multi-Reference Blocks = 15783\n",
      "NewMatrix Iterateblocks Total Time = 23.171324141323566\n",
      "\n",
      "\n",
      ">>>>>>>>>>>>\n",
      "Starting Iteration mu= 0.6\n",
      "Starting Iteration epsilon= 15.1\n",
      "Running NewMatrix Jar!\n",
      " Single-Reference Blocks = 1\n",
      "\n",
      " Multi-Reference Blocks = 14255\n",
      "NewMatrix Iterateblocks Total Time = 20.298444946296513\n",
      "\n",
      "\n",
      ">>>>>>>>>>>>\n",
      "Starting Iteration mu= 0.7\n",
      "Starting Iteration epsilon= 15.1\n",
      "Running NewMatrix Jar!\n",
      " Single-Reference Blocks = 1\n",
      "\n",
      " Multi-Reference Blocks = 8993\n",
      "NewMatrix Iterateblocks Total Time = 12.66403644811362\n",
      "\n",
      "\n",
      ">>>>>>>>>>>>\n",
      "Starting Iteration mu= 0.7999999999999999\n",
      "Starting Iteration epsilon= 15.1\n",
      "Running NewMatrix Jar!\n",
      " Single-Reference Blocks = 1\n",
      "\n",
      " Multi-Reference Blocks = 3660\n",
      "NewMatrix Iterateblocks Total Time = 4.404762918129563\n",
      "\n",
      "\n",
      ">>>>>>>>>>>>\n",
      "Starting Iteration mu= 0.8999999999999999\n",
      "Starting Iteration epsilon= 15.1\n",
      "Running NewMatrix Jar!\n",
      " Single-Reference Blocks = 1\n",
      "\n",
      " Multi-Reference Blocks = 1101\n",
      "NewMatrix Iterateblocks Total Time = 1.7990070264786482\n",
      "\n",
      "\n",
      ">>>>>>>>>>>>\n",
      "Starting Iteration mu= 0.9999999999999999\n",
      "Starting Iteration epsilon= 15.1\n",
      "Running NewMatrix Jar!\n",
      " Single-Reference Blocks = 1\n",
      "\n",
      " Multi-Reference Blocks = 83\n",
      "NewMatrix Iterateblocks Total Time = 0.4431988028809428\n",
      "\n",
      "Precision = TP / (TP + FP) ......................... = 0.89524820\n",
      "Recall = TP / (TP + FN) ............................ = 0.90831217\n",
      "F-Measure .......................................... = 0.90173287\n"
     ]
    },
    {
     "data": {
      "text/plain": [
       "0.90173287"
      ]
     },
     "execution_count": 5,
     "metadata": {},
     "output_type": "execute_result"
    }
   ],
   "source": [
    "entropy_F1(mu=0.5,muIncr=0.1,beta=35,sigma=403,epsilon=15.1,epsilonIterate=0.0)"
   ]
  },
  {
   "cell_type": "markdown",
   "metadata": {},
   "source": [
    "Create functions for variable transformation."
   ]
  },
  {
   "cell_type": "code",
   "execution_count": 6,
   "metadata": {
    "ExecuteTime": {
     "end_time": "2020-09-03T22:08:18.856511Z",
     "start_time": "2020-09-03T22:08:18.853611Z"
    }
   },
   "outputs": [],
   "source": [
    "#Softplus to transform real domain into positive\n",
    "def softplus(x):\n",
    "    return np.log(1+np.exp(x))\n",
    "\n",
    "def inv_softplus(x):\n",
    "    return np.log(np.exp(x)-1)"
   ]
  },
  {
   "cell_type": "code",
   "execution_count": 7,
   "metadata": {
    "ExecuteTime": {
     "end_time": "2020-09-03T22:08:27.349548Z",
     "start_time": "2020-09-03T22:08:27.345752Z"
    }
   },
   "outputs": [
    {
     "data": {
      "text/plain": [
       "0.541324854612918"
      ]
     },
     "execution_count": 7,
     "metadata": {},
     "output_type": "execute_result"
    }
   ],
   "source": [
    "inv_softplus(1)"
   ]
  },
  {
   "cell_type": "code",
   "execution_count": 8,
   "metadata": {
    "ExecuteTime": {
     "end_time": "2020-09-03T22:11:24.939913Z",
     "start_time": "2020-09-03T22:11:24.936639Z"
    }
   },
   "outputs": [],
   "source": [
    "#Logit to transform real domain into 0-1\n",
    "def logit(x):    \n",
    "    return np.log(x+1e-54)-np.log(1-x+1e-54)\n",
    "\n",
    "def inv_logit(x):\n",
    "    res=np.exp(x)/(np.exp(x)+1)-2*1e-54\n",
    "    if res<1e-54:\n",
    "        res=0\n",
    "    return res"
   ]
  },
  {
   "cell_type": "markdown",
   "metadata": {},
   "source": [
    "Import BO library:"
   ]
  },
  {
   "cell_type": "code",
   "execution_count": 9,
   "metadata": {
    "ExecuteTime": {
     "end_time": "2020-09-03T22:08:30.622144Z",
     "start_time": "2020-09-03T22:08:30.226842Z"
    }
   },
   "outputs": [],
   "source": [
    "from bayes_opt import BayesianOptimization"
   ]
  },
  {
   "cell_type": "markdown",
   "metadata": {
    "ExecuteTime": {
     "end_time": "2020-09-03T18:14:39.927785Z",
     "start_time": "2020-09-03T18:14:39.924909Z"
    }
   },
   "source": [
    "Create dictionary bounds for the parameters:"
   ]
  },
  {
   "cell_type": "code",
   "execution_count": 10,
   "metadata": {},
   "outputs": [],
   "source": [
    "import os, sys"
   ]
  },
  {
   "cell_type": "code",
   "execution_count": 11,
   "metadata": {},
   "outputs": [],
   "source": [
    "class HiddenPrints:\n",
    "    def __enter__(self):\n",
    "        self._original_stdout = sys.stdout\n",
    "        sys.stdout = open(os.devnull, 'w')\n",
    "\n",
    "    def __exit__(self, exc_type, exc_val, exc_tb):\n",
    "        sys.stdout.close()\n",
    "        sys.stdout = self._original_stdout"
   ]
  },
  {
   "cell_type": "code",
   "execution_count": 12,
   "metadata": {},
   "outputs": [
    {
     "name": "stdout",
     "output_type": "stream",
     "text": [
      "This will be printed as before\n"
     ]
    }
   ],
   "source": [
    "with HiddenPrints():\n",
    "    print(\"This will not be printed\")\n",
    "\n",
    "print(\"This will be printed as before\")"
   ]
  },
  {
   "cell_type": "code",
   "execution_count": 13,
   "metadata": {
    "ExecuteTime": {
     "end_time": "2020-09-03T22:11:53.005154Z",
     "start_time": "2020-09-03T22:11:53.000238Z"
    }
   },
   "outputs": [],
   "source": [
    "#Take parameters in transformed space and return f score in transformed space\n",
    "def entropy_F1_trx(beta_sp,sigma_sp,mu_logit,muIncr_logit,epsilon_sp,epsilonIterate_logit=logit(0)):\n",
    "    beta_pos=int(softplus(beta_sp))\n",
    "    sigma_pos=int(softplus(sigma_sp))\n",
    "    mu_01=inv_logit(mu_logit)\n",
    "    muIncr_01=inv_logit(muIncr_logit)\n",
    "    epsilon_pos=softplus(epsilon_sp)\n",
    "    epsilonIterate_01=inv_logit(epsilonIterate_logit)\n",
    "    \n",
    "    print(\"Mu:%.2f|Mu+:%.2f|Beta:%.2f|Sigma:%.2f|Epsilon:%.2f|EpIter:%.2f\" % (mu_01, muIncr_01, beta_pos, sigma_pos, epsilon_pos, epsilonIterate_01))\n",
    "    \n",
    "    with HiddenPrints():\n",
    "        f1=entropy_F1(beta=beta_pos,\n",
    "                      epsilon=epsilon_pos,\n",
    "                      epsilonIterate=epsilonIterate_01,\n",
    "                      muIncr=muIncr_01,\n",
    "                      sigma=sigma_pos,\n",
    "                      mu=mu_01)\n",
    "    \n",
    "    return logit(f1)"
   ]
  },
  {
   "cell_type": "code",
   "execution_count": 14,
   "metadata": {},
   "outputs": [
    {
     "name": "stdout",
     "output_type": "stream",
     "text": [
      "Mu:0.50|Mu+:0.05|Beta:33.00|Sigma:449.00|Epsilon:31.80|EpIter:0.00\n"
     ]
    },
    {
     "data": {
      "text/plain": [
       "0.6228630754264552"
      ]
     },
     "execution_count": 14,
     "metadata": {},
     "output_type": "execute_result"
    }
   ],
   "source": [
    "entropy_F1_trx(beta_sp=inv_softplus(33),\n",
    "               sigma_sp=inv_softplus(449),\n",
    "               mu_logit=logit(0.5),\n",
    "               muIncr_logit=logit(0.05),\n",
    "               epsilon_sp=inv_softplus(31.8))"
   ]
  },
  {
   "cell_type": "code",
   "execution_count": 15,
   "metadata": {},
   "outputs": [],
   "source": [
    "optimizer=None"
   ]
  },
  {
   "cell_type": "code",
   "execution_count": 16,
   "metadata": {
    "ExecuteTime": {
     "end_time": "2020-09-03T22:11:50.787503Z",
     "start_time": "2020-09-03T22:11:50.784060Z"
    }
   },
   "outputs": [],
   "source": [
    "pbounds = {'beta_sp': (inv_softplus(1), inv_softplus(700)), \n",
    "           'sigma_sp': (inv_softplus(1), inv_softplus(700)),\n",
    "           'mu_logit': (logit(0.5), logit(0.99)),\n",
    "           'muIncr_logit': (logit(0.01), logit(0.2)),\n",
    "           'epsilon_sp': (inv_softplus(1), inv_softplus(700))}#,\n",
    "           #'epsilonIterate_logit': (logit(0), logit(0.25))}"
   ]
  },
  {
   "cell_type": "code",
   "execution_count": 17,
   "metadata": {},
   "outputs": [],
   "source": [
    "from bayes_opt import SequentialDomainReductionTransformer"
   ]
  },
  {
   "cell_type": "code",
   "execution_count": 18,
   "metadata": {},
   "outputs": [],
   "source": [
    "bounds_transformer = SequentialDomainReductionTransformer()"
   ]
  },
  {
   "cell_type": "code",
   "execution_count": 19,
   "metadata": {
    "ExecuteTime": {
     "end_time": "2020-09-03T22:11:56.728829Z",
     "start_time": "2020-09-03T22:11:56.725599Z"
    }
   },
   "outputs": [],
   "source": [
    "optimizer = BayesianOptimization(\n",
    "    f=entropy_F1_trx,\n",
    "    pbounds=pbounds,\n",
    "    random_state=1,\n",
    "    bounds_transformer=bounds_transformer\n",
    ")"
   ]
  },
  {
   "cell_type": "code",
   "execution_count": 20,
   "metadata": {},
   "outputs": [],
   "source": [
    "optimizer.probe(\n",
    "    params={\"beta_sp\": inv_softplus(35), \n",
    "            \"sigma_sp\": inv_softplus(403),\n",
    "            \"mu_logit\":logit(0.5),\n",
    "            #'epsilonIterate_logit': logit(0),\n",
    "            \"muIncr_logit\":logit(0.1),\n",
    "            \"epsilon_sp\":inv_softplus(15.1)},\n",
    "    lazy=True,\n",
    ")"
   ]
  },
  {
   "cell_type": "code",
   "execution_count": 21,
   "metadata": {
    "ExecuteTime": {
     "end_time": "2020-09-03T22:54:10.009085Z",
     "start_time": "2020-09-03T22:11:58.063246Z"
    }
   },
   "outputs": [
    {
     "name": "stdout",
     "output_type": "stream",
     "text": [
      "|   iter    |  target   |  beta_sp  | epsilo... | muIncr... | mu_logit  | sigma_sp  |\n",
      "-------------------------------------------------------------------------------------\n",
      "Mu:0.50|Mu+:0.10|Beta:35.00|Sigma:403.00|Epsilon:15.10|EpIter:0.00\n",
      "| \u001b[0m 1       \u001b[0m | \u001b[0m 2.217   \u001b[0m | \u001b[0m 35.0    \u001b[0m | \u001b[0m 15.1    \u001b[0m | \u001b[0m-2.197   \u001b[0m | \u001b[0m 0.0     \u001b[0m | \u001b[0m 403.0   \u001b[0m |\n",
      "Mu:0.80|Mu+:0.01|Beta:292.00|Sigma:103.00|Epsilon:504.38|EpIter:0.00\n",
      "| \u001b[0m 2       \u001b[0m | \u001b[0m 0.4247  \u001b[0m | \u001b[0m 292.2   \u001b[0m | \u001b[0m 504.4   \u001b[0m | \u001b[0m-4.595   \u001b[0m | \u001b[0m 1.389   \u001b[0m | \u001b[0m 103.2   \u001b[0m |\n",
      "Mu:0.86|Mu+:0.03|Beta:65.00|Sigma:377.00|Epsilon:130.82|EpIter:0.00\n",
      "| \u001b[0m 3       \u001b[0m | \u001b[0m 0.9784  \u001b[0m | \u001b[0m 65.13   \u001b[0m | \u001b[0m 130.8   \u001b[0m | \u001b[0m-3.486   \u001b[0m | \u001b[0m 1.823   \u001b[0m | \u001b[0m 377.4   \u001b[0m |\n",
      "Mu:0.98|Mu+:0.02|Beta:293.00|Sigma:19.00|Epsilon:479.82|EpIter:0.00\n",
      "| \u001b[0m 4       \u001b[0m | \u001b[0m-2.938   \u001b[0m | \u001b[0m 293.8   \u001b[0m | \u001b[0m 479.8   \u001b[0m | \u001b[0m-3.939   \u001b[0m | \u001b[0m 4.035   \u001b[0m | \u001b[0m 19.7    \u001b[0m |\n",
      "Mu:0.66|Mu+:0.06|Beta:469.00|Sigma:139.00|Epsilon:292.43|EpIter:0.00\n",
      "| \u001b[0m 5       \u001b[0m | \u001b[0m-0.1896  \u001b[0m | \u001b[0m 469.5   \u001b[0m | \u001b[0m 292.4   \u001b[0m | \u001b[0m-2.802   \u001b[0m | \u001b[0m 0.6451  \u001b[0m | \u001b[0m 139.1   \u001b[0m |\n",
      "Mu:0.96|Mu+:0.03|Beta:560.00|Sigma:613.00|Epsilon:677.80|EpIter:0.00\n",
      "| \u001b[0m 6       \u001b[0m | \u001b[0m-1.729   \u001b[0m | \u001b[0m 560.6   \u001b[0m | \u001b[0m 677.8   \u001b[0m | \u001b[0m-3.589   \u001b[0m | \u001b[0m 3.181   \u001b[0m | \u001b[0m 613.5   \u001b[0m |\n",
      "Mu:0.69|Mu+:0.01|Beta:626.00|Sigma:614.00|Epsilon:60.03|EpIter:0.00\n",
      "| \u001b[0m 7       \u001b[0m | \u001b[0m-0.3341  \u001b[0m | \u001b[0m 626.3   \u001b[0m | \u001b[0m 60.03   \u001b[0m | \u001b[0m-4.47    \u001b[0m | \u001b[0m 0.7804  \u001b[0m | \u001b[0m 614.8   \u001b[0m |\n",
      "Mu:0.92|Mu+:0.18|Beta:69.00|Sigma:484.00|Epsilon:295.09|EpIter:0.00\n",
      "| \u001b[0m 8       \u001b[0m | \u001b[0m-0.2371  \u001b[0m | \u001b[0m 69.33   \u001b[0m | \u001b[0m 295.1   \u001b[0m | \u001b[0m-1.521   \u001b[0m | \u001b[0m 2.45    \u001b[0m | \u001b[0m 484.5   \u001b[0m |\n",
      "Mu:0.52|Mu+:0.13|Beta:221.00|Sigma:525.00|Epsilon:480.72|EpIter:0.00\n",
      "| \u001b[0m 9       \u001b[0m | \u001b[0m-8.322   \u001b[0m | \u001b[0m 221.2   \u001b[0m | \u001b[0m 480.7   \u001b[0m | \u001b[0m-1.917   \u001b[0m | \u001b[0m 0.08404 \u001b[0m | \u001b[0m 525.2   \u001b[0m |\n",
      "Mu:0.97|Mu+:0.02|Beta:692.00|Sigma:72.00|Epsilon:523.85|EpIter:0.00\n",
      "| \u001b[0m 10      \u001b[0m | \u001b[0m-2.276   \u001b[0m | \u001b[0m 692.2   \u001b[0m | \u001b[0m 523.9   \u001b[0m | \u001b[0m-3.695   \u001b[0m | \u001b[0m 3.627   \u001b[0m | \u001b[0m 72.74   \u001b[0m |\n",
      "Mu:0.79|Mu+:0.03|Beta:313.00|Sigma:91.00|Epsilon:636.07|EpIter:0.00\n",
      "| \u001b[0m 11      \u001b[0m | \u001b[0m 0.4084  \u001b[0m | \u001b[0m 313.8   \u001b[0m | \u001b[0m 636.1   \u001b[0m | \u001b[0m-3.653   \u001b[0m | \u001b[0m 1.322   \u001b[0m | \u001b[0m 91.49   \u001b[0m |\n",
      "Mu:0.55|Mu+:0.07|Beta:33.00|Sigma:407.00|Epsilon:14.22|EpIter:0.00\n",
      "| \u001b[95m 12      \u001b[0m | \u001b[95m 2.311   \u001b[0m | \u001b[95m 33.12   \u001b[0m | \u001b[95m 14.22   \u001b[0m | \u001b[95m-2.628   \u001b[0m | \u001b[95m 0.2164  \u001b[0m | \u001b[95m 407.2   \u001b[0m |\n",
      "Mu:0.50|Mu+:0.10|Beta:22.00|Sigma:468.00|Epsilon:66.76|EpIter:0.00\n",
      "| \u001b[0m 13      \u001b[0m | \u001b[0m-0.5653  \u001b[0m | \u001b[0m 22.1    \u001b[0m | \u001b[0m 66.76   \u001b[0m | \u001b[0m-2.254   \u001b[0m | \u001b[0m 0.0     \u001b[0m | \u001b[0m 468.2   \u001b[0m |\n",
      "Mu:0.67|Mu+:0.05|Beta:48.00|Sigma:383.00|Epsilon:52.51|EpIter:0.00\n",
      "| \u001b[0m 14      \u001b[0m | \u001b[0m 0.3388  \u001b[0m | \u001b[0m 48.45   \u001b[0m | \u001b[0m 52.51   \u001b[0m | \u001b[0m-2.964   \u001b[0m | \u001b[0m 0.6998  \u001b[0m | \u001b[0m 383.1   \u001b[0m |\n",
      "Mu:0.50|Mu+:0.09|Beta:1.00|Sigma:381.00|Epsilon:1.00|EpIter:0.00\n",
      "| \u001b[0m 15      \u001b[0m | \u001b[0m-124.3   \u001b[0m | \u001b[0m 0.5413  \u001b[0m | \u001b[0m 0.5413  \u001b[0m | \u001b[0m-2.325   \u001b[0m | \u001b[0m 0.0     \u001b[0m | \u001b[0m 381.8   \u001b[0m |\n",
      "Mu:0.53|Mu+:0.08|Beta:34.00|Sigma:405.00|Epsilon:14.77|EpIter:0.00\n",
      "| \u001b[0m 16      \u001b[0m | \u001b[0m 2.258   \u001b[0m | \u001b[0m 34.3    \u001b[0m | \u001b[0m 14.77   \u001b[0m | \u001b[0m-2.418   \u001b[0m | \u001b[0m 0.1114  \u001b[0m | \u001b[0m 405.3   \u001b[0m |\n",
      "Mu:0.53|Mu+:0.08|Beta:34.00|Sigma:405.00|Epsilon:14.86|EpIter:0.00\n",
      "| \u001b[0m 17      \u001b[0m | \u001b[0m 2.246   \u001b[0m | \u001b[0m 34.5    \u001b[0m | \u001b[0m 14.86   \u001b[0m | \u001b[0m-2.418   \u001b[0m | \u001b[0m 0.1122  \u001b[0m | \u001b[0m 405.4   \u001b[0m |\n",
      "Mu:0.53|Mu+:0.08|Beta:35.00|Sigma:405.00|Epsilon:15.27|EpIter:0.00\n",
      "| \u001b[0m 18      \u001b[0m | \u001b[0m 2.203   \u001b[0m | \u001b[0m 35.28   \u001b[0m | \u001b[0m 15.27   \u001b[0m | \u001b[0m-2.419   \u001b[0m | \u001b[0m 0.1152  \u001b[0m | \u001b[0m 405.9   \u001b[0m |\n",
      "Mu:0.53|Mu+:0.08|Beta:35.00|Sigma:405.00|Epsilon:12.96|EpIter:0.00\n",
      "| \u001b[95m 19      \u001b[0m | \u001b[95m 2.346   \u001b[0m | \u001b[95m 35.46   \u001b[0m | \u001b[95m 12.96   \u001b[0m | \u001b[95m-2.453   \u001b[0m | \u001b[95m 0.1114  \u001b[0m | \u001b[95m 405.5   \u001b[0m |\n",
      "Mu:0.59|Mu+:0.07|Beta:36.00|Sigma:406.00|Epsilon:14.79|EpIter:0.00\n",
      "| \u001b[0m 20      \u001b[0m | \u001b[0m 2.262   \u001b[0m | \u001b[0m 36.93   \u001b[0m | \u001b[0m 14.79   \u001b[0m | \u001b[0m-2.624   \u001b[0m | \u001b[0m 0.3631  \u001b[0m | \u001b[0m 406.5   \u001b[0m |\n",
      "Mu:0.50|Mu+:0.09|Beta:35.00|Sigma:406.00|Epsilon:17.39|EpIter:0.00\n",
      "| \u001b[0m 21      \u001b[0m | \u001b[0m 1.937   \u001b[0m | \u001b[0m 35.36   \u001b[0m | \u001b[0m 17.39   \u001b[0m | \u001b[0m-2.3     \u001b[0m | \u001b[0m 0.0     \u001b[0m | \u001b[0m 406.5   \u001b[0m |\n",
      "Mu:0.50|Mu+:0.09|Beta:36.00|Sigma:407.00|Epsilon:12.96|EpIter:0.00\n",
      "| \u001b[0m 22      \u001b[0m | \u001b[0m 2.314   \u001b[0m | \u001b[0m 36.75   \u001b[0m | \u001b[0m 12.96   \u001b[0m | \u001b[0m-2.316   \u001b[0m | \u001b[0m 0.0     \u001b[0m | \u001b[0m 407.7   \u001b[0m |\n",
      "Mu:0.50|Mu+:0.07|Beta:38.00|Sigma:404.00|Epsilon:14.16|EpIter:0.00\n",
      "| \u001b[0m 23      \u001b[0m | \u001b[0m 2.298   \u001b[0m | \u001b[0m 38.6    \u001b[0m | \u001b[0m 14.16   \u001b[0m | \u001b[0m-2.577   \u001b[0m | \u001b[0m 0.0     \u001b[0m | \u001b[0m 404.5   \u001b[0m |\n",
      "Mu:0.57|Mu+:0.09|Beta:36.00|Sigma:404.00|Epsilon:10.87|EpIter:0.00\n",
      "| \u001b[0m 24      \u001b[0m | \u001b[0m 1.832   \u001b[0m | \u001b[0m 36.37   \u001b[0m | \u001b[0m 10.87   \u001b[0m | \u001b[0m-2.342   \u001b[0m | \u001b[0m 0.2765  \u001b[0m | \u001b[0m 404.8   \u001b[0m |\n",
      "Mu:0.50|Mu+:0.09|Beta:38.00|Sigma:408.00|Epsilon:15.04|EpIter:0.00\n",
      "| \u001b[0m 25      \u001b[0m | \u001b[0m 2.187   \u001b[0m | \u001b[0m 38.24   \u001b[0m | \u001b[0m 15.04   \u001b[0m | \u001b[0m-2.353   \u001b[0m | \u001b[0m 0.0     \u001b[0m | \u001b[0m 409.0   \u001b[0m |\n",
      "Mu:0.56|Mu+:0.09|Beta:39.00|Sigma:404.00|Epsilon:16.85|EpIter:0.00\n",
      "| \u001b[0m 26      \u001b[0m | \u001b[0m 1.995   \u001b[0m | \u001b[0m 39.44   \u001b[0m | \u001b[0m 16.85   \u001b[0m | \u001b[0m-2.363   \u001b[0m | \u001b[0m 0.2451  \u001b[0m | \u001b[0m 404.5   \u001b[0m |\n",
      "Mu:0.56|Mu+:0.09|Beta:35.00|Sigma:410.00|Epsilon:14.03|EpIter:0.00\n",
      "| \u001b[0m 27      \u001b[0m | \u001b[0m 2.305   \u001b[0m | \u001b[0m 35.79   \u001b[0m | \u001b[0m 14.03   \u001b[0m | \u001b[0m-2.372   \u001b[0m | \u001b[0m 0.2318  \u001b[0m | \u001b[0m 410.7   \u001b[0m |\n",
      "Mu:0.55|Mu+:0.07|Beta:40.00|Sigma:407.00|Epsilon:11.79|EpIter:0.00\n",
      "| \u001b[0m 28      \u001b[0m | \u001b[0m 2.241   \u001b[0m | \u001b[0m 40.26   \u001b[0m | \u001b[0m 11.79   \u001b[0m | \u001b[0m-2.527   \u001b[0m | \u001b[0m 0.2197  \u001b[0m | \u001b[0m 407.9   \u001b[0m |\n",
      "Mu:0.55|Mu+:0.07|Beta:38.00|Sigma:409.00|Epsilon:18.32|EpIter:0.00\n",
      "| \u001b[0m 29      \u001b[0m | \u001b[0m 1.819   \u001b[0m | \u001b[0m 38.58   \u001b[0m | \u001b[0m 18.32   \u001b[0m | \u001b[0m-2.519   \u001b[0m | \u001b[0m 0.2089  \u001b[0m | \u001b[0m 409.5   \u001b[0m |\n",
      "Mu:0.51|Mu+:0.07|Beta:35.00|Sigma:410.00|Epsilon:10.35|EpIter:0.00\n",
      "| \u001b[0m 30      \u001b[0m | \u001b[0m 1.584   \u001b[0m | \u001b[0m 35.97   \u001b[0m | \u001b[0m 10.35   \u001b[0m | \u001b[0m-2.513   \u001b[0m | \u001b[0m 0.02364 \u001b[0m | \u001b[0m 410.6   \u001b[0m |\n",
      "Mu:0.51|Mu+:0.08|Beta:42.00|Sigma:405.00|Epsilon:13.41|EpIter:0.00\n",
      "| \u001b[0m 31      \u001b[0m | \u001b[0m 2.311   \u001b[0m | \u001b[0m 42.43   \u001b[0m | \u001b[0m 13.41   \u001b[0m | \u001b[0m-2.4     \u001b[0m | \u001b[0m 0.03242 \u001b[0m | \u001b[0m 405.7   \u001b[0m |\n",
      "Mu:0.51|Mu+:0.08|Beta:42.00|Sigma:410.00|Epsilon:14.56|EpIter:0.00\n",
      "| \u001b[0m 32      \u001b[0m | \u001b[0m 2.241   \u001b[0m | \u001b[0m 42.04   \u001b[0m | \u001b[0m 14.56   \u001b[0m | \u001b[0m-2.405   \u001b[0m | \u001b[0m 0.04031 \u001b[0m | \u001b[0m 410.9   \u001b[0m |\n",
      "Mu:0.51|Mu+:0.08|Beta:41.00|Sigma:404.00|Epsilon:9.23|EpIter:0.00\n",
      "| \u001b[0m 33      \u001b[0m | \u001b[0m 0.8902  \u001b[0m | \u001b[0m 41.29   \u001b[0m | \u001b[0m 9.234   \u001b[0m | \u001b[0m-2.41    \u001b[0m | \u001b[0m 0.04742 \u001b[0m | \u001b[0m 404.9   \u001b[0m |\n",
      "Mu:0.51|Mu+:0.08|Beta:42.00|Sigma:405.00|Epsilon:19.53|EpIter:0.00\n",
      "| \u001b[0m 34      \u001b[0m | \u001b[0m 1.687   \u001b[0m | \u001b[0m 42.01   \u001b[0m | \u001b[0m 19.53   \u001b[0m | \u001b[0m-2.492   \u001b[0m | \u001b[0m 0.05382 \u001b[0m | \u001b[0m 405.4   \u001b[0m |\n",
      "Mu:0.51|Mu+:0.08|Beta:35.00|Sigma:412.00|Epsilon:18.54|EpIter:0.00\n",
      "| \u001b[0m 35      \u001b[0m | \u001b[0m 1.777   \u001b[0m | \u001b[0m 35.08   \u001b[0m | \u001b[0m 18.54   \u001b[0m | \u001b[0m-2.488   \u001b[0m | \u001b[0m 0.05958 \u001b[0m | \u001b[0m 412.8   \u001b[0m |\n",
      "Mu:0.52|Mu+:0.08|Beta:41.00|Sigma:413.00|Epsilon:15.33|EpIter:0.00\n",
      "| \u001b[0m 36      \u001b[0m | \u001b[0m 2.177   \u001b[0m | \u001b[0m 41.86   \u001b[0m | \u001b[0m 15.33   \u001b[0m | \u001b[0m-2.485   \u001b[0m | \u001b[0m 0.06476 \u001b[0m | \u001b[0m 413.3   \u001b[0m |\n",
      "Mu:0.54|Mu+:0.08|Beta:42.00|Sigma:411.00|Epsilon:19.62|EpIter:0.00\n",
      "| \u001b[0m 37      \u001b[0m | \u001b[0m 1.682   \u001b[0m | \u001b[0m 42.13   \u001b[0m | \u001b[0m 19.62   \u001b[0m | \u001b[0m-2.425   \u001b[0m | \u001b[0m 0.1534  \u001b[0m | \u001b[0m 411.1   \u001b[0m |\n",
      "Mu:0.54|Mu+:0.08|Beta:41.00|Sigma:411.00|Epsilon:9.40|EpIter:0.00\n",
      "| \u001b[0m 38      \u001b[0m | \u001b[0m 0.9674  \u001b[0m | \u001b[0m 41.46   \u001b[0m | \u001b[0m 9.399   \u001b[0m | \u001b[0m-2.428   \u001b[0m | \u001b[0m 0.1492  \u001b[0m | \u001b[0m 411.8   \u001b[0m |\n",
      "Mu:0.54|Mu+:0.08|Beta:40.00|Sigma:399.00|Epsilon:18.36|EpIter:0.00\n"
     ]
    },
    {
     "name": "stdout",
     "output_type": "stream",
     "text": [
      "| \u001b[0m 39      \u001b[0m | \u001b[0m 1.839   \u001b[0m | \u001b[0m 40.67   \u001b[0m | \u001b[0m 18.36   \u001b[0m | \u001b[0m-2.476   \u001b[0m | \u001b[0m 0.1454  \u001b[0m | \u001b[0m 399.8   \u001b[0m |\n",
      "Mu:0.52|Mu+:0.08|Beta:30.00|Sigma:410.00|Epsilon:17.82|EpIter:0.00\n",
      "| \u001b[0m 40      \u001b[0m | \u001b[0m 1.876   \u001b[0m | \u001b[0m 30.6    \u001b[0m | \u001b[0m 17.82   \u001b[0m | \u001b[0m-2.433   \u001b[0m | \u001b[0m 0.08079 \u001b[0m | \u001b[0m 410.6   \u001b[0m |\n",
      "Mu:0.52|Mu+:0.08|Beta:31.00|Sigma:410.00|Epsilon:10.79|EpIter:0.00\n",
      "| \u001b[0m 41      \u001b[0m | \u001b[0m 1.794   \u001b[0m | \u001b[0m 31.09   \u001b[0m | \u001b[0m 10.79   \u001b[0m | \u001b[0m-2.435   \u001b[0m | \u001b[0m 0.08385 \u001b[0m | \u001b[0m 410.1   \u001b[0m |\n",
      "Mu:0.52|Mu+:0.08|Beta:36.00|Sigma:409.00|Epsilon:16.89|EpIter:0.00\n",
      "| \u001b[0m 42      \u001b[0m | \u001b[0m 1.995   \u001b[0m | \u001b[0m 36.47   \u001b[0m | \u001b[0m 16.89   \u001b[0m | \u001b[0m-2.47    \u001b[0m | \u001b[0m 0.08661 \u001b[0m | \u001b[0m 409.6   \u001b[0m |\n",
      "Mu:0.53|Mu+:0.08|Beta:32.00|Sigma:401.00|Epsilon:16.50|EpIter:0.00\n",
      "| \u001b[0m 43      \u001b[0m | \u001b[0m 2.046   \u001b[0m | \u001b[0m 32.69   \u001b[0m | \u001b[0m 16.5    \u001b[0m | \u001b[0m-2.469   \u001b[0m | \u001b[0m 0.1337  \u001b[0m | \u001b[0m 401.8   \u001b[0m |\n",
      "Mu:0.52|Mu+:0.08|Beta:38.00|Sigma:402.00|Epsilon:16.15|EpIter:0.00\n",
      "| \u001b[0m 44      \u001b[0m | \u001b[0m 2.093   \u001b[0m | \u001b[0m 38.65   \u001b[0m | \u001b[0m 16.15   \u001b[0m | \u001b[0m-2.467   \u001b[0m | \u001b[0m 0.09132 \u001b[0m | \u001b[0m 402.2   \u001b[0m |\n",
      "Mu:0.52|Mu+:0.08|Beta:36.00|Sigma:402.00|Epsilon:10.10|EpIter:0.00\n",
      "| \u001b[0m 45      \u001b[0m | \u001b[0m 1.439   \u001b[0m | \u001b[0m 36.62   \u001b[0m | \u001b[0m 10.1    \u001b[0m | \u001b[0m-2.466   \u001b[0m | \u001b[0m 0.09332 \u001b[0m | \u001b[0m 402.5   \u001b[0m |\n",
      "Mu:0.52|Mu+:0.08|Beta:32.00|Sigma:408.00|Epsilon:15.54|EpIter:0.00\n",
      "| \u001b[0m 46      \u001b[0m | \u001b[0m 2.177   \u001b[0m | \u001b[0m 32.88   \u001b[0m | \u001b[0m 15.54   \u001b[0m | \u001b[0m-2.464   \u001b[0m | \u001b[0m 0.09513 \u001b[0m | \u001b[0m 408.2   \u001b[0m |\n",
      "Mu:0.52|Mu+:0.08|Beta:33.00|Sigma:407.00|Epsilon:10.64|EpIter:0.00\n",
      "| \u001b[0m 47      \u001b[0m | \u001b[0m 1.75    \u001b[0m | \u001b[0m 33.14   \u001b[0m | \u001b[0m 10.64   \u001b[0m | \u001b[0m-2.463   \u001b[0m | \u001b[0m 0.09676 \u001b[0m | \u001b[0m 407.9   \u001b[0m |\n",
      "Mu:0.52|Mu+:0.08|Beta:37.00|Sigma:407.00|Epsilon:15.05|EpIter:0.00\n",
      "| \u001b[0m 48      \u001b[0m | \u001b[0m 2.217   \u001b[0m | \u001b[0m 37.55   \u001b[0m | \u001b[0m 15.05   \u001b[0m | \u001b[0m-2.462   \u001b[0m | \u001b[0m 0.09822 \u001b[0m | \u001b[0m 407.7   \u001b[0m |\n",
      "Mu:0.52|Mu+:0.08|Beta:33.00|Sigma:403.00|Epsilon:14.84|EpIter:0.00\n",
      "| \u001b[0m 49      \u001b[0m | \u001b[0m 2.235   \u001b[0m | \u001b[0m 33.58   \u001b[0m | \u001b[0m 14.84   \u001b[0m | \u001b[0m-2.461   \u001b[0m | \u001b[0m 0.09954 \u001b[0m | \u001b[0m 403.5   \u001b[0m |\n",
      "Mu:0.53|Mu+:0.08|Beta:33.00|Sigma:403.00|Epsilon:11.27|EpIter:0.00\n",
      "| \u001b[0m 50      \u001b[0m | \u001b[0m 2.087   \u001b[0m | \u001b[0m 33.77   \u001b[0m | \u001b[0m 11.27   \u001b[0m | \u001b[0m-2.461   \u001b[0m | \u001b[0m 0.1007  \u001b[0m | \u001b[0m 403.7   \u001b[0m |\n",
      "Mu:0.53|Mu+:0.08|Beta:36.00|Sigma:407.00|Epsilon:14.49|EpIter:0.00\n",
      "| \u001b[0m 51      \u001b[0m | \u001b[0m 2.292   \u001b[0m | \u001b[0m 36.99   \u001b[0m | \u001b[0m 14.49   \u001b[0m | \u001b[0m-2.46    \u001b[0m | \u001b[0m 0.1018  \u001b[0m | \u001b[0m 407.1   \u001b[0m |\n",
      "Mu:0.53|Mu+:0.08|Beta:36.00|Sigma:404.00|Epsilon:14.33|EpIter:0.00\n",
      "| \u001b[0m 52      \u001b[0m | \u001b[0m 2.323   \u001b[0m | \u001b[0m 36.83   \u001b[0m | \u001b[0m 14.33   \u001b[0m | \u001b[0m-2.459   \u001b[0m | \u001b[0m 0.12    \u001b[0m | \u001b[0m 404.1   \u001b[0m |\n",
      "Mu:0.53|Mu+:0.08|Beta:36.00|Sigma:406.00|Epsilon:11.73|EpIter:0.00\n",
      "| \u001b[0m 53      \u001b[0m | \u001b[0m 2.229   \u001b[0m | \u001b[0m 36.7    \u001b[0m | \u001b[0m 11.73   \u001b[0m | \u001b[0m-2.459   \u001b[0m | \u001b[0m 0.1036  \u001b[0m | \u001b[0m 406.8   \u001b[0m |\n",
      "Mu:0.53|Mu+:0.08|Beta:34.00|Sigma:406.00|Epsilon:11.85|EpIter:0.00\n",
      "| \u001b[0m 54      \u001b[0m | \u001b[0m 2.268   \u001b[0m | \u001b[0m 34.35   \u001b[0m | \u001b[0m 11.85   \u001b[0m | \u001b[0m-2.458   \u001b[0m | \u001b[0m 0.1044  \u001b[0m | \u001b[0m 406.7   \u001b[0m |\n",
      "Mu:0.53|Mu+:0.08|Beta:36.00|Sigma:404.00|Epsilon:13.91|EpIter:0.00\n",
      "| \u001b[0m 55      \u001b[0m | \u001b[0m 2.345   \u001b[0m | \u001b[0m 36.44   \u001b[0m | \u001b[0m 13.91   \u001b[0m | \u001b[0m-2.457   \u001b[0m | \u001b[0m 0.1132  \u001b[0m | \u001b[0m 404.5   \u001b[0m |\n",
      "Mu:0.53|Mu+:0.08|Beta:34.00|Sigma:406.00|Epsilon:13.86|EpIter:0.00\n",
      "| \u001b[95m 56      \u001b[0m | \u001b[95m 2.362   \u001b[0m | \u001b[95m 34.56   \u001b[0m | \u001b[95m 13.86   \u001b[0m | \u001b[95m-2.457   \u001b[0m | \u001b[95m 0.1057  \u001b[0m | \u001b[95m 406.4   \u001b[0m |\n",
      "Mu:0.53|Mu+:0.08|Beta:33.00|Sigma:407.00|Epsilon:14.63|EpIter:0.00\n",
      "| \u001b[0m 57      \u001b[0m | \u001b[0m 2.271   \u001b[0m | \u001b[0m 33.79   \u001b[0m | \u001b[0m 14.63   \u001b[0m | \u001b[0m-2.461   \u001b[0m | \u001b[0m 0.1009  \u001b[0m | \u001b[0m 407.3   \u001b[0m |\n",
      "Mu:0.53|Mu+:0.08|Beta:33.00|Sigma:407.00|Epsilon:14.55|EpIter:0.00\n",
      "| \u001b[0m 58      \u001b[0m | \u001b[0m 2.28    \u001b[0m | \u001b[0m 33.87   \u001b[0m | \u001b[0m 14.55   \u001b[0m | \u001b[0m-2.46    \u001b[0m | \u001b[0m 0.1014  \u001b[0m | \u001b[0m 407.2   \u001b[0m |\n",
      "Mu:0.53|Mu+:0.08|Beta:33.00|Sigma:407.00|Epsilon:14.48|EpIter:0.00\n",
      "| \u001b[0m 59      \u001b[0m | \u001b[0m 2.29    \u001b[0m | \u001b[0m 33.94   \u001b[0m | \u001b[0m 14.48   \u001b[0m | \u001b[0m-2.46    \u001b[0m | \u001b[0m 0.1018  \u001b[0m | \u001b[0m 407.1   \u001b[0m |\n",
      "Mu:0.53|Mu+:0.08|Beta:34.00|Sigma:407.00|Epsilon:14.42|EpIter:0.00\n",
      "| \u001b[0m 60      \u001b[0m | \u001b[0m 2.297   \u001b[0m | \u001b[0m 34.0    \u001b[0m | \u001b[0m 14.42   \u001b[0m | \u001b[0m-2.46    \u001b[0m | \u001b[0m 0.1022  \u001b[0m | \u001b[0m 407.0   \u001b[0m |\n",
      "Mu:0.53|Mu+:0.08|Beta:34.00|Sigma:406.00|Epsilon:14.36|EpIter:0.00\n",
      "| \u001b[0m 61      \u001b[0m | \u001b[0m 2.301   \u001b[0m | \u001b[0m 34.06   \u001b[0m | \u001b[0m 14.36   \u001b[0m | \u001b[0m-2.459   \u001b[0m | \u001b[0m 0.1026  \u001b[0m | \u001b[0m 407.0   \u001b[0m |\n",
      "=====================================================================================\n"
     ]
    }
   ],
   "source": [
    "optimizer.maximize(\n",
    "    init_points=10,\n",
    "    n_iter=50,\n",
    "    acq=\"ucb\",\n",
    "    kappa=5,\n",
    "    alpha=1\n",
    ")"
   ]
  },
  {
   "cell_type": "code",
   "execution_count": 22,
   "metadata": {},
   "outputs": [
    {
     "data": {
      "text/plain": [
       "{'target': 2.361558190582101,\n",
       " 'params': {'beta_sp': 34.56027510764839,\n",
       "  'epsilon_sp': 13.862859146945105,\n",
       "  'muIncr_logit': -2.4573044639576755,\n",
       "  'mu_logit': 0.10572067028320165,\n",
       "  'sigma_sp': 406.4487059734664}}"
      ]
     },
     "execution_count": 22,
     "metadata": {},
     "output_type": "execute_result"
    }
   ],
   "source": [
    "optimizer.max"
   ]
  },
  {
   "cell_type": "code",
   "execution_count": 23,
   "metadata": {
    "ExecuteTime": {
     "end_time": "2020-09-03T22:58:42.653746Z",
     "start_time": "2020-09-03T22:58:42.649916Z"
    }
   },
   "outputs": [
    {
     "data": {
      "text/plain": [
       "0.91384856"
      ]
     },
     "execution_count": 23,
     "metadata": {},
     "output_type": "execute_result"
    }
   ],
   "source": [
    "inv_logit(optimizer.max[\"target\"])"
   ]
  },
  {
   "cell_type": "code",
   "execution_count": 24,
   "metadata": {
    "ExecuteTime": {
     "end_time": "2020-09-03T22:59:56.414823Z",
     "start_time": "2020-09-03T22:59:56.412477Z"
    }
   },
   "outputs": [],
   "source": [
    "params=optimizer.max[\"params\"]"
   ]
  },
  {
   "cell_type": "code",
   "execution_count": 25,
   "metadata": {
    "ExecuteTime": {
     "end_time": "2020-09-03T23:00:39.452694Z",
     "start_time": "2020-09-03T23:00:39.449279Z"
    }
   },
   "outputs": [
    {
     "data": {
      "text/plain": [
       "34.56027510764839"
      ]
     },
     "execution_count": 25,
     "metadata": {},
     "output_type": "execute_result"
    }
   ],
   "source": [
    "softplus(params[\"beta_sp\"])"
   ]
  },
  {
   "cell_type": "code",
   "execution_count": 26,
   "metadata": {
    "ExecuteTime": {
     "end_time": "2020-09-03T23:01:09.671719Z",
     "start_time": "2020-09-03T23:01:09.668333Z"
    }
   },
   "outputs": [
    {
     "data": {
      "text/plain": [
       "406.4487059734664"
      ]
     },
     "execution_count": 26,
     "metadata": {},
     "output_type": "execute_result"
    }
   ],
   "source": [
    "softplus(params[\"sigma_sp\"])"
   ]
  },
  {
   "cell_type": "code",
   "execution_count": 27,
   "metadata": {
    "ExecuteTime": {
     "end_time": "2020-09-04T01:35:00.233453Z",
     "start_time": "2020-09-04T01:35:00.230360Z"
    }
   },
   "outputs": [
    {
     "data": {
      "text/plain": [
       "0.5264055778635047"
      ]
     },
     "execution_count": 27,
     "metadata": {},
     "output_type": "execute_result"
    }
   ],
   "source": [
    "inv_logit(params[\"mu_logit\"])"
   ]
  },
  {
   "cell_type": "code",
   "execution_count": 28,
   "metadata": {
    "ExecuteTime": {
     "end_time": "2020-09-04T01:35:28.881809Z",
     "start_time": "2020-09-04T01:35:28.878641Z"
    }
   },
   "outputs": [
    {
     "data": {
      "text/plain": [
       "0.07890602612671446"
      ]
     },
     "execution_count": 28,
     "metadata": {},
     "output_type": "execute_result"
    }
   ],
   "source": [
    "inv_logit(params[\"muIncr_logit\"])"
   ]
  },
  {
   "cell_type": "code",
   "execution_count": 29,
   "metadata": {
    "ExecuteTime": {
     "end_time": "2020-09-04T01:36:13.729976Z",
     "start_time": "2020-09-04T01:36:13.726798Z"
    }
   },
   "outputs": [
    {
     "data": {
      "text/plain": [
       "13.862860100699521"
      ]
     },
     "execution_count": 29,
     "metadata": {},
     "output_type": "execute_result"
    }
   ],
   "source": [
    "softplus(params[\"epsilon_sp\"])"
   ]
  },
  {
   "cell_type": "code",
   "execution_count": 31,
   "metadata": {},
   "outputs": [
    {
     "name": "stdout",
     "output_type": "stream",
     "text": [
      "\n",
      ">>>>>>>>>>>>\n",
      "Starting Iteration mu= 0.5264055778635047\n",
      "Starting Iteration epsilon= 13.862860100699521\n",
      "Running NewMatrix Jar!\n",
      " Single-Reference Blocks = 1\n",
      "\n",
      " Multi-Reference Blocks = 15760\n",
      "NewMatrix Iterateblocks Total Time = 19.58311090618372\n",
      "\n",
      "\n",
      ">>>>>>>>>>>>\n",
      "Starting Iteration mu= 0.6053116039902192\n",
      "Starting Iteration epsilon= 13.862860100699521\n",
      "Running NewMatrix Jar!\n",
      " Single-Reference Blocks = 1\n",
      "\n",
      " Multi-Reference Blocks = 13181\n",
      "NewMatrix Iterateblocks Total Time = 17.280983736738563\n",
      "\n",
      "\n",
      ">>>>>>>>>>>>\n",
      "Starting Iteration mu= 0.6842176301169337\n",
      "Starting Iteration epsilon= 13.862860100699521\n",
      "Running NewMatrix Jar!\n",
      " Single-Reference Blocks = 1\n",
      "\n",
      " Multi-Reference Blocks = 9030\n",
      "NewMatrix Iterateblocks Total Time = 11.896439941599965\n",
      "\n",
      "\n",
      ">>>>>>>>>>>>\n",
      "Starting Iteration mu= 0.7631236562436482\n",
      "Starting Iteration epsilon= 13.862860100699521\n",
      "Running NewMatrix Jar!\n",
      " Single-Reference Blocks = 1\n",
      "\n",
      " Multi-Reference Blocks = 4957\n",
      "NewMatrix Iterateblocks Total Time = 6.51996822655201\n",
      "\n",
      "\n",
      ">>>>>>>>>>>>\n",
      "Starting Iteration mu= 0.8420296823703627\n",
      "Starting Iteration epsilon= 13.862860100699521\n",
      "Running NewMatrix Jar!\n",
      " Single-Reference Blocks = 1\n",
      "\n",
      " Multi-Reference Blocks = 2271\n",
      "NewMatrix Iterateblocks Total Time = 2.668057463131845\n",
      "\n",
      "\n",
      ">>>>>>>>>>>>\n",
      "Starting Iteration mu= 0.9209357084970772\n",
      "Starting Iteration epsilon= 13.862860100699521\n",
      "Running NewMatrix Jar!\n",
      " Single-Reference Blocks = 1\n",
      "\n",
      " Multi-Reference Blocks = 761\n",
      "NewMatrix Iterateblocks Total Time = 1.3189217476174235\n",
      "\n",
      "\n",
      ">>>>>>>>>>>>\n",
      "Starting Iteration mu= 0.9998417346237917\n",
      "Starting Iteration epsilon= 13.862860100699521\n",
      "Running NewMatrix Jar!\n",
      " Single-Reference Blocks = 1\n",
      "\n",
      " Multi-Reference Blocks = 84\n",
      "NewMatrix Iterateblocks Total Time = 0.441781934350729\n",
      "\n",
      "Precision = TP / (TP + FP) ......................... = 0.92287433\n",
      "Recall = TP / (TP + FN) ............................ = 0.90499763\n",
      "F-Measure .......................................... = 0.91384856\n"
     ]
    },
    {
     "data": {
      "text/plain": [
       "0.91384856"
      ]
     },
     "execution_count": 31,
     "metadata": {},
     "output_type": "execute_result"
    }
   ],
   "source": [
    "entropy_F1(mu=0.5264055778635047,\n",
    "           muIncr=0.07890602612671446,\n",
    "           beta=34,\n",
    "           sigma=406,\n",
    "           epsilon=13.862860100699521,\n",
    "           epsilonIterate=0)"
   ]
  }
 ],
 "metadata": {
  "kernelspec": {
   "display_name": "Python 3",
   "language": "python",
   "name": "python3"
  },
  "language_info": {
   "codemirror_mode": {
    "name": "ipython",
    "version": 3
   },
   "file_extension": ".py",
   "mimetype": "text/x-python",
   "name": "python",
   "nbconvert_exporter": "python",
   "pygments_lexer": "ipython3",
   "version": "3.7.4"
  },
  "toc": {
   "base_numbering": 1,
   "nav_menu": {},
   "number_sections": true,
   "sideBar": true,
   "skip_h1_title": false,
   "title_cell": "Table of Contents",
   "title_sidebar": "Contents",
   "toc_cell": false,
   "toc_position": {},
   "toc_section_display": true,
   "toc_window_display": false
  },
  "varInspector": {
   "cols": {
    "lenName": 16,
    "lenType": 16,
    "lenVar": 40
   },
   "kernels_config": {
    "python": {
     "delete_cmd_postfix": "",
     "delete_cmd_prefix": "del ",
     "library": "var_list.py",
     "varRefreshCmd": "print(var_dic_list())"
    },
    "r": {
     "delete_cmd_postfix": ") ",
     "delete_cmd_prefix": "rm(",
     "library": "var_list.r",
     "varRefreshCmd": "cat(var_dic_list()) "
    }
   },
   "types_to_exclude": [
    "module",
    "function",
    "builtin_function_or_method",
    "instance",
    "_Feature"
   ],
   "window_display": false
  }
 },
 "nbformat": 4,
 "nbformat_minor": 2
}
