{
 "cells": [
  {
   "cell_type": "code",
   "execution_count": 1,
   "metadata": {
    "ExecuteTime": {
     "end_time": "2020-09-03T21:59:20.041891Z",
     "start_time": "2020-09-03T21:59:10.621897Z"
    }
   },
   "outputs": [
    {
     "name": "stdout",
     "output_type": "stream",
     "text": [
      "Tokenizing References\n",
      "Total References= 1912\n",
      "Total Tokens Found = 24340\n",
      "Total Tokens Output = 24287\n",
      "Dictionary Load = 67077\n",
      "<class 'dict'>\n",
      "Global Replace Cycle\n",
      "Total References= 1912\n",
      "Total Tokens= 24287\n",
      "Unique Tokens= 5182\n",
      "Minimum Frequency of Standard Token =  5\n",
      "Minimum Length of Standard Token =  3\n",
      "Maximum Frequency of Error Token =  3\n",
      "References Processed= 1912\n",
      "Sorted Token Size = 5182\n",
      "Clean Token Size = 2394\n",
      "*Stop Replacements here\n",
      "References Processed =  1912\n",
      "Total Replacement Pairs = 113\n",
      "Tokens Read = 24287\n",
      "Tokens Changed =  164\n",
      "References Changed = 156\n"
     ]
    }
   ],
   "source": [
    "import DWM1_Tokenizer\n",
    "import DWM2_Global_Token_Replace_NewDict\n",
    "import DWM3_Entropy_Cluster\n",
    "# Settings for Tokenizer\n",
    "inputSampleName = r'S4'\n",
    "delimiter=','\n",
    "hasHeader = True\n",
    "tokenizerType = 'Splitter'\n",
    "removeDuplicateTokens = True\n",
    "\n",
    "# Setting for global replacement DWM2\n",
    "runReplacement = True\n",
    "minFreqStdToken = 5\n",
    "minLenStdToken = 3\n",
    "maxFreqErrToken = 3\n",
    "\n",
    "# Cluster Settings\n",
    "\n",
    "\n",
    "DWM1_Tokenizer.tokenizeCycle(inputSampleName, delimiter, hasHeader, removeDuplicateTokens, tokenizerType)\n",
    "prefixString = inputSampleName +','+tokenizerType+','+str(removeDuplicateTokens)\n",
    "fileToCluster = inputSampleName + '-Tokenized.txt'\n",
    "if runReplacement:\n",
    "    DWM2_Global_Token_Replace_NewDict.globalReplace(inputSampleName, minFreqStdToken, minLenStdToken, maxFreqErrToken)\n",
    "    fileToCluster = inputSampleName + '-TokenReplace.txt'\n",
    "    prefixString = prefixString+','+str(minFreqStdToken)+','+str(minLenStdToken)+','+str(maxFreqErrToken)\n",
    "else:\n",
    "    prefixString = prefixString+',0,0,0'\n",
    "\n",
    "# Cluster fixed settings\n",
    "epsilonIterate = 0.0\n",
    "runClusterMetrics = False\n",
    "runFinalMetrics = True\n",
    "createFinalJoin = False"
   ]
  },
  {
   "cell_type": "code",
   "execution_count": 2,
   "metadata": {},
   "outputs": [],
   "source": [
    "status=\"done\""
   ]
  },
  {
   "cell_type": "code",
   "execution_count": 3,
   "metadata": {},
   "outputs": [
    {
     "name": "stdout",
     "output_type": "stream",
     "text": [
      "done\n"
     ]
    }
   ],
   "source": [
    "print(status)"
   ]
  },
  {
   "cell_type": "code",
   "execution_count": 4,
   "metadata": {
    "ExecuteTime": {
     "end_time": "2020-09-03T15:11:39.765508Z",
     "start_time": "2020-09-03T15:03:19.495876Z"
    },
    "scrolled": false
   },
   "outputs": [],
   "source": [
    "# # Cluster Robot Settings\n",
    "# muStart = 0.60\n",
    "# muEnd = 0.60\n",
    "# muIncr = 0.05\n",
    "# betaStart = 14\n",
    "# betaEnd = 14\n",
    "# betaIncr = 1\n",
    "# sigmaStart = 145\n",
    "# sigmaEnd = 145\n",
    "# sigmaIncr = 1\n",
    "# epsilonStart = 35\n",
    "# epsilonEnd = 35\n",
    "# epsilonIncr = 1\n",
    "# mu = muStart\n",
    "# while mu <= muEnd:\n",
    "#     beta = betaStart\n",
    "#     while beta <= betaEnd:\n",
    "#         sigma = sigmaStart\n",
    "#         while sigma <= sigmaEnd:\n",
    "#             epsilon = epsilonStart\n",
    "#             while epsilon <= epsilonEnd:\n",
    "#                 suffixString =','+str(epsilon)+','+str(epsilonIterate)\n",
    "#                 resultsList = DWM3_Entropy_Cluster.driver(fileToCluster, beta, sigma, mu, muIncr,epsilon,  \\\n",
    "#                                                      epsilonIterate,runClusterMetrics, runFinalMetrics, createFinalJoin, hasHeader)\n",
    "#                 seg0a = ','+str(resultsList[0])+','+str(resultsList[1])+','+str(resultsList[2])+','+str(resultsList[3])\n",
    "#                 seg0b =','+str(resultsList[4])+','+str(resultsList[5])+','+str(resultsList[6])\n",
    "#                 seg1 = ','+str(beta)+','+str(sigma)+','+str(mu)+ ',' +str(muIncr)\n",
    "#                 seg2 = ','+str(resultsList[7])+','+str(resultsList[8])+','+str(resultsList[9])\n",
    "#                 outString = prefixString+seg0a+seg0b+suffixString+seg1+seg2+'\\n'\n",
    "#                 resultsFile = open('RobotResults.txt','a+')\n",
    "#                 resultsFile.write(outString)\n",
    "#                 resultsFile.close()\n",
    "#                 epsilon = epsilon + epsilonIncr\n",
    "#             sigma = sigma + sigmaIncr\n",
    "#         beta = beta + betaIncr\n",
    "#     mu = mu + muIncr\n",
    "\n",
    "\n",
    " "
   ]
  },
  {
   "cell_type": "markdown",
   "metadata": {
    "ExecuteTime": {
     "end_time": "2020-09-03T16:36:26.229783Z",
     "start_time": "2020-09-03T16:36:26.227755Z"
    }
   },
   "source": [
    "## Bayesian Optimization of Hyperparameters"
   ]
  },
  {
   "cell_type": "code",
   "execution_count": 5,
   "metadata": {},
   "outputs": [],
   "source": [
    "import numpy as np"
   ]
  },
  {
   "cell_type": "markdown",
   "metadata": {
    "ExecuteTime": {
     "end_time": "2020-09-03T16:36:47.947518Z",
     "start_time": "2020-09-03T16:36:47.944251Z"
    }
   },
   "source": [
    "Create a function of the parameters that returns the F score"
   ]
  },
  {
   "cell_type": "code",
   "execution_count": 6,
   "metadata": {
    "ExecuteTime": {
     "end_time": "2020-09-03T21:59:42.561300Z",
     "start_time": "2020-09-03T21:59:42.557193Z"
    }
   },
   "outputs": [],
   "source": [
    "def entropy_F1(beta=14,sigma=145,mu=0.6,muIncr=0.05,epsilon=35,epsilonIterate=0):\n",
    "    resultsList = DWM3_Entropy_Cluster.driver(fileToCluster, \n",
    "                                  beta, \n",
    "                                  sigma, \n",
    "                                  mu, \n",
    "                                  muIncr,\n",
    "                                  epsilon,\n",
    "                                  epsilonIterate,\n",
    "                                  runClusterMetrics, \n",
    "                                  runFinalMetrics, \n",
    "                                  createFinalJoin, \n",
    "                                  hasHeader)\n",
    "    return resultsList[9]"
   ]
  },
  {
   "cell_type": "code",
   "execution_count": 7,
   "metadata": {
    "ExecuteTime": {
     "end_time": "2020-09-03T22:06:32.164588Z",
     "start_time": "2020-09-03T21:59:43.696518Z"
    }
   },
   "outputs": [
    {
     "name": "stdout",
     "output_type": "stream",
     "text": [
      "\n",
      ">>>>>>>>>>>>\n",
      "Starting Iteration mu= 0.5\n",
      "Starting Iteration epsilon= 3.1\n",
      "Running NewMatrix Jar!\n",
      " Single-Reference Blocks = 1\n",
      "\n",
      " Multi-Reference Blocks = 2529\n",
      "NewMatrix Iterateblocks Total Time = 1.3898577271029353\n",
      "\n",
      "\n",
      ">>>>>>>>>>>>\n",
      "Starting Iteration mu= 0.6\n",
      "Starting Iteration epsilon= 3.1\n",
      "Running NewMatrix Jar!\n",
      " Single-Reference Blocks = 1\n",
      "\n",
      " Multi-Reference Blocks = 2030\n",
      "NewMatrix Iterateblocks Total Time = 1.1111084138974547\n",
      "\n",
      "\n",
      ">>>>>>>>>>>>\n",
      "Starting Iteration mu= 0.7\n",
      "Starting Iteration epsilon= 3.1\n",
      "Running NewMatrix Jar!\n",
      " Single-Reference Blocks = 1\n",
      "\n",
      " Multi-Reference Blocks = 1255\n",
      "NewMatrix Iterateblocks Total Time = 0.8943820223212242\n",
      "\n",
      "\n",
      ">>>>>>>>>>>>\n",
      "Starting Iteration mu= 0.7999999999999999\n",
      "Starting Iteration epsilon= 3.1\n",
      "Running NewMatrix Jar!\n",
      " Single-Reference Blocks = 1\n",
      "\n",
      " Multi-Reference Blocks = 538\n",
      "NewMatrix Iterateblocks Total Time = 0.5419053649529815\n",
      "\n",
      "\n",
      ">>>>>>>>>>>>\n",
      "Starting Iteration mu= 0.8999999999999999\n",
      "Starting Iteration epsilon= 3.1\n",
      "Running NewMatrix Jar!\n",
      " Single-Reference Blocks = 1\n",
      "\n",
      " Multi-Reference Blocks = 171\n",
      "NewMatrix Iterateblocks Total Time = 0.29609377309679985\n",
      "\n",
      "\n",
      ">>>>>>>>>>>>\n",
      "Starting Iteration mu= 0.9999999999999999\n",
      "Starting Iteration epsilon= 3.1\n",
      "Running NewMatrix Jar!\n",
      " Single-Reference Blocks = 1\n",
      "\n",
      " Multi-Reference Blocks = 42\n",
      "NewMatrix Iterateblocks Total Time = 0.20286011788994074\n",
      "\n",
      "Precision = TP / (TP + FP) ......................... = 0.99176471\n",
      "Recall = TP / (TP + FN) ............................ = 0.85151515\n",
      "F-Measure .......................................... = 0.91630435\n"
     ]
    },
    {
     "data": {
      "text/plain": [
       "0.91630435"
      ]
     },
     "execution_count": 7,
     "metadata": {},
     "output_type": "execute_result"
    }
   ],
   "source": [
    "entropy_F1(mu=0.5,muIncr=0.1,beta=12,sigma=22,epsilon=3.1,epsilonIterate=0)"
   ]
  },
  {
   "cell_type": "markdown",
   "metadata": {},
   "source": [
    "Create functions for variable transformation."
   ]
  },
  {
   "cell_type": "code",
   "execution_count": 8,
   "metadata": {
    "ExecuteTime": {
     "end_time": "2020-09-03T22:08:18.856511Z",
     "start_time": "2020-09-03T22:08:18.853611Z"
    }
   },
   "outputs": [],
   "source": [
    "#Softplus to transform real domain into positive\n",
    "def softplus(x):\n",
    "    return np.log(1+np.exp(x))\n",
    "\n",
    "def inv_softplus(x):\n",
    "    return np.log(np.exp(x)-1)"
   ]
  },
  {
   "cell_type": "code",
   "execution_count": 9,
   "metadata": {
    "ExecuteTime": {
     "end_time": "2020-09-03T22:08:27.349548Z",
     "start_time": "2020-09-03T22:08:27.345752Z"
    }
   },
   "outputs": [
    {
     "data": {
      "text/plain": [
       "0.541324854612918"
      ]
     },
     "execution_count": 9,
     "metadata": {},
     "output_type": "execute_result"
    }
   ],
   "source": [
    "inv_softplus(1)"
   ]
  },
  {
   "cell_type": "code",
   "execution_count": 10,
   "metadata": {
    "ExecuteTime": {
     "end_time": "2020-09-03T22:11:24.939913Z",
     "start_time": "2020-09-03T22:11:24.936639Z"
    }
   },
   "outputs": [],
   "source": [
    "#Logit to transform real domain into 0-1\n",
    "def logit(x):    \n",
    "    return np.log(x+1e-54)-np.log(1-x+1e-54)\n",
    "\n",
    "def inv_logit(x):\n",
    "    res=np.exp(x)/(np.exp(x)+1)-2*1e-54\n",
    "    if res<1e-54:\n",
    "        res=0\n",
    "    return res"
   ]
  },
  {
   "cell_type": "markdown",
   "metadata": {},
   "source": [
    "Import BO library:"
   ]
  },
  {
   "cell_type": "code",
   "execution_count": 11,
   "metadata": {
    "ExecuteTime": {
     "end_time": "2020-09-03T22:08:30.622144Z",
     "start_time": "2020-09-03T22:08:30.226842Z"
    }
   },
   "outputs": [],
   "source": [
    "from bayes_opt import BayesianOptimization"
   ]
  },
  {
   "cell_type": "markdown",
   "metadata": {
    "ExecuteTime": {
     "end_time": "2020-09-03T18:14:39.927785Z",
     "start_time": "2020-09-03T18:14:39.924909Z"
    }
   },
   "source": [
    "Create dictionary bounds for the parameters:"
   ]
  },
  {
   "cell_type": "code",
   "execution_count": 12,
   "metadata": {},
   "outputs": [],
   "source": [
    "import os, sys"
   ]
  },
  {
   "cell_type": "code",
   "execution_count": 13,
   "metadata": {},
   "outputs": [],
   "source": [
    "class HiddenPrints:\n",
    "    def __enter__(self):\n",
    "        self._original_stdout = sys.stdout\n",
    "        sys.stdout = open(os.devnull, 'w')\n",
    "\n",
    "    def __exit__(self, exc_type, exc_val, exc_tb):\n",
    "        sys.stdout.close()\n",
    "        sys.stdout = self._original_stdout"
   ]
  },
  {
   "cell_type": "code",
   "execution_count": 14,
   "metadata": {},
   "outputs": [
    {
     "name": "stdout",
     "output_type": "stream",
     "text": [
      "This will be printed as before\n"
     ]
    }
   ],
   "source": [
    "with HiddenPrints():\n",
    "    print(\"This will not be printed\")\n",
    "\n",
    "print(\"This will be printed as before\")"
   ]
  },
  {
   "cell_type": "code",
   "execution_count": 15,
   "metadata": {
    "ExecuteTime": {
     "end_time": "2020-09-03T22:11:53.005154Z",
     "start_time": "2020-09-03T22:11:53.000238Z"
    }
   },
   "outputs": [],
   "source": [
    "#Take parameters in transformed space and return f score in transformed space\n",
    "def entropy_F1_trx(beta_sp,sigma_sp,mu_logit,muIncr_logit,epsilon_sp,epsilonIterate_logit=logit(0)):\n",
    "    beta_pos=int(softplus(beta_sp))\n",
    "    sigma_pos=int(softplus(sigma_sp))\n",
    "    mu_01=inv_logit(mu_logit)\n",
    "    muIncr_01=inv_logit(muIncr_logit)\n",
    "    epsilon_pos=softplus(epsilon_sp)\n",
    "    epsilonIterate_01=inv_logit(epsilonIterate_logit)\n",
    "    \n",
    "    print(\"Mu:%.2f|Mu+:%.2f|Beta:%.2f|Sigma:%.2f|Epsilon:%.2f|EpIter:%.2f\" % (mu_01, muIncr_01, beta_pos, sigma_pos, epsilon_pos, epsilonIterate_01))\n",
    "    \n",
    "    with HiddenPrints():\n",
    "        f1=entropy_F1(beta=beta_pos,\n",
    "                      epsilon=epsilon_pos,\n",
    "                      epsilonIterate=epsilonIterate_01,\n",
    "                      muIncr=muIncr_01,\n",
    "                      sigma=sigma_pos,\n",
    "                      mu=mu_01)\n",
    "    \n",
    "    return logit(f1)"
   ]
  },
  {
   "cell_type": "code",
   "execution_count": 16,
   "metadata": {},
   "outputs": [
    {
     "name": "stdout",
     "output_type": "stream",
     "text": [
      "Mu:0.50|Mu+:0.05|Beta:33.00|Sigma:449.00|Epsilon:31.80|EpIter:0.00\n"
     ]
    },
    {
     "data": {
      "text/plain": [
       "-0.0036316439914252374"
      ]
     },
     "execution_count": 16,
     "metadata": {},
     "output_type": "execute_result"
    }
   ],
   "source": [
    "entropy_F1_trx(beta_sp=inv_softplus(33),\n",
    "               sigma_sp=inv_softplus(449),\n",
    "               mu_logit=logit(0.5),\n",
    "               muIncr_logit=logit(0.05),\n",
    "               epsilon_sp=inv_softplus(31.8))"
   ]
  },
  {
   "cell_type": "code",
   "execution_count": 23,
   "metadata": {},
   "outputs": [],
   "source": [
    "optimizer=None"
   ]
  },
  {
   "cell_type": "code",
   "execution_count": 24,
   "metadata": {
    "ExecuteTime": {
     "end_time": "2020-09-03T22:11:50.787503Z",
     "start_time": "2020-09-03T22:11:50.784060Z"
    }
   },
   "outputs": [],
   "source": [
    "pbounds = {'beta_sp': (inv_softplus(1), inv_softplus(700)), \n",
    "           'sigma_sp': (inv_softplus(1), inv_softplus(700)),\n",
    "           'mu_logit': (logit(0.5), logit(0.99)),\n",
    "           'muIncr_logit': (logit(0.01), logit(0.2)),\n",
    "           'epsilon_sp': (inv_softplus(1), inv_softplus(700))}#,\n",
    "           #'epsilonIterate_logit': (logit(0), logit(0.25))}"
   ]
  },
  {
   "cell_type": "code",
   "execution_count": 25,
   "metadata": {},
   "outputs": [],
   "source": [
    "from bayes_opt import SequentialDomainReductionTransformer"
   ]
  },
  {
   "cell_type": "code",
   "execution_count": 26,
   "metadata": {},
   "outputs": [],
   "source": [
    "bounds_transformer = SequentialDomainReductionTransformer()"
   ]
  },
  {
   "cell_type": "code",
   "execution_count": 27,
   "metadata": {
    "ExecuteTime": {
     "end_time": "2020-09-03T22:11:56.728829Z",
     "start_time": "2020-09-03T22:11:56.725599Z"
    }
   },
   "outputs": [],
   "source": [
    "optimizer = BayesianOptimization(\n",
    "    f=entropy_F1_trx,\n",
    "    pbounds=pbounds,\n",
    "    random_state=1,\n",
    "    bounds_transformer=bounds_transformer\n",
    ")"
   ]
  },
  {
   "cell_type": "code",
   "execution_count": 28,
   "metadata": {},
   "outputs": [],
   "source": [
    "optimizer.probe(\n",
    "    params={\"beta_sp\": inv_softplus(12), \n",
    "            \"sigma_sp\": inv_softplus(22),\n",
    "            \"mu_logit\":logit(0.5),\n",
    "            #'epsilonIterate_logit': logit(0),\n",
    "            \"muIncr_logit\":logit(0.1),\n",
    "            \"epsilon_sp\":inv_softplus(3.1)},\n",
    "    lazy=True,\n",
    ")"
   ]
  },
  {
   "cell_type": "code",
   "execution_count": 29,
   "metadata": {
    "ExecuteTime": {
     "end_time": "2020-09-03T22:54:10.009085Z",
     "start_time": "2020-09-03T22:11:58.063246Z"
    }
   },
   "outputs": [
    {
     "name": "stdout",
     "output_type": "stream",
     "text": [
      "|   iter    |  target   |  beta_sp  | epsilo... | muIncr... | mu_logit  | sigma_sp  |\n",
      "-------------------------------------------------------------------------------------\n",
      "Mu:0.50|Mu+:0.10|Beta:12.00|Sigma:22.00|Epsilon:3.10|EpIter:0.00\n",
      "| \u001b[0m 1       \u001b[0m | \u001b[0m 2.34    \u001b[0m | \u001b[0m 12.0    \u001b[0m | \u001b[0m 3.054   \u001b[0m | \u001b[0m-2.197   \u001b[0m | \u001b[0m 0.0     \u001b[0m | \u001b[0m 22.0    \u001b[0m |\n",
      "Mu:0.80|Mu+:0.01|Beta:292.00|Sigma:103.00|Epsilon:504.38|EpIter:0.00\n",
      "| \u001b[0m 2       \u001b[0m | \u001b[0m 1.999   \u001b[0m | \u001b[0m 292.2   \u001b[0m | \u001b[0m 504.4   \u001b[0m | \u001b[0m-4.595   \u001b[0m | \u001b[0m 1.389   \u001b[0m | \u001b[0m 103.2   \u001b[0m |\n",
      "Mu:0.86|Mu+:0.03|Beta:65.00|Sigma:377.00|Epsilon:130.82|EpIter:0.00\n",
      "| \u001b[0m 3       \u001b[0m | \u001b[0m 1.817   \u001b[0m | \u001b[0m 65.13   \u001b[0m | \u001b[0m 130.8   \u001b[0m | \u001b[0m-3.486   \u001b[0m | \u001b[0m 1.823   \u001b[0m | \u001b[0m 377.4   \u001b[0m |\n",
      "Mu:0.98|Mu+:0.02|Beta:293.00|Sigma:19.00|Epsilon:479.82|EpIter:0.00\n",
      "| \u001b[0m 4       \u001b[0m | \u001b[0m 0.87    \u001b[0m | \u001b[0m 293.8   \u001b[0m | \u001b[0m 479.8   \u001b[0m | \u001b[0m-3.939   \u001b[0m | \u001b[0m 4.035   \u001b[0m | \u001b[0m 19.7    \u001b[0m |\n",
      "Mu:0.66|Mu+:0.06|Beta:469.00|Sigma:139.00|Epsilon:292.43|EpIter:0.00\n",
      "| \u001b[0m 5       \u001b[0m | \u001b[0m 0.8761  \u001b[0m | \u001b[0m 469.5   \u001b[0m | \u001b[0m 292.4   \u001b[0m | \u001b[0m-2.802   \u001b[0m | \u001b[0m 0.6451  \u001b[0m | \u001b[0m 139.1   \u001b[0m |\n",
      "Mu:0.96|Mu+:0.03|Beta:560.00|Sigma:613.00|Epsilon:677.80|EpIter:0.00\n",
      "| \u001b[0m 6       \u001b[0m | \u001b[0m 1.385   \u001b[0m | \u001b[0m 560.6   \u001b[0m | \u001b[0m 677.8   \u001b[0m | \u001b[0m-3.589   \u001b[0m | \u001b[0m 3.181   \u001b[0m | \u001b[0m 613.5   \u001b[0m |\n",
      "Mu:0.69|Mu+:0.01|Beta:626.00|Sigma:614.00|Epsilon:60.03|EpIter:0.00\n",
      "| \u001b[0m 7       \u001b[0m | \u001b[0m-0.7267  \u001b[0m | \u001b[0m 626.3   \u001b[0m | \u001b[0m 60.03   \u001b[0m | \u001b[0m-4.47    \u001b[0m | \u001b[0m 0.7804  \u001b[0m | \u001b[0m 614.8   \u001b[0m |\n",
      "Mu:0.92|Mu+:0.18|Beta:69.00|Sigma:484.00|Epsilon:295.09|EpIter:0.00\n",
      "| \u001b[0m 8       \u001b[0m | \u001b[0m 1.484   \u001b[0m | \u001b[0m 69.33   \u001b[0m | \u001b[0m 295.1   \u001b[0m | \u001b[0m-1.521   \u001b[0m | \u001b[0m 2.45    \u001b[0m | \u001b[0m 484.5   \u001b[0m |\n",
      "Mu:0.52|Mu+:0.13|Beta:221.00|Sigma:525.00|Epsilon:480.72|EpIter:0.00\n",
      "| \u001b[0m 9       \u001b[0m | \u001b[0m-6.332   \u001b[0m | \u001b[0m 221.2   \u001b[0m | \u001b[0m 480.7   \u001b[0m | \u001b[0m-1.917   \u001b[0m | \u001b[0m 0.08404 \u001b[0m | \u001b[0m 525.2   \u001b[0m |\n",
      "Mu:0.97|Mu+:0.02|Beta:692.00|Sigma:72.00|Epsilon:523.85|EpIter:0.00\n",
      "| \u001b[0m 10      \u001b[0m | \u001b[0m 0.8946  \u001b[0m | \u001b[0m 692.2   \u001b[0m | \u001b[0m 523.9   \u001b[0m | \u001b[0m-3.695   \u001b[0m | \u001b[0m 3.627   \u001b[0m | \u001b[0m 72.74   \u001b[0m |\n",
      "Mu:0.79|Mu+:0.03|Beta:313.00|Sigma:91.00|Epsilon:636.07|EpIter:0.00\n",
      "| \u001b[0m 11      \u001b[0m | \u001b[0m 2.05    \u001b[0m | \u001b[0m 313.8   \u001b[0m | \u001b[0m 636.1   \u001b[0m | \u001b[0m-3.653   \u001b[0m | \u001b[0m 1.322   \u001b[0m | \u001b[0m 91.49   \u001b[0m |\n",
      "Mu:0.65|Mu+:0.07|Beta:44.00|Sigma:115.00|Epsilon:82.06|EpIter:0.00\n",
      "| \u001b[0m 12      \u001b[0m | \u001b[0m 0.9487  \u001b[0m | \u001b[0m 44.12   \u001b[0m | \u001b[0m 82.06   \u001b[0m | \u001b[0m-2.637   \u001b[0m | \u001b[0m 0.6088  \u001b[0m | \u001b[0m 115.1   \u001b[0m |\n",
      "Mu:0.50|Mu+:0.14|Beta:95.00|Sigma:1.00|Epsilon:86.50|EpIter:0.00\n",
      "| \u001b[0m 13      \u001b[0m | \u001b[0m-124.3   \u001b[0m | \u001b[0m 95.59   \u001b[0m | \u001b[0m 86.5    \u001b[0m | \u001b[0m-1.802   \u001b[0m | \u001b[0m 0.0     \u001b[0m | \u001b[0m 0.5413  \u001b[0m |\n",
      "Mu:0.57|Mu+:0.12|Beta:10.00|Sigma:23.00|Epsilon:3.48|EpIter:0.00\n",
      "| \u001b[95m 14      \u001b[0m | \u001b[95m 2.356   \u001b[0m | \u001b[95m 10.91   \u001b[0m | \u001b[95m 3.451   \u001b[0m | \u001b[95m-1.971   \u001b[0m | \u001b[95m 0.2953  \u001b[0m | \u001b[95m 23.12   \u001b[0m |\n",
      "Mu:0.54|Mu+:0.11|Beta:11.00|Sigma:22.00|Epsilon:3.24|EpIter:0.00\n",
      "| \u001b[0m 15      \u001b[0m | \u001b[0m 2.327   \u001b[0m | \u001b[0m 11.39   \u001b[0m | \u001b[0m 3.196   \u001b[0m | \u001b[0m-2.083   \u001b[0m | \u001b[0m 0.1493  \u001b[0m | \u001b[0m 22.58   \u001b[0m |\n",
      "Mu:0.52|Mu+:0.10|Beta:10.00|Sigma:22.00|Epsilon:2.14|EpIter:0.00\n",
      "| \u001b[0m 16      \u001b[0m | \u001b[0m 2.005   \u001b[0m | \u001b[0m 10.49   \u001b[0m | \u001b[0m 2.012   \u001b[0m | \u001b[0m-2.145   \u001b[0m | \u001b[0m 0.08123 \u001b[0m | \u001b[0m 22.7    \u001b[0m |\n",
      "Mu:0.66|Mu+:0.15|Beta:10.00|Sigma:21.00|Epsilon:7.42|EpIter:0.00\n",
      "| \u001b[0m 17      \u001b[0m | \u001b[0m 1.693   \u001b[0m | \u001b[0m 10.98   \u001b[0m | \u001b[0m 7.417   \u001b[0m | \u001b[0m-1.721   \u001b[0m | \u001b[0m 0.6429  \u001b[0m | \u001b[0m 21.53   \u001b[0m |\n",
      "Mu:0.65|Mu+:0.15|Beta:14.00|Sigma:27.00|Epsilon:2.35|EpIter:0.00\n",
      "| \u001b[0m 18      \u001b[0m | \u001b[0m 1.928   \u001b[0m | \u001b[0m 14.53   \u001b[0m | \u001b[0m 2.253   \u001b[0m | \u001b[0m-1.746   \u001b[0m | \u001b[0m 0.6081  \u001b[0m | \u001b[0m 27.9    \u001b[0m |\n",
      "Mu:0.50|Mu+:0.10|Beta:5.00|Sigma:27.00|Epsilon:1.58|EpIter:0.00\n",
      "| \u001b[0m 19      \u001b[0m | \u001b[0m 1.032   \u001b[0m | \u001b[0m 5.144   \u001b[0m | \u001b[0m 1.344   \u001b[0m | \u001b[0m-2.174   \u001b[0m | \u001b[0m 0.01378 \u001b[0m | \u001b[0m 27.61   \u001b[0m |\n",
      "Mu:0.51|Mu+:0.10|Beta:18.00|Sigma:18.00|Epsilon:1.00|EpIter:0.00\n",
      "| \u001b[0m 20      \u001b[0m | \u001b[0m 0.8267  \u001b[0m | \u001b[0m 18.16   \u001b[0m | \u001b[0m 0.5413  \u001b[0m | \u001b[0m-2.154   \u001b[0m | \u001b[0m 0.04193 \u001b[0m | \u001b[0m 18.84   \u001b[0m |\n",
      "Mu:0.52|Mu+:0.11|Beta:13.00|Sigma:28.00|Epsilon:10.90|EpIter:0.00\n",
      "| \u001b[0m 21      \u001b[0m | \u001b[0m 1.273   \u001b[0m | \u001b[0m 13.89   \u001b[0m | \u001b[0m 10.9    \u001b[0m | \u001b[0m-2.136   \u001b[0m | \u001b[0m 0.06727 \u001b[0m | \u001b[0m 28.99   \u001b[0m |\n",
      "Mu:0.52|Mu+:0.11|Beta:4.00|Sigma:16.00|Epsilon:8.34|EpIter:0.00\n",
      "| \u001b[0m 22      \u001b[0m | \u001b[0m 1.44    \u001b[0m | \u001b[0m 4.788   \u001b[0m | \u001b[0m 8.336   \u001b[0m | \u001b[0m-2.119   \u001b[0m | \u001b[0m 0.09007 \u001b[0m | \u001b[0m 16.65   \u001b[0m |\n",
      "Mu:0.62|Mu+:0.14|Beta:4.00|Sigma:14.00|Epsilon:1.00|EpIter:0.00\n",
      "| \u001b[0m 23      \u001b[0m | \u001b[0m 0.5393  \u001b[0m | \u001b[0m 4.886   \u001b[0m | \u001b[0m 0.5413  \u001b[0m | \u001b[0m-1.838   \u001b[0m | \u001b[0m 0.48    \u001b[0m | \u001b[0m 14.61   \u001b[0m |\n",
      "Mu:0.61|Mu+:0.14|Beta:3.00|Sigma:28.00|Epsilon:11.76|EpIter:0.00\n",
      "| \u001b[0m 24      \u001b[0m | \u001b[0m 0.1069  \u001b[0m | \u001b[0m 3.602   \u001b[0m | \u001b[0m 11.76   \u001b[0m | \u001b[0m-1.852   \u001b[0m | \u001b[0m 0.4615  \u001b[0m | \u001b[0m 28.96   \u001b[0m |\n",
      "Mu:0.54|Mu+:0.11|Beta:18.00|Sigma:17.00|Epsilon:11.82|EpIter:0.00\n",
      "| \u001b[0m 25      \u001b[0m | \u001b[0m 1.283   \u001b[0m | \u001b[0m 18.22   \u001b[0m | \u001b[0m 11.82   \u001b[0m | \u001b[0m-2.079   \u001b[0m | \u001b[0m 0.1457  \u001b[0m | \u001b[0m 17.16   \u001b[0m |\n",
      "Mu:0.54|Mu+:0.11|Beta:21.00|Sigma:30.00|Epsilon:1.00|EpIter:0.00\n",
      "| \u001b[0m 26      \u001b[0m | \u001b[0m 0.9738  \u001b[0m | \u001b[0m 21.39   \u001b[0m | \u001b[0m 0.5413  \u001b[0m | \u001b[0m-2.068   \u001b[0m | \u001b[0m 0.1607  \u001b[0m | \u001b[0m 30.97   \u001b[0m |\n",
      "Mu:0.60|Mu+:0.13|Beta:19.00|Sigma:12.00|Epsilon:1.00|EpIter:0.00\n",
      "| \u001b[0m 27      \u001b[0m | \u001b[0m 0.9491  \u001b[0m | \u001b[0m 19.31   \u001b[0m | \u001b[0m 0.5413  \u001b[0m | \u001b[0m-1.884   \u001b[0m | \u001b[0m 0.4165  \u001b[0m | \u001b[0m 12.44   \u001b[0m |\n",
      "Mu:0.60|Mu+:0.13|Beta:22.00|Sigma:25.00|Epsilon:12.23|EpIter:0.00\n",
      "| \u001b[0m 28      \u001b[0m | \u001b[0m 1.449   \u001b[0m | \u001b[0m 22.41   \u001b[0m | \u001b[0m 12.23   \u001b[0m | \u001b[0m-1.893   \u001b[0m | \u001b[0m 0.4044  \u001b[0m | \u001b[0m 25.75   \u001b[0m |\n",
      "Mu:0.60|Mu+:0.13|Beta:12.00|Sigma:38.00|Epsilon:1.00|EpIter:0.00\n",
      "| \u001b[0m 29      \u001b[0m | \u001b[0m 0.9944  \u001b[0m | \u001b[0m 12.85   \u001b[0m | \u001b[0m 0.5413  \u001b[0m | \u001b[0m-1.901   \u001b[0m | \u001b[0m 0.3935  \u001b[0m | \u001b[0m 38.14   \u001b[0m |\n",
      "Mu:0.55|Mu+:0.12|Beta:11.00|Sigma:14.00|Epsilon:17.36|EpIter:0.00\n",
      "| \u001b[0m 30      \u001b[0m | \u001b[0m 0.7906  \u001b[0m | \u001b[0m 11.06   \u001b[0m | \u001b[0m 17.36   \u001b[0m | \u001b[0m-2.035   \u001b[0m | \u001b[0m 0.207   \u001b[0m | \u001b[0m 14.15   \u001b[0m |\n",
      "Mu:0.59|Mu+:0.13|Beta:23.00|Sigma:24.00|Epsilon:1.00|EpIter:0.00\n",
      "| \u001b[0m 31      \u001b[0m | \u001b[0m 0.9573  \u001b[0m | \u001b[0m 23.45   \u001b[0m | \u001b[0m 0.5413  \u001b[0m | \u001b[0m-1.914   \u001b[0m | \u001b[0m 0.3748  \u001b[0m | \u001b[0m 24.44   \u001b[0m |\n",
      "Mu:0.56|Mu+:0.12|Beta:18.00|Sigma:34.00|Epsilon:14.72|EpIter:0.00\n",
      "| \u001b[0m 32      \u001b[0m | \u001b[0m 1.158   \u001b[0m | \u001b[0m 18.67   \u001b[0m | \u001b[0m 14.72   \u001b[0m | \u001b[0m-2.023   \u001b[0m | \u001b[0m 0.2237  \u001b[0m | \u001b[0m 34.42   \u001b[0m |\n",
      "Mu:0.59|Mu+:0.13|Beta:1.00|Sigma:33.00|Epsilon:1.00|EpIter:0.00\n",
      "| \u001b[0m 33      \u001b[0m | \u001b[0m-124.3   \u001b[0m | \u001b[0m 0.7564  \u001b[0m | \u001b[0m 0.5413  \u001b[0m | \u001b[0m-1.925   \u001b[0m | \u001b[0m 0.3597  \u001b[0m | \u001b[0m 33.29   \u001b[0m |\n",
      "Mu:0.57|Mu+:0.12|Beta:11.00|Sigma:22.00|Epsilon:4.40|EpIter:0.00\n",
      "| \u001b[0m 34      \u001b[0m | \u001b[0m 2.221   \u001b[0m | \u001b[0m 11.14   \u001b[0m | \u001b[0m 4.391   \u001b[0m | \u001b[0m-1.98    \u001b[0m | \u001b[0m 0.2991  \u001b[0m | \u001b[0m 22.37   \u001b[0m |\n",
      "Mu:0.58|Mu+:0.12|Beta:11.00|Sigma:23.00|Epsilon:3.85|EpIter:0.00\n",
      "| \u001b[0m 35      \u001b[0m | \u001b[0m 2.306   \u001b[0m | \u001b[0m 11.88   \u001b[0m | \u001b[0m 3.829   \u001b[0m | \u001b[0m-1.977   \u001b[0m | \u001b[0m 0.3091  \u001b[0m | \u001b[0m 23.39   \u001b[0m |\n",
      "Mu:0.56|Mu+:0.12|Beta:10.00|Sigma:22.00|Epsilon:4.44|EpIter:0.00\n",
      "| \u001b[0m 36      \u001b[0m | \u001b[0m 2.161   \u001b[0m | \u001b[0m 10.9    \u001b[0m | \u001b[0m 4.431   \u001b[0m | \u001b[0m-2.005   \u001b[0m | \u001b[0m 0.2484  \u001b[0m | \u001b[0m 22.22   \u001b[0m |\n",
      "Mu:0.58|Mu+:0.13|Beta:12.00|Sigma:22.00|Epsilon:4.54|EpIter:0.00\n",
      "| \u001b[0m 37      \u001b[0m | \u001b[0m 2.166   \u001b[0m | \u001b[0m 12.08   \u001b[0m | \u001b[0m 4.525   \u001b[0m | \u001b[0m-1.941   \u001b[0m | \u001b[0m 0.3376  \u001b[0m | \u001b[0m 22.62   \u001b[0m |\n",
      "Mu:0.56|Mu+:0.12|Beta:11.00|Sigma:23.00|Epsilon:3.27|EpIter:0.00\n",
      "| \u001b[0m 38      \u001b[0m | \u001b[0m 2.299   \u001b[0m | \u001b[0m 11.81   \u001b[0m | \u001b[0m 3.229   \u001b[0m | \u001b[0m-1.999   \u001b[0m | \u001b[0m 0.2573  \u001b[0m | \u001b[0m 23.79   \u001b[0m |\n",
      "Mu:0.56|Mu+:0.12|Beta:10.00|Sigma:23.00|Epsilon:4.37|EpIter:0.00\n",
      "| \u001b[0m 39      \u001b[0m | \u001b[0m 2.191   \u001b[0m | \u001b[0m 10.78   \u001b[0m | \u001b[0m 4.362   \u001b[0m | \u001b[0m-1.996   \u001b[0m | \u001b[0m 0.2611  \u001b[0m | \u001b[0m 23.56   \u001b[0m |\n",
      "Mu:0.58|Mu+:0.12|Beta:10.00|Sigma:22.00|Epsilon:3.73|EpIter:0.00\n"
     ]
    },
    {
     "name": "stdout",
     "output_type": "stream",
     "text": [
      "| \u001b[0m 40      \u001b[0m | \u001b[0m 2.336   \u001b[0m | \u001b[0m 10.32   \u001b[0m | \u001b[0m 3.71    \u001b[0m | \u001b[0m-1.949   \u001b[0m | \u001b[0m 0.3261  \u001b[0m | \u001b[0m 22.55   \u001b[0m |\n",
      "Mu:0.57|Mu+:0.12|Beta:11.00|Sigma:23.00|Epsilon:5.13|EpIter:0.00\n",
      "| \u001b[0m 41      \u001b[0m | \u001b[0m 1.92    \u001b[0m | \u001b[0m 11.46   \u001b[0m | \u001b[0m 5.125   \u001b[0m | \u001b[0m-1.991   \u001b[0m | \u001b[0m 0.2676  \u001b[0m | \u001b[0m 23.22   \u001b[0m |\n",
      "Mu:0.57|Mu+:0.12|Beta:10.00|Sigma:24.00|Epsilon:3.30|EpIter:0.00\n",
      "| \u001b[0m 42      \u001b[0m | \u001b[0m 2.309   \u001b[0m | \u001b[0m 10.83   \u001b[0m | \u001b[0m 3.264   \u001b[0m | \u001b[0m-1.989   \u001b[0m | \u001b[0m 0.2704  \u001b[0m | \u001b[0m 24.01   \u001b[0m |\n",
      "Mu:0.58|Mu+:0.12|Beta:12.00|Sigma:23.00|Epsilon:3.07|EpIter:0.00\n",
      "| \u001b[0m 43      \u001b[0m | \u001b[0m 2.352   \u001b[0m | \u001b[0m 12.34   \u001b[0m | \u001b[0m 3.027   \u001b[0m | \u001b[0m-1.955   \u001b[0m | \u001b[0m 0.3178  \u001b[0m | \u001b[0m 23.29   \u001b[0m |\n",
      "Mu:0.57|Mu+:0.12|Beta:12.00|Sigma:24.00|Epsilon:3.98|EpIter:0.00\n",
      "| \u001b[0m 44      \u001b[0m | \u001b[0m 2.267   \u001b[0m | \u001b[0m 12.16   \u001b[0m | \u001b[0m 3.963   \u001b[0m | \u001b[0m-1.986   \u001b[0m | \u001b[0m 0.2751  \u001b[0m | \u001b[0m 24.38   \u001b[0m |\n",
      "Mu:0.58|Mu+:0.12|Beta:11.00|Sigma:24.00|Epsilon:2.52|EpIter:0.00\n",
      "| \u001b[0m 45      \u001b[0m | \u001b[0m 2.105   \u001b[0m | \u001b[0m 11.63   \u001b[0m | \u001b[0m 2.438   \u001b[0m | \u001b[0m-1.958   \u001b[0m | \u001b[0m 0.3135  \u001b[0m | \u001b[0m 24.08   \u001b[0m |\n",
      "Mu:0.58|Mu+:0.12|Beta:12.00|Sigma:22.00|Epsilon:3.86|EpIter:0.00\n",
      "| \u001b[0m 46      \u001b[0m | \u001b[0m 2.285   \u001b[0m | \u001b[0m 12.73   \u001b[0m | \u001b[0m 3.842   \u001b[0m | \u001b[0m-1.96    \u001b[0m | \u001b[0m 0.3117  \u001b[0m | \u001b[0m 22.85   \u001b[0m |\n",
      "Mu:0.57|Mu+:0.12|Beta:12.00|Sigma:24.00|Epsilon:3.14|EpIter:0.00\n",
      "| \u001b[0m 47      \u001b[0m | \u001b[0m 2.297   \u001b[0m | \u001b[0m 12.96   \u001b[0m | \u001b[0m 3.097   \u001b[0m | \u001b[0m-1.982   \u001b[0m | \u001b[0m 0.2806  \u001b[0m | \u001b[0m 24.75   \u001b[0m |\n",
      "Mu:0.58|Mu+:0.12|Beta:11.00|Sigma:24.00|Epsilon:3.95|EpIter:0.00\n",
      "| \u001b[0m 48      \u001b[0m | \u001b[0m 2.329   \u001b[0m | \u001b[0m 11.3    \u001b[0m | \u001b[0m 3.926   \u001b[0m | \u001b[0m-1.962   \u001b[0m | \u001b[0m 0.3086  \u001b[0m | \u001b[0m 24.91   \u001b[0m |\n",
      "Mu:0.58|Mu+:0.12|Beta:12.00|Sigma:24.00|Epsilon:4.83|EpIter:0.00\n",
      "| \u001b[0m 49      \u001b[0m | \u001b[0m 1.955   \u001b[0m | \u001b[0m 12.66   \u001b[0m | \u001b[0m 4.819   \u001b[0m | \u001b[0m-1.963   \u001b[0m | \u001b[0m 0.3072  \u001b[0m | \u001b[0m 24.12   \u001b[0m |\n",
      "Mu:0.58|Mu+:0.12|Beta:12.00|Sigma:23.00|Epsilon:2.39|EpIter:0.00\n",
      "| \u001b[0m 50      \u001b[0m | \u001b[0m 1.958   \u001b[0m | \u001b[0m 12.6    \u001b[0m | \u001b[0m 2.293   \u001b[0m | \u001b[0m-1.964   \u001b[0m | \u001b[0m 0.306   \u001b[0m | \u001b[0m 23.39   \u001b[0m |\n",
      "Mu:0.57|Mu+:0.12|Beta:10.00|Sigma:24.00|Epsilon:2.81|EpIter:0.00\n",
      "| \u001b[0m 51      \u001b[0m | \u001b[0m 2.167   \u001b[0m | \u001b[0m 10.57   \u001b[0m | \u001b[0m 2.745   \u001b[0m | \u001b[0m-1.964   \u001b[0m | \u001b[0m 0.2856  \u001b[0m | \u001b[0m 24.64   \u001b[0m |\n",
      "Mu:0.58|Mu+:0.12|Beta:10.00|Sigma:24.00|Epsilon:4.52|EpIter:0.00\n",
      "| \u001b[0m 52      \u001b[0m | \u001b[0m 2.156   \u001b[0m | \u001b[0m 10.06   \u001b[0m | \u001b[0m 4.509   \u001b[0m | \u001b[0m-1.965   \u001b[0m | \u001b[0m 0.304   \u001b[0m | \u001b[0m 24.04   \u001b[0m |\n",
      "Mu:0.58|Mu+:0.12|Beta:9.00|Sigma:23.00|Epsilon:3.17|EpIter:0.00\n",
      "| \u001b[95m 53      \u001b[0m | \u001b[95m 2.404   \u001b[0m | \u001b[95m 9.676   \u001b[0m | \u001b[95m 3.132   \u001b[0m | \u001b[95m-1.966   \u001b[0m | \u001b[95m 0.3031  \u001b[0m | \u001b[95m 23.6    \u001b[0m |\n",
      "Mu:0.58|Mu+:0.12|Beta:10.00|Sigma:24.00|Epsilon:2.16|EpIter:0.00\n",
      "| \u001b[0m 54      \u001b[0m | \u001b[0m 1.964   \u001b[0m | \u001b[0m 10.73   \u001b[0m | \u001b[0m 2.038   \u001b[0m | \u001b[0m-1.961   \u001b[0m | \u001b[0m 0.3098  \u001b[0m | \u001b[0m 24.69   \u001b[0m |\n",
      "Mu:0.58|Mu+:0.12|Beta:10.00|Sigma:24.00|Epsilon:4.13|EpIter:0.00\n",
      "| \u001b[0m 55      \u001b[0m | \u001b[0m 2.229   \u001b[0m | \u001b[0m 10.62   \u001b[0m | \u001b[0m 4.116   \u001b[0m | \u001b[0m-1.97    \u001b[0m | \u001b[0m 0.3091  \u001b[0m | \u001b[0m 24.58   \u001b[0m |\n",
      "Mu:0.58|Mu+:0.12|Beta:9.00|Sigma:22.00|Epsilon:4.04|EpIter:0.00\n",
      "| \u001b[0m 56      \u001b[0m | \u001b[0m 2.269   \u001b[0m | \u001b[0m 9.226   \u001b[0m | \u001b[0m 4.018   \u001b[0m | \u001b[0m-1.962   \u001b[0m | \u001b[0m 0.3085  \u001b[0m | \u001b[0m 22.72   \u001b[0m |\n",
      "Mu:0.57|Mu+:0.12|Beta:8.00|Sigma:24.00|Epsilon:2.96|EpIter:0.00\n",
      "| \u001b[0m 57      \u001b[0m | \u001b[0m 2.239   \u001b[0m | \u001b[0m 8.911   \u001b[0m | \u001b[0m 2.906   \u001b[0m | \u001b[0m-1.969   \u001b[0m | \u001b[0m 0.2983  \u001b[0m | \u001b[0m 24.39   \u001b[0m |\n",
      "Mu:0.58|Mu+:0.12|Beta:9.00|Sigma:22.00|Epsilon:2.50|EpIter:0.00\n",
      "| \u001b[0m 58      \u001b[0m | \u001b[0m 1.993   \u001b[0m | \u001b[0m 9.371   \u001b[0m | \u001b[0m 2.414   \u001b[0m | \u001b[0m-1.963   \u001b[0m | \u001b[0m 0.3075  \u001b[0m | \u001b[0m 22.89   \u001b[0m |\n",
      "Mu:0.57|Mu+:0.12|Beta:9.00|Sigma:24.00|Epsilon:3.80|EpIter:0.00\n",
      "| \u001b[0m 59      \u001b[0m | \u001b[0m 2.358   \u001b[0m | \u001b[0m 9.057   \u001b[0m | \u001b[0m 3.778   \u001b[0m | \u001b[0m-1.969   \u001b[0m | \u001b[0m 0.2992  \u001b[0m | \u001b[0m 24.24   \u001b[0m |\n",
      "Mu:0.58|Mu+:0.12|Beta:10.00|Sigma:23.00|Epsilon:3.16|EpIter:0.00\n",
      "| \u001b[0m 60      \u001b[0m | \u001b[0m 2.374   \u001b[0m | \u001b[0m 10.23   \u001b[0m | \u001b[0m 3.113   \u001b[0m | \u001b[0m-1.963   \u001b[0m | \u001b[0m 0.3067  \u001b[0m | \u001b[0m 23.36   \u001b[0m |\n",
      "Mu:0.57|Mu+:0.12|Beta:9.00|Sigma:23.00|Epsilon:3.68|EpIter:0.00\n",
      "| \u001b[0m 61      \u001b[0m | \u001b[0m 2.376   \u001b[0m | \u001b[0m 9.174   \u001b[0m | \u001b[0m 3.655   \u001b[0m | \u001b[0m-1.968   \u001b[0m | \u001b[0m 0.2999  \u001b[0m | \u001b[0m 23.08   \u001b[0m |\n",
      "=====================================================================================\n"
     ]
    }
   ],
   "source": [
    "optimizer.maximize(\n",
    "    init_points=10,\n",
    "    n_iter=50,\n",
    "    acq=\"ucb\",\n",
    "    kappa=5,\n",
    "    alpha=1\n",
    ")"
   ]
  },
  {
   "cell_type": "code",
   "execution_count": 30,
   "metadata": {},
   "outputs": [
    {
     "data": {
      "text/plain": [
       "{'target': 2.4044099936553947,\n",
       " 'params': {'beta_sp': 9.676141279526462,\n",
       "  'epsilon_sp': 3.1317412419740163,\n",
       "  'muIncr_logit': -1.9657544206806183,\n",
       "  'mu_logit': 0.3031309777971007,\n",
       "  'sigma_sp': 23.599895501271515}}"
      ]
     },
     "execution_count": 30,
     "metadata": {},
     "output_type": "execute_result"
    }
   ],
   "source": [
    "optimizer.max"
   ]
  },
  {
   "cell_type": "code",
   "execution_count": 31,
   "metadata": {
    "ExecuteTime": {
     "end_time": "2020-09-03T22:58:42.653746Z",
     "start_time": "2020-09-03T22:58:42.649916Z"
    }
   },
   "outputs": [
    {
     "data": {
      "text/plain": [
       "0.91716297"
      ]
     },
     "execution_count": 31,
     "metadata": {},
     "output_type": "execute_result"
    }
   ],
   "source": [
    "inv_logit(optimizer.max[\"target\"])"
   ]
  },
  {
   "cell_type": "code",
   "execution_count": 32,
   "metadata": {
    "ExecuteTime": {
     "end_time": "2020-09-03T22:59:56.414823Z",
     "start_time": "2020-09-03T22:59:56.412477Z"
    }
   },
   "outputs": [],
   "source": [
    "params=optimizer.max[\"params\"]"
   ]
  },
  {
   "cell_type": "code",
   "execution_count": 33,
   "metadata": {
    "ExecuteTime": {
     "end_time": "2020-09-03T23:00:39.452694Z",
     "start_time": "2020-09-03T23:00:39.449279Z"
    }
   },
   "outputs": [
    {
     "data": {
      "text/plain": [
       "9.676204040779778"
      ]
     },
     "execution_count": 33,
     "metadata": {},
     "output_type": "execute_result"
    }
   ],
   "source": [
    "softplus(params[\"beta_sp\"])"
   ]
  },
  {
   "cell_type": "code",
   "execution_count": 34,
   "metadata": {
    "ExecuteTime": {
     "end_time": "2020-09-03T23:01:09.671719Z",
     "start_time": "2020-09-03T23:01:09.668333Z"
    }
   },
   "outputs": [
    {
     "data": {
      "text/plain": [
       "23.59989550132784"
      ]
     },
     "execution_count": 34,
     "metadata": {},
     "output_type": "execute_result"
    }
   ],
   "source": [
    "softplus(params[\"sigma_sp\"])"
   ]
  },
  {
   "cell_type": "code",
   "execution_count": 35,
   "metadata": {
    "ExecuteTime": {
     "end_time": "2020-09-04T01:35:00.233453Z",
     "start_time": "2020-09-04T01:35:00.230360Z"
    }
   },
   "outputs": [
    {
     "data": {
      "text/plain": [
       "0.5752077313781824"
      ]
     },
     "execution_count": 35,
     "metadata": {},
     "output_type": "execute_result"
    }
   ],
   "source": [
    "inv_logit(params[\"mu_logit\"])"
   ]
  },
  {
   "cell_type": "code",
   "execution_count": 36,
   "metadata": {
    "ExecuteTime": {
     "end_time": "2020-09-04T01:35:28.881809Z",
     "start_time": "2020-09-04T01:35:28.878641Z"
    }
   },
   "outputs": [
    {
     "data": {
      "text/plain": [
       "0.12284563541222843"
      ]
     },
     "execution_count": 36,
     "metadata": {},
     "output_type": "execute_result"
    }
   ],
   "source": [
    "inv_logit(params[\"muIncr_logit\"])"
   ]
  },
  {
   "cell_type": "code",
   "execution_count": 37,
   "metadata": {
    "ExecuteTime": {
     "end_time": "2020-09-04T01:36:13.729976Z",
     "start_time": "2020-09-04T01:36:13.726798Z"
    }
   },
   "outputs": [
    {
     "data": {
      "text/plain": [
       "3.174457511837547"
      ]
     },
     "execution_count": 37,
     "metadata": {},
     "output_type": "execute_result"
    }
   ],
   "source": [
    "softplus(params[\"epsilon_sp\"])"
   ]
  },
  {
   "cell_type": "code",
   "execution_count": 39,
   "metadata": {},
   "outputs": [
    {
     "name": "stdout",
     "output_type": "stream",
     "text": [
      "\n",
      ">>>>>>>>>>>>\n",
      "Starting Iteration mu= 0.575\n",
      "Starting Iteration epsilon= 3.17\n",
      "Running NewMatrix Jar!\n",
      " Single-Reference Blocks = 1\n",
      "\n",
      " Multi-Reference Blocks = 2439\n",
      "NewMatrix Iterateblocks Total Time = 1.2227091901004314\n",
      "\n",
      "\n",
      ">>>>>>>>>>>>\n",
      "Starting Iteration mu= 0.698\n",
      "Starting Iteration epsilon= 3.17\n",
      "Running NewMatrix Jar!\n",
      " Single-Reference Blocks = 1\n",
      "\n",
      " Multi-Reference Blocks = 1274\n",
      "NewMatrix Iterateblocks Total Time = 0.8452738588675857\n",
      "\n",
      "\n",
      ">>>>>>>>>>>>\n",
      "Starting Iteration mu= 0.821\n",
      "Starting Iteration epsilon= 3.17\n",
      "Running NewMatrix Jar!\n",
      " Single-Reference Blocks = 1\n",
      "\n",
      " Multi-Reference Blocks = 461\n",
      "NewMatrix Iterateblocks Total Time = 0.4730558041483164\n",
      "\n",
      "\n",
      ">>>>>>>>>>>>\n",
      "Starting Iteration mu= 0.944\n",
      "Starting Iteration epsilon= 3.17\n",
      "Running NewMatrix Jar!\n",
      " Single-Reference Blocks = 1\n",
      "\n",
      " Multi-Reference Blocks = 100\n",
      "NewMatrix Iterateblocks Total Time = 0.2266410579904914\n",
      "\n",
      "Precision = TP / (TP + FP) ......................... = 0.98833139\n",
      "Recall = TP / (TP + FN) ............................ = 0.85555556\n",
      "F-Measure .......................................... = 0.91716297\n"
     ]
    },
    {
     "data": {
      "text/plain": [
       "0.91716297"
      ]
     },
     "execution_count": 39,
     "metadata": {},
     "output_type": "execute_result"
    }
   ],
   "source": [
    "entropy_F1(mu=0.575,\n",
    "           muIncr=0.123,\n",
    "           beta=9,\n",
    "           sigma=23,\n",
    "           epsilon=3.17,\n",
    "           epsilonIterate=0)"
   ]
  }
 ],
 "metadata": {
  "kernelspec": {
   "display_name": "Python 3",
   "language": "python",
   "name": "python3"
  },
  "language_info": {
   "codemirror_mode": {
    "name": "ipython",
    "version": 3
   },
   "file_extension": ".py",
   "mimetype": "text/x-python",
   "name": "python",
   "nbconvert_exporter": "python",
   "pygments_lexer": "ipython3",
   "version": "3.7.4"
  },
  "toc": {
   "base_numbering": 1,
   "nav_menu": {},
   "number_sections": true,
   "sideBar": true,
   "skip_h1_title": false,
   "title_cell": "Table of Contents",
   "title_sidebar": "Contents",
   "toc_cell": false,
   "toc_position": {},
   "toc_section_display": true,
   "toc_window_display": false
  },
  "varInspector": {
   "cols": {
    "lenName": 16,
    "lenType": 16,
    "lenVar": 40
   },
   "kernels_config": {
    "python": {
     "delete_cmd_postfix": "",
     "delete_cmd_prefix": "del ",
     "library": "var_list.py",
     "varRefreshCmd": "print(var_dic_list())"
    },
    "r": {
     "delete_cmd_postfix": ") ",
     "delete_cmd_prefix": "rm(",
     "library": "var_list.r",
     "varRefreshCmd": "cat(var_dic_list()) "
    }
   },
   "types_to_exclude": [
    "module",
    "function",
    "builtin_function_or_method",
    "instance",
    "_Feature"
   ],
   "window_display": false
  }
 },
 "nbformat": 4,
 "nbformat_minor": 2
}
