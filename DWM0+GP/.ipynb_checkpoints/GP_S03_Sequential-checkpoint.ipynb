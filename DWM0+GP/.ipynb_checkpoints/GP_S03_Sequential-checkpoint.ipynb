{
 "cells": [
  {
   "cell_type": "code",
   "execution_count": 1,
   "metadata": {
    "ExecuteTime": {
     "end_time": "2020-09-03T21:59:20.041891Z",
     "start_time": "2020-09-03T21:59:10.621897Z"
    }
   },
   "outputs": [
    {
     "name": "stdout",
     "output_type": "stream",
     "text": [
      "Tokenizing References\n",
      "Total References= 100\n",
      "Total Tokens Found = 1247\n",
      "Total Tokens Output = 1247\n",
      "Dictionary Load = 67077\n",
      "<class 'dict'>\n",
      "Global Replace Cycle\n",
      "Total References= 100\n",
      "Total Tokens= 1247\n",
      "Unique Tokens= 464\n",
      "Minimum Frequency of Standard Token =  5\n",
      "Minimum Length of Standard Token =  3\n",
      "Maximum Frequency of Error Token =  3\n",
      "References Processed= 100\n",
      "Sorted Token Size = 464\n",
      "Clean Token Size = 197\n",
      "*Stop Replacements here\n",
      "References Processed =  100\n",
      "Total Replacement Pairs = 3\n",
      "Tokens Read = 1247\n",
      "Tokens Changed =  8\n",
      "References Changed = 8\n"
     ]
    }
   ],
   "source": [
    "import DWM1_Tokenizer\n",
    "import DWM2_Global_Token_Replace_NewDict\n",
    "import DWM3_Entropy_Cluster\n",
    "# Settings for Tokenizer\n",
    "inputSampleName = r'S2'\n",
    "delimiter=','\n",
    "hasHeader = True\n",
    "tokenizerType = 'Splitter'\n",
    "removeDuplicateTokens = True\n",
    "\n",
    "# Setting for global replacement DWM2\n",
    "runReplacement = True\n",
    "minFreqStdToken = 5\n",
    "minLenStdToken = 3\n",
    "maxFreqErrToken = 3\n",
    "\n",
    "# Cluster Settings\n",
    "\n",
    "\n",
    "DWM1_Tokenizer.tokenizeCycle(inputSampleName, delimiter, hasHeader, removeDuplicateTokens, tokenizerType)\n",
    "prefixString = inputSampleName +','+tokenizerType+','+str(removeDuplicateTokens)\n",
    "fileToCluster = inputSampleName + '-Tokenized.txt'\n",
    "if runReplacement:\n",
    "    DWM2_Global_Token_Replace_NewDict.globalReplace(inputSampleName, minFreqStdToken, minLenStdToken, maxFreqErrToken)\n",
    "    fileToCluster = inputSampleName + '-TokenReplace.txt'\n",
    "    prefixString = prefixString+','+str(minFreqStdToken)+','+str(minLenStdToken)+','+str(maxFreqErrToken)\n",
    "else:\n",
    "    prefixString = prefixString+',0,0,0'\n",
    "\n",
    "# Cluster fixed settings\n",
    "epsilonIterate = 0.0\n",
    "runClusterMetrics = False\n",
    "runFinalMetrics = True\n",
    "createFinalJoin = False"
   ]
  },
  {
   "cell_type": "code",
   "execution_count": 2,
   "metadata": {},
   "outputs": [],
   "source": [
    "status=\"done\""
   ]
  },
  {
   "cell_type": "code",
   "execution_count": 3,
   "metadata": {},
   "outputs": [
    {
     "name": "stdout",
     "output_type": "stream",
     "text": [
      "done\n"
     ]
    }
   ],
   "source": [
    "print(status)"
   ]
  },
  {
   "cell_type": "code",
   "execution_count": 4,
   "metadata": {
    "ExecuteTime": {
     "end_time": "2020-09-03T15:11:39.765508Z",
     "start_time": "2020-09-03T15:03:19.495876Z"
    },
    "scrolled": false
   },
   "outputs": [],
   "source": [
    "# # Cluster Robot Settings\n",
    "# muStart = 0.60\n",
    "# muEnd = 0.60\n",
    "# muIncr = 0.05\n",
    "# betaStart = 14\n",
    "# betaEnd = 14\n",
    "# betaIncr = 1\n",
    "# sigmaStart = 145\n",
    "# sigmaEnd = 145\n",
    "# sigmaIncr = 1\n",
    "# epsilonStart = 35\n",
    "# epsilonEnd = 35\n",
    "# epsilonIncr = 1\n",
    "# mu = muStart\n",
    "# while mu <= muEnd:\n",
    "#     beta = betaStart\n",
    "#     while beta <= betaEnd:\n",
    "#         sigma = sigmaStart\n",
    "#         while sigma <= sigmaEnd:\n",
    "#             epsilon = epsilonStart\n",
    "#             while epsilon <= epsilonEnd:\n",
    "#                 suffixString =','+str(epsilon)+','+str(epsilonIterate)\n",
    "#                 resultsList = DWM3_Entropy_Cluster.driver(fileToCluster, beta, sigma, mu, muIncr,epsilon,  \\\n",
    "#                                                      epsilonIterate,runClusterMetrics, runFinalMetrics, createFinalJoin, hasHeader)\n",
    "#                 seg0a = ','+str(resultsList[0])+','+str(resultsList[1])+','+str(resultsList[2])+','+str(resultsList[3])\n",
    "#                 seg0b =','+str(resultsList[4])+','+str(resultsList[5])+','+str(resultsList[6])\n",
    "#                 seg1 = ','+str(beta)+','+str(sigma)+','+str(mu)+ ',' +str(muIncr)\n",
    "#                 seg2 = ','+str(resultsList[7])+','+str(resultsList[8])+','+str(resultsList[9])\n",
    "#                 outString = prefixString+seg0a+seg0b+suffixString+seg1+seg2+'\\n'\n",
    "#                 resultsFile = open('RobotResults.txt','a+')\n",
    "#                 resultsFile.write(outString)\n",
    "#                 resultsFile.close()\n",
    "#                 epsilon = epsilon + epsilonIncr\n",
    "#             sigma = sigma + sigmaIncr\n",
    "#         beta = beta + betaIncr\n",
    "#     mu = mu + muIncr\n",
    "\n",
    "\n",
    " "
   ]
  },
  {
   "cell_type": "markdown",
   "metadata": {
    "ExecuteTime": {
     "end_time": "2020-09-03T16:36:26.229783Z",
     "start_time": "2020-09-03T16:36:26.227755Z"
    }
   },
   "source": [
    "## Bayesian Optimization of Hyperparameters"
   ]
  },
  {
   "cell_type": "code",
   "execution_count": 4,
   "metadata": {},
   "outputs": [],
   "source": [
    "import numpy as np"
   ]
  },
  {
   "cell_type": "markdown",
   "metadata": {
    "ExecuteTime": {
     "end_time": "2020-09-03T16:36:47.947518Z",
     "start_time": "2020-09-03T16:36:47.944251Z"
    }
   },
   "source": [
    "Create a function of the parameters that returns the F score"
   ]
  },
  {
   "cell_type": "code",
   "execution_count": 5,
   "metadata": {
    "ExecuteTime": {
     "end_time": "2020-09-03T21:59:42.561300Z",
     "start_time": "2020-09-03T21:59:42.557193Z"
    }
   },
   "outputs": [],
   "source": [
    "def entropy_F1(beta=14,sigma=145,mu=0.6,muIncr=0.05,epsilon=35,epsilonIterate=0):\n",
    "    resultsList = DWM3_Entropy_Cluster.driver(fileToCluster, \n",
    "                                  beta, \n",
    "                                  sigma, \n",
    "                                  mu, \n",
    "                                  muIncr,\n",
    "                                  epsilon,\n",
    "                                  epsilonIterate,\n",
    "                                  runClusterMetrics, \n",
    "                                  runFinalMetrics, \n",
    "                                  createFinalJoin, \n",
    "                                  hasHeader)\n",
    "    return resultsList[9]"
   ]
  },
  {
   "cell_type": "code",
   "execution_count": 37,
   "metadata": {
    "ExecuteTime": {
     "end_time": "2020-09-03T22:06:32.164588Z",
     "start_time": "2020-09-03T21:59:43.696518Z"
    }
   },
   "outputs": [
    {
     "name": "stdout",
     "output_type": "stream",
     "text": [
      "\n",
      ">>>>>>>>>>>>\n",
      "Starting Iteration mu= 0.5\n",
      "Starting Iteration epsilon= 4.7\n",
      "Running NewMatrix Jar!\n",
      " Single-Reference Blocks = 1\n",
      "\n",
      " Multi-Reference Blocks = 205\n",
      "NewMatrix Iterateblocks Total Time = 0.29827013704925776\n",
      "\n",
      "\n",
      ">>>>>>>>>>>>\n",
      "Starting Iteration mu= 0.55\n",
      "Starting Iteration epsilon= 4.7\n",
      "Running NewMatrix Jar!\n",
      " Single-Reference Blocks = 1\n",
      "\n",
      " Multi-Reference Blocks = 75\n",
      "NewMatrix Iterateblocks Total Time = 0.20764845330268145\n",
      "\n",
      "\n",
      ">>>>>>>>>>>>\n",
      "Starting Iteration mu= 0.6000000000000001\n",
      "Starting Iteration epsilon= 4.7\n",
      "Running NewMatrix Jar!\n",
      " Single-Reference Blocks = 1\n",
      "\n",
      " Multi-Reference Blocks = 38\n",
      "NewMatrix Iterateblocks Total Time = 0.16078387014567852\n",
      "\n",
      "\n",
      ">>>>>>>>>>>>\n",
      "Starting Iteration mu= 0.6500000000000001\n",
      "Starting Iteration epsilon= 4.7\n",
      "Running NewMatrix Jar!\n",
      " Single-Reference Blocks = 1\n",
      "\n",
      " Multi-Reference Blocks = 35\n",
      "NewMatrix Iterateblocks Total Time = 0.15738950856029987\n",
      "\n",
      "\n",
      ">>>>>>>>>>>>\n",
      "Starting Iteration mu= 0.7000000000000002\n",
      "Starting Iteration epsilon= 4.7\n",
      "Running NewMatrix Jar!\n",
      " Single-Reference Blocks = 1\n",
      "\n",
      " Multi-Reference Blocks = 35\n",
      "NewMatrix Iterateblocks Total Time = 0.15848284028470516\n",
      "\n",
      "\n",
      ">>>>>>>>>>>>\n",
      "Starting Iteration mu= 0.7500000000000002\n",
      "Starting Iteration epsilon= 4.7\n",
      "Running NewMatrix Jar!\n",
      " Single-Reference Blocks = 1\n",
      "\n",
      " Multi-Reference Blocks = 32\n",
      "NewMatrix Iterateblocks Total Time = 0.15263652708381414\n",
      "\n",
      "Precision = TP / (TP + FP) ......................... = 0.87755102\n",
      "Recall = TP / (TP + FN) ............................ = 0.89583333\n",
      "F-Measure .......................................... = 0.88659794\n"
     ]
    },
    {
     "data": {
      "text/plain": [
       "0.88659794"
      ]
     },
     "execution_count": 37,
     "metadata": {},
     "output_type": "execute_result"
    }
   ],
   "source": [
    "entropy_F1(mu=0.5,muIncr=0.05,beta=6,sigma=7,epsilon=4.7,epsilonIterate=0)"
   ]
  },
  {
   "cell_type": "markdown",
   "metadata": {},
   "source": [
    "Create functions for variable transformation."
   ]
  },
  {
   "cell_type": "code",
   "execution_count": 7,
   "metadata": {
    "ExecuteTime": {
     "end_time": "2020-09-03T22:08:18.856511Z",
     "start_time": "2020-09-03T22:08:18.853611Z"
    }
   },
   "outputs": [],
   "source": [
    "#Softplus to transform real domain into positive\n",
    "def softplus(x):\n",
    "    return np.log(1+np.exp(x))\n",
    "\n",
    "def inv_softplus(x):\n",
    "    return np.log(np.exp(x)-1)"
   ]
  },
  {
   "cell_type": "code",
   "execution_count": 8,
   "metadata": {
    "ExecuteTime": {
     "end_time": "2020-09-03T22:08:27.349548Z",
     "start_time": "2020-09-03T22:08:27.345752Z"
    }
   },
   "outputs": [
    {
     "data": {
      "text/plain": [
       "0.541324854612918"
      ]
     },
     "execution_count": 8,
     "metadata": {},
     "output_type": "execute_result"
    }
   ],
   "source": [
    "inv_softplus(1)"
   ]
  },
  {
   "cell_type": "code",
   "execution_count": 10,
   "metadata": {
    "ExecuteTime": {
     "end_time": "2020-09-03T22:11:24.939913Z",
     "start_time": "2020-09-03T22:11:24.936639Z"
    }
   },
   "outputs": [],
   "source": [
    "#Logit to transform real domain into 0-1\n",
    "def logit(x):    \n",
    "    return np.log(x+1e-54)-np.log(1-x+1e-54)\n",
    "\n",
    "def inv_logit(x):\n",
    "    res=np.exp(x)/(np.exp(x)+1)-2*1e-54\n",
    "    if res<1e-54:\n",
    "        res=0\n",
    "    return res"
   ]
  },
  {
   "cell_type": "markdown",
   "metadata": {},
   "source": [
    "Import BO library:"
   ]
  },
  {
   "cell_type": "code",
   "execution_count": 11,
   "metadata": {
    "ExecuteTime": {
     "end_time": "2020-09-03T22:08:30.622144Z",
     "start_time": "2020-09-03T22:08:30.226842Z"
    }
   },
   "outputs": [],
   "source": [
    "from bayes_opt import BayesianOptimization"
   ]
  },
  {
   "cell_type": "markdown",
   "metadata": {
    "ExecuteTime": {
     "end_time": "2020-09-03T18:14:39.927785Z",
     "start_time": "2020-09-03T18:14:39.924909Z"
    }
   },
   "source": [
    "Create dictionary bounds for the parameters:"
   ]
  },
  {
   "cell_type": "code",
   "execution_count": 12,
   "metadata": {},
   "outputs": [],
   "source": [
    "import os, sys"
   ]
  },
  {
   "cell_type": "code",
   "execution_count": 13,
   "metadata": {},
   "outputs": [],
   "source": [
    "class HiddenPrints:\n",
    "    def __enter__(self):\n",
    "        self._original_stdout = sys.stdout\n",
    "        sys.stdout = open(os.devnull, 'w')\n",
    "\n",
    "    def __exit__(self, exc_type, exc_val, exc_tb):\n",
    "        sys.stdout.close()\n",
    "        sys.stdout = self._original_stdout"
   ]
  },
  {
   "cell_type": "code",
   "execution_count": 14,
   "metadata": {},
   "outputs": [
    {
     "name": "stdout",
     "output_type": "stream",
     "text": [
      "This will be printed as before\n"
     ]
    }
   ],
   "source": [
    "with HiddenPrints():\n",
    "    print(\"This will not be printed\")\n",
    "\n",
    "print(\"This will be printed as before\")"
   ]
  },
  {
   "cell_type": "code",
   "execution_count": 15,
   "metadata": {
    "ExecuteTime": {
     "end_time": "2020-09-03T22:11:53.005154Z",
     "start_time": "2020-09-03T22:11:53.000238Z"
    }
   },
   "outputs": [],
   "source": [
    "#Take parameters in transformed space and return f score in transformed space\n",
    "def entropy_F1_trx(beta_sp,sigma_sp,mu_logit,muIncr_logit,epsilon_sp,epsilonIterate_logit=logit(0)):\n",
    "    beta_pos=int(softplus(beta_sp))\n",
    "    sigma_pos=int(softplus(sigma_sp))\n",
    "    mu_01=inv_logit(mu_logit)\n",
    "    muIncr_01=inv_logit(muIncr_logit)\n",
    "    epsilon_pos=softplus(epsilon_sp)\n",
    "    epsilonIterate_01=inv_logit(epsilonIterate_logit)\n",
    "    \n",
    "    print(\"Mu:%.2f|Mu+:%.2f|Beta:%.2f|Sigma:%.2f|Epsilon:%.2f|EpIter:%.2f\" % (mu_01, muIncr_01, beta_pos, sigma_pos, epsilon_pos, epsilonIterate_01))\n",
    "    \n",
    "    with HiddenPrints():\n",
    "        f1=entropy_F1(beta=beta_pos,\n",
    "                      epsilon=epsilon_pos,\n",
    "                      epsilonIterate=epsilonIterate_01,\n",
    "                      muIncr=muIncr_01,\n",
    "                      sigma=sigma_pos,\n",
    "                      mu=mu_01)\n",
    "    \n",
    "    return logit(f1)"
   ]
  },
  {
   "cell_type": "code",
   "execution_count": 16,
   "metadata": {},
   "outputs": [
    {
     "name": "stdout",
     "output_type": "stream",
     "text": [
      "Mu:0.50|Mu+:0.05|Beta:33.00|Sigma:449.00|Epsilon:31.80|EpIter:0.00\n"
     ]
    },
    {
     "data": {
      "text/plain": [
       "-0.7586617742112225"
      ]
     },
     "execution_count": 16,
     "metadata": {},
     "output_type": "execute_result"
    }
   ],
   "source": [
    "entropy_F1_trx(beta_sp=inv_softplus(33),\n",
    "               sigma_sp=inv_softplus(449),\n",
    "               mu_logit=logit(0.5),\n",
    "               muIncr_logit=logit(0.05),\n",
    "               epsilon_sp=inv_softplus(31.8))"
   ]
  },
  {
   "cell_type": "code",
   "execution_count": 28,
   "metadata": {},
   "outputs": [],
   "source": [
    "optimizer=None"
   ]
  },
  {
   "cell_type": "code",
   "execution_count": 29,
   "metadata": {
    "ExecuteTime": {
     "end_time": "2020-09-03T22:11:50.787503Z",
     "start_time": "2020-09-03T22:11:50.784060Z"
    }
   },
   "outputs": [],
   "source": [
    "pbounds = {'beta_sp': (inv_softplus(1), inv_softplus(700)), \n",
    "           'sigma_sp': (inv_softplus(1), inv_softplus(700)),\n",
    "           'mu_logit': (logit(0.5), logit(0.99)),\n",
    "           'muIncr_logit': (logit(0.01), logit(0.2)),\n",
    "           'epsilon_sp': (inv_softplus(1), inv_softplus(700))}#,\n",
    "           #'epsilonIterate_logit': (logit(0), logit(0.25))}"
   ]
  },
  {
   "cell_type": "code",
   "execution_count": 30,
   "metadata": {},
   "outputs": [],
   "source": [
    "from bayes_opt import SequentialDomainReductionTransformer"
   ]
  },
  {
   "cell_type": "code",
   "execution_count": 31,
   "metadata": {},
   "outputs": [],
   "source": [
    "bounds_transformer = SequentialDomainReductionTransformer()"
   ]
  },
  {
   "cell_type": "code",
   "execution_count": 32,
   "metadata": {
    "ExecuteTime": {
     "end_time": "2020-09-03T22:11:56.728829Z",
     "start_time": "2020-09-03T22:11:56.725599Z"
    }
   },
   "outputs": [],
   "source": [
    "optimizer = BayesianOptimization(\n",
    "    f=entropy_F1_trx,\n",
    "    pbounds=pbounds,\n",
    "    random_state=1,\n",
    "    bounds_transformer=bounds_transformer\n",
    ")"
   ]
  },
  {
   "cell_type": "code",
   "execution_count": 33,
   "metadata": {},
   "outputs": [],
   "source": [
    "optimizer.probe(\n",
    "    params={\"beta_sp\": inv_softplus(6), \n",
    "            \"sigma_sp\": inv_softplus(7),\n",
    "            \"mu_logit\":logit(0.5),\n",
    "            #'epsilonIterate_logit': logit(0),\n",
    "            \"muIncr_logit\":logit(0.1),\n",
    "            \"epsilon_sp\":inv_softplus(4.7)},\n",
    "    lazy=True,\n",
    ")"
   ]
  },
  {
   "cell_type": "code",
   "execution_count": 34,
   "metadata": {
    "ExecuteTime": {
     "end_time": "2020-09-03T22:54:10.009085Z",
     "start_time": "2020-09-03T22:11:58.063246Z"
    }
   },
   "outputs": [
    {
     "name": "stdout",
     "output_type": "stream",
     "text": [
      "|   iter    |  target   |  beta_sp  | epsilo... | muIncr... | mu_logit  | sigma_sp  |\n",
      "-------------------------------------------------------------------------------------\n",
      "Mu:0.50|Mu+:0.10|Beta:6.00|Sigma:7.00|Epsilon:4.70|EpIter:0.00\n",
      "| \u001b[0m 1       \u001b[0m | \u001b[0m 1.946   \u001b[0m | \u001b[0m 5.998   \u001b[0m | \u001b[0m 4.691   \u001b[0m | \u001b[0m-2.197   \u001b[0m | \u001b[0m 0.0     \u001b[0m | \u001b[0m 6.999   \u001b[0m |\n",
      "Mu:0.80|Mu+:0.01|Beta:292.00|Sigma:103.00|Epsilon:504.38|EpIter:0.00\n",
      "| \u001b[0m 2       \u001b[0m | \u001b[0m 1.743   \u001b[0m | \u001b[0m 292.2   \u001b[0m | \u001b[0m 504.4   \u001b[0m | \u001b[0m-4.595   \u001b[0m | \u001b[0m 1.389   \u001b[0m | \u001b[0m 103.2   \u001b[0m |\n",
      "Mu:0.86|Mu+:0.03|Beta:65.00|Sigma:377.00|Epsilon:130.82|EpIter:0.00\n",
      "| \u001b[0m 3       \u001b[0m | \u001b[0m 1.792   \u001b[0m | \u001b[0m 65.13   \u001b[0m | \u001b[0m 130.8   \u001b[0m | \u001b[0m-3.486   \u001b[0m | \u001b[0m 1.823   \u001b[0m | \u001b[0m 377.4   \u001b[0m |\n",
      "Mu:0.98|Mu+:0.02|Beta:293.00|Sigma:19.00|Epsilon:479.82|EpIter:0.00\n",
      "| \u001b[0m 4       \u001b[0m | \u001b[0m 0.4418  \u001b[0m | \u001b[0m 293.8   \u001b[0m | \u001b[0m 479.8   \u001b[0m | \u001b[0m-3.939   \u001b[0m | \u001b[0m 4.035   \u001b[0m | \u001b[0m 19.7    \u001b[0m |\n",
      "Mu:0.66|Mu+:0.06|Beta:469.00|Sigma:139.00|Epsilon:292.43|EpIter:0.00\n",
      "| \u001b[0m 5       \u001b[0m | \u001b[0m 1.689   \u001b[0m | \u001b[0m 469.5   \u001b[0m | \u001b[0m 292.4   \u001b[0m | \u001b[0m-2.802   \u001b[0m | \u001b[0m 0.6451  \u001b[0m | \u001b[0m 139.1   \u001b[0m |\n",
      "Mu:0.96|Mu+:0.03|Beta:560.00|Sigma:613.00|Epsilon:677.80|EpIter:0.00\n",
      "| \u001b[0m 6       \u001b[0m | \u001b[0m 1.447   \u001b[0m | \u001b[0m 560.6   \u001b[0m | \u001b[0m 677.8   \u001b[0m | \u001b[0m-3.589   \u001b[0m | \u001b[0m 3.181   \u001b[0m | \u001b[0m 613.5   \u001b[0m |\n",
      "Mu:0.69|Mu+:0.01|Beta:626.00|Sigma:614.00|Epsilon:60.03|EpIter:0.00\n",
      "| \u001b[0m 7       \u001b[0m | \u001b[0m 1.727   \u001b[0m | \u001b[0m 626.3   \u001b[0m | \u001b[0m 60.03   \u001b[0m | \u001b[0m-4.47    \u001b[0m | \u001b[0m 0.7804  \u001b[0m | \u001b[0m 614.8   \u001b[0m |\n",
      "Mu:0.92|Mu+:0.18|Beta:69.00|Sigma:484.00|Epsilon:295.09|EpIter:0.00\n",
      "| \u001b[0m 8       \u001b[0m | \u001b[0m 1.739   \u001b[0m | \u001b[0m 69.33   \u001b[0m | \u001b[0m 295.1   \u001b[0m | \u001b[0m-1.521   \u001b[0m | \u001b[0m 2.45    \u001b[0m | \u001b[0m 484.5   \u001b[0m |\n",
      "Mu:0.52|Mu+:0.13|Beta:221.00|Sigma:525.00|Epsilon:480.72|EpIter:0.00\n",
      "| \u001b[0m 9       \u001b[0m | \u001b[0m-3.035   \u001b[0m | \u001b[0m 221.2   \u001b[0m | \u001b[0m 480.7   \u001b[0m | \u001b[0m-1.917   \u001b[0m | \u001b[0m 0.08404 \u001b[0m | \u001b[0m 525.2   \u001b[0m |\n",
      "Mu:0.97|Mu+:0.02|Beta:692.00|Sigma:72.00|Epsilon:523.85|EpIter:0.00\n",
      "| \u001b[0m 10      \u001b[0m | \u001b[0m 1.269   \u001b[0m | \u001b[0m 692.2   \u001b[0m | \u001b[0m 523.9   \u001b[0m | \u001b[0m-3.695   \u001b[0m | \u001b[0m 3.627   \u001b[0m | \u001b[0m 72.74   \u001b[0m |\n",
      "Mu:0.79|Mu+:0.03|Beta:313.00|Sigma:91.00|Epsilon:636.07|EpIter:0.00\n",
      "| \u001b[0m 11      \u001b[0m | \u001b[0m 1.743   \u001b[0m | \u001b[0m 313.8   \u001b[0m | \u001b[0m 636.1   \u001b[0m | \u001b[0m-3.653   \u001b[0m | \u001b[0m 1.322   \u001b[0m | \u001b[0m 91.49   \u001b[0m |\n",
      "Mu:0.56|Mu+:0.14|Beta:6.00|Sigma:8.00|Epsilon:5.40|EpIter:0.00\n",
      "| \u001b[0m 12      \u001b[0m | \u001b[0m 1.609   \u001b[0m | \u001b[0m 6.452   \u001b[0m | \u001b[0m 5.395   \u001b[0m | \u001b[0m-1.856   \u001b[0m | \u001b[0m 0.2318  \u001b[0m | \u001b[0m 8.746   \u001b[0m |\n",
      "Mu:0.50|Mu+:0.07|Beta:52.00|Sigma:1.00|Epsilon:1.00|EpIter:0.00\n",
      "| \u001b[0m 13      \u001b[0m | \u001b[0m-124.3   \u001b[0m | \u001b[0m 52.75   \u001b[0m | \u001b[0m 0.5413  \u001b[0m | \u001b[0m-2.593   \u001b[0m | \u001b[0m 0.0     \u001b[0m | \u001b[0m 0.5413  \u001b[0m |\n",
      "Mu:0.52|Mu+:0.11|Beta:6.00|Sigma:7.00|Epsilon:4.99|EpIter:0.00\n",
      "| \u001b[0m 14      \u001b[0m | \u001b[0m 1.842   \u001b[0m | \u001b[0m 6.068   \u001b[0m | \u001b[0m 4.979   \u001b[0m | \u001b[0m-2.061   \u001b[0m | \u001b[0m 0.0916  \u001b[0m | \u001b[0m 7.705   \u001b[0m |\n",
      "Mu:0.51|Mu+:0.11|Beta:5.00|Sigma:7.00|Epsilon:4.93|EpIter:0.00\n",
      "| \u001b[0m 15      \u001b[0m | \u001b[0m 1.946   \u001b[0m | \u001b[0m 5.243   \u001b[0m | \u001b[0m 4.918   \u001b[0m | \u001b[0m-2.117   \u001b[0m | \u001b[0m 0.04963 \u001b[0m | \u001b[0m 7.494   \u001b[0m |\n",
      "Mu:0.58|Mu+:0.13|Beta:4.00|Sigma:6.00|Epsilon:6.43|EpIter:0.00\n",
      "| \u001b[95m 16      \u001b[0m | \u001b[95m 2.056   \u001b[0m | \u001b[95m 4.74    \u001b[0m | \u001b[95m 6.425   \u001b[0m | \u001b[95m-1.914   \u001b[0m | \u001b[95m 0.3315  \u001b[0m | \u001b[95m 6.844   \u001b[0m |\n",
      "Mu:0.66|Mu+:0.16|Beta:3.00|Sigma:7.00|Epsilon:4.72|EpIter:0.00\n",
      "| \u001b[0m 17      \u001b[0m | \u001b[0m 0.6131  \u001b[0m | \u001b[0m 3.028   \u001b[0m | \u001b[0m 4.712   \u001b[0m | \u001b[0m-1.669   \u001b[0m | \u001b[0m 0.6744  \u001b[0m | \u001b[0m 7.899   \u001b[0m |\n",
      "Mu:0.51|Mu+:0.11|Beta:6.00|Sigma:5.00|Epsilon:7.39|EpIter:0.00\n",
      "| \u001b[0m 18      \u001b[0m | \u001b[0m 1.838   \u001b[0m | \u001b[0m 6.828   \u001b[0m | \u001b[0m 7.388   \u001b[0m | \u001b[0m-2.135   \u001b[0m | \u001b[0m 0.02286 \u001b[0m | \u001b[0m 5.455   \u001b[0m |\n",
      "Mu:0.51|Mu+:0.11|Beta:6.00|Sigma:8.00|Epsilon:9.12|EpIter:0.00\n",
      "| \u001b[0m 19      \u001b[0m | \u001b[0m 1.433   \u001b[0m | \u001b[0m 6.223   \u001b[0m | \u001b[0m 9.116   \u001b[0m | \u001b[0m-2.113   \u001b[0m | \u001b[0m 0.05372 \u001b[0m | \u001b[0m 8.485   \u001b[0m |\n",
      "Mu:0.52|Mu+:0.15|Beta:5.00|Sigma:3.00|Epsilon:6.49|EpIter:0.00\n",
      "| \u001b[0m 20      \u001b[0m | \u001b[0m-2.442   \u001b[0m | \u001b[0m 5.669   \u001b[0m | \u001b[0m 6.492   \u001b[0m | \u001b[0m-1.735   \u001b[0m | \u001b[0m 0.0815  \u001b[0m | \u001b[0m 3.233   \u001b[0m |\n",
      "Mu:0.53|Mu+:0.11|Beta:7.00|Sigma:11.00|Epsilon:6.33|EpIter:0.00\n",
      "| \u001b[0m 21      \u001b[0m | \u001b[0m 1.54    \u001b[0m | \u001b[0m 7.168   \u001b[0m | \u001b[0m 6.325   \u001b[0m | \u001b[0m-2.075   \u001b[0m | \u001b[0m 0.1065  \u001b[0m | \u001b[0m 11.07   \u001b[0m |\n",
      "Mu:0.53|Mu+:0.11|Beta:4.00|Sigma:11.00|Epsilon:7.49|EpIter:0.00\n",
      "| \u001b[0m 22      \u001b[0m | \u001b[0m 1.889   \u001b[0m | \u001b[0m 4.035   \u001b[0m | \u001b[0m 7.493   \u001b[0m | \u001b[0m-2.059   \u001b[0m | \u001b[0m 0.129   \u001b[0m | \u001b[0m 11.38   \u001b[0m |\n",
      "Mu:0.54|Mu+:0.11|Beta:6.00|Sigma:12.00|Epsilon:3.57|EpIter:0.00\n",
      "| \u001b[95m 23      \u001b[0m | \u001b[95m 2.351   \u001b[0m | \u001b[95m 6.685   \u001b[0m | \u001b[95m 3.541   \u001b[0m | \u001b[95m-2.044   \u001b[0m | \u001b[95m 0.1493  \u001b[0m | \u001b[95m 12.06   \u001b[0m |\n",
      "Mu:0.58|Mu+:0.10|Beta:9.00|Sigma:11.00|Epsilon:5.70|EpIter:0.00\n",
      "| \u001b[0m 24      \u001b[0m | \u001b[0m 1.658   \u001b[0m | \u001b[0m 9.827   \u001b[0m | \u001b[0m 5.696   \u001b[0m | \u001b[0m-2.155   \u001b[0m | \u001b[0m 0.3042  \u001b[0m | \u001b[0m 11.66   \u001b[0m |\n",
      "Mu:0.50|Mu+:0.10|Beta:4.00|Sigma:13.00|Epsilon:3.70|EpIter:0.00\n",
      "| \u001b[0m 25      \u001b[0m | \u001b[0m 2.128   \u001b[0m | \u001b[0m 4.029   \u001b[0m | \u001b[0m 3.671   \u001b[0m | \u001b[0m-2.144   \u001b[0m | \u001b[0m 0.00983 \u001b[0m | \u001b[0m 13.71   \u001b[0m |\n",
      "Mu:0.51|Mu+:0.11|Beta:5.00|Sigma:14.00|Epsilon:8.38|EpIter:0.00\n",
      "| \u001b[0m 26      \u001b[0m | \u001b[0m 1.159   \u001b[0m | \u001b[0m 5.34    \u001b[0m | \u001b[0m 8.384   \u001b[0m | \u001b[0m-2.134   \u001b[0m | \u001b[0m 0.02377 \u001b[0m | \u001b[0m 14.8    \u001b[0m |\n",
      "Mu:0.51|Mu+:0.11|Beta:6.00|Sigma:12.00|Epsilon:1.00|EpIter:0.00\n",
      "| \u001b[0m 27      \u001b[0m | \u001b[0m 0.3567  \u001b[0m | \u001b[0m 6.799   \u001b[0m | \u001b[0m 0.5413  \u001b[0m | \u001b[0m-2.125   \u001b[0m | \u001b[0m 0.03632 \u001b[0m | \u001b[0m 12.37   \u001b[0m |\n",
      "Mu:0.51|Mu+:0.11|Beta:1.00|Sigma:12.00|Epsilon:6.03|EpIter:0.00\n",
      "| \u001b[0m 28      \u001b[0m | \u001b[0m-124.3   \u001b[0m | \u001b[0m 0.5413  \u001b[0m | \u001b[0m 6.025   \u001b[0m | \u001b[0m-2.117   \u001b[0m | \u001b[0m 0.04761 \u001b[0m | \u001b[0m 12.65   \u001b[0m |\n",
      "Mu:0.55|Mu+:0.12|Beta:5.00|Sigma:7.00|Epsilon:5.85|EpIter:0.00\n",
      "| \u001b[0m 29      \u001b[0m | \u001b[0m 1.386   \u001b[0m | \u001b[0m 5.638   \u001b[0m | \u001b[0m 5.843   \u001b[0m | \u001b[0m-2.002   \u001b[0m | \u001b[0m 0.1888  \u001b[0m | \u001b[0m 7.473   \u001b[0m |\n",
      "Mu:0.56|Mu+:0.12|Beta:5.00|Sigma:7.00|Epsilon:5.61|EpIter:0.00\n",
      "| \u001b[0m 30      \u001b[0m | \u001b[0m 1.386   \u001b[0m | \u001b[0m 5.35    \u001b[0m | \u001b[0m 5.608   \u001b[0m | \u001b[0m-1.985   \u001b[0m | \u001b[0m 0.2316  \u001b[0m | \u001b[0m 7.775   \u001b[0m |\n",
      "Mu:0.53|Mu+:0.12|Beta:5.00|Sigma:6.00|Epsilon:5.83|EpIter:0.00\n",
      "| \u001b[0m 31      \u001b[0m | \u001b[0m 1.386   \u001b[0m | \u001b[0m 5.795   \u001b[0m | \u001b[0m 5.827   \u001b[0m | \u001b[0m-2.035   \u001b[0m | \u001b[0m 0.125   \u001b[0m | \u001b[0m 6.955   \u001b[0m |\n",
      "Mu:0.52|Mu+:0.11|Beta:5.00|Sigma:7.00|Epsilon:5.94|EpIter:0.00\n",
      "| \u001b[0m 32      \u001b[0m | \u001b[0m 1.621   \u001b[0m | \u001b[0m 5.988   \u001b[0m | \u001b[0m 5.935   \u001b[0m | \u001b[0m-2.092   \u001b[0m | \u001b[0m 0.08257 \u001b[0m | \u001b[0m 7.82    \u001b[0m |\n",
      "Mu:0.55|Mu+:0.12|Beta:5.00|Sigma:7.00|Epsilon:5.44|EpIter:0.00\n",
      "| \u001b[0m 33      \u001b[0m | \u001b[0m 1.609   \u001b[0m | \u001b[0m 5.16    \u001b[0m | \u001b[0m 5.435   \u001b[0m | \u001b[0m-2.001   \u001b[0m | \u001b[0m 0.2093  \u001b[0m | \u001b[0m 7.121   \u001b[0m |\n",
      "Mu:0.55|Mu+:0.12|Beta:5.00|Sigma:8.00|Epsilon:5.31|EpIter:0.00\n",
      "| \u001b[0m 34      \u001b[0m | \u001b[0m 1.609   \u001b[0m | \u001b[0m 5.464   \u001b[0m | \u001b[0m 5.3     \u001b[0m | \u001b[0m-2.006   \u001b[0m | \u001b[0m 0.2033  \u001b[0m | \u001b[0m 8.092   \u001b[0m |\n",
      "Mu:0.55|Mu+:0.12|Beta:6.00|Sigma:7.00|Epsilon:5.49|EpIter:0.00\n",
      "| \u001b[0m 35      \u001b[0m | \u001b[0m 1.609   \u001b[0m | \u001b[0m 6.125   \u001b[0m | \u001b[0m 5.481   \u001b[0m | \u001b[0m-2.009   \u001b[0m | \u001b[0m 0.1979  \u001b[0m | \u001b[0m 7.33    \u001b[0m |\n",
      "Mu:0.53|Mu+:0.11|Beta:5.00|Sigma:7.00|Epsilon:6.55|EpIter:0.00\n",
      "| \u001b[0m 36      \u001b[0m | \u001b[0m 1.386   \u001b[0m | \u001b[0m 5.792   \u001b[0m | \u001b[0m 6.551   \u001b[0m | \u001b[0m-2.075   \u001b[0m | \u001b[0m 0.1092  \u001b[0m | \u001b[0m 7.112   \u001b[0m |\n",
      "Mu:0.53|Mu+:0.11|Beta:5.00|Sigma:7.00|Epsilon:6.06|EpIter:0.00\n",
      "| \u001b[0m 37      \u001b[0m | \u001b[0m 1.386   \u001b[0m | \u001b[0m 5.064   \u001b[0m | \u001b[0m 6.054   \u001b[0m | \u001b[0m-2.072   \u001b[0m | \u001b[0m 0.1099  \u001b[0m | \u001b[0m 7.726   \u001b[0m |\n",
      "Mu:0.53|Mu+:0.11|Beta:5.00|Sigma:6.00|Epsilon:5.60|EpIter:0.00\n",
      "| \u001b[0m 38      \u001b[0m | \u001b[0m 1.386   \u001b[0m | \u001b[0m 5.387   \u001b[0m | \u001b[0m 5.601   \u001b[0m | \u001b[0m-2.07    \u001b[0m | \u001b[0m 0.1138  \u001b[0m | \u001b[0m 6.754   \u001b[0m |\n",
      "Mu:0.55|Mu+:0.12|Beta:5.00|Sigma:8.00|Epsilon:6.33|EpIter:0.00\n",
      "| \u001b[0m 39      \u001b[0m | \u001b[0m 1.386   \u001b[0m | \u001b[0m 5.86    \u001b[0m | \u001b[0m 6.325   \u001b[0m | \u001b[0m-2.021   \u001b[0m | \u001b[0m 0.1811  \u001b[0m | \u001b[0m 8.307   \u001b[0m |\n"
     ]
    },
    {
     "name": "stdout",
     "output_type": "stream",
     "text": [
      "Mu:0.53|Mu+:0.11|Beta:6.00|Sigma:7.00|Epsilon:5.71|EpIter:0.00\n",
      "| \u001b[0m 40      \u001b[0m | \u001b[0m 1.386   \u001b[0m | \u001b[0m 6.404   \u001b[0m | \u001b[0m 5.705   \u001b[0m | \u001b[0m-2.065   \u001b[0m | \u001b[0m 0.1205  \u001b[0m | \u001b[0m 7.69    \u001b[0m |\n",
      "Mu:0.53|Mu+:0.11|Beta:5.00|Sigma:8.00|Epsilon:5.16|EpIter:0.00\n",
      "| \u001b[0m 41      \u001b[0m | \u001b[0m 1.842   \u001b[0m | \u001b[0m 5.757   \u001b[0m | \u001b[0m 5.152   \u001b[0m | \u001b[0m-2.063   \u001b[0m | \u001b[0m 0.1234  \u001b[0m | \u001b[0m 8.173   \u001b[0m |\n",
      "Mu:0.53|Mu+:0.11|Beta:5.00|Sigma:8.00|Epsilon:5.75|EpIter:0.00\n",
      "| \u001b[0m 42      \u001b[0m | \u001b[0m 1.386   \u001b[0m | \u001b[0m 5.566   \u001b[0m | \u001b[0m 5.745   \u001b[0m | \u001b[0m-2.061   \u001b[0m | \u001b[0m 0.126   \u001b[0m | \u001b[0m 8.708   \u001b[0m |\n",
      "Mu:0.53|Mu+:0.11|Beta:6.00|Sigma:9.00|Epsilon:6.30|EpIter:0.00\n",
      "| \u001b[0m 43      \u001b[0m | \u001b[0m 1.54    \u001b[0m | \u001b[0m 6.231   \u001b[0m | \u001b[0m 6.294   \u001b[0m | \u001b[0m-2.059   \u001b[0m | \u001b[0m 0.1283  \u001b[0m | \u001b[0m 9.357   \u001b[0m |\n",
      "Mu:0.53|Mu+:0.11|Beta:6.00|Sigma:10.00|Epsilon:5.61|EpIter:0.00\n",
      "| \u001b[0m 44      \u001b[0m | \u001b[0m 1.54    \u001b[0m | \u001b[0m 6.351   \u001b[0m | \u001b[0m 5.608   \u001b[0m | \u001b[0m-2.058   \u001b[0m | \u001b[0m 0.1371  \u001b[0m | \u001b[0m 10.05   \u001b[0m |\n",
      "Mu:0.54|Mu+:0.12|Beta:5.00|Sigma:10.00|Epsilon:6.39|EpIter:0.00\n",
      "| \u001b[0m 45      \u001b[0m | \u001b[0m 1.54    \u001b[0m | \u001b[0m 5.753   \u001b[0m | \u001b[0m 6.387   \u001b[0m | \u001b[0m-2.032   \u001b[0m | \u001b[0m 0.1603  \u001b[0m | \u001b[0m 10.24   \u001b[0m |\n",
      "Mu:0.54|Mu+:0.11|Beta:6.00|Sigma:11.00|Epsilon:5.16|EpIter:0.00\n",
      "| \u001b[0m 46      \u001b[0m | \u001b[0m 1.946   \u001b[0m | \u001b[0m 6.563   \u001b[0m | \u001b[0m 5.152   \u001b[0m | \u001b[0m-2.048   \u001b[0m | \u001b[0m 0.1554  \u001b[0m | \u001b[0m 11.02   \u001b[0m |\n",
      "Mu:0.54|Mu+:0.11|Beta:5.00|Sigma:9.00|Epsilon:5.13|EpIter:0.00\n",
      "| \u001b[0m 47      \u001b[0m | \u001b[0m 1.946   \u001b[0m | \u001b[0m 5.85    \u001b[0m | \u001b[0m 5.12    \u001b[0m | \u001b[0m-2.054   \u001b[0m | \u001b[0m 0.163   \u001b[0m | \u001b[0m 9.76    \u001b[0m |\n",
      "Mu:0.54|Mu+:0.11|Beta:7.00|Sigma:10.00|Epsilon:5.30|EpIter:0.00\n",
      "| \u001b[0m 48      \u001b[0m | \u001b[0m 1.946   \u001b[0m | \u001b[0m 7.053   \u001b[0m | \u001b[0m 5.297   \u001b[0m | \u001b[0m-2.053   \u001b[0m | \u001b[0m 0.1616  \u001b[0m | \u001b[0m 10.17   \u001b[0m |\n",
      "Mu:0.53|Mu+:0.11|Beta:6.00|Sigma:10.00|Epsilon:4.43|EpIter:0.00\n",
      "| \u001b[0m 49      \u001b[0m | \u001b[0m 2.257   \u001b[0m | \u001b[0m 6.535   \u001b[0m | \u001b[0m 4.418   \u001b[0m | \u001b[0m-2.052   \u001b[0m | \u001b[0m 0.1381  \u001b[0m | \u001b[0m 10.83   \u001b[0m |\n",
      "Mu:0.54|Mu+:0.11|Beta:7.00|Sigma:11.00|Epsilon:4.80|EpIter:0.00\n",
      "| \u001b[0m 50      \u001b[0m | \u001b[0m 1.946   \u001b[0m | \u001b[0m 7.317   \u001b[0m | \u001b[0m 4.789   \u001b[0m | \u001b[0m-2.051   \u001b[0m | \u001b[0m 0.1593  \u001b[0m | \u001b[0m 11.33   \u001b[0m |\n",
      "Mu:0.54|Mu+:0.11|Beta:6.00|Sigma:11.00|Epsilon:4.75|EpIter:0.00\n",
      "| \u001b[0m 51      \u001b[0m | \u001b[0m 1.946   \u001b[0m | \u001b[0m 6.238   \u001b[0m | \u001b[0m 4.738   \u001b[0m | \u001b[0m-2.051   \u001b[0m | \u001b[0m 0.1402  \u001b[0m | \u001b[0m 11.68   \u001b[0m |\n",
      "Mu:0.54|Mu+:0.12|Beta:5.00|Sigma:10.00|Epsilon:4.91|EpIter:0.00\n",
      "| \u001b[0m 52      \u001b[0m | \u001b[0m 1.946   \u001b[0m | \u001b[0m 5.897   \u001b[0m | \u001b[0m 4.903   \u001b[0m | \u001b[0m-2.038   \u001b[0m | \u001b[0m 0.1574  \u001b[0m | \u001b[0m 10.74   \u001b[0m |\n",
      "Mu:0.54|Mu+:0.11|Beta:6.00|Sigma:10.00|Epsilon:4.02|EpIter:0.00\n",
      "| \u001b[0m 53      \u001b[0m | \u001b[0m 2.257   \u001b[0m | \u001b[0m 6.844   \u001b[0m | \u001b[0m 3.997   \u001b[0m | \u001b[0m-2.049   \u001b[0m | \u001b[0m 0.1565  \u001b[0m | \u001b[0m 10.96   \u001b[0m |\n",
      "Mu:0.54|Mu+:0.11|Beta:6.00|Sigma:11.00|Epsilon:3.92|EpIter:0.00\n",
      "| \u001b[0m 54      \u001b[0m | \u001b[0m 2.257   \u001b[0m | \u001b[0m 6.02    \u001b[0m | \u001b[0m 3.904   \u001b[0m | \u001b[0m-2.049   \u001b[0m | \u001b[0m 0.1427  \u001b[0m | \u001b[0m 11.39   \u001b[0m |\n",
      "Mu:0.54|Mu+:0.11|Beta:6.00|Sigma:11.00|Epsilon:4.47|EpIter:0.00\n",
      "| \u001b[0m 55      \u001b[0m | \u001b[0m 2.257   \u001b[0m | \u001b[0m 6.874   \u001b[0m | \u001b[0m 4.46    \u001b[0m | \u001b[0m-2.048   \u001b[0m | \u001b[0m 0.1433  \u001b[0m | \u001b[0m 11.94   \u001b[0m |\n",
      "Mu:0.54|Mu+:0.11|Beta:5.00|Sigma:12.00|Epsilon:4.06|EpIter:0.00\n",
      "| \u001b[0m 56      \u001b[0m | \u001b[0m 2.257   \u001b[0m | \u001b[0m 5.888   \u001b[0m | \u001b[0m 4.04    \u001b[0m | \u001b[0m-2.048   \u001b[0m | \u001b[0m 0.1439  \u001b[0m | \u001b[0m 12.33   \u001b[0m |\n",
      "Mu:0.54|Mu+:0.11|Beta:7.00|Sigma:11.00|Epsilon:3.91|EpIter:0.00\n",
      "| \u001b[0m 57      \u001b[0m | \u001b[0m 2.257   \u001b[0m | \u001b[0m 7.136   \u001b[0m | \u001b[0m 3.888   \u001b[0m | \u001b[0m-2.048   \u001b[0m | \u001b[0m 0.1445  \u001b[0m | \u001b[0m 11.52   \u001b[0m |\n",
      "Mu:0.54|Mu+:0.11|Beta:6.00|Sigma:11.00|Epsilon:3.40|EpIter:0.00\n",
      "| \u001b[0m 58      \u001b[0m | \u001b[0m 2.351   \u001b[0m | \u001b[0m 6.203   \u001b[0m | \u001b[0m 3.362   \u001b[0m | \u001b[0m-2.047   \u001b[0m | \u001b[0m 0.1449  \u001b[0m | \u001b[0m 11.4    \u001b[0m |\n",
      "Mu:0.54|Mu+:0.11|Beta:6.00|Sigma:12.00|Epsilon:3.26|EpIter:0.00\n",
      "| \u001b[0m 59      \u001b[0m | \u001b[0m 2.351   \u001b[0m | \u001b[0m 6.032   \u001b[0m | \u001b[0m 3.224   \u001b[0m | \u001b[0m-2.047   \u001b[0m | \u001b[0m 0.1454  \u001b[0m | \u001b[0m 12.47   \u001b[0m |\n",
      "Mu:0.54|Mu+:0.11|Beta:6.00|Sigma:12.00|Epsilon:4.14|EpIter:0.00\n",
      "| \u001b[0m 60      \u001b[0m | \u001b[0m 2.257   \u001b[0m | \u001b[0m 6.579   \u001b[0m | \u001b[0m 4.127   \u001b[0m | \u001b[0m-2.047   \u001b[0m | \u001b[0m 0.1458  \u001b[0m | \u001b[0m 12.64   \u001b[0m |\n",
      "Mu:0.54|Mu+:0.11|Beta:6.00|Sigma:11.00|Epsilon:4.09|EpIter:0.00\n",
      "| \u001b[0m 61      \u001b[0m | \u001b[0m 2.257   \u001b[0m | \u001b[0m 6.156   \u001b[0m | \u001b[0m 4.069   \u001b[0m | \u001b[0m-2.046   \u001b[0m | \u001b[0m 0.1524  \u001b[0m | \u001b[0m 11.77   \u001b[0m |\n",
      "=====================================================================================\n"
     ]
    }
   ],
   "source": [
    "optimizer.maximize(\n",
    "    init_points=10,\n",
    "    n_iter=50,\n",
    "    acq=\"ucb\",\n",
    "    kappa=5,\n",
    "    alpha=1\n",
    ")"
   ]
  },
  {
   "cell_type": "code",
   "execution_count": 35,
   "metadata": {},
   "outputs": [
    {
     "data": {
      "text/plain": [
       "{'target': 2.3513752790682396,\n",
       " 'params': {'beta_sp': 6.68481448119178,\n",
       "  'epsilon_sp': 3.5414414676585686,\n",
       "  'muIncr_logit': -2.044197680649619,\n",
       "  'mu_logit': 0.14925292704239204,\n",
       "  'sigma_sp': 12.058939171567557}}"
      ]
     },
     "execution_count": 35,
     "metadata": {},
     "output_type": "execute_result"
    }
   ],
   "source": [
    "optimizer.max"
   ]
  },
  {
   "cell_type": "code",
   "execution_count": 38,
   "metadata": {
    "ExecuteTime": {
     "end_time": "2020-09-03T22:58:42.653746Z",
     "start_time": "2020-09-03T22:58:42.649916Z"
    }
   },
   "outputs": [
    {
     "data": {
      "text/plain": [
       "0.91304348"
      ]
     },
     "execution_count": 38,
     "metadata": {},
     "output_type": "execute_result"
    }
   ],
   "source": [
    "inv_logit(optimizer.max[\"target\"])"
   ]
  },
  {
   "cell_type": "code",
   "execution_count": 39,
   "metadata": {
    "ExecuteTime": {
     "end_time": "2020-09-03T22:59:56.414823Z",
     "start_time": "2020-09-03T22:59:56.412477Z"
    }
   },
   "outputs": [],
   "source": [
    "params=optimizer.max[\"params\"]"
   ]
  },
  {
   "cell_type": "code",
   "execution_count": 40,
   "metadata": {
    "ExecuteTime": {
     "end_time": "2020-09-03T23:00:39.452694Z",
     "start_time": "2020-09-03T23:00:39.449279Z"
    }
   },
   "outputs": [
    {
     "data": {
      "text/plain": [
       "6.686063447492341"
      ]
     },
     "execution_count": 40,
     "metadata": {},
     "output_type": "execute_result"
    }
   ],
   "source": [
    "softplus(params[\"beta_sp\"])"
   ]
  },
  {
   "cell_type": "code",
   "execution_count": 41,
   "metadata": {
    "ExecuteTime": {
     "end_time": "2020-09-03T23:01:09.671719Z",
     "start_time": "2020-09-03T23:01:09.668333Z"
    }
   },
   "outputs": [
    {
     "data": {
      "text/plain": [
       "12.058944964093698"
      ]
     },
     "execution_count": 41,
     "metadata": {},
     "output_type": "execute_result"
    }
   ],
   "source": [
    "softplus(params[\"sigma_sp\"])"
   ]
  },
  {
   "cell_type": "code",
   "execution_count": 42,
   "metadata": {
    "ExecuteTime": {
     "end_time": "2020-09-04T01:35:00.233453Z",
     "start_time": "2020-09-04T01:35:00.230360Z"
    }
   },
   "outputs": [
    {
     "data": {
      "text/plain": [
       "0.5372441185637652"
      ]
     },
     "execution_count": 42,
     "metadata": {},
     "output_type": "execute_result"
    }
   ],
   "source": [
    "inv_logit(params[\"mu_logit\"])"
   ]
  },
  {
   "cell_type": "code",
   "execution_count": 43,
   "metadata": {
    "ExecuteTime": {
     "end_time": "2020-09-04T01:35:28.881809Z",
     "start_time": "2020-09-04T01:35:28.878641Z"
    }
   },
   "outputs": [
    {
     "data": {
      "text/plain": [
       "0.11463998759566525"
      ]
     },
     "execution_count": 43,
     "metadata": {},
     "output_type": "execute_result"
    }
   ],
   "source": [
    "inv_logit(params[\"muIncr_logit\"])"
   ]
  },
  {
   "cell_type": "code",
   "execution_count": 45,
   "metadata": {
    "ExecuteTime": {
     "end_time": "2020-09-04T01:36:13.729976Z",
     "start_time": "2020-09-04T01:36:13.726798Z"
    }
   },
   "outputs": [
    {
     "data": {
      "text/plain": [
       "3.570001261773575"
      ]
     },
     "execution_count": 45,
     "metadata": {},
     "output_type": "execute_result"
    }
   ],
   "source": [
    "softplus(params[\"epsilon_sp\"])"
   ]
  },
  {
   "cell_type": "code",
   "execution_count": 46,
   "metadata": {},
   "outputs": [
    {
     "name": "stdout",
     "output_type": "stream",
     "text": [
      "\n",
      ">>>>>>>>>>>>\n",
      "Starting Iteration mu= 0.5372\n",
      "Starting Iteration epsilon= 3.57\n",
      "Running NewMatrix Jar!\n",
      " Single-Reference Blocks = 1\n",
      "\n",
      " Multi-Reference Blocks = 211\n",
      "NewMatrix Iterateblocks Total Time = 0.30397606920450926\n",
      "\n",
      "\n",
      ">>>>>>>>>>>>\n",
      "Starting Iteration mu= 0.6518\n",
      "Starting Iteration epsilon= 3.57\n",
      "Running NewMatrix Jar!\n",
      " Single-Reference Blocks = 1\n",
      "\n",
      " Multi-Reference Blocks = 67\n",
      "NewMatrix Iterateblocks Total Time = 0.199423692189157\n",
      "\n",
      "\n",
      ">>>>>>>>>>>>\n",
      "Starting Iteration mu= 0.7664000000000001\n",
      "Starting Iteration epsilon= 3.57\n",
      "Running NewMatrix Jar!\n",
      " Single-Reference Blocks = 1\n",
      "\n",
      " Multi-Reference Blocks = 57\n",
      "NewMatrix Iterateblocks Total Time = 0.19665503688156605\n",
      "\n",
      "\n",
      ">>>>>>>>>>>>\n",
      "Starting Iteration mu= 0.8810000000000001\n",
      "Starting Iteration epsilon= 3.57\n",
      "Running NewMatrix Jar!\n",
      " Single-Reference Blocks = 1\n",
      "\n",
      " Multi-Reference Blocks = 13\n",
      "NewMatrix Iterateblocks Total Time = 0.14000751078128815\n",
      "\n",
      "Precision = TP / (TP + FP) ......................... = 0.95454545\n",
      "Recall = TP / (TP + FN) ............................ = 0.87500000\n",
      "F-Measure .......................................... = 0.91304348\n"
     ]
    },
    {
     "data": {
      "text/plain": [
       "0.91304348"
      ]
     },
     "execution_count": 46,
     "metadata": {},
     "output_type": "execute_result"
    }
   ],
   "source": [
    "entropy_F1(mu=0.5372,\n",
    "           muIncr=0.1146,\n",
    "           beta=7,\n",
    "           sigma=12,\n",
    "           epsilon=3.57,\n",
    "           epsilonIterate=0)"
   ]
  }
 ],
 "metadata": {
  "kernelspec": {
   "display_name": "Python 3",
   "language": "python",
   "name": "python3"
  },
  "language_info": {
   "codemirror_mode": {
    "name": "ipython",
    "version": 3
   },
   "file_extension": ".py",
   "mimetype": "text/x-python",
   "name": "python",
   "nbconvert_exporter": "python",
   "pygments_lexer": "ipython3",
   "version": "3.7.4"
  },
  "toc": {
   "base_numbering": 1,
   "nav_menu": {},
   "number_sections": true,
   "sideBar": true,
   "skip_h1_title": false,
   "title_cell": "Table of Contents",
   "title_sidebar": "Contents",
   "toc_cell": false,
   "toc_position": {},
   "toc_section_display": true,
   "toc_window_display": false
  },
  "varInspector": {
   "cols": {
    "lenName": 16,
    "lenType": 16,
    "lenVar": 40
   },
   "kernels_config": {
    "python": {
     "delete_cmd_postfix": "",
     "delete_cmd_prefix": "del ",
     "library": "var_list.py",
     "varRefreshCmd": "print(var_dic_list())"
    },
    "r": {
     "delete_cmd_postfix": ") ",
     "delete_cmd_prefix": "rm(",
     "library": "var_list.r",
     "varRefreshCmd": "cat(var_dic_list()) "
    }
   },
   "types_to_exclude": [
    "module",
    "function",
    "builtin_function_or_method",
    "instance",
    "_Feature"
   ],
   "window_display": false
  }
 },
 "nbformat": 4,
 "nbformat_minor": 2
}
