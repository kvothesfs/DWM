{
 "cells": [
  {
   "cell_type": "code",
   "execution_count": 1,
   "metadata": {
    "ExecuteTime": {
     "end_time": "2020-09-03T21:59:20.041891Z",
     "start_time": "2020-09-03T21:59:10.621897Z"
    }
   },
   "outputs": [
    {
     "name": "stdout",
     "output_type": "stream",
     "text": [
      "Tokenizing References\n",
      "Total References= 868\n",
      "Total Tokens Found = 11157\n",
      "Total Tokens Output = 10861\n",
      "Dictionary Load = 67077\n",
      "<class 'dict'>\n",
      "Global Replace Cycle\n",
      "Total References= 868\n",
      "Total Tokens= 10861\n",
      "Unique Tokens= 2908\n",
      "Minimum Frequency of Standard Token =  5\n",
      "Minimum Length of Standard Token =  3\n",
      "Maximum Frequency of Error Token =  3\n",
      "References Processed= 868\n",
      "Sorted Token Size = 2908\n",
      "Clean Token Size = 1298\n",
      "*Stop Replacements here\n",
      "References Processed =  868\n",
      "Total Replacement Pairs = 21\n",
      "Tokens Read = 10861\n",
      "Tokens Changed =  29\n",
      "References Changed = 28\n"
     ]
    }
   ],
   "source": [
    "import DWM1_Tokenizer\n",
    "import DWM2_Global_Token_Replace_NewDict\n",
    "import DWM3_Entropy_Cluster\n",
    "# Settings for Tokenizer\n",
    "inputSampleName = r'S3'\n",
    "delimiter=','\n",
    "hasHeader = True\n",
    "tokenizerType = 'Splitter'\n",
    "removeDuplicateTokens = True\n",
    "\n",
    "# Setting for global replacement DWM2\n",
    "runReplacement = True\n",
    "minFreqStdToken = 5\n",
    "minLenStdToken = 3\n",
    "maxFreqErrToken = 3\n",
    "\n",
    "# Cluster Settings\n",
    "\n",
    "\n",
    "DWM1_Tokenizer.tokenizeCycle(inputSampleName, delimiter, hasHeader, removeDuplicateTokens, tokenizerType)\n",
    "prefixString = inputSampleName +','+tokenizerType+','+str(removeDuplicateTokens)\n",
    "fileToCluster = inputSampleName + '-Tokenized.txt'\n",
    "if runReplacement:\n",
    "    DWM2_Global_Token_Replace_NewDict.globalReplace(inputSampleName, minFreqStdToken, minLenStdToken, maxFreqErrToken)\n",
    "    fileToCluster = inputSampleName + '-TokenReplace.txt'\n",
    "    prefixString = prefixString+','+str(minFreqStdToken)+','+str(minLenStdToken)+','+str(maxFreqErrToken)\n",
    "else:\n",
    "    prefixString = prefixString+',0,0,0'\n",
    "\n",
    "# Cluster fixed settings\n",
    "epsilonIterate = 0.0\n",
    "runClusterMetrics = False\n",
    "runFinalMetrics = True\n",
    "createFinalJoin = False"
   ]
  },
  {
   "cell_type": "code",
   "execution_count": 2,
   "metadata": {},
   "outputs": [],
   "source": [
    "status=\"done\""
   ]
  },
  {
   "cell_type": "code",
   "execution_count": 3,
   "metadata": {},
   "outputs": [
    {
     "name": "stdout",
     "output_type": "stream",
     "text": [
      "done\n"
     ]
    }
   ],
   "source": [
    "print(status)"
   ]
  },
  {
   "cell_type": "code",
   "execution_count": null,
   "metadata": {
    "ExecuteTime": {
     "end_time": "2020-09-03T15:11:39.765508Z",
     "start_time": "2020-09-03T15:03:19.495876Z"
    },
    "scrolled": false
   },
   "outputs": [],
   "source": [
    "# # Cluster Robot Settings\n",
    "# muStart = 0.60\n",
    "# muEnd = 0.60\n",
    "# muIncr = 0.05\n",
    "# betaStart = 14\n",
    "# betaEnd = 14\n",
    "# betaIncr = 1\n",
    "# sigmaStart = 145\n",
    "# sigmaEnd = 145\n",
    "# sigmaIncr = 1\n",
    "# epsilonStart = 35\n",
    "# epsilonEnd = 35\n",
    "# epsilonIncr = 1\n",
    "# mu = muStart\n",
    "# while mu <= muEnd:\n",
    "#     beta = betaStart\n",
    "#     while beta <= betaEnd:\n",
    "#         sigma = sigmaStart\n",
    "#         while sigma <= sigmaEnd:\n",
    "#             epsilon = epsilonStart\n",
    "#             while epsilon <= epsilonEnd:\n",
    "#                 suffixString =','+str(epsilon)+','+str(epsilonIterate)\n",
    "#                 resultsList = DWM3_Entropy_Cluster.driver(fileToCluster, beta, sigma, mu, muIncr,epsilon,  \\\n",
    "#                                                      epsilonIterate,runClusterMetrics, runFinalMetrics, createFinalJoin, hasHeader)\n",
    "#                 seg0a = ','+str(resultsList[0])+','+str(resultsList[1])+','+str(resultsList[2])+','+str(resultsList[3])\n",
    "#                 seg0b =','+str(resultsList[4])+','+str(resultsList[5])+','+str(resultsList[6])\n",
    "#                 seg1 = ','+str(beta)+','+str(sigma)+','+str(mu)+ ',' +str(muIncr)\n",
    "#                 seg2 = ','+str(resultsList[7])+','+str(resultsList[8])+','+str(resultsList[9])\n",
    "#                 outString = prefixString+seg0a+seg0b+suffixString+seg1+seg2+'\\n'\n",
    "#                 resultsFile = open('RobotResults.txt','a+')\n",
    "#                 resultsFile.write(outString)\n",
    "#                 resultsFile.close()\n",
    "#                 epsilon = epsilon + epsilonIncr\n",
    "#             sigma = sigma + sigmaIncr\n",
    "#         beta = beta + betaIncr\n",
    "#     mu = mu + muIncr\n",
    "\n",
    "\n",
    " "
   ]
  },
  {
   "cell_type": "markdown",
   "metadata": {
    "ExecuteTime": {
     "end_time": "2020-09-03T16:36:26.229783Z",
     "start_time": "2020-09-03T16:36:26.227755Z"
    }
   },
   "source": [
    "## Bayesian Optimization of Hyperparameters"
   ]
  },
  {
   "cell_type": "code",
   "execution_count": 4,
   "metadata": {},
   "outputs": [],
   "source": [
    "import numpy as np"
   ]
  },
  {
   "cell_type": "markdown",
   "metadata": {
    "ExecuteTime": {
     "end_time": "2020-09-03T16:36:47.947518Z",
     "start_time": "2020-09-03T16:36:47.944251Z"
    }
   },
   "source": [
    "Create a function of the parameters that returns the F score"
   ]
  },
  {
   "cell_type": "code",
   "execution_count": 5,
   "metadata": {
    "ExecuteTime": {
     "end_time": "2020-09-03T21:59:42.561300Z",
     "start_time": "2020-09-03T21:59:42.557193Z"
    }
   },
   "outputs": [],
   "source": [
    "def entropy_F1(beta=14,sigma=145,mu=0.6,muIncr=0.05,epsilon=35,epsilonIterate=0):\n",
    "    resultsList = DWM3_Entropy_Cluster.driver(fileToCluster, \n",
    "                                  beta, \n",
    "                                  sigma, \n",
    "                                  mu, \n",
    "                                  muIncr,\n",
    "                                  epsilon,\n",
    "                                  epsilonIterate,\n",
    "                                  runClusterMetrics, \n",
    "                                  runFinalMetrics, \n",
    "                                  createFinalJoin, \n",
    "                                  hasHeader)\n",
    "    return resultsList[9]"
   ]
  },
  {
   "cell_type": "code",
   "execution_count": 6,
   "metadata": {
    "ExecuteTime": {
     "end_time": "2020-09-03T22:06:32.164588Z",
     "start_time": "2020-09-03T21:59:43.696518Z"
    }
   },
   "outputs": [
    {
     "name": "stdout",
     "output_type": "stream",
     "text": [
      "\n",
      ">>>>>>>>>>>>\n",
      "Starting Iteration mu= 0.5\n",
      "Starting Iteration epsilon= 31.8\n",
      "Running NewMatrix Jar!\n",
      " Single-Reference Blocks = 1\n",
      "\n",
      " Multi-Reference Blocks = 1103\n",
      "NewMatrix Iterateblocks Total Time = 1.3060520393773913\n",
      "\n",
      "\n",
      ">>>>>>>>>>>>\n",
      "Starting Iteration mu= 0.55\n",
      "Starting Iteration epsilon= 31.8\n",
      "Running NewMatrix Jar!\n",
      " Single-Reference Blocks = 1\n",
      "\n",
      " Multi-Reference Blocks = 839\n",
      "NewMatrix Iterateblocks Total Time = 1.0669218823313713\n",
      "\n",
      "\n",
      ">>>>>>>>>>>>\n",
      "Starting Iteration mu= 0.6000000000000001\n",
      "Starting Iteration epsilon= 31.8\n",
      "Running NewMatrix Jar!\n",
      " Single-Reference Blocks = 1\n",
      "\n",
      " Multi-Reference Blocks = 597\n",
      "NewMatrix Iterateblocks Total Time = 0.8754348075017333\n",
      "\n",
      "\n",
      ">>>>>>>>>>>>\n",
      "Starting Iteration mu= 0.6500000000000001\n",
      "Starting Iteration epsilon= 31.8\n",
      "Running NewMatrix Jar!\n",
      " Single-Reference Blocks = 1\n",
      "\n",
      " Multi-Reference Blocks = 277\n",
      "NewMatrix Iterateblocks Total Time = 0.8119944371283054\n",
      "\n",
      "\n",
      ">>>>>>>>>>>>\n",
      "Starting Iteration mu= 0.7000000000000002\n",
      "Starting Iteration epsilon= 31.8\n",
      "Running NewMatrix Jar!\n",
      " Single-Reference Blocks = 1\n",
      "\n",
      " Multi-Reference Blocks = 144\n",
      "NewMatrix Iterateblocks Total Time = 0.36127773579210043\n",
      "\n",
      "Precision = TP / (TP + FP) ......................... = 0.07902299\n",
      "Recall = TP / (TP + FN) ............................ = 0.99099099\n",
      "F-Measure .......................................... = 0.14637392\n"
     ]
    },
    {
     "data": {
      "text/plain": [
       "0.14637392"
      ]
     },
     "execution_count": 6,
     "metadata": {},
     "output_type": "execute_result"
    }
   ],
   "source": [
    "entropy_F1(mu=0.5,muIncr=0.05,beta=33,sigma=449,epsilon=31.8,epsilonIterate=0)"
   ]
  },
  {
   "cell_type": "markdown",
   "metadata": {},
   "source": [
    "Create functions for variable transformation."
   ]
  },
  {
   "cell_type": "code",
   "execution_count": 7,
   "metadata": {
    "ExecuteTime": {
     "end_time": "2020-09-03T22:08:18.856511Z",
     "start_time": "2020-09-03T22:08:18.853611Z"
    }
   },
   "outputs": [],
   "source": [
    "#Softplus to transform real domain into positive\n",
    "def softplus(x):\n",
    "    return np.log(1+np.exp(x))\n",
    "\n",
    "def inv_softplus(x):\n",
    "    return np.log(np.exp(x)-1)"
   ]
  },
  {
   "cell_type": "code",
   "execution_count": 8,
   "metadata": {
    "ExecuteTime": {
     "end_time": "2020-09-03T22:08:27.349548Z",
     "start_time": "2020-09-03T22:08:27.345752Z"
    }
   },
   "outputs": [
    {
     "data": {
      "text/plain": [
       "0.541324854612918"
      ]
     },
     "execution_count": 8,
     "metadata": {},
     "output_type": "execute_result"
    }
   ],
   "source": [
    "inv_softplus(1)"
   ]
  },
  {
   "cell_type": "code",
   "execution_count": 10,
   "metadata": {
    "ExecuteTime": {
     "end_time": "2020-09-03T22:11:24.939913Z",
     "start_time": "2020-09-03T22:11:24.936639Z"
    }
   },
   "outputs": [],
   "source": [
    "#Logit to transform real domain into 0-1\n",
    "def logit(x):    \n",
    "    return np.log(x+1e-54)-np.log(1-x+1e-54)\n",
    "\n",
    "def inv_logit(x):\n",
    "    res=np.exp(x)/(np.exp(x)+1)-2*1e-54\n",
    "    if res<1e-54:\n",
    "        res=0\n",
    "    return res"
   ]
  },
  {
   "cell_type": "markdown",
   "metadata": {},
   "source": [
    "Import BO library:"
   ]
  },
  {
   "cell_type": "code",
   "execution_count": 11,
   "metadata": {
    "ExecuteTime": {
     "end_time": "2020-09-03T22:08:30.622144Z",
     "start_time": "2020-09-03T22:08:30.226842Z"
    }
   },
   "outputs": [],
   "source": [
    "from bayes_opt import BayesianOptimization"
   ]
  },
  {
   "cell_type": "markdown",
   "metadata": {
    "ExecuteTime": {
     "end_time": "2020-09-03T18:14:39.927785Z",
     "start_time": "2020-09-03T18:14:39.924909Z"
    }
   },
   "source": [
    "Create dictionary bounds for the parameters:"
   ]
  },
  {
   "cell_type": "code",
   "execution_count": 12,
   "metadata": {},
   "outputs": [],
   "source": [
    "import os, sys"
   ]
  },
  {
   "cell_type": "code",
   "execution_count": 13,
   "metadata": {},
   "outputs": [],
   "source": [
    "class HiddenPrints:\n",
    "    def __enter__(self):\n",
    "        self._original_stdout = sys.stdout\n",
    "        sys.stdout = open(os.devnull, 'w')\n",
    "\n",
    "    def __exit__(self, exc_type, exc_val, exc_tb):\n",
    "        sys.stdout.close()\n",
    "        sys.stdout = self._original_stdout"
   ]
  },
  {
   "cell_type": "code",
   "execution_count": 14,
   "metadata": {},
   "outputs": [
    {
     "name": "stdout",
     "output_type": "stream",
     "text": [
      "This will be printed as before\n"
     ]
    }
   ],
   "source": [
    "with HiddenPrints():\n",
    "    print(\"This will not be printed\")\n",
    "\n",
    "print(\"This will be printed as before\")"
   ]
  },
  {
   "cell_type": "code",
   "execution_count": 15,
   "metadata": {
    "ExecuteTime": {
     "end_time": "2020-09-03T22:11:53.005154Z",
     "start_time": "2020-09-03T22:11:53.000238Z"
    }
   },
   "outputs": [],
   "source": [
    "#Take parameters in transformed space and return f score in transformed space\n",
    "def entropy_F1_trx(beta_sp,sigma_sp,mu_logit,muIncr_logit,epsilon_sp,epsilonIterate_logit=logit(0)):\n",
    "    beta_pos=int(softplus(beta_sp))\n",
    "    sigma_pos=int(softplus(sigma_sp))\n",
    "    mu_01=inv_logit(mu_logit)\n",
    "    muIncr_01=inv_logit(muIncr_logit)\n",
    "    epsilon_pos=softplus(epsilon_sp)\n",
    "    epsilonIterate_01=inv_logit(epsilonIterate_logit)\n",
    "    \n",
    "    print(\"Mu:%.2f|Mu+:%.2f|Beta:%.2f|Sigma:%.2f|Epsilon:%.2f|EpIter:%.2f\" % (mu_01, muIncr_01, beta_pos, sigma_pos, epsilon_pos, epsilonIterate_01))\n",
    "    \n",
    "    with HiddenPrints():\n",
    "        f1=entropy_F1(beta=beta_pos,\n",
    "                      epsilon=epsilon_pos,\n",
    "                      epsilonIterate=epsilonIterate_01,\n",
    "                      muIncr=muIncr_01,\n",
    "                      sigma=sigma_pos,\n",
    "                      mu=mu_01)\n",
    "    \n",
    "    return logit(f1)"
   ]
  },
  {
   "cell_type": "code",
   "execution_count": 16,
   "metadata": {},
   "outputs": [
    {
     "name": "stdout",
     "output_type": "stream",
     "text": [
      "Mu:0.50|Mu+:0.05|Beta:33.00|Sigma:449.00|Epsilon:31.80|EpIter:0.00\n"
     ]
    },
    {
     "data": {
      "text/plain": [
       "-1.76332880889149"
      ]
     },
     "execution_count": 16,
     "metadata": {},
     "output_type": "execute_result"
    }
   ],
   "source": [
    "entropy_F1_trx(beta_sp=inv_softplus(33),\n",
    "               sigma_sp=inv_softplus(449),\n",
    "               mu_logit=logit(0.5),\n",
    "               muIncr_logit=logit(0.05),\n",
    "               epsilon_sp=inv_softplus(31.8))"
   ]
  },
  {
   "cell_type": "code",
   "execution_count": 33,
   "metadata": {},
   "outputs": [],
   "source": [
    "optimizer=None"
   ]
  },
  {
   "cell_type": "code",
   "execution_count": 34,
   "metadata": {
    "ExecuteTime": {
     "end_time": "2020-09-03T22:11:50.787503Z",
     "start_time": "2020-09-03T22:11:50.784060Z"
    }
   },
   "outputs": [],
   "source": [
    "pbounds = {'beta_sp': (inv_softplus(1), inv_softplus(500)), \n",
    "           'sigma_sp': (inv_softplus(1), inv_softplus(500)),\n",
    "           'mu_logit': (logit(0.3), logit(0.8)),\n",
    "           'muIncr_logit': (logit(0.01), logit(0.2)),\n",
    "           'epsilon_sp': (inv_softplus(1), inv_softplus(500)),\n",
    "           'epsilonIterate_logit': (logit(0), logit(0.25))}"
   ]
  },
  {
   "cell_type": "code",
   "execution_count": 35,
   "metadata": {
    "ExecuteTime": {
     "end_time": "2020-09-03T22:11:56.728829Z",
     "start_time": "2020-09-03T22:11:56.725599Z"
    }
   },
   "outputs": [],
   "source": [
    "optimizer = BayesianOptimization(\n",
    "    f=entropy_F1_trx,\n",
    "    pbounds=pbounds,\n",
    "    random_state=1,\n",
    ")"
   ]
  },
  {
   "cell_type": "code",
   "execution_count": 36,
   "metadata": {},
   "outputs": [],
   "source": [
    "optimizer.probe(\n",
    "    params={\"beta_sp\": inv_softplus(9), \n",
    "            \"sigma_sp\": inv_softplus(95),\n",
    "            \"mu_logit\":logit(0.5),\n",
    "            'epsilonIterate_logit': logit(0),\n",
    "            \"muIncr_logit\":logit(0.1),\n",
    "            \"epsilon_sp\":inv_softplus(4)},\n",
    "    lazy=True,\n",
    ")"
   ]
  },
  {
   "cell_type": "code",
   "execution_count": 37,
   "metadata": {
    "ExecuteTime": {
     "end_time": "2020-09-03T22:54:10.009085Z",
     "start_time": "2020-09-03T22:11:58.063246Z"
    }
   },
   "outputs": [
    {
     "name": "stdout",
     "output_type": "stream",
     "text": [
      "|   iter    |  target   |  beta_sp  | epsilo... | epsilo... | muIncr... | mu_logit  | sigma_sp  |\n",
      "-------------------------------------------------------------------------------------------------\n",
      "Mu:0.50|Mu+:0.10|Beta:9.00|Sigma:95.00|Epsilon:4.00|EpIter:0.00\n",
      "| \u001b[0m 1       \u001b[0m | \u001b[0m 2.546   \u001b[0m | \u001b[0m 9.0     \u001b[0m | \u001b[0m-124.3   \u001b[0m | \u001b[0m 3.982   \u001b[0m | \u001b[0m-2.197   \u001b[0m | \u001b[0m 0.0     \u001b[0m | \u001b[0m 95.0    \u001b[0m |\n",
      "Mu:0.37|Mu+:0.03|Beta:208.00|Sigma:46.00|Epsilon:1.04|EpIter:0.00\n",
      "| \u001b[0m 2       \u001b[0m | \u001b[0m 0.1301  \u001b[0m | \u001b[0m 208.8   \u001b[0m | \u001b[0m-35.57   \u001b[0m | \u001b[0m 0.5985  \u001b[0m | \u001b[0m-3.625   \u001b[0m | \u001b[0m-0.5195  \u001b[0m | \u001b[0m 46.66   \u001b[0m |\n",
      "Mu:0.52|Mu+:0.05|Beta:93.00|Sigma:342.00|Epsilon:198.71|EpIter:0.00\n",
      "| \u001b[0m 3       \u001b[0m | \u001b[0m-6.822   \u001b[0m | \u001b[0m 93.57   \u001b[0m | \u001b[0m-81.75   \u001b[0m | \u001b[0m 198.7   \u001b[0m | \u001b[0m-2.866   \u001b[0m | \u001b[0m 0.08901 \u001b[0m | \u001b[0m 342.8   \u001b[0m |\n",
      "Mu:0.52|Mu+:0.08|Beta:102.00|Sigma:279.00|Epsilon:14.22|EpIter:0.00\n",
      "| \u001b[0m 4       \u001b[0m | \u001b[0m 0.1935  \u001b[0m | \u001b[0m 102.7   \u001b[0m | \u001b[0m-16.12   \u001b[0m | \u001b[0m 14.22   \u001b[0m | \u001b[0m-2.444   \u001b[0m | \u001b[0m 0.08479 \u001b[0m | \u001b[0m 279.6   \u001b[0m |\n",
      "Mu:0.46|Mu+:0.18|Beta:70.00|Sigma:346.00|Epsilon:400.48|EpIter:0.00\n",
      "| \u001b[0m 5       \u001b[0m | \u001b[0m-7.249   \u001b[0m | \u001b[0m 70.66   \u001b[0m | \u001b[0m-99.93   \u001b[0m | \u001b[0m 400.5   \u001b[0m | \u001b[0m-1.488   \u001b[0m | \u001b[0m-0.1472  \u001b[0m | \u001b[0m 346.3   \u001b[0m |\n",
      "Mu:0.39|Mu+:0.01|Beta:438.00|Sigma:439.00|Epsilon:43.02|EpIter:0.00\n",
      "| \u001b[0m 6       \u001b[0m | \u001b[0m-3.766   \u001b[0m | \u001b[0m 438.3   \u001b[0m | \u001b[0m-14.09   \u001b[0m | \u001b[0m 43.02   \u001b[0m | \u001b[0m-4.47    \u001b[0m | \u001b[0m-0.468   \u001b[0m | \u001b[0m 439.1   \u001b[0m |\n",
      "Mu:0.67|Mu+:0.05|Beta:49.00|Sigma:158.00|Epsilon:478.97|EpIter:0.00\n",
      "| \u001b[0m 7       \u001b[0m | \u001b[0m-0.09117 \u001b[0m | \u001b[0m 49.66   \u001b[0m | \u001b[0m-72.44   \u001b[0m | \u001b[0m 479.0   \u001b[0m | \u001b[0m-2.884   \u001b[0m | \u001b[0m 0.6981  \u001b[0m | \u001b[0m 158.1   \u001b[0m |\n",
      "Mu:0.80|Mu+:0.10|Beta:343.00|Sigma:374.00|Epsilon:9.68|EpIter:0.00\n",
      "| \u001b[0m 8       \u001b[0m | \u001b[0m 1.171   \u001b[0m | \u001b[0m 343.4   \u001b[0m | \u001b[0m-21.48   \u001b[0m | \u001b[0m 9.676   \u001b[0m | \u001b[0m-2.188   \u001b[0m | \u001b[0m 1.361   \u001b[0m | \u001b[0m 374.2   \u001b[0m |\n",
      "Mu:0.77|Mu+:0.04|Beta:140.00|Sigma:147.00|Epsilon:52.10|EpIter:0.00\n",
      "| \u001b[0m 9       \u001b[0m | \u001b[0m 1.07    \u001b[0m | \u001b[0m 140.6   \u001b[0m | \u001b[0m-27.07   \u001b[0m | \u001b[0m 52.1    \u001b[0m | \u001b[0m-3.158   \u001b[0m | \u001b[0m 1.182   \u001b[0m | \u001b[0m 147.2   \u001b[0m |\n",
      "Mu:0.41|Mu+:0.08|Beta:144.00|Sigma:133.00|Epsilon:10.21|EpIter:0.00\n",
      "| \u001b[0m 10      \u001b[0m | \u001b[0m 0.7802  \u001b[0m | \u001b[0m 144.3   \u001b[0m | \u001b[0m-108.3   \u001b[0m | \u001b[0m 10.21   \u001b[0m | \u001b[0m-2.417   \u001b[0m | \u001b[0m-0.3746  \u001b[0m | \u001b[0m 133.2   \u001b[0m |\n",
      "Mu:0.62|Mu+:0.02|Beta:246.00|Sigma:350.00|Epsilon:287.29|EpIter:0.00\n",
      "| \u001b[0m 11      \u001b[0m | \u001b[0m-5.196   \u001b[0m | \u001b[0m 246.1   \u001b[0m | \u001b[0m-117.8   \u001b[0m | \u001b[0m 287.3   \u001b[0m | \u001b[0m-4.124   \u001b[0m | \u001b[0m 0.469   \u001b[0m | \u001b[0m 350.0   \u001b[0m |\n",
      "Mu:0.63|Mu+:0.07|Beta:35.00|Sigma:107.00|Epsilon:1.00|EpIter:0.00\n",
      "| \u001b[0m 12      \u001b[0m | \u001b[0m 0.144   \u001b[0m | \u001b[0m 35.02   \u001b[0m | \u001b[0m-67.0    \u001b[0m | \u001b[0m 0.5413  \u001b[0m | \u001b[0m-2.572   \u001b[0m | \u001b[0m 0.5475  \u001b[0m | \u001b[0m 107.2   \u001b[0m |\n",
      "Mu:0.30|Mu+:0.20|Beta:1.00|Sigma:64.00|Epsilon:33.10|EpIter:0.00\n",
      "| \u001b[0m 13      \u001b[0m | \u001b[0m-124.3   \u001b[0m | \u001b[0m 0.5413  \u001b[0m | \u001b[0m-124.3   \u001b[0m | \u001b[0m 33.1    \u001b[0m | \u001b[0m-1.386   \u001b[0m | \u001b[0m-0.8473  \u001b[0m | \u001b[0m 64.76   \u001b[0m |\n",
      "Mu:0.49|Mu+:0.04|Beta:4.00|Sigma:101.00|Epsilon:14.49|EpIter:0.00\n",
      "| \u001b[0m 14      \u001b[0m | \u001b[0m 0.5223  \u001b[0m | \u001b[0m 4.046   \u001b[0m | \u001b[0m-123.5   \u001b[0m | \u001b[0m 14.49   \u001b[0m | \u001b[0m-3.102   \u001b[0m | \u001b[0m-0.03405 \u001b[0m | \u001b[0m 101.8   \u001b[0m |\n",
      "Mu:0.31|Mu+:0.02|Beta:134.00|Sigma:149.00|Epsilon:50.56|EpIter:0.00\n",
      "| \u001b[0m 15      \u001b[0m | \u001b[0m-4.017   \u001b[0m | \u001b[0m 134.7   \u001b[0m | \u001b[0m-33.95   \u001b[0m | \u001b[0m 50.56   \u001b[0m | \u001b[0m-4.091   \u001b[0m | \u001b[0m-0.7982  \u001b[0m | \u001b[0m 149.8   \u001b[0m |\n",
      "Mu:0.34|Mu+:0.02|Beta:213.00|Sigma:59.00|Epsilon:5.18|EpIter:0.00\n",
      "| \u001b[0m 16      \u001b[0m | \u001b[0m 1.643   \u001b[0m | \u001b[0m 213.6   \u001b[0m | \u001b[0m-28.67   \u001b[0m | \u001b[0m 5.17    \u001b[0m | \u001b[0m-3.924   \u001b[0m | \u001b[0m-0.6564  \u001b[0m | \u001b[0m 59.7    \u001b[0m |\n",
      "Mu:0.37|Mu+:0.02|Beta:5.00|Sigma:100.00|Epsilon:18.28|EpIter:0.00\n",
      "| \u001b[0m 17      \u001b[0m | \u001b[0m-0.6836  \u001b[0m | \u001b[0m 5.594   \u001b[0m | \u001b[0m-113.7   \u001b[0m | \u001b[0m 18.28   \u001b[0m | \u001b[0m-3.862   \u001b[0m | \u001b[0m-0.5525  \u001b[0m | \u001b[0m 100.4   \u001b[0m |\n",
      "Mu:0.30|Mu+:0.13|Beta:138.00|Sigma:157.00|Epsilon:38.44|EpIter:0.00\n",
      "| \u001b[0m 18      \u001b[0m | \u001b[0m-0.4841  \u001b[0m | \u001b[0m 138.1   \u001b[0m | \u001b[0m-38.26   \u001b[0m | \u001b[0m 38.44   \u001b[0m | \u001b[0m-1.91    \u001b[0m | \u001b[0m-0.8388  \u001b[0m | \u001b[0m 157.0   \u001b[0m |\n",
      "Mu:0.49|Mu+:0.14|Beta:8.00|Sigma:108.00|Epsilon:12.23|EpIter:0.00\n",
      "| \u001b[0m 19      \u001b[0m | \u001b[0m 0.2939  \u001b[0m | \u001b[0m 8.197   \u001b[0m | \u001b[0m-101.4   \u001b[0m | \u001b[0m 12.23   \u001b[0m | \u001b[0m-1.807   \u001b[0m | \u001b[0m-0.04338 \u001b[0m | \u001b[0m 108.1   \u001b[0m |\n",
      "Mu:0.42|Mu+:0.12|Beta:70.00|Sigma:337.00|Epsilon:394.03|EpIter:0.00\n",
      "| \u001b[0m 20      \u001b[0m | \u001b[0m-7.338   \u001b[0m | \u001b[0m 70.59   \u001b[0m | \u001b[0m-105.3   \u001b[0m | \u001b[0m 394.0   \u001b[0m | \u001b[0m-2.018   \u001b[0m | \u001b[0m-0.3189  \u001b[0m | \u001b[0m 337.6   \u001b[0m |\n",
      "Mu:0.65|Mu+:0.01|Beta:16.00|Sigma:104.00|Epsilon:14.66|EpIter:0.00\n",
      "| \u001b[0m 21      \u001b[0m | \u001b[0m 0.5093  \u001b[0m | \u001b[0m 16.77   \u001b[0m | \u001b[0m-91.53   \u001b[0m | \u001b[0m 14.66   \u001b[0m | \u001b[0m-4.376   \u001b[0m | \u001b[0m 0.6151  \u001b[0m | \u001b[0m 104.2   \u001b[0m |\n",
      "Mu:0.40|Mu+:0.02|Beta:103.00|Sigma:278.00|Epsilon:22.06|EpIter:0.00\n",
      "| \u001b[0m 22      \u001b[0m | \u001b[0m-1.29    \u001b[0m | \u001b[0m 103.6   \u001b[0m | \u001b[0m-10.8    \u001b[0m | \u001b[0m 22.06   \u001b[0m | \u001b[0m-4.081   \u001b[0m | \u001b[0m-0.4181  \u001b[0m | \u001b[0m 278.9   \u001b[0m |\n",
      "Mu:0.80|Mu+:0.13|Beta:99.00|Sigma:272.00|Epsilon:9.55|EpIter:0.00\n",
      "| \u001b[0m 23      \u001b[0m | \u001b[0m 1.356   \u001b[0m | \u001b[0m 99.98   \u001b[0m | \u001b[0m-15.36   \u001b[0m | \u001b[0m 9.549   \u001b[0m | \u001b[0m-1.918   \u001b[0m | \u001b[0m 1.381   \u001b[0m | \u001b[0m 272.6   \u001b[0m |\n",
      "Mu:0.80|Mu+:0.09|Beta:143.00|Sigma:148.00|Epsilon:49.70|EpIter:0.00\n",
      "| \u001b[0m 24      \u001b[0m | \u001b[0m 1.258   \u001b[0m | \u001b[0m 143.5   \u001b[0m | \u001b[0m-25.77   \u001b[0m | \u001b[0m 49.7    \u001b[0m | \u001b[0m-2.317   \u001b[0m | \u001b[0m 1.386   \u001b[0m | \u001b[0m 148.0   \u001b[0m |\n",
      "Mu:0.40|Mu+:0.09|Beta:6.00|Sigma:101.00|Epsilon:17.77|EpIter:0.00\n",
      "| \u001b[0m 25      \u001b[0m | \u001b[0m-0.4561  \u001b[0m | \u001b[0m 6.0     \u001b[0m | \u001b[0m-102.2   \u001b[0m | \u001b[0m 17.77   \u001b[0m | \u001b[0m-2.348   \u001b[0m | \u001b[0m-0.3859  \u001b[0m | \u001b[0m 102.0   \u001b[0m |\n",
      "Mu:0.60|Mu+:0.03|Beta:149.00|Sigma:156.00|Epsilon:49.19|EpIter:0.00\n",
      "| \u001b[0m 26      \u001b[0m | \u001b[0m-4.066   \u001b[0m | \u001b[0m 149.4   \u001b[0m | \u001b[0m-38.83   \u001b[0m | \u001b[0m 49.19   \u001b[0m | \u001b[0m-3.47    \u001b[0m | \u001b[0m 0.394   \u001b[0m | \u001b[0m 156.4   \u001b[0m |\n",
      "Mu:0.44|Mu+:0.14|Beta:152.00|Sigma:132.00|Epsilon:13.08|EpIter:0.00\n",
      "| \u001b[0m 27      \u001b[0m | \u001b[0m 0.6746  \u001b[0m | \u001b[0m 152.0   \u001b[0m | \u001b[0m-107.3   \u001b[0m | \u001b[0m 13.08   \u001b[0m | \u001b[0m-1.789   \u001b[0m | \u001b[0m-0.2378  \u001b[0m | \u001b[0m 132.0   \u001b[0m |\n",
      "Mu:0.65|Mu+:0.02|Beta:8.00|Sigma:102.00|Epsilon:7.59|EpIter:0.00\n",
      "| \u001b[0m 28      \u001b[0m | \u001b[0m 1.6     \u001b[0m | \u001b[0m 8.646   \u001b[0m | \u001b[0m-94.09   \u001b[0m | \u001b[0m 7.586   \u001b[0m | \u001b[0m-4.059   \u001b[0m | \u001b[0m 0.6227  \u001b[0m | \u001b[0m 102.4   \u001b[0m |\n",
      "Mu:0.53|Mu+:0.14|Beta:16.00|Sigma:98.00|Epsilon:10.02|EpIter:0.00\n",
      "| \u001b[0m 29      \u001b[0m | \u001b[0m 0.7595  \u001b[0m | \u001b[0m 16.85   \u001b[0m | \u001b[0m-99.94   \u001b[0m | \u001b[0m 10.02   \u001b[0m | \u001b[0m-1.827   \u001b[0m | \u001b[0m 0.107   \u001b[0m | \u001b[0m 98.23   \u001b[0m |\n",
      "Mu:0.66|Mu+:0.04|Beta:24.00|Sigma:96.00|Epsilon:2.84|EpIter:0.00\n",
      "| \u001b[0m 30      \u001b[0m | \u001b[0m 1.348   \u001b[0m | \u001b[0m 24.75   \u001b[0m | \u001b[0m-106.2   \u001b[0m | \u001b[0m 2.782   \u001b[0m | \u001b[0m-3.096   \u001b[0m | \u001b[0m 0.6476  \u001b[0m | \u001b[0m 96.56   \u001b[0m |\n",
      "Mu:0.39|Mu+:0.10|Beta:333.00|Sigma:365.00|Epsilon:12.85|EpIter:0.00\n",
      "| \u001b[0m 31      \u001b[0m | \u001b[0m 0.446   \u001b[0m | \u001b[0m 333.2   \u001b[0m | \u001b[0m-18.21   \u001b[0m | \u001b[0m 12.85   \u001b[0m | \u001b[0m-2.248   \u001b[0m | \u001b[0m-0.4571  \u001b[0m | \u001b[0m 365.8   \u001b[0m |\n",
      "Mu:0.80|Mu+:0.07|Beta:142.00|Sigma:145.00|Epsilon:52.51|EpIter:0.00\n",
      "| \u001b[0m 32      \u001b[0m | \u001b[0m 1.258   \u001b[0m | \u001b[0m 142.5   \u001b[0m | \u001b[0m-23.04   \u001b[0m | \u001b[0m 52.51   \u001b[0m | \u001b[0m-2.617   \u001b[0m | \u001b[0m 1.386   \u001b[0m | \u001b[0m 145.4   \u001b[0m |\n",
      "Mu:0.32|Mu+:0.03|Beta:15.00|Sigma:102.00|Epsilon:3.20|EpIter:0.00\n",
      "| \u001b[0m 33      \u001b[0m | \u001b[0m 1.935   \u001b[0m | \u001b[0m 15.41   \u001b[0m | \u001b[0m-123.2   \u001b[0m | \u001b[0m 3.162   \u001b[0m | \u001b[0m-3.34    \u001b[0m | \u001b[0m-0.7493  \u001b[0m | \u001b[0m 102.4   \u001b[0m |\n",
      "Mu:0.73|Mu+:0.12|Beta:135.00|Sigma:139.00|Epsilon:7.84|EpIter:0.00\n",
      "| \u001b[0m 34      \u001b[0m | \u001b[0m 1.891   \u001b[0m | \u001b[0m 135.6   \u001b[0m | \u001b[0m-109.3   \u001b[0m | \u001b[0m 7.838   \u001b[0m | \u001b[0m-1.974   \u001b[0m | \u001b[0m 1.01    \u001b[0m | \u001b[0m 139.4   \u001b[0m |\n",
      "Mu:0.67|Mu+:0.10|Beta:143.00|Sigma:150.00|Epsilon:50.80|EpIter:0.00\n",
      "| \u001b[0m 35      \u001b[0m | \u001b[0m-1.079   \u001b[0m | \u001b[0m 143.9   \u001b[0m | \u001b[0m-30.86   \u001b[0m | \u001b[0m 50.8    \u001b[0m | \u001b[0m-2.191   \u001b[0m | \u001b[0m 0.7223  \u001b[0m | \u001b[0m 150.7   \u001b[0m |\n",
      "Mu:0.78|Mu+:0.06|Beta:49.00|Sigma:158.00|Epsilon:474.28|EpIter:0.00\n"
     ]
    },
    {
     "name": "stdout",
     "output_type": "stream",
     "text": [
      "| \u001b[0m 36      \u001b[0m | \u001b[0m 1.489   \u001b[0m | \u001b[0m 49.62   \u001b[0m | \u001b[0m-74.88   \u001b[0m | \u001b[0m 474.3   \u001b[0m | \u001b[0m-2.689   \u001b[0m | \u001b[0m 1.26    \u001b[0m | \u001b[0m 158.4   \u001b[0m |\n",
      "Mu:0.36|Mu+:0.03|Beta:341.00|Sigma:377.00|Epsilon:7.12|EpIter:0.00\n",
      "| \u001b[0m 37      \u001b[0m | \u001b[0m 1.117   \u001b[0m | \u001b[0m 341.4   \u001b[0m | \u001b[0m-27.28   \u001b[0m | \u001b[0m 7.116   \u001b[0m | \u001b[0m-3.379   \u001b[0m | \u001b[0m-0.5867  \u001b[0m | \u001b[0m 377.7   \u001b[0m |\n",
      "Mu:0.57|Mu+:0.01|Beta:14.00|Sigma:100.00|Epsilon:8.72|EpIter:0.00\n",
      "| \u001b[0m 38      \u001b[0m | \u001b[0m 0.8306  \u001b[0m | \u001b[0m 14.04   \u001b[0m | \u001b[0m-84.71   \u001b[0m | \u001b[0m 8.715   \u001b[0m | \u001b[0m-4.23    \u001b[0m | \u001b[0m 0.2624  \u001b[0m | \u001b[0m 100.6   \u001b[0m |\n",
      "Mu:0.30|Mu+:0.05|Beta:55.00|Sigma:146.00|Epsilon:473.35|EpIter:0.00\n",
      "| \u001b[0m 39      \u001b[0m | \u001b[0m-7.428   \u001b[0m | \u001b[0m 55.49   \u001b[0m | \u001b[0m-83.78   \u001b[0m | \u001b[0m 473.4   \u001b[0m | \u001b[0m-2.871   \u001b[0m | \u001b[0m-0.8402  \u001b[0m | \u001b[0m 146.9   \u001b[0m |\n",
      "Mu:0.67|Mu+:0.04|Beta:15.00|Sigma:98.00|Epsilon:9.43|EpIter:0.00\n",
      "| \u001b[0m 40      \u001b[0m | \u001b[0m 1.324   \u001b[0m | \u001b[0m 15.97   \u001b[0m | \u001b[0m-85.3    \u001b[0m | \u001b[0m 9.434   \u001b[0m | \u001b[0m-3.209   \u001b[0m | \u001b[0m 0.7096  \u001b[0m | \u001b[0m 98.51   \u001b[0m |\n",
      "Mu:0.35|Mu+:0.05|Beta:337.00|Sigma:372.00|Epsilon:9.52|EpIter:0.00\n",
      "| \u001b[0m 41      \u001b[0m | \u001b[0m 0.5785  \u001b[0m | \u001b[0m 337.7   \u001b[0m | \u001b[0m-23.56   \u001b[0m | \u001b[0m 9.515   \u001b[0m | \u001b[0m-2.935   \u001b[0m | \u001b[0m-0.6149  \u001b[0m | \u001b[0m 372.6   \u001b[0m |\n",
      "Mu:0.67|Mu+:0.20|Beta:101.00|Sigma:271.00|Epsilon:13.31|EpIter:0.00\n",
      "| \u001b[0m 42      \u001b[0m | \u001b[0m 0.8016  \u001b[0m | \u001b[0m 102.0   \u001b[0m | \u001b[0m-15.6    \u001b[0m | \u001b[0m 13.31   \u001b[0m | \u001b[0m-1.386   \u001b[0m | \u001b[0m 0.7241  \u001b[0m | \u001b[0m 271.8   \u001b[0m |\n",
      "Mu:0.60|Mu+:0.20|Beta:5.00|Sigma:98.00|Epsilon:1.71|EpIter:0.00\n",
      "| \u001b[0m 43      \u001b[0m | \u001b[0m 0.7817  \u001b[0m | \u001b[0m 5.312   \u001b[0m | \u001b[0m-109.4   \u001b[0m | \u001b[0m 1.514   \u001b[0m | \u001b[0m-1.394   \u001b[0m | \u001b[0m 0.4074  \u001b[0m | \u001b[0m 98.17   \u001b[0m |\n",
      "Mu:0.50|Mu+:0.03|Beta:155.00|Sigma:134.00|Epsilon:26.01|EpIter:0.00\n",
      "| \u001b[0m 44      \u001b[0m | \u001b[0m-1.457   \u001b[0m | \u001b[0m 155.2   \u001b[0m | \u001b[0m-103.7   \u001b[0m | \u001b[0m 26.01   \u001b[0m | \u001b[0m-3.656   \u001b[0m | \u001b[0m 0.01925 \u001b[0m | \u001b[0m 134.6   \u001b[0m |\n",
      "Mu:0.52|Mu+:0.03|Beta:152.00|Sigma:148.00|Epsilon:18.67|EpIter:0.00\n",
      "| \u001b[0m 45      \u001b[0m | \u001b[0m-0.7203  \u001b[0m | \u001b[0m 152.0   \u001b[0m | \u001b[0m-110.6   \u001b[0m | \u001b[0m 18.67   \u001b[0m | \u001b[0m-3.399   \u001b[0m | \u001b[0m 0.09269 \u001b[0m | \u001b[0m 148.1   \u001b[0m |\n",
      "Mu:0.46|Mu+:0.03|Beta:332.00|Sigma:365.00|Epsilon:10.88|EpIter:0.00\n",
      "| \u001b[0m 46      \u001b[0m | \u001b[0m 0.2069  \u001b[0m | \u001b[0m 332.6   \u001b[0m | \u001b[0m-19.0    \u001b[0m | \u001b[0m 10.88   \u001b[0m | \u001b[0m-3.633   \u001b[0m | \u001b[0m-0.1405  \u001b[0m | \u001b[0m 365.5   \u001b[0m |\n",
      "Mu:0.31|Mu+:0.04|Beta:335.00|Sigma:379.00|Epsilon:13.96|EpIter:0.00\n",
      "| \u001b[0m 47      \u001b[0m | \u001b[0m-0.009302\u001b[0m | \u001b[0m 335.7   \u001b[0m | \u001b[0m-25.53   \u001b[0m | \u001b[0m 13.96   \u001b[0m | \u001b[0m-3.286   \u001b[0m | \u001b[0m-0.8205  \u001b[0m | \u001b[0m 379.2   \u001b[0m |\n",
      "Mu:0.80|Mu+:0.16|Beta:140.00|Sigma:141.00|Epsilon:10.43|EpIter:0.00\n",
      "| \u001b[0m 48      \u001b[0m | \u001b[0m 1.309   \u001b[0m | \u001b[0m 140.2   \u001b[0m | \u001b[0m-109.0   \u001b[0m | \u001b[0m 10.43   \u001b[0m | \u001b[0m-1.622   \u001b[0m | \u001b[0m 1.368   \u001b[0m | \u001b[0m 141.1   \u001b[0m |\n",
      "Mu:0.55|Mu+:0.19|Beta:345.00|Sigma:363.00|Epsilon:1.53|EpIter:0.00\n",
      "| \u001b[0m 49      \u001b[0m | \u001b[0m 0.6931  \u001b[0m | \u001b[0m 345.0   \u001b[0m | \u001b[0m-19.74   \u001b[0m | \u001b[0m 1.282   \u001b[0m | \u001b[0m-1.474   \u001b[0m | \u001b[0m 0.1853  \u001b[0m | \u001b[0m 363.5   \u001b[0m |\n",
      "Mu:0.35|Mu+:0.02|Beta:211.00|Sigma:55.00|Epsilon:3.62|EpIter:0.00\n",
      "| \u001b[0m 50      \u001b[0m | \u001b[0m 2.313   \u001b[0m | \u001b[0m 212.0   \u001b[0m | \u001b[0m-31.04   \u001b[0m | \u001b[0m 3.598   \u001b[0m | \u001b[0m-3.821   \u001b[0m | \u001b[0m-0.6093  \u001b[0m | \u001b[0m 55.22   \u001b[0m |\n",
      "Mu:0.33|Mu+:0.20|Beta:101.00|Sigma:274.00|Epsilon:8.60|EpIter:0.00\n",
      "| \u001b[0m 51      \u001b[0m | \u001b[0m 1.234   \u001b[0m | \u001b[0m 101.5   \u001b[0m | \u001b[0m-11.94   \u001b[0m | \u001b[0m 8.6     \u001b[0m | \u001b[0m-1.386   \u001b[0m | \u001b[0m-0.6936  \u001b[0m | \u001b[0m 274.6   \u001b[0m |\n",
      "Mu:0.74|Mu+:0.01|Beta:7.00|Sigma:111.00|Epsilon:16.36|EpIter:0.00\n",
      "| \u001b[0m 52      \u001b[0m | \u001b[0m 1.82    \u001b[0m | \u001b[0m 7.804   \u001b[0m | \u001b[0m-122.8   \u001b[0m | \u001b[0m 16.36   \u001b[0m | \u001b[0m-4.299   \u001b[0m | \u001b[0m 1.028   \u001b[0m | \u001b[0m 111.4   \u001b[0m |\n",
      "Mu:0.33|Mu+:0.20|Beta:345.00|Sigma:371.00|Epsilon:4.11|EpIter:0.00\n",
      "| \u001b[0m 53      \u001b[0m | \u001b[0m 2.112   \u001b[0m | \u001b[0m 345.4   \u001b[0m | \u001b[0m-23.84   \u001b[0m | \u001b[0m 4.096   \u001b[0m | \u001b[0m-1.386   \u001b[0m | \u001b[0m-0.7184  \u001b[0m | \u001b[0m 371.9   \u001b[0m |\n",
      "Mu:0.34|Mu+:0.11|Beta:130.00|Sigma:149.00|Epsilon:6.40|EpIter:0.00\n",
      "| \u001b[0m 54      \u001b[0m | \u001b[0m 1.83    \u001b[0m | \u001b[0m 130.5   \u001b[0m | \u001b[0m-109.7   \u001b[0m | \u001b[0m 6.401   \u001b[0m | \u001b[0m-2.115   \u001b[0m | \u001b[0m-0.6783  \u001b[0m | \u001b[0m 149.5   \u001b[0m |\n",
      "Mu:0.35|Mu+:0.02|Beta:208.00|Sigma:56.00|Epsilon:2.61|EpIter:0.00\n",
      "| \u001b[0m 55      \u001b[0m | \u001b[0m 1.386   \u001b[0m | \u001b[0m 208.4   \u001b[0m | \u001b[0m-29.63   \u001b[0m | \u001b[0m 2.537   \u001b[0m | \u001b[0m-3.953   \u001b[0m | \u001b[0m-0.6057  \u001b[0m | \u001b[0m 56.76   \u001b[0m |\n",
      "Mu:0.70|Mu+:0.01|Beta:355.00|Sigma:373.00|Epsilon:4.82|EpIter:0.00\n",
      "| \u001b[0m 56      \u001b[0m | \u001b[0m 1.97    \u001b[0m | \u001b[0m 355.4   \u001b[0m | \u001b[0m-13.5    \u001b[0m | \u001b[0m 4.809   \u001b[0m | \u001b[0m-4.539   \u001b[0m | \u001b[0m 0.8619  \u001b[0m | \u001b[0m 373.7   \u001b[0m |\n",
      "Mu:0.42|Mu+:0.02|Beta:18.00|Sigma:93.00|Epsilon:11.64|EpIter:0.00\n",
      "| \u001b[0m 57      \u001b[0m | \u001b[0m-0.1877  \u001b[0m | \u001b[0m 18.46   \u001b[0m | \u001b[0m-111.2   \u001b[0m | \u001b[0m 11.64   \u001b[0m | \u001b[0m-4.061   \u001b[0m | \u001b[0m-0.3245  \u001b[0m | \u001b[0m 93.88   \u001b[0m |\n",
      "Mu:0.41|Mu+:0.01|Beta:92.00|Sigma:278.00|Epsilon:10.74|EpIter:0.00\n",
      "| \u001b[0m 58      \u001b[0m | \u001b[0m-0.05012 \u001b[0m | \u001b[0m 92.67   \u001b[0m | \u001b[0m-13.23   \u001b[0m | \u001b[0m 10.74   \u001b[0m | \u001b[0m-4.558   \u001b[0m | \u001b[0m-0.3566  \u001b[0m | \u001b[0m 278.0   \u001b[0m |\n",
      "Mu:0.72|Mu+:0.19|Beta:14.00|Sigma:85.00|Epsilon:12.10|EpIter:0.00\n",
      "| \u001b[0m 59      \u001b[0m | \u001b[0m 1.736   \u001b[0m | \u001b[0m 14.84   \u001b[0m | \u001b[0m-87.33   \u001b[0m | \u001b[0m 12.1    \u001b[0m | \u001b[0m-1.441   \u001b[0m | \u001b[0m 0.946   \u001b[0m | \u001b[0m 85.68   \u001b[0m |\n",
      "Mu:0.36|Mu+:0.03|Beta:349.00|Sigma:367.00|Epsilon:1.82|EpIter:0.02\n",
      "| \u001b[0m 60      \u001b[0m | \u001b[0m 1.163   \u001b[0m | \u001b[0m 349.5   \u001b[0m | \u001b[0m-4.059   \u001b[0m | \u001b[0m 1.647   \u001b[0m | \u001b[0m-3.568   \u001b[0m | \u001b[0m-0.5669  \u001b[0m | \u001b[0m 367.7   \u001b[0m |\n",
      "Mu:0.80|Mu+:0.05|Beta:12.00|Sigma:92.00|Epsilon:8.50|EpIter:0.00\n",
      "| \u001b[0m 61      \u001b[0m | \u001b[0m 2.374   \u001b[0m | \u001b[0m 12.92   \u001b[0m | \u001b[0m-90.58   \u001b[0m | \u001b[0m 8.498   \u001b[0m | \u001b[0m-2.86    \u001b[0m | \u001b[0m 1.386   \u001b[0m | \u001b[0m 92.45   \u001b[0m |\n",
      "=================================================================================================\n"
     ]
    }
   ],
   "source": [
    "optimizer.maximize(\n",
    "    init_points=10,\n",
    "    n_iter=50,\n",
    ")"
   ]
  },
  {
   "cell_type": "code",
   "execution_count": 38,
   "metadata": {},
   "outputs": [
    {
     "data": {
      "text/plain": [
       "{'target': 2.545531312045612,\n",
       " 'params': {'beta_sp': 8.999876582580297,\n",
       "  'epsilonIterate_logit': -124.33959502167846,\n",
       "  'epsilon_sp': 3.9815145531741134,\n",
       "  'muIncr_logit': -2.197224577336219,\n",
       "  'mu_logit': 0.0,\n",
       "  'sigma_sp': 95.0}}"
      ]
     },
     "execution_count": 38,
     "metadata": {},
     "output_type": "execute_result"
    }
   ],
   "source": [
    "optimizer.max"
   ]
  },
  {
   "cell_type": "code",
   "execution_count": 39,
   "metadata": {
    "ExecuteTime": {
     "end_time": "2020-09-03T22:58:42.653746Z",
     "start_time": "2020-09-03T22:58:42.649916Z"
    }
   },
   "outputs": [
    {
     "data": {
      "text/plain": [
       "0.92727273"
      ]
     },
     "execution_count": 39,
     "metadata": {},
     "output_type": "execute_result"
    }
   ],
   "source": [
    "inv_logit(optimizer.max[\"target\"])"
   ]
  },
  {
   "cell_type": "code",
   "execution_count": 40,
   "metadata": {
    "ExecuteTime": {
     "end_time": "2020-09-03T22:59:56.414823Z",
     "start_time": "2020-09-03T22:59:56.412477Z"
    }
   },
   "outputs": [],
   "source": [
    "params=optimizer.max[\"params\"]"
   ]
  },
  {
   "cell_type": "code",
   "execution_count": 41,
   "metadata": {
    "ExecuteTime": {
     "end_time": "2020-09-03T23:00:39.452694Z",
     "start_time": "2020-09-03T23:00:39.449279Z"
    }
   },
   "outputs": [
    {
     "data": {
      "text/plain": [
       "9.0"
      ]
     },
     "execution_count": 41,
     "metadata": {},
     "output_type": "execute_result"
    }
   ],
   "source": [
    "softplus(params[\"beta_sp\"])"
   ]
  },
  {
   "cell_type": "code",
   "execution_count": 42,
   "metadata": {
    "ExecuteTime": {
     "end_time": "2020-09-03T23:01:09.671719Z",
     "start_time": "2020-09-03T23:01:09.668333Z"
    }
   },
   "outputs": [
    {
     "data": {
      "text/plain": [
       "95.0"
      ]
     },
     "execution_count": 42,
     "metadata": {},
     "output_type": "execute_result"
    }
   ],
   "source": [
    "softplus(params[\"sigma_sp\"])"
   ]
  },
  {
   "cell_type": "code",
   "execution_count": 43,
   "metadata": {
    "ExecuteTime": {
     "end_time": "2020-09-04T01:35:00.233453Z",
     "start_time": "2020-09-04T01:35:00.230360Z"
    }
   },
   "outputs": [
    {
     "data": {
      "text/plain": [
       "0.5"
      ]
     },
     "execution_count": 43,
     "metadata": {},
     "output_type": "execute_result"
    }
   ],
   "source": [
    "inv_logit(params[\"mu_logit\"])"
   ]
  },
  {
   "cell_type": "code",
   "execution_count": 44,
   "metadata": {
    "ExecuteTime": {
     "end_time": "2020-09-04T01:35:28.881809Z",
     "start_time": "2020-09-04T01:35:28.878641Z"
    }
   },
   "outputs": [
    {
     "data": {
      "text/plain": [
       "0.10000000000000003"
      ]
     },
     "execution_count": 44,
     "metadata": {},
     "output_type": "execute_result"
    }
   ],
   "source": [
    "inv_logit(params[\"muIncr_logit\"])"
   ]
  },
  {
   "cell_type": "code",
   "execution_count": 45,
   "metadata": {
    "ExecuteTime": {
     "end_time": "2020-09-04T01:36:46.943597Z",
     "start_time": "2020-09-04T01:36:46.940247Z"
    }
   },
   "outputs": [
    {
     "data": {
      "text/plain": [
       "0"
      ]
     },
     "execution_count": 45,
     "metadata": {},
     "output_type": "execute_result"
    }
   ],
   "source": [
    "inv_logit(params[\"epsilonIterate_logit\"])"
   ]
  },
  {
   "cell_type": "code",
   "execution_count": 46,
   "metadata": {
    "ExecuteTime": {
     "end_time": "2020-09-04T01:36:13.729976Z",
     "start_time": "2020-09-04T01:36:13.726798Z"
    }
   },
   "outputs": [
    {
     "data": {
      "text/plain": [
       "4.0"
      ]
     },
     "execution_count": 46,
     "metadata": {},
     "output_type": "execute_result"
    }
   ],
   "source": [
    "softplus(params[\"epsilon_sp\"])"
   ]
  },
  {
   "cell_type": "code",
   "execution_count": 48,
   "metadata": {},
   "outputs": [
    {
     "name": "stdout",
     "output_type": "stream",
     "text": [
      "\n",
      ">>>>>>>>>>>>\n",
      "Starting Iteration mu= 0.5\n",
      "Starting Iteration epsilon= 4\n",
      "Running NewMatrix Jar!\n",
      " Single-Reference Blocks = 1\n",
      "\n",
      " Multi-Reference Blocks = 1012\n",
      "NewMatrix Iterateblocks Total Time = 0.6923086130991578\n",
      "\n",
      "\n",
      ">>>>>>>>>>>>\n",
      "Starting Iteration mu= 0.6\n",
      "Starting Iteration epsilon= 4\n",
      "Running NewMatrix Jar!\n",
      " Single-Reference Blocks = 1\n",
      "\n",
      " Multi-Reference Blocks = 602\n",
      "NewMatrix Iterateblocks Total Time = 0.568140247836709\n",
      "\n",
      "\n",
      ">>>>>>>>>>>>\n",
      "Starting Iteration mu= 0.7\n",
      "Starting Iteration epsilon= 4\n",
      "Running NewMatrix Jar!\n",
      " Single-Reference Blocks = 1\n",
      "\n",
      " Multi-Reference Blocks = 301\n",
      "NewMatrix Iterateblocks Total Time = 0.3861687406897545\n",
      "\n",
      "\n",
      ">>>>>>>>>>>>\n",
      "Starting Iteration mu= 0.7999999999999999\n",
      "Starting Iteration epsilon= 4\n",
      "Running NewMatrix Jar!\n",
      " Single-Reference Blocks = 1\n",
      "\n",
      " Multi-Reference Blocks = 157\n",
      "NewMatrix Iterateblocks Total Time = 0.3004871495068073\n",
      "\n",
      "\n",
      ">>>>>>>>>>>>\n",
      "Starting Iteration mu= 0.8999999999999999\n",
      "Starting Iteration epsilon= 4\n",
      "Running NewMatrix Jar!\n",
      " Single-Reference Blocks = 1\n",
      "\n",
      " Multi-Reference Blocks = 87\n",
      "NewMatrix Iterateblocks Total Time = 0.2524258093908429\n",
      "\n",
      "Precision = TP / (TP + FP) ......................... = 0.93577982\n",
      "Recall = TP / (TP + FN) ............................ = 0.91891892\n",
      "F-Measure .......................................... = 0.92727273\n"
     ]
    },
    {
     "data": {
      "text/plain": [
       "0.92727273"
      ]
     },
     "execution_count": 48,
     "metadata": {},
     "output_type": "execute_result"
    }
   ],
   "source": [
    "entropy_F1(mu=0.5,\n",
    "           muIncr=0.1,\n",
    "           beta=9,\n",
    "           sigma=95,\n",
    "           epsilon=4,\n",
    "           epsilonIterate=0)"
   ]
  }
 ],
 "metadata": {
  "kernelspec": {
   "display_name": "Python 3",
   "language": "python",
   "name": "python3"
  },
  "language_info": {
   "codemirror_mode": {
    "name": "ipython",
    "version": 3
   },
   "file_extension": ".py",
   "mimetype": "text/x-python",
   "name": "python",
   "nbconvert_exporter": "python",
   "pygments_lexer": "ipython3",
   "version": "3.7.4"
  },
  "toc": {
   "base_numbering": 1,
   "nav_menu": {},
   "number_sections": true,
   "sideBar": true,
   "skip_h1_title": false,
   "title_cell": "Table of Contents",
   "title_sidebar": "Contents",
   "toc_cell": false,
   "toc_position": {},
   "toc_section_display": true,
   "toc_window_display": false
  },
  "varInspector": {
   "cols": {
    "lenName": 16,
    "lenType": 16,
    "lenVar": 40
   },
   "kernels_config": {
    "python": {
     "delete_cmd_postfix": "",
     "delete_cmd_prefix": "del ",
     "library": "var_list.py",
     "varRefreshCmd": "print(var_dic_list())"
    },
    "r": {
     "delete_cmd_postfix": ") ",
     "delete_cmd_prefix": "rm(",
     "library": "var_list.r",
     "varRefreshCmd": "cat(var_dic_list()) "
    }
   },
   "types_to_exclude": [
    "module",
    "function",
    "builtin_function_or_method",
    "instance",
    "_Feature"
   ],
   "window_display": false
  }
 },
 "nbformat": 4,
 "nbformat_minor": 2
}
