{
 "cells": [
  {
   "cell_type": "code",
   "execution_count": 23,
   "metadata": {
    "ExecuteTime": {
     "end_time": "2020-09-03T21:59:20.041891Z",
     "start_time": "2020-09-03T21:59:10.621897Z"
    }
   },
   "outputs": [
    {
     "name": "stdout",
     "output_type": "stream",
     "text": [
      "Tokenizing References\n",
      "Total References= 868\n",
      "Total Tokens Found = 11157\n",
      "Total Tokens Output = 10861\n",
      "Dictionary Load = 67077\n",
      "<class 'dict'>\n",
      "Global Replace Cycle\n",
      "Total References= 868\n",
      "Total Tokens= 10861\n",
      "Unique Tokens= 2908\n",
      "Minimum Frequency of Standard Token =  5\n",
      "Minimum Length of Standard Token =  3\n",
      "Maximum Frequency of Error Token =  3\n",
      "References Processed= 868\n",
      "Sorted Token Size = 2908\n",
      "Clean Token Size = 1298\n",
      "*Stop Replacements here\n",
      "References Processed =  868\n",
      "Total Replacement Pairs = 21\n",
      "Tokens Read = 10861\n",
      "Tokens Changed =  29\n",
      "References Changed = 28\n"
     ]
    }
   ],
   "source": [
    "import DWM1_Tokenizer\n",
    "import DWM2_Global_Token_Replace_NewDict\n",
    "import DWM3_Entropy_Cluster\n",
    "# Settings for Tokenizer\n",
    "inputSampleName = r'S3'\n",
    "delimiter=','\n",
    "hasHeader = True\n",
    "tokenizerType = 'Splitter'\n",
    "removeDuplicateTokens = True\n",
    "\n",
    "# Setting for global replacement DWM2\n",
    "runReplacement = True\n",
    "minFreqStdToken = 5\n",
    "minLenStdToken = 3\n",
    "maxFreqErrToken = 3\n",
    "\n",
    "# Cluster Settings\n",
    "\n",
    "\n",
    "DWM1_Tokenizer.tokenizeCycle(inputSampleName, delimiter, hasHeader, removeDuplicateTokens, tokenizerType)\n",
    "prefixString = inputSampleName +','+tokenizerType+','+str(removeDuplicateTokens)\n",
    "fileToCluster = inputSampleName + '-Tokenized.txt'\n",
    "if runReplacement:\n",
    "    DWM2_Global_Token_Replace_NewDict.globalReplace(inputSampleName, minFreqStdToken, minLenStdToken, maxFreqErrToken)\n",
    "    fileToCluster = inputSampleName + '-TokenReplace.txt'\n",
    "    prefixString = prefixString+','+str(minFreqStdToken)+','+str(minLenStdToken)+','+str(maxFreqErrToken)\n",
    "else:\n",
    "    prefixString = prefixString+',0,0,0'\n",
    "\n",
    "# Cluster fixed settings\n",
    "epsilonIterate = 0.0\n",
    "runClusterMetrics = False\n",
    "runFinalMetrics = True\n",
    "createFinalJoin = False"
   ]
  },
  {
   "cell_type": "code",
   "execution_count": 24,
   "metadata": {},
   "outputs": [],
   "source": [
    "status=\"done\""
   ]
  },
  {
   "cell_type": "code",
   "execution_count": 25,
   "metadata": {},
   "outputs": [
    {
     "name": "stdout",
     "output_type": "stream",
     "text": [
      "done\n"
     ]
    }
   ],
   "source": [
    "print(status)"
   ]
  },
  {
   "cell_type": "code",
   "execution_count": 4,
   "metadata": {
    "ExecuteTime": {
     "end_time": "2020-09-03T15:11:39.765508Z",
     "start_time": "2020-09-03T15:03:19.495876Z"
    },
    "scrolled": false
   },
   "outputs": [],
   "source": [
    "# # Cluster Robot Settings\n",
    "# muStart = 0.60\n",
    "# muEnd = 0.60\n",
    "# muIncr = 0.05\n",
    "# betaStart = 14\n",
    "# betaEnd = 14\n",
    "# betaIncr = 1\n",
    "# sigmaStart = 145\n",
    "# sigmaEnd = 145\n",
    "# sigmaIncr = 1\n",
    "# epsilonStart = 35\n",
    "# epsilonEnd = 35\n",
    "# epsilonIncr = 1\n",
    "# mu = muStart\n",
    "# while mu <= muEnd:\n",
    "#     beta = betaStart\n",
    "#     while beta <= betaEnd:\n",
    "#         sigma = sigmaStart\n",
    "#         while sigma <= sigmaEnd:\n",
    "#             epsilon = epsilonStart\n",
    "#             while epsilon <= epsilonEnd:\n",
    "#                 suffixString =','+str(epsilon)+','+str(epsilonIterate)\n",
    "#                 resultsList = DWM3_Entropy_Cluster.driver(fileToCluster, beta, sigma, mu, muIncr,epsilon,  \\\n",
    "#                                                      epsilonIterate,runClusterMetrics, runFinalMetrics, createFinalJoin, hasHeader)\n",
    "#                 seg0a = ','+str(resultsList[0])+','+str(resultsList[1])+','+str(resultsList[2])+','+str(resultsList[3])\n",
    "#                 seg0b =','+str(resultsList[4])+','+str(resultsList[5])+','+str(resultsList[6])\n",
    "#                 seg1 = ','+str(beta)+','+str(sigma)+','+str(mu)+ ',' +str(muIncr)\n",
    "#                 seg2 = ','+str(resultsList[7])+','+str(resultsList[8])+','+str(resultsList[9])\n",
    "#                 outString = prefixString+seg0a+seg0b+suffixString+seg1+seg2+'\\n'\n",
    "#                 resultsFile = open('RobotResults.txt','a+')\n",
    "#                 resultsFile.write(outString)\n",
    "#                 resultsFile.close()\n",
    "#                 epsilon = epsilon + epsilonIncr\n",
    "#             sigma = sigma + sigmaIncr\n",
    "#         beta = beta + betaIncr\n",
    "#     mu = mu + muIncr\n",
    "\n",
    "\n",
    " "
   ]
  },
  {
   "cell_type": "markdown",
   "metadata": {
    "ExecuteTime": {
     "end_time": "2020-09-03T16:36:26.229783Z",
     "start_time": "2020-09-03T16:36:26.227755Z"
    }
   },
   "source": [
    "## Bayesian Optimization of Hyperparameters"
   ]
  },
  {
   "cell_type": "code",
   "execution_count": 26,
   "metadata": {},
   "outputs": [],
   "source": [
    "import numpy as np"
   ]
  },
  {
   "cell_type": "markdown",
   "metadata": {
    "ExecuteTime": {
     "end_time": "2020-09-03T16:36:47.947518Z",
     "start_time": "2020-09-03T16:36:47.944251Z"
    }
   },
   "source": [
    "Create a function of the parameters that returns the F score"
   ]
  },
  {
   "cell_type": "code",
   "execution_count": 6,
   "metadata": {
    "ExecuteTime": {
     "end_time": "2020-09-03T21:59:42.561300Z",
     "start_time": "2020-09-03T21:59:42.557193Z"
    }
   },
   "outputs": [],
   "source": [
    "def entropy_F1(beta=14,sigma=145,mu=0.6,muIncr=0.05,epsilon=35,epsilonIterate=0):\n",
    "    resultsList = DWM3_Entropy_Cluster.driver(fileToCluster, \n",
    "                                  beta, \n",
    "                                  sigma, \n",
    "                                  mu, \n",
    "                                  muIncr,\n",
    "                                  epsilon,\n",
    "                                  epsilonIterate,\n",
    "                                  runClusterMetrics, \n",
    "                                  runFinalMetrics, \n",
    "                                  createFinalJoin, \n",
    "                                  hasHeader)\n",
    "    return resultsList[9]"
   ]
  },
  {
   "cell_type": "code",
   "execution_count": 27,
   "metadata": {
    "ExecuteTime": {
     "end_time": "2020-09-03T22:06:32.164588Z",
     "start_time": "2020-09-03T21:59:43.696518Z"
    }
   },
   "outputs": [
    {
     "name": "stdout",
     "output_type": "stream",
     "text": [
      "\n",
      ">>>>>>>>>>>>\n",
      "Starting Iteration mu= 0.5\n",
      "Starting Iteration epsilon= 4.0\n",
      "Running NewMatrix Jar!\n",
      " Single-Reference Blocks = 1\n",
      "\n",
      " Multi-Reference Blocks = 1012\n",
      "NewMatrix Iterateblocks Total Time = 0.6997578348964453\n",
      "\n",
      "\n",
      ">>>>>>>>>>>>\n",
      "Starting Iteration mu= 0.6\n",
      "Starting Iteration epsilon= 4.0\n",
      "Running NewMatrix Jar!\n",
      " Single-Reference Blocks = 1\n",
      "\n",
      " Multi-Reference Blocks = 602\n",
      "NewMatrix Iterateblocks Total Time = 0.5647049220278859\n",
      "\n",
      "\n",
      ">>>>>>>>>>>>\n",
      "Starting Iteration mu= 0.7\n",
      "Starting Iteration epsilon= 4.0\n",
      "Running NewMatrix Jar!\n",
      " Single-Reference Blocks = 1\n",
      "\n",
      " Multi-Reference Blocks = 301\n",
      "NewMatrix Iterateblocks Total Time = 0.43448863737285137\n",
      "\n",
      "\n",
      ">>>>>>>>>>>>\n",
      "Starting Iteration mu= 0.7999999999999999\n",
      "Starting Iteration epsilon= 4.0\n",
      "Running NewMatrix Jar!\n",
      " Single-Reference Blocks = 1\n",
      "\n",
      " Multi-Reference Blocks = 157\n",
      "NewMatrix Iterateblocks Total Time = 0.30338649079203606\n",
      "\n",
      "\n",
      ">>>>>>>>>>>>\n",
      "Starting Iteration mu= 0.8999999999999999\n",
      "Starting Iteration epsilon= 4.0\n",
      "Running NewMatrix Jar!\n",
      " Single-Reference Blocks = 1\n",
      "\n",
      " Multi-Reference Blocks = 87\n",
      "NewMatrix Iterateblocks Total Time = 0.23175999987870455\n",
      "\n",
      "Precision = TP / (TP + FP) ......................... = 0.93577982\n",
      "Recall = TP / (TP + FN) ............................ = 0.91891892\n",
      "F-Measure .......................................... = 0.92727273\n"
     ]
    },
    {
     "data": {
      "text/plain": [
       "0.92727273"
      ]
     },
     "execution_count": 27,
     "metadata": {},
     "output_type": "execute_result"
    }
   ],
   "source": [
    "entropy_F1(mu=0.5,muIncr=0.1,beta=9,sigma=95,epsilon=4.0,epsilonIterate=0)"
   ]
  },
  {
   "cell_type": "markdown",
   "metadata": {},
   "source": [
    "Create functions for variable transformation."
   ]
  },
  {
   "cell_type": "code",
   "execution_count": 9,
   "metadata": {
    "ExecuteTime": {
     "end_time": "2020-09-03T22:08:18.856511Z",
     "start_time": "2020-09-03T22:08:18.853611Z"
    }
   },
   "outputs": [],
   "source": [
    "#Softplus to transform real domain into positive\n",
    "def softplus(x):\n",
    "    return np.log(1+np.exp(x))\n",
    "\n",
    "def inv_softplus(x):\n",
    "    return np.log(np.exp(x)-1)"
   ]
  },
  {
   "cell_type": "code",
   "execution_count": 10,
   "metadata": {
    "ExecuteTime": {
     "end_time": "2020-09-03T22:08:27.349548Z",
     "start_time": "2020-09-03T22:08:27.345752Z"
    }
   },
   "outputs": [
    {
     "data": {
      "text/plain": [
       "0.541324854612918"
      ]
     },
     "execution_count": 10,
     "metadata": {},
     "output_type": "execute_result"
    }
   ],
   "source": [
    "inv_softplus(1)"
   ]
  },
  {
   "cell_type": "code",
   "execution_count": 11,
   "metadata": {
    "ExecuteTime": {
     "end_time": "2020-09-03T22:11:24.939913Z",
     "start_time": "2020-09-03T22:11:24.936639Z"
    }
   },
   "outputs": [],
   "source": [
    "#Logit to transform real domain into 0-1\n",
    "def logit(x):    \n",
    "    return np.log(x+1e-54)-np.log(1-x+1e-54)\n",
    "\n",
    "def inv_logit(x):\n",
    "    res=np.exp(x)/(np.exp(x)+1)-2*1e-54\n",
    "    if res<1e-54:\n",
    "        res=0\n",
    "    return res"
   ]
  },
  {
   "cell_type": "markdown",
   "metadata": {},
   "source": [
    "Import BO library:"
   ]
  },
  {
   "cell_type": "code",
   "execution_count": 12,
   "metadata": {
    "ExecuteTime": {
     "end_time": "2020-09-03T22:08:30.622144Z",
     "start_time": "2020-09-03T22:08:30.226842Z"
    }
   },
   "outputs": [],
   "source": [
    "from bayes_opt import BayesianOptimization"
   ]
  },
  {
   "cell_type": "markdown",
   "metadata": {
    "ExecuteTime": {
     "end_time": "2020-09-03T18:14:39.927785Z",
     "start_time": "2020-09-03T18:14:39.924909Z"
    }
   },
   "source": [
    "Create dictionary bounds for the parameters:"
   ]
  },
  {
   "cell_type": "code",
   "execution_count": 13,
   "metadata": {},
   "outputs": [],
   "source": [
    "import os, sys"
   ]
  },
  {
   "cell_type": "code",
   "execution_count": 14,
   "metadata": {},
   "outputs": [],
   "source": [
    "class HiddenPrints:\n",
    "    def __enter__(self):\n",
    "        self._original_stdout = sys.stdout\n",
    "        sys.stdout = open(os.devnull, 'w')\n",
    "\n",
    "    def __exit__(self, exc_type, exc_val, exc_tb):\n",
    "        sys.stdout.close()\n",
    "        sys.stdout = self._original_stdout"
   ]
  },
  {
   "cell_type": "code",
   "execution_count": 15,
   "metadata": {},
   "outputs": [
    {
     "name": "stdout",
     "output_type": "stream",
     "text": [
      "This will be printed as before\n"
     ]
    }
   ],
   "source": [
    "with HiddenPrints():\n",
    "    print(\"This will not be printed\")\n",
    "\n",
    "print(\"This will be printed as before\")"
   ]
  },
  {
   "cell_type": "code",
   "execution_count": 16,
   "metadata": {
    "ExecuteTime": {
     "end_time": "2020-09-03T22:11:53.005154Z",
     "start_time": "2020-09-03T22:11:53.000238Z"
    }
   },
   "outputs": [],
   "source": [
    "#Take parameters in transformed space and return f score in transformed space\n",
    "def entropy_F1_trx(beta_sp,sigma_sp,mu_logit,muIncr_logit,epsilon_sp,epsilonIterate_logit=logit(0)):\n",
    "    beta_pos=int(softplus(beta_sp))\n",
    "    sigma_pos=int(softplus(sigma_sp))\n",
    "    mu_01=inv_logit(mu_logit)\n",
    "    muIncr_01=inv_logit(muIncr_logit)\n",
    "    epsilon_pos=softplus(epsilon_sp)\n",
    "    epsilonIterate_01=inv_logit(epsilonIterate_logit)\n",
    "    \n",
    "    print(\"Mu:%.2f|Mu+:%.2f|Beta:%.2f|Sigma:%.2f|Epsilon:%.2f|EpIter:%.2f\" % (mu_01, muIncr_01, beta_pos, sigma_pos, epsilon_pos, epsilonIterate_01))\n",
    "    \n",
    "    with HiddenPrints():\n",
    "        f1=entropy_F1(beta=beta_pos,\n",
    "                      epsilon=epsilon_pos,\n",
    "                      epsilonIterate=epsilonIterate_01,\n",
    "                      muIncr=muIncr_01,\n",
    "                      sigma=sigma_pos,\n",
    "                      mu=mu_01)\n",
    "    \n",
    "    return logit(f1)"
   ]
  },
  {
   "cell_type": "code",
   "execution_count": 17,
   "metadata": {},
   "outputs": [
    {
     "name": "stdout",
     "output_type": "stream",
     "text": [
      "Mu:0.50|Mu+:0.05|Beta:33.00|Sigma:449.00|Epsilon:31.80|EpIter:0.00\n"
     ]
    },
    {
     "data": {
      "text/plain": [
       "-1.76332880889149"
      ]
     },
     "execution_count": 17,
     "metadata": {},
     "output_type": "execute_result"
    }
   ],
   "source": [
    "entropy_F1_trx(beta_sp=inv_softplus(33),\n",
    "               sigma_sp=inv_softplus(449),\n",
    "               mu_logit=logit(0.5),\n",
    "               muIncr_logit=logit(0.05),\n",
    "               epsilon_sp=inv_softplus(31.8))"
   ]
  },
  {
   "cell_type": "code",
   "execution_count": 28,
   "metadata": {},
   "outputs": [],
   "source": [
    "optimizer=None"
   ]
  },
  {
   "cell_type": "code",
   "execution_count": 29,
   "metadata": {
    "ExecuteTime": {
     "end_time": "2020-09-03T22:11:50.787503Z",
     "start_time": "2020-09-03T22:11:50.784060Z"
    }
   },
   "outputs": [],
   "source": [
    "pbounds = {'beta_sp': (inv_softplus(1), inv_softplus(700)), \n",
    "           'sigma_sp': (inv_softplus(1), inv_softplus(700)),\n",
    "           'mu_logit': (logit(0.5), logit(0.99)),\n",
    "           'muIncr_logit': (logit(0.01), logit(0.2)),\n",
    "           'epsilon_sp': (inv_softplus(1), inv_softplus(700))}#,\n",
    "           #'epsilonIterate_logit': (logit(0), logit(0.25))}"
   ]
  },
  {
   "cell_type": "code",
   "execution_count": 30,
   "metadata": {},
   "outputs": [],
   "source": [
    "from bayes_opt import SequentialDomainReductionTransformer"
   ]
  },
  {
   "cell_type": "code",
   "execution_count": 31,
   "metadata": {},
   "outputs": [],
   "source": [
    "bounds_transformer = SequentialDomainReductionTransformer()"
   ]
  },
  {
   "cell_type": "code",
   "execution_count": 32,
   "metadata": {
    "ExecuteTime": {
     "end_time": "2020-09-03T22:11:56.728829Z",
     "start_time": "2020-09-03T22:11:56.725599Z"
    }
   },
   "outputs": [],
   "source": [
    "optimizer = BayesianOptimization(\n",
    "    f=entropy_F1_trx,\n",
    "    pbounds=pbounds,\n",
    "    random_state=1,\n",
    "    bounds_transformer=bounds_transformer\n",
    ")"
   ]
  },
  {
   "cell_type": "code",
   "execution_count": 33,
   "metadata": {},
   "outputs": [],
   "source": [
    "optimizer.probe(\n",
    "    params={\"beta_sp\": inv_softplus(9), \n",
    "            \"sigma_sp\": inv_softplus(95),\n",
    "            \"mu_logit\":logit(0.5),\n",
    "            #'epsilonIterate_logit': logit(0),\n",
    "            \"muIncr_logit\":logit(0.1),\n",
    "            \"epsilon_sp\":inv_softplus(4.0)},\n",
    "    lazy=True,\n",
    ")"
   ]
  },
  {
   "cell_type": "code",
   "execution_count": 34,
   "metadata": {
    "ExecuteTime": {
     "end_time": "2020-09-03T22:54:10.009085Z",
     "start_time": "2020-09-03T22:11:58.063246Z"
    }
   },
   "outputs": [
    {
     "name": "stdout",
     "output_type": "stream",
     "text": [
      "|   iter    |  target   |  beta_sp  | epsilo... | muIncr... | mu_logit  | sigma_sp  |\n",
      "-------------------------------------------------------------------------------------\n",
      "Mu:0.50|Mu+:0.10|Beta:9.00|Sigma:95.00|Epsilon:4.00|EpIter:0.00\n",
      "| \u001b[0m 1       \u001b[0m | \u001b[0m 2.546   \u001b[0m | \u001b[0m 9.0     \u001b[0m | \u001b[0m 3.982   \u001b[0m | \u001b[0m-2.197   \u001b[0m | \u001b[0m 0.0     \u001b[0m | \u001b[0m 95.0    \u001b[0m |\n",
      "Mu:0.80|Mu+:0.01|Beta:292.00|Sigma:103.00|Epsilon:504.38|EpIter:0.00\n",
      "| \u001b[0m 2       \u001b[0m | \u001b[0m 1.396   \u001b[0m | \u001b[0m 292.2   \u001b[0m | \u001b[0m 504.4   \u001b[0m | \u001b[0m-4.595   \u001b[0m | \u001b[0m 1.389   \u001b[0m | \u001b[0m 103.2   \u001b[0m |\n",
      "Mu:0.86|Mu+:0.03|Beta:65.00|Sigma:377.00|Epsilon:130.82|EpIter:0.00\n",
      "| \u001b[0m 3       \u001b[0m | \u001b[0m 1.759   \u001b[0m | \u001b[0m 65.13   \u001b[0m | \u001b[0m 130.8   \u001b[0m | \u001b[0m-3.486   \u001b[0m | \u001b[0m 1.823   \u001b[0m | \u001b[0m 377.4   \u001b[0m |\n",
      "Mu:0.98|Mu+:0.02|Beta:293.00|Sigma:19.00|Epsilon:479.82|EpIter:0.00\n",
      "| \u001b[0m 4       \u001b[0m | \u001b[0m 0.9424  \u001b[0m | \u001b[0m 293.8   \u001b[0m | \u001b[0m 479.8   \u001b[0m | \u001b[0m-3.939   \u001b[0m | \u001b[0m 4.035   \u001b[0m | \u001b[0m 19.7    \u001b[0m |\n",
      "Mu:0.66|Mu+:0.06|Beta:469.00|Sigma:139.00|Epsilon:292.43|EpIter:0.00\n",
      "| \u001b[0m 5       \u001b[0m | \u001b[0m-1.46    \u001b[0m | \u001b[0m 469.5   \u001b[0m | \u001b[0m 292.4   \u001b[0m | \u001b[0m-2.802   \u001b[0m | \u001b[0m 0.6451  \u001b[0m | \u001b[0m 139.1   \u001b[0m |\n",
      "Mu:0.96|Mu+:0.03|Beta:560.00|Sigma:613.00|Epsilon:677.80|EpIter:0.00\n",
      "| \u001b[0m 6       \u001b[0m | \u001b[0m 0.5878  \u001b[0m | \u001b[0m 560.6   \u001b[0m | \u001b[0m 677.8   \u001b[0m | \u001b[0m-3.589   \u001b[0m | \u001b[0m 3.181   \u001b[0m | \u001b[0m 613.5   \u001b[0m |\n",
      "Mu:0.69|Mu+:0.01|Beta:626.00|Sigma:614.00|Epsilon:60.03|EpIter:0.00\n",
      "| \u001b[0m 7       \u001b[0m | \u001b[0m-3.491   \u001b[0m | \u001b[0m 626.3   \u001b[0m | \u001b[0m 60.03   \u001b[0m | \u001b[0m-4.47    \u001b[0m | \u001b[0m 0.7804  \u001b[0m | \u001b[0m 614.8   \u001b[0m |\n",
      "Mu:0.92|Mu+:0.18|Beta:69.00|Sigma:484.00|Epsilon:295.09|EpIter:0.00\n",
      "| \u001b[0m 8       \u001b[0m | \u001b[0m 1.113   \u001b[0m | \u001b[0m 69.33   \u001b[0m | \u001b[0m 295.1   \u001b[0m | \u001b[0m-1.521   \u001b[0m | \u001b[0m 2.45    \u001b[0m | \u001b[0m 484.5   \u001b[0m |\n",
      "Mu:0.52|Mu+:0.13|Beta:221.00|Sigma:525.00|Epsilon:480.72|EpIter:0.00\n",
      "| \u001b[0m 9       \u001b[0m | \u001b[0m-7.193   \u001b[0m | \u001b[0m 221.2   \u001b[0m | \u001b[0m 480.7   \u001b[0m | \u001b[0m-1.917   \u001b[0m | \u001b[0m 0.08404 \u001b[0m | \u001b[0m 525.2   \u001b[0m |\n",
      "Mu:0.97|Mu+:0.02|Beta:692.00|Sigma:72.00|Epsilon:523.85|EpIter:0.00\n",
      "| \u001b[0m 10      \u001b[0m | \u001b[0m 0.8313  \u001b[0m | \u001b[0m 692.2   \u001b[0m | \u001b[0m 523.9   \u001b[0m | \u001b[0m-3.695   \u001b[0m | \u001b[0m 3.627   \u001b[0m | \u001b[0m 72.74   \u001b[0m |\n",
      "Mu:0.79|Mu+:0.03|Beta:313.00|Sigma:91.00|Epsilon:636.07|EpIter:0.00\n",
      "| \u001b[0m 11      \u001b[0m | \u001b[0m 0.9904  \u001b[0m | \u001b[0m 313.8   \u001b[0m | \u001b[0m 636.1   \u001b[0m | \u001b[0m-3.653   \u001b[0m | \u001b[0m 1.322   \u001b[0m | \u001b[0m 91.49   \u001b[0m |\n",
      "Mu:0.65|Mu+:0.07|Beta:31.00|Sigma:189.00|Epsilon:58.06|EpIter:0.00\n",
      "| \u001b[0m 12      \u001b[0m | \u001b[0m-0.4672  \u001b[0m | \u001b[0m 31.65   \u001b[0m | \u001b[0m 58.06   \u001b[0m | \u001b[0m-2.637   \u001b[0m | \u001b[0m 0.6088  \u001b[0m | \u001b[0m 189.3   \u001b[0m |\n",
      "Mu:0.50|Mu+:0.14|Beta:1.00|Sigma:15.00|Epsilon:1.00|EpIter:0.00\n",
      "| \u001b[0m 13      \u001b[0m | \u001b[0m-124.3   \u001b[0m | \u001b[0m 0.5413  \u001b[0m | \u001b[0m 0.5413  \u001b[0m | \u001b[0m-1.813   \u001b[0m | \u001b[0m 0.0     \u001b[0m | \u001b[0m 15.34   \u001b[0m |\n",
      "Mu:0.58|Mu+:0.12|Beta:8.00|Sigma:96.00|Epsilon:5.03|EpIter:0.00\n",
      "| \u001b[0m 14      \u001b[0m | \u001b[0m 1.913   \u001b[0m | \u001b[0m 8.721   \u001b[0m | \u001b[0m 5.027   \u001b[0m | \u001b[0m-1.971   \u001b[0m | \u001b[0m 0.3066  \u001b[0m | \u001b[0m 96.07   \u001b[0m |\n",
      "Mu:0.52|Mu+:0.11|Beta:8.00|Sigma:95.00|Epsilon:4.33|EpIter:0.00\n",
      "| \u001b[0m 15      \u001b[0m | \u001b[0m 2.15    \u001b[0m | \u001b[0m 8.913   \u001b[0m | \u001b[0m 4.322   \u001b[0m | \u001b[0m-2.124   \u001b[0m | \u001b[0m 0.0994  \u001b[0m | \u001b[0m 95.38   \u001b[0m |\n",
      "Mu:0.50|Mu+:0.10|Beta:9.00|Sigma:94.00|Epsilon:3.90|EpIter:0.00\n",
      "| \u001b[0m 16      \u001b[0m | \u001b[0m 2.398   \u001b[0m | \u001b[0m 9.04    \u001b[0m | \u001b[0m 3.877   \u001b[0m | \u001b[0m-2.221   \u001b[0m | \u001b[0m 0.0     \u001b[0m | \u001b[0m 95.0    \u001b[0m |\n",
      "Mu:0.50|Mu+:0.08|Beta:9.00|Sigma:94.00|Epsilon:2.37|EpIter:0.00\n",
      "| \u001b[0m 17      \u001b[0m | \u001b[0m 1.135   \u001b[0m | \u001b[0m 9.575   \u001b[0m | \u001b[0m 2.27    \u001b[0m | \u001b[0m-2.457   \u001b[0m | \u001b[0m 0.0     \u001b[0m | \u001b[0m 94.22   \u001b[0m |\n",
      "Mu:0.50|Mu+:0.09|Beta:7.00|Sigma:94.00|Epsilon:7.31|EpIter:0.00\n",
      "| \u001b[0m 18      \u001b[0m | \u001b[0m 1.031   \u001b[0m | \u001b[0m 7.605   \u001b[0m | \u001b[0m 7.311   \u001b[0m | \u001b[0m-2.347   \u001b[0m | \u001b[0m 0.0     \u001b[0m | \u001b[0m 94.31   \u001b[0m |\n",
      "Mu:0.50|Mu+:0.12|Beta:9.00|Sigma:99.00|Epsilon:3.65|EpIter:0.00\n",
      "| \u001b[0m 19      \u001b[0m | \u001b[0m 2.398   \u001b[0m | \u001b[0m 9.722   \u001b[0m | \u001b[0m 3.623   \u001b[0m | \u001b[0m-1.987   \u001b[0m | \u001b[0m 0.0     \u001b[0m | \u001b[0m 99.68   \u001b[0m |\n",
      "Mu:0.50|Mu+:0.12|Beta:5.00|Sigma:100.00|Epsilon:2.03|EpIter:0.00\n",
      "| \u001b[0m 20      \u001b[0m | \u001b[0m 1.195   \u001b[0m | \u001b[0m 5.936   \u001b[0m | \u001b[0m 1.894   \u001b[0m | \u001b[0m-2.008   \u001b[0m | \u001b[0m 0.0     \u001b[0m | \u001b[0m 100.1   \u001b[0m |\n",
      "Mu:0.50|Mu+:0.12|Beta:14.00|Sigma:99.00|Epsilon:5.10|EpIter:0.00\n",
      "| \u001b[0m 21      \u001b[0m | \u001b[0m 2.169   \u001b[0m | \u001b[0m 14.35   \u001b[0m | \u001b[0m 5.092   \u001b[0m | \u001b[0m-2.027   \u001b[0m | \u001b[0m 0.0     \u001b[0m | \u001b[0m 99.28   \u001b[0m |\n",
      "Mu:0.55|Mu+:0.09|Beta:11.00|Sigma:101.00|Epsilon:9.06|EpIter:0.00\n",
      "| \u001b[0m 22      \u001b[0m | \u001b[0m 0.832   \u001b[0m | \u001b[0m 11.82   \u001b[0m | \u001b[0m 9.062   \u001b[0m | \u001b[0m-2.35    \u001b[0m | \u001b[0m 0.2123  \u001b[0m | \u001b[0m 101.1   \u001b[0m |\n",
      "Mu:0.50|Mu+:0.11|Beta:15.00|Sigma:97.00|Epsilon:1.00|EpIter:0.00\n",
      "| \u001b[0m 23      \u001b[0m | \u001b[0m 0.1054  \u001b[0m | \u001b[0m 15.84   \u001b[0m | \u001b[0m 0.5413  \u001b[0m | \u001b[0m-2.059   \u001b[0m | \u001b[0m 0.0     \u001b[0m | \u001b[0m 97.06   \u001b[0m |\n",
      "Mu:0.50|Mu+:0.11|Beta:4.00|Sigma:101.00|Epsilon:7.36|EpIter:0.00\n",
      "| \u001b[0m 24      \u001b[0m | \u001b[0m 1.561   \u001b[0m | \u001b[0m 4.142   \u001b[0m | \u001b[0m 7.357   \u001b[0m | \u001b[0m-2.073   \u001b[0m | \u001b[0m 0.0     \u001b[0m | \u001b[0m 101.1   \u001b[0m |\n",
      "Mu:0.54|Mu+:0.09|Beta:8.00|Sigma:104.00|Epsilon:1.00|EpIter:0.00\n",
      "| \u001b[0m 25      \u001b[0m | \u001b[0m 0.1301  \u001b[0m | \u001b[0m 8.013   \u001b[0m | \u001b[0m 0.5413  \u001b[0m | \u001b[0m-2.309   \u001b[0m | \u001b[0m 0.1548  \u001b[0m | \u001b[0m 104.2   \u001b[0m |\n",
      "Mu:0.50|Mu+:0.11|Beta:10.00|Sigma:94.00|Epsilon:12.44|EpIter:0.00\n",
      "| \u001b[0m 26      \u001b[0m | \u001b[0m 0.05609 \u001b[0m | \u001b[0m 10.87   \u001b[0m | \u001b[0m 12.44   \u001b[0m | \u001b[0m-2.097   \u001b[0m | \u001b[0m 0.0     \u001b[0m | \u001b[0m 94.62   \u001b[0m |\n",
      "Mu:0.53|Mu+:0.11|Beta:1.00|Sigma:93.00|Epsilon:1.75|EpIter:0.00\n",
      "| \u001b[0m 27      \u001b[0m | \u001b[0m-124.3   \u001b[0m | \u001b[0m 1.422   \u001b[0m | \u001b[0m 1.565   \u001b[0m | \u001b[0m-2.107   \u001b[0m | \u001b[0m 0.1254  \u001b[0m | \u001b[0m 93.8    \u001b[0m |\n",
      "Mu:0.50|Mu+:0.10|Beta:10.00|Sigma:96.00|Epsilon:4.27|EpIter:0.00\n",
      "| \u001b[0m 28      \u001b[0m | \u001b[0m 2.079   \u001b[0m | \u001b[0m 10.0    \u001b[0m | \u001b[0m 4.255   \u001b[0m | \u001b[0m-2.215   \u001b[0m | \u001b[0m 0.000787\u001b[0m | \u001b[0m 96.64   \u001b[0m |\n",
      "Mu:0.50|Mu+:0.10|Beta:10.00|Sigma:96.00|Epsilon:4.38|EpIter:0.00\n",
      "| \u001b[0m 29      \u001b[0m | \u001b[0m 2.079   \u001b[0m | \u001b[0m 10.06   \u001b[0m | \u001b[0m 4.367   \u001b[0m | \u001b[0m-2.243   \u001b[0m | \u001b[0m 0.0     \u001b[0m | \u001b[0m 96.28   \u001b[0m |\n",
      "Mu:0.50|Mu+:0.10|Beta:9.00|Sigma:97.00|Epsilon:4.22|EpIter:0.00\n",
      "| \u001b[0m 30      \u001b[0m | \u001b[0m 2.332   \u001b[0m | \u001b[0m 9.627   \u001b[0m | \u001b[0m 4.207   \u001b[0m | \u001b[0m-2.147   \u001b[0m | \u001b[0m 0.01925 \u001b[0m | \u001b[0m 97.44   \u001b[0m |\n",
      "Mu:0.50|Mu+:0.09|Beta:9.00|Sigma:95.00|Epsilon:5.08|EpIter:0.00\n",
      "| \u001b[0m 31      \u001b[0m | \u001b[0m 1.83    \u001b[0m | \u001b[0m 9.916   \u001b[0m | \u001b[0m 5.072   \u001b[0m | \u001b[0m-2.257   \u001b[0m | \u001b[0m 0.0     \u001b[0m | \u001b[0m 95.84   \u001b[0m |\n",
      "Mu:0.52|Mu+:0.10|Beta:10.00|Sigma:96.00|Epsilon:3.50|EpIter:0.00\n",
      "| \u001b[0m 32      \u001b[0m | \u001b[0m 1.886   \u001b[0m | \u001b[0m 10.0    \u001b[0m | \u001b[0m 3.465   \u001b[0m | \u001b[0m-2.144   \u001b[0m | \u001b[0m 0.07402 \u001b[0m | \u001b[0m 96.51   \u001b[0m |\n",
      "Mu:0.51|Mu+:0.10|Beta:9.00|Sigma:97.00|Epsilon:4.93|EpIter:0.00\n",
      "| \u001b[0m 33      \u001b[0m | \u001b[0m 2.159   \u001b[0m | \u001b[0m 9.789   \u001b[0m | \u001b[0m 4.922   \u001b[0m | \u001b[0m-2.149   \u001b[0m | \u001b[0m 0.03388 \u001b[0m | \u001b[0m 97.8    \u001b[0m |\n",
      "Mu:0.51|Mu+:0.10|Beta:10.00|Sigma:97.00|Epsilon:4.35|EpIter:0.00\n",
      "| \u001b[0m 34      \u001b[0m | \u001b[0m 2.109   \u001b[0m | \u001b[0m 10.97   \u001b[0m | \u001b[0m 4.337   \u001b[0m | \u001b[0m-2.154   \u001b[0m | \u001b[0m 0.05996 \u001b[0m | \u001b[0m 97.93   \u001b[0m |\n",
      "Mu:0.50|Mu+:0.10|Beta:9.00|Sigma:97.00|Epsilon:3.80|EpIter:0.00\n",
      "| \u001b[0m 35      \u001b[0m | \u001b[0m 2.398   \u001b[0m | \u001b[0m 9.289   \u001b[0m | \u001b[0m 3.773   \u001b[0m | \u001b[0m-2.236   \u001b[0m | \u001b[0m 0.0     \u001b[0m | \u001b[0m 97.73   \u001b[0m |\n",
      "Mu:0.50|Mu+:0.10|Beta:9.00|Sigma:97.00|Epsilon:5.28|EpIter:0.00\n",
      "| \u001b[0m 36      \u001b[0m | \u001b[0m 1.83    \u001b[0m | \u001b[0m 9.348   \u001b[0m | \u001b[0m 5.279   \u001b[0m | \u001b[0m-2.232   \u001b[0m | \u001b[0m 0.0     \u001b[0m | \u001b[0m 97.16   \u001b[0m |\n",
      "Mu:0.50|Mu+:0.10|Beta:10.00|Sigma:97.00|Epsilon:3.38|EpIter:0.00\n",
      "| \u001b[0m 37      \u001b[0m | \u001b[0m 1.963   \u001b[0m | \u001b[0m 10.27   \u001b[0m | \u001b[0m 3.347   \u001b[0m | \u001b[0m-2.166   \u001b[0m | \u001b[0m 0.0     \u001b[0m | \u001b[0m 97.69   \u001b[0m |\n",
      "Mu:0.51|Mu+:0.10|Beta:10.00|Sigma:95.00|Epsilon:3.95|EpIter:0.00\n",
      "| \u001b[0m 38      \u001b[0m | \u001b[0m 2.334   \u001b[0m | \u001b[0m 10.47   \u001b[0m | \u001b[0m 3.926   \u001b[0m | \u001b[0m-2.169   \u001b[0m | \u001b[0m 0.03934 \u001b[0m | \u001b[0m 95.73   \u001b[0m |\n",
      "Mu:0.51|Mu+:0.10|Beta:10.00|Sigma:98.00|Epsilon:4.99|EpIter:0.00\n",
      "| \u001b[0m 39      \u001b[0m | \u001b[0m 1.996   \u001b[0m | \u001b[0m 10.97   \u001b[0m | \u001b[0m 4.987   \u001b[0m | \u001b[0m-2.172   \u001b[0m | \u001b[0m 0.0354  \u001b[0m | \u001b[0m 98.62   \u001b[0m |\n",
      "Mu:0.51|Mu+:0.10|Beta:9.00|Sigma:98.00|Epsilon:4.47|EpIter:0.00\n"
     ]
    },
    {
     "name": "stdout",
     "output_type": "stream",
     "text": [
      "| \u001b[0m 40      \u001b[0m | \u001b[0m 2.042   \u001b[0m | \u001b[0m 9.089   \u001b[0m | \u001b[0m 4.456   \u001b[0m | \u001b[0m-2.174   \u001b[0m | \u001b[0m 0.03186 \u001b[0m | \u001b[0m 98.69   \u001b[0m |\n",
      "Mu:0.51|Mu+:0.10|Beta:11.00|Sigma:96.00|Epsilon:4.98|EpIter:0.00\n",
      "| \u001b[0m 41      \u001b[0m | \u001b[0m 2.042   \u001b[0m | \u001b[0m 11.03   \u001b[0m | \u001b[0m 4.97    \u001b[0m | \u001b[0m-2.177   \u001b[0m | \u001b[0m 0.02868 \u001b[0m | \u001b[0m 97.0    \u001b[0m |\n",
      "Mu:0.50|Mu+:0.10|Beta:11.00|Sigma:98.00|Epsilon:3.71|EpIter:0.00\n",
      "| \u001b[0m 42      \u001b[0m | \u001b[0m 2.455   \u001b[0m | \u001b[0m 11.4    \u001b[0m | \u001b[0m 3.688   \u001b[0m | \u001b[0m-2.179   \u001b[0m | \u001b[0m 0.0     \u001b[0m | \u001b[0m 98.4    \u001b[0m |\n",
      "Mu:0.50|Mu+:0.10|Beta:11.00|Sigma:96.00|Epsilon:3.58|EpIter:0.00\n",
      "| \u001b[0m 43      \u001b[0m | \u001b[0m 2.455   \u001b[0m | \u001b[0m 11.39   \u001b[0m | \u001b[0m 3.552   \u001b[0m | \u001b[0m-2.18    \u001b[0m | \u001b[0m 0.0     \u001b[0m | \u001b[0m 96.95   \u001b[0m |\n",
      "Mu:0.50|Mu+:0.10|Beta:12.00|Sigma:98.00|Epsilon:4.82|EpIter:0.00\n",
      "| \u001b[0m 44      \u001b[0m | \u001b[0m 2.042   \u001b[0m | \u001b[0m 12.1    \u001b[0m | \u001b[0m 4.815   \u001b[0m | \u001b[0m-2.183   \u001b[0m | \u001b[0m 0.008089\u001b[0m | \u001b[0m 98.19   \u001b[0m |\n",
      "Mu:0.50|Mu+:0.10|Beta:10.00|Sigma:97.00|Epsilon:3.07|EpIter:0.00\n",
      "| \u001b[0m 45      \u001b[0m | \u001b[0m 1.924   \u001b[0m | \u001b[0m 10.36   \u001b[0m | \u001b[0m 3.025   \u001b[0m | \u001b[0m-2.211   \u001b[0m | \u001b[0m 0.0     \u001b[0m | \u001b[0m 97.91   \u001b[0m |\n",
      "Mu:0.50|Mu+:0.10|Beta:10.00|Sigma:95.00|Epsilon:4.39|EpIter:0.00\n",
      "| \u001b[0m 46      \u001b[0m | \u001b[0m 2.042   \u001b[0m | \u001b[0m 10.6    \u001b[0m | \u001b[0m 4.377   \u001b[0m | \u001b[0m-2.185   \u001b[0m | \u001b[0m 0.01693 \u001b[0m | \u001b[0m 95.12   \u001b[0m |\n",
      "Mu:0.50|Mu+:0.10|Beta:10.00|Sigma:96.00|Epsilon:3.10|EpIter:0.00\n",
      "| \u001b[0m 47      \u001b[0m | \u001b[0m 1.924   \u001b[0m | \u001b[0m 10.74   \u001b[0m | \u001b[0m 3.05    \u001b[0m | \u001b[0m-2.208   \u001b[0m | \u001b[0m 0.0     \u001b[0m | \u001b[0m 96.08   \u001b[0m |\n",
      "Mu:0.50|Mu+:0.10|Beta:10.00|Sigma:97.00|Epsilon:5.87|EpIter:0.00\n",
      "| \u001b[0m 48      \u001b[0m | \u001b[0m 1.702   \u001b[0m | \u001b[0m 10.71   \u001b[0m | \u001b[0m 5.868   \u001b[0m | \u001b[0m-2.187   \u001b[0m | \u001b[0m 0.0     \u001b[0m | \u001b[0m 97.12   \u001b[0m |\n",
      "Mu:0.50|Mu+:0.10|Beta:9.00|Sigma:95.00|Epsilon:5.63|EpIter:0.00\n",
      "| \u001b[0m 49      \u001b[0m | \u001b[0m 1.755   \u001b[0m | \u001b[0m 9.821   \u001b[0m | \u001b[0m 5.623   \u001b[0m | \u001b[0m-2.206   \u001b[0m | \u001b[0m 0.0     \u001b[0m | \u001b[0m 95.06   \u001b[0m |\n",
      "Mu:0.50|Mu+:0.10|Beta:9.00|Sigma:96.00|Epsilon:3.59|EpIter:0.00\n",
      "| \u001b[0m 50      \u001b[0m | \u001b[0m 2.398   \u001b[0m | \u001b[0m 9.375   \u001b[0m | \u001b[0m 3.557   \u001b[0m | \u001b[0m-2.205   \u001b[0m | \u001b[0m 0.0     \u001b[0m | \u001b[0m 96.62   \u001b[0m |\n",
      "Mu:0.50|Mu+:0.10|Beta:10.00|Sigma:96.00|Epsilon:4.40|EpIter:0.00\n",
      "| \u001b[0m 51      \u001b[0m | \u001b[0m 2.042   \u001b[0m | \u001b[0m 10.52   \u001b[0m | \u001b[0m 4.391   \u001b[0m | \u001b[0m-2.19    \u001b[0m | \u001b[0m 0.0     \u001b[0m | \u001b[0m 96.55   \u001b[0m |\n",
      "Mu:0.50|Mu+:0.10|Beta:10.00|Sigma:94.00|Epsilon:3.97|EpIter:0.00\n",
      "| \u001b[0m 52      \u001b[0m | \u001b[0m 2.455   \u001b[0m | \u001b[0m 10.37   \u001b[0m | \u001b[0m 3.948   \u001b[0m | \u001b[0m-2.191   \u001b[0m | \u001b[0m 0.0     \u001b[0m | \u001b[0m 94.7    \u001b[0m |\n",
      "Mu:0.50|Mu+:0.10|Beta:9.00|Sigma:95.00|Epsilon:3.12|EpIter:0.00\n",
      "| \u001b[0m 53      \u001b[0m | \u001b[0m 1.924   \u001b[0m | \u001b[0m 9.909   \u001b[0m | \u001b[0m 3.078   \u001b[0m | \u001b[0m-2.191   \u001b[0m | \u001b[0m 0.0     \u001b[0m | \u001b[0m 95.88   \u001b[0m |\n",
      "Mu:0.50|Mu+:0.10|Beta:9.00|Sigma:94.00|Epsilon:4.83|EpIter:0.00\n",
      "| \u001b[0m 54      \u001b[0m | \u001b[0m 2.005   \u001b[0m | \u001b[0m 9.928   \u001b[0m | \u001b[0m 4.819   \u001b[0m | \u001b[0m-2.202   \u001b[0m | \u001b[0m 0.0     \u001b[0m | \u001b[0m 94.25   \u001b[0m |\n",
      "Mu:0.50|Mu+:0.10|Beta:9.00|Sigma:96.00|Epsilon:4.99|EpIter:0.00\n",
      "| \u001b[0m 55      \u001b[0m | \u001b[0m 2.005   \u001b[0m | \u001b[0m 9.447   \u001b[0m | \u001b[0m 4.981   \u001b[0m | \u001b[0m-2.202   \u001b[0m | \u001b[0m 0.0     \u001b[0m | \u001b[0m 96.02   \u001b[0m |\n",
      "Mu:0.50|Mu+:0.10|Beta:9.00|Sigma:95.00|Epsilon:3.87|EpIter:0.00\n",
      "| \u001b[0m 56      \u001b[0m | \u001b[0m 2.398   \u001b[0m | \u001b[0m 9.9     \u001b[0m | \u001b[0m 3.85    \u001b[0m | \u001b[0m-2.201   \u001b[0m | \u001b[0m 0.0     \u001b[0m | \u001b[0m 95.36   \u001b[0m |\n",
      "Mu:0.50|Mu+:0.10|Beta:9.00|Sigma:94.00|Epsilon:4.30|EpIter:0.00\n",
      "| \u001b[0m 57      \u001b[0m | \u001b[0m 2.042   \u001b[0m | \u001b[0m 9.81    \u001b[0m | \u001b[0m 4.287   \u001b[0m | \u001b[0m-2.201   \u001b[0m | \u001b[0m 0.0     \u001b[0m | \u001b[0m 94.18   \u001b[0m |\n",
      "Mu:0.50|Mu+:0.10|Beta:9.00|Sigma:95.00|Epsilon:4.15|EpIter:0.00\n",
      "| \u001b[0m 58      \u001b[0m | \u001b[0m 2.202   \u001b[0m | \u001b[0m 9.723   \u001b[0m | \u001b[0m 4.132   \u001b[0m | \u001b[0m-2.201   \u001b[0m | \u001b[0m 0.0     \u001b[0m | \u001b[0m 95.74   \u001b[0m |\n",
      "Mu:0.50|Mu+:0.10|Beta:9.00|Sigma:95.00|Epsilon:3.36|EpIter:0.00\n",
      "| \u001b[0m 59      \u001b[0m | \u001b[0m 1.924   \u001b[0m | \u001b[0m 9.656   \u001b[0m | \u001b[0m 3.326   \u001b[0m | \u001b[0m-2.194   \u001b[0m | \u001b[0m 0.0     \u001b[0m | \u001b[0m 95.67   \u001b[0m |\n",
      "Mu:0.50|Mu+:0.10|Beta:9.00|Sigma:95.00|Epsilon:4.58|EpIter:0.00\n",
      "| \u001b[0m 60      \u001b[0m | \u001b[0m 2.005   \u001b[0m | \u001b[0m 9.59    \u001b[0m | \u001b[0m 4.572   \u001b[0m | \u001b[0m-2.2     \u001b[0m | \u001b[0m 0.0     \u001b[0m | \u001b[0m 95.18   \u001b[0m |\n",
      "Mu:0.50|Mu+:0.10|Beta:9.00|Sigma:94.00|Epsilon:4.52|EpIter:0.00\n",
      "| \u001b[0m 61      \u001b[0m | \u001b[0m 2.005   \u001b[0m | \u001b[0m 9.302   \u001b[0m | \u001b[0m 4.513   \u001b[0m | \u001b[0m-2.2     \u001b[0m | \u001b[0m 0.0     \u001b[0m | \u001b[0m 94.46   \u001b[0m |\n",
      "=====================================================================================\n"
     ]
    }
   ],
   "source": [
    "optimizer.maximize(\n",
    "    init_points=10,\n",
    "    n_iter=50,\n",
    "    acq=\"ucb\",\n",
    "    kappa=5,\n",
    "    alpha=1\n",
    ")"
   ]
  },
  {
   "cell_type": "code",
   "execution_count": 35,
   "metadata": {},
   "outputs": [
    {
     "data": {
      "text/plain": [
       "{'target': 2.545531312045612,\n",
       " 'params': {'beta_sp': 8.999876582580297,\n",
       "  'epsilon_sp': 3.9815145531741134,\n",
       "  'muIncr_logit': -2.197224577336219,\n",
       "  'mu_logit': 0.0,\n",
       "  'sigma_sp': 95.0}}"
      ]
     },
     "execution_count": 35,
     "metadata": {},
     "output_type": "execute_result"
    }
   ],
   "source": [
    "optimizer.max"
   ]
  },
  {
   "cell_type": "code",
   "execution_count": 36,
   "metadata": {
    "ExecuteTime": {
     "end_time": "2020-09-03T22:58:42.653746Z",
     "start_time": "2020-09-03T22:58:42.649916Z"
    }
   },
   "outputs": [
    {
     "data": {
      "text/plain": [
       "0.92727273"
      ]
     },
     "execution_count": 36,
     "metadata": {},
     "output_type": "execute_result"
    }
   ],
   "source": [
    "inv_logit(optimizer.max[\"target\"])"
   ]
  },
  {
   "cell_type": "code",
   "execution_count": 37,
   "metadata": {
    "ExecuteTime": {
     "end_time": "2020-09-03T22:59:56.414823Z",
     "start_time": "2020-09-03T22:59:56.412477Z"
    }
   },
   "outputs": [],
   "source": [
    "params=optimizer.max[\"params\"]"
   ]
  },
  {
   "cell_type": "code",
   "execution_count": 38,
   "metadata": {
    "ExecuteTime": {
     "end_time": "2020-09-03T23:00:39.452694Z",
     "start_time": "2020-09-03T23:00:39.449279Z"
    }
   },
   "outputs": [
    {
     "data": {
      "text/plain": [
       "9.0"
      ]
     },
     "execution_count": 38,
     "metadata": {},
     "output_type": "execute_result"
    }
   ],
   "source": [
    "softplus(params[\"beta_sp\"])"
   ]
  },
  {
   "cell_type": "code",
   "execution_count": 39,
   "metadata": {
    "ExecuteTime": {
     "end_time": "2020-09-03T23:01:09.671719Z",
     "start_time": "2020-09-03T23:01:09.668333Z"
    }
   },
   "outputs": [
    {
     "data": {
      "text/plain": [
       "95.0"
      ]
     },
     "execution_count": 39,
     "metadata": {},
     "output_type": "execute_result"
    }
   ],
   "source": [
    "softplus(params[\"sigma_sp\"])"
   ]
  },
  {
   "cell_type": "code",
   "execution_count": 40,
   "metadata": {
    "ExecuteTime": {
     "end_time": "2020-09-04T01:35:00.233453Z",
     "start_time": "2020-09-04T01:35:00.230360Z"
    }
   },
   "outputs": [
    {
     "data": {
      "text/plain": [
       "0.5"
      ]
     },
     "execution_count": 40,
     "metadata": {},
     "output_type": "execute_result"
    }
   ],
   "source": [
    "inv_logit(params[\"mu_logit\"])"
   ]
  },
  {
   "cell_type": "code",
   "execution_count": 41,
   "metadata": {
    "ExecuteTime": {
     "end_time": "2020-09-04T01:35:28.881809Z",
     "start_time": "2020-09-04T01:35:28.878641Z"
    }
   },
   "outputs": [
    {
     "data": {
      "text/plain": [
       "0.10000000000000003"
      ]
     },
     "execution_count": 41,
     "metadata": {},
     "output_type": "execute_result"
    }
   ],
   "source": [
    "inv_logit(params[\"muIncr_logit\"])"
   ]
  },
  {
   "cell_type": "code",
   "execution_count": 42,
   "metadata": {
    "ExecuteTime": {
     "end_time": "2020-09-04T01:36:13.729976Z",
     "start_time": "2020-09-04T01:36:13.726798Z"
    }
   },
   "outputs": [
    {
     "data": {
      "text/plain": [
       "4.0"
      ]
     },
     "execution_count": 42,
     "metadata": {},
     "output_type": "execute_result"
    }
   ],
   "source": [
    "softplus(params[\"epsilon_sp\"])"
   ]
  },
  {
   "cell_type": "code",
   "execution_count": 43,
   "metadata": {},
   "outputs": [
    {
     "name": "stdout",
     "output_type": "stream",
     "text": [
      "\n",
      ">>>>>>>>>>>>\n",
      "Starting Iteration mu= 0.5\n",
      "Starting Iteration epsilon= 4.0\n",
      "Running NewMatrix Jar!\n",
      " Single-Reference Blocks = 1\n",
      "\n",
      " Multi-Reference Blocks = 1012\n",
      "NewMatrix Iterateblocks Total Time = 0.6766810426488519\n",
      "\n",
      "\n",
      ">>>>>>>>>>>>\n",
      "Starting Iteration mu= 0.6\n",
      "Starting Iteration epsilon= 4.0\n",
      "Running NewMatrix Jar!\n",
      " Single-Reference Blocks = 1\n",
      "\n",
      " Multi-Reference Blocks = 602\n",
      "NewMatrix Iterateblocks Total Time = 0.5582010978832841\n",
      "\n",
      "\n",
      ">>>>>>>>>>>>\n",
      "Starting Iteration mu= 0.7\n",
      "Starting Iteration epsilon= 4.0\n",
      "Running NewMatrix Jar!\n",
      " Single-Reference Blocks = 1\n",
      "\n",
      " Multi-Reference Blocks = 301\n",
      "NewMatrix Iterateblocks Total Time = 0.3998214527964592\n",
      "\n",
      "\n",
      ">>>>>>>>>>>>\n",
      "Starting Iteration mu= 0.7999999999999999\n",
      "Starting Iteration epsilon= 4.0\n",
      "Running NewMatrix Jar!\n",
      " Single-Reference Blocks = 1\n",
      "\n",
      " Multi-Reference Blocks = 157\n",
      "NewMatrix Iterateblocks Total Time = 0.29991207737475634\n",
      "\n",
      "\n",
      ">>>>>>>>>>>>\n",
      "Starting Iteration mu= 0.8999999999999999\n",
      "Starting Iteration epsilon= 4.0\n",
      "Running NewMatrix Jar!\n",
      " Single-Reference Blocks = 1\n",
      "\n",
      " Multi-Reference Blocks = 87\n",
      "NewMatrix Iterateblocks Total Time = 0.23414386808872223\n",
      "\n",
      "Precision = TP / (TP + FP) ......................... = 0.93577982\n",
      "Recall = TP / (TP + FN) ............................ = 0.91891892\n",
      "F-Measure .......................................... = 0.92727273\n"
     ]
    },
    {
     "data": {
      "text/plain": [
       "0.92727273"
      ]
     },
     "execution_count": 43,
     "metadata": {},
     "output_type": "execute_result"
    }
   ],
   "source": [
    "entropy_F1(mu=0.5,\n",
    "           muIncr=0.1,\n",
    "           beta=9,\n",
    "           sigma=95,\n",
    "           epsilon=4.0,\n",
    "           epsilonIterate=0)"
   ]
  }
 ],
 "metadata": {
  "kernelspec": {
   "display_name": "Python 3",
   "language": "python",
   "name": "python3"
  },
  "language_info": {
   "codemirror_mode": {
    "name": "ipython",
    "version": 3
   },
   "file_extension": ".py",
   "mimetype": "text/x-python",
   "name": "python",
   "nbconvert_exporter": "python",
   "pygments_lexer": "ipython3",
   "version": "3.7.4"
  },
  "toc": {
   "base_numbering": 1,
   "nav_menu": {},
   "number_sections": true,
   "sideBar": true,
   "skip_h1_title": false,
   "title_cell": "Table of Contents",
   "title_sidebar": "Contents",
   "toc_cell": false,
   "toc_position": {},
   "toc_section_display": true,
   "toc_window_display": false
  },
  "varInspector": {
   "cols": {
    "lenName": 16,
    "lenType": 16,
    "lenVar": 40
   },
   "kernels_config": {
    "python": {
     "delete_cmd_postfix": "",
     "delete_cmd_prefix": "del ",
     "library": "var_list.py",
     "varRefreshCmd": "print(var_dic_list())"
    },
    "r": {
     "delete_cmd_postfix": ") ",
     "delete_cmd_prefix": "rm(",
     "library": "var_list.r",
     "varRefreshCmd": "cat(var_dic_list()) "
    }
   },
   "types_to_exclude": [
    "module",
    "function",
    "builtin_function_or_method",
    "instance",
    "_Feature"
   ],
   "window_display": false
  }
 },
 "nbformat": 4,
 "nbformat_minor": 2
}
