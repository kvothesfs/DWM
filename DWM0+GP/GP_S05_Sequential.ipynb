{
 "cells": [
  {
   "cell_type": "code",
   "execution_count": 1,
   "metadata": {
    "ExecuteTime": {
     "end_time": "2020-09-03T21:59:20.041891Z",
     "start_time": "2020-09-03T21:59:10.621897Z"
    }
   },
   "outputs": [
    {
     "name": "stdout",
     "output_type": "stream",
     "text": [
      "Tokenizing References\n",
      "Total References= 3004\n",
      "Total Tokens Found = 38106\n",
      "Total Tokens Output = 38026\n",
      "Dictionary Load = 67077\n",
      "<class 'dict'>\n",
      "Global Replace Cycle\n",
      "Total References= 3004\n",
      "Total Tokens= 38026\n",
      "Unique Tokens= 7190\n",
      "Minimum Frequency of Standard Token =  5\n",
      "Minimum Length of Standard Token =  5\n",
      "Maximum Frequency of Error Token =  3\n",
      "References Processed= 3004\n",
      "Sorted Token Size = 7190\n",
      "Clean Token Size = 2887\n",
      "*Stop Replacements here\n",
      "References Processed =  3004\n",
      "Total Replacement Pairs = 148\n",
      "Tokens Read = 38026\n",
      "Tokens Changed =  216\n",
      "References Changed = 210\n"
     ]
    }
   ],
   "source": [
    "import DWM1_Tokenizer\n",
    "import DWM2_Global_Token_Replace_NewDict\n",
    "import DWM3_Entropy_Cluster\n",
    "# Settings for Tokenizer\n",
    "inputSampleName = r'S5'\n",
    "delimiter=','\n",
    "hasHeader = True\n",
    "tokenizerType = 'Splitter'\n",
    "removeDuplicateTokens = True\n",
    "\n",
    "# Setting for global replacement DWM2\n",
    "runReplacement = True\n",
    "minFreqStdToken = 5\n",
    "minLenStdToken = 5 #Change from 3 to 5 as in paper\n",
    "maxFreqErrToken = 3\n",
    "\n",
    "# Cluster Settings\n",
    "\n",
    "\n",
    "DWM1_Tokenizer.tokenizeCycle(inputSampleName, delimiter, hasHeader, removeDuplicateTokens, tokenizerType)\n",
    "prefixString = inputSampleName +','+tokenizerType+','+str(removeDuplicateTokens)\n",
    "fileToCluster = inputSampleName + '-Tokenized.txt'\n",
    "if runReplacement:\n",
    "    DWM2_Global_Token_Replace_NewDict.globalReplace(inputSampleName, minFreqStdToken, minLenStdToken, maxFreqErrToken)\n",
    "    fileToCluster = inputSampleName + '-TokenReplace.txt'\n",
    "    prefixString = prefixString+','+str(minFreqStdToken)+','+str(minLenStdToken)+','+str(maxFreqErrToken)\n",
    "else:\n",
    "    prefixString = prefixString+',0,0,0'\n",
    "\n",
    "# Cluster fixed settings\n",
    "epsilonIterate = 0.0\n",
    "runClusterMetrics = False\n",
    "runFinalMetrics = True\n",
    "createFinalJoin = False"
   ]
  },
  {
   "cell_type": "code",
   "execution_count": 2,
   "metadata": {},
   "outputs": [],
   "source": [
    "status=\"done\""
   ]
  },
  {
   "cell_type": "code",
   "execution_count": 3,
   "metadata": {},
   "outputs": [
    {
     "name": "stdout",
     "output_type": "stream",
     "text": [
      "done\n"
     ]
    }
   ],
   "source": [
    "print(status)"
   ]
  },
  {
   "cell_type": "code",
   "execution_count": 4,
   "metadata": {
    "ExecuteTime": {
     "end_time": "2020-09-03T15:11:39.765508Z",
     "start_time": "2020-09-03T15:03:19.495876Z"
    },
    "scrolled": false
   },
   "outputs": [],
   "source": [
    "# # Cluster Robot Settings\n",
    "# muStart = 0.60\n",
    "# muEnd = 0.60\n",
    "# muIncr = 0.05\n",
    "# betaStart = 14\n",
    "# betaEnd = 14\n",
    "# betaIncr = 1\n",
    "# sigmaStart = 145\n",
    "# sigmaEnd = 145\n",
    "# sigmaIncr = 1\n",
    "# epsilonStart = 35\n",
    "# epsilonEnd = 35\n",
    "# epsilonIncr = 1\n",
    "# mu = muStart\n",
    "# while mu <= muEnd:\n",
    "#     beta = betaStart\n",
    "#     while beta <= betaEnd:\n",
    "#         sigma = sigmaStart\n",
    "#         while sigma <= sigmaEnd:\n",
    "#             epsilon = epsilonStart\n",
    "#             while epsilon <= epsilonEnd:\n",
    "#                 suffixString =','+str(epsilon)+','+str(epsilonIterate)\n",
    "#                 resultsList = DWM3_Entropy_Cluster.driver(fileToCluster, beta, sigma, mu, muIncr,epsilon,  \\\n",
    "#                                                      epsilonIterate,runClusterMetrics, runFinalMetrics, createFinalJoin, hasHeader)\n",
    "#                 seg0a = ','+str(resultsList[0])+','+str(resultsList[1])+','+str(resultsList[2])+','+str(resultsList[3])\n",
    "#                 seg0b =','+str(resultsList[4])+','+str(resultsList[5])+','+str(resultsList[6])\n",
    "#                 seg1 = ','+str(beta)+','+str(sigma)+','+str(mu)+ ',' +str(muIncr)\n",
    "#                 seg2 = ','+str(resultsList[7])+','+str(resultsList[8])+','+str(resultsList[9])\n",
    "#                 outString = prefixString+seg0a+seg0b+suffixString+seg1+seg2+'\\n'\n",
    "#                 resultsFile = open('RobotResults.txt','a+')\n",
    "#                 resultsFile.write(outString)\n",
    "#                 resultsFile.close()\n",
    "#                 epsilon = epsilon + epsilonIncr\n",
    "#             sigma = sigma + sigmaIncr\n",
    "#         beta = beta + betaIncr\n",
    "#     mu = mu + muIncr\n",
    "\n",
    "\n",
    " "
   ]
  },
  {
   "cell_type": "markdown",
   "metadata": {
    "ExecuteTime": {
     "end_time": "2020-09-03T16:36:26.229783Z",
     "start_time": "2020-09-03T16:36:26.227755Z"
    }
   },
   "source": [
    "## Bayesian Optimization of Hyperparameters"
   ]
  },
  {
   "cell_type": "code",
   "execution_count": 5,
   "metadata": {},
   "outputs": [],
   "source": [
    "import numpy as np"
   ]
  },
  {
   "cell_type": "markdown",
   "metadata": {
    "ExecuteTime": {
     "end_time": "2020-09-03T16:36:47.947518Z",
     "start_time": "2020-09-03T16:36:47.944251Z"
    }
   },
   "source": [
    "Create a function of the parameters that returns the F score"
   ]
  },
  {
   "cell_type": "code",
   "execution_count": 6,
   "metadata": {
    "ExecuteTime": {
     "end_time": "2020-09-03T21:59:42.561300Z",
     "start_time": "2020-09-03T21:59:42.557193Z"
    }
   },
   "outputs": [],
   "source": [
    "def entropy_F1(beta=14,sigma=145,mu=0.6,muIncr=0.05,epsilon=35,epsilonIterate=0):\n",
    "    resultsList = DWM3_Entropy_Cluster.driver(fileToCluster, \n",
    "                                  beta, \n",
    "                                  sigma, \n",
    "                                  mu, \n",
    "                                  muIncr,\n",
    "                                  epsilon,\n",
    "                                  epsilonIterate,\n",
    "                                  runClusterMetrics, \n",
    "                                  runFinalMetrics, \n",
    "                                  createFinalJoin, \n",
    "                                  hasHeader)\n",
    "    return resultsList[9]"
   ]
  },
  {
   "cell_type": "code",
   "execution_count": 7,
   "metadata": {
    "ExecuteTime": {
     "end_time": "2020-09-03T22:06:32.164588Z",
     "start_time": "2020-09-03T21:59:43.696518Z"
    }
   },
   "outputs": [
    {
     "name": "stdout",
     "output_type": "stream",
     "text": [
      "\n",
      ">>>>>>>>>>>>\n",
      "Starting Iteration mu= 0.5\n",
      "Starting Iteration epsilon= 3.0\n",
      "Running NewMatrix Jar!\n",
      " Single-Reference Blocks = 1\n",
      "\n",
      " Multi-Reference Blocks = 3567\n",
      "NewMatrix Iterateblocks Total Time = 1.613547770306468\n",
      "\n",
      "\n",
      ">>>>>>>>>>>>\n",
      "Starting Iteration mu= 0.6\n",
      "Starting Iteration epsilon= 3.0\n",
      "Running NewMatrix Jar!\n",
      " Single-Reference Blocks = 1\n",
      "\n",
      " Multi-Reference Blocks = 2642\n",
      "NewMatrix Iterateblocks Total Time = 1.4009002530947328\n",
      "\n",
      "\n",
      ">>>>>>>>>>>>\n",
      "Starting Iteration mu= 0.7\n",
      "Starting Iteration epsilon= 3.0\n",
      "Running NewMatrix Jar!\n",
      " Single-Reference Blocks = 1\n",
      "\n",
      " Multi-Reference Blocks = 1632\n",
      "NewMatrix Iterateblocks Total Time = 1.0055415872484446\n",
      "\n",
      "\n",
      ">>>>>>>>>>>>\n",
      "Starting Iteration mu= 0.7999999999999999\n",
      "Starting Iteration epsilon= 3.0\n",
      "Running NewMatrix Jar!\n",
      " Single-Reference Blocks = 1\n",
      "\n",
      " Multi-Reference Blocks = 842\n",
      "NewMatrix Iterateblocks Total Time = 0.7899485100060701\n",
      "\n",
      "\n",
      ">>>>>>>>>>>>\n",
      "Starting Iteration mu= 0.8999999999999999\n",
      "Starting Iteration epsilon= 3.0\n",
      "Running NewMatrix Jar!\n",
      " Single-Reference Blocks = 1\n",
      "\n",
      " Multi-Reference Blocks = 319\n",
      "NewMatrix Iterateblocks Total Time = 0.4256158210337162\n",
      "\n",
      "\n",
      ">>>>>>>>>>>>\n",
      "Starting Iteration mu= 0.9999999999999999\n",
      "Starting Iteration epsilon= 3.0\n",
      "Running NewMatrix Jar!\n",
      " Single-Reference Blocks = 1\n",
      "\n",
      " Multi-Reference Blocks = 83\n",
      "NewMatrix Iterateblocks Total Time = 0.2516369204968214\n",
      "\n",
      "Precision = TP / (TP + FP) ......................... = 0.99161585\n",
      "Recall = TP / (TP + FN) ............................ = 0.85255570\n",
      "F-Measure .......................................... = 0.91684285\n"
     ]
    },
    {
     "data": {
      "text/plain": [
       "0.91684285"
      ]
     },
     "execution_count": 7,
     "metadata": {},
     "output_type": "execute_result"
    }
   ],
   "source": [
    "entropy_F1(mu=0.5,muIncr=0.1,beta=12,sigma=53,epsilon=3.0,epsilonIterate=0)"
   ]
  },
  {
   "cell_type": "markdown",
   "metadata": {},
   "source": [
    "Create functions for variable transformation."
   ]
  },
  {
   "cell_type": "code",
   "execution_count": 8,
   "metadata": {
    "ExecuteTime": {
     "end_time": "2020-09-03T22:08:18.856511Z",
     "start_time": "2020-09-03T22:08:18.853611Z"
    }
   },
   "outputs": [],
   "source": [
    "#Softplus to transform real domain into positive\n",
    "def softplus(x):\n",
    "    return np.log(1+np.exp(x))\n",
    "\n",
    "def inv_softplus(x):\n",
    "    return np.log(np.exp(x)-1)"
   ]
  },
  {
   "cell_type": "code",
   "execution_count": 9,
   "metadata": {
    "ExecuteTime": {
     "end_time": "2020-09-03T22:08:27.349548Z",
     "start_time": "2020-09-03T22:08:27.345752Z"
    }
   },
   "outputs": [
    {
     "data": {
      "text/plain": [
       "0.541324854612918"
      ]
     },
     "execution_count": 9,
     "metadata": {},
     "output_type": "execute_result"
    }
   ],
   "source": [
    "inv_softplus(1)"
   ]
  },
  {
   "cell_type": "code",
   "execution_count": 10,
   "metadata": {
    "ExecuteTime": {
     "end_time": "2020-09-03T22:11:24.939913Z",
     "start_time": "2020-09-03T22:11:24.936639Z"
    }
   },
   "outputs": [],
   "source": [
    "#Logit to transform real domain into 0-1\n",
    "def logit(x):    \n",
    "    return np.log(x+1e-54)-np.log(1-x+1e-54)\n",
    "\n",
    "def inv_logit(x):\n",
    "    res=np.exp(x)/(np.exp(x)+1)-2*1e-54\n",
    "    if res<1e-54:\n",
    "        res=0\n",
    "    return res"
   ]
  },
  {
   "cell_type": "markdown",
   "metadata": {},
   "source": [
    "Import BO library:"
   ]
  },
  {
   "cell_type": "code",
   "execution_count": 11,
   "metadata": {
    "ExecuteTime": {
     "end_time": "2020-09-03T22:08:30.622144Z",
     "start_time": "2020-09-03T22:08:30.226842Z"
    }
   },
   "outputs": [],
   "source": [
    "from bayes_opt import BayesianOptimization"
   ]
  },
  {
   "cell_type": "markdown",
   "metadata": {
    "ExecuteTime": {
     "end_time": "2020-09-03T18:14:39.927785Z",
     "start_time": "2020-09-03T18:14:39.924909Z"
    }
   },
   "source": [
    "Create dictionary bounds for the parameters:"
   ]
  },
  {
   "cell_type": "code",
   "execution_count": 12,
   "metadata": {},
   "outputs": [],
   "source": [
    "import os, sys"
   ]
  },
  {
   "cell_type": "code",
   "execution_count": 13,
   "metadata": {},
   "outputs": [],
   "source": [
    "class HiddenPrints:\n",
    "    def __enter__(self):\n",
    "        self._original_stdout = sys.stdout\n",
    "        sys.stdout = open(os.devnull, 'w')\n",
    "\n",
    "    def __exit__(self, exc_type, exc_val, exc_tb):\n",
    "        sys.stdout.close()\n",
    "        sys.stdout = self._original_stdout"
   ]
  },
  {
   "cell_type": "code",
   "execution_count": 14,
   "metadata": {},
   "outputs": [
    {
     "name": "stdout",
     "output_type": "stream",
     "text": [
      "This will be printed as before\n"
     ]
    }
   ],
   "source": [
    "with HiddenPrints():\n",
    "    print(\"This will not be printed\")\n",
    "\n",
    "print(\"This will be printed as before\")"
   ]
  },
  {
   "cell_type": "code",
   "execution_count": 15,
   "metadata": {
    "ExecuteTime": {
     "end_time": "2020-09-03T22:11:53.005154Z",
     "start_time": "2020-09-03T22:11:53.000238Z"
    }
   },
   "outputs": [],
   "source": [
    "#Take parameters in transformed space and return f score in transformed space\n",
    "def entropy_F1_trx(beta_sp,sigma_sp,mu_logit,muIncr_logit,epsilon_sp,epsilonIterate_logit=logit(0)):\n",
    "    beta_pos=int(softplus(beta_sp))\n",
    "    sigma_pos=int(softplus(sigma_sp))\n",
    "    mu_01=inv_logit(mu_logit)\n",
    "    muIncr_01=inv_logit(muIncr_logit)\n",
    "    epsilon_pos=softplus(epsilon_sp)\n",
    "    epsilonIterate_01=inv_logit(epsilonIterate_logit)\n",
    "    \n",
    "    print(\"Mu:%.2f|Mu+:%.2f|Beta:%.2f|Sigma:%.2f|Epsilon:%.2f|EpIter:%.2f\" % (mu_01, muIncr_01, beta_pos, sigma_pos, epsilon_pos, epsilonIterate_01))\n",
    "    \n",
    "    with HiddenPrints():\n",
    "        f1=entropy_F1(beta=beta_pos,\n",
    "                      epsilon=epsilon_pos,\n",
    "                      epsilonIterate=epsilonIterate_01,\n",
    "                      muIncr=muIncr_01,\n",
    "                      sigma=sigma_pos,\n",
    "                      mu=mu_01)\n",
    "    \n",
    "    return logit(f1)"
   ]
  },
  {
   "cell_type": "code",
   "execution_count": 17,
   "metadata": {},
   "outputs": [
    {
     "name": "stdout",
     "output_type": "stream",
     "text": [
      "Mu:0.50|Mu+:0.05|Beta:33.00|Sigma:449.00|Epsilon:31.80|EpIter:0.00\n"
     ]
    },
    {
     "data": {
      "text/plain": [
       "-0.2456525596239042"
      ]
     },
     "execution_count": 17,
     "metadata": {},
     "output_type": "execute_result"
    }
   ],
   "source": [
    "entropy_F1_trx(beta_sp=inv_softplus(33),\n",
    "               sigma_sp=inv_softplus(449),\n",
    "               mu_logit=logit(0.5),\n",
    "               muIncr_logit=logit(0.05),\n",
    "               epsilon_sp=inv_softplus(31.8))"
   ]
  },
  {
   "cell_type": "code",
   "execution_count": 16,
   "metadata": {},
   "outputs": [],
   "source": [
    "optimizer=None"
   ]
  },
  {
   "cell_type": "code",
   "execution_count": 17,
   "metadata": {
    "ExecuteTime": {
     "end_time": "2020-09-03T22:11:50.787503Z",
     "start_time": "2020-09-03T22:11:50.784060Z"
    }
   },
   "outputs": [],
   "source": [
    "pbounds = {'beta_sp': (inv_softplus(1), inv_softplus(700)), \n",
    "           'sigma_sp': (inv_softplus(1), inv_softplus(700)),\n",
    "           'mu_logit': (logit(0.5), logit(0.99)),\n",
    "           'muIncr_logit': (logit(0.01), logit(0.2)),\n",
    "           'epsilon_sp': (inv_softplus(1), inv_softplus(700))}#,\n",
    "           #'epsilonIterate_logit': (logit(0), logit(0.25))}"
   ]
  },
  {
   "cell_type": "code",
   "execution_count": 18,
   "metadata": {},
   "outputs": [],
   "source": [
    "from bayes_opt import SequentialDomainReductionTransformer"
   ]
  },
  {
   "cell_type": "code",
   "execution_count": 19,
   "metadata": {},
   "outputs": [],
   "source": [
    "bounds_transformer = SequentialDomainReductionTransformer()"
   ]
  },
  {
   "cell_type": "code",
   "execution_count": 20,
   "metadata": {
    "ExecuteTime": {
     "end_time": "2020-09-03T22:11:56.728829Z",
     "start_time": "2020-09-03T22:11:56.725599Z"
    }
   },
   "outputs": [],
   "source": [
    "optimizer = BayesianOptimization(\n",
    "    f=entropy_F1_trx,\n",
    "    pbounds=pbounds,\n",
    "    random_state=1,\n",
    "    bounds_transformer=bounds_transformer\n",
    ")"
   ]
  },
  {
   "cell_type": "code",
   "execution_count": 21,
   "metadata": {},
   "outputs": [],
   "source": [
    "# optimizer.probe(\n",
    "#     params={\"beta_sp\": inv_softplus(12), \n",
    "#             \"sigma_sp\": inv_softplus(53),\n",
    "#             \"mu_logit\":logit(0.5),\n",
    "#             #'epsilonIterate_logit': logit(0),\n",
    "#             \"muIncr_logit\":logit(0.1),\n",
    "#             \"epsilon_sp\":inv_softplus(3.0)},\n",
    "#     lazy=True,\n",
    "# )"
   ]
  },
  {
   "cell_type": "code",
   "execution_count": 22,
   "metadata": {
    "ExecuteTime": {
     "end_time": "2020-09-03T22:54:10.009085Z",
     "start_time": "2020-09-03T22:11:58.063246Z"
    }
   },
   "outputs": [
    {
     "name": "stdout",
     "output_type": "stream",
     "text": [
      "|   iter    |  target   |  beta_sp  | epsilo... | muIncr... | mu_logit  | sigma_sp  |\n",
      "-------------------------------------------------------------------------------------\n",
      "Mu:0.80|Mu+:0.01|Beta:292.00|Sigma:103.00|Epsilon:504.38|EpIter:0.00\n",
      "| \u001b[0m 1       \u001b[0m | \u001b[0m 1.886   \u001b[0m | \u001b[0m 292.2   \u001b[0m | \u001b[0m 504.4   \u001b[0m | \u001b[0m-4.595   \u001b[0m | \u001b[0m 1.389   \u001b[0m | \u001b[0m 103.2   \u001b[0m |\n",
      "Mu:0.86|Mu+:0.03|Beta:65.00|Sigma:377.00|Epsilon:130.82|EpIter:0.00\n",
      "| \u001b[0m 2       \u001b[0m | \u001b[0m 1.709   \u001b[0m | \u001b[0m 65.13   \u001b[0m | \u001b[0m 130.8   \u001b[0m | \u001b[0m-3.486   \u001b[0m | \u001b[0m 1.823   \u001b[0m | \u001b[0m 377.4   \u001b[0m |\n",
      "Mu:0.98|Mu+:0.02|Beta:293.00|Sigma:19.00|Epsilon:479.82|EpIter:0.00\n",
      "| \u001b[0m 3       \u001b[0m | \u001b[0m 0.7837  \u001b[0m | \u001b[0m 293.8   \u001b[0m | \u001b[0m 479.8   \u001b[0m | \u001b[0m-3.939   \u001b[0m | \u001b[0m 4.035   \u001b[0m | \u001b[0m 19.7    \u001b[0m |\n",
      "Mu:0.66|Mu+:0.06|Beta:469.00|Sigma:139.00|Epsilon:292.43|EpIter:0.00\n",
      "| \u001b[0m 4       \u001b[0m | \u001b[0m-1.7     \u001b[0m | \u001b[0m 469.5   \u001b[0m | \u001b[0m 292.4   \u001b[0m | \u001b[0m-2.802   \u001b[0m | \u001b[0m 0.6451  \u001b[0m | \u001b[0m 139.1   \u001b[0m |\n",
      "Mu:0.96|Mu+:0.03|Beta:560.00|Sigma:613.00|Epsilon:677.80|EpIter:0.00\n",
      "| \u001b[0m 5       \u001b[0m | \u001b[0m 1.333   \u001b[0m | \u001b[0m 560.6   \u001b[0m | \u001b[0m 677.8   \u001b[0m | \u001b[0m-3.589   \u001b[0m | \u001b[0m 3.181   \u001b[0m | \u001b[0m 613.5   \u001b[0m |\n",
      "Mu:0.69|Mu+:0.01|Beta:626.00|Sigma:614.00|Epsilon:60.03|EpIter:0.00\n",
      "| \u001b[0m 6       \u001b[0m | \u001b[0m-1.438   \u001b[0m | \u001b[0m 626.3   \u001b[0m | \u001b[0m 60.03   \u001b[0m | \u001b[0m-4.47    \u001b[0m | \u001b[0m 0.7804  \u001b[0m | \u001b[0m 614.8   \u001b[0m |\n",
      "Mu:0.92|Mu+:0.18|Beta:69.00|Sigma:484.00|Epsilon:295.09|EpIter:0.00\n",
      "| \u001b[0m 7       \u001b[0m | \u001b[0m 1.419   \u001b[0m | \u001b[0m 69.33   \u001b[0m | \u001b[0m 295.1   \u001b[0m | \u001b[0m-1.521   \u001b[0m | \u001b[0m 2.45    \u001b[0m | \u001b[0m 484.5   \u001b[0m |\n",
      "Mu:0.52|Mu+:0.13|Beta:221.00|Sigma:525.00|Epsilon:480.72|EpIter:0.00\n",
      "| \u001b[0m 8       \u001b[0m | \u001b[0m-6.998   \u001b[0m | \u001b[0m 221.2   \u001b[0m | \u001b[0m 480.7   \u001b[0m | \u001b[0m-1.917   \u001b[0m | \u001b[0m 0.08404 \u001b[0m | \u001b[0m 525.2   \u001b[0m |\n",
      "Mu:0.97|Mu+:0.02|Beta:692.00|Sigma:72.00|Epsilon:523.85|EpIter:0.00\n",
      "| \u001b[0m 9       \u001b[0m | \u001b[0m 0.8926  \u001b[0m | \u001b[0m 692.2   \u001b[0m | \u001b[0m 523.9   \u001b[0m | \u001b[0m-3.695   \u001b[0m | \u001b[0m 3.627   \u001b[0m | \u001b[0m 72.74   \u001b[0m |\n",
      "Mu:0.79|Mu+:0.03|Beta:313.00|Sigma:91.00|Epsilon:636.07|EpIter:0.00\n",
      "| \u001b[95m 10      \u001b[0m | \u001b[95m 1.933   \u001b[0m | \u001b[95m 313.8   \u001b[0m | \u001b[95m 636.1   \u001b[0m | \u001b[95m-3.653   \u001b[0m | \u001b[95m 1.322   \u001b[0m | \u001b[95m 91.49   \u001b[0m |\n",
      "Mu:0.86|Mu+:0.02|Beta:316.00|Sigma:89.00|Epsilon:637.22|EpIter:0.00\n",
      "| \u001b[0m 11      \u001b[0m | \u001b[0m 1.678   \u001b[0m | \u001b[0m 316.4   \u001b[0m | \u001b[0m 637.2   \u001b[0m | \u001b[0m-3.711   \u001b[0m | \u001b[0m 1.809   \u001b[0m | \u001b[0m 89.23   \u001b[0m |\n",
      "Mu:0.74|Mu+:0.04|Beta:217.00|Sigma:154.00|Epsilon:590.18|EpIter:0.00\n",
      "| \u001b[0m 12      \u001b[0m | \u001b[0m 1.345   \u001b[0m | \u001b[0m 217.0   \u001b[0m | \u001b[0m 590.2   \u001b[0m | \u001b[0m-3.27    \u001b[0m | \u001b[0m 1.03    \u001b[0m | \u001b[0m 154.1   \u001b[0m |\n",
      "Mu:0.68|Mu+:0.02|Beta:400.00|Sigma:176.00|Epsilon:576.31|EpIter:0.00\n",
      "| \u001b[0m 13      \u001b[0m | \u001b[0m-0.2475  \u001b[0m | \u001b[0m 400.9   \u001b[0m | \u001b[0m 576.3   \u001b[0m | \u001b[0m-3.866   \u001b[0m | \u001b[0m 0.7553  \u001b[0m | \u001b[0m 176.0   \u001b[0m |\n",
      "Mu:0.69|Mu+:0.02|Beta:235.00|Sigma:15.00|Epsilon:618.77|EpIter:0.00\n",
      "| \u001b[0m 14      \u001b[0m | \u001b[0m-0.2334  \u001b[0m | \u001b[0m 235.4   \u001b[0m | \u001b[0m 618.8   \u001b[0m | \u001b[0m-3.963   \u001b[0m | \u001b[0m 0.812   \u001b[0m | \u001b[0m 15.4    \u001b[0m |\n",
      "Mu:0.86|Mu+:0.02|Beta:263.00|Sigma:159.00|Epsilon:700.00|EpIter:0.00\n",
      "| \u001b[0m 15      \u001b[0m | \u001b[0m 1.689   \u001b[0m | \u001b[0m 263.2   \u001b[0m | \u001b[0m 700.0   \u001b[0m | \u001b[0m-3.932   \u001b[0m | \u001b[0m 1.782   \u001b[0m | \u001b[0m 160.0   \u001b[0m |\n",
      "Mu:0.85|Mu+:0.03|Beta:377.00|Sigma:29.00|Epsilon:695.22|EpIter:0.00\n",
      "| \u001b[0m 16      \u001b[0m | \u001b[0m 1.551   \u001b[0m | \u001b[0m 377.3   \u001b[0m | \u001b[0m 695.2   \u001b[0m | \u001b[0m-3.402   \u001b[0m | \u001b[0m 1.736   \u001b[0m | \u001b[0m 29.86   \u001b[0m |\n",
      "Mu:0.72|Mu+:0.03|Beta:370.00|Sigma:146.00|Epsilon:689.31|EpIter:0.00\n",
      "| \u001b[0m 17      \u001b[0m | \u001b[0m 1.041   \u001b[0m | \u001b[0m 371.0   \u001b[0m | \u001b[0m 689.3   \u001b[0m | \u001b[0m-3.427   \u001b[0m | \u001b[0m 0.9503  \u001b[0m | \u001b[0m 147.0   \u001b[0m |\n",
      "Mu:0.73|Mu+:0.03|Beta:365.00|Sigma:41.00|Epsilon:588.15|EpIter:0.00\n",
      "| \u001b[0m 18      \u001b[0m | \u001b[0m 0.8415  \u001b[0m | \u001b[0m 365.3   \u001b[0m | \u001b[0m 588.2   \u001b[0m | \u001b[0m-3.45    \u001b[0m | \u001b[0m 0.9875  \u001b[0m | \u001b[0m 41.57   \u001b[0m |\n",
      "Mu:0.74|Mu+:0.03|Beta:267.00|Sigma:72.00|Epsilon:679.19|EpIter:0.00\n",
      "| \u001b[0m 19      \u001b[0m | \u001b[0m 0.9268  \u001b[0m | \u001b[0m 267.5   \u001b[0m | \u001b[0m 679.2   \u001b[0m | \u001b[0m-3.47    \u001b[0m | \u001b[0m 1.021   \u001b[0m | \u001b[0m 72.67   \u001b[0m |\n",
      "Mu:0.83|Mu+:0.03|Beta:282.00|Sigma:131.00|Epsilon:597.25|EpIter:0.00\n",
      "| \u001b[0m 20      \u001b[0m | \u001b[0m 1.813   \u001b[0m | \u001b[0m 282.8   \u001b[0m | \u001b[0m 597.3   \u001b[0m | \u001b[0m-3.488   \u001b[0m | \u001b[0m 1.594   \u001b[0m | \u001b[0m 131.9   \u001b[0m |\n",
      "Mu:0.75|Mu+:0.03|Beta:276.00|Sigma:127.00|Epsilon:671.00|EpIter:0.00\n",
      "| \u001b[0m 21      \u001b[0m | \u001b[0m 1.407   \u001b[0m | \u001b[0m 276.3   \u001b[0m | \u001b[0m 671.0   \u001b[0m | \u001b[0m-3.505   \u001b[0m | \u001b[0m 1.078   \u001b[0m | \u001b[0m 127.9   \u001b[0m |\n",
      "Mu:0.82|Mu+:0.03|Beta:347.00|Sigma:124.00|Epsilon:604.63|EpIter:0.00\n",
      "| \u001b[0m 22      \u001b[0m | \u001b[0m 1.842   \u001b[0m | \u001b[0m 347.6   \u001b[0m | \u001b[0m 604.6   \u001b[0m | \u001b[0m-3.519   \u001b[0m | \u001b[0m 1.542   \u001b[0m | \u001b[0m 124.2   \u001b[0m |\n",
      "Mu:0.82|Mu+:0.02|Beta:344.00|Sigma:62.00|Epsilon:664.36|EpIter:0.00\n",
      "| \u001b[0m 23      \u001b[0m | \u001b[0m 1.836   \u001b[0m | \u001b[0m 344.2   \u001b[0m | \u001b[0m 664.4   \u001b[0m | \u001b[0m-3.773   \u001b[0m | \u001b[0m 1.52    \u001b[0m | \u001b[0m 62.01   \u001b[0m |\n",
      "Mu:0.82|Mu+:0.02|Beta:341.00|Sigma:118.00|Epsilon:661.53|EpIter:0.00\n",
      "| \u001b[0m 24      \u001b[0m | \u001b[0m 1.869   \u001b[0m | \u001b[0m 341.2   \u001b[0m | \u001b[0m 661.5   \u001b[0m | \u001b[0m-3.761   \u001b[0m | \u001b[0m 1.5     \u001b[0m | \u001b[0m 118.0   \u001b[0m |\n",
      "Mu:0.81|Mu+:0.03|Beta:289.00|Sigma:115.00|Epsilon:613.15|EpIter:0.00\n",
      "| \u001b[0m 25      \u001b[0m | \u001b[0m 1.876   \u001b[0m | \u001b[0m 289.2   \u001b[0m | \u001b[0m 613.1   \u001b[0m | \u001b[0m-3.556   \u001b[0m | \u001b[0m 1.483   \u001b[0m | \u001b[0m 115.4   \u001b[0m |\n",
      "Mu:0.81|Mu+:0.03|Beta:335.00|Sigma:70.00|Epsilon:615.44|EpIter:0.00\n",
      "| \u001b[0m 26      \u001b[0m | \u001b[0m 1.84    \u001b[0m | \u001b[0m 336.0   \u001b[0m | \u001b[0m 615.4   \u001b[0m | \u001b[0m-3.565   \u001b[0m | \u001b[0m 1.466   \u001b[0m | \u001b[0m 70.0    \u001b[0m |\n",
      "Mu:0.81|Mu+:0.03|Beta:293.00|Sigma:72.00|Epsilon:617.50|EpIter:0.00\n",
      "| \u001b[0m 27      \u001b[0m | \u001b[0m 1.808   \u001b[0m | \u001b[0m 293.9   \u001b[0m | \u001b[0m 617.5   \u001b[0m | \u001b[0m-3.574   \u001b[0m | \u001b[0m 1.452   \u001b[0m | \u001b[0m 72.15   \u001b[0m |\n",
      "Mu:0.77|Mu+:0.02|Beta:331.00|Sigma:108.00|Epsilon:652.77|EpIter:0.00\n",
      "| \u001b[0m 28      \u001b[0m | \u001b[0m 1.59    \u001b[0m | \u001b[0m 331.8   \u001b[0m | \u001b[0m 652.8   \u001b[0m | \u001b[0m-3.724   \u001b[0m | \u001b[0m 1.206   \u001b[0m | \u001b[0m 108.9   \u001b[0m |\n",
      "Mu:0.81|Mu+:0.02|Beta:297.00|Sigma:107.00|Epsilon:621.03|EpIter:0.00\n",
      "| \u001b[0m 29      \u001b[0m | \u001b[0m 1.867   \u001b[0m | \u001b[0m 297.7   \u001b[0m | \u001b[0m 621.0   \u001b[0m | \u001b[0m-3.717   \u001b[0m | \u001b[0m 1.427   \u001b[0m | \u001b[0m 107.2   \u001b[0m |\n",
      "Mu:0.77|Mu+:0.02|Beta:328.00|Sigma:77.00|Epsilon:649.60|EpIter:0.00\n",
      "| \u001b[0m 30      \u001b[0m | \u001b[0m 1.594   \u001b[0m | \u001b[0m 328.4   \u001b[0m | \u001b[0m 649.6   \u001b[0m | \u001b[0m-3.71    \u001b[0m | \u001b[0m 1.228   \u001b[0m | \u001b[0m 77.39   \u001b[0m |\n",
      "Mu:0.78|Mu+:0.02|Beta:326.00|Sigma:104.00|Epsilon:623.89|EpIter:0.00\n",
      "| \u001b[0m 31      \u001b[0m | \u001b[0m 1.628   \u001b[0m | \u001b[0m 326.9   \u001b[0m | \u001b[0m 623.9   \u001b[0m | \u001b[0m-3.705   \u001b[0m | \u001b[0m 1.237   \u001b[0m | \u001b[0m 104.2   \u001b[0m |\n",
      "Mu:0.78|Mu+:0.02|Beta:302.00|Sigma:80.00|Epsilon:647.03|EpIter:0.00\n",
      "| \u001b[0m 32      \u001b[0m | \u001b[0m 1.594   \u001b[0m | \u001b[0m 302.1   \u001b[0m | \u001b[0m 647.0   \u001b[0m | \u001b[0m-3.7     \u001b[0m | \u001b[0m 1.246   \u001b[0m | \u001b[0m 80.07   \u001b[0m |\n",
      "Mu:0.78|Mu+:0.02|Beta:303.00|Sigma:101.00|Epsilon:626.20|EpIter:0.00\n",
      "| \u001b[0m 33      \u001b[0m | \u001b[0m 1.679   \u001b[0m | \u001b[0m 303.2   \u001b[0m | \u001b[0m 626.2   \u001b[0m | \u001b[0m-3.695   \u001b[0m | \u001b[0m 1.253   \u001b[0m | \u001b[0m 101.8   \u001b[0m |\n",
      "Mu:0.80|Mu+:0.02|Beta:304.00|Sigma:82.00|Epsilon:644.95|EpIter:0.00\n",
      "| \u001b[0m 34      \u001b[0m | \u001b[0m 1.843   \u001b[0m | \u001b[0m 304.3   \u001b[0m | \u001b[0m 644.9   \u001b[0m | \u001b[0m-3.691   \u001b[0m | \u001b[0m 1.384   \u001b[0m | \u001b[0m 82.24   \u001b[0m |\n",
      "Mu:0.78|Mu+:0.03|Beta:322.00|Sigma:99.00|Epsilon:643.97|EpIter:0.00\n",
      "| \u001b[0m 35      \u001b[0m | \u001b[0m 1.899   \u001b[0m | \u001b[0m 322.2   \u001b[0m | \u001b[0m 644.0   \u001b[0m | \u001b[0m-3.624   \u001b[0m | \u001b[0m 1.282   \u001b[0m | \u001b[0m 99.76   \u001b[0m |\n",
      "Mu:0.80|Mu+:0.03|Beta:321.00|Sigma:98.00|Epsilon:628.87|EpIter:0.00\n",
      "| \u001b[0m 36      \u001b[0m | \u001b[0m 1.901   \u001b[0m | \u001b[0m 321.5   \u001b[0m | \u001b[0m 628.9   \u001b[0m | \u001b[0m-3.622   \u001b[0m | \u001b[0m 1.373   \u001b[0m | \u001b[0m 98.98   \u001b[0m |\n",
      "Mu:0.79|Mu+:0.03|Beta:306.00|Sigma:84.00|Epsilon:629.59|EpIter:0.00\n",
      "| \u001b[0m 37      \u001b[0m | \u001b[0m 1.842   \u001b[0m | \u001b[0m 306.9   \u001b[0m | \u001b[0m 629.6   \u001b[0m | \u001b[0m-3.625   \u001b[0m | \u001b[0m 1.298   \u001b[0m | \u001b[0m 84.75   \u001b[0m |\n",
      "Mu:0.80|Mu+:0.03|Beta:320.00|Sigma:85.00|Epsilon:641.89|EpIter:0.00\n",
      "| \u001b[0m 38      \u001b[0m | \u001b[0m 1.853   \u001b[0m | \u001b[0m 320.1   \u001b[0m | \u001b[0m 641.9   \u001b[0m | \u001b[0m-3.646   \u001b[0m | \u001b[0m 1.363   \u001b[0m | \u001b[0m 85.42   \u001b[0m |\n",
      "Mu:0.80|Mu+:0.02|Beta:308.00|Sigma:96.00|Epsilon:641.31|EpIter:0.00\n"
     ]
    },
    {
     "name": "stdout",
     "output_type": "stream",
     "text": [
      "| \u001b[0m 39      \u001b[0m | \u001b[0m 1.897   \u001b[0m | \u001b[0m 308.2   \u001b[0m | \u001b[0m 641.3   \u001b[0m | \u001b[0m-3.675   \u001b[0m | \u001b[0m 1.359   \u001b[0m | \u001b[0m 96.95   \u001b[0m |\n",
      "Mu:0.80|Mu+:0.03|Beta:318.00|Sigma:86.00|Epsilon:631.35|EpIter:0.00\n",
      "| \u001b[0m 40      \u001b[0m | \u001b[0m 1.861   \u001b[0m | \u001b[0m 318.9   \u001b[0m | \u001b[0m 631.3   \u001b[0m | \u001b[0m-3.633   \u001b[0m | \u001b[0m 1.355   \u001b[0m | \u001b[0m 86.57   \u001b[0m |\n",
      "Mu:0.79|Mu+:0.02|Beta:309.00|Sigma:95.00|Epsilon:640.31|EpIter:0.00\n",
      "| \u001b[0m 41      \u001b[0m | \u001b[0m 1.907   \u001b[0m | \u001b[0m 309.3   \u001b[0m | \u001b[0m 640.3   \u001b[0m | \u001b[0m-3.671   \u001b[0m | \u001b[0m 1.352   \u001b[0m | \u001b[0m 95.92   \u001b[0m |\n",
      "Mu:0.79|Mu+:0.02|Beta:317.00|Sigma:87.00|Epsilon:632.24|EpIter:0.00\n",
      "| \u001b[0m 42      \u001b[0m | \u001b[0m 1.9     \u001b[0m | \u001b[0m 317.9   \u001b[0m | \u001b[0m 632.2   \u001b[0m | \u001b[0m-3.669   \u001b[0m | \u001b[0m 1.349   \u001b[0m | \u001b[0m 87.51   \u001b[0m |\n",
      "Mu:0.79|Mu+:0.02|Beta:310.00|Sigma:95.00|Epsilon:639.51|EpIter:0.00\n",
      "| \u001b[0m 43      \u001b[0m | \u001b[0m 1.914   \u001b[0m | \u001b[0m 310.1   \u001b[0m | \u001b[0m 639.5   \u001b[0m | \u001b[0m-3.668   \u001b[0m | \u001b[0m 1.346   \u001b[0m | \u001b[0m 95.07   \u001b[0m |\n",
      "Mu:0.79|Mu+:0.02|Beta:317.00|Sigma:94.00|Epsilon:632.97|EpIter:0.00\n",
      "| \u001b[0m 44      \u001b[0m | \u001b[0m 1.925   \u001b[0m | \u001b[0m 317.1   \u001b[0m | \u001b[0m 633.0   \u001b[0m | \u001b[0m-3.666   \u001b[0m | \u001b[0m 1.344   \u001b[0m | \u001b[0m 94.72   \u001b[0m |\n",
      "Mu:0.79|Mu+:0.02|Beta:310.00|Sigma:88.00|Epsilon:638.85|EpIter:0.00\n",
      "| \u001b[0m 45      \u001b[0m | \u001b[0m 1.912   \u001b[0m | \u001b[0m 310.8   \u001b[0m | \u001b[0m 638.9   \u001b[0m | \u001b[0m-3.665   \u001b[0m | \u001b[0m 1.342   \u001b[0m | \u001b[0m 88.59   \u001b[0m |\n",
      "Mu:0.79|Mu+:0.02|Beta:316.00|Sigma:94.00|Epsilon:638.57|EpIter:0.00\n",
      "| \u001b[0m 46      \u001b[0m | \u001b[0m 1.919   \u001b[0m | \u001b[0m 316.5   \u001b[0m | \u001b[0m 638.6   \u001b[0m | \u001b[0m-3.664   \u001b[0m | \u001b[0m 1.34    \u001b[0m | \u001b[0m 94.1    \u001b[0m |\n",
      "Mu:0.79|Mu+:0.03|Beta:311.00|Sigma:89.00|Epsilon:633.81|EpIter:0.00\n",
      "| \u001b[0m 47      \u001b[0m | \u001b[0m 1.912   \u001b[0m | \u001b[0m 311.4   \u001b[0m | \u001b[0m 633.8   \u001b[0m | \u001b[0m-3.663   \u001b[0m | \u001b[0m 1.338   \u001b[0m | \u001b[0m 89.14   \u001b[0m |\n",
      "Mu:0.79|Mu+:0.03|Beta:316.00|Sigma:93.00|Epsilon:638.10|EpIter:0.00\n",
      "| \u001b[0m 48      \u001b[0m | \u001b[0m 1.919   \u001b[0m | \u001b[0m 316.0   \u001b[0m | \u001b[0m 638.1   \u001b[0m | \u001b[0m-3.662   \u001b[0m | \u001b[0m 1.337   \u001b[0m | \u001b[0m 93.61   \u001b[0m |\n",
      "Mu:0.79|Mu+:0.03|Beta:311.00|Sigma:89.00|Epsilon:637.89|EpIter:0.00\n",
      "| \u001b[0m 49      \u001b[0m | \u001b[0m 1.912   \u001b[0m | \u001b[0m 311.9   \u001b[0m | \u001b[0m 637.9   \u001b[0m | \u001b[0m-3.661   \u001b[0m | \u001b[0m 1.335   \u001b[0m | \u001b[0m 89.59   \u001b[0m |\n",
      "Mu:0.79|Mu+:0.03|Beta:315.00|Sigma:93.00|Epsilon:634.42|EpIter:0.00\n",
      "| \u001b[0m 50      \u001b[0m | \u001b[0m 1.911   \u001b[0m | \u001b[0m 315.6   \u001b[0m | \u001b[0m 634.4   \u001b[0m | \u001b[0m-3.66    \u001b[0m | \u001b[0m 1.334   \u001b[0m | \u001b[0m 93.21   \u001b[0m |\n",
      "Mu:0.79|Mu+:0.03|Beta:312.00|Sigma:93.00|Epsilon:637.55|EpIter:0.00\n",
      "| \u001b[0m 51      \u001b[0m | \u001b[0m 1.911   \u001b[0m | \u001b[0m 312.2   \u001b[0m | \u001b[0m 637.5   \u001b[0m | \u001b[0m-3.659   \u001b[0m | \u001b[0m 1.333   \u001b[0m | \u001b[0m 93.03   \u001b[0m |\n",
      "Mu:0.79|Mu+:0.03|Beta:312.00|Sigma:90.00|Epsilon:637.40|EpIter:0.00\n",
      "| \u001b[0m 52      \u001b[0m | \u001b[0m 1.908   \u001b[0m | \u001b[0m 312.4   \u001b[0m | \u001b[0m 637.4   \u001b[0m | \u001b[0m-3.659   \u001b[0m | \u001b[0m 1.332   \u001b[0m | \u001b[0m 90.1    \u001b[0m |\n",
      "Mu:0.79|Mu+:0.03|Beta:315.00|Sigma:90.00|Epsilon:637.27|EpIter:0.00\n",
      "| \u001b[0m 53      \u001b[0m | \u001b[0m 1.908   \u001b[0m | \u001b[0m 315.1   \u001b[0m | \u001b[0m 637.3   \u001b[0m | \u001b[0m-3.658   \u001b[0m | \u001b[0m 1.331   \u001b[0m | \u001b[0m 90.24   \u001b[0m |\n",
      "Mu:0.79|Mu+:0.03|Beta:312.00|Sigma:92.00|Epsilon:637.15|EpIter:0.00\n",
      "| \u001b[0m 54      \u001b[0m | \u001b[0m 1.915   \u001b[0m | \u001b[0m 312.7   \u001b[0m | \u001b[0m 637.1   \u001b[0m | \u001b[0m-3.658   \u001b[0m | \u001b[0m 1.33    \u001b[0m | \u001b[0m 92.62   \u001b[0m |\n",
      "Mu:0.79|Mu+:0.03|Beta:314.00|Sigma:90.00|Epsilon:637.04|EpIter:0.00\n",
      "| \u001b[0m 55      \u001b[0m | \u001b[0m 1.908   \u001b[0m | \u001b[0m 314.9   \u001b[0m | \u001b[0m 637.0   \u001b[0m | \u001b[0m-3.657   \u001b[0m | \u001b[0m 1.329   \u001b[0m | \u001b[0m 90.48   \u001b[0m |\n",
      "Mu:0.79|Mu+:0.03|Beta:314.00|Sigma:92.00|Epsilon:636.94|EpIter:0.00\n",
      "| \u001b[0m 56      \u001b[0m | \u001b[0m 1.918   \u001b[0m | \u001b[0m 314.8   \u001b[0m | \u001b[0m 636.9   \u001b[0m | \u001b[0m-3.657   \u001b[0m | \u001b[0m 1.328   \u001b[0m | \u001b[0m 92.4    \u001b[0m |\n",
      "Mu:0.79|Mu+:0.03|Beta:312.00|Sigma:90.00|Epsilon:636.85|EpIter:0.00\n",
      "| \u001b[0m 57      \u001b[0m | \u001b[0m 1.908   \u001b[0m | \u001b[0m 313.0   \u001b[0m | \u001b[0m 636.9   \u001b[0m | \u001b[0m-3.656   \u001b[0m | \u001b[0m 1.328   \u001b[0m | \u001b[0m 90.67   \u001b[0m |\n",
      "Mu:0.79|Mu+:0.03|Beta:313.00|Sigma:92.00|Epsilon:636.77|EpIter:0.00\n",
      "| \u001b[0m 58      \u001b[0m | \u001b[0m 1.918   \u001b[0m | \u001b[0m 313.1   \u001b[0m | \u001b[0m 636.8   \u001b[0m | \u001b[0m-3.656   \u001b[0m | \u001b[0m 1.327   \u001b[0m | \u001b[0m 92.23   \u001b[0m |\n",
      "Mu:0.79|Mu+:0.03|Beta:314.00|Sigma:90.00|Epsilon:636.70|EpIter:0.00\n",
      "| \u001b[0m 59      \u001b[0m | \u001b[0m 1.908   \u001b[0m | \u001b[0m 314.5   \u001b[0m | \u001b[0m 636.7   \u001b[0m | \u001b[0m-3.656   \u001b[0m | \u001b[0m 1.327   \u001b[0m | \u001b[0m 90.83   \u001b[0m |\n",
      "Mu:0.79|Mu+:0.03|Beta:314.00|Sigma:90.00|Epsilon:636.64|EpIter:0.00\n",
      "| \u001b[0m 60      \u001b[0m | \u001b[0m 1.908   \u001b[0m | \u001b[0m 314.4   \u001b[0m | \u001b[0m 636.6   \u001b[0m | \u001b[0m-3.655   \u001b[0m | \u001b[0m 1.326   \u001b[0m | \u001b[0m 90.89   \u001b[0m |\n",
      "=====================================================================================\n"
     ]
    }
   ],
   "source": [
    "optimizer.maximize(\n",
    "    init_points=10,\n",
    "    n_iter=50,\n",
    "    acq=\"ucb\",\n",
    "    kappa=5,\n",
    "    alpha=1\n",
    ")"
   ]
  },
  {
   "cell_type": "code",
   "execution_count": 23,
   "metadata": {},
   "outputs": [
    {
     "data": {
      "text/plain": [
       "{'target': 1.9331217685462174,\n",
       " 'params': {'beta_sp': 313.8243372798073,\n",
       "  'epsilon_sp': 636.0663316911659,\n",
       "  'muIncr_logit': -3.6529632868977835,\n",
       "  'mu_logit': 1.3223621707173336,\n",
       "  'sigma_sp': 91.49093763950985}}"
      ]
     },
     "execution_count": 23,
     "metadata": {},
     "output_type": "execute_result"
    }
   ],
   "source": [
    "optimizer.max"
   ]
  },
  {
   "cell_type": "code",
   "execution_count": 24,
   "metadata": {
    "ExecuteTime": {
     "end_time": "2020-09-03T22:58:42.653746Z",
     "start_time": "2020-09-03T22:58:42.649916Z"
    }
   },
   "outputs": [
    {
     "data": {
      "text/plain": [
       "0.87359455"
      ]
     },
     "execution_count": 24,
     "metadata": {},
     "output_type": "execute_result"
    }
   ],
   "source": [
    "inv_logit(optimizer.max[\"target\"])"
   ]
  },
  {
   "cell_type": "code",
   "execution_count": 25,
   "metadata": {
    "ExecuteTime": {
     "end_time": "2020-09-03T22:59:56.414823Z",
     "start_time": "2020-09-03T22:59:56.412477Z"
    }
   },
   "outputs": [],
   "source": [
    "params=optimizer.max[\"params\"]"
   ]
  },
  {
   "cell_type": "code",
   "execution_count": 26,
   "metadata": {
    "ExecuteTime": {
     "end_time": "2020-09-03T23:00:39.452694Z",
     "start_time": "2020-09-03T23:00:39.449279Z"
    }
   },
   "outputs": [
    {
     "data": {
      "text/plain": [
       "313.8243372798073"
      ]
     },
     "execution_count": 26,
     "metadata": {},
     "output_type": "execute_result"
    }
   ],
   "source": [
    "softplus(params[\"beta_sp\"])"
   ]
  },
  {
   "cell_type": "code",
   "execution_count": 27,
   "metadata": {
    "ExecuteTime": {
     "end_time": "2020-09-03T23:01:09.671719Z",
     "start_time": "2020-09-03T23:01:09.668333Z"
    }
   },
   "outputs": [
    {
     "data": {
      "text/plain": [
       "91.49093763950985"
      ]
     },
     "execution_count": 27,
     "metadata": {},
     "output_type": "execute_result"
    }
   ],
   "source": [
    "softplus(params[\"sigma_sp\"])"
   ]
  },
  {
   "cell_type": "code",
   "execution_count": 28,
   "metadata": {
    "ExecuteTime": {
     "end_time": "2020-09-04T01:35:00.233453Z",
     "start_time": "2020-09-04T01:35:00.230360Z"
    }
   },
   "outputs": [
    {
     "data": {
      "text/plain": [
       "0.7895744417142209"
      ]
     },
     "execution_count": 28,
     "metadata": {},
     "output_type": "execute_result"
    }
   ],
   "source": [
    "inv_logit(params[\"mu_logit\"])"
   ]
  },
  {
   "cell_type": "code",
   "execution_count": 29,
   "metadata": {
    "ExecuteTime": {
     "end_time": "2020-09-04T01:35:28.881809Z",
     "start_time": "2020-09-04T01:35:28.878641Z"
    }
   },
   "outputs": [
    {
     "data": {
      "text/plain": [
       "0.025259639659271495"
      ]
     },
     "execution_count": 29,
     "metadata": {},
     "output_type": "execute_result"
    }
   ],
   "source": [
    "inv_logit(params[\"muIncr_logit\"])"
   ]
  },
  {
   "cell_type": "code",
   "execution_count": 30,
   "metadata": {
    "ExecuteTime": {
     "end_time": "2020-09-04T01:36:13.729976Z",
     "start_time": "2020-09-04T01:36:13.726798Z"
    }
   },
   "outputs": [
    {
     "data": {
      "text/plain": [
       "636.0663316911659"
      ]
     },
     "execution_count": 30,
     "metadata": {},
     "output_type": "execute_result"
    }
   ],
   "source": [
    "softplus(params[\"epsilon_sp\"])"
   ]
  },
  {
   "cell_type": "code",
   "execution_count": 31,
   "metadata": {},
   "outputs": [
    {
     "name": "stdout",
     "output_type": "stream",
     "text": [
      "\n",
      ">>>>>>>>>>>>\n",
      "Starting Iteration mu= 0.789\n",
      "Starting Iteration epsilon= 636.07\n",
      "Running NewMatrix Jar!\n",
      " Single-Reference Blocks = 1\n",
      "\n",
      " Multi-Reference Blocks = 3885\n",
      "NewMatrix Iterateblocks Total Time = 10.76923129055649\n",
      "\n",
      "Precision = TP / (TP + FP) ......................... = 0.90992908\n",
      "Recall = TP / (TP + FN) ............................ = 0.84076016\n",
      "F-Measure .......................................... = 0.87397820\n"
     ]
    },
    {
     "data": {
      "text/plain": [
       "0.8739782"
      ]
     },
     "execution_count": 31,
     "metadata": {},
     "output_type": "execute_result"
    }
   ],
   "source": [
    "entropy_F1(mu=0.789,\n",
    "           muIncr=0.0253,\n",
    "           beta=313,\n",
    "           sigma=91,\n",
    "           epsilon=636.07,\n",
    "           epsilonIterate=0)"
   ]
  }
 ],
 "metadata": {
  "kernelspec": {
   "display_name": "Python 3",
   "language": "python",
   "name": "python3"
  },
  "language_info": {
   "codemirror_mode": {
    "name": "ipython",
    "version": 3
   },
   "file_extension": ".py",
   "mimetype": "text/x-python",
   "name": "python",
   "nbconvert_exporter": "python",
   "pygments_lexer": "ipython3",
   "version": "3.7.4"
  },
  "toc": {
   "base_numbering": 1,
   "nav_menu": {},
   "number_sections": true,
   "sideBar": true,
   "skip_h1_title": false,
   "title_cell": "Table of Contents",
   "title_sidebar": "Contents",
   "toc_cell": false,
   "toc_position": {},
   "toc_section_display": true,
   "toc_window_display": false
  },
  "varInspector": {
   "cols": {
    "lenName": 16,
    "lenType": 16,
    "lenVar": 40
   },
   "kernels_config": {
    "python": {
     "delete_cmd_postfix": "",
     "delete_cmd_prefix": "del ",
     "library": "var_list.py",
     "varRefreshCmd": "print(var_dic_list())"
    },
    "r": {
     "delete_cmd_postfix": ") ",
     "delete_cmd_prefix": "rm(",
     "library": "var_list.r",
     "varRefreshCmd": "cat(var_dic_list()) "
    }
   },
   "types_to_exclude": [
    "module",
    "function",
    "builtin_function_or_method",
    "instance",
    "_Feature"
   ],
   "window_display": false
  }
 },
 "nbformat": 4,
 "nbformat_minor": 2
}
