{
 "cells": [
  {
   "cell_type": "code",
   "execution_count": 1,
   "metadata": {
    "ExecuteTime": {
     "end_time": "2020-09-03T21:59:20.041891Z",
     "start_time": "2020-09-03T21:59:10.621897Z"
    }
   },
   "outputs": [
    {
     "name": "stdout",
     "output_type": "stream",
     "text": [
      "Tokenizing References\n",
      "Total References= 50\n",
      "Total Tokens Found = 626\n",
      "Total Tokens Output = 626\n",
      "Dictionary Load = 67077\n",
      "<class 'dict'>\n",
      "Global Replace Cycle\n",
      "Total References= 50\n",
      "Total Tokens= 626\n",
      "Unique Tokens= 252\n",
      "Minimum Frequency of Standard Token =  5\n",
      "Minimum Length of Standard Token =  5\n",
      "Maximum Frequency of Error Token =  3\n",
      "References Processed= 50\n",
      "Sorted Token Size = 252\n",
      "Clean Token Size = 90\n",
      "*Stop Replacements here\n",
      "References Processed =  50\n",
      "Total Replacement Pairs = 1\n",
      "Tokens Read = 626\n",
      "Tokens Changed =  3\n",
      "References Changed = 3\n"
     ]
    }
   ],
   "source": [
    "import DWM1_Tokenizer\n",
    "import DWM2_Global_Token_Replace_NewDict\n",
    "import DWM3_Entropy_Cluster\n",
    "# Settings for Tokenizer\n",
    "inputSampleName = r'S1'\n",
    "delimiter=','\n",
    "hasHeader = True\n",
    "tokenizerType = 'Splitter'\n",
    "removeDuplicateTokens = True\n",
    "\n",
    "# Setting for global replacement DWM2\n",
    "runReplacement = True\n",
    "minFreqStdToken = 5\n",
    "minLenStdToken = 5 #CHange from 3 to 5 as in paper\n",
    "maxFreqErrToken = 3\n",
    "\n",
    "# Cluster Settings\n",
    "\n",
    "\n",
    "DWM1_Tokenizer.tokenizeCycle(inputSampleName, delimiter, hasHeader, removeDuplicateTokens, tokenizerType)\n",
    "prefixString = inputSampleName +','+tokenizerType+','+str(removeDuplicateTokens)\n",
    "fileToCluster = inputSampleName + '-Tokenized.txt'\n",
    "if runReplacement:\n",
    "    DWM2_Global_Token_Replace_NewDict.globalReplace(inputSampleName, minFreqStdToken, minLenStdToken, maxFreqErrToken)\n",
    "    fileToCluster = inputSampleName + '-TokenReplace.txt'\n",
    "    prefixString = prefixString+','+str(minFreqStdToken)+','+str(minLenStdToken)+','+str(maxFreqErrToken)\n",
    "else:\n",
    "    prefixString = prefixString+',0,0,0'\n",
    "\n",
    "# Cluster fixed settings\n",
    "epsilonIterate = 0.0\n",
    "runClusterMetrics = False\n",
    "runFinalMetrics = True\n",
    "createFinalJoin = False"
   ]
  },
  {
   "cell_type": "code",
   "execution_count": 2,
   "metadata": {},
   "outputs": [],
   "source": [
    "status=\"done\""
   ]
  },
  {
   "cell_type": "code",
   "execution_count": 3,
   "metadata": {},
   "outputs": [
    {
     "name": "stdout",
     "output_type": "stream",
     "text": [
      "done\n"
     ]
    }
   ],
   "source": [
    "print(status)"
   ]
  },
  {
   "cell_type": "code",
   "execution_count": 4,
   "metadata": {
    "ExecuteTime": {
     "end_time": "2020-09-03T15:11:39.765508Z",
     "start_time": "2020-09-03T15:03:19.495876Z"
    },
    "scrolled": false
   },
   "outputs": [],
   "source": [
    "# # Cluster Robot Settings\n",
    "# muStart = 0.60\n",
    "# muEnd = 0.60\n",
    "# muIncr = 0.05\n",
    "# betaStart = 14\n",
    "# betaEnd = 14\n",
    "# betaIncr = 1\n",
    "# sigmaStart = 145\n",
    "# sigmaEnd = 145\n",
    "# sigmaIncr = 1\n",
    "# epsilonStart = 35\n",
    "# epsilonEnd = 35\n",
    "# epsilonIncr = 1\n",
    "# mu = muStart\n",
    "# while mu <= muEnd:\n",
    "#     beta = betaStart\n",
    "#     while beta <= betaEnd:\n",
    "#         sigma = sigmaStart\n",
    "#         while sigma <= sigmaEnd:\n",
    "#             epsilon = epsilonStart\n",
    "#             while epsilon <= epsilonEnd:\n",
    "#                 suffixString =','+str(epsilon)+','+str(epsilonIterate)\n",
    "#                 resultsList = DWM3_Entropy_Cluster.driver(fileToCluster, beta, sigma, mu, muIncr,epsilon,  \\\n",
    "#                                                      epsilonIterate,runClusterMetrics, runFinalMetrics, createFinalJoin, hasHeader)\n",
    "#                 seg0a = ','+str(resultsList[0])+','+str(resultsList[1])+','+str(resultsList[2])+','+str(resultsList[3])\n",
    "#                 seg0b =','+str(resultsList[4])+','+str(resultsList[5])+','+str(resultsList[6])\n",
    "#                 seg1 = ','+str(beta)+','+str(sigma)+','+str(mu)+ ',' +str(muIncr)\n",
    "#                 seg2 = ','+str(resultsList[7])+','+str(resultsList[8])+','+str(resultsList[9])\n",
    "#                 outString = prefixString+seg0a+seg0b+suffixString+seg1+seg2+'\\n'\n",
    "#                 resultsFile = open('RobotResults.txt','a+')\n",
    "#                 resultsFile.write(outString)\n",
    "#                 resultsFile.close()\n",
    "#                 epsilon = epsilon + epsilonIncr\n",
    "#             sigma = sigma + sigmaIncr\n",
    "#         beta = beta + betaIncr\n",
    "#     mu = mu + muIncr\n",
    "\n",
    "\n",
    " "
   ]
  },
  {
   "cell_type": "markdown",
   "metadata": {
    "ExecuteTime": {
     "end_time": "2020-09-03T16:36:26.229783Z",
     "start_time": "2020-09-03T16:36:26.227755Z"
    }
   },
   "source": [
    "## Bayesian Optimization of Hyperparameters"
   ]
  },
  {
   "cell_type": "code",
   "execution_count": 5,
   "metadata": {},
   "outputs": [],
   "source": [
    "import numpy as np"
   ]
  },
  {
   "cell_type": "markdown",
   "metadata": {
    "ExecuteTime": {
     "end_time": "2020-09-03T16:36:47.947518Z",
     "start_time": "2020-09-03T16:36:47.944251Z"
    }
   },
   "source": [
    "Create a function of the parameters that returns the F score"
   ]
  },
  {
   "cell_type": "code",
   "execution_count": 6,
   "metadata": {
    "ExecuteTime": {
     "end_time": "2020-09-03T21:59:42.561300Z",
     "start_time": "2020-09-03T21:59:42.557193Z"
    }
   },
   "outputs": [],
   "source": [
    "def entropy_F1(beta=14,sigma=145,mu=0.6,muIncr=0.05,epsilon=35,epsilonIterate=0):\n",
    "    resultsList = DWM3_Entropy_Cluster.driver(fileToCluster, \n",
    "                                  beta, \n",
    "                                  sigma, \n",
    "                                  mu, \n",
    "                                  muIncr,\n",
    "                                  epsilon,\n",
    "                                  epsilonIterate,\n",
    "                                  runClusterMetrics, \n",
    "                                  runFinalMetrics, \n",
    "                                  createFinalJoin, \n",
    "                                  hasHeader)\n",
    "    return resultsList[9]"
   ]
  },
  {
   "cell_type": "code",
   "execution_count": 8,
   "metadata": {
    "ExecuteTime": {
     "end_time": "2020-09-03T22:06:32.164588Z",
     "start_time": "2020-09-03T21:59:43.696518Z"
    }
   },
   "outputs": [
    {
     "name": "stdout",
     "output_type": "stream",
     "text": [
      "\n",
      ">>>>>>>>>>>>\n",
      "Starting Iteration mu= 0.5\n",
      "Starting Iteration epsilon= 4.9\n",
      "Running NewMatrix Jar!\n",
      " Single-Reference Blocks = 1\n",
      "\n",
      " Multi-Reference Blocks = 108\n",
      "NewMatrix Iterateblocks Total Time = 0.23098319862037897\n",
      "\n",
      "\n",
      ">>>>>>>>>>>>\n",
      "Starting Iteration mu= 0.6\n",
      "Starting Iteration epsilon= 4.9\n",
      "Running NewMatrix Jar!\n",
      " Single-Reference Blocks = 1\n",
      "\n",
      " Multi-Reference Blocks = 15\n",
      "NewMatrix Iterateblocks Total Time = 0.13586416095495224\n",
      "\n",
      "Precision = TP / (TP + FP) ......................... = 1.00000000\n",
      "Recall = TP / (TP + FN) ............................ = 0.96296296\n",
      "F-Measure .......................................... = 0.98113208\n"
     ]
    },
    {
     "data": {
      "text/plain": [
       "0.98113208"
      ]
     },
     "execution_count": 8,
     "metadata": {},
     "output_type": "execute_result"
    }
   ],
   "source": [
    "entropy_F1(mu=0.5,muIncr=0.1,beta=6,sigma=7,epsilon=4.9,epsilonIterate=0)"
   ]
  },
  {
   "cell_type": "markdown",
   "metadata": {},
   "source": [
    "Create functions for variable transformation."
   ]
  },
  {
   "cell_type": "code",
   "execution_count": 9,
   "metadata": {
    "ExecuteTime": {
     "end_time": "2020-09-03T22:08:18.856511Z",
     "start_time": "2020-09-03T22:08:18.853611Z"
    }
   },
   "outputs": [],
   "source": [
    "#Softplus to transform real domain into positive\n",
    "def softplus(x):\n",
    "    return np.log(1+np.exp(x))\n",
    "\n",
    "def inv_softplus(x):\n",
    "    return np.log(np.exp(x)-1)"
   ]
  },
  {
   "cell_type": "code",
   "execution_count": 10,
   "metadata": {
    "ExecuteTime": {
     "end_time": "2020-09-03T22:08:27.349548Z",
     "start_time": "2020-09-03T22:08:27.345752Z"
    }
   },
   "outputs": [
    {
     "data": {
      "text/plain": [
       "0.541324854612918"
      ]
     },
     "execution_count": 10,
     "metadata": {},
     "output_type": "execute_result"
    }
   ],
   "source": [
    "inv_softplus(1)"
   ]
  },
  {
   "cell_type": "code",
   "execution_count": 11,
   "metadata": {
    "ExecuteTime": {
     "end_time": "2020-09-03T22:11:24.939913Z",
     "start_time": "2020-09-03T22:11:24.936639Z"
    }
   },
   "outputs": [],
   "source": [
    "#Logit to transform real domain into 0-1\n",
    "def logit(x):    \n",
    "    return np.log(x+1e-54)-np.log(1-x+1e-54)\n",
    "\n",
    "def inv_logit(x):\n",
    "    res=np.exp(x)/(np.exp(x)+1)-2*1e-54\n",
    "    if res<1e-54:\n",
    "        res=0\n",
    "    return res"
   ]
  },
  {
   "cell_type": "markdown",
   "metadata": {},
   "source": [
    "Import BO library:"
   ]
  },
  {
   "cell_type": "code",
   "execution_count": 12,
   "metadata": {
    "ExecuteTime": {
     "end_time": "2020-09-03T22:08:30.622144Z",
     "start_time": "2020-09-03T22:08:30.226842Z"
    }
   },
   "outputs": [],
   "source": [
    "from bayes_opt import BayesianOptimization"
   ]
  },
  {
   "cell_type": "markdown",
   "metadata": {
    "ExecuteTime": {
     "end_time": "2020-09-03T18:14:39.927785Z",
     "start_time": "2020-09-03T18:14:39.924909Z"
    }
   },
   "source": [
    "Create dictionary bounds for the parameters:"
   ]
  },
  {
   "cell_type": "code",
   "execution_count": 13,
   "metadata": {},
   "outputs": [],
   "source": [
    "import os, sys"
   ]
  },
  {
   "cell_type": "code",
   "execution_count": 14,
   "metadata": {},
   "outputs": [],
   "source": [
    "class HiddenPrints:\n",
    "    def __enter__(self):\n",
    "        self._original_stdout = sys.stdout\n",
    "        sys.stdout = open(os.devnull, 'w')\n",
    "\n",
    "    def __exit__(self, exc_type, exc_val, exc_tb):\n",
    "        sys.stdout.close()\n",
    "        sys.stdout = self._original_stdout"
   ]
  },
  {
   "cell_type": "code",
   "execution_count": 15,
   "metadata": {},
   "outputs": [
    {
     "name": "stdout",
     "output_type": "stream",
     "text": [
      "This will be printed as before\n"
     ]
    }
   ],
   "source": [
    "with HiddenPrints():\n",
    "    print(\"This will not be printed\")\n",
    "\n",
    "print(\"This will be printed as before\")"
   ]
  },
  {
   "cell_type": "code",
   "execution_count": 16,
   "metadata": {
    "ExecuteTime": {
     "end_time": "2020-09-03T22:11:53.005154Z",
     "start_time": "2020-09-03T22:11:53.000238Z"
    }
   },
   "outputs": [],
   "source": [
    "#Take parameters in transformed space and return f score in transformed space\n",
    "def entropy_F1_trx(beta_sp,sigma_sp,mu_logit,muIncr_logit,epsilon_sp,epsilonIterate_logit=logit(0)):\n",
    "    beta_pos=int(softplus(beta_sp))\n",
    "    sigma_pos=int(softplus(sigma_sp))\n",
    "    mu_01=inv_logit(mu_logit)\n",
    "    muIncr_01=inv_logit(muIncr_logit)\n",
    "    epsilon_pos=softplus(epsilon_sp)\n",
    "    epsilonIterate_01=inv_logit(epsilonIterate_logit)\n",
    "    \n",
    "    print(\"Mu:%.2f|Mu+:%.2f|Beta:%.2f|Sigma:%.2f|Epsilon:%.2f|EpIter:%.2f\" % (mu_01, muIncr_01, beta_pos, sigma_pos, epsilon_pos, epsilonIterate_01))\n",
    "    \n",
    "    with HiddenPrints():\n",
    "        f1=entropy_F1(beta=beta_pos,\n",
    "                      epsilon=epsilon_pos,\n",
    "                      epsilonIterate=epsilonIterate_01,\n",
    "                      muIncr=muIncr_01,\n",
    "                      sigma=sigma_pos,\n",
    "                      mu=mu_01)\n",
    "    \n",
    "    return logit(f1)"
   ]
  },
  {
   "cell_type": "code",
   "execution_count": 38,
   "metadata": {},
   "outputs": [
    {
     "name": "stdout",
     "output_type": "stream",
     "text": [
      "Mu:0.50|Mu+:0.05|Beta:33.00|Sigma:449.00|Epsilon:31.80|EpIter:0.00\n"
     ]
    },
    {
     "data": {
      "text/plain": [
       "-0.7586617742112225"
      ]
     },
     "execution_count": 38,
     "metadata": {},
     "output_type": "execute_result"
    }
   ],
   "source": [
    "entropy_F1_trx(beta_sp=inv_softplus(33),\n",
    "               sigma_sp=inv_softplus(449),\n",
    "               mu_logit=logit(0.5),\n",
    "               muIncr_logit=logit(0.05),\n",
    "               epsilon_sp=inv_softplus(31.8))"
   ]
  },
  {
   "cell_type": "code",
   "execution_count": 17,
   "metadata": {},
   "outputs": [],
   "source": [
    "optimizer=None"
   ]
  },
  {
   "cell_type": "code",
   "execution_count": 18,
   "metadata": {
    "ExecuteTime": {
     "end_time": "2020-09-03T22:11:50.787503Z",
     "start_time": "2020-09-03T22:11:50.784060Z"
    }
   },
   "outputs": [],
   "source": [
    "pbounds = {'beta_sp': (inv_softplus(1), inv_softplus(700)), \n",
    "           'sigma_sp': (inv_softplus(1), inv_softplus(700)),\n",
    "           'mu_logit': (logit(0.5), logit(0.99)),\n",
    "           'muIncr_logit': (logit(0.01), logit(0.2)),\n",
    "           'epsilon_sp': (inv_softplus(1), inv_softplus(700))}#,\n",
    "           #'epsilonIterate_logit': (logit(0), logit(0.25))}"
   ]
  },
  {
   "cell_type": "code",
   "execution_count": 19,
   "metadata": {},
   "outputs": [],
   "source": [
    "from bayes_opt import SequentialDomainReductionTransformer"
   ]
  },
  {
   "cell_type": "code",
   "execution_count": 20,
   "metadata": {},
   "outputs": [],
   "source": [
    "bounds_transformer = SequentialDomainReductionTransformer()"
   ]
  },
  {
   "cell_type": "code",
   "execution_count": 21,
   "metadata": {
    "ExecuteTime": {
     "end_time": "2020-09-03T22:11:56.728829Z",
     "start_time": "2020-09-03T22:11:56.725599Z"
    }
   },
   "outputs": [],
   "source": [
    "optimizer = BayesianOptimization(\n",
    "    f=entropy_F1_trx,\n",
    "    pbounds=pbounds,\n",
    "    random_state=1,\n",
    "    bounds_transformer=bounds_transformer\n",
    ")"
   ]
  },
  {
   "cell_type": "code",
   "execution_count": 22,
   "metadata": {},
   "outputs": [],
   "source": [
    "# optimizer.probe(\n",
    "#     params={\"beta_sp\": inv_softplus(6), \n",
    "#             \"sigma_sp\": inv_softplus(7),\n",
    "#             \"mu_logit\":logit(0.5),\n",
    "#             #'epsilonIterate_logit': logit(0),\n",
    "#             \"muIncr_logit\":logit(0.1),\n",
    "#             \"epsilon_sp\":inv_softplus(4.7)},\n",
    "#     lazy=True,\n",
    "# )"
   ]
  },
  {
   "cell_type": "code",
   "execution_count": 23,
   "metadata": {
    "ExecuteTime": {
     "end_time": "2020-09-03T22:54:10.009085Z",
     "start_time": "2020-09-03T22:11:58.063246Z"
    }
   },
   "outputs": [
    {
     "name": "stdout",
     "output_type": "stream",
     "text": [
      "|   iter    |  target   |  beta_sp  | epsilo... | muIncr... | mu_logit  | sigma_sp  |\n",
      "-------------------------------------------------------------------------------------\n",
      "Mu:0.80|Mu+:0.01|Beta:292.00|Sigma:103.00|Epsilon:504.38|EpIter:0.00\n",
      "| \u001b[0m 1       \u001b[0m | \u001b[0m 3.951   \u001b[0m | \u001b[0m 292.2   \u001b[0m | \u001b[0m 504.4   \u001b[0m | \u001b[0m-4.595   \u001b[0m | \u001b[0m 1.389   \u001b[0m | \u001b[0m 103.2   \u001b[0m |\n",
      "Mu:0.86|Mu+:0.03|Beta:65.00|Sigma:377.00|Epsilon:130.82|EpIter:0.00\n",
      "| \u001b[0m 2       \u001b[0m | \u001b[0m 3.951   \u001b[0m | \u001b[0m 65.13   \u001b[0m | \u001b[0m 130.8   \u001b[0m | \u001b[0m-3.486   \u001b[0m | \u001b[0m 1.823   \u001b[0m | \u001b[0m 377.4   \u001b[0m |\n",
      "Mu:0.98|Mu+:0.02|Beta:293.00|Sigma:19.00|Epsilon:479.82|EpIter:0.00\n",
      "| \u001b[0m 3       \u001b[0m | \u001b[0m 1.068   \u001b[0m | \u001b[0m 293.8   \u001b[0m | \u001b[0m 479.8   \u001b[0m | \u001b[0m-3.939   \u001b[0m | \u001b[0m 4.035   \u001b[0m | \u001b[0m 19.7    \u001b[0m |\n",
      "Mu:0.66|Mu+:0.06|Beta:469.00|Sigma:139.00|Epsilon:292.43|EpIter:0.00\n",
      "| \u001b[95m 4       \u001b[0m | \u001b[95m 124.3   \u001b[0m | \u001b[95m 469.5   \u001b[0m | \u001b[95m 292.4   \u001b[0m | \u001b[95m-2.802   \u001b[0m | \u001b[95m 0.6451  \u001b[0m | \u001b[95m 139.1   \u001b[0m |\n",
      "Mu:0.96|Mu+:0.03|Beta:560.00|Sigma:613.00|Epsilon:677.80|EpIter:0.00\n",
      "| \u001b[0m 5       \u001b[0m | \u001b[0m 2.442   \u001b[0m | \u001b[0m 560.6   \u001b[0m | \u001b[0m 677.8   \u001b[0m | \u001b[0m-3.589   \u001b[0m | \u001b[0m 3.181   \u001b[0m | \u001b[0m 613.5   \u001b[0m |\n",
      "Mu:0.69|Mu+:0.01|Beta:626.00|Sigma:614.00|Epsilon:60.03|EpIter:0.00\n",
      "| \u001b[0m 6       \u001b[0m | \u001b[0m 3.951   \u001b[0m | \u001b[0m 626.3   \u001b[0m | \u001b[0m 60.03   \u001b[0m | \u001b[0m-4.47    \u001b[0m | \u001b[0m 0.7804  \u001b[0m | \u001b[0m 614.8   \u001b[0m |\n",
      "Mu:0.92|Mu+:0.18|Beta:69.00|Sigma:484.00|Epsilon:295.09|EpIter:0.00\n",
      "| \u001b[0m 7       \u001b[0m | \u001b[0m 3.951   \u001b[0m | \u001b[0m 69.33   \u001b[0m | \u001b[0m 295.1   \u001b[0m | \u001b[0m-1.521   \u001b[0m | \u001b[0m 2.45    \u001b[0m | \u001b[0m 484.5   \u001b[0m |\n",
      "Mu:0.52|Mu+:0.13|Beta:221.00|Sigma:525.00|Epsilon:480.72|EpIter:0.00\n",
      "| \u001b[0m 8       \u001b[0m | \u001b[0m-1.684   \u001b[0m | \u001b[0m 221.2   \u001b[0m | \u001b[0m 480.7   \u001b[0m | \u001b[0m-1.917   \u001b[0m | \u001b[0m 0.08404 \u001b[0m | \u001b[0m 525.2   \u001b[0m |\n",
      "Mu:0.97|Mu+:0.02|Beta:692.00|Sigma:72.00|Epsilon:523.85|EpIter:0.00\n",
      "| \u001b[0m 9       \u001b[0m | \u001b[0m 2.175   \u001b[0m | \u001b[0m 692.2   \u001b[0m | \u001b[0m 523.9   \u001b[0m | \u001b[0m-3.695   \u001b[0m | \u001b[0m 3.627   \u001b[0m | \u001b[0m 72.74   \u001b[0m |\n",
      "Mu:0.79|Mu+:0.03|Beta:313.00|Sigma:91.00|Epsilon:636.07|EpIter:0.00\n",
      "| \u001b[0m 10      \u001b[0m | \u001b[0m 3.951   \u001b[0m | \u001b[0m 313.8   \u001b[0m | \u001b[0m 636.1   \u001b[0m | \u001b[0m-3.653   \u001b[0m | \u001b[0m 1.322   \u001b[0m | \u001b[0m 91.49   \u001b[0m |\n",
      "Mu:0.72|Mu+:0.06|Beta:473.00|Sigma:142.00|Epsilon:289.80|EpIter:0.00\n",
      "| \u001b[0m 11      \u001b[0m | \u001b[0m 3.951   \u001b[0m | \u001b[0m 473.1   \u001b[0m | \u001b[0m 289.8   \u001b[0m | \u001b[0m-2.717   \u001b[0m | \u001b[0m 0.935   \u001b[0m | \u001b[0m 142.8   \u001b[0m |\n",
      "Mu:0.72|Mu+:0.06|Beta:432.00|Sigma:134.00|Epsilon:284.87|EpIter:0.00\n",
      "| \u001b[0m 12      \u001b[0m | \u001b[0m 3.951   \u001b[0m | \u001b[0m 432.1   \u001b[0m | \u001b[0m 284.9   \u001b[0m | \u001b[0m-2.737   \u001b[0m | \u001b[0m 0.9442  \u001b[0m | \u001b[0m 134.3   \u001b[0m |\n",
      "Mu:0.70|Mu+:0.04|Beta:509.00|Sigma:164.00|Epsilon:323.63|EpIter:0.00\n",
      "| \u001b[0m 13      \u001b[0m | \u001b[0m 3.951   \u001b[0m | \u001b[0m 509.3   \u001b[0m | \u001b[0m 323.6   \u001b[0m | \u001b[0m-3.08    \u001b[0m | \u001b[0m 0.8385  \u001b[0m | \u001b[0m 164.7   \u001b[0m |\n",
      "Mu:0.68|Mu+:0.07|Beta:452.00|Sigma:96.00|Epsilon:355.21|EpIter:0.00\n",
      "| \u001b[0m 14      \u001b[0m | \u001b[0m 3.951   \u001b[0m | \u001b[0m 452.6   \u001b[0m | \u001b[0m 355.2   \u001b[0m | \u001b[0m-2.586   \u001b[0m | \u001b[0m 0.7313  \u001b[0m | \u001b[0m 96.55   \u001b[0m |\n",
      "Mu:0.69|Mu+:0.07|Beta:412.00|Sigma:174.00|Epsilon:338.87|EpIter:0.00\n",
      "| \u001b[0m 15      \u001b[0m | \u001b[0m 3.951   \u001b[0m | \u001b[0m 412.4   \u001b[0m | \u001b[0m 338.9   \u001b[0m | \u001b[0m-2.634   \u001b[0m | \u001b[0m 0.8137  \u001b[0m | \u001b[0m 174.0   \u001b[0m |\n",
      "Mu:0.56|Mu+:0.07|Beta:436.00|Sigma:169.00|Epsilon:249.12|EpIter:0.00\n",
      "| \u001b[0m 16      \u001b[0m | \u001b[0m-0.393   \u001b[0m | \u001b[0m 436.8   \u001b[0m | \u001b[0m 249.1   \u001b[0m | \u001b[0m-2.61    \u001b[0m | \u001b[0m 0.2462  \u001b[0m | \u001b[0m 169.7   \u001b[0m |\n",
      "Mu:0.64|Mu+:0.07|Beta:475.00|Sigma:175.00|Epsilon:261.69|EpIter:0.00\n",
      "| \u001b[0m 17      \u001b[0m | \u001b[0m 124.3   \u001b[0m | \u001b[0m 475.1   \u001b[0m | \u001b[0m 261.7   \u001b[0m | \u001b[0m-2.584   \u001b[0m | \u001b[0m 0.5916  \u001b[0m | \u001b[0m 175.0   \u001b[0m |\n",
      "Mu:0.67|Mu+:0.05|Beta:485.00|Sigma:129.00|Epsilon:292.84|EpIter:0.00\n",
      "| \u001b[0m 18      \u001b[0m | \u001b[0m 3.951   \u001b[0m | \u001b[0m 485.5   \u001b[0m | \u001b[0m 292.8   \u001b[0m | \u001b[0m-2.899   \u001b[0m | \u001b[0m 0.7251  \u001b[0m | \u001b[0m 129.8   \u001b[0m |\n",
      "Mu:0.65|Mu+:0.06|Beta:437.00|Sigma:157.00|Epsilon:272.13|EpIter:0.00\n",
      "| \u001b[0m 19      \u001b[0m | \u001b[0m 124.3   \u001b[0m | \u001b[0m 437.4   \u001b[0m | \u001b[0m 272.1   \u001b[0m | \u001b[0m-2.674   \u001b[0m | \u001b[0m 0.6151  \u001b[0m | \u001b[0m 158.0   \u001b[0m |\n",
      "Mu:0.68|Mu+:0.05|Beta:467.00|Sigma:136.00|Epsilon:256.20|EpIter:0.00\n",
      "| \u001b[0m 20      \u001b[0m | \u001b[0m 3.951   \u001b[0m | \u001b[0m 467.0   \u001b[0m | \u001b[0m 256.2   \u001b[0m | \u001b[0m-2.924   \u001b[0m | \u001b[0m 0.754   \u001b[0m | \u001b[0m 136.6   \u001b[0m |\n",
      "Mu:0.62|Mu+:0.05|Beta:461.00|Sigma:107.00|Epsilon:294.71|EpIter:0.00\n",
      "| \u001b[0m 21      \u001b[0m | \u001b[0m 3.989   \u001b[0m | \u001b[0m 461.1   \u001b[0m | \u001b[0m 294.7   \u001b[0m | \u001b[0m-2.941   \u001b[0m | \u001b[0m 0.4704  \u001b[0m | \u001b[0m 107.3   \u001b[0m |\n",
      "Mu:0.70|Mu+:0.06|Beta:454.00|Sigma:126.00|Epsilon:294.99|EpIter:0.00\n",
      "| \u001b[0m 22      \u001b[0m | \u001b[0m 3.951   \u001b[0m | \u001b[0m 454.4   \u001b[0m | \u001b[0m 295.0   \u001b[0m | \u001b[0m-2.815   \u001b[0m | \u001b[0m 0.85    \u001b[0m | \u001b[0m 127.0   \u001b[0m |\n",
      "Mu:0.66|Mu+:0.05|Beta:450.00|Sigma:151.00|Epsilon:306.72|EpIter:0.00\n",
      "| \u001b[0m 23      \u001b[0m | \u001b[0m 124.3   \u001b[0m | \u001b[0m 450.1   \u001b[0m | \u001b[0m 306.7   \u001b[0m | \u001b[0m-2.878   \u001b[0m | \u001b[0m 0.6412  \u001b[0m | \u001b[0m 151.8   \u001b[0m |\n",
      "Mu:0.66|Mu+:0.06|Beta:478.00|Sigma:129.00|Epsilon:293.73|EpIter:0.00\n",
      "| \u001b[0m 24      \u001b[0m | \u001b[0m 124.3   \u001b[0m | \u001b[0m 478.3   \u001b[0m | \u001b[0m 293.7   \u001b[0m | \u001b[0m-2.819   \u001b[0m | \u001b[0m 0.6702  \u001b[0m | \u001b[0m 129.8   \u001b[0m |\n",
      "Mu:0.64|Mu+:0.06|Beta:449.00|Sigma:152.00|Epsilon:307.07|EpIter:0.00\n",
      "| \u001b[0m 25      \u001b[0m | \u001b[0m 124.3   \u001b[0m | \u001b[0m 449.5   \u001b[0m | \u001b[0m 307.1   \u001b[0m | \u001b[0m-2.713   \u001b[0m | \u001b[0m 0.5825  \u001b[0m | \u001b[0m 152.5   \u001b[0m |\n",
      "Mu:0.64|Mu+:0.06|Beta:450.00|Sigma:153.00|Epsilon:307.01|EpIter:0.00\n",
      "| \u001b[0m 26      \u001b[0m | \u001b[0m 124.3   \u001b[0m | \u001b[0m 450.2   \u001b[0m | \u001b[0m 307.0   \u001b[0m | \u001b[0m-2.803   \u001b[0m | \u001b[0m 0.5954  \u001b[0m | \u001b[0m 153.5   \u001b[0m |\n",
      "Mu:0.65|Mu+:0.06|Beta:450.00|Sigma:152.00|Epsilon:306.93|EpIter:0.00\n",
      "| \u001b[0m 27      \u001b[0m | \u001b[0m 124.3   \u001b[0m | \u001b[0m 450.3   \u001b[0m | \u001b[0m 306.9   \u001b[0m | \u001b[0m-2.8     \u001b[0m | \u001b[0m 0.607   \u001b[0m | \u001b[0m 152.6   \u001b[0m |\n",
      "Mu:0.65|Mu+:0.06|Beta:452.00|Sigma:152.00|Epsilon:306.92|EpIter:0.00\n",
      "| \u001b[0m 28      \u001b[0m | \u001b[0m 124.3   \u001b[0m | \u001b[0m 452.2   \u001b[0m | \u001b[0m 306.9   \u001b[0m | \u001b[0m-2.805   \u001b[0m | \u001b[0m 0.6079  \u001b[0m | \u001b[0m 152.7   \u001b[0m |\n",
      "Mu:0.65|Mu+:0.06|Beta:453.00|Sigma:152.00|Epsilon:306.92|EpIter:0.00\n",
      "| \u001b[0m 29      \u001b[0m | \u001b[0m 124.3   \u001b[0m | \u001b[0m 453.9   \u001b[0m | \u001b[0m 306.9   \u001b[0m | \u001b[0m-2.804   \u001b[0m | \u001b[0m 0.6077  \u001b[0m | \u001b[0m 152.7   \u001b[0m |\n",
      "Mu:0.65|Mu+:0.06|Beta:455.00|Sigma:152.00|Epsilon:306.09|EpIter:0.00\n",
      "| \u001b[0m 30      \u001b[0m | \u001b[0m 124.3   \u001b[0m | \u001b[0m 455.5   \u001b[0m | \u001b[0m 306.1   \u001b[0m | \u001b[0m-2.803   \u001b[0m | \u001b[0m 0.6076  \u001b[0m | \u001b[0m 152.6   \u001b[0m |\n",
      "Mu:0.65|Mu+:0.06|Beta:456.00|Sigma:151.00|Epsilon:304.72|EpIter:0.00\n",
      "| \u001b[0m 31      \u001b[0m | \u001b[0m 124.3   \u001b[0m | \u001b[0m 456.9   \u001b[0m | \u001b[0m 304.7   \u001b[0m | \u001b[0m-2.803   \u001b[0m | \u001b[0m 0.6076  \u001b[0m | \u001b[0m 151.8   \u001b[0m |\n",
      "Mu:0.65|Mu+:0.06|Beta:458.00|Sigma:150.00|Epsilon:303.49|EpIter:0.00\n",
      "| \u001b[0m 32      \u001b[0m | \u001b[0m 124.3   \u001b[0m | \u001b[0m 458.1   \u001b[0m | \u001b[0m 303.5   \u001b[0m | \u001b[0m-2.803   \u001b[0m | \u001b[0m 0.6073  \u001b[0m | \u001b[0m 150.5   \u001b[0m |\n",
      "Mu:0.65|Mu+:0.06|Beta:459.00|Sigma:149.00|Epsilon:302.39|EpIter:0.00\n",
      "| \u001b[0m 33      \u001b[0m | \u001b[0m 124.3   \u001b[0m | \u001b[0m 459.3   \u001b[0m | \u001b[0m 302.4   \u001b[0m | \u001b[0m-2.803   \u001b[0m | \u001b[0m 0.6063  \u001b[0m | \u001b[0m 149.3   \u001b[0m |\n",
      "Mu:0.65|Mu+:0.06|Beta:460.00|Sigma:148.00|Epsilon:301.39|EpIter:0.00\n",
      "| \u001b[0m 34      \u001b[0m | \u001b[0m 124.3   \u001b[0m | \u001b[0m 460.3   \u001b[0m | \u001b[0m 301.4   \u001b[0m | \u001b[0m-2.804   \u001b[0m | \u001b[0m 0.6035  \u001b[0m | \u001b[0m 148.3   \u001b[0m |\n",
      "Mu:0.65|Mu+:0.06|Beta:461.00|Sigma:147.00|Epsilon:300.50|EpIter:0.00\n",
      "| \u001b[0m 35      \u001b[0m | \u001b[0m 124.3   \u001b[0m | \u001b[0m 461.2   \u001b[0m | \u001b[0m 300.5   \u001b[0m | \u001b[0m-2.805   \u001b[0m | \u001b[0m 0.598   \u001b[0m | \u001b[0m 147.4   \u001b[0m |\n",
      "Mu:0.64|Mu+:0.06|Beta:462.00|Sigma:146.00|Epsilon:299.69|EpIter:0.00\n",
      "| \u001b[0m 36      \u001b[0m | \u001b[0m 124.3   \u001b[0m | \u001b[0m 462.0   \u001b[0m | \u001b[0m 299.7   \u001b[0m | \u001b[0m-2.808   \u001b[0m | \u001b[0m 0.596   \u001b[0m | \u001b[0m 146.6   \u001b[0m |\n",
      "Mu:0.65|Mu+:0.06|Beta:462.00|Sigma:145.00|Epsilon:298.96|EpIter:0.00\n",
      "| \u001b[0m 37      \u001b[0m | \u001b[0m 124.3   \u001b[0m | \u001b[0m 462.8   \u001b[0m | \u001b[0m 299.0   \u001b[0m | \u001b[0m-2.811   \u001b[0m | \u001b[0m 0.6009  \u001b[0m | \u001b[0m 145.8   \u001b[0m |\n",
      "Mu:0.65|Mu+:0.06|Beta:463.00|Sigma:145.00|Epsilon:298.31|EpIter:0.00\n",
      "| \u001b[0m 38      \u001b[0m | \u001b[0m 124.3   \u001b[0m | \u001b[0m 463.5   \u001b[0m | \u001b[0m 298.3   \u001b[0m | \u001b[0m-2.815   \u001b[0m | \u001b[0m 0.6053  \u001b[0m | \u001b[0m 145.2   \u001b[0m |\n",
      "Mu:0.65|Mu+:0.06|Beta:464.00|Sigma:144.00|Epsilon:297.72|EpIter:0.00\n"
     ]
    },
    {
     "name": "stdout",
     "output_type": "stream",
     "text": [
      "| \u001b[0m 39      \u001b[0m | \u001b[0m 124.3   \u001b[0m | \u001b[0m 464.1   \u001b[0m | \u001b[0m 297.7   \u001b[0m | \u001b[0m-2.819   \u001b[0m | \u001b[0m 0.6093  \u001b[0m | \u001b[0m 144.5   \u001b[0m |\n",
      "Mu:0.65|Mu+:0.06|Beta:464.00|Sigma:144.00|Epsilon:297.19|EpIter:0.00\n",
      "| \u001b[0m 40      \u001b[0m | \u001b[0m 124.3   \u001b[0m | \u001b[0m 464.6   \u001b[0m | \u001b[0m 297.2   \u001b[0m | \u001b[0m-2.822   \u001b[0m | \u001b[0m 0.6129  \u001b[0m | \u001b[0m 144.0   \u001b[0m |\n",
      "Mu:0.65|Mu+:0.06|Beta:465.00|Sigma:143.00|Epsilon:296.72|EpIter:0.00\n",
      "| \u001b[0m 41      \u001b[0m | \u001b[0m 124.3   \u001b[0m | \u001b[0m 465.1   \u001b[0m | \u001b[0m 296.7   \u001b[0m | \u001b[0m-2.82    \u001b[0m | \u001b[0m 0.6161  \u001b[0m | \u001b[0m 143.5   \u001b[0m |\n",
      "Mu:0.65|Mu+:0.06|Beta:465.00|Sigma:143.00|Epsilon:296.29|EpIter:0.00\n",
      "| \u001b[0m 42      \u001b[0m | \u001b[0m 124.3   \u001b[0m | \u001b[0m 465.5   \u001b[0m | \u001b[0m 296.3   \u001b[0m | \u001b[0m-2.819   \u001b[0m | \u001b[0m 0.619   \u001b[0m | \u001b[0m 143.1   \u001b[0m |\n",
      "Mu:0.65|Mu+:0.06|Beta:465.00|Sigma:142.00|Epsilon:295.90|EpIter:0.00\n",
      "| \u001b[0m 43      \u001b[0m | \u001b[0m 124.3   \u001b[0m | \u001b[0m 465.9   \u001b[0m | \u001b[0m 295.9   \u001b[0m | \u001b[0m-2.817   \u001b[0m | \u001b[0m 0.6216  \u001b[0m | \u001b[0m 142.7   \u001b[0m |\n",
      "Mu:0.65|Mu+:0.06|Beta:466.00|Sigma:142.00|Epsilon:295.55|EpIter:0.00\n",
      "| \u001b[0m 44      \u001b[0m | \u001b[0m 124.3   \u001b[0m | \u001b[0m 466.3   \u001b[0m | \u001b[0m 295.6   \u001b[0m | \u001b[0m-2.816   \u001b[0m | \u001b[0m 0.624   \u001b[0m | \u001b[0m 142.3   \u001b[0m |\n",
      "Mu:0.65|Mu+:0.06|Beta:466.00|Sigma:141.00|Epsilon:295.24|EpIter:0.00\n",
      "| \u001b[0m 45      \u001b[0m | \u001b[0m 124.3   \u001b[0m | \u001b[0m 466.6   \u001b[0m | \u001b[0m 295.2   \u001b[0m | \u001b[0m-2.814   \u001b[0m | \u001b[0m 0.6261  \u001b[0m | \u001b[0m 142.0   \u001b[0m |\n",
      "Mu:0.65|Mu+:0.06|Beta:466.00|Sigma:141.00|Epsilon:294.96|EpIter:0.00\n",
      "| \u001b[0m 46      \u001b[0m | \u001b[0m 124.3   \u001b[0m | \u001b[0m 466.9   \u001b[0m | \u001b[0m 295.0   \u001b[0m | \u001b[0m-2.813   \u001b[0m | \u001b[0m 0.628   \u001b[0m | \u001b[0m 141.6   \u001b[0m |\n",
      "Mu:0.65|Mu+:0.06|Beta:467.00|Sigma:141.00|Epsilon:294.71|EpIter:0.00\n",
      "| \u001b[0m 47      \u001b[0m | \u001b[0m 124.3   \u001b[0m | \u001b[0m 467.2   \u001b[0m | \u001b[0m 294.7   \u001b[0m | \u001b[0m-2.812   \u001b[0m | \u001b[0m 0.6297  \u001b[0m | \u001b[0m 141.2   \u001b[0m |\n",
      "Mu:0.65|Mu+:0.06|Beta:467.00|Sigma:140.00|Epsilon:294.48|EpIter:0.00\n",
      "| \u001b[0m 48      \u001b[0m | \u001b[0m 124.3   \u001b[0m | \u001b[0m 467.4   \u001b[0m | \u001b[0m 294.5   \u001b[0m | \u001b[0m-2.811   \u001b[0m | \u001b[0m 0.6312  \u001b[0m | \u001b[0m 140.9   \u001b[0m |\n",
      "Mu:0.65|Mu+:0.06|Beta:467.00|Sigma:140.00|Epsilon:294.27|EpIter:0.00\n",
      "| \u001b[0m 49      \u001b[0m | \u001b[0m 124.3   \u001b[0m | \u001b[0m 467.6   \u001b[0m | \u001b[0m 294.3   \u001b[0m | \u001b[0m-2.81    \u001b[0m | \u001b[0m 0.6326  \u001b[0m | \u001b[0m 140.6   \u001b[0m |\n",
      "Mu:0.65|Mu+:0.06|Beta:467.00|Sigma:140.00|Epsilon:294.09|EpIter:0.00\n",
      "| \u001b[0m 50      \u001b[0m | \u001b[0m 124.3   \u001b[0m | \u001b[0m 467.8   \u001b[0m | \u001b[0m 294.1   \u001b[0m | \u001b[0m-2.809   \u001b[0m | \u001b[0m 0.6339  \u001b[0m | \u001b[0m 140.3   \u001b[0m |\n",
      "Mu:0.65|Mu+:0.06|Beta:467.00|Sigma:140.00|Epsilon:293.92|EpIter:0.00\n",
      "| \u001b[0m 51      \u001b[0m | \u001b[0m 124.3   \u001b[0m | \u001b[0m 468.0   \u001b[0m | \u001b[0m 293.9   \u001b[0m | \u001b[0m-2.809   \u001b[0m | \u001b[0m 0.635   \u001b[0m | \u001b[0m 140.0   \u001b[0m |\n",
      "Mu:0.65|Mu+:0.06|Beta:468.00|Sigma:139.00|Epsilon:293.77|EpIter:0.00\n",
      "| \u001b[0m 52      \u001b[0m | \u001b[0m 124.3   \u001b[0m | \u001b[0m 468.1   \u001b[0m | \u001b[0m 293.8   \u001b[0m | \u001b[0m-2.808   \u001b[0m | \u001b[0m 0.636   \u001b[0m | \u001b[0m 139.8   \u001b[0m |\n",
      "Mu:0.65|Mu+:0.06|Beta:468.00|Sigma:139.00|Epsilon:293.64|EpIter:0.00\n",
      "| \u001b[0m 53      \u001b[0m | \u001b[0m 124.3   \u001b[0m | \u001b[0m 468.3   \u001b[0m | \u001b[0m 293.6   \u001b[0m | \u001b[0m-2.807   \u001b[0m | \u001b[0m 0.6369  \u001b[0m | \u001b[0m 139.6   \u001b[0m |\n",
      "Mu:0.65|Mu+:0.06|Beta:468.00|Sigma:139.00|Epsilon:293.52|EpIter:0.00\n",
      "| \u001b[0m 54      \u001b[0m | \u001b[0m 124.3   \u001b[0m | \u001b[0m 468.4   \u001b[0m | \u001b[0m 293.5   \u001b[0m | \u001b[0m-2.807   \u001b[0m | \u001b[0m 0.6377  \u001b[0m | \u001b[0m 139.5   \u001b[0m |\n",
      "Mu:0.65|Mu+:0.06|Beta:468.00|Sigma:139.00|Epsilon:293.41|EpIter:0.00\n",
      "| \u001b[0m 55      \u001b[0m | \u001b[0m 124.3   \u001b[0m | \u001b[0m 468.5   \u001b[0m | \u001b[0m 293.4   \u001b[0m | \u001b[0m-2.807   \u001b[0m | \u001b[0m 0.6385  \u001b[0m | \u001b[0m 139.3   \u001b[0m |\n",
      "Mu:0.65|Mu+:0.06|Beta:468.00|Sigma:139.00|Epsilon:293.31|EpIter:0.00\n",
      "| \u001b[0m 56      \u001b[0m | \u001b[0m 124.3   \u001b[0m | \u001b[0m 468.6   \u001b[0m | \u001b[0m 293.3   \u001b[0m | \u001b[0m-2.806   \u001b[0m | \u001b[0m 0.6391  \u001b[0m | \u001b[0m 139.2   \u001b[0m |\n",
      "Mu:0.65|Mu+:0.06|Beta:468.00|Sigma:139.00|Epsilon:293.22|EpIter:0.00\n",
      "| \u001b[0m 57      \u001b[0m | \u001b[0m 124.3   \u001b[0m | \u001b[0m 468.7   \u001b[0m | \u001b[0m 293.2   \u001b[0m | \u001b[0m-2.806   \u001b[0m | \u001b[0m 0.6397  \u001b[0m | \u001b[0m 139.1   \u001b[0m |\n",
      "Mu:0.65|Mu+:0.06|Beta:468.00|Sigma:138.00|Epsilon:293.14|EpIter:0.00\n",
      "| \u001b[0m 58      \u001b[0m | \u001b[0m 124.3   \u001b[0m | \u001b[0m 468.8   \u001b[0m | \u001b[0m 293.1   \u001b[0m | \u001b[0m-2.805   \u001b[0m | \u001b[0m 0.6403  \u001b[0m | \u001b[0m 139.0   \u001b[0m |\n",
      "Mu:0.65|Mu+:0.06|Beta:468.00|Sigma:138.00|Epsilon:293.07|EpIter:0.00\n",
      "| \u001b[0m 59      \u001b[0m | \u001b[0m 124.3   \u001b[0m | \u001b[0m 468.8   \u001b[0m | \u001b[0m 293.1   \u001b[0m | \u001b[0m-2.805   \u001b[0m | \u001b[0m 0.6407  \u001b[0m | \u001b[0m 138.9   \u001b[0m |\n",
      "Mu:0.66|Mu+:0.06|Beta:468.00|Sigma:138.00|Epsilon:293.01|EpIter:0.00\n",
      "| \u001b[0m 60      \u001b[0m | \u001b[0m 124.3   \u001b[0m | \u001b[0m 468.9   \u001b[0m | \u001b[0m 293.0   \u001b[0m | \u001b[0m-2.805   \u001b[0m | \u001b[0m 0.6412  \u001b[0m | \u001b[0m 138.8   \u001b[0m |\n",
      "=====================================================================================\n"
     ]
    }
   ],
   "source": [
    "optimizer.maximize(\n",
    "    init_points=10,\n",
    "    n_iter=50,\n",
    "    acq=\"ucb\",\n",
    "    kappa=5,\n",
    "    alpha=1\n",
    ")"
   ]
  },
  {
   "cell_type": "code",
   "execution_count": 24,
   "metadata": {},
   "outputs": [
    {
     "data": {
      "text/plain": [
       "{'target': 124.33959502167846,\n",
       " 'params': {'beta_sp': 469.50564125202453,\n",
       "  'epsilon_sp': 292.4287890501312,\n",
       "  'muIncr_logit': -2.8023816881646124,\n",
       "  'mu_logit': 0.6450948082385844,\n",
       "  'sigma_sp': 139.1051299542506}}"
      ]
     },
     "execution_count": 24,
     "metadata": {},
     "output_type": "execute_result"
    }
   ],
   "source": [
    "optimizer.max"
   ]
  },
  {
   "cell_type": "code",
   "execution_count": 25,
   "metadata": {
    "ExecuteTime": {
     "end_time": "2020-09-03T22:58:42.653746Z",
     "start_time": "2020-09-03T22:58:42.649916Z"
    }
   },
   "outputs": [
    {
     "data": {
      "text/plain": [
       "1.0"
      ]
     },
     "execution_count": 25,
     "metadata": {},
     "output_type": "execute_result"
    }
   ],
   "source": [
    "inv_logit(optimizer.max[\"target\"])"
   ]
  },
  {
   "cell_type": "code",
   "execution_count": 26,
   "metadata": {
    "ExecuteTime": {
     "end_time": "2020-09-03T22:59:56.414823Z",
     "start_time": "2020-09-03T22:59:56.412477Z"
    }
   },
   "outputs": [],
   "source": [
    "params=optimizer.max[\"params\"]"
   ]
  },
  {
   "cell_type": "code",
   "execution_count": 27,
   "metadata": {
    "ExecuteTime": {
     "end_time": "2020-09-03T23:00:39.452694Z",
     "start_time": "2020-09-03T23:00:39.449279Z"
    }
   },
   "outputs": [
    {
     "data": {
      "text/plain": [
       "469.50564125202453"
      ]
     },
     "execution_count": 27,
     "metadata": {},
     "output_type": "execute_result"
    }
   ],
   "source": [
    "softplus(params[\"beta_sp\"])"
   ]
  },
  {
   "cell_type": "code",
   "execution_count": 28,
   "metadata": {
    "ExecuteTime": {
     "end_time": "2020-09-03T23:01:09.671719Z",
     "start_time": "2020-09-03T23:01:09.668333Z"
    }
   },
   "outputs": [
    {
     "data": {
      "text/plain": [
       "139.1051299542506"
      ]
     },
     "execution_count": 28,
     "metadata": {},
     "output_type": "execute_result"
    }
   ],
   "source": [
    "softplus(params[\"sigma_sp\"])"
   ]
  },
  {
   "cell_type": "code",
   "execution_count": 29,
   "metadata": {
    "ExecuteTime": {
     "end_time": "2020-09-04T01:35:00.233453Z",
     "start_time": "2020-09-04T01:35:00.230360Z"
    }
   },
   "outputs": [
    {
     "data": {
      "text/plain": [
       "0.6559042391621853"
      ]
     },
     "execution_count": 29,
     "metadata": {},
     "output_type": "execute_result"
    }
   ],
   "source": [
    "inv_logit(params[\"mu_logit\"])"
   ]
  },
  {
   "cell_type": "code",
   "execution_count": 30,
   "metadata": {
    "ExecuteTime": {
     "end_time": "2020-09-04T01:35:28.881809Z",
     "start_time": "2020-09-04T01:35:28.878641Z"
    }
   },
   "outputs": [
    {
     "data": {
      "text/plain": [
       "0.057195609570796516"
      ]
     },
     "execution_count": 30,
     "metadata": {},
     "output_type": "execute_result"
    }
   ],
   "source": [
    "inv_logit(params[\"muIncr_logit\"])"
   ]
  },
  {
   "cell_type": "code",
   "execution_count": 31,
   "metadata": {
    "ExecuteTime": {
     "end_time": "2020-09-04T01:36:13.729976Z",
     "start_time": "2020-09-04T01:36:13.726798Z"
    }
   },
   "outputs": [
    {
     "data": {
      "text/plain": [
       "292.4287890501312"
      ]
     },
     "execution_count": 31,
     "metadata": {},
     "output_type": "execute_result"
    }
   ],
   "source": [
    "softplus(params[\"epsilon_sp\"])"
   ]
  },
  {
   "cell_type": "code",
   "execution_count": 32,
   "metadata": {},
   "outputs": [
    {
     "name": "stdout",
     "output_type": "stream",
     "text": [
      "\n",
      ">>>>>>>>>>>>\n",
      "Starting Iteration mu= 0.656\n",
      "Starting Iteration epsilon= 292.43\n",
      "Running NewMatrix Jar!\n",
      " Single-Reference Blocks = 1\n",
      "\n",
      " Multi-Reference Blocks = 121\n",
      "NewMatrix Iterateblocks Total Time = 0.5215561715885997\n",
      "\n",
      "Precision = TP / (TP + FP) ......................... = 1.00000000\n",
      "Recall = TP / (TP + FN) ............................ = 1.00000000\n",
      "F-Measure .......................................... = 1.00000000\n"
     ]
    },
    {
     "data": {
      "text/plain": [
       "1.0"
      ]
     },
     "execution_count": 32,
     "metadata": {},
     "output_type": "execute_result"
    }
   ],
   "source": [
    "entropy_F1(mu=0.656,\n",
    "           muIncr=0.0572,\n",
    "           beta=469,\n",
    "           sigma=139,\n",
    "           epsilon=292.43,\n",
    "           epsilonIterate=0)"
   ]
  }
 ],
 "metadata": {
  "kernelspec": {
   "display_name": "Python 3",
   "language": "python",
   "name": "python3"
  },
  "language_info": {
   "codemirror_mode": {
    "name": "ipython",
    "version": 3
   },
   "file_extension": ".py",
   "mimetype": "text/x-python",
   "name": "python",
   "nbconvert_exporter": "python",
   "pygments_lexer": "ipython3",
   "version": "3.7.4"
  },
  "toc": {
   "base_numbering": 1,
   "nav_menu": {},
   "number_sections": true,
   "sideBar": true,
   "skip_h1_title": false,
   "title_cell": "Table of Contents",
   "title_sidebar": "Contents",
   "toc_cell": false,
   "toc_position": {},
   "toc_section_display": true,
   "toc_window_display": false
  },
  "varInspector": {
   "cols": {
    "lenName": 16,
    "lenType": 16,
    "lenVar": 40
   },
   "kernels_config": {
    "python": {
     "delete_cmd_postfix": "",
     "delete_cmd_prefix": "del ",
     "library": "var_list.py",
     "varRefreshCmd": "print(var_dic_list())"
    },
    "r": {
     "delete_cmd_postfix": ") ",
     "delete_cmd_prefix": "rm(",
     "library": "var_list.r",
     "varRefreshCmd": "cat(var_dic_list()) "
    }
   },
   "types_to_exclude": [
    "module",
    "function",
    "builtin_function_or_method",
    "instance",
    "_Feature"
   ],
   "window_display": false
  }
 },
 "nbformat": 4,
 "nbformat_minor": 2
}
