{
 "cells": [
  {
   "cell_type": "code",
   "execution_count": 1,
   "metadata": {
    "ExecuteTime": {
     "end_time": "2020-09-03T21:59:20.041891Z",
     "start_time": "2020-09-03T21:59:10.621897Z"
    }
   },
   "outputs": [
    {
     "name": "stdout",
     "output_type": "stream",
     "text": [
      "Tokenizing References\n",
      "Total References= 1000\n",
      "Total Tokens Found = 13025\n",
      "Total Tokens Output = 12511\n",
      "Dictionary Load = 67077\n",
      "<class 'dict'>\n",
      "Global Replace Cycle\n",
      "Total References= 1000\n",
      "Total Tokens= 12511\n",
      "Unique Tokens= 3978\n",
      "Minimum Frequency of Standard Token =  5\n",
      "Minimum Length of Standard Token =  3\n",
      "Maximum Frequency of Error Token =  3\n",
      "References Processed= 1000\n",
      "Sorted Token Size = 3978\n",
      "Clean Token Size = 1776\n",
      "*Stop Replacements here\n",
      "References Processed =  1000\n",
      "Total Replacement Pairs = 240\n",
      "Tokens Read = 12511\n",
      "Tokens Changed =  256\n",
      "References Changed = 233\n"
     ]
    }
   ],
   "source": [
    "import DWM1_Tokenizer\n",
    "import DWM2_Global_Token_Replace_NewDict\n",
    "import DWM3_Entropy_Cluster\n",
    "# Settings for Tokenizer\n",
    "inputSampleName = r'S8'\n",
    "delimiter=','\n",
    "hasHeader = True\n",
    "tokenizerType = 'Splitter'\n",
    "removeDuplicateTokens = True\n",
    "\n",
    "# Setting for global replacement DWM2\n",
    "runReplacement = True\n",
    "minFreqStdToken = 5\n",
    "minLenStdToken = 3\n",
    "maxFreqErrToken = 3\n",
    "\n",
    "# Cluster Settings\n",
    "\n",
    "\n",
    "DWM1_Tokenizer.tokenizeCycle(inputSampleName, delimiter, hasHeader, removeDuplicateTokens, tokenizerType)\n",
    "prefixString = inputSampleName +','+tokenizerType+','+str(removeDuplicateTokens)\n",
    "fileToCluster = inputSampleName + '-Tokenized.txt'\n",
    "if runReplacement:\n",
    "    DWM2_Global_Token_Replace_NewDict.globalReplace(inputSampleName, minFreqStdToken, minLenStdToken, maxFreqErrToken)\n",
    "    fileToCluster = inputSampleName + '-TokenReplace.txt'\n",
    "    prefixString = prefixString+','+str(minFreqStdToken)+','+str(minLenStdToken)+','+str(maxFreqErrToken)\n",
    "else:\n",
    "    prefixString = prefixString+',0,0,0'\n",
    "\n",
    "# Cluster fixed settings\n",
    "epsilonIterate = 0.0\n",
    "runClusterMetrics = False\n",
    "runFinalMetrics = True\n",
    "createFinalJoin = False"
   ]
  },
  {
   "cell_type": "code",
   "execution_count": 2,
   "metadata": {},
   "outputs": [],
   "source": [
    "status=\"done\""
   ]
  },
  {
   "cell_type": "code",
   "execution_count": 3,
   "metadata": {},
   "outputs": [
    {
     "name": "stdout",
     "output_type": "stream",
     "text": [
      "done\n"
     ]
    }
   ],
   "source": [
    "print(status)"
   ]
  },
  {
   "cell_type": "code",
   "execution_count": 4,
   "metadata": {
    "ExecuteTime": {
     "end_time": "2020-09-03T15:11:39.765508Z",
     "start_time": "2020-09-03T15:03:19.495876Z"
    },
    "scrolled": false
   },
   "outputs": [],
   "source": [
    "# # Cluster Robot Settings\n",
    "# muStart = 0.60\n",
    "# muEnd = 0.60\n",
    "# muIncr = 0.05\n",
    "# betaStart = 14\n",
    "# betaEnd = 14\n",
    "# betaIncr = 1\n",
    "# sigmaStart = 145\n",
    "# sigmaEnd = 145\n",
    "# sigmaIncr = 1\n",
    "# epsilonStart = 35\n",
    "# epsilonEnd = 35\n",
    "# epsilonIncr = 1\n",
    "# mu = muStart\n",
    "# while mu <= muEnd:\n",
    "#     beta = betaStart\n",
    "#     while beta <= betaEnd:\n",
    "#         sigma = sigmaStart\n",
    "#         while sigma <= sigmaEnd:\n",
    "#             epsilon = epsilonStart\n",
    "#             while epsilon <= epsilonEnd:\n",
    "#                 suffixString =','+str(epsilon)+','+str(epsilonIterate)\n",
    "#                 resultsList = DWM3_Entropy_Cluster.driver(fileToCluster, beta, sigma, mu, muIncr,epsilon,  \\\n",
    "#                                                      epsilonIterate,runClusterMetrics, runFinalMetrics, createFinalJoin, hasHeader)\n",
    "#                 seg0a = ','+str(resultsList[0])+','+str(resultsList[1])+','+str(resultsList[2])+','+str(resultsList[3])\n",
    "#                 seg0b =','+str(resultsList[4])+','+str(resultsList[5])+','+str(resultsList[6])\n",
    "#                 seg1 = ','+str(beta)+','+str(sigma)+','+str(mu)+ ',' +str(muIncr)\n",
    "#                 seg2 = ','+str(resultsList[7])+','+str(resultsList[8])+','+str(resultsList[9])\n",
    "#                 outString = prefixString+seg0a+seg0b+suffixString+seg1+seg2+'\\n'\n",
    "#                 resultsFile = open('RobotResults.txt','a+')\n",
    "#                 resultsFile.write(outString)\n",
    "#                 resultsFile.close()\n",
    "#                 epsilon = epsilon + epsilonIncr\n",
    "#             sigma = sigma + sigmaIncr\n",
    "#         beta = beta + betaIncr\n",
    "#     mu = mu + muIncr\n",
    "\n",
    "\n",
    " "
   ]
  },
  {
   "cell_type": "markdown",
   "metadata": {
    "ExecuteTime": {
     "end_time": "2020-09-03T16:36:26.229783Z",
     "start_time": "2020-09-03T16:36:26.227755Z"
    }
   },
   "source": [
    "## Bayesian Optimization of Hyperparameters"
   ]
  },
  {
   "cell_type": "code",
   "execution_count": 4,
   "metadata": {},
   "outputs": [],
   "source": [
    "import numpy as np"
   ]
  },
  {
   "cell_type": "markdown",
   "metadata": {
    "ExecuteTime": {
     "end_time": "2020-09-03T16:36:47.947518Z",
     "start_time": "2020-09-03T16:36:47.944251Z"
    }
   },
   "source": [
    "Create a function of the parameters that returns the F score"
   ]
  },
  {
   "cell_type": "code",
   "execution_count": 5,
   "metadata": {
    "ExecuteTime": {
     "end_time": "2020-09-03T21:59:42.561300Z",
     "start_time": "2020-09-03T21:59:42.557193Z"
    }
   },
   "outputs": [],
   "source": [
    "def entropy_F1(beta=14,sigma=145,mu=0.6,muIncr=0.05,epsilon=35,epsilonIterate=0):\n",
    "    resultsList = DWM3_Entropy_Cluster.driver(fileToCluster, \n",
    "                                  beta, \n",
    "                                  sigma, \n",
    "                                  mu, \n",
    "                                  muIncr,\n",
    "                                  epsilon,\n",
    "                                  epsilonIterate,\n",
    "                                  runClusterMetrics, \n",
    "                                  runFinalMetrics, \n",
    "                                  createFinalJoin, \n",
    "                                  hasHeader)\n",
    "    return resultsList[9]"
   ]
  },
  {
   "cell_type": "code",
   "execution_count": 7,
   "metadata": {
    "ExecuteTime": {
     "end_time": "2020-09-03T22:06:32.164588Z",
     "start_time": "2020-09-03T21:59:43.696518Z"
    }
   },
   "outputs": [
    {
     "name": "stdout",
     "output_type": "stream",
     "text": [
      "\n",
      ">>>>>>>>>>>>\n",
      "Starting Iteration mu= 0.6\n",
      "Starting Iteration epsilon= 35\n",
      "Running NewMatrix Jar!\n",
      " Single-Reference Blocks = 1\n",
      "\n",
      " Multi-Reference Blocks = 1715\n",
      "NewMatrix Iterateblocks Total Time = 1.3762334799394011\n",
      "\n",
      "Precision = TP / (TP + FP) ......................... = 0.78797468\n",
      "Recall = TP / (TP + FN) ............................ = 0.88801712\n",
      "F-Measure .......................................... = 0.83501006\n"
     ]
    },
    {
     "data": {
      "text/plain": [
       "0.83501006"
      ]
     },
     "execution_count": 7,
     "metadata": {},
     "output_type": "execute_result"
    }
   ],
   "source": [
    "entropy_F1(mu=0.6,muIncr=0.05,beta=14,sigma=145,epsilon=35,epsilonIterate=0.0)"
   ]
  },
  {
   "cell_type": "markdown",
   "metadata": {},
   "source": [
    "Create functions for variable transformation."
   ]
  },
  {
   "cell_type": "code",
   "execution_count": 8,
   "metadata": {
    "ExecuteTime": {
     "end_time": "2020-09-03T22:08:18.856511Z",
     "start_time": "2020-09-03T22:08:18.853611Z"
    }
   },
   "outputs": [],
   "source": [
    "#Softplus to transform real domain into positive\n",
    "def softplus(x):\n",
    "    return np.log(1+np.exp(x))\n",
    "\n",
    "def inv_softplus(x):\n",
    "    return np.log(np.exp(x)-1)"
   ]
  },
  {
   "cell_type": "code",
   "execution_count": 9,
   "metadata": {
    "ExecuteTime": {
     "end_time": "2020-09-03T22:08:27.349548Z",
     "start_time": "2020-09-03T22:08:27.345752Z"
    }
   },
   "outputs": [
    {
     "data": {
      "text/plain": [
       "0.541324854612918"
      ]
     },
     "execution_count": 9,
     "metadata": {},
     "output_type": "execute_result"
    }
   ],
   "source": [
    "inv_softplus(1)"
   ]
  },
  {
   "cell_type": "code",
   "execution_count": 10,
   "metadata": {
    "ExecuteTime": {
     "end_time": "2020-09-03T22:11:24.939913Z",
     "start_time": "2020-09-03T22:11:24.936639Z"
    }
   },
   "outputs": [],
   "source": [
    "#Logit to transform real domain into 0-1\n",
    "def logit(x):    \n",
    "    return np.log(x+1e-54)-np.log(1-x+1e-54)\n",
    "\n",
    "def inv_logit(x):\n",
    "    res=np.exp(x)/(np.exp(x)+1)-2*1e-54\n",
    "    if res<1e-54:\n",
    "        res=0\n",
    "    return res"
   ]
  },
  {
   "cell_type": "markdown",
   "metadata": {},
   "source": [
    "Import BO library:"
   ]
  },
  {
   "cell_type": "code",
   "execution_count": 11,
   "metadata": {
    "ExecuteTime": {
     "end_time": "2020-09-03T22:08:30.622144Z",
     "start_time": "2020-09-03T22:08:30.226842Z"
    }
   },
   "outputs": [],
   "source": [
    "from bayes_opt import BayesianOptimization"
   ]
  },
  {
   "cell_type": "markdown",
   "metadata": {
    "ExecuteTime": {
     "end_time": "2020-09-03T18:14:39.927785Z",
     "start_time": "2020-09-03T18:14:39.924909Z"
    }
   },
   "source": [
    "Create dictionary bounds for the parameters:"
   ]
  },
  {
   "cell_type": "code",
   "execution_count": 12,
   "metadata": {},
   "outputs": [],
   "source": [
    "import os, sys"
   ]
  },
  {
   "cell_type": "code",
   "execution_count": 13,
   "metadata": {},
   "outputs": [],
   "source": [
    "class HiddenPrints:\n",
    "    def __enter__(self):\n",
    "        self._original_stdout = sys.stdout\n",
    "        sys.stdout = open(os.devnull, 'w')\n",
    "\n",
    "    def __exit__(self, exc_type, exc_val, exc_tb):\n",
    "        sys.stdout.close()\n",
    "        sys.stdout = self._original_stdout"
   ]
  },
  {
   "cell_type": "code",
   "execution_count": 14,
   "metadata": {},
   "outputs": [
    {
     "name": "stdout",
     "output_type": "stream",
     "text": [
      "This will be printed as before\n"
     ]
    }
   ],
   "source": [
    "with HiddenPrints():\n",
    "    print(\"This will not be printed\")\n",
    "\n",
    "print(\"This will be printed as before\")"
   ]
  },
  {
   "cell_type": "code",
   "execution_count": 15,
   "metadata": {
    "ExecuteTime": {
     "end_time": "2020-09-03T22:11:53.005154Z",
     "start_time": "2020-09-03T22:11:53.000238Z"
    }
   },
   "outputs": [],
   "source": [
    "#Take parameters in transformed space and return f score in transformed space\n",
    "def entropy_F1_trx(beta_sp,sigma_sp,mu_logit,muIncr_logit,epsilon_sp,epsilonIterate_logit=logit(0)):\n",
    "    beta_pos=int(softplus(beta_sp))\n",
    "    sigma_pos=int(softplus(sigma_sp))\n",
    "    mu_01=inv_logit(mu_logit)\n",
    "    muIncr_01=inv_logit(muIncr_logit)\n",
    "    epsilon_pos=softplus(epsilon_sp)\n",
    "    epsilonIterate_01=inv_logit(epsilonIterate_logit)\n",
    "    \n",
    "    print(\"Mu:%.2f|Mu+:%.2f|Beta:%.2f|Sigma:%.2f|Epsilon:%.2f|EpIter:%.2f\" % (mu_01, muIncr_01, beta_pos, sigma_pos, epsilon_pos, epsilonIterate_01))\n",
    "    \n",
    "    with HiddenPrints():\n",
    "        f1=entropy_F1(beta=beta_pos,\n",
    "                      epsilon=epsilon_pos,\n",
    "                      epsilonIterate=epsilonIterate_01,\n",
    "                      muIncr=muIncr_01,\n",
    "                      sigma=sigma_pos,\n",
    "                      mu=mu_01)\n",
    "    \n",
    "    return logit(f1)"
   ]
  },
  {
   "cell_type": "code",
   "execution_count": 16,
   "metadata": {},
   "outputs": [
    {
     "name": "stdout",
     "output_type": "stream",
     "text": [
      "Mu:0.50|Mu+:0.05|Beta:33.00|Sigma:449.00|Epsilon:31.80|EpIter:0.00\n"
     ]
    },
    {
     "data": {
      "text/plain": [
       "1.1173424739923359"
      ]
     },
     "execution_count": 16,
     "metadata": {},
     "output_type": "execute_result"
    }
   ],
   "source": [
    "entropy_F1_trx(beta_sp=inv_softplus(33),\n",
    "               sigma_sp=inv_softplus(449),\n",
    "               mu_logit=logit(0.5),\n",
    "               muIncr_logit=logit(0.05),\n",
    "               epsilon_sp=inv_softplus(31.8))"
   ]
  },
  {
   "cell_type": "code",
   "execution_count": 17,
   "metadata": {},
   "outputs": [],
   "source": [
    "optimizer=None"
   ]
  },
  {
   "cell_type": "code",
   "execution_count": 18,
   "metadata": {
    "ExecuteTime": {
     "end_time": "2020-09-03T22:11:50.787503Z",
     "start_time": "2020-09-03T22:11:50.784060Z"
    }
   },
   "outputs": [],
   "source": [
    "pbounds = {'beta_sp': (inv_softplus(1), inv_softplus(700)), \n",
    "           'sigma_sp': (inv_softplus(1), inv_softplus(700)),\n",
    "           'mu_logit': (logit(0.5), logit(0.99)),\n",
    "           'muIncr_logit': (logit(0.01), logit(0.2)),\n",
    "           'epsilon_sp': (inv_softplus(1), inv_softplus(700))}#,\n",
    "           #'epsilonIterate_logit': (logit(0), logit(0.25))}"
   ]
  },
  {
   "cell_type": "code",
   "execution_count": 19,
   "metadata": {},
   "outputs": [],
   "source": [
    "from bayes_opt import SequentialDomainReductionTransformer"
   ]
  },
  {
   "cell_type": "code",
   "execution_count": 20,
   "metadata": {},
   "outputs": [],
   "source": [
    "bounds_transformer = SequentialDomainReductionTransformer()"
   ]
  },
  {
   "cell_type": "code",
   "execution_count": 21,
   "metadata": {
    "ExecuteTime": {
     "end_time": "2020-09-03T22:11:56.728829Z",
     "start_time": "2020-09-03T22:11:56.725599Z"
    }
   },
   "outputs": [],
   "source": [
    "optimizer = BayesianOptimization(\n",
    "    f=entropy_F1_trx,\n",
    "    pbounds=pbounds,\n",
    "    random_state=1,\n",
    "    bounds_transformer=bounds_transformer\n",
    ")"
   ]
  },
  {
   "cell_type": "code",
   "execution_count": 21,
   "metadata": {},
   "outputs": [],
   "source": [
    "# optimizer.probe(\n",
    "#     params={\"beta_sp\": inv_softplus(14), \n",
    "#             \"sigma_sp\": inv_softplus(24),\n",
    "#             \"mu_logit\":logit(0.5),\n",
    "#             #'epsilonIterate_logit': logit(0),\n",
    "#             \"muIncr_logit\":logit(0.1),\n",
    "#             \"epsilon_sp\":inv_softplus(3.0)},\n",
    "#     lazy=True,\n",
    "# )"
   ]
  },
  {
   "cell_type": "code",
   "execution_count": 23,
   "metadata": {
    "ExecuteTime": {
     "end_time": "2020-09-03T22:54:10.009085Z",
     "start_time": "2020-09-03T22:11:58.063246Z"
    }
   },
   "outputs": [
    {
     "name": "stdout",
     "output_type": "stream",
     "text": [
      "|   iter    |  target   |  beta_sp  | epsilo... | muIncr... | mu_logit  | sigma_sp  |\n",
      "-------------------------------------------------------------------------------------\n",
      "Mu:0.80|Mu+:0.01|Beta:292.00|Sigma:103.00|Epsilon:504.38|EpIter:0.00\n",
      "| \u001b[0m 1       \u001b[0m | \u001b[0m-0.7735  \u001b[0m | \u001b[0m 292.2   \u001b[0m | \u001b[0m 504.4   \u001b[0m | \u001b[0m-4.595   \u001b[0m | \u001b[0m 1.389   \u001b[0m | \u001b[0m 103.2   \u001b[0m |\n",
      "Mu:0.86|Mu+:0.03|Beta:65.00|Sigma:377.00|Epsilon:130.82|EpIter:0.00\n",
      "| \u001b[0m 2       \u001b[0m | \u001b[0m-1.313   \u001b[0m | \u001b[0m 65.13   \u001b[0m | \u001b[0m 130.8   \u001b[0m | \u001b[0m-3.486   \u001b[0m | \u001b[0m 1.823   \u001b[0m | \u001b[0m 377.4   \u001b[0m |\n",
      "Mu:0.98|Mu+:0.02|Beta:293.00|Sigma:19.00|Epsilon:479.82|EpIter:0.00\n",
      "| \u001b[0m 3       \u001b[0m | \u001b[0m-3.469   \u001b[0m | \u001b[0m 293.8   \u001b[0m | \u001b[0m 479.8   \u001b[0m | \u001b[0m-3.939   \u001b[0m | \u001b[0m 4.035   \u001b[0m | \u001b[0m 19.7    \u001b[0m |\n",
      "Mu:0.66|Mu+:0.06|Beta:469.00|Sigma:139.00|Epsilon:292.43|EpIter:0.00\n",
      "| \u001b[95m 4       \u001b[0m | \u001b[95m 1.118   \u001b[0m | \u001b[95m 469.5   \u001b[0m | \u001b[95m 292.4   \u001b[0m | \u001b[95m-2.802   \u001b[0m | \u001b[95m 0.6451  \u001b[0m | \u001b[95m 139.1   \u001b[0m |\n",
      "Mu:0.96|Mu+:0.03|Beta:560.00|Sigma:613.00|Epsilon:677.80|EpIter:0.00\n",
      "| \u001b[0m 5       \u001b[0m | \u001b[0m-2.848   \u001b[0m | \u001b[0m 560.6   \u001b[0m | \u001b[0m 677.8   \u001b[0m | \u001b[0m-3.589   \u001b[0m | \u001b[0m 3.181   \u001b[0m | \u001b[0m 613.5   \u001b[0m |\n",
      "Mu:0.69|Mu+:0.01|Beta:626.00|Sigma:614.00|Epsilon:60.03|EpIter:0.00\n",
      "| \u001b[0m 6       \u001b[0m | \u001b[0m 0.8135  \u001b[0m | \u001b[0m 626.3   \u001b[0m | \u001b[0m 60.03   \u001b[0m | \u001b[0m-4.47    \u001b[0m | \u001b[0m 0.7804  \u001b[0m | \u001b[0m 614.8   \u001b[0m |\n",
      "Mu:0.92|Mu+:0.18|Beta:69.00|Sigma:484.00|Epsilon:295.09|EpIter:0.00\n",
      "| \u001b[0m 7       \u001b[0m | \u001b[0m-1.952   \u001b[0m | \u001b[0m 69.33   \u001b[0m | \u001b[0m 295.1   \u001b[0m | \u001b[0m-1.521   \u001b[0m | \u001b[0m 2.45    \u001b[0m | \u001b[0m 484.5   \u001b[0m |\n",
      "Mu:0.52|Mu+:0.13|Beta:221.00|Sigma:525.00|Epsilon:480.72|EpIter:0.00\n",
      "| \u001b[0m 8       \u001b[0m | \u001b[0m-4.201   \u001b[0m | \u001b[0m 221.2   \u001b[0m | \u001b[0m 480.7   \u001b[0m | \u001b[0m-1.917   \u001b[0m | \u001b[0m 0.08404 \u001b[0m | \u001b[0m 525.2   \u001b[0m |\n",
      "Mu:0.97|Mu+:0.02|Beta:692.00|Sigma:72.00|Epsilon:523.85|EpIter:0.00\n",
      "| \u001b[0m 9       \u001b[0m | \u001b[0m-3.08    \u001b[0m | \u001b[0m 692.2   \u001b[0m | \u001b[0m 523.9   \u001b[0m | \u001b[0m-3.695   \u001b[0m | \u001b[0m 3.627   \u001b[0m | \u001b[0m 72.74   \u001b[0m |\n",
      "Mu:0.79|Mu+:0.03|Beta:313.00|Sigma:91.00|Epsilon:636.07|EpIter:0.00\n",
      "| \u001b[0m 10      \u001b[0m | \u001b[0m-0.6888  \u001b[0m | \u001b[0m 313.8   \u001b[0m | \u001b[0m 636.1   \u001b[0m | \u001b[0m-3.653   \u001b[0m | \u001b[0m 1.322   \u001b[0m | \u001b[0m 91.49   \u001b[0m |\n",
      "Mu:0.72|Mu+:0.06|Beta:473.00|Sigma:142.00|Epsilon:289.80|EpIter:0.00\n",
      "| \u001b[0m 11      \u001b[0m | \u001b[0m 0.2953  \u001b[0m | \u001b[0m 473.1   \u001b[0m | \u001b[0m 289.8   \u001b[0m | \u001b[0m-2.717   \u001b[0m | \u001b[0m 0.935   \u001b[0m | \u001b[0m 142.8   \u001b[0m |\n",
      "Mu:0.51|Mu+:0.04|Beta:449.00|Sigma:119.00|Epsilon:306.67|EpIter:0.00\n",
      "| \u001b[0m 12      \u001b[0m | \u001b[0m-4.146   \u001b[0m | \u001b[0m 449.8   \u001b[0m | \u001b[0m 306.7   \u001b[0m | \u001b[0m-3.185   \u001b[0m | \u001b[0m 0.02983 \u001b[0m | \u001b[0m 119.2   \u001b[0m |\n",
      "Mu:0.52|Mu+:0.04|Beta:460.00|Sigma:144.00|Epsilon:288.26|EpIter:0.00\n",
      "| \u001b[0m 13      \u001b[0m | \u001b[0m-4.255   \u001b[0m | \u001b[0m 460.6   \u001b[0m | \u001b[0m 288.3   \u001b[0m | \u001b[0m-3.146   \u001b[0m | \u001b[0m 0.09135 \u001b[0m | \u001b[0m 145.0   \u001b[0m |\n",
      "Mu:0.62|Mu+:0.05|Beta:473.00|Sigma:138.00|Epsilon:289.28|EpIter:0.00\n",
      "| \u001b[0m 14      \u001b[0m | \u001b[0m 0.8705  \u001b[0m | \u001b[0m 473.4   \u001b[0m | \u001b[0m 289.3   \u001b[0m | \u001b[0m-3.006   \u001b[0m | \u001b[0m 0.4748  \u001b[0m | \u001b[0m 138.4   \u001b[0m |\n",
      "Mu:0.73|Mu+:0.05|Beta:473.00|Sigma:132.00|Epsilon:293.41|EpIter:0.00\n",
      "| \u001b[0m 15      \u001b[0m | \u001b[0m 0.1228  \u001b[0m | \u001b[0m 473.7   \u001b[0m | \u001b[0m 293.4   \u001b[0m | \u001b[0m-3.026   \u001b[0m | \u001b[0m 1.001   \u001b[0m | \u001b[0m 132.3   \u001b[0m |\n",
      "Mu:0.56|Mu+:0.07|Beta:475.00|Sigma:139.00|Epsilon:297.04|EpIter:0.00\n",
      "| \u001b[0m 16      \u001b[0m | \u001b[0m-2.669   \u001b[0m | \u001b[0m 475.4   \u001b[0m | \u001b[0m 297.0   \u001b[0m | \u001b[0m-2.552   \u001b[0m | \u001b[0m 0.2414  \u001b[0m | \u001b[0m 139.8   \u001b[0m |\n",
      "Mu:0.73|Mu+:0.07|Beta:469.00|Sigma:135.00|Epsilon:288.68|EpIter:0.00\n",
      "| \u001b[0m 17      \u001b[0m | \u001b[0m 0.08826 \u001b[0m | \u001b[0m 469.5   \u001b[0m | \u001b[0m 288.7   \u001b[0m | \u001b[0m-2.577   \u001b[0m | \u001b[0m 1.008   \u001b[0m | \u001b[0m 135.1   \u001b[0m |\n",
      "Mu:0.73|Mu+:0.05|Beta:476.00|Sigma:134.00|Epsilon:285.84|EpIter:0.00\n",
      "| \u001b[0m 18      \u001b[0m | \u001b[0m 0.202   \u001b[0m | \u001b[0m 476.2   \u001b[0m | \u001b[0m 285.8   \u001b[0m | \u001b[0m-3.006   \u001b[0m | \u001b[0m 0.9721  \u001b[0m | \u001b[0m 134.8   \u001b[0m |\n",
      "Mu:0.63|Mu+:0.06|Beta:471.00|Sigma:141.00|Epsilon:282.73|EpIter:0.00\n",
      "| \u001b[0m 19      \u001b[0m | \u001b[0m 1.117   \u001b[0m | \u001b[0m 471.4   \u001b[0m | \u001b[0m 282.7   \u001b[0m | \u001b[0m-2.705   \u001b[0m | \u001b[0m 0.5311  \u001b[0m | \u001b[0m 141.2   \u001b[0m |\n",
      "Mu:0.59|Mu+:0.07|Beta:477.00|Sigma:142.00|Epsilon:282.67|EpIter:0.00\n",
      "| \u001b[0m 20      \u001b[0m | \u001b[0m 0.1844  \u001b[0m | \u001b[0m 477.8   \u001b[0m | \u001b[0m 282.7   \u001b[0m | \u001b[0m-2.638   \u001b[0m | \u001b[0m 0.3802  \u001b[0m | \u001b[0m 142.4   \u001b[0m |\n",
      "Mu:0.60|Mu+:0.07|Beta:472.00|Sigma:135.00|Epsilon:278.35|EpIter:0.00\n",
      "| \u001b[0m 21      \u001b[0m | \u001b[0m 0.4512  \u001b[0m | \u001b[0m 472.0   \u001b[0m | \u001b[0m 278.4   \u001b[0m | \u001b[0m-2.654   \u001b[0m | \u001b[0m 0.4067  \u001b[0m | \u001b[0m 135.6   \u001b[0m |\n",
      "Mu:0.70|Mu+:0.05|Beta:473.00|Sigma:143.00|Epsilon:274.57|EpIter:0.00\n",
      "| \u001b[0m 22      \u001b[0m | \u001b[0m 0.5955  \u001b[0m | \u001b[0m 473.1   \u001b[0m | \u001b[0m 274.6   \u001b[0m | \u001b[0m-2.936   \u001b[0m | \u001b[0m 0.8596  \u001b[0m | \u001b[0m 143.9   \u001b[0m |\n",
      "Mu:0.70|Mu+:0.05|Beta:480.00|Sigma:137.00|Epsilon:273.84|EpIter:0.00\n",
      "| \u001b[0m 23      \u001b[0m | \u001b[0m 0.6626  \u001b[0m | \u001b[0m 480.4   \u001b[0m | \u001b[0m 273.8   \u001b[0m | \u001b[0m-2.922   \u001b[0m | \u001b[0m 0.8382  \u001b[0m | \u001b[0m 137.4   \u001b[0m |\n",
      "Mu:0.69|Mu+:0.06|Beta:472.00|Sigma:136.00|Epsilon:267.11|EpIter:0.00\n",
      "| \u001b[0m 24      \u001b[0m | \u001b[0m 0.6984  \u001b[0m | \u001b[0m 472.6   \u001b[0m | \u001b[0m 267.1   \u001b[0m | \u001b[0m-2.694   \u001b[0m | \u001b[0m 0.8189  \u001b[0m | \u001b[0m 136.3   \u001b[0m |\n",
      "Mu:0.69|Mu+:0.05|Beta:476.00|Sigma:126.00|Epsilon:272.32|EpIter:0.00\n",
      "| \u001b[0m 25      \u001b[0m | \u001b[0m 0.5723  \u001b[0m | \u001b[0m 476.8   \u001b[0m | \u001b[0m 272.3   \u001b[0m | \u001b[0m-2.9     \u001b[0m | \u001b[0m 0.8015  \u001b[0m | \u001b[0m 126.8   \u001b[0m |\n",
      "Mu:0.69|Mu+:0.05|Beta:464.00|Sigma:127.00|Epsilon:271.61|EpIter:0.00\n",
      "| \u001b[0m 26      \u001b[0m | \u001b[0m 0.6388  \u001b[0m | \u001b[0m 464.6   \u001b[0m | \u001b[0m 271.6   \u001b[0m | \u001b[0m-2.89    \u001b[0m | \u001b[0m 0.7858  \u001b[0m | \u001b[0m 127.7   \u001b[0m |\n",
      "Mu:0.68|Mu+:0.06|Beta:470.00|Sigma:120.00|Epsilon:281.91|EpIter:0.00\n",
      "| \u001b[0m 27      \u001b[0m | \u001b[0m 0.6854  \u001b[0m | \u001b[0m 470.5   \u001b[0m | \u001b[0m 281.9   \u001b[0m | \u001b[0m-2.724   \u001b[0m | \u001b[0m 0.7718  \u001b[0m | \u001b[0m 120.5   \u001b[0m |\n",
      "Mu:0.68|Mu+:0.06|Beta:486.00|Sigma:121.00|Epsilon:282.01|EpIter:0.00\n",
      "| \u001b[0m 28      \u001b[0m | \u001b[0m 0.6984  \u001b[0m | \u001b[0m 486.3   \u001b[0m | \u001b[0m 282.0   \u001b[0m | \u001b[0m-2.732   \u001b[0m | \u001b[0m 0.7591  \u001b[0m | \u001b[0m 121.8   \u001b[0m |\n",
      "Mu:0.68|Mu+:0.05|Beta:485.00|Sigma:154.00|Epsilon:277.25|EpIter:0.00\n",
      "| \u001b[0m 29      \u001b[0m | \u001b[0m 1.033   \u001b[0m | \u001b[0m 485.1   \u001b[0m | \u001b[0m 277.2   \u001b[0m | \u001b[0m-2.866   \u001b[0m | \u001b[0m 0.7477  \u001b[0m | \u001b[0m 154.7   \u001b[0m |\n",
      "Mu:0.68|Mu+:0.05|Beta:483.00|Sigma:125.00|Epsilon:306.09|EpIter:0.00\n",
      "| \u001b[0m 30      \u001b[0m | \u001b[0m 0.7844  \u001b[0m | \u001b[0m 483.5   \u001b[0m | \u001b[0m 306.1   \u001b[0m | \u001b[0m-2.86    \u001b[0m | \u001b[0m 0.7374  \u001b[0m | \u001b[0m 125.1   \u001b[0m |\n",
      "Mu:0.67|Mu+:0.06|Beta:456.00|Sigma:126.00|Epsilon:280.13|EpIter:0.00\n",
      "| \u001b[0m 31      \u001b[0m | \u001b[0m 0.8189  \u001b[0m | \u001b[0m 456.9   \u001b[0m | \u001b[0m 280.1   \u001b[0m | \u001b[0m-2.751   \u001b[0m | \u001b[0m 0.7282  \u001b[0m | \u001b[0m 126.5   \u001b[0m |\n",
      "Mu:0.67|Mu+:0.05|Beta:480.00|Sigma:150.00|Epsilon:286.76|EpIter:0.00\n",
      "| \u001b[0m 32      \u001b[0m | \u001b[0m 1.098   \u001b[0m | \u001b[0m 480.9   \u001b[0m | \u001b[0m 286.8   \u001b[0m | \u001b[0m-2.849   \u001b[0m | \u001b[0m 0.7199  \u001b[0m | \u001b[0m 150.5   \u001b[0m |\n",
      "Mu:0.64|Mu+:0.06|Beta:479.00|Sigma:128.00|Epsilon:282.86|EpIter:0.00\n",
      "| \u001b[95m 33      \u001b[0m | \u001b[95m 1.248   \u001b[0m | \u001b[95m 479.7   \u001b[0m | \u001b[95m 282.9   \u001b[0m | \u001b[95m-2.761   \u001b[0m | \u001b[95m 0.5778  \u001b[0m | \u001b[95m 128.9   \u001b[0m |\n",
      "Mu:0.63|Mu+:0.06|Beta:488.00|Sigma:120.00|Epsilon:291.35|EpIter:0.00\n",
      "| \u001b[0m 34      \u001b[0m | \u001b[0m 1.04    \u001b[0m | \u001b[0m 488.4   \u001b[0m | \u001b[0m 291.4   \u001b[0m | \u001b[0m-2.796   \u001b[0m | \u001b[0m 0.5205  \u001b[0m | \u001b[0m 120.2   \u001b[0m |\n",
      "Mu:0.63|Mu+:0.06|Beta:487.00|Sigma:136.00|Epsilon:275.23|EpIter:0.00\n",
      "| \u001b[0m 35      \u001b[0m | \u001b[0m 1.102   \u001b[0m | \u001b[0m 487.6   \u001b[0m | \u001b[0m 275.2   \u001b[0m | \u001b[0m-2.729   \u001b[0m | \u001b[0m 0.5263  \u001b[0m | \u001b[0m 136.7   \u001b[0m |\n",
      "Mu:0.63|Mu+:0.06|Beta:486.00|Sigma:121.00|Epsilon:275.99|EpIter:0.00\n",
      "| \u001b[0m 36      \u001b[0m | \u001b[0m 1.203   \u001b[0m | \u001b[0m 486.8   \u001b[0m | \u001b[0m 276.0   \u001b[0m | \u001b[0m-2.732   \u001b[0m | \u001b[0m 0.5314  \u001b[0m | \u001b[0m 121.8   \u001b[0m |\n",
      "Mu:0.65|Mu+:0.06|Beta:486.00|Sigma:135.00|Epsilon:289.05|EpIter:0.00\n",
      "| \u001b[0m 37      \u001b[0m | \u001b[0m 1.036   \u001b[0m | \u001b[0m 486.1   \u001b[0m | \u001b[0m 289.1   \u001b[0m | \u001b[0m-2.735   \u001b[0m | \u001b[0m 0.6195  \u001b[0m | \u001b[0m 135.2   \u001b[0m |\n",
      "Mu:0.63|Mu+:0.06|Beta:485.00|Sigma:123.00|Epsilon:277.30|EpIter:0.00\n",
      "| \u001b[95m 38      \u001b[0m | \u001b[95m 1.296   \u001b[0m | \u001b[95m 485.4   \u001b[0m | \u001b[95m 277.3   \u001b[0m | \u001b[95m-2.737   \u001b[0m | \u001b[95m 0.5402  \u001b[0m | \u001b[95m 123.2   \u001b[0m |\n",
      "Mu:0.62|Mu+:0.06|Beta:490.00|Sigma:118.00|Epsilon:272.57|EpIter:0.00\n"
     ]
    },
    {
     "name": "stdout",
     "output_type": "stream",
     "text": [
      "| \u001b[0m 39      \u001b[0m | \u001b[0m 1.054   \u001b[0m | \u001b[0m 490.3   \u001b[0m | \u001b[0m 272.6   \u001b[0m | \u001b[0m-2.717   \u001b[0m | \u001b[0m 0.5083  \u001b[0m | \u001b[0m 118.3   \u001b[0m |\n",
      "Mu:0.64|Mu+:0.06|Beta:489.00|Sigma:118.00|Epsilon:273.04|EpIter:0.00\n",
      "| \u001b[0m 40      \u001b[0m | \u001b[0m 1.276   \u001b[0m | \u001b[0m 489.8   \u001b[0m | \u001b[0m 273.0   \u001b[0m | \u001b[0m-2.719   \u001b[0m | \u001b[0m 0.5689  \u001b[0m | \u001b[0m 118.8   \u001b[0m |\n",
      "Mu:0.63|Mu+:0.06|Beta:489.00|Sigma:127.00|Epsilon:273.47|EpIter:0.00\n",
      "| \u001b[0m 41      \u001b[0m | \u001b[0m 1.191   \u001b[0m | \u001b[0m 489.4   \u001b[0m | \u001b[0m 273.5   \u001b[0m | \u001b[0m-2.721   \u001b[0m | \u001b[0m 0.5144  \u001b[0m | \u001b[0m 127.1   \u001b[0m |\n",
      "Mu:0.64|Mu+:0.06|Beta:488.00|Sigma:119.00|Epsilon:280.75|EpIter:0.00\n",
      "| \u001b[0m 42      \u001b[0m | \u001b[0m 1.278   \u001b[0m | \u001b[0m 489.0   \u001b[0m | \u001b[0m 280.7   \u001b[0m | \u001b[0m-2.723   \u001b[0m | \u001b[0m 0.5635  \u001b[0m | \u001b[0m 119.6   \u001b[0m |\n",
      "Mu:0.63|Mu+:0.06|Beta:482.00|Sigma:119.00|Epsilon:274.19|EpIter:0.00\n",
      "| \u001b[0m 43      \u001b[0m | \u001b[0m 1.04    \u001b[0m | \u001b[0m 482.3   \u001b[0m | \u001b[0m 274.2   \u001b[0m | \u001b[0m-2.724   \u001b[0m | \u001b[0m 0.5193  \u001b[0m | \u001b[0m 120.0   \u001b[0m |\n",
      "Mu:0.64|Mu+:0.06|Beta:488.00|Sigma:126.00|Epsilon:274.50|EpIter:0.00\n",
      "| \u001b[0m 44      \u001b[0m | \u001b[0m 1.267   \u001b[0m | \u001b[0m 488.3   \u001b[0m | \u001b[0m 274.5   \u001b[0m | \u001b[0m-2.726   \u001b[0m | \u001b[0m 0.5591  \u001b[0m | \u001b[0m 126.0   \u001b[0m |\n",
      "Mu:0.64|Mu+:0.06|Beta:488.00|Sigma:120.00|Epsilon:279.81|EpIter:0.00\n",
      "| \u001b[0m 45      \u001b[0m | \u001b[0m 1.289   \u001b[0m | \u001b[0m 488.0   \u001b[0m | \u001b[0m 279.8   \u001b[0m | \u001b[0m-2.727   \u001b[0m | \u001b[0m 0.5572  \u001b[0m | \u001b[0m 120.6   \u001b[0m |\n",
      "Mu:0.63|Mu+:0.06|Beta:487.00|Sigma:125.00|Epsilon:275.03|EpIter:0.00\n",
      "| \u001b[0m 46      \u001b[0m | \u001b[0m 1.173   \u001b[0m | \u001b[0m 487.8   \u001b[0m | \u001b[0m 275.0   \u001b[0m | \u001b[0m-2.728   \u001b[0m | \u001b[0m 0.525   \u001b[0m | \u001b[0m 125.5   \u001b[0m |\n",
      "Mu:0.63|Mu+:0.06|Beta:483.00|Sigma:121.00|Epsilon:275.26|EpIter:0.00\n",
      "| \u001b[0m 47      \u001b[0m | \u001b[0m 1.184   \u001b[0m | \u001b[0m 483.4   \u001b[0m | \u001b[0m 275.3   \u001b[0m | \u001b[0m-2.729   \u001b[0m | \u001b[0m 0.5265  \u001b[0m | \u001b[0m 121.1   \u001b[0m |\n",
      "Mu:0.63|Mu+:0.06|Beta:487.00|Sigma:121.00|Epsilon:279.13|EpIter:0.00\n",
      "| \u001b[0m 48      \u001b[0m | \u001b[0m 1.266   \u001b[0m | \u001b[0m 487.3   \u001b[0m | \u001b[0m 279.1   \u001b[0m | \u001b[0m-2.73    \u001b[0m | \u001b[0m 0.5526  \u001b[0m | \u001b[0m 121.3   \u001b[0m |\n",
      "Mu:0.63|Mu+:0.06|Beta:487.00|Sigma:121.00|Epsilon:275.65|EpIter:0.00\n",
      "| \u001b[0m 49      \u001b[0m | \u001b[0m 1.27    \u001b[0m | \u001b[0m 487.1   \u001b[0m | \u001b[0m 275.6   \u001b[0m | \u001b[0m-2.73    \u001b[0m | \u001b[0m 0.5514  \u001b[0m | \u001b[0m 121.5   \u001b[0m |\n",
      "Mu:0.63|Mu+:0.06|Beta:486.00|Sigma:124.00|Epsilon:275.81|EpIter:0.00\n",
      "| \u001b[0m 50      \u001b[0m | \u001b[0m 1.27    \u001b[0m | \u001b[0m 487.0   \u001b[0m | \u001b[0m 275.8   \u001b[0m | \u001b[0m-2.731   \u001b[0m | \u001b[0m 0.5502  \u001b[0m | \u001b[0m 124.7   \u001b[0m |\n",
      "Mu:0.63|Mu+:0.06|Beta:486.00|Sigma:121.00|Epsilon:278.63|EpIter:0.00\n",
      "| \u001b[0m 51      \u001b[0m | \u001b[0m 1.27    \u001b[0m | \u001b[0m 486.8   \u001b[0m | \u001b[0m 278.6   \u001b[0m | \u001b[0m-2.732   \u001b[0m | \u001b[0m 0.5492  \u001b[0m | \u001b[0m 121.8   \u001b[0m |\n",
      "Mu:0.63|Mu+:0.06|Beta:486.00|Sigma:121.00|Epsilon:276.10|EpIter:0.00\n",
      "| \u001b[0m 52      \u001b[0m | \u001b[0m 1.27    \u001b[0m | \u001b[0m 486.7   \u001b[0m | \u001b[0m 276.1   \u001b[0m | \u001b[0m-2.732   \u001b[0m | \u001b[0m 0.5483  \u001b[0m | \u001b[0m 121.9   \u001b[0m |\n",
      "Mu:0.63|Mu+:0.06|Beta:486.00|Sigma:124.00|Epsilon:276.22|EpIter:0.00\n",
      "| \u001b[0m 53      \u001b[0m | \u001b[0m 1.281   \u001b[0m | \u001b[0m 486.6   \u001b[0m | \u001b[0m 276.2   \u001b[0m | \u001b[0m-2.733   \u001b[0m | \u001b[0m 0.5475  \u001b[0m | \u001b[0m 124.3   \u001b[0m |\n",
      "Mu:0.63|Mu+:0.06|Beta:486.00|Sigma:122.00|Epsilon:276.32|EpIter:0.00\n",
      "| \u001b[0m 54      \u001b[0m | \u001b[0m 1.28    \u001b[0m | \u001b[0m 486.4   \u001b[0m | \u001b[0m 276.3   \u001b[0m | \u001b[0m-2.733   \u001b[0m | \u001b[0m 0.5468  \u001b[0m | \u001b[0m 122.2   \u001b[0m |\n",
      "Mu:0.63|Mu+:0.06|Beta:486.00|Sigma:122.00|Epsilon:278.17|EpIter:0.00\n",
      "| \u001b[0m 55      \u001b[0m | \u001b[0m 1.28    \u001b[0m | \u001b[0m 486.3   \u001b[0m | \u001b[0m 278.2   \u001b[0m | \u001b[0m-2.734   \u001b[0m | \u001b[0m 0.5461  \u001b[0m | \u001b[0m 122.3   \u001b[0m |\n",
      "Mu:0.63|Mu+:0.06|Beta:486.00|Sigma:122.00|Epsilon:276.51|EpIter:0.00\n",
      "| \u001b[0m 56      \u001b[0m | \u001b[0m 1.28    \u001b[0m | \u001b[0m 486.3   \u001b[0m | \u001b[0m 276.5   \u001b[0m | \u001b[0m-2.734   \u001b[0m | \u001b[0m 0.5456  \u001b[0m | \u001b[0m 122.3   \u001b[0m |\n",
      "Mu:0.63|Mu+:0.06|Beta:486.00|Sigma:122.00|Epsilon:276.59|EpIter:0.00\n",
      "| \u001b[0m 57      \u001b[0m | \u001b[0m 1.28    \u001b[0m | \u001b[0m 486.2   \u001b[0m | \u001b[0m 276.6   \u001b[0m | \u001b[0m-2.734   \u001b[0m | \u001b[0m 0.545   \u001b[0m | \u001b[0m 122.4   \u001b[0m |\n",
      "Mu:0.63|Mu+:0.06|Beta:486.00|Sigma:122.00|Epsilon:276.66|EpIter:0.00\n",
      "| \u001b[0m 58      \u001b[0m | \u001b[0m 1.28    \u001b[0m | \u001b[0m 486.1   \u001b[0m | \u001b[0m 276.7   \u001b[0m | \u001b[0m-2.735   \u001b[0m | \u001b[0m 0.5445  \u001b[0m | \u001b[0m 122.5   \u001b[0m |\n",
      "Mu:0.63|Mu+:0.06|Beta:486.00|Sigma:122.00|Epsilon:276.72|EpIter:0.00\n",
      "| \u001b[0m 59      \u001b[0m | \u001b[0m 1.28    \u001b[0m | \u001b[0m 486.0   \u001b[0m | \u001b[0m 276.7   \u001b[0m | \u001b[0m-2.735   \u001b[0m | \u001b[0m 0.5441  \u001b[0m | \u001b[0m 122.6   \u001b[0m |\n",
      "Mu:0.63|Mu+:0.06|Beta:485.00|Sigma:122.00|Epsilon:276.78|EpIter:0.00\n",
      "| \u001b[0m 60      \u001b[0m | \u001b[0m 1.28    \u001b[0m | \u001b[0m 486.0   \u001b[0m | \u001b[0m 276.8   \u001b[0m | \u001b[0m-2.735   \u001b[0m | \u001b[0m 0.5437  \u001b[0m | \u001b[0m 122.6   \u001b[0m |\n",
      "=====================================================================================\n"
     ]
    }
   ],
   "source": [
    "optimizer.maximize(\n",
    "    init_points=10,\n",
    "    n_iter=50,\n",
    "    acq=\"ucb\",\n",
    "    kappa=5,\n",
    "    alpha=1\n",
    ")"
   ]
  },
  {
   "cell_type": "code",
   "execution_count": 34,
   "metadata": {},
   "outputs": [
    {
     "data": {
      "text/plain": [
       "{'target': 1.2963461271957242,\n",
       " 'params': {'beta_sp': 485.4456526355273,\n",
       "  'epsilon_sp': 277.297930153227,\n",
       "  'muIncr_logit': -2.7372215941927043,\n",
       "  'mu_logit': 0.5402285057903428,\n",
       "  'sigma_sp': 123.15064699252713}}"
      ]
     },
     "execution_count": 34,
     "metadata": {},
     "output_type": "execute_result"
    }
   ],
   "source": [
    "optimizer.max"
   ]
  },
  {
   "cell_type": "code",
   "execution_count": 35,
   "metadata": {
    "ExecuteTime": {
     "end_time": "2020-09-03T22:58:42.653746Z",
     "start_time": "2020-09-03T22:58:42.649916Z"
    }
   },
   "outputs": [
    {
     "data": {
      "text/plain": [
       "0.7852194000000001"
      ]
     },
     "execution_count": 35,
     "metadata": {},
     "output_type": "execute_result"
    }
   ],
   "source": [
    "inv_logit(optimizer.max[\"target\"])"
   ]
  },
  {
   "cell_type": "code",
   "execution_count": 36,
   "metadata": {
    "ExecuteTime": {
     "end_time": "2020-09-03T22:59:56.414823Z",
     "start_time": "2020-09-03T22:59:56.412477Z"
    }
   },
   "outputs": [],
   "source": [
    "params=optimizer.max[\"params\"]"
   ]
  },
  {
   "cell_type": "code",
   "execution_count": 37,
   "metadata": {
    "ExecuteTime": {
     "end_time": "2020-09-03T23:00:39.452694Z",
     "start_time": "2020-09-03T23:00:39.449279Z"
    }
   },
   "outputs": [
    {
     "data": {
      "text/plain": [
       "485.4456526355273"
      ]
     },
     "execution_count": 37,
     "metadata": {},
     "output_type": "execute_result"
    }
   ],
   "source": [
    "softplus(params[\"beta_sp\"])"
   ]
  },
  {
   "cell_type": "code",
   "execution_count": 38,
   "metadata": {
    "ExecuteTime": {
     "end_time": "2020-09-03T23:01:09.671719Z",
     "start_time": "2020-09-03T23:01:09.668333Z"
    }
   },
   "outputs": [
    {
     "data": {
      "text/plain": [
       "123.15064699252713"
      ]
     },
     "execution_count": 38,
     "metadata": {},
     "output_type": "execute_result"
    }
   ],
   "source": [
    "softplus(params[\"sigma_sp\"])"
   ]
  },
  {
   "cell_type": "code",
   "execution_count": 39,
   "metadata": {
    "ExecuteTime": {
     "end_time": "2020-09-04T01:35:00.233453Z",
     "start_time": "2020-09-04T01:35:00.230360Z"
    }
   },
   "outputs": [
    {
     "data": {
      "text/plain": [
       "0.6318655724055106"
      ]
     },
     "execution_count": 39,
     "metadata": {},
     "output_type": "execute_result"
    }
   ],
   "source": [
    "inv_logit(params[\"mu_logit\"])"
   ]
  },
  {
   "cell_type": "code",
   "execution_count": 40,
   "metadata": {
    "ExecuteTime": {
     "end_time": "2020-09-04T01:35:28.881809Z",
     "start_time": "2020-09-04T01:35:28.878641Z"
    }
   },
   "outputs": [
    {
     "data": {
      "text/plain": [
       "0.060812396374509706"
      ]
     },
     "execution_count": 40,
     "metadata": {},
     "output_type": "execute_result"
    }
   ],
   "source": [
    "inv_logit(params[\"muIncr_logit\"])"
   ]
  },
  {
   "cell_type": "code",
   "execution_count": 41,
   "metadata": {
    "ExecuteTime": {
     "end_time": "2020-09-04T01:36:13.729976Z",
     "start_time": "2020-09-04T01:36:13.726798Z"
    }
   },
   "outputs": [
    {
     "data": {
      "text/plain": [
       "277.297930153227"
      ]
     },
     "execution_count": 41,
     "metadata": {},
     "output_type": "execute_result"
    }
   ],
   "source": [
    "softplus(params[\"epsilon_sp\"])"
   ]
  },
  {
   "cell_type": "code",
   "execution_count": 43,
   "metadata": {},
   "outputs": [
    {
     "name": "stdout",
     "output_type": "stream",
     "text": [
      "\n",
      ">>>>>>>>>>>>\n",
      "Starting Iteration mu= 0.6319\n",
      "Starting Iteration epsilon= 277.3\n",
      "Running NewMatrix Jar!\n",
      " Single-Reference Blocks = 1\n",
      "\n",
      " Multi-Reference Blocks = 1802\n",
      "NewMatrix Iterateblocks Total Time = 7.230738596059382\n",
      "\n",
      "Precision = TP / (TP + FP) ......................... = 0.78230088\n",
      "Recall = TP / (TP + FN) ............................ = 0.78815977\n",
      "F-Measure .......................................... = 0.78521940\n"
     ]
    },
    {
     "data": {
      "text/plain": [
       "0.7852194"
      ]
     },
     "execution_count": 43,
     "metadata": {},
     "output_type": "execute_result"
    }
   ],
   "source": [
    "entropy_F1(mu=0.6319,\n",
    "           muIncr=0.0608,\n",
    "           beta=485,\n",
    "           sigma=123,\n",
    "           epsilon=277.30,\n",
    "           epsilonIterate=0)"
   ]
  }
 ],
 "metadata": {
  "kernelspec": {
   "display_name": "Python 3",
   "language": "python",
   "name": "python3"
  },
  "language_info": {
   "codemirror_mode": {
    "name": "ipython",
    "version": 3
   },
   "file_extension": ".py",
   "mimetype": "text/x-python",
   "name": "python",
   "nbconvert_exporter": "python",
   "pygments_lexer": "ipython3",
   "version": "3.7.4"
  },
  "toc": {
   "base_numbering": 1,
   "nav_menu": {},
   "number_sections": true,
   "sideBar": true,
   "skip_h1_title": false,
   "title_cell": "Table of Contents",
   "title_sidebar": "Contents",
   "toc_cell": false,
   "toc_position": {},
   "toc_section_display": true,
   "toc_window_display": false
  },
  "varInspector": {
   "cols": {
    "lenName": 16,
    "lenType": 16,
    "lenVar": 40
   },
   "kernels_config": {
    "python": {
     "delete_cmd_postfix": "",
     "delete_cmd_prefix": "del ",
     "library": "var_list.py",
     "varRefreshCmd": "print(var_dic_list())"
    },
    "r": {
     "delete_cmd_postfix": ") ",
     "delete_cmd_prefix": "rm(",
     "library": "var_list.r",
     "varRefreshCmd": "cat(var_dic_list()) "
    }
   },
   "types_to_exclude": [
    "module",
    "function",
    "builtin_function_or_method",
    "instance",
    "_Feature"
   ],
   "window_display": false
  }
 },
 "nbformat": 4,
 "nbformat_minor": 2
}
