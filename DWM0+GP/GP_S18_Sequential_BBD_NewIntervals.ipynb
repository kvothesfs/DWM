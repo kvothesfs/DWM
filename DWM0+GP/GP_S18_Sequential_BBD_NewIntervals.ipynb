{
 "cells": [
  {
   "cell_type": "code",
   "execution_count": 1,
   "metadata": {
    "ExecuteTime": {
     "end_time": "2020-09-03T21:59:20.041891Z",
     "start_time": "2020-09-03T21:59:10.621897Z"
    }
   },
   "outputs": [
    {
     "name": "stdout",
     "output_type": "stream",
     "text": [
      "Tokenizing References\n",
      "Total References= 10000\n",
      "Total Tokens Found = 130023\n",
      "Total Tokens Output = 127367\n",
      "Dictionary Load = 67077\n",
      "<class 'dict'>\n",
      "Global Replace Cycle\n",
      "Total References= 10000\n",
      "Total Tokens= 127367\n",
      "Unique Tokens= 20063\n",
      "Minimum Frequency of Standard Token =  5\n",
      "Minimum Length of Standard Token =  5\n",
      "Maximum Frequency of Error Token =  3\n",
      "References Processed= 10000\n",
      "Sorted Token Size = 20063\n",
      "Clean Token Size = 7551\n",
      "*Stop Replacements here\n",
      "References Processed =  10000\n",
      "Total Replacement Pairs = 2321\n",
      "Tokens Read = 127367\n",
      "Tokens Changed =  2717\n",
      "References Changed = 2470\n"
     ]
    }
   ],
   "source": [
    "import DWM1_Tokenizer\n",
    "import DWM2_Global_Token_Replace_NewDict\n",
    "import DWM3_Entropy_Cluster\n",
    "# Settings for Tokenizer\n",
    "inputSampleName = r'S18'\n",
    "delimiter=','\n",
    "hasHeader = True\n",
    "tokenizerType = 'Splitter'\n",
    "removeDuplicateTokens = True\n",
    "\n",
    "# Setting for global replacement DWM2\n",
    "runReplacement = True\n",
    "minFreqStdToken = 5\n",
    "minLenStdToken = 5 #From 3 to 5 as in paper\n",
    "maxFreqErrToken = 3\n",
    "\n",
    "# Cluster Settings\n",
    "\n",
    "\n",
    "DWM1_Tokenizer.tokenizeCycle(inputSampleName, delimiter, hasHeader, removeDuplicateTokens, tokenizerType)\n",
    "prefixString = inputSampleName +','+tokenizerType+','+str(removeDuplicateTokens)\n",
    "fileToCluster = inputSampleName + '-Tokenized.txt'\n",
    "if runReplacement:\n",
    "    DWM2_Global_Token_Replace_NewDict.globalReplace(inputSampleName, minFreqStdToken, minLenStdToken, maxFreqErrToken)\n",
    "    fileToCluster = inputSampleName + '-TokenReplace.txt'\n",
    "    prefixString = prefixString+','+str(minFreqStdToken)+','+str(minLenStdToken)+','+str(maxFreqErrToken)\n",
    "else:\n",
    "    prefixString = prefixString+',0,0,0'\n",
    "\n",
    "# Cluster fixed settings\n",
    "epsilonIterate = 0.0\n",
    "runClusterMetrics = False\n",
    "runFinalMetrics = True\n",
    "createFinalJoin = False"
   ]
  },
  {
   "cell_type": "code",
   "execution_count": 2,
   "metadata": {},
   "outputs": [],
   "source": [
    "status=\"done\""
   ]
  },
  {
   "cell_type": "code",
   "execution_count": 3,
   "metadata": {},
   "outputs": [
    {
     "name": "stdout",
     "output_type": "stream",
     "text": [
      "done\n"
     ]
    }
   ],
   "source": [
    "print(status)"
   ]
  },
  {
   "cell_type": "code",
   "execution_count": 4,
   "metadata": {
    "ExecuteTime": {
     "end_time": "2020-09-03T15:11:39.765508Z",
     "start_time": "2020-09-03T15:03:19.495876Z"
    },
    "scrolled": false
   },
   "outputs": [],
   "source": [
    "# # Cluster Robot Settings\n",
    "# muStart = 0.60\n",
    "# muEnd = 0.60\n",
    "# muIncr = 0.05\n",
    "# betaStart = 14\n",
    "# betaEnd = 14\n",
    "# betaIncr = 1\n",
    "# sigmaStart = 145\n",
    "# sigmaEnd = 145\n",
    "# sigmaIncr = 1\n",
    "# epsilonStart = 35\n",
    "# epsilonEnd = 35\n",
    "# epsilonIncr = 1\n",
    "# mu = muStart\n",
    "# while mu <= muEnd:\n",
    "#     beta = betaStart\n",
    "#     while beta <= betaEnd:\n",
    "#         sigma = sigmaStart\n",
    "#         while sigma <= sigmaEnd:\n",
    "#             epsilon = epsilonStart\n",
    "#             while epsilon <= epsilonEnd:\n",
    "#                 suffixString =','+str(epsilon)+','+str(epsilonIterate)\n",
    "#                 resultsList = DWM3_Entropy_Cluster.driver(fileToCluster, beta, sigma, mu, muIncr,epsilon,  \\\n",
    "#                                                      epsilonIterate,runClusterMetrics, runFinalMetrics, createFinalJoin, hasHeader)\n",
    "#                 seg0a = ','+str(resultsList[0])+','+str(resultsList[1])+','+str(resultsList[2])+','+str(resultsList[3])\n",
    "#                 seg0b =','+str(resultsList[4])+','+str(resultsList[5])+','+str(resultsList[6])\n",
    "#                 seg1 = ','+str(beta)+','+str(sigma)+','+str(mu)+ ',' +str(muIncr)\n",
    "#                 seg2 = ','+str(resultsList[7])+','+str(resultsList[8])+','+str(resultsList[9])\n",
    "#                 outString = prefixString+seg0a+seg0b+suffixString+seg1+seg2+'\\n'\n",
    "#                 resultsFile = open('RobotResults.txt','a+')\n",
    "#                 resultsFile.write(outString)\n",
    "#                 resultsFile.close()\n",
    "#                 epsilon = epsilon + epsilonIncr\n",
    "#             sigma = sigma + sigmaIncr\n",
    "#         beta = beta + betaIncr\n",
    "#     mu = mu + muIncr\n",
    "\n",
    "\n",
    " "
   ]
  },
  {
   "cell_type": "markdown",
   "metadata": {
    "ExecuteTime": {
     "end_time": "2020-09-03T16:36:26.229783Z",
     "start_time": "2020-09-03T16:36:26.227755Z"
    }
   },
   "source": [
    "## Bayesian Optimization of Hyperparameters"
   ]
  },
  {
   "cell_type": "code",
   "execution_count": 5,
   "metadata": {},
   "outputs": [],
   "source": [
    "import numpy as np"
   ]
  },
  {
   "cell_type": "markdown",
   "metadata": {
    "ExecuteTime": {
     "end_time": "2020-09-03T16:36:47.947518Z",
     "start_time": "2020-09-03T16:36:47.944251Z"
    }
   },
   "source": [
    "Create a function of the parameters that returns the F score"
   ]
  },
  {
   "cell_type": "code",
   "execution_count": 6,
   "metadata": {
    "ExecuteTime": {
     "end_time": "2020-09-03T21:59:42.561300Z",
     "start_time": "2020-09-03T21:59:42.557193Z"
    }
   },
   "outputs": [],
   "source": [
    "def entropy_F1(beta=14,sigma=145,mu=0.6,muIncr=0.05,epsilon=35,epsilonIterate=0):\n",
    "    resultsList = DWM3_Entropy_Cluster.driver(fileToCluster, \n",
    "                                  beta, \n",
    "                                  sigma, \n",
    "                                  mu, \n",
    "                                  muIncr,\n",
    "                                  epsilon,\n",
    "                                  epsilonIterate,\n",
    "                                  runClusterMetrics, \n",
    "                                  runFinalMetrics, \n",
    "                                  createFinalJoin, \n",
    "                                  hasHeader)\n",
    "    return resultsList[9]"
   ]
  },
  {
   "cell_type": "code",
   "execution_count": 7,
   "metadata": {
    "ExecuteTime": {
     "end_time": "2020-09-03T22:06:32.164588Z",
     "start_time": "2020-09-03T21:59:43.696518Z"
    }
   },
   "outputs": [
    {
     "name": "stdout",
     "output_type": "stream",
     "text": [
      "\n",
      ">>>>>>>>>>>>\n",
      "Starting Iteration mu= 0.5\n",
      "Starting Iteration epsilon= 31.8\n",
      "Running NewMatrix Jar!\n",
      " Single-Reference Blocks = 1\n",
      "\n",
      " Multi-Reference Blocks = 10202\n",
      "NewMatrix Iterateblocks Total Time = 11.406887887045741\n",
      "\n",
      "\n",
      ">>>>>>>>>>>>\n",
      "Starting Iteration mu= 0.55\n",
      "Starting Iteration epsilon= 31.8\n",
      "Running NewMatrix Jar!\n",
      " Single-Reference Blocks = 1\n",
      "\n",
      " Multi-Reference Blocks = 9561\n",
      "NewMatrix Iterateblocks Total Time = 10.460538209415972\n",
      "\n",
      "\n",
      ">>>>>>>>>>>>\n",
      "Starting Iteration mu= 0.6000000000000001\n",
      "Starting Iteration epsilon= 31.8\n",
      "Running NewMatrix Jar!\n",
      " Single-Reference Blocks = 1\n",
      "\n",
      " Multi-Reference Blocks = 8200\n",
      "NewMatrix Iterateblocks Total Time = 9.00571606028825\n",
      "\n",
      "\n",
      ">>>>>>>>>>>>\n",
      "Starting Iteration mu= 0.6500000000000001\n",
      "Starting Iteration epsilon= 31.8\n",
      "Running NewMatrix Jar!\n",
      " Single-Reference Blocks = 1\n",
      "\n",
      " Multi-Reference Blocks = 5203\n",
      "NewMatrix Iterateblocks Total Time = 5.492177749052644\n",
      "\n",
      "\n",
      ">>>>>>>>>>>>\n",
      "Starting Iteration mu= 0.7000000000000002\n",
      "Starting Iteration epsilon= 31.8\n",
      "Running NewMatrix Jar!\n",
      " Single-Reference Blocks = 1\n",
      "\n",
      " Multi-Reference Blocks = 2539\n",
      "NewMatrix Iterateblocks Total Time = 3.131988685578108\n",
      "\n",
      "\n",
      ">>>>>>>>>>>>\n",
      "Starting Iteration mu= 0.7500000000000002\n",
      "Starting Iteration epsilon= 31.8\n",
      "Running NewMatrix Jar!\n",
      " Single-Reference Blocks = 1\n",
      "\n",
      " Multi-Reference Blocks = 802\n",
      "NewMatrix Iterateblocks Total Time = 1.29270282946527\n",
      "\n",
      "Precision = TP / (TP + FP) ......................... = 0.70034616\n",
      "Recall = TP / (TP + FN) ............................ = 0.75261006\n",
      "F-Measure .......................................... = 0.72553812\n"
     ]
    },
    {
     "data": {
      "text/plain": [
       "0.72553812"
      ]
     },
     "execution_count": 7,
     "metadata": {},
     "output_type": "execute_result"
    }
   ],
   "source": [
    "entropy_F1(mu=0.5,muIncr=0.05,beta=33,sigma=449,epsilon=31.8,epsilonIterate=0)"
   ]
  },
  {
   "cell_type": "markdown",
   "metadata": {},
   "source": [
    "Import BO library:"
   ]
  },
  {
   "cell_type": "code",
   "execution_count": 8,
   "metadata": {
    "ExecuteTime": {
     "end_time": "2020-09-03T22:08:30.622144Z",
     "start_time": "2020-09-03T22:08:30.226842Z"
    }
   },
   "outputs": [],
   "source": [
    "from bayes_opt import BayesianOptimization"
   ]
  },
  {
   "cell_type": "markdown",
   "metadata": {
    "ExecuteTime": {
     "end_time": "2020-09-03T18:14:39.927785Z",
     "start_time": "2020-09-03T18:14:39.924909Z"
    }
   },
   "source": [
    "Create dictionary bounds for the parameters:"
   ]
  },
  {
   "cell_type": "code",
   "execution_count": 9,
   "metadata": {},
   "outputs": [],
   "source": [
    "import os, sys"
   ]
  },
  {
   "cell_type": "code",
   "execution_count": 10,
   "metadata": {},
   "outputs": [],
   "source": [
    "class HiddenPrints:\n",
    "    def __enter__(self):\n",
    "        self._original_stdout = sys.stdout\n",
    "        sys.stdout = open(os.devnull, 'w')\n",
    "\n",
    "    def __exit__(self, exc_type, exc_val, exc_tb):\n",
    "        sys.stdout.close()\n",
    "        sys.stdout = self._original_stdout"
   ]
  },
  {
   "cell_type": "code",
   "execution_count": 11,
   "metadata": {},
   "outputs": [
    {
     "name": "stdout",
     "output_type": "stream",
     "text": [
      "This will be printed as before\n"
     ]
    }
   ],
   "source": [
    "with HiddenPrints():\n",
    "    print(\"This will not be printed\")\n",
    "\n",
    "print(\"This will be printed as before\")"
   ]
  },
  {
   "cell_type": "code",
   "execution_count": 17,
   "metadata": {
    "ExecuteTime": {
     "end_time": "2020-09-03T22:11:53.005154Z",
     "start_time": "2020-09-03T22:11:53.000238Z"
    }
   },
   "outputs": [],
   "source": [
    "#Take parameters in transformed space and return f score in transformed space\n",
    "def entropy_F1_trx(beta_pos,sigma_pos,mu_01,muIncr_01,epsilon_pos,epsilonIterate_01=0):    \n",
    "    print(\"Mu:%.2f|Mu+:%.2f|Beta:%.2f|Sigma:%.2f|Epsilon:%.2f|EpIter:%.2f\" % (mu_01, muIncr_01, beta_pos, sigma_pos, epsilon_pos, epsilonIterate_01))\n",
    "    \n",
    "    with HiddenPrints():\n",
    "        f1=entropy_F1(beta=int(beta_pos),\n",
    "                      epsilon=epsilon_pos,\n",
    "                      epsilonIterate=epsilonIterate_01,\n",
    "                      muIncr=muIncr_01,\n",
    "                      sigma=int(sigma_pos),\n",
    "                      mu=mu_01)\n",
    "    \n",
    "    return f1"
   ]
  },
  {
   "cell_type": "code",
   "execution_count": 16,
   "metadata": {},
   "outputs": [
    {
     "name": "stdout",
     "output_type": "stream",
     "text": [
      "Mu:0.50|Mu+:0.05|Beta:33.00|Sigma:449.00|Epsilon:31.80|EpIter:0.00\n"
     ]
    },
    {
     "data": {
      "text/plain": [
       "0.72553812"
      ]
     },
     "execution_count": 16,
     "metadata": {},
     "output_type": "execute_result"
    }
   ],
   "source": [
    "entropy_F1_trx(beta_pos=33,\n",
    "               sigma_pos=449,\n",
    "               mu_01=0.5,\n",
    "               muIncr_01=0.05,\n",
    "               epsilon_pos=31.8)"
   ]
  },
  {
   "cell_type": "markdown",
   "metadata": {},
   "source": [
    "Bounds for experiment"
   ]
  },
  {
   "cell_type": "code",
   "execution_count": 41,
   "metadata": {},
   "outputs": [],
   "source": [
    "beta_levels=(1,500,1000)\n",
    "sigma_levels=(1,500,1000)\n",
    "mu_levels=(0.5,0.75,0.99)\n",
    "muIncr_levels=(0.01,0.1,0.2)\n",
    "epsilon_levels=(1,500,1000)"
   ]
  },
  {
   "cell_type": "code",
   "execution_count": 42,
   "metadata": {},
   "outputs": [],
   "source": [
    "optimizer=None"
   ]
  },
  {
   "cell_type": "code",
   "execution_count": 43,
   "metadata": {
    "ExecuteTime": {
     "end_time": "2020-09-03T22:11:50.787503Z",
     "start_time": "2020-09-03T22:11:50.784060Z"
    }
   },
   "outputs": [],
   "source": [
    "pbounds = {'beta_pos': (beta_levels[0], beta_levels[2]), \n",
    "           'sigma_pos': (sigma_levels[0], sigma_levels[2]),\n",
    "           'mu_01': (mu_levels[0], mu_levels[2]),\n",
    "           'muIncr_01': (muIncr_levels[0], muIncr_levels[2]),\n",
    "           'epsilon_pos': (epsilon_levels[0], epsilon_levels[2])}#,"
   ]
  },
  {
   "cell_type": "code",
   "execution_count": 44,
   "metadata": {},
   "outputs": [],
   "source": [
    "from bayes_opt import SequentialDomainReductionTransformer"
   ]
  },
  {
   "cell_type": "code",
   "execution_count": 45,
   "metadata": {},
   "outputs": [],
   "source": [
    "bounds_transformer = SequentialDomainReductionTransformer()"
   ]
  },
  {
   "cell_type": "code",
   "execution_count": 46,
   "metadata": {
    "ExecuteTime": {
     "end_time": "2020-09-03T22:11:56.728829Z",
     "start_time": "2020-09-03T22:11:56.725599Z"
    }
   },
   "outputs": [],
   "source": [
    "optimizer = BayesianOptimization(\n",
    "    f=entropy_F1_trx,\n",
    "    pbounds=pbounds,\n",
    "    random_state=1,\n",
    "    bounds_transformer=bounds_transformer\n",
    ")"
   ]
  },
  {
   "cell_type": "code",
   "execution_count": 47,
   "metadata": {},
   "outputs": [],
   "source": [
    "import pyDOE2"
   ]
  },
  {
   "cell_type": "code",
   "execution_count": 48,
   "metadata": {},
   "outputs": [],
   "source": [
    "levels = [3, 3, 3, 3, 3]"
   ]
  },
  {
   "cell_type": "code",
   "execution_count": 49,
   "metadata": {},
   "outputs": [],
   "source": [
    "gsd_design=pyDOE2.gsd(levels=levels,reduction=5)"
   ]
  },
  {
   "cell_type": "code",
   "execution_count": 50,
   "metadata": {},
   "outputs": [],
   "source": [
    "for exp in gsd_design:\n",
    "    optimizer.probe(\n",
    "        params={\"beta_pos\": beta_levels[exp[0]], \n",
    "                \"sigma_pos\": sigma_levels[exp[1]],\n",
    "                \"mu_01\":mu_levels[exp[2]],\n",
    "                \"muIncr_01\":muIncr_levels[exp[3]],\n",
    "                \"epsilon_pos\":epsilon_levels[exp[4]]},\n",
    "        lazy=True,\n",
    "    )"
   ]
  },
  {
   "cell_type": "code",
   "execution_count": null,
   "metadata": {
    "ExecuteTime": {
     "end_time": "2020-09-03T22:54:10.009085Z",
     "start_time": "2020-09-03T22:11:58.063246Z"
    }
   },
   "outputs": [
    {
     "name": "stdout",
     "output_type": "stream",
     "text": [
      "|   iter    |  target   | beta_pos  | epsilo... | muIncr_01 |   mu_01   | sigma_pos |\n",
      "-------------------------------------------------------------------------------------\n",
      "Mu:0.50|Mu+:0.01|Beta:1.00|Sigma:1.00|Epsilon:1.00|EpIter:0.00\n",
      "| \u001b[0m 1       \u001b[0m | \u001b[0m 0.0     \u001b[0m | \u001b[0m 1.0     \u001b[0m | \u001b[0m 1.0     \u001b[0m | \u001b[0m 0.01    \u001b[0m | \u001b[0m 0.5     \u001b[0m | \u001b[0m 1.0     \u001b[0m |\n",
      "Mu:0.50|Mu+:0.10|Beta:1.00|Sigma:1.00|Epsilon:500.00|EpIter:0.00\n",
      "| \u001b[0m 2       \u001b[0m | \u001b[0m 0.0     \u001b[0m | \u001b[0m 1.0     \u001b[0m | \u001b[0m 500.0   \u001b[0m | \u001b[0m 0.1     \u001b[0m | \u001b[0m 0.5     \u001b[0m | \u001b[0m 1.0     \u001b[0m |\n",
      "Mu:0.50|Mu+:0.20|Beta:1.00|Sigma:1.00|Epsilon:1000.00|EpIter:0.00\n",
      "| \u001b[0m 3       \u001b[0m | \u001b[0m 0.0     \u001b[0m | \u001b[0m 1.0     \u001b[0m | \u001b[0m 1e+03   \u001b[0m | \u001b[0m 0.2     \u001b[0m | \u001b[0m 0.5     \u001b[0m | \u001b[0m 1.0     \u001b[0m |\n",
      "Mu:0.75|Mu+:0.01|Beta:1.00|Sigma:1.00|Epsilon:500.00|EpIter:0.00\n",
      "| \u001b[0m 4       \u001b[0m | \u001b[0m 0.0     \u001b[0m | \u001b[0m 1.0     \u001b[0m | \u001b[0m 500.0   \u001b[0m | \u001b[0m 0.01    \u001b[0m | \u001b[0m 0.75    \u001b[0m | \u001b[0m 1.0     \u001b[0m |\n",
      "Mu:0.75|Mu+:0.10|Beta:1.00|Sigma:1.00|Epsilon:1000.00|EpIter:0.00\n",
      "| \u001b[0m 5       \u001b[0m | \u001b[0m 0.0     \u001b[0m | \u001b[0m 1.0     \u001b[0m | \u001b[0m 1e+03   \u001b[0m | \u001b[0m 0.1     \u001b[0m | \u001b[0m 0.75    \u001b[0m | \u001b[0m 1.0     \u001b[0m |\n",
      "Mu:0.99|Mu+:0.01|Beta:1.00|Sigma:1.00|Epsilon:1000.00|EpIter:0.00\n",
      "| \u001b[0m 6       \u001b[0m | \u001b[0m 0.0     \u001b[0m | \u001b[0m 1.0     \u001b[0m | \u001b[0m 1e+03   \u001b[0m | \u001b[0m 0.01    \u001b[0m | \u001b[0m 0.99    \u001b[0m | \u001b[0m 1.0     \u001b[0m |\n",
      "Mu:0.50|Mu+:0.01|Beta:1.00|Sigma:500.00|Epsilon:500.00|EpIter:0.00\n",
      "| \u001b[0m 7       \u001b[0m | \u001b[0m 0.0     \u001b[0m | \u001b[0m 1.0     \u001b[0m | \u001b[0m 500.0   \u001b[0m | \u001b[0m 0.01    \u001b[0m | \u001b[0m 0.5     \u001b[0m | \u001b[0m 500.0   \u001b[0m |\n",
      "Mu:0.50|Mu+:0.10|Beta:1.00|Sigma:500.00|Epsilon:1000.00|EpIter:0.00\n",
      "| \u001b[0m 8       \u001b[0m | \u001b[0m 0.0     \u001b[0m | \u001b[0m 1.0     \u001b[0m | \u001b[0m 1e+03   \u001b[0m | \u001b[0m 0.1     \u001b[0m | \u001b[0m 0.5     \u001b[0m | \u001b[0m 500.0   \u001b[0m |\n",
      "Mu:0.75|Mu+:0.01|Beta:1.00|Sigma:500.00|Epsilon:1000.00|EpIter:0.00\n",
      "| \u001b[0m 9       \u001b[0m | \u001b[0m 0.0     \u001b[0m | \u001b[0m 1.0     \u001b[0m | \u001b[0m 1e+03   \u001b[0m | \u001b[0m 0.01    \u001b[0m | \u001b[0m 0.75    \u001b[0m | \u001b[0m 500.0   \u001b[0m |\n",
      "Mu:0.99|Mu+:0.20|Beta:1.00|Sigma:500.00|Epsilon:1.00|EpIter:0.00\n",
      "| \u001b[0m 10      \u001b[0m | \u001b[0m 0.0     \u001b[0m | \u001b[0m 1.0     \u001b[0m | \u001b[0m 1.0     \u001b[0m | \u001b[0m 0.2     \u001b[0m | \u001b[0m 0.99    \u001b[0m | \u001b[0m 500.0   \u001b[0m |\n",
      "Mu:0.50|Mu+:0.01|Beta:1.00|Sigma:1000.00|Epsilon:1000.00|EpIter:0.00\n",
      "| \u001b[0m 11      \u001b[0m | \u001b[0m 0.0     \u001b[0m | \u001b[0m 1.0     \u001b[0m | \u001b[0m 1e+03   \u001b[0m | \u001b[0m 0.01    \u001b[0m | \u001b[0m 0.5     \u001b[0m | \u001b[0m 1e+03   \u001b[0m |\n",
      "Mu:0.75|Mu+:0.20|Beta:1.00|Sigma:1000.00|Epsilon:1.00|EpIter:0.00\n",
      "| \u001b[0m 12      \u001b[0m | \u001b[0m 0.0     \u001b[0m | \u001b[0m 1.0     \u001b[0m | \u001b[0m 1.0     \u001b[0m | \u001b[0m 0.2     \u001b[0m | \u001b[0m 0.75    \u001b[0m | \u001b[0m 1e+03   \u001b[0m |\n",
      "Mu:0.99|Mu+:0.10|Beta:1.00|Sigma:1000.00|Epsilon:1.00|EpIter:0.00\n",
      "| \u001b[0m 13      \u001b[0m | \u001b[0m 0.0     \u001b[0m | \u001b[0m 1.0     \u001b[0m | \u001b[0m 1.0     \u001b[0m | \u001b[0m 0.1     \u001b[0m | \u001b[0m 0.99    \u001b[0m | \u001b[0m 1e+03   \u001b[0m |\n",
      "Mu:0.99|Mu+:0.20|Beta:1.00|Sigma:1000.00|Epsilon:500.00|EpIter:0.00\n",
      "| \u001b[0m 14      \u001b[0m | \u001b[0m 0.0     \u001b[0m | \u001b[0m 1.0     \u001b[0m | \u001b[0m 500.0   \u001b[0m | \u001b[0m 0.2     \u001b[0m | \u001b[0m 0.99    \u001b[0m | \u001b[0m 1e+03   \u001b[0m |\n",
      "Mu:0.50|Mu+:0.01|Beta:500.00|Sigma:1.00|Epsilon:500.00|EpIter:0.00\n",
      "| \u001b[0m 15      \u001b[0m | \u001b[0m 0.0     \u001b[0m | \u001b[0m 500.0   \u001b[0m | \u001b[0m 500.0   \u001b[0m | \u001b[0m 0.01    \u001b[0m | \u001b[0m 0.5     \u001b[0m | \u001b[0m 1.0     \u001b[0m |\n",
      "Mu:0.50|Mu+:0.10|Beta:500.00|Sigma:1.00|Epsilon:1000.00|EpIter:0.00\n",
      "| \u001b[0m 16      \u001b[0m | \u001b[0m 0.0     \u001b[0m | \u001b[0m 500.0   \u001b[0m | \u001b[0m 1e+03   \u001b[0m | \u001b[0m 0.1     \u001b[0m | \u001b[0m 0.5     \u001b[0m | \u001b[0m 1.0     \u001b[0m |\n",
      "Mu:0.75|Mu+:0.01|Beta:500.00|Sigma:1.00|Epsilon:1000.00|EpIter:0.00\n",
      "| \u001b[0m 17      \u001b[0m | \u001b[0m 0.0     \u001b[0m | \u001b[0m 500.0   \u001b[0m | \u001b[0m 1e+03   \u001b[0m | \u001b[0m 0.01    \u001b[0m | \u001b[0m 0.75    \u001b[0m | \u001b[0m 1.0     \u001b[0m |\n",
      "Mu:0.99|Mu+:0.20|Beta:500.00|Sigma:1.00|Epsilon:1.00|EpIter:0.00\n",
      "| \u001b[0m 18      \u001b[0m | \u001b[0m 0.0     \u001b[0m | \u001b[0m 500.0   \u001b[0m | \u001b[0m 1.0     \u001b[0m | \u001b[0m 0.2     \u001b[0m | \u001b[0m 0.99    \u001b[0m | \u001b[0m 1.0     \u001b[0m |\n",
      "Mu:0.50|Mu+:0.01|Beta:500.00|Sigma:500.00|Epsilon:1000.00|EpIter:0.00\n",
      "| \u001b[95m 19      \u001b[0m | \u001b[95m 0.002331\u001b[0m | \u001b[95m 500.0   \u001b[0m | \u001b[95m 1e+03   \u001b[0m | \u001b[95m 0.01    \u001b[0m | \u001b[95m 0.5     \u001b[0m | \u001b[95m 500.0   \u001b[0m |\n",
      "Mu:0.75|Mu+:0.20|Beta:500.00|Sigma:500.00|Epsilon:1.00|EpIter:0.00\n",
      "| \u001b[95m 20      \u001b[0m | \u001b[95m 0.002839\u001b[0m | \u001b[95m 500.0   \u001b[0m | \u001b[95m 1.0     \u001b[0m | \u001b[95m 0.2     \u001b[0m | \u001b[95m 0.75    \u001b[0m | \u001b[95m 500.0   \u001b[0m |\n",
      "Mu:0.99|Mu+:0.10|Beta:500.00|Sigma:500.00|Epsilon:1.00|EpIter:0.00\n",
      "| \u001b[95m 21      \u001b[0m | \u001b[95m 0.006088\u001b[0m | \u001b[95m 500.0   \u001b[0m | \u001b[95m 1.0     \u001b[0m | \u001b[95m 0.1     \u001b[0m | \u001b[95m 0.99    \u001b[0m | \u001b[95m 500.0   \u001b[0m |\n",
      "Mu:0.99|Mu+:0.20|Beta:500.00|Sigma:500.00|Epsilon:500.00|EpIter:0.00\n",
      "| \u001b[95m 22      \u001b[0m | \u001b[95m 0.02932 \u001b[0m | \u001b[95m 500.0   \u001b[0m | \u001b[95m 500.0   \u001b[0m | \u001b[95m 0.2     \u001b[0m | \u001b[95m 0.99    \u001b[0m | \u001b[95m 500.0   \u001b[0m |\n",
      "Mu:0.50|Mu+:0.20|Beta:500.00|Sigma:1000.00|Epsilon:1.00|EpIter:0.00\n",
      "| \u001b[0m 23      \u001b[0m | \u001b[0m 0.001017\u001b[0m | \u001b[0m 500.0   \u001b[0m | \u001b[0m 1.0     \u001b[0m | \u001b[0m 0.2     \u001b[0m | \u001b[0m 0.5     \u001b[0m | \u001b[0m 1e+03   \u001b[0m |\n",
      "Mu:0.75|Mu+:0.10|Beta:500.00|Sigma:1000.00|Epsilon:1.00|EpIter:0.00\n",
      "| \u001b[0m 24      \u001b[0m | \u001b[0m 0.002664\u001b[0m | \u001b[0m 500.0   \u001b[0m | \u001b[0m 1.0     \u001b[0m | \u001b[0m 0.1     \u001b[0m | \u001b[0m 0.75    \u001b[0m | \u001b[0m 1e+03   \u001b[0m |\n",
      "Mu:0.75|Mu+:0.20|Beta:500.00|Sigma:1000.00|Epsilon:500.00|EpIter:0.00\n",
      "| \u001b[95m 25      \u001b[0m | \u001b[95m 0.5788  \u001b[0m | \u001b[95m 500.0   \u001b[0m | \u001b[95m 500.0   \u001b[0m | \u001b[95m 0.2     \u001b[0m | \u001b[95m 0.75    \u001b[0m | \u001b[95m 1e+03   \u001b[0m |\n",
      "Mu:0.99|Mu+:0.01|Beta:500.00|Sigma:1000.00|Epsilon:1.00|EpIter:0.00\n",
      "| \u001b[0m 26      \u001b[0m | \u001b[0m 0.005564\u001b[0m | \u001b[0m 500.0   \u001b[0m | \u001b[0m 1.0     \u001b[0m | \u001b[0m 0.01    \u001b[0m | \u001b[0m 0.99    \u001b[0m | \u001b[0m 1e+03   \u001b[0m |\n",
      "Mu:0.99|Mu+:0.10|Beta:500.00|Sigma:1000.00|Epsilon:500.00|EpIter:0.00\n",
      "| \u001b[0m 27      \u001b[0m | \u001b[0m 0.02905 \u001b[0m | \u001b[0m 500.0   \u001b[0m | \u001b[0m 500.0   \u001b[0m | \u001b[0m 0.1     \u001b[0m | \u001b[0m 0.99    \u001b[0m | \u001b[0m 1e+03   \u001b[0m |\n",
      "Mu:0.99|Mu+:0.20|Beta:500.00|Sigma:1000.00|Epsilon:1000.00|EpIter:0.00\n",
      "| \u001b[0m 28      \u001b[0m | \u001b[0m 0.02905 \u001b[0m | \u001b[0m 500.0   \u001b[0m | \u001b[0m 1e+03   \u001b[0m | \u001b[0m 0.2     \u001b[0m | \u001b[0m 0.99    \u001b[0m | \u001b[0m 1e+03   \u001b[0m |\n",
      "Mu:0.50|Mu+:0.01|Beta:1000.00|Sigma:1.00|Epsilon:1000.00|EpIter:0.00\n",
      "| \u001b[0m 29      \u001b[0m | \u001b[0m 0.0     \u001b[0m | \u001b[0m 1e+03   \u001b[0m | \u001b[0m 1e+03   \u001b[0m | \u001b[0m 0.01    \u001b[0m | \u001b[0m 0.5     \u001b[0m | \u001b[0m 1.0     \u001b[0m |\n",
      "Mu:0.75|Mu+:0.20|Beta:1000.00|Sigma:1.00|Epsilon:1.00|EpIter:0.00\n",
      "| \u001b[0m 30      \u001b[0m | \u001b[0m 0.0     \u001b[0m | \u001b[0m 1e+03   \u001b[0m | \u001b[0m 1.0     \u001b[0m | \u001b[0m 0.2     \u001b[0m | \u001b[0m 0.75    \u001b[0m | \u001b[0m 1.0     \u001b[0m |\n",
      "Mu:0.99|Mu+:0.10|Beta:1000.00|Sigma:1.00|Epsilon:1.00|EpIter:0.00\n",
      "| \u001b[0m 31      \u001b[0m | \u001b[0m 0.0     \u001b[0m | \u001b[0m 1e+03   \u001b[0m | \u001b[0m 1.0     \u001b[0m | \u001b[0m 0.1     \u001b[0m | \u001b[0m 0.99    \u001b[0m | \u001b[0m 1.0     \u001b[0m |\n",
      "Mu:0.99|Mu+:0.20|Beta:1000.00|Sigma:1.00|Epsilon:500.00|EpIter:0.00\n",
      "| \u001b[0m 32      \u001b[0m | \u001b[0m 0.0     \u001b[0m | \u001b[0m 1e+03   \u001b[0m | \u001b[0m 500.0   \u001b[0m | \u001b[0m 0.2     \u001b[0m | \u001b[0m 0.99    \u001b[0m | \u001b[0m 1.0     \u001b[0m |\n",
      "Mu:0.50|Mu+:0.20|Beta:1000.00|Sigma:500.00|Epsilon:1.00|EpIter:0.00\n",
      "| \u001b[0m 33      \u001b[0m | \u001b[0m 0.001052\u001b[0m | \u001b[0m 1e+03   \u001b[0m | \u001b[0m 1.0     \u001b[0m | \u001b[0m 0.2     \u001b[0m | \u001b[0m 0.5     \u001b[0m | \u001b[0m 500.0   \u001b[0m |\n",
      "Mu:0.75|Mu+:0.10|Beta:1000.00|Sigma:500.00|Epsilon:1.00|EpIter:0.00\n",
      "| \u001b[0m 34      \u001b[0m | \u001b[0m 0.002664\u001b[0m | \u001b[0m 1e+03   \u001b[0m | \u001b[0m 1.0     \u001b[0m | \u001b[0m 0.1     \u001b[0m | \u001b[0m 0.75    \u001b[0m | \u001b[0m 500.0   \u001b[0m |\n",
      "Mu:0.75|Mu+:0.20|Beta:1000.00|Sigma:500.00|Epsilon:500.00|EpIter:0.00\n",
      "| \u001b[0m 35      \u001b[0m | \u001b[0m 0.4893  \u001b[0m | \u001b[0m 1e+03   \u001b[0m | \u001b[0m 500.0   \u001b[0m | \u001b[0m 0.2     \u001b[0m | \u001b[0m 0.75    \u001b[0m | \u001b[0m 500.0   \u001b[0m |\n",
      "Mu:0.99|Mu+:0.01|Beta:1000.00|Sigma:500.00|Epsilon:1.00|EpIter:0.00\n",
      "| \u001b[0m 36      \u001b[0m | \u001b[0m 0.006088\u001b[0m | \u001b[0m 1e+03   \u001b[0m | \u001b[0m 1.0     \u001b[0m | \u001b[0m 0.01    \u001b[0m | \u001b[0m 0.99    \u001b[0m | \u001b[0m 500.0   \u001b[0m |\n",
      "Mu:0.99|Mu+:0.10|Beta:1000.00|Sigma:500.00|Epsilon:500.00|EpIter:0.00\n",
      "| \u001b[0m 37      \u001b[0m | \u001b[0m 0.02932 \u001b[0m | \u001b[0m 1e+03   \u001b[0m | \u001b[0m 500.0   \u001b[0m | \u001b[0m 0.1     \u001b[0m | \u001b[0m 0.99    \u001b[0m | \u001b[0m 500.0   \u001b[0m |\n",
      "Mu:0.99|Mu+:0.20|Beta:1000.00|Sigma:500.00|Epsilon:1000.00|EpIter:0.00\n",
      "| \u001b[0m 38      \u001b[0m | \u001b[0m 0.02932 \u001b[0m | \u001b[0m 1e+03   \u001b[0m | \u001b[0m 1e+03   \u001b[0m | \u001b[0m 0.2     \u001b[0m | \u001b[0m 0.99    \u001b[0m | \u001b[0m 500.0   \u001b[0m |\n",
      "Mu:0.50|Mu+:0.10|Beta:1000.00|Sigma:1000.00|Epsilon:1.00|EpIter:0.00\n"
     ]
    },
    {
     "name": "stdout",
     "output_type": "stream",
     "text": [
      "| \u001b[0m 39      \u001b[0m | \u001b[0m 0.005111\u001b[0m | \u001b[0m 1e+03   \u001b[0m | \u001b[0m 1.0     \u001b[0m | \u001b[0m 0.1     \u001b[0m | \u001b[0m 0.5     \u001b[0m | \u001b[0m 1e+03   \u001b[0m |\n",
      "Mu:0.50|Mu+:0.20|Beta:1000.00|Sigma:1000.00|Epsilon:500.00|EpIter:0.00\n",
      "| \u001b[0m 40      \u001b[0m | \u001b[0m 0.002291\u001b[0m | \u001b[0m 1e+03   \u001b[0m | \u001b[0m 500.0   \u001b[0m | \u001b[0m 0.2     \u001b[0m | \u001b[0m 0.5     \u001b[0m | \u001b[0m 1e+03   \u001b[0m |\n",
      "Mu:0.75|Mu+:0.01|Beta:1000.00|Sigma:1000.00|Epsilon:1.00|EpIter:0.00\n",
      "| \u001b[0m 41      \u001b[0m | \u001b[0m 0.008143\u001b[0m | \u001b[0m 1e+03   \u001b[0m | \u001b[0m 1.0     \u001b[0m | \u001b[0m 0.01    \u001b[0m | \u001b[0m 0.75    \u001b[0m | \u001b[0m 1e+03   \u001b[0m |\n",
      "Mu:0.75|Mu+:0.10|Beta:1000.00|Sigma:1000.00|Epsilon:500.00|EpIter:0.00\n",
      "| \u001b[95m 42      \u001b[0m | \u001b[95m 0.5791  \u001b[0m | \u001b[95m 1e+03   \u001b[0m | \u001b[95m 500.0   \u001b[0m | \u001b[95m 0.1     \u001b[0m | \u001b[95m 0.75    \u001b[0m | \u001b[95m 1e+03   \u001b[0m |\n",
      "Mu:0.75|Mu+:0.20|Beta:1000.00|Sigma:1000.00|Epsilon:1000.00|EpIter:0.00\n",
      "| \u001b[0m 43      \u001b[0m | \u001b[0m 0.5791  \u001b[0m | \u001b[0m 1e+03   \u001b[0m | \u001b[0m 1e+03   \u001b[0m | \u001b[0m 0.2     \u001b[0m | \u001b[0m 0.75    \u001b[0m | \u001b[0m 1e+03   \u001b[0m |\n",
      "Mu:0.99|Mu+:0.01|Beta:1000.00|Sigma:1000.00|Epsilon:500.00|EpIter:0.00\n",
      "| \u001b[0m 44      \u001b[0m | \u001b[0m 0.02905 \u001b[0m | \u001b[0m 1e+03   \u001b[0m | \u001b[0m 500.0   \u001b[0m | \u001b[0m 0.01    \u001b[0m | \u001b[0m 0.99    \u001b[0m | \u001b[0m 1e+03   \u001b[0m |\n",
      "Mu:0.99|Mu+:0.10|Beta:1000.00|Sigma:1000.00|Epsilon:1000.00|EpIter:0.00\n",
      "| \u001b[0m 45      \u001b[0m | \u001b[0m 0.02905 \u001b[0m | \u001b[0m 1e+03   \u001b[0m | \u001b[0m 1e+03   \u001b[0m | \u001b[0m 0.1     \u001b[0m | \u001b[0m 0.99    \u001b[0m | \u001b[0m 1e+03   \u001b[0m |\n",
      "Mu:0.76|Mu+:-0.00|Beta:983.84|Sigma:999.03|Epsilon:-10.37|EpIter:0.00\n"
     ]
    }
   ],
   "source": [
    "optimizer.maximize(\n",
    "    init_points=0,\n",
    "    n_iter=100-gsd_design.shape[0],\n",
    "    acq=\"ucb\",\n",
    "    kappa=2\n",
    ")"
   ]
  },
  {
   "cell_type": "code",
   "execution_count": 32,
   "metadata": {},
   "outputs": [
    {
     "data": {
      "text/plain": [
       "{'target': 0.57320787,\n",
       " 'params': {'beta_pos': 350.6142455450391,\n",
       "  'epsilon_pos': 28.601690735697275,\n",
       "  'muIncr_01': 0.1037212333494025,\n",
       "  'mu_01': 0.7275545713438822,\n",
       "  'sigma_pos': 699.3887764624509}}"
      ]
     },
     "execution_count": 32,
     "metadata": {},
     "output_type": "execute_result"
    }
   ],
   "source": [
    "optimizer.max"
   ]
  },
  {
   "cell_type": "code",
   "execution_count": 34,
   "metadata": {
    "ExecuteTime": {
     "end_time": "2020-09-03T22:58:42.653746Z",
     "start_time": "2020-09-03T22:58:42.649916Z"
    }
   },
   "outputs": [
    {
     "data": {
      "text/plain": [
       "0.57320787"
      ]
     },
     "execution_count": 34,
     "metadata": {},
     "output_type": "execute_result"
    }
   ],
   "source": [
    "optimizer.max[\"target\"]"
   ]
  },
  {
   "cell_type": "code",
   "execution_count": 35,
   "metadata": {
    "ExecuteTime": {
     "end_time": "2020-09-03T22:59:56.414823Z",
     "start_time": "2020-09-03T22:59:56.412477Z"
    }
   },
   "outputs": [],
   "source": [
    "params=optimizer.max[\"params\"]"
   ]
  },
  {
   "cell_type": "code",
   "execution_count": 36,
   "metadata": {
    "ExecuteTime": {
     "end_time": "2020-09-03T23:00:39.452694Z",
     "start_time": "2020-09-03T23:00:39.449279Z"
    }
   },
   "outputs": [
    {
     "data": {
      "text/plain": [
       "350.6142455450391"
      ]
     },
     "execution_count": 36,
     "metadata": {},
     "output_type": "execute_result"
    }
   ],
   "source": [
    "params[\"beta_pos\"]"
   ]
  },
  {
   "cell_type": "code",
   "execution_count": 37,
   "metadata": {
    "ExecuteTime": {
     "end_time": "2020-09-03T23:01:09.671719Z",
     "start_time": "2020-09-03T23:01:09.668333Z"
    }
   },
   "outputs": [
    {
     "data": {
      "text/plain": [
       "699.3887764624509"
      ]
     },
     "execution_count": 37,
     "metadata": {},
     "output_type": "execute_result"
    }
   ],
   "source": [
    "params[\"sigma_pos\"]"
   ]
  },
  {
   "cell_type": "code",
   "execution_count": 38,
   "metadata": {
    "ExecuteTime": {
     "end_time": "2020-09-04T01:35:00.233453Z",
     "start_time": "2020-09-04T01:35:00.230360Z"
    }
   },
   "outputs": [
    {
     "data": {
      "text/plain": [
       "0.7275545713438822"
      ]
     },
     "execution_count": 38,
     "metadata": {},
     "output_type": "execute_result"
    }
   ],
   "source": [
    "params[\"mu_01\"]"
   ]
  },
  {
   "cell_type": "code",
   "execution_count": 39,
   "metadata": {
    "ExecuteTime": {
     "end_time": "2020-09-04T01:35:28.881809Z",
     "start_time": "2020-09-04T01:35:28.878641Z"
    }
   },
   "outputs": [
    {
     "data": {
      "text/plain": [
       "0.1037212333494025"
      ]
     },
     "execution_count": 39,
     "metadata": {},
     "output_type": "execute_result"
    }
   ],
   "source": [
    "params[\"muIncr_01\"]"
   ]
  },
  {
   "cell_type": "code",
   "execution_count": 40,
   "metadata": {
    "ExecuteTime": {
     "end_time": "2020-09-04T01:36:13.729976Z",
     "start_time": "2020-09-04T01:36:13.726798Z"
    }
   },
   "outputs": [
    {
     "data": {
      "text/plain": [
       "28.601690735697275"
      ]
     },
     "execution_count": 40,
     "metadata": {},
     "output_type": "execute_result"
    }
   ],
   "source": [
    "params[\"epsilon_pos\"]"
   ]
  },
  {
   "cell_type": "code",
   "execution_count": 57,
   "metadata": {},
   "outputs": [
    {
     "name": "stdout",
     "output_type": "stream",
     "text": [
      "\n",
      ">>>>>>>>>>>>\n",
      "Starting Iteration mu= 0.5\n",
      "Starting Iteration epsilon= 29.18200686707413\n",
      "Running NewMatrix Jar!\n",
      " Single-Reference Blocks = 1\n",
      "\n",
      " Multi-Reference Blocks = 9900\n",
      "NewMatrix Iterateblocks Total Time = 10.462520653381944\n",
      "\n",
      "\n",
      ">>>>>>>>>>>>\n",
      "Starting Iteration mu= 0.551004766758927\n",
      "Starting Iteration epsilon= 29.18200686707413\n",
      "Running NewMatrix Jar!\n",
      " Single-Reference Blocks = 1\n",
      "\n",
      " Multi-Reference Blocks = 9174\n",
      "NewMatrix Iterateblocks Total Time = 10.022749735973775\n",
      "\n",
      "\n",
      ">>>>>>>>>>>>\n",
      "Starting Iteration mu= 0.6020095335178539\n",
      "Starting Iteration epsilon= 29.18200686707413\n",
      "Running NewMatrix Jar!\n",
      " Single-Reference Blocks = 1\n",
      "\n",
      " Multi-Reference Blocks = 7954\n",
      "NewMatrix Iterateblocks Total Time = 8.64361101295799\n",
      "\n",
      "\n",
      ">>>>>>>>>>>>\n",
      "Starting Iteration mu= 0.6530143002767809\n",
      "Starting Iteration epsilon= 29.18200686707413\n",
      "Running NewMatrix Jar!\n",
      " Single-Reference Blocks = 1\n",
      "\n",
      " Multi-Reference Blocks = 5754\n",
      "NewMatrix Iterateblocks Total Time = 6.570374641567469\n",
      "\n",
      "\n",
      ">>>>>>>>>>>>\n",
      "Starting Iteration mu= 0.7040190670357078\n",
      "Starting Iteration epsilon= 29.18200686707413\n",
      "Running NewMatrix Jar!\n",
      " Single-Reference Blocks = 1\n",
      "\n",
      " Multi-Reference Blocks = 3054\n",
      "NewMatrix Iterateblocks Total Time = 3.852817341685295\n",
      "\n",
      "\n",
      ">>>>>>>>>>>>\n",
      "Starting Iteration mu= 0.7550238337946348\n",
      "Starting Iteration epsilon= 29.18200686707413\n",
      "Running NewMatrix Jar!\n",
      " Single-Reference Blocks = 1\n",
      "\n",
      " Multi-Reference Blocks = 1132\n",
      "NewMatrix Iterateblocks Total Time = 1.6686566360294819\n",
      "\n",
      "Precision = TP / (TP + FP) ......................... = 0.77120100\n",
      "Recall = TP / (TP + FN) ............................ = 0.69316208\n",
      "F-Measure .......................................... = 0.73010211\n"
     ]
    },
    {
     "data": {
      "text/plain": [
       "0.73010211"
      ]
     },
     "execution_count": 57,
     "metadata": {},
     "output_type": "execute_result"
    }
   ],
   "source": [
    "entropy_F1(mu=0.5,\n",
    "           muIncr=0.051004766758926935,\n",
    "           beta=29,\n",
    "           sigma=453,\n",
    "           epsilon=29.18200686707413,\n",
    "           epsilonIterate=0)"
   ]
  }
 ],
 "metadata": {
  "kernelspec": {
   "display_name": "Python 3",
   "language": "python",
   "name": "python3"
  },
  "language_info": {
   "codemirror_mode": {
    "name": "ipython",
    "version": 3
   },
   "file_extension": ".py",
   "mimetype": "text/x-python",
   "name": "python",
   "nbconvert_exporter": "python",
   "pygments_lexer": "ipython3",
   "version": "3.7.4"
  },
  "toc": {
   "base_numbering": 1,
   "nav_menu": {},
   "number_sections": true,
   "sideBar": true,
   "skip_h1_title": false,
   "title_cell": "Table of Contents",
   "title_sidebar": "Contents",
   "toc_cell": false,
   "toc_position": {},
   "toc_section_display": true,
   "toc_window_display": false
  },
  "varInspector": {
   "cols": {
    "lenName": 16,
    "lenType": 16,
    "lenVar": 40
   },
   "kernels_config": {
    "python": {
     "delete_cmd_postfix": "",
     "delete_cmd_prefix": "del ",
     "library": "var_list.py",
     "varRefreshCmd": "print(var_dic_list())"
    },
    "r": {
     "delete_cmd_postfix": ") ",
     "delete_cmd_prefix": "rm(",
     "library": "var_list.r",
     "varRefreshCmd": "cat(var_dic_list()) "
    }
   },
   "types_to_exclude": [
    "module",
    "function",
    "builtin_function_or_method",
    "instance",
    "_Feature"
   ],
   "window_display": false
  }
 },
 "nbformat": 4,
 "nbformat_minor": 2
}
