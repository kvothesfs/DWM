{
 "cells": [
  {
   "cell_type": "code",
   "execution_count": 1,
   "metadata": {
    "ExecuteTime": {
     "end_time": "2020-09-03T21:59:20.041891Z",
     "start_time": "2020-09-03T21:59:10.621897Z"
    }
   },
   "outputs": [
    {
     "name": "stdout",
     "output_type": "stream",
     "text": [
      "Tokenizing References\n",
      "Total References= 19998\n",
      "Total Tokens Found = 292928\n",
      "Total Tokens Output = 292542\n",
      "Dictionary Load = 67077\n",
      "<class 'dict'>\n",
      "Global Replace Cycle\n",
      "Total References= 19998\n",
      "Total Tokens= 292542\n",
      "Unique Tokens= 35953\n",
      "Minimum Frequency of Standard Token =  5\n",
      "Minimum Length of Standard Token =  5\n",
      "Maximum Frequency of Error Token =  3\n",
      "References Processed= 19998\n",
      "Sorted Token Size = 35953\n",
      "Clean Token Size = 12890\n",
      "*Stop Replacements here\n",
      "References Processed =  19998\n",
      "Total Replacement Pairs = 3806\n",
      "Tokens Read = 292542\n",
      "Tokens Changed =  4447\n",
      "References Changed = 4017\n"
     ]
    }
   ],
   "source": [
    "import DWM1_Tokenizer\n",
    "import DWM2_Global_Token_Replace_NewDict\n",
    "import DWM3_Entropy_Cluster\n",
    "# Settings for Tokenizer\n",
    "inputSampleName = r'S6'\n",
    "delimiter=','\n",
    "hasHeader = True\n",
    "tokenizerType = 'Splitter'\n",
    "removeDuplicateTokens = True\n",
    "\n",
    "# Setting for global replacement DWM2\n",
    "runReplacement = True\n",
    "minFreqStdToken = 5\n",
    "minLenStdToken = 5 #5 as in paper, not 3\n",
    "maxFreqErrToken = 3\n",
    "\n",
    "# Cluster Settings\n",
    "\n",
    "\n",
    "DWM1_Tokenizer.tokenizeCycle(inputSampleName, delimiter, hasHeader, removeDuplicateTokens, tokenizerType)\n",
    "prefixString = inputSampleName +','+tokenizerType+','+str(removeDuplicateTokens)\n",
    "fileToCluster = inputSampleName + '-Tokenized.txt'\n",
    "if runReplacement:\n",
    "    DWM2_Global_Token_Replace_NewDict.globalReplace(inputSampleName, minFreqStdToken, minLenStdToken, maxFreqErrToken)\n",
    "    fileToCluster = inputSampleName + '-TokenReplace.txt'\n",
    "    prefixString = prefixString+','+str(minFreqStdToken)+','+str(minLenStdToken)+','+str(maxFreqErrToken)\n",
    "else:\n",
    "    prefixString = prefixString+',0,0,0'\n",
    "\n",
    "# Cluster fixed settings\n",
    "epsilonIterate = 0.0\n",
    "runClusterMetrics = False\n",
    "runFinalMetrics = True\n",
    "createFinalJoin = False"
   ]
  },
  {
   "cell_type": "code",
   "execution_count": 2,
   "metadata": {},
   "outputs": [],
   "source": [
    "status=\"done\""
   ]
  },
  {
   "cell_type": "code",
   "execution_count": 3,
   "metadata": {},
   "outputs": [
    {
     "name": "stdout",
     "output_type": "stream",
     "text": [
      "done\n"
     ]
    }
   ],
   "source": [
    "print(status)"
   ]
  },
  {
   "cell_type": "code",
   "execution_count": 4,
   "metadata": {
    "ExecuteTime": {
     "end_time": "2020-09-03T15:11:39.765508Z",
     "start_time": "2020-09-03T15:03:19.495876Z"
    },
    "scrolled": false
   },
   "outputs": [],
   "source": [
    "# # Cluster Robot Settings\n",
    "# muStart = 0.60\n",
    "# muEnd = 0.60\n",
    "# muIncr = 0.05\n",
    "# betaStart = 14\n",
    "# betaEnd = 14\n",
    "# betaIncr = 1\n",
    "# sigmaStart = 145\n",
    "# sigmaEnd = 145\n",
    "# sigmaIncr = 1\n",
    "# epsilonStart = 35\n",
    "# epsilonEnd = 35\n",
    "# epsilonIncr = 1\n",
    "# mu = muStart\n",
    "# while mu <= muEnd:\n",
    "#     beta = betaStart\n",
    "#     while beta <= betaEnd:\n",
    "#         sigma = sigmaStart\n",
    "#         while sigma <= sigmaEnd:\n",
    "#             epsilon = epsilonStart\n",
    "#             while epsilon <= epsilonEnd:\n",
    "#                 suffixString =','+str(epsilon)+','+str(epsilonIterate)\n",
    "#                 resultsList = DWM3_Entropy_Cluster.driver(fileToCluster, beta, sigma, mu, muIncr,epsilon,  \\\n",
    "#                                                      epsilonIterate,runClusterMetrics, runFinalMetrics, createFinalJoin, hasHeader)\n",
    "#                 seg0a = ','+str(resultsList[0])+','+str(resultsList[1])+','+str(resultsList[2])+','+str(resultsList[3])\n",
    "#                 seg0b =','+str(resultsList[4])+','+str(resultsList[5])+','+str(resultsList[6])\n",
    "#                 seg1 = ','+str(beta)+','+str(sigma)+','+str(mu)+ ',' +str(muIncr)\n",
    "#                 seg2 = ','+str(resultsList[7])+','+str(resultsList[8])+','+str(resultsList[9])\n",
    "#                 outString = prefixString+seg0a+seg0b+suffixString+seg1+seg2+'\\n'\n",
    "#                 resultsFile = open('RobotResults.txt','a+')\n",
    "#                 resultsFile.write(outString)\n",
    "#                 resultsFile.close()\n",
    "#                 epsilon = epsilon + epsilonIncr\n",
    "#             sigma = sigma + sigmaIncr\n",
    "#         beta = beta + betaIncr\n",
    "#     mu = mu + muIncr\n",
    "\n",
    "\n",
    " "
   ]
  },
  {
   "cell_type": "markdown",
   "metadata": {
    "ExecuteTime": {
     "end_time": "2020-09-03T16:36:26.229783Z",
     "start_time": "2020-09-03T16:36:26.227755Z"
    }
   },
   "source": [
    "## Bayesian Optimization of Hyperparameters"
   ]
  },
  {
   "cell_type": "code",
   "execution_count": 5,
   "metadata": {},
   "outputs": [],
   "source": [
    "import numpy as np"
   ]
  },
  {
   "cell_type": "markdown",
   "metadata": {
    "ExecuteTime": {
     "end_time": "2020-09-03T16:36:47.947518Z",
     "start_time": "2020-09-03T16:36:47.944251Z"
    }
   },
   "source": [
    "Create a function of the parameters that returns the F score"
   ]
  },
  {
   "cell_type": "code",
   "execution_count": 6,
   "metadata": {
    "ExecuteTime": {
     "end_time": "2020-09-03T21:59:42.561300Z",
     "start_time": "2020-09-03T21:59:42.557193Z"
    }
   },
   "outputs": [],
   "source": [
    "def entropy_F1(beta=14,sigma=145,mu=0.6,muIncr=0.05,epsilon=35,epsilonIterate=0):\n",
    "    resultsList = DWM3_Entropy_Cluster.driver(fileToCluster, \n",
    "                                  beta, \n",
    "                                  sigma, \n",
    "                                  mu, \n",
    "                                  muIncr,\n",
    "                                  epsilon,\n",
    "                                  epsilonIterate,\n",
    "                                  runClusterMetrics, \n",
    "                                  runFinalMetrics, \n",
    "                                  createFinalJoin, \n",
    "                                  hasHeader)\n",
    "    return resultsList[9]"
   ]
  },
  {
   "cell_type": "code",
   "execution_count": 7,
   "metadata": {
    "ExecuteTime": {
     "end_time": "2020-09-03T22:06:32.164588Z",
     "start_time": "2020-09-03T21:59:43.696518Z"
    }
   },
   "outputs": [
    {
     "name": "stdout",
     "output_type": "stream",
     "text": [
      "\n",
      ">>>>>>>>>>>>\n",
      "Starting Iteration mu= 0.5\n",
      "Starting Iteration epsilon= 15.1\n",
      "Running NewMatrix Jar!\n",
      " Single-Reference Blocks = 1\n",
      "\n",
      " Multi-Reference Blocks = 15949\n",
      "NewMatrix Iterateblocks Total Time = 21.464176503941417\n",
      "\n",
      "\n",
      ">>>>>>>>>>>>\n",
      "Starting Iteration mu= 0.6\n",
      "Starting Iteration epsilon= 15.1\n",
      "Running NewMatrix Jar!\n",
      " Single-Reference Blocks = 1\n",
      "\n",
      " Multi-Reference Blocks = 14369\n",
      "NewMatrix Iterateblocks Total Time = 18.094705058261752\n",
      "\n",
      "\n",
      ">>>>>>>>>>>>\n",
      "Starting Iteration mu= 0.7\n",
      "Starting Iteration epsilon= 15.1\n",
      "Running NewMatrix Jar!\n",
      " Single-Reference Blocks = 1\n",
      "\n",
      " Multi-Reference Blocks = 9006\n",
      "NewMatrix Iterateblocks Total Time = 12.189565903507173\n",
      "\n",
      "\n",
      ">>>>>>>>>>>>\n",
      "Starting Iteration mu= 0.7999999999999999\n",
      "Starting Iteration epsilon= 15.1\n",
      "Running NewMatrix Jar!\n",
      " Single-Reference Blocks = 1\n",
      "\n",
      " Multi-Reference Blocks = 3729\n",
      "NewMatrix Iterateblocks Total Time = 4.452491511590779\n",
      "\n",
      "\n",
      ">>>>>>>>>>>>\n",
      "Starting Iteration mu= 0.8999999999999999\n",
      "Starting Iteration epsilon= 15.1\n",
      "Running NewMatrix Jar!\n",
      " Single-Reference Blocks = 1\n",
      "\n",
      " Multi-Reference Blocks = 1093\n",
      "NewMatrix Iterateblocks Total Time = 1.6258755391463637\n",
      "\n",
      "\n",
      ">>>>>>>>>>>>\n",
      "Starting Iteration mu= 0.9999999999999999\n",
      "Starting Iteration epsilon= 15.1\n",
      "Running NewMatrix Jar!\n",
      " Single-Reference Blocks = 1\n",
      "\n",
      " Multi-Reference Blocks = 83\n",
      "NewMatrix Iterateblocks Total Time = 0.44615780282765627\n",
      "\n",
      "Precision = TP / (TP + FP) ......................... = 0.89692694\n",
      "Recall = TP / (TP + FN) ............................ = 0.90835522\n",
      "F-Measure .......................................... = 0.90260490\n"
     ]
    },
    {
     "data": {
      "text/plain": [
       "0.9026049"
      ]
     },
     "execution_count": 7,
     "metadata": {},
     "output_type": "execute_result"
    }
   ],
   "source": [
    "entropy_F1(mu=0.5,muIncr=0.1,beta=35,sigma=403,epsilon=15.1,epsilonIterate=0.0)"
   ]
  },
  {
   "cell_type": "markdown",
   "metadata": {},
   "source": [
    "Create functions for variable transformation."
   ]
  },
  {
   "cell_type": "code",
   "execution_count": 8,
   "metadata": {
    "ExecuteTime": {
     "end_time": "2020-09-03T22:08:18.856511Z",
     "start_time": "2020-09-03T22:08:18.853611Z"
    }
   },
   "outputs": [],
   "source": [
    "#Softplus to transform real domain into positive\n",
    "def softplus(x):\n",
    "    return np.log(1+np.exp(x))\n",
    "\n",
    "def inv_softplus(x):\n",
    "    return np.log(np.exp(x)-1)"
   ]
  },
  {
   "cell_type": "code",
   "execution_count": 9,
   "metadata": {
    "ExecuteTime": {
     "end_time": "2020-09-03T22:08:27.349548Z",
     "start_time": "2020-09-03T22:08:27.345752Z"
    }
   },
   "outputs": [
    {
     "data": {
      "text/plain": [
       "0.541324854612918"
      ]
     },
     "execution_count": 9,
     "metadata": {},
     "output_type": "execute_result"
    }
   ],
   "source": [
    "inv_softplus(1)"
   ]
  },
  {
   "cell_type": "code",
   "execution_count": 10,
   "metadata": {
    "ExecuteTime": {
     "end_time": "2020-09-03T22:11:24.939913Z",
     "start_time": "2020-09-03T22:11:24.936639Z"
    }
   },
   "outputs": [],
   "source": [
    "#Logit to transform real domain into 0-1\n",
    "def logit(x):    \n",
    "    return np.log(x+1e-54)-np.log(1-x+1e-54)\n",
    "\n",
    "def inv_logit(x):\n",
    "    res=np.exp(x)/(np.exp(x)+1)-2*1e-54\n",
    "    if res<1e-54:\n",
    "        res=0\n",
    "    return res"
   ]
  },
  {
   "cell_type": "markdown",
   "metadata": {},
   "source": [
    "Import BO library:"
   ]
  },
  {
   "cell_type": "code",
   "execution_count": 11,
   "metadata": {
    "ExecuteTime": {
     "end_time": "2020-09-03T22:08:30.622144Z",
     "start_time": "2020-09-03T22:08:30.226842Z"
    }
   },
   "outputs": [],
   "source": [
    "from bayes_opt import BayesianOptimization"
   ]
  },
  {
   "cell_type": "markdown",
   "metadata": {
    "ExecuteTime": {
     "end_time": "2020-09-03T18:14:39.927785Z",
     "start_time": "2020-09-03T18:14:39.924909Z"
    }
   },
   "source": [
    "Create dictionary bounds for the parameters:"
   ]
  },
  {
   "cell_type": "code",
   "execution_count": 12,
   "metadata": {},
   "outputs": [],
   "source": [
    "import os, sys"
   ]
  },
  {
   "cell_type": "code",
   "execution_count": 13,
   "metadata": {},
   "outputs": [],
   "source": [
    "class HiddenPrints:\n",
    "    def __enter__(self):\n",
    "        self._original_stdout = sys.stdout\n",
    "        sys.stdout = open(os.devnull, 'w')\n",
    "\n",
    "    def __exit__(self, exc_type, exc_val, exc_tb):\n",
    "        sys.stdout.close()\n",
    "        sys.stdout = self._original_stdout"
   ]
  },
  {
   "cell_type": "code",
   "execution_count": 14,
   "metadata": {},
   "outputs": [
    {
     "name": "stdout",
     "output_type": "stream",
     "text": [
      "This will be printed as before\n"
     ]
    }
   ],
   "source": [
    "with HiddenPrints():\n",
    "    print(\"This will not be printed\")\n",
    "\n",
    "print(\"This will be printed as before\")"
   ]
  },
  {
   "cell_type": "code",
   "execution_count": 15,
   "metadata": {
    "ExecuteTime": {
     "end_time": "2020-09-03T22:11:53.005154Z",
     "start_time": "2020-09-03T22:11:53.000238Z"
    }
   },
   "outputs": [],
   "source": [
    "#Take parameters in transformed space and return f score in transformed space\n",
    "def entropy_F1_trx(beta_sp,sigma_sp,mu_logit,muIncr_logit,epsilon_sp,epsilonIterate_logit=logit(0)):\n",
    "    beta_pos=int(softplus(beta_sp))\n",
    "    sigma_pos=int(softplus(sigma_sp))\n",
    "    mu_01=inv_logit(mu_logit)\n",
    "    muIncr_01=inv_logit(muIncr_logit)\n",
    "    epsilon_pos=softplus(epsilon_sp)\n",
    "    epsilonIterate_01=inv_logit(epsilonIterate_logit)\n",
    "    \n",
    "    print(\"Mu:%.2f|Mu+:%.2f|Beta:%.2f|Sigma:%.2f|Epsilon:%.2f|EpIter:%.2f\" % (mu_01, muIncr_01, beta_pos, sigma_pos, epsilon_pos, epsilonIterate_01))\n",
    "    \n",
    "    with HiddenPrints():\n",
    "        f1=entropy_F1(beta=beta_pos,\n",
    "                      epsilon=epsilon_pos,\n",
    "                      epsilonIterate=epsilonIterate_01,\n",
    "                      muIncr=muIncr_01,\n",
    "                      sigma=sigma_pos,\n",
    "                      mu=mu_01)\n",
    "    \n",
    "    return logit(f1)"
   ]
  },
  {
   "cell_type": "code",
   "execution_count": 16,
   "metadata": {},
   "outputs": [
    {
     "name": "stdout",
     "output_type": "stream",
     "text": [
      "Mu:0.50|Mu+:0.05|Beta:33.00|Sigma:449.00|Epsilon:31.80|EpIter:0.00\n"
     ]
    },
    {
     "data": {
      "text/plain": [
       "0.603939396297269"
      ]
     },
     "execution_count": 16,
     "metadata": {},
     "output_type": "execute_result"
    }
   ],
   "source": [
    "entropy_F1_trx(beta_sp=inv_softplus(33),\n",
    "               sigma_sp=inv_softplus(449),\n",
    "               mu_logit=logit(0.5),\n",
    "               muIncr_logit=logit(0.05),\n",
    "               epsilon_sp=inv_softplus(31.8))"
   ]
  },
  {
   "cell_type": "code",
   "execution_count": 17,
   "metadata": {},
   "outputs": [],
   "source": [
    "optimizer=None"
   ]
  },
  {
   "cell_type": "code",
   "execution_count": 18,
   "metadata": {
    "ExecuteTime": {
     "end_time": "2020-09-03T22:11:50.787503Z",
     "start_time": "2020-09-03T22:11:50.784060Z"
    }
   },
   "outputs": [],
   "source": [
    "pbounds = {'beta_sp': (inv_softplus(1), inv_softplus(700)), \n",
    "           'sigma_sp': (inv_softplus(1), inv_softplus(700)),\n",
    "           'mu_logit': (logit(0.5), logit(0.99)),\n",
    "           'muIncr_logit': (logit(0.01), logit(0.2)),\n",
    "           'epsilon_sp': (inv_softplus(1), inv_softplus(700))}#,\n",
    "           #'epsilonIterate_logit': (logit(0), logit(0.25))}"
   ]
  },
  {
   "cell_type": "code",
   "execution_count": 19,
   "metadata": {},
   "outputs": [],
   "source": [
    "from bayes_opt import SequentialDomainReductionTransformer"
   ]
  },
  {
   "cell_type": "code",
   "execution_count": 20,
   "metadata": {},
   "outputs": [],
   "source": [
    "bounds_transformer = SequentialDomainReductionTransformer()"
   ]
  },
  {
   "cell_type": "code",
   "execution_count": 21,
   "metadata": {
    "ExecuteTime": {
     "end_time": "2020-09-03T22:11:56.728829Z",
     "start_time": "2020-09-03T22:11:56.725599Z"
    }
   },
   "outputs": [],
   "source": [
    "optimizer = BayesianOptimization(\n",
    "    f=entropy_F1_trx,\n",
    "    pbounds=pbounds,\n",
    "    random_state=1,\n",
    "    bounds_transformer=bounds_transformer\n",
    ")"
   ]
  },
  {
   "cell_type": "code",
   "execution_count": 22,
   "metadata": {},
   "outputs": [],
   "source": [
    "# optimizer.probe(\n",
    "#     params={\"beta_sp\": inv_softplus(35), \n",
    "#             \"sigma_sp\": inv_softplus(403),\n",
    "#             \"mu_logit\":logit(0.5),\n",
    "#             #'epsilonIterate_logit': logit(0),\n",
    "#             \"muIncr_logit\":logit(0.1),\n",
    "#             \"epsilon_sp\":inv_softplus(15.1)},\n",
    "#     lazy=True,\n",
    "# )"
   ]
  },
  {
   "cell_type": "code",
   "execution_count": 23,
   "metadata": {
    "ExecuteTime": {
     "end_time": "2020-09-03T22:54:10.009085Z",
     "start_time": "2020-09-03T22:11:58.063246Z"
    }
   },
   "outputs": [
    {
     "name": "stdout",
     "output_type": "stream",
     "text": [
      "|   iter    |  target   |  beta_sp  | epsilo... | muIncr... | mu_logit  | sigma_sp  |\n",
      "-------------------------------------------------------------------------------------\n",
      "Mu:0.80|Mu+:0.01|Beta:292.00|Sigma:103.00|Epsilon:504.38|EpIter:0.00\n",
      "| \u001b[0m 1       \u001b[0m | \u001b[0m 0.4034  \u001b[0m | \u001b[0m 292.2   \u001b[0m | \u001b[0m 504.4   \u001b[0m | \u001b[0m-4.595   \u001b[0m | \u001b[0m 1.389   \u001b[0m | \u001b[0m 103.2   \u001b[0m |\n",
      "Mu:0.86|Mu+:0.03|Beta:65.00|Sigma:377.00|Epsilon:130.82|EpIter:0.00\n",
      "| \u001b[95m 2       \u001b[0m | \u001b[95m 0.8666  \u001b[0m | \u001b[95m 65.13   \u001b[0m | \u001b[95m 130.8   \u001b[0m | \u001b[95m-3.486   \u001b[0m | \u001b[95m 1.823   \u001b[0m | \u001b[95m 377.4   \u001b[0m |\n",
      "Mu:0.98|Mu+:0.02|Beta:293.00|Sigma:19.00|Epsilon:479.82|EpIter:0.00\n",
      "| \u001b[0m 3       \u001b[0m | \u001b[0m-3.006   \u001b[0m | \u001b[0m 293.8   \u001b[0m | \u001b[0m 479.8   \u001b[0m | \u001b[0m-3.939   \u001b[0m | \u001b[0m 4.035   \u001b[0m | \u001b[0m 19.7    \u001b[0m |\n",
      "Mu:0.66|Mu+:0.06|Beta:469.00|Sigma:139.00|Epsilon:292.43|EpIter:0.00\n",
      "| \u001b[0m 4       \u001b[0m | \u001b[0m-0.1     \u001b[0m | \u001b[0m 469.5   \u001b[0m | \u001b[0m 292.4   \u001b[0m | \u001b[0m-2.802   \u001b[0m | \u001b[0m 0.6451  \u001b[0m | \u001b[0m 139.1   \u001b[0m |\n",
      "Mu:0.96|Mu+:0.03|Beta:560.00|Sigma:613.00|Epsilon:677.80|EpIter:0.00\n",
      "| \u001b[0m 5       \u001b[0m | \u001b[0m-1.823   \u001b[0m | \u001b[0m 560.6   \u001b[0m | \u001b[0m 677.8   \u001b[0m | \u001b[0m-3.589   \u001b[0m | \u001b[0m 3.181   \u001b[0m | \u001b[0m 613.5   \u001b[0m |\n",
      "Mu:0.69|Mu+:0.01|Beta:626.00|Sigma:614.00|Epsilon:60.03|EpIter:0.00\n",
      "| \u001b[0m 6       \u001b[0m | \u001b[0m-0.3091  \u001b[0m | \u001b[0m 626.3   \u001b[0m | \u001b[0m 60.03   \u001b[0m | \u001b[0m-4.47    \u001b[0m | \u001b[0m 0.7804  \u001b[0m | \u001b[0m 614.8   \u001b[0m |\n",
      "Mu:0.92|Mu+:0.18|Beta:69.00|Sigma:484.00|Epsilon:295.09|EpIter:0.00\n",
      "| \u001b[0m 7       \u001b[0m | \u001b[0m-0.3218  \u001b[0m | \u001b[0m 69.33   \u001b[0m | \u001b[0m 295.1   \u001b[0m | \u001b[0m-1.521   \u001b[0m | \u001b[0m 2.45    \u001b[0m | \u001b[0m 484.5   \u001b[0m |\n",
      "Mu:0.52|Mu+:0.13|Beta:221.00|Sigma:525.00|Epsilon:480.72|EpIter:0.00\n",
      "| \u001b[0m 8       \u001b[0m | \u001b[0m-8.319   \u001b[0m | \u001b[0m 221.2   \u001b[0m | \u001b[0m 480.7   \u001b[0m | \u001b[0m-1.917   \u001b[0m | \u001b[0m 0.08404 \u001b[0m | \u001b[0m 525.2   \u001b[0m |\n",
      "Mu:0.97|Mu+:0.02|Beta:692.00|Sigma:72.00|Epsilon:523.85|EpIter:0.00\n",
      "| \u001b[0m 9       \u001b[0m | \u001b[0m-2.392   \u001b[0m | \u001b[0m 692.2   \u001b[0m | \u001b[0m 523.9   \u001b[0m | \u001b[0m-3.695   \u001b[0m | \u001b[0m 3.627   \u001b[0m | \u001b[0m 72.74   \u001b[0m |\n",
      "Mu:0.79|Mu+:0.03|Beta:313.00|Sigma:91.00|Epsilon:636.07|EpIter:0.00\n",
      "| \u001b[0m 10      \u001b[0m | \u001b[0m 0.3914  \u001b[0m | \u001b[0m 313.8   \u001b[0m | \u001b[0m 636.1   \u001b[0m | \u001b[0m-3.653   \u001b[0m | \u001b[0m 1.322   \u001b[0m | \u001b[0m 91.49   \u001b[0m |\n",
      "Mu:0.82|Mu+:0.03|Beta:63.00|Sigma:377.00|Epsilon:127.72|EpIter:0.00\n",
      "| \u001b[95m 11      \u001b[0m | \u001b[95m 1.421   \u001b[0m | \u001b[95m 63.1    \u001b[0m | \u001b[95m 127.7   \u001b[0m | \u001b[95m-3.4     \u001b[0m | \u001b[95m 1.529   \u001b[0m | \u001b[95m 377.9   \u001b[0m |\n",
      "Mu:0.72|Mu+:0.04|Beta:49.00|Sigma:380.00|Epsilon:106.93|EpIter:0.00\n",
      "| \u001b[0m 12      \u001b[0m | \u001b[0m 1.295   \u001b[0m | \u001b[0m 49.45   \u001b[0m | \u001b[0m 106.9   \u001b[0m | \u001b[0m-3.065   \u001b[0m | \u001b[0m 0.9276  \u001b[0m | \u001b[0m 381.0   \u001b[0m |\n",
      "Mu:0.73|Mu+:0.04|Beta:28.00|Sigma:427.00|Epsilon:136.36|EpIter:0.00\n",
      "| \u001b[95m 13      \u001b[0m | \u001b[95m 1.775   \u001b[0m | \u001b[95m 28.94   \u001b[0m | \u001b[95m 136.4   \u001b[0m | \u001b[95m-3.099   \u001b[0m | \u001b[95m 0.9878  \u001b[0m | \u001b[95m 427.7   \u001b[0m |\n",
      "Mu:0.63|Mu+:0.05|Beta:87.00|Sigma:478.00|Epsilon:89.40|EpIter:0.00\n",
      "| \u001b[0m 14      \u001b[0m | \u001b[0m-2.92    \u001b[0m | \u001b[0m 87.85   \u001b[0m | \u001b[0m 89.4    \u001b[0m | \u001b[0m-2.952   \u001b[0m | \u001b[0m 0.5274  \u001b[0m | \u001b[0m 478.1   \u001b[0m |\n",
      "Mu:0.66|Mu+:0.05|Beta:6.00|Sigma:383.00|Epsilon:145.93|EpIter:0.00\n",
      "| \u001b[0m 15      \u001b[0m | \u001b[0m 0.6211  \u001b[0m | \u001b[0m 6.723   \u001b[0m | \u001b[0m 145.9   \u001b[0m | \u001b[0m-2.924   \u001b[0m | \u001b[0m 0.6417  \u001b[0m | \u001b[0m 383.6   \u001b[0m |\n",
      "Mu:0.65|Mu+:0.05|Beta:54.00|Sigma:412.00|Epsilon:182.60|EpIter:0.00\n",
      "| \u001b[0m 16      \u001b[0m | \u001b[0m-0.7315  \u001b[0m | \u001b[0m 54.54   \u001b[0m | \u001b[0m 182.6   \u001b[0m | \u001b[0m-2.891   \u001b[0m | \u001b[0m 0.6149  \u001b[0m | \u001b[0m 412.0   \u001b[0m |\n",
      "Mu:0.79|Mu+:0.04|Beta:2.00|Sigma:409.00|Epsilon:94.74|EpIter:0.00\n",
      "| \u001b[0m 17      \u001b[0m | \u001b[0m-124.3   \u001b[0m | \u001b[0m 1.915   \u001b[0m | \u001b[0m 94.74   \u001b[0m | \u001b[0m-3.285   \u001b[0m | \u001b[0m 1.323   \u001b[0m | \u001b[0m 409.4   \u001b[0m |\n",
      "Mu:0.73|Mu+:0.04|Beta:29.00|Sigma:427.00|Epsilon:137.34|EpIter:0.00\n",
      "| \u001b[0m 18      \u001b[0m | \u001b[0m 1.747   \u001b[0m | \u001b[0m 29.55   \u001b[0m | \u001b[0m 137.3   \u001b[0m | \u001b[0m-3.094   \u001b[0m | \u001b[0m 0.9793  \u001b[0m | \u001b[0m 427.9   \u001b[0m |\n",
      "Mu:0.73|Mu+:0.04|Beta:30.00|Sigma:428.00|Epsilon:138.16|EpIter:0.00\n",
      "| \u001b[95m 19      \u001b[0m | \u001b[95m 1.786   \u001b[0m | \u001b[95m 30.05   \u001b[0m | \u001b[95m 138.2   \u001b[0m | \u001b[95m-3.09    \u001b[0m | \u001b[95m 0.9721  \u001b[0m | \u001b[95m 428.0   \u001b[0m |\n",
      "Mu:0.72|Mu+:0.04|Beta:30.00|Sigma:427.00|Epsilon:139.56|EpIter:0.00\n",
      "| \u001b[0m 20      \u001b[0m | \u001b[0m 1.713   \u001b[0m | \u001b[0m 30.84   \u001b[0m | \u001b[0m 139.6   \u001b[0m | \u001b[0m-3.083   \u001b[0m | \u001b[0m 0.9596  \u001b[0m | \u001b[0m 427.9   \u001b[0m |\n",
      "Mu:0.73|Mu+:0.04|Beta:30.00|Sigma:431.00|Epsilon:138.64|EpIter:0.00\n",
      "| \u001b[95m 21      \u001b[0m | \u001b[95m 1.787   \u001b[0m | \u001b[95m 30.98   \u001b[0m | \u001b[95m 138.6   \u001b[0m | \u001b[95m-3.091   \u001b[0m | \u001b[95m 0.9745  \u001b[0m | \u001b[95m 431.1   \u001b[0m |\n",
      "Mu:0.73|Mu+:0.04|Beta:34.00|Sigma:428.00|Epsilon:137.41|EpIter:0.00\n",
      "| \u001b[0m 22      \u001b[0m | \u001b[0m 1.73    \u001b[0m | \u001b[0m 34.21   \u001b[0m | \u001b[0m 137.4   \u001b[0m | \u001b[0m-3.11    \u001b[0m | \u001b[0m 1.007   \u001b[0m | \u001b[0m 428.4   \u001b[0m |\n",
      "Mu:0.76|Mu+:0.04|Beta:32.00|Sigma:427.00|Epsilon:142.07|EpIter:0.00\n",
      "| \u001b[95m 23      \u001b[0m | \u001b[95m 1.82    \u001b[0m | \u001b[95m 32.29   \u001b[0m | \u001b[95m 142.1   \u001b[0m | \u001b[95m-3.19    \u001b[0m | \u001b[95m 1.152   \u001b[0m | \u001b[95m 427.1   \u001b[0m |\n",
      "Mu:0.79|Mu+:0.04|Beta:30.00|Sigma:431.00|Epsilon:142.17|EpIter:0.00\n",
      "| \u001b[0m 24      \u001b[0m | \u001b[0m 1.804   \u001b[0m | \u001b[0m 30.46   \u001b[0m | \u001b[0m 142.2   \u001b[0m | \u001b[0m-3.274   \u001b[0m | \u001b[0m 1.303   \u001b[0m | \u001b[0m 431.7   \u001b[0m |\n",
      "Mu:0.73|Mu+:0.04|Beta:35.00|Sigma:431.00|Epsilon:139.68|EpIter:0.00\n",
      "| \u001b[0m 25      \u001b[0m | \u001b[0m 1.711   \u001b[0m | \u001b[0m 35.34   \u001b[0m | \u001b[0m 139.7   \u001b[0m | \u001b[0m-3.114   \u001b[0m | \u001b[0m 1.016   \u001b[0m | \u001b[0m 431.7   \u001b[0m |\n",
      "Mu:0.78|Mu+:0.04|Beta:35.00|Sigma:425.00|Epsilon:141.64|EpIter:0.00\n",
      "| \u001b[0m 26      \u001b[0m | \u001b[0m 1.741   \u001b[0m | \u001b[0m 35.12   \u001b[0m | \u001b[0m 141.6   \u001b[0m | \u001b[0m-3.258   \u001b[0m | \u001b[0m 1.274   \u001b[0m | \u001b[0m 425.5   \u001b[0m |\n",
      "Mu:0.74|Mu+:0.04|Beta:29.00|Sigma:427.00|Epsilon:144.87|EpIter:0.00\n",
      "| \u001b[0m 27      \u001b[0m | \u001b[0m 1.807   \u001b[0m | \u001b[0m 29.3    \u001b[0m | \u001b[0m 144.9   \u001b[0m | \u001b[0m-3.128   \u001b[0m | \u001b[0m 1.042   \u001b[0m | \u001b[0m 427.6   \u001b[0m |\n",
      "Mu:0.74|Mu+:0.04|Beta:34.00|Sigma:431.00|Epsilon:145.07|EpIter:0.00\n",
      "| \u001b[0m 28      \u001b[0m | \u001b[0m 1.764   \u001b[0m | \u001b[0m 34.68   \u001b[0m | \u001b[0m 145.1   \u001b[0m | \u001b[0m-3.134   \u001b[0m | \u001b[0m 1.053   \u001b[0m | \u001b[0m 431.1   \u001b[0m |\n",
      "Mu:0.74|Mu+:0.04|Beta:28.00|Sigma:434.00|Epsilon:142.70|EpIter:0.00\n",
      "| \u001b[95m 29      \u001b[0m | \u001b[95m 1.897   \u001b[0m | \u001b[95m 28.28   \u001b[0m | \u001b[95m 142.7   \u001b[0m | \u001b[95m-3.14    \u001b[0m | \u001b[95m 1.063   \u001b[0m | \u001b[95m 434.1   \u001b[0m |\n",
      "Mu:0.73|Mu+:0.04|Beta:26.00|Sigma:427.00|Epsilon:144.63|EpIter:0.00\n",
      "| \u001b[0m 30      \u001b[0m | \u001b[0m 1.783   \u001b[0m | \u001b[0m 26.17   \u001b[0m | \u001b[0m 144.6   \u001b[0m | \u001b[0m-3.098   \u001b[0m | \u001b[0m 0.9872  \u001b[0m | \u001b[0m 427.2   \u001b[0m |\n",
      "Mu:0.73|Mu+:0.04|Beta:32.00|Sigma:424.00|Epsilon:147.08|EpIter:0.00\n",
      "| \u001b[0m 31      \u001b[0m | \u001b[0m 1.716   \u001b[0m | \u001b[0m 32.84   \u001b[0m | \u001b[0m 147.1   \u001b[0m | \u001b[0m-3.102   \u001b[0m | \u001b[0m 0.9947  \u001b[0m | \u001b[0m 424.9   \u001b[0m |\n",
      "Mu:0.73|Mu+:0.04|Beta:31.00|Sigma:432.00|Epsilon:148.34|EpIter:0.00\n",
      "| \u001b[0m 32      \u001b[0m | \u001b[0m 1.803   \u001b[0m | \u001b[0m 31.05   \u001b[0m | \u001b[0m 148.3   \u001b[0m | \u001b[0m-3.106   \u001b[0m | \u001b[0m 1.002   \u001b[0m | \u001b[0m 433.0   \u001b[0m |\n",
      "Mu:0.73|Mu+:0.04|Beta:34.00|Sigma:437.00|Epsilon:142.09|EpIter:0.00\n",
      "| \u001b[0m 33      \u001b[0m | \u001b[0m 1.74    \u001b[0m | \u001b[0m 34.27   \u001b[0m | \u001b[0m 142.1   \u001b[0m | \u001b[0m-3.109   \u001b[0m | \u001b[0m 1.008   \u001b[0m | \u001b[0m 437.0   \u001b[0m |\n",
      "Mu:0.73|Mu+:0.04|Beta:37.00|Sigma:430.00|Epsilon:147.30|EpIter:0.00\n",
      "| \u001b[0m 34      \u001b[0m | \u001b[0m 1.697   \u001b[0m | \u001b[0m 37.58   \u001b[0m | \u001b[0m 147.3   \u001b[0m | \u001b[0m-3.112   \u001b[0m | \u001b[0m 1.013   \u001b[0m | \u001b[0m 430.4   \u001b[0m |\n",
      "Mu:0.73|Mu+:0.04|Beta:24.00|Sigma:434.00|Epsilon:145.63|EpIter:0.00\n",
      "| \u001b[95m 35      \u001b[0m | \u001b[95m 1.904   \u001b[0m | \u001b[95m 24.62   \u001b[0m | \u001b[95m 145.6   \u001b[0m | \u001b[95m-3.115   \u001b[0m | \u001b[95m 1.018   \u001b[0m | \u001b[95m 434.5   \u001b[0m |\n",
      "Mu:0.73|Mu+:0.04|Beta:27.00|Sigma:429.00|Epsilon:151.02|EpIter:0.00\n",
      "| \u001b[0m 36      \u001b[0m | \u001b[0m 1.822   \u001b[0m | \u001b[0m 27.34   \u001b[0m | \u001b[0m 151.0   \u001b[0m | \u001b[0m-3.094   \u001b[0m | \u001b[0m 0.9802  \u001b[0m | \u001b[0m 429.1   \u001b[0m |\n",
      "Mu:0.73|Mu+:0.04|Beta:31.00|Sigma:438.00|Epsilon:150.11|EpIter:0.00\n",
      "| \u001b[0m 37      \u001b[0m | \u001b[0m 1.784   \u001b[0m | \u001b[0m 31.24   \u001b[0m | \u001b[0m 150.1   \u001b[0m | \u001b[0m-3.096   \u001b[0m | \u001b[0m 0.984   \u001b[0m | \u001b[0m 438.5   \u001b[0m |\n",
      "Mu:0.73|Mu+:0.04|Beta:26.00|Sigma:438.00|Epsilon:141.27|EpIter:0.00\n",
      "| \u001b[0m 38      \u001b[0m | \u001b[0m 1.85    \u001b[0m | \u001b[0m 26.29   \u001b[0m | \u001b[0m 141.3   \u001b[0m | \u001b[0m-3.098   \u001b[0m | \u001b[0m 0.9874  \u001b[0m | \u001b[0m 438.9   \u001b[0m |\n",
      "Mu:0.73|Mu+:0.04|Beta:20.00|Sigma:434.00|Epsilon:149.56|EpIter:0.00\n"
     ]
    },
    {
     "name": "stdout",
     "output_type": "stream",
     "text": [
      "| \u001b[95m 39      \u001b[0m | \u001b[95m 1.93    \u001b[0m | \u001b[95m 20.72   \u001b[0m | \u001b[95m 149.6   \u001b[0m | \u001b[95m-3.1     \u001b[0m | \u001b[95m 0.9905  \u001b[0m | \u001b[95m 434.2   \u001b[0m |\n",
      "Mu:0.72|Mu+:0.04|Beta:25.00|Sigma:437.00|Epsilon:152.90|EpIter:0.00\n",
      "| \u001b[0m 40      \u001b[0m | \u001b[0m 1.855   \u001b[0m | \u001b[0m 25.34   \u001b[0m | \u001b[0m 152.9   \u001b[0m | \u001b[0m-3.087   \u001b[0m | \u001b[0m 0.9669  \u001b[0m | \u001b[0m 437.8   \u001b[0m |\n",
      "Mu:0.72|Mu+:0.04|Beta:18.00|Sigma:431.00|Epsilon:146.55|EpIter:0.00\n",
      "| \u001b[0m 41      \u001b[0m | \u001b[0m 1.919   \u001b[0m | \u001b[0m 18.29   \u001b[0m | \u001b[0m 146.6   \u001b[0m | \u001b[0m-3.088   \u001b[0m | \u001b[0m 0.9693  \u001b[0m | \u001b[0m 431.0   \u001b[0m |\n",
      "Mu:0.73|Mu+:0.04|Beta:16.00|Sigma:437.00|Epsilon:146.85|EpIter:0.00\n",
      "| \u001b[0m 42      \u001b[0m | \u001b[0m 1.911   \u001b[0m | \u001b[0m 16.97   \u001b[0m | \u001b[0m 146.9   \u001b[0m | \u001b[0m-3.089   \u001b[0m | \u001b[0m 0.9714  \u001b[0m | \u001b[0m 437.1   \u001b[0m |\n",
      "Mu:0.73|Mu+:0.04|Beta:22.00|Sigma:431.00|Epsilon:151.99|EpIter:0.00\n",
      "| \u001b[0m 43      \u001b[0m | \u001b[0m 1.876   \u001b[0m | \u001b[0m 22.82   \u001b[0m | \u001b[0m 152.0   \u001b[0m | \u001b[0m-3.109   \u001b[0m | \u001b[0m 0.9733  \u001b[0m | \u001b[0m 431.6   \u001b[0m |\n",
      "Mu:0.73|Mu+:0.04|Beta:23.00|Sigma:436.00|Epsilon:147.37|EpIter:0.00\n",
      "| \u001b[0m 44      \u001b[0m | \u001b[0m 1.86    \u001b[0m | \u001b[0m 23.75   \u001b[0m | \u001b[0m 147.4   \u001b[0m | \u001b[0m-3.091   \u001b[0m | \u001b[0m 0.975   \u001b[0m | \u001b[0m 436.6   \u001b[0m |\n",
      "Mu:0.73|Mu+:0.04|Beta:17.00|Sigma:432.00|Epsilon:151.53|EpIter:0.00\n",
      "| \u001b[0m 45      \u001b[0m | \u001b[0m 1.927   \u001b[0m | \u001b[0m 17.99   \u001b[0m | \u001b[0m 151.5   \u001b[0m | \u001b[0m-3.107   \u001b[0m | \u001b[0m 1.004   \u001b[0m | \u001b[0m 432.1   \u001b[0m |\n",
      "Mu:0.73|Mu+:0.04|Beta:18.00|Sigma:436.00|Epsilon:151.33|EpIter:0.00\n",
      "| \u001b[95m 46      \u001b[0m | \u001b[95m 1.936   \u001b[0m | \u001b[95m 18.26   \u001b[0m | \u001b[95m 151.3   \u001b[0m | \u001b[95m-3.107   \u001b[0m | \u001b[95m 1.003   \u001b[0m | \u001b[95m 436.1   \u001b[0m |\n",
      "Mu:0.73|Mu+:0.04|Beta:16.00|Sigma:437.00|Epsilon:152.84|EpIter:0.00\n",
      "| \u001b[0m 47      \u001b[0m | \u001b[0m 1.919   \u001b[0m | \u001b[0m 16.17   \u001b[0m | \u001b[0m 152.8   \u001b[0m | \u001b[0m-3.113   \u001b[0m | \u001b[0m 1.014   \u001b[0m | \u001b[0m 437.7   \u001b[0m |\n",
      "Mu:0.73|Mu+:0.04|Beta:20.00|Sigma:437.00|Epsilon:152.69|EpIter:0.00\n",
      "| \u001b[95m 48      \u001b[0m | \u001b[95m 1.942   \u001b[0m | \u001b[95m 20.14   \u001b[0m | \u001b[95m 152.7   \u001b[0m | \u001b[95m-3.112   \u001b[0m | \u001b[95m 1.013   \u001b[0m | \u001b[95m 437.6   \u001b[0m |\n",
      "Mu:0.74|Mu+:0.04|Beta:21.00|Sigma:438.00|Epsilon:153.84|EpIter:0.00\n",
      "| \u001b[0m 49      \u001b[0m | \u001b[0m 1.912   \u001b[0m | \u001b[0m 21.74   \u001b[0m | \u001b[0m 153.8   \u001b[0m | \u001b[0m-3.116   \u001b[0m | \u001b[0m 1.021   \u001b[0m | \u001b[0m 438.8   \u001b[0m |\n",
      "Mu:0.73|Mu+:0.04|Beta:21.00|Sigma:438.00|Epsilon:153.73|EpIter:0.00\n",
      "| \u001b[0m 50      \u001b[0m | \u001b[0m 1.912   \u001b[0m | \u001b[0m 21.58   \u001b[0m | \u001b[0m 153.7   \u001b[0m | \u001b[0m-3.116   \u001b[0m | \u001b[0m 1.02    \u001b[0m | \u001b[0m 438.7   \u001b[0m |\n",
      "Mu:0.73|Mu+:0.04|Beta:21.00|Sigma:438.00|Epsilon:153.62|EpIter:0.00\n",
      "| \u001b[0m 51      \u001b[0m | \u001b[0m 1.912   \u001b[0m | \u001b[0m 21.44   \u001b[0m | \u001b[0m 153.6   \u001b[0m | \u001b[0m-3.116   \u001b[0m | \u001b[0m 1.019   \u001b[0m | \u001b[0m 438.6   \u001b[0m |\n",
      "Mu:0.73|Mu+:0.04|Beta:18.00|Sigma:438.00|Epsilon:153.53|EpIter:0.00\n",
      "| \u001b[0m 52      \u001b[0m | \u001b[0m 1.931   \u001b[0m | \u001b[0m 18.98   \u001b[0m | \u001b[0m 153.5   \u001b[0m | \u001b[0m-3.115   \u001b[0m | \u001b[0m 1.019   \u001b[0m | \u001b[0m 438.5   \u001b[0m |\n",
      "Mu:0.73|Mu+:0.04|Beta:21.00|Sigma:438.00|Epsilon:151.93|EpIter:0.00\n",
      "| \u001b[0m 53      \u001b[0m | \u001b[0m 1.913   \u001b[0m | \u001b[0m 21.19   \u001b[0m | \u001b[0m 151.9   \u001b[0m | \u001b[0m-3.115   \u001b[0m | \u001b[0m 1.018   \u001b[0m | \u001b[0m 438.4   \u001b[0m |\n",
      "Mu:0.73|Mu+:0.04|Beta:21.00|Sigma:436.00|Epsilon:153.33|EpIter:0.00\n",
      "| \u001b[0m 54      \u001b[0m | \u001b[0m 1.916   \u001b[0m | \u001b[0m 21.06   \u001b[0m | \u001b[0m 153.3   \u001b[0m | \u001b[0m-3.114   \u001b[0m | \u001b[0m 1.014   \u001b[0m | \u001b[0m 436.9   \u001b[0m |\n",
      "Mu:0.73|Mu+:0.04|Beta:19.00|Sigma:438.00|Epsilon:152.08|EpIter:0.00\n",
      "| \u001b[0m 55      \u001b[0m | \u001b[0m 1.934   \u001b[0m | \u001b[0m 19.29   \u001b[0m | \u001b[0m 152.1   \u001b[0m | \u001b[0m-3.114   \u001b[0m | \u001b[0m 1.017   \u001b[0m | \u001b[0m 438.2   \u001b[0m |\n",
      "Mu:0.73|Mu+:0.04|Beta:20.00|Sigma:436.00|Epsilon:153.24|EpIter:0.00\n",
      "| \u001b[95m 56      \u001b[0m | \u001b[95m 1.942   \u001b[0m | \u001b[95m 20.91   \u001b[0m | \u001b[95m 153.2   \u001b[0m | \u001b[95m-3.114   \u001b[0m | \u001b[95m 1.016   \u001b[0m | \u001b[95m 437.0   \u001b[0m |\n",
      "Mu:0.73|Mu+:0.04|Beta:21.00|Sigma:436.00|Epsilon:153.71|EpIter:0.00\n",
      "| \u001b[0m 57      \u001b[0m | \u001b[0m 1.912   \u001b[0m | \u001b[0m 21.56   \u001b[0m | \u001b[0m 153.7   \u001b[0m | \u001b[0m-3.116   \u001b[0m | \u001b[0m 1.02    \u001b[0m | \u001b[0m 436.5   \u001b[0m |\n",
      "Mu:0.73|Mu+:0.04|Beta:21.00|Sigma:436.00|Epsilon:153.66|EpIter:0.00\n",
      "| \u001b[0m 58      \u001b[0m | \u001b[0m 1.912   \u001b[0m | \u001b[0m 21.49   \u001b[0m | \u001b[0m 153.7   \u001b[0m | \u001b[0m-3.116   \u001b[0m | \u001b[0m 1.019   \u001b[0m | \u001b[0m 436.5   \u001b[0m |\n",
      "Mu:0.73|Mu+:0.04|Beta:21.00|Sigma:436.00|Epsilon:153.62|EpIter:0.00\n",
      "| \u001b[0m 59      \u001b[0m | \u001b[0m 1.912   \u001b[0m | \u001b[0m 21.43   \u001b[0m | \u001b[0m 153.6   \u001b[0m | \u001b[0m-3.116   \u001b[0m | \u001b[0m 1.019   \u001b[0m | \u001b[0m 436.6   \u001b[0m |\n",
      "Mu:0.73|Mu+:0.04|Beta:21.00|Sigma:436.00|Epsilon:153.58|EpIter:0.00\n",
      "| \u001b[0m 60      \u001b[0m | \u001b[0m 1.912   \u001b[0m | \u001b[0m 21.38   \u001b[0m | \u001b[0m 153.6   \u001b[0m | \u001b[0m-3.115   \u001b[0m | \u001b[0m 1.019   \u001b[0m | \u001b[0m 436.6   \u001b[0m |\n",
      "=====================================================================================\n"
     ]
    }
   ],
   "source": [
    "optimizer.maximize(\n",
    "    init_points=10,\n",
    "    n_iter=50,\n",
    "    acq=\"ucb\",\n",
    "    kappa=5,\n",
    "    alpha=1\n",
    ")"
   ]
  },
  {
   "cell_type": "code",
   "execution_count": 24,
   "metadata": {},
   "outputs": [
    {
     "data": {
      "text/plain": [
       "{'target': 1.9418033804584731,\n",
       " 'params': {'beta_sp': 20.905391979583307,\n",
       "  'epsilon_sp': 153.24182604121094,\n",
       "  'muIncr_logit': -3.114114851122126,\n",
       "  'mu_logit': 1.0164819714982578,\n",
       "  'sigma_sp': 436.97841814418996}}"
      ]
     },
     "execution_count": 24,
     "metadata": {},
     "output_type": "execute_result"
    }
   ],
   "source": [
    "optimizer.max"
   ]
  },
  {
   "cell_type": "code",
   "execution_count": 25,
   "metadata": {
    "ExecuteTime": {
     "end_time": "2020-09-03T22:58:42.653746Z",
     "start_time": "2020-09-03T22:58:42.649916Z"
    }
   },
   "outputs": [
    {
     "data": {
      "text/plain": [
       "0.87455013"
      ]
     },
     "execution_count": 25,
     "metadata": {},
     "output_type": "execute_result"
    }
   ],
   "source": [
    "inv_logit(optimizer.max[\"target\"])"
   ]
  },
  {
   "cell_type": "code",
   "execution_count": 24,
   "metadata": {
    "ExecuteTime": {
     "end_time": "2020-09-03T22:59:56.414823Z",
     "start_time": "2020-09-03T22:59:56.412477Z"
    }
   },
   "outputs": [],
   "source": [
    "params=optimizer.max[\"params\"]"
   ]
  },
  {
   "cell_type": "code",
   "execution_count": 25,
   "metadata": {
    "ExecuteTime": {
     "end_time": "2020-09-03T23:00:39.452694Z",
     "start_time": "2020-09-03T23:00:39.449279Z"
    }
   },
   "outputs": [
    {
     "data": {
      "text/plain": [
       "34.56027510764839"
      ]
     },
     "execution_count": 25,
     "metadata": {},
     "output_type": "execute_result"
    }
   ],
   "source": [
    "softplus(params[\"beta_sp\"])"
   ]
  },
  {
   "cell_type": "code",
   "execution_count": 26,
   "metadata": {
    "ExecuteTime": {
     "end_time": "2020-09-03T23:01:09.671719Z",
     "start_time": "2020-09-03T23:01:09.668333Z"
    }
   },
   "outputs": [
    {
     "data": {
      "text/plain": [
       "406.4487059734664"
      ]
     },
     "execution_count": 26,
     "metadata": {},
     "output_type": "execute_result"
    }
   ],
   "source": [
    "softplus(params[\"sigma_sp\"])"
   ]
  },
  {
   "cell_type": "code",
   "execution_count": 27,
   "metadata": {
    "ExecuteTime": {
     "end_time": "2020-09-04T01:35:00.233453Z",
     "start_time": "2020-09-04T01:35:00.230360Z"
    }
   },
   "outputs": [
    {
     "data": {
      "text/plain": [
       "0.5264055778635047"
      ]
     },
     "execution_count": 27,
     "metadata": {},
     "output_type": "execute_result"
    }
   ],
   "source": [
    "inv_logit(params[\"mu_logit\"])"
   ]
  },
  {
   "cell_type": "code",
   "execution_count": 28,
   "metadata": {
    "ExecuteTime": {
     "end_time": "2020-09-04T01:35:28.881809Z",
     "start_time": "2020-09-04T01:35:28.878641Z"
    }
   },
   "outputs": [
    {
     "data": {
      "text/plain": [
       "0.07890602612671446"
      ]
     },
     "execution_count": 28,
     "metadata": {},
     "output_type": "execute_result"
    }
   ],
   "source": [
    "inv_logit(params[\"muIncr_logit\"])"
   ]
  },
  {
   "cell_type": "code",
   "execution_count": 29,
   "metadata": {
    "ExecuteTime": {
     "end_time": "2020-09-04T01:36:13.729976Z",
     "start_time": "2020-09-04T01:36:13.726798Z"
    }
   },
   "outputs": [
    {
     "data": {
      "text/plain": [
       "13.862860100699521"
      ]
     },
     "execution_count": 29,
     "metadata": {},
     "output_type": "execute_result"
    }
   ],
   "source": [
    "softplus(params[\"epsilon_sp\"])"
   ]
  },
  {
   "cell_type": "code",
   "execution_count": 31,
   "metadata": {},
   "outputs": [
    {
     "name": "stdout",
     "output_type": "stream",
     "text": [
      "\n",
      ">>>>>>>>>>>>\n",
      "Starting Iteration mu= 0.5264055778635047\n",
      "Starting Iteration epsilon= 13.862860100699521\n",
      "Running NewMatrix Jar!\n",
      " Single-Reference Blocks = 1\n",
      "\n",
      " Multi-Reference Blocks = 15760\n",
      "NewMatrix Iterateblocks Total Time = 19.58311090618372\n",
      "\n",
      "\n",
      ">>>>>>>>>>>>\n",
      "Starting Iteration mu= 0.6053116039902192\n",
      "Starting Iteration epsilon= 13.862860100699521\n",
      "Running NewMatrix Jar!\n",
      " Single-Reference Blocks = 1\n",
      "\n",
      " Multi-Reference Blocks = 13181\n",
      "NewMatrix Iterateblocks Total Time = 17.280983736738563\n",
      "\n",
      "\n",
      ">>>>>>>>>>>>\n",
      "Starting Iteration mu= 0.6842176301169337\n",
      "Starting Iteration epsilon= 13.862860100699521\n",
      "Running NewMatrix Jar!\n",
      " Single-Reference Blocks = 1\n",
      "\n",
      " Multi-Reference Blocks = 9030\n",
      "NewMatrix Iterateblocks Total Time = 11.896439941599965\n",
      "\n",
      "\n",
      ">>>>>>>>>>>>\n",
      "Starting Iteration mu= 0.7631236562436482\n",
      "Starting Iteration epsilon= 13.862860100699521\n",
      "Running NewMatrix Jar!\n",
      " Single-Reference Blocks = 1\n",
      "\n",
      " Multi-Reference Blocks = 4957\n",
      "NewMatrix Iterateblocks Total Time = 6.51996822655201\n",
      "\n",
      "\n",
      ">>>>>>>>>>>>\n",
      "Starting Iteration mu= 0.8420296823703627\n",
      "Starting Iteration epsilon= 13.862860100699521\n",
      "Running NewMatrix Jar!\n",
      " Single-Reference Blocks = 1\n",
      "\n",
      " Multi-Reference Blocks = 2271\n",
      "NewMatrix Iterateblocks Total Time = 2.668057463131845\n",
      "\n",
      "\n",
      ">>>>>>>>>>>>\n",
      "Starting Iteration mu= 0.9209357084970772\n",
      "Starting Iteration epsilon= 13.862860100699521\n",
      "Running NewMatrix Jar!\n",
      " Single-Reference Blocks = 1\n",
      "\n",
      " Multi-Reference Blocks = 761\n",
      "NewMatrix Iterateblocks Total Time = 1.3189217476174235\n",
      "\n",
      "\n",
      ">>>>>>>>>>>>\n",
      "Starting Iteration mu= 0.9998417346237917\n",
      "Starting Iteration epsilon= 13.862860100699521\n",
      "Running NewMatrix Jar!\n",
      " Single-Reference Blocks = 1\n",
      "\n",
      " Multi-Reference Blocks = 84\n",
      "NewMatrix Iterateblocks Total Time = 0.441781934350729\n",
      "\n",
      "Precision = TP / (TP + FP) ......................... = 0.92287433\n",
      "Recall = TP / (TP + FN) ............................ = 0.90499763\n",
      "F-Measure .......................................... = 0.91384856\n"
     ]
    },
    {
     "data": {
      "text/plain": [
       "0.91384856"
      ]
     },
     "execution_count": 31,
     "metadata": {},
     "output_type": "execute_result"
    }
   ],
   "source": [
    "entropy_F1(mu=0.5264055778635047,\n",
    "           muIncr=0.07890602612671446,\n",
    "           beta=34,\n",
    "           sigma=406,\n",
    "           epsilon=13.862860100699521,\n",
    "           epsilonIterate=0)"
   ]
  }
 ],
 "metadata": {
  "kernelspec": {
   "display_name": "Python 3",
   "language": "python",
   "name": "python3"
  },
  "language_info": {
   "codemirror_mode": {
    "name": "ipython",
    "version": 3
   },
   "file_extension": ".py",
   "mimetype": "text/x-python",
   "name": "python",
   "nbconvert_exporter": "python",
   "pygments_lexer": "ipython3",
   "version": "3.7.4"
  },
  "toc": {
   "base_numbering": 1,
   "nav_menu": {},
   "number_sections": true,
   "sideBar": true,
   "skip_h1_title": false,
   "title_cell": "Table of Contents",
   "title_sidebar": "Contents",
   "toc_cell": false,
   "toc_position": {},
   "toc_section_display": true,
   "toc_window_display": false
  },
  "varInspector": {
   "cols": {
    "lenName": 16,
    "lenType": 16,
    "lenVar": 40
   },
   "kernels_config": {
    "python": {
     "delete_cmd_postfix": "",
     "delete_cmd_prefix": "del ",
     "library": "var_list.py",
     "varRefreshCmd": "print(var_dic_list())"
    },
    "r": {
     "delete_cmd_postfix": ") ",
     "delete_cmd_prefix": "rm(",
     "library": "var_list.r",
     "varRefreshCmd": "cat(var_dic_list()) "
    }
   },
   "types_to_exclude": [
    "module",
    "function",
    "builtin_function_or_method",
    "instance",
    "_Feature"
   ],
   "window_display": false
  }
 },
 "nbformat": 4,
 "nbformat_minor": 2
}
