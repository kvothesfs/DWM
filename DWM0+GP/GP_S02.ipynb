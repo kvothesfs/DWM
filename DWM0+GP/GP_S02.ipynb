{
 "cells": [
  {
   "cell_type": "code",
   "execution_count": 1,
   "metadata": {
    "ExecuteTime": {
     "end_time": "2020-09-03T21:59:20.041891Z",
     "start_time": "2020-09-03T21:59:10.621897Z"
    }
   },
   "outputs": [
    {
     "name": "stdout",
     "output_type": "stream",
     "text": [
      "Tokenizing References\n",
      "Total References= 100\n",
      "Total Tokens Found = 1247\n",
      "Total Tokens Output = 1247\n",
      "Dictionary Load = 67077\n",
      "<class 'dict'>\n",
      "Global Replace Cycle\n",
      "Total References= 100\n",
      "Total Tokens= 1247\n",
      "Unique Tokens= 464\n",
      "Minimum Frequency of Standard Token =  5\n",
      "Minimum Length of Standard Token =  3\n",
      "Maximum Frequency of Error Token =  3\n",
      "References Processed= 100\n",
      "Sorted Token Size = 464\n",
      "Clean Token Size = 197\n",
      "*Stop Replacements here\n",
      "References Processed =  100\n",
      "Total Replacement Pairs = 3\n",
      "Tokens Read = 1247\n",
      "Tokens Changed =  8\n",
      "References Changed = 8\n"
     ]
    }
   ],
   "source": [
    "import DWM1_Tokenizer\n",
    "import DWM2_Global_Token_Replace_NewDict\n",
    "import DWM3_Entropy_Cluster\n",
    "# Settings for Tokenizer\n",
    "inputSampleName = r'S2'\n",
    "delimiter=','\n",
    "hasHeader = True\n",
    "tokenizerType = 'Splitter'\n",
    "removeDuplicateTokens = True\n",
    "\n",
    "# Setting for global replacement DWM2\n",
    "runReplacement = True\n",
    "minFreqStdToken = 5\n",
    "minLenStdToken = 3\n",
    "maxFreqErrToken = 3\n",
    "\n",
    "# Cluster Settings\n",
    "\n",
    "\n",
    "DWM1_Tokenizer.tokenizeCycle(inputSampleName, delimiter, hasHeader, removeDuplicateTokens, tokenizerType)\n",
    "prefixString = inputSampleName +','+tokenizerType+','+str(removeDuplicateTokens)\n",
    "fileToCluster = inputSampleName + '-Tokenized.txt'\n",
    "if runReplacement:\n",
    "    DWM2_Global_Token_Replace_NewDict.globalReplace(inputSampleName, minFreqStdToken, minLenStdToken, maxFreqErrToken)\n",
    "    fileToCluster = inputSampleName + '-TokenReplace.txt'\n",
    "    prefixString = prefixString+','+str(minFreqStdToken)+','+str(minLenStdToken)+','+str(maxFreqErrToken)\n",
    "else:\n",
    "    prefixString = prefixString+',0,0,0'\n",
    "\n",
    "# Cluster fixed settings\n",
    "epsilonIterate = 0.0\n",
    "runClusterMetrics = False\n",
    "runFinalMetrics = True\n",
    "createFinalJoin = False"
   ]
  },
  {
   "cell_type": "code",
   "execution_count": 2,
   "metadata": {},
   "outputs": [],
   "source": [
    "status=\"done\""
   ]
  },
  {
   "cell_type": "code",
   "execution_count": 3,
   "metadata": {},
   "outputs": [
    {
     "name": "stdout",
     "output_type": "stream",
     "text": [
      "done\n"
     ]
    }
   ],
   "source": [
    "print(status)"
   ]
  },
  {
   "cell_type": "code",
   "execution_count": null,
   "metadata": {
    "ExecuteTime": {
     "end_time": "2020-09-03T15:11:39.765508Z",
     "start_time": "2020-09-03T15:03:19.495876Z"
    },
    "scrolled": false
   },
   "outputs": [],
   "source": [
    "# # Cluster Robot Settings\n",
    "# muStart = 0.60\n",
    "# muEnd = 0.60\n",
    "# muIncr = 0.05\n",
    "# betaStart = 14\n",
    "# betaEnd = 14\n",
    "# betaIncr = 1\n",
    "# sigmaStart = 145\n",
    "# sigmaEnd = 145\n",
    "# sigmaIncr = 1\n",
    "# epsilonStart = 35\n",
    "# epsilonEnd = 35\n",
    "# epsilonIncr = 1\n",
    "# mu = muStart\n",
    "# while mu <= muEnd:\n",
    "#     beta = betaStart\n",
    "#     while beta <= betaEnd:\n",
    "#         sigma = sigmaStart\n",
    "#         while sigma <= sigmaEnd:\n",
    "#             epsilon = epsilonStart\n",
    "#             while epsilon <= epsilonEnd:\n",
    "#                 suffixString =','+str(epsilon)+','+str(epsilonIterate)\n",
    "#                 resultsList = DWM3_Entropy_Cluster.driver(fileToCluster, beta, sigma, mu, muIncr,epsilon,  \\\n",
    "#                                                      epsilonIterate,runClusterMetrics, runFinalMetrics, createFinalJoin, hasHeader)\n",
    "#                 seg0a = ','+str(resultsList[0])+','+str(resultsList[1])+','+str(resultsList[2])+','+str(resultsList[3])\n",
    "#                 seg0b =','+str(resultsList[4])+','+str(resultsList[5])+','+str(resultsList[6])\n",
    "#                 seg1 = ','+str(beta)+','+str(sigma)+','+str(mu)+ ',' +str(muIncr)\n",
    "#                 seg2 = ','+str(resultsList[7])+','+str(resultsList[8])+','+str(resultsList[9])\n",
    "#                 outString = prefixString+seg0a+seg0b+suffixString+seg1+seg2+'\\n'\n",
    "#                 resultsFile = open('RobotResults.txt','a+')\n",
    "#                 resultsFile.write(outString)\n",
    "#                 resultsFile.close()\n",
    "#                 epsilon = epsilon + epsilonIncr\n",
    "#             sigma = sigma + sigmaIncr\n",
    "#         beta = beta + betaIncr\n",
    "#     mu = mu + muIncr\n",
    "\n",
    "\n",
    " "
   ]
  },
  {
   "cell_type": "markdown",
   "metadata": {
    "ExecuteTime": {
     "end_time": "2020-09-03T16:36:26.229783Z",
     "start_time": "2020-09-03T16:36:26.227755Z"
    }
   },
   "source": [
    "## Bayesian Optimization of Hyperparameters"
   ]
  },
  {
   "cell_type": "code",
   "execution_count": 4,
   "metadata": {},
   "outputs": [],
   "source": [
    "import numpy as np"
   ]
  },
  {
   "cell_type": "markdown",
   "metadata": {
    "ExecuteTime": {
     "end_time": "2020-09-03T16:36:47.947518Z",
     "start_time": "2020-09-03T16:36:47.944251Z"
    }
   },
   "source": [
    "Create a function of the parameters that returns the F score"
   ]
  },
  {
   "cell_type": "code",
   "execution_count": 5,
   "metadata": {
    "ExecuteTime": {
     "end_time": "2020-09-03T21:59:42.561300Z",
     "start_time": "2020-09-03T21:59:42.557193Z"
    }
   },
   "outputs": [],
   "source": [
    "def entropy_F1(beta=14,sigma=145,mu=0.6,muIncr=0.05,epsilon=35,epsilonIterate=0):\n",
    "    resultsList = DWM3_Entropy_Cluster.driver(fileToCluster, \n",
    "                                  beta, \n",
    "                                  sigma, \n",
    "                                  mu, \n",
    "                                  muIncr,\n",
    "                                  epsilon,\n",
    "                                  epsilonIterate,\n",
    "                                  runClusterMetrics, \n",
    "                                  runFinalMetrics, \n",
    "                                  createFinalJoin, \n",
    "                                  hasHeader)\n",
    "    return resultsList[9]"
   ]
  },
  {
   "cell_type": "code",
   "execution_count": 6,
   "metadata": {
    "ExecuteTime": {
     "end_time": "2020-09-03T22:06:32.164588Z",
     "start_time": "2020-09-03T21:59:43.696518Z"
    }
   },
   "outputs": [
    {
     "name": "stdout",
     "output_type": "stream",
     "text": [
      "\n",
      ">>>>>>>>>>>>\n",
      "Starting Iteration mu= 0.5\n",
      "Starting Iteration epsilon= 31.8\n",
      "Running NewMatrix Jar!\n",
      " Single-Reference Blocks = 1\n",
      "\n",
      " Multi-Reference Blocks = 224\n",
      "NewMatrix Iterateblocks Total Time = 0.4240247933194041\n",
      "\n",
      "\n",
      ">>>>>>>>>>>>\n",
      "Starting Iteration mu= 0.55\n",
      "Starting Iteration epsilon= 31.8\n",
      "Running NewMatrix Jar!\n",
      " Single-Reference Blocks = 1\n",
      "\n",
      " Multi-Reference Blocks = 60\n",
      "NewMatrix Iterateblocks Total Time = 0.31218042224645615\n",
      "\n",
      "Precision = TP / (TP + FP) ......................... = 0.18972332\n",
      "Recall = TP / (TP + FN) ............................ = 1.00000000\n",
      "F-Measure .......................................... = 0.31893688\n"
     ]
    },
    {
     "data": {
      "text/plain": [
       "0.31893688"
      ]
     },
     "execution_count": 6,
     "metadata": {},
     "output_type": "execute_result"
    }
   ],
   "source": [
    "entropy_F1(mu=0.5,muIncr=0.05,beta=33,sigma=449,epsilon=31.8,epsilonIterate=0)"
   ]
  },
  {
   "cell_type": "markdown",
   "metadata": {},
   "source": [
    "Create functions for variable transformation."
   ]
  },
  {
   "cell_type": "code",
   "execution_count": 7,
   "metadata": {
    "ExecuteTime": {
     "end_time": "2020-09-03T22:08:18.856511Z",
     "start_time": "2020-09-03T22:08:18.853611Z"
    }
   },
   "outputs": [],
   "source": [
    "#Softplus to transform real domain into positive\n",
    "def softplus(x):\n",
    "    return np.log(1+np.exp(x))\n",
    "\n",
    "def inv_softplus(x):\n",
    "    return np.log(np.exp(x)-1)"
   ]
  },
  {
   "cell_type": "code",
   "execution_count": 8,
   "metadata": {
    "ExecuteTime": {
     "end_time": "2020-09-03T22:08:27.349548Z",
     "start_time": "2020-09-03T22:08:27.345752Z"
    }
   },
   "outputs": [
    {
     "data": {
      "text/plain": [
       "0.541324854612918"
      ]
     },
     "execution_count": 8,
     "metadata": {},
     "output_type": "execute_result"
    }
   ],
   "source": [
    "inv_softplus(1)"
   ]
  },
  {
   "cell_type": "code",
   "execution_count": 9,
   "metadata": {
    "ExecuteTime": {
     "end_time": "2020-09-03T22:11:24.939913Z",
     "start_time": "2020-09-03T22:11:24.936639Z"
    }
   },
   "outputs": [],
   "source": [
    "#Logit to transform real domain into 0-1\n",
    "def logit(x):    \n",
    "    return np.log(x+1e-54)-np.log(1-x+1e-54)\n",
    "\n",
    "def inv_logit(x):\n",
    "    res=np.exp(x)/(np.exp(x)+1)-2*1e-54\n",
    "    if res<1e-54:\n",
    "        res=0\n",
    "    return res"
   ]
  },
  {
   "cell_type": "markdown",
   "metadata": {},
   "source": [
    "Import BO library:"
   ]
  },
  {
   "cell_type": "code",
   "execution_count": 10,
   "metadata": {
    "ExecuteTime": {
     "end_time": "2020-09-03T22:08:30.622144Z",
     "start_time": "2020-09-03T22:08:30.226842Z"
    }
   },
   "outputs": [],
   "source": [
    "from bayes_opt import BayesianOptimization"
   ]
  },
  {
   "cell_type": "markdown",
   "metadata": {
    "ExecuteTime": {
     "end_time": "2020-09-03T18:14:39.927785Z",
     "start_time": "2020-09-03T18:14:39.924909Z"
    }
   },
   "source": [
    "Create dictionary bounds for the parameters:"
   ]
  },
  {
   "cell_type": "code",
   "execution_count": 11,
   "metadata": {},
   "outputs": [],
   "source": [
    "import os, sys"
   ]
  },
  {
   "cell_type": "code",
   "execution_count": 12,
   "metadata": {},
   "outputs": [],
   "source": [
    "class HiddenPrints:\n",
    "    def __enter__(self):\n",
    "        self._original_stdout = sys.stdout\n",
    "        sys.stdout = open(os.devnull, 'w')\n",
    "\n",
    "    def __exit__(self, exc_type, exc_val, exc_tb):\n",
    "        sys.stdout.close()\n",
    "        sys.stdout = self._original_stdout"
   ]
  },
  {
   "cell_type": "code",
   "execution_count": 14,
   "metadata": {},
   "outputs": [
    {
     "name": "stdout",
     "output_type": "stream",
     "text": [
      "This will be printed as before\n"
     ]
    }
   ],
   "source": [
    "with HiddenPrints():\n",
    "    print(\"This will not be printed\")\n",
    "\n",
    "print(\"This will be printed as before\")"
   ]
  },
  {
   "cell_type": "code",
   "execution_count": 15,
   "metadata": {
    "ExecuteTime": {
     "end_time": "2020-09-03T22:11:53.005154Z",
     "start_time": "2020-09-03T22:11:53.000238Z"
    }
   },
   "outputs": [],
   "source": [
    "#Take parameters in transformed space and return f score in transformed space\n",
    "def entropy_F1_trx(beta_sp,sigma_sp,mu_logit,muIncr_logit,epsilon_sp,epsilonIterate_logit=logit(0)):\n",
    "    beta_pos=int(softplus(beta_sp))\n",
    "    sigma_pos=int(softplus(sigma_sp))\n",
    "    mu_01=inv_logit(mu_logit)\n",
    "    muIncr_01=inv_logit(muIncr_logit)\n",
    "    epsilon_pos=softplus(epsilon_sp)\n",
    "    epsilonIterate_01=inv_logit(epsilonIterate_logit)\n",
    "    \n",
    "    print(\"Mu:%.2f|Mu+:%.2f|Beta:%.2f|Sigma:%.2f|Epsilon:%.2f|EpIter:%.2f\" % (mu_01, muIncr_01, beta_pos, sigma_pos, epsilon_pos, epsilonIterate_01))\n",
    "    \n",
    "    with HiddenPrints():\n",
    "        f1=entropy_F1(beta=beta_pos,\n",
    "                      epsilon=epsilon_pos,\n",
    "                      epsilonIterate=epsilonIterate_01,\n",
    "                      muIncr=muIncr_01,\n",
    "                      sigma=sigma_pos,\n",
    "                      mu=mu_01)\n",
    "    \n",
    "    return logit(f1)"
   ]
  },
  {
   "cell_type": "code",
   "execution_count": 16,
   "metadata": {},
   "outputs": [
    {
     "name": "stdout",
     "output_type": "stream",
     "text": [
      "Mu:0.50|Mu+:0.05|Beta:33.00|Sigma:449.00|Epsilon:31.80|EpIter:0.00\n"
     ]
    },
    {
     "data": {
      "text/plain": [
       "-0.7586617742112225"
      ]
     },
     "execution_count": 16,
     "metadata": {},
     "output_type": "execute_result"
    }
   ],
   "source": [
    "entropy_F1_trx(beta_sp=inv_softplus(33),\n",
    "               sigma_sp=inv_softplus(449),\n",
    "               mu_logit=logit(0.5),\n",
    "               muIncr_logit=logit(0.05),\n",
    "               epsilon_sp=inv_softplus(31.8))"
   ]
  },
  {
   "cell_type": "code",
   "execution_count": 48,
   "metadata": {},
   "outputs": [],
   "source": [
    "optimizer=None"
   ]
  },
  {
   "cell_type": "code",
   "execution_count": 58,
   "metadata": {
    "ExecuteTime": {
     "end_time": "2020-09-03T22:11:50.787503Z",
     "start_time": "2020-09-03T22:11:50.784060Z"
    }
   },
   "outputs": [],
   "source": [
    "pbounds = {'beta_sp': (inv_softplus(1), inv_softplus(100)), \n",
    "           'sigma_sp': (inv_softplus(1), inv_softplus(100)),\n",
    "           'mu_logit': (logit(0.4), logit(0.8)),\n",
    "           'muIncr_logit': (logit(0.01), logit(0.2)),\n",
    "           'epsilon_sp': (inv_softplus(1), inv_softplus(100)),\n",
    "           'epsilonIterate_logit': (logit(0), logit(0.25))}"
   ]
  },
  {
   "cell_type": "code",
   "execution_count": 59,
   "metadata": {
    "ExecuteTime": {
     "end_time": "2020-09-03T22:11:56.728829Z",
     "start_time": "2020-09-03T22:11:56.725599Z"
    }
   },
   "outputs": [],
   "source": [
    "optimizer = BayesianOptimization(\n",
    "    f=entropy_F1_trx,\n",
    "    pbounds=pbounds,\n",
    "    random_state=1,\n",
    ")"
   ]
  },
  {
   "cell_type": "code",
   "execution_count": 60,
   "metadata": {},
   "outputs": [],
   "source": [
    "optimizer.probe(\n",
    "    params={\"beta_sp\": inv_softplus(6), \n",
    "            \"sigma_sp\": inv_softplus(7),\n",
    "            \"mu_logit\":logit(0.5),\n",
    "            'epsilonIterate_logit': logit(0),\n",
    "            \"muIncr_logit\":logit(0.1),\n",
    "            \"epsilon_sp\":inv_softplus(4.7)},\n",
    "    lazy=True,\n",
    ")"
   ]
  },
  {
   "cell_type": "code",
   "execution_count": 61,
   "metadata": {
    "ExecuteTime": {
     "end_time": "2020-09-03T22:54:10.009085Z",
     "start_time": "2020-09-03T22:11:58.063246Z"
    }
   },
   "outputs": [
    {
     "name": "stdout",
     "output_type": "stream",
     "text": [
      "|   iter    |  target   |  beta_sp  | epsilo... | epsilo... | muIncr... | mu_logit  | sigma_sp  |\n",
      "-------------------------------------------------------------------------------------------------\n",
      "Mu:0.50|Mu+:0.10|Beta:6.00|Sigma:7.00|Epsilon:4.70|EpIter:0.00\n",
      "| \u001b[0m 1       \u001b[0m | \u001b[0m 1.946   \u001b[0m | \u001b[0m 5.998   \u001b[0m | \u001b[0m-124.3   \u001b[0m | \u001b[0m 4.691   \u001b[0m | \u001b[0m-2.197   \u001b[0m | \u001b[0m 0.0     \u001b[0m | \u001b[0m 6.999   \u001b[0m |\n",
      "Mu:0.46|Mu+:0.03|Beta:42.00|Sigma:9.00|Epsilon:1.01|EpIter:0.00\n",
      "| \u001b[0m 2       \u001b[0m | \u001b[0m 0.5261  \u001b[0m | \u001b[0m 42.02   \u001b[0m | \u001b[0m-35.57   \u001b[0m | \u001b[0m 0.5527  \u001b[0m | \u001b[0m-3.625   \u001b[0m | \u001b[0m-0.1425  \u001b[0m | \u001b[0m 9.725   \u001b[0m |\n",
      "Mu:0.59|Mu+:0.05|Beta:19.00|Sigma:68.00|Epsilon:40.00|EpIter:0.00\n",
      "| \u001b[0m 3       \u001b[0m | \u001b[0m 0.2469  \u001b[0m | \u001b[0m 19.07   \u001b[0m | \u001b[0m-81.75   \u001b[0m | \u001b[0m 40.0    \u001b[0m | \u001b[0m-2.866   \u001b[0m | \u001b[0m 0.3456  \u001b[0m | \u001b[0m 68.69   \u001b[0m |\n",
      "Mu:0.58|Mu+:0.08|Beta:20.00|Sigma:56.00|Epsilon:3.30|EpIter:0.00\n",
      "| \u001b[95m 4       \u001b[0m | \u001b[95m 2.351   \u001b[0m | \u001b[95m 20.88   \u001b[0m | \u001b[95m-16.12   \u001b[0m | \u001b[95m 3.265   \u001b[0m | \u001b[95m-2.444   \u001b[0m | \u001b[95m 0.3422  \u001b[0m | \u001b[95m 56.11   \u001b[0m |\n",
      "Mu:0.54|Mu+:0.18|Beta:14.00|Sigma:69.00|Epsilon:80.18|EpIter:0.00\n",
      "| \u001b[0m 5       \u001b[0m | \u001b[0m 0.07571 \u001b[0m | \u001b[0m 14.5    \u001b[0m | \u001b[0m-99.93   \u001b[0m | \u001b[0m 80.18   \u001b[0m | \u001b[0m-1.488   \u001b[0m | \u001b[0m 0.1561  \u001b[0m | \u001b[0m 69.4    \u001b[0m |\n",
      "Mu:0.47|Mu+:0.01|Beta:87.00|Sigma:87.00|Epsilon:9.00|EpIter:0.00\n",
      "| \u001b[0m 6       \u001b[0m | \u001b[0m 1.012   \u001b[0m | \u001b[0m 87.71   \u001b[0m | \u001b[0m-14.09   \u001b[0m | \u001b[0m 9.0     \u001b[0m | \u001b[0m-4.47    \u001b[0m | \u001b[0m-0.1012  \u001b[0m | \u001b[0m 87.88   \u001b[0m |\n",
      "Mu:0.70|Mu+:0.05|Beta:10.00|Sigma:31.00|Epsilon:95.81|EpIter:0.00\n",
      "| \u001b[0m 7       \u001b[0m | \u001b[0m 1.492   \u001b[0m | \u001b[0m 10.32   \u001b[0m | \u001b[0m-72.44   \u001b[0m | \u001b[0m 95.81   \u001b[0m | \u001b[0m-2.884   \u001b[0m | \u001b[0m 0.8342  \u001b[0m | \u001b[0m 31.92   \u001b[0m |\n",
      "Mu:0.80|Mu+:0.10|Beta:68.00|Sigma:74.00|Epsilon:2.45|EpIter:0.00\n",
      "| \u001b[0m 8       \u001b[0m | \u001b[0m 1.684   \u001b[0m | \u001b[0m 68.82   \u001b[0m | \u001b[0m-21.48   \u001b[0m | \u001b[0m 2.36    \u001b[0m | \u001b[0m-2.188   \u001b[0m | \u001b[0m 1.366   \u001b[0m | \u001b[0m 74.95   \u001b[0m |\n",
      "Mu:0.77|Mu+:0.04|Beta:28.00|Sigma:29.00|Epsilon:10.81|EpIter:0.00\n",
      "| \u001b[0m 9       \u001b[0m | \u001b[0m 1.897   \u001b[0m | \u001b[0m 28.43   \u001b[0m | \u001b[0m-27.07   \u001b[0m | \u001b[0m 10.81   \u001b[0m | \u001b[0m-3.158   \u001b[0m | \u001b[0m 1.223   \u001b[0m | \u001b[0m 29.74   \u001b[0m |\n",
      "Mu:0.49|Mu+:0.08|Beta:29.00|Sigma:26.00|Epsilon:2.55|EpIter:0.00\n",
      "| \u001b[0m 10      \u001b[0m | \u001b[0m 2.028   \u001b[0m | \u001b[0m 29.16   \u001b[0m | \u001b[0m-108.3   \u001b[0m | \u001b[0m 2.468   \u001b[0m | \u001b[0m-2.417   \u001b[0m | \u001b[0m-0.02628 \u001b[0m | \u001b[0m 26.95   \u001b[0m |\n",
      "Mu:0.66|Mu+:0.02|Beta:49.00|Sigma:70.00|Epsilon:57.64|EpIter:0.00\n",
      "| \u001b[0m 11      \u001b[0m | \u001b[0m 1.814   \u001b[0m | \u001b[0m 49.43   \u001b[0m | \u001b[0m-117.8   \u001b[0m | \u001b[0m 57.64   \u001b[0m | \u001b[0m-4.124   \u001b[0m | \u001b[0m 0.6504  \u001b[0m | \u001b[0m 70.14   \u001b[0m |\n",
      "Mu:0.50|Mu+:0.02|Beta:18.00|Sigma:55.00|Epsilon:7.17|EpIter:0.00\n",
      "| \u001b[0m 12      \u001b[0m | \u001b[0m 1.587   \u001b[0m | \u001b[0m 18.98   \u001b[0m | \u001b[0m-13.38   \u001b[0m | \u001b[0m 7.168   \u001b[0m | \u001b[0m-3.769   \u001b[0m | \u001b[0m 0.01195 \u001b[0m | \u001b[0m 55.66   \u001b[0m |\n",
      "Mu:0.57|Mu+:0.08|Beta:29.00|Sigma:58.00|Epsilon:5.59|EpIter:0.00\n",
      "| \u001b[0m 13      \u001b[0m | \u001b[0m 1.54    \u001b[0m | \u001b[0m 29.38   \u001b[0m | \u001b[0m-18.7    \u001b[0m | \u001b[0m 5.584   \u001b[0m | \u001b[0m-2.494   \u001b[0m | \u001b[0m 0.293   \u001b[0m | \u001b[0m 58.85   \u001b[0m |\n",
      "Mu:0.68|Mu+:0.02|Beta:23.00|Sigma:42.00|Epsilon:2.78|EpIter:0.00\n",
      "| \u001b[0m 14      \u001b[0m | \u001b[0m 1.684   \u001b[0m | \u001b[0m 23.25   \u001b[0m | \u001b[0m-25.62   \u001b[0m | \u001b[0m 2.715   \u001b[0m | \u001b[0m-4.092   \u001b[0m | \u001b[0m 0.732   \u001b[0m | \u001b[0m 42.57   \u001b[0m |\n",
      "Mu:0.62|Mu+:0.03|Beta:23.00|Sigma:14.00|Epsilon:3.24|EpIter:0.00\n",
      "| \u001b[95m 15      \u001b[0m | \u001b[95m 2.508   \u001b[0m | \u001b[95m 23.36   \u001b[0m | \u001b[95m-112.3   \u001b[0m | \u001b[95m 3.198   \u001b[0m | \u001b[95m-3.587   \u001b[0m | \u001b[95m 0.4815  \u001b[0m | \u001b[95m 14.07   \u001b[0m |\n",
      "Mu:0.41|Mu+:0.20|Beta:15.00|Sigma:21.00|Epsilon:3.64|EpIter:0.00\n",
      "| \u001b[0m 16      \u001b[0m | \u001b[0m 2.209   \u001b[0m | \u001b[0m 15.42   \u001b[0m | \u001b[0m-117.9   \u001b[0m | \u001b[0m 3.609   \u001b[0m | \u001b[0m-1.386   \u001b[0m | \u001b[0m-0.38    \u001b[0m | \u001b[0m 21.84   \u001b[0m |\n",
      "Mu:0.74|Mu+:0.01|Beta:21.00|Sigma:17.00|Epsilon:2.28|EpIter:0.00\n",
      "| \u001b[0m 17      \u001b[0m | \u001b[0m 1.684   \u001b[0m | \u001b[0m 21.19   \u001b[0m | \u001b[0m-109.3   \u001b[0m | \u001b[0m 2.171   \u001b[0m | \u001b[0m-4.194   \u001b[0m | \u001b[0m 1.047   \u001b[0m | \u001b[0m 17.44   \u001b[0m |\n",
      "Mu:0.40|Mu+:0.20|Beta:24.00|Sigma:12.00|Epsilon:5.68|EpIter:0.00\n",
      "| \u001b[0m 18      \u001b[0m | \u001b[0m 1.386   \u001b[0m | \u001b[0m 24.25   \u001b[0m | \u001b[0m-121.9   \u001b[0m | \u001b[0m 5.68    \u001b[0m | \u001b[0m-1.386   \u001b[0m | \u001b[0m-0.4055  \u001b[0m | \u001b[0m 12.29   \u001b[0m |\n",
      "Mu:0.72|Mu+:0.02|Beta:11.00|Sigma:11.00|Epsilon:11.34|EpIter:0.00\n",
      "| \u001b[0m 19      \u001b[0m | \u001b[0m 1.897   \u001b[0m | \u001b[0m 11.73   \u001b[0m | \u001b[0m-114.5   \u001b[0m | \u001b[0m 11.34   \u001b[0m | \u001b[0m-4.009   \u001b[0m | \u001b[0m 0.9609  \u001b[0m | \u001b[0m 11.12   \u001b[0m |\n",
      "Mu:0.80|Mu+:0.01|Beta:26.00|Sigma:5.00|Epsilon:4.33|EpIter:0.00\n",
      "| \u001b[0m 20      \u001b[0m | \u001b[0m 1.846   \u001b[0m | \u001b[0m 26.4    \u001b[0m | \u001b[0m-111.0   \u001b[0m | \u001b[0m 4.313   \u001b[0m | \u001b[0m-4.414   \u001b[0m | \u001b[0m 1.363   \u001b[0m | \u001b[0m 5.17    \u001b[0m |\n",
      "Mu:0.40|Mu+:0.20|Beta:32.00|Sigma:15.00|Epsilon:1.28|EpIter:0.00\n",
      "| \u001b[0m 21      \u001b[0m | \u001b[0m 0.2703  \u001b[0m | \u001b[0m 32.65   \u001b[0m | \u001b[0m-111.6   \u001b[0m | \u001b[0m 0.9516  \u001b[0m | \u001b[0m-1.386   \u001b[0m | \u001b[0m-0.4055  \u001b[0m | \u001b[0m 15.36   \u001b[0m |\n",
      "Mu:0.57|Mu+:0.18|Beta:12.00|Sigma:25.00|Epsilon:1.39|EpIter:0.00\n",
      "| \u001b[0m 22      \u001b[0m | \u001b[0m 0.3567  \u001b[0m | \u001b[0m 12.73   \u001b[0m | \u001b[0m-122.0   \u001b[0m | \u001b[0m 1.099   \u001b[0m | \u001b[0m-1.545   \u001b[0m | \u001b[0m 0.2702  \u001b[0m | \u001b[0m 25.33   \u001b[0m |\n",
      "Mu:0.80|Mu+:0.13|Beta:20.00|Sigma:54.00|Epsilon:2.43|EpIter:0.00\n",
      "| \u001b[0m 23      \u001b[0m | \u001b[0m 1.684   \u001b[0m | \u001b[0m 20.34   \u001b[0m | \u001b[0m-15.36   \u001b[0m | \u001b[0m 2.335   \u001b[0m | \u001b[0m-1.918   \u001b[0m | \u001b[0m 1.382   \u001b[0m | \u001b[0m 54.73   \u001b[0m |\n",
      "Mu:0.50|Mu+:0.05|Beta:24.00|Sigma:60.00|Epsilon:1.07|EpIter:0.00\n",
      "| \u001b[0m 24      \u001b[0m | \u001b[0m 0.5261  \u001b[0m | \u001b[0m 24.4    \u001b[0m | \u001b[0m-16.45   \u001b[0m | \u001b[0m 0.6431  \u001b[0m | \u001b[0m-2.949   \u001b[0m | \u001b[0m-0.001459\u001b[0m | \u001b[0m 60.67   \u001b[0m |\n",
      "Mu:0.76|Mu+:0.05|Beta:23.00|Sigma:56.00|Epsilon:2.60|EpIter:0.00\n",
      "| \u001b[0m 25      \u001b[0m | \u001b[0m 1.684   \u001b[0m | \u001b[0m 23.72   \u001b[0m | \u001b[0m-13.31   \u001b[0m | \u001b[0m 2.525   \u001b[0m | \u001b[0m-3.008   \u001b[0m | \u001b[0m 1.156   \u001b[0m | \u001b[0m 56.42   \u001b[0m |\n",
      "Mu:0.75|Mu+:0.16|Beta:30.00|Sigma:27.00|Epsilon:6.25|EpIter:0.00\n",
      "| \u001b[0m 26      \u001b[0m | \u001b[0m 1.743   \u001b[0m | \u001b[0m 30.01   \u001b[0m | \u001b[0m-111.2   \u001b[0m | \u001b[0m 6.244   \u001b[0m | \u001b[0m-1.69    \u001b[0m | \u001b[0m 1.104   \u001b[0m | \u001b[0m 27.02   \u001b[0m |\n",
      "Mu:0.45|Mu+:0.12|Beta:19.00|Sigma:59.00|Epsilon:7.46|EpIter:0.00\n",
      "| \u001b[0m 27      \u001b[0m | \u001b[0m 1.621   \u001b[0m | \u001b[0m 19.77   \u001b[0m | \u001b[0m-16.23   \u001b[0m | \u001b[0m 7.456   \u001b[0m | \u001b[0m-1.977   \u001b[0m | \u001b[0m-0.2126  \u001b[0m | \u001b[0m 59.7    \u001b[0m |\n",
      "Mu:0.44|Mu+:0.06|Beta:17.00|Sigma:23.00|Epsilon:5.50|EpIter:0.00\n",
      "| \u001b[0m 28      \u001b[0m | \u001b[0m 1.064   \u001b[0m | \u001b[0m 17.45   \u001b[0m | \u001b[0m-115.0   \u001b[0m | \u001b[0m 5.501   \u001b[0m | \u001b[0m-2.666   \u001b[0m | \u001b[0m-0.2527  \u001b[0m | \u001b[0m 23.91   \u001b[0m |\n",
      "Mu:0.48|Mu+:0.01|Beta:25.00|Sigma:12.00|Epsilon:3.80|EpIter:0.00\n",
      "| \u001b[0m 29      \u001b[0m | \u001b[0m 2.257   \u001b[0m | \u001b[0m 25.95   \u001b[0m | \u001b[0m-111.1   \u001b[0m | \u001b[0m 3.774   \u001b[0m | \u001b[0m-4.59    \u001b[0m | \u001b[0m-0.07174 \u001b[0m | \u001b[0m 12.82   \u001b[0m |\n",
      "Mu:0.40|Mu+:0.02|Beta:21.00|Sigma:54.00|Epsilon:5.51|EpIter:0.00\n",
      "| \u001b[0m 30      \u001b[0m | \u001b[0m 1.459   \u001b[0m | \u001b[0m 21.95   \u001b[0m | \u001b[0m-19.43   \u001b[0m | \u001b[0m 5.503   \u001b[0m | \u001b[0m-3.691   \u001b[0m | \u001b[0m-0.4055  \u001b[0m | \u001b[0m 54.41   \u001b[0m |\n",
      "Mu:0.61|Mu+:0.19|Beta:24.00|Sigma:8.00|Epsilon:1.72|EpIter:0.00\n",
      "| \u001b[0m 31      \u001b[0m | \u001b[0m 0.9445  \u001b[0m | \u001b[0m 24.6    \u001b[0m | \u001b[0m-112.4   \u001b[0m | \u001b[0m 1.527   \u001b[0m | \u001b[0m-1.475   \u001b[0m | \u001b[0m 0.4421  \u001b[0m | \u001b[0m 8.817   \u001b[0m |\n",
      "Mu:0.75|Mu+:0.05|Beta:15.00|Sigma:18.00|Epsilon:2.47|EpIter:0.00\n",
      "| \u001b[0m 32      \u001b[0m | \u001b[0m 1.684   \u001b[0m | \u001b[0m 15.53   \u001b[0m | \u001b[0m-120.8   \u001b[0m | \u001b[0m 2.38    \u001b[0m | \u001b[0m-3.029   \u001b[0m | \u001b[0m 1.083   \u001b[0m | \u001b[0m 18.33   \u001b[0m |\n",
      "Mu:0.68|Mu+:0.03|Beta:21.00|Sigma:16.00|Epsilon:6.37|EpIter:0.00\n",
      "| \u001b[0m 33      \u001b[0m | \u001b[0m 1.574   \u001b[0m | \u001b[0m 21.51   \u001b[0m | \u001b[0m-108.6   \u001b[0m | \u001b[0m 6.371   \u001b[0m | \u001b[0m-3.656   \u001b[0m | \u001b[0m 0.7437  \u001b[0m | \u001b[0m 16.08   \u001b[0m |\n",
      "Mu:0.78|Mu+:0.02|Beta:26.00|Sigma:6.00|Epsilon:11.10|EpIter:0.00\n",
      "| \u001b[0m 34      \u001b[0m | \u001b[0m 1.846   \u001b[0m | \u001b[0m 26.43   \u001b[0m | \u001b[0m-109.0   \u001b[0m | \u001b[0m 11.1    \u001b[0m | \u001b[0m-4.149   \u001b[0m | \u001b[0m 1.286   \u001b[0m | \u001b[0m 6.381   \u001b[0m |\n",
      "Mu:0.58|Mu+:0.06|Beta:27.00|Sigma:27.00|Epsilon:7.55|EpIter:0.00\n",
      "| \u001b[0m 35      \u001b[0m | \u001b[0m 1.087   \u001b[0m | \u001b[0m 27.74   \u001b[0m | \u001b[0m-104.5   \u001b[0m | \u001b[0m 7.546   \u001b[0m | \u001b[0m-2.836   \u001b[0m | \u001b[0m 0.3356  \u001b[0m | \u001b[0m 27.56   \u001b[0m |\n",
      "Mu:0.65|Mu+:0.05|Beta:18.00|Sigma:13.00|Epsilon:8.60|EpIter:0.00\n"
     ]
    },
    {
     "name": "stdout",
     "output_type": "stream",
     "text": [
      "| \u001b[0m 36      \u001b[0m | \u001b[0m 1.621   \u001b[0m | \u001b[0m 18.88   \u001b[0m | \u001b[0m-117.0   \u001b[0m | \u001b[0m 8.598   \u001b[0m | \u001b[0m-2.907   \u001b[0m | \u001b[0m 0.6112  \u001b[0m | \u001b[0m 13.58   \u001b[0m |\n",
      "Mu:0.40|Mu+:0.01|Beta:24.00|Sigma:15.00|Epsilon:5.73|EpIter:0.00\n",
      "| \u001b[0m 37      \u001b[0m | \u001b[0m 1.159   \u001b[0m | \u001b[0m 24.9    \u001b[0m | \u001b[0m-114.6   \u001b[0m | \u001b[0m 5.724   \u001b[0m | \u001b[0m-4.595   \u001b[0m | \u001b[0m-0.4055  \u001b[0m | \u001b[0m 15.98   \u001b[0m |\n",
      "Mu:0.73|Mu+:0.02|Beta:12.00|Sigma:11.00|Epsilon:6.15|EpIter:0.00\n",
      "| \u001b[0m 38      \u001b[0m | \u001b[0m 1.897   \u001b[0m | \u001b[0m 12.72   \u001b[0m | \u001b[0m-120.7   \u001b[0m | \u001b[0m 6.152   \u001b[0m | \u001b[0m-4.126   \u001b[0m | \u001b[0m 0.9871  \u001b[0m | \u001b[0m 11.91   \u001b[0m |\n",
      "Mu:0.65|Mu+:0.18|Beta:32.00|Sigma:5.00|Epsilon:6.89|EpIter:0.00\n",
      "| \u001b[0m 39      \u001b[0m | \u001b[0m 1.609   \u001b[0m | \u001b[0m 32.1    \u001b[0m | \u001b[0m-109.6   \u001b[0m | \u001b[0m 6.888   \u001b[0m | \u001b[0m-1.497   \u001b[0m | \u001b[0m 0.6076  \u001b[0m | \u001b[0m 5.107   \u001b[0m |\n",
      "Mu:0.75|Mu+:0.08|Beta:5.00|Sigma:14.00|Epsilon:7.91|EpIter:0.00\n",
      "| \u001b[0m 40      \u001b[0m | \u001b[0m 1.897   \u001b[0m | \u001b[0m 5.327   \u001b[0m | \u001b[0m-123.1   \u001b[0m | \u001b[0m 7.909   \u001b[0m | \u001b[0m-2.401   \u001b[0m | \u001b[0m 1.072   \u001b[0m | \u001b[0m 14.0    \u001b[0m |\n",
      "Mu:0.64|Mu+:0.01|Beta:11.00|Sigma:6.00|Epsilon:6.67|EpIter:0.00\n",
      "| \u001b[0m 41      \u001b[0m | \u001b[0m 1.699   \u001b[0m | \u001b[0m 11.04   \u001b[0m | \u001b[0m-119.8   \u001b[0m | \u001b[0m 6.665   \u001b[0m | \u001b[0m-4.44    \u001b[0m | \u001b[0m 0.5659  \u001b[0m | \u001b[0m 6.702   \u001b[0m |\n",
      "Mu:0.52|Mu+:0.11|Beta:4.00|Sigma:13.00|Epsilon:3.30|EpIter:0.00\n",
      "| \u001b[0m 42      \u001b[0m | \u001b[0m 2.351   \u001b[0m | \u001b[0m 4.516   \u001b[0m | \u001b[0m-117.9   \u001b[0m | \u001b[0m 3.266   \u001b[0m | \u001b[0m-2.068   \u001b[0m | \u001b[0m 0.08209 \u001b[0m | \u001b[0m 13.23   \u001b[0m |\n",
      "Mu:0.52|Mu+:0.07|Beta:6.00|Sigma:5.00|Epsilon:11.48|EpIter:0.00\n",
      "| \u001b[0m 43      \u001b[0m | \u001b[0m 1.674   \u001b[0m | \u001b[0m 6.113   \u001b[0m | \u001b[0m-112.9   \u001b[0m | \u001b[0m 11.48   \u001b[0m | \u001b[0m-2.514   \u001b[0m | \u001b[0m 0.08369 \u001b[0m | \u001b[0m 5.185   \u001b[0m |\n",
      "Mu:0.79|Mu+:0.03|Beta:10.00|Sigma:18.00|Epsilon:2.58|EpIter:0.00\n",
      "| \u001b[0m 44      \u001b[0m | \u001b[0m 1.684   \u001b[0m | \u001b[0m 10.6    \u001b[0m | \u001b[0m-110.9   \u001b[0m | \u001b[0m 2.504   \u001b[0m | \u001b[0m-3.491   \u001b[0m | \u001b[0m 1.316   \u001b[0m | \u001b[0m 18.31   \u001b[0m |\n",
      "Mu:0.59|Mu+:0.01|Beta:9.00|Sigma:12.00|Epsilon:2.18|EpIter:0.00\n",
      "| \u001b[0m 45      \u001b[0m | \u001b[0m 1.906   \u001b[0m | \u001b[0m 9.181   \u001b[0m | \u001b[0m-116.2   \u001b[0m | \u001b[0m 2.057   \u001b[0m | \u001b[0m-4.352   \u001b[0m | \u001b[0m 0.3797  \u001b[0m | \u001b[0m 12.06   \u001b[0m |\n",
      "Mu:0.79|Mu+:0.11|Beta:5.00|Sigma:7.00|Epsilon:3.94|EpIter:0.00\n",
      "| \u001b[0m 46      \u001b[0m | \u001b[0m 1.792   \u001b[0m | \u001b[0m 5.198   \u001b[0m | \u001b[0m-115.1   \u001b[0m | \u001b[0m 3.923   \u001b[0m | \u001b[0m-2.083   \u001b[0m | \u001b[0m 1.348   \u001b[0m | \u001b[0m 7.124   \u001b[0m |\n",
      "Mu:0.61|Mu+:0.03|Beta:17.00|Sigma:5.00|Epsilon:10.18|EpIter:0.00\n",
      "| \u001b[0m 47      \u001b[0m | \u001b[0m 2.219   \u001b[0m | \u001b[0m 17.53   \u001b[0m | \u001b[0m-109.5   \u001b[0m | \u001b[0m 10.18   \u001b[0m | \u001b[0m-3.469   \u001b[0m | \u001b[0m 0.4434  \u001b[0m | \u001b[0m 5.468   \u001b[0m |\n",
      "Mu:0.47|Mu+:0.05|Beta:16.00|Sigma:4.00|Epsilon:14.90|EpIter:0.00\n",
      "| \u001b[0m 48      \u001b[0m | \u001b[0m 1.345   \u001b[0m | \u001b[0m 16.96   \u001b[0m | \u001b[0m-114.2   \u001b[0m | \u001b[0m 14.9    \u001b[0m | \u001b[0m-3.048   \u001b[0m | \u001b[0m-0.1058  \u001b[0m | \u001b[0m 4.929   \u001b[0m |\n",
      "Mu:0.45|Mu+:0.16|Beta:14.00|Sigma:8.00|Epsilon:14.01|EpIter:0.00\n",
      "| \u001b[0m 49      \u001b[0m | \u001b[0m 1.232   \u001b[0m | \u001b[0m 14.05   \u001b[0m | \u001b[0m-105.2   \u001b[0m | \u001b[0m 14.01   \u001b[0m | \u001b[0m-1.673   \u001b[0m | \u001b[0m-0.1996  \u001b[0m | \u001b[0m 8.509   \u001b[0m |\n",
      "Mu:0.51|Mu+:0.06|Beta:5.00|Sigma:16.00|Epsilon:8.27|EpIter:0.00\n",
      "| \u001b[0m 50      \u001b[0m | \u001b[0m 1.043   \u001b[0m | \u001b[0m 5.589   \u001b[0m | \u001b[0m-114.4   \u001b[0m | \u001b[0m 8.271   \u001b[0m | \u001b[0m-2.783   \u001b[0m | \u001b[0m 0.02299 \u001b[0m | \u001b[0m 16.31   \u001b[0m |\n",
      "Mu:0.76|Mu+:0.01|Beta:25.00|Sigma:37.00|Epsilon:12.06|EpIter:0.00\n",
      "| \u001b[0m 51      \u001b[0m | \u001b[0m 1.897   \u001b[0m | \u001b[0m 25.6    \u001b[0m | \u001b[0m-27.02   \u001b[0m | \u001b[0m 12.06   \u001b[0m | \u001b[0m-4.476   \u001b[0m | \u001b[0m 1.134   \u001b[0m | \u001b[0m 37.72   \u001b[0m |\n",
      "Mu:0.61|Mu+:0.03|Beta:28.00|Sigma:35.00|Epsilon:8.94|EpIter:0.00\n",
      "| \u001b[0m 52      \u001b[0m | \u001b[0m 1.883   \u001b[0m | \u001b[0m 28.21   \u001b[0m | \u001b[0m-34.76   \u001b[0m | \u001b[0m 8.939   \u001b[0m | \u001b[0m-3.624   \u001b[0m | \u001b[0m 0.4355  \u001b[0m | \u001b[0m 35.18   \u001b[0m |\n",
      "Mu:0.61|Mu+:0.01|Beta:19.00|Sigma:2.00|Epsilon:10.37|EpIter:0.00\n",
      "| \u001b[0m 53      \u001b[0m | \u001b[0m-124.3   \u001b[0m | \u001b[0m 19.6    \u001b[0m | \u001b[0m-102.1   \u001b[0m | \u001b[0m 10.37   \u001b[0m | \u001b[0m-4.525   \u001b[0m | \u001b[0m 0.4532  \u001b[0m | \u001b[0m 2.751   \u001b[0m |\n",
      "Mu:0.71|Mu+:0.20|Beta:23.00|Sigma:16.00|Epsilon:4.52|EpIter:0.00\n",
      "| \u001b[0m 54      \u001b[0m | \u001b[0m 2.009   \u001b[0m | \u001b[0m 23.43   \u001b[0m | \u001b[0m-112.4   \u001b[0m | \u001b[0m 4.504   \u001b[0m | \u001b[0m-1.4     \u001b[0m | \u001b[0m 0.9108  \u001b[0m | \u001b[0m 16.39   \u001b[0m |\n",
      "Mu:0.46|Mu+:0.04|Beta:12.00|Sigma:12.00|Epsilon:10.36|EpIter:0.00\n",
      "| \u001b[0m 55      \u001b[0m | \u001b[0m 1.19    \u001b[0m | \u001b[0m 12.73   \u001b[0m | \u001b[0m-115.8   \u001b[0m | \u001b[0m 10.36   \u001b[0m | \u001b[0m-3.22    \u001b[0m | \u001b[0m-0.1452  \u001b[0m | \u001b[0m 12.36   \u001b[0m |\n",
      "Mu:0.62|Mu+:0.04|Beta:16.00|Sigma:5.00|Epsilon:8.04|EpIter:0.00\n",
      "| \u001b[0m 56      \u001b[0m | \u001b[0m 1.992   \u001b[0m | \u001b[0m 16.04   \u001b[0m | \u001b[0m-112.2   \u001b[0m | \u001b[0m 8.042   \u001b[0m | \u001b[0m-3.073   \u001b[0m | \u001b[0m 0.5057  \u001b[0m | \u001b[0m 5.888   \u001b[0m |\n",
      "Mu:0.54|Mu+:0.05|Beta:12.00|Sigma:9.00|Epsilon:6.35|EpIter:0.00\n",
      "| \u001b[0m 57      \u001b[0m | \u001b[0m 1.621   \u001b[0m | \u001b[0m 12.53   \u001b[0m | \u001b[0m-119.0   \u001b[0m | \u001b[0m 6.349   \u001b[0m | \u001b[0m-2.958   \u001b[0m | \u001b[0m 0.1724  \u001b[0m | \u001b[0m 9.628   \u001b[0m |\n",
      "Mu:0.50|Mu+:0.01|Beta:18.00|Sigma:55.00|Epsilon:2.65|EpIter:0.00\n",
      "| \u001b[0m 58      \u001b[0m | \u001b[0m 2.028   \u001b[0m | \u001b[0m 18.89   \u001b[0m | \u001b[0m-13.23   \u001b[0m | \u001b[0m 2.573   \u001b[0m | \u001b[0m-4.558   \u001b[0m | \u001b[0m-0.01185 \u001b[0m | \u001b[0m 55.79   \u001b[0m |\n",
      "Mu:0.61|Mu+:0.02|Beta:9.00|Sigma:7.00|Epsilon:8.67|EpIter:0.00\n",
      "| \u001b[0m 59      \u001b[0m | \u001b[0m 1.792   \u001b[0m | \u001b[0m 9.995   \u001b[0m | \u001b[0m-116.7   \u001b[0m | \u001b[0m 8.672   \u001b[0m | \u001b[0m-3.948   \u001b[0m | \u001b[0m 0.4628  \u001b[0m | \u001b[0m 7.168   \u001b[0m |\n",
      "Mu:0.68|Mu+:0.05|Beta:22.00|Sigma:16.00|Epsilon:4.04|EpIter:0.00\n",
      "| \u001b[0m 60      \u001b[0m | \u001b[0m 1.897   \u001b[0m | \u001b[0m 22.58   \u001b[0m | \u001b[0m-111.7   \u001b[0m | \u001b[0m 4.022   \u001b[0m | \u001b[0m-2.968   \u001b[0m | \u001b[0m 0.7441  \u001b[0m | \u001b[0m 16.99   \u001b[0m |\n",
      "Mu:0.53|Mu+:0.04|Beta:10.00|Sigma:9.00|Epsilon:3.50|EpIter:0.00\n",
      "| \u001b[0m 61      \u001b[0m | \u001b[0m 2.351   \u001b[0m | \u001b[0m 10.44   \u001b[0m | \u001b[0m-116.5   \u001b[0m | \u001b[0m 3.471   \u001b[0m | \u001b[0m-3.162   \u001b[0m | \u001b[0m 0.1331  \u001b[0m | \u001b[0m 9.913   \u001b[0m |\n",
      "=================================================================================================\n"
     ]
    }
   ],
   "source": [
    "optimizer.maximize(\n",
    "    init_points=10,\n",
    "    n_iter=50,\n",
    ")"
   ]
  },
  {
   "cell_type": "code",
   "execution_count": 62,
   "metadata": {},
   "outputs": [
    {
     "data": {
      "text/plain": [
       "{'target': 2.508437107032082,\n",
       " 'params': {'beta_sp': 23.356634221186727,\n",
       "  'epsilonIterate_logit': -112.265629909325,\n",
       "  'epsilon_sp': 3.1984711855744905,\n",
       "  'muIncr_logit': -3.5867661113338944,\n",
       "  'mu_logit': 0.4815207962727226,\n",
       "  'sigma_sp': 14.067138005550625}}"
      ]
     },
     "execution_count": 62,
     "metadata": {},
     "output_type": "execute_result"
    }
   ],
   "source": [
    "optimizer.max"
   ]
  },
  {
   "cell_type": "code",
   "execution_count": 63,
   "metadata": {
    "ExecuteTime": {
     "end_time": "2020-09-03T22:58:42.653746Z",
     "start_time": "2020-09-03T22:58:42.649916Z"
    }
   },
   "outputs": [
    {
     "data": {
      "text/plain": [
       "0.92473118"
      ]
     },
     "execution_count": 63,
     "metadata": {},
     "output_type": "execute_result"
    }
   ],
   "source": [
    "inv_logit(optimizer.max[\"target\"])"
   ]
  },
  {
   "cell_type": "code",
   "execution_count": 64,
   "metadata": {
    "ExecuteTime": {
     "end_time": "2020-09-03T22:59:56.414823Z",
     "start_time": "2020-09-03T22:59:56.412477Z"
    }
   },
   "outputs": [],
   "source": [
    "params=optimizer.max[\"params\"]"
   ]
  },
  {
   "cell_type": "code",
   "execution_count": 65,
   "metadata": {
    "ExecuteTime": {
     "end_time": "2020-09-03T23:00:39.452694Z",
     "start_time": "2020-09-03T23:00:39.449279Z"
    }
   },
   "outputs": [
    {
     "data": {
      "text/plain": [
       "23.356634221258563"
      ]
     },
     "execution_count": 65,
     "metadata": {},
     "output_type": "execute_result"
    }
   ],
   "source": [
    "softplus(params[\"beta_sp\"])"
   ]
  },
  {
   "cell_type": "code",
   "execution_count": 66,
   "metadata": {
    "ExecuteTime": {
     "end_time": "2020-09-03T23:01:09.671719Z",
     "start_time": "2020-09-03T23:01:09.668333Z"
    }
   },
   "outputs": [
    {
     "data": {
      "text/plain": [
       "14.06713878308468"
      ]
     },
     "execution_count": 66,
     "metadata": {},
     "output_type": "execute_result"
    }
   ],
   "source": [
    "softplus(params[\"sigma_sp\"])"
   ]
  },
  {
   "cell_type": "code",
   "execution_count": 67,
   "metadata": {
    "ExecuteTime": {
     "end_time": "2020-09-04T01:35:00.233453Z",
     "start_time": "2020-09-04T01:35:00.230360Z"
    }
   },
   "outputs": [
    {
     "data": {
      "text/plain": [
       "0.6181069242988072"
      ]
     },
     "execution_count": 67,
     "metadata": {},
     "output_type": "execute_result"
    }
   ],
   "source": [
    "inv_logit(params[\"mu_logit\"])"
   ]
  },
  {
   "cell_type": "code",
   "execution_count": 68,
   "metadata": {
    "ExecuteTime": {
     "end_time": "2020-09-04T01:35:28.881809Z",
     "start_time": "2020-09-04T01:35:28.878641Z"
    }
   },
   "outputs": [
    {
     "data": {
      "text/plain": [
       "0.026941768545437752"
      ]
     },
     "execution_count": 68,
     "metadata": {},
     "output_type": "execute_result"
    }
   ],
   "source": [
    "inv_logit(params[\"muIncr_logit\"])"
   ]
  },
  {
   "cell_type": "code",
   "execution_count": 69,
   "metadata": {
    "ExecuteTime": {
     "end_time": "2020-09-04T01:36:46.943597Z",
     "start_time": "2020-09-04T01:36:46.940247Z"
    }
   },
   "outputs": [
    {
     "data": {
      "text/plain": [
       "1.7524735288296925e-49"
      ]
     },
     "execution_count": 69,
     "metadata": {},
     "output_type": "execute_result"
    }
   ],
   "source": [
    "inv_logit(params[\"epsilonIterate_logit\"])"
   ]
  },
  {
   "cell_type": "code",
   "execution_count": 70,
   "metadata": {
    "ExecuteTime": {
     "end_time": "2020-09-04T01:36:13.729976Z",
     "start_time": "2020-09-04T01:36:13.726798Z"
    }
   },
   "outputs": [
    {
     "data": {
      "text/plain": [
       "3.2384844398574497"
      ]
     },
     "execution_count": 70,
     "metadata": {},
     "output_type": "execute_result"
    }
   ],
   "source": [
    "softplus(params[\"epsilon_sp\"])"
   ]
  },
  {
   "cell_type": "code",
   "execution_count": 71,
   "metadata": {},
   "outputs": [
    {
     "name": "stdout",
     "output_type": "stream",
     "text": [
      "\n",
      ">>>>>>>>>>>>\n",
      "Starting Iteration mu= 0.618\n",
      "Starting Iteration epsilon= 3.238\n",
      "Running NewMatrix Jar!\n",
      " Single-Reference Blocks = 1\n",
      "\n",
      " Multi-Reference Blocks = 223\n",
      "NewMatrix Iterateblocks Total Time = 0.34222076553851366\n",
      "\n",
      "\n",
      ">>>>>>>>>>>>\n",
      "Starting Iteration mu= 0.6449\n",
      "Starting Iteration epsilon= 3.238\n",
      "Running NewMatrix Jar!\n",
      " Single-Reference Blocks = 1\n",
      "\n",
      " Multi-Reference Blocks = 53\n",
      "NewMatrix Iterateblocks Total Time = 0.21263192128390074\n",
      "\n",
      "\n",
      ">>>>>>>>>>>>\n",
      "Starting Iteration mu= 0.6718000000000001\n",
      "Starting Iteration epsilon= 3.238\n",
      "Running NewMatrix Jar!\n",
      " Single-Reference Blocks = 1\n",
      "\n",
      " Multi-Reference Blocks = 53\n",
      "NewMatrix Iterateblocks Total Time = 0.21001723781228065\n",
      "\n",
      "\n",
      ">>>>>>>>>>>>\n",
      "Starting Iteration mu= 0.6987000000000001\n",
      "Starting Iteration epsilon= 3.238\n",
      "Running NewMatrix Jar!\n",
      " Single-Reference Blocks = 1\n",
      "\n",
      " Multi-Reference Blocks = 53\n",
      "NewMatrix Iterateblocks Total Time = 0.20621904358267784\n",
      "\n",
      "\n",
      ">>>>>>>>>>>>\n",
      "Starting Iteration mu= 0.7256000000000001\n",
      "Starting Iteration epsilon= 3.238\n",
      "Running NewMatrix Jar!\n",
      " Single-Reference Blocks = 1\n",
      "\n",
      " Multi-Reference Blocks = 52\n",
      "NewMatrix Iterateblocks Total Time = 0.2010534517467022\n",
      "\n",
      "\n",
      ">>>>>>>>>>>>\n",
      "Starting Iteration mu= 0.7525000000000002\n",
      "Starting Iteration epsilon= 3.238\n",
      "Running NewMatrix Jar!\n",
      " Single-Reference Blocks = 1\n",
      "\n",
      " Multi-Reference Blocks = 52\n",
      "NewMatrix Iterateblocks Total Time = 0.20643394626677036\n",
      "\n",
      "\n",
      ">>>>>>>>>>>>\n",
      "Starting Iteration mu= 0.7794000000000002\n",
      "Starting Iteration epsilon= 3.238\n",
      "Running NewMatrix Jar!\n",
      " Single-Reference Blocks = 1\n",
      "\n",
      " Multi-Reference Blocks = 24\n",
      "NewMatrix Iterateblocks Total Time = 0.14770481642335653\n",
      "\n",
      "\n",
      ">>>>>>>>>>>>\n",
      "Starting Iteration mu= 0.8063000000000002\n",
      "Starting Iteration epsilon= 3.238\n",
      "Running NewMatrix Jar!\n",
      " Single-Reference Blocks = 1\n",
      "\n",
      " Multi-Reference Blocks = 24\n",
      "NewMatrix Iterateblocks Total Time = 0.14702245872467756\n",
      "\n",
      "\n",
      ">>>>>>>>>>>>\n",
      "Starting Iteration mu= 0.8332000000000003\n",
      "Starting Iteration epsilon= 3.238\n",
      "Running NewMatrix Jar!\n",
      " Single-Reference Blocks = 1\n",
      "\n",
      " Multi-Reference Blocks = 24\n",
      "NewMatrix Iterateblocks Total Time = 0.1475702589377761\n",
      "\n",
      "\n",
      ">>>>>>>>>>>>\n",
      "Starting Iteration mu= 0.8601000000000003\n",
      "Starting Iteration epsilon= 3.238\n",
      "Running NewMatrix Jar!\n",
      " Single-Reference Blocks = 1\n",
      "\n",
      " Multi-Reference Blocks = 13\n",
      "NewMatrix Iterateblocks Total Time = 0.13786185532808304\n",
      "\n",
      "\n",
      ">>>>>>>>>>>>\n",
      "Starting Iteration mu= 0.8870000000000003\n",
      "Starting Iteration epsilon= 3.238\n",
      "Running NewMatrix Jar!\n",
      " Single-Reference Blocks = 1\n",
      "\n",
      " Multi-Reference Blocks = 13\n",
      "NewMatrix Iterateblocks Total Time = 0.13517081923782825\n",
      "\n",
      "Precision = TP / (TP + FP) ......................... = 0.95555556\n",
      "Recall = TP / (TP + FN) ............................ = 0.89583333\n",
      "F-Measure .......................................... = 0.92473118\n"
     ]
    },
    {
     "data": {
      "text/plain": [
       "0.92473118"
      ]
     },
     "execution_count": 71,
     "metadata": {},
     "output_type": "execute_result"
    }
   ],
   "source": [
    "entropy_F1(mu=0.618,\n",
    "           muIncr=0.0269,\n",
    "           beta=23,\n",
    "           sigma=14,\n",
    "           epsilon=3.238,\n",
    "           epsilonIterate=0)"
   ]
  }
 ],
 "metadata": {
  "kernelspec": {
   "display_name": "Python 3",
   "language": "python",
   "name": "python3"
  },
  "language_info": {
   "codemirror_mode": {
    "name": "ipython",
    "version": 3
   },
   "file_extension": ".py",
   "mimetype": "text/x-python",
   "name": "python",
   "nbconvert_exporter": "python",
   "pygments_lexer": "ipython3",
   "version": "3.7.4"
  },
  "toc": {
   "base_numbering": 1,
   "nav_menu": {},
   "number_sections": true,
   "sideBar": true,
   "skip_h1_title": false,
   "title_cell": "Table of Contents",
   "title_sidebar": "Contents",
   "toc_cell": false,
   "toc_position": {},
   "toc_section_display": true,
   "toc_window_display": false
  },
  "varInspector": {
   "cols": {
    "lenName": 16,
    "lenType": 16,
    "lenVar": 40
   },
   "kernels_config": {
    "python": {
     "delete_cmd_postfix": "",
     "delete_cmd_prefix": "del ",
     "library": "var_list.py",
     "varRefreshCmd": "print(var_dic_list())"
    },
    "r": {
     "delete_cmd_postfix": ") ",
     "delete_cmd_prefix": "rm(",
     "library": "var_list.r",
     "varRefreshCmd": "cat(var_dic_list()) "
    }
   },
   "types_to_exclude": [
    "module",
    "function",
    "builtin_function_or_method",
    "instance",
    "_Feature"
   ],
   "window_display": false
  }
 },
 "nbformat": 4,
 "nbformat_minor": 2
}
